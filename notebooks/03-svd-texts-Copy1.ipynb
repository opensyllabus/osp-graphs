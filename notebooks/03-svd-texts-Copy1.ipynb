{
 "cells": [
  {
   "cell_type": "code",
   "execution_count": 1,
   "metadata": {},
   "outputs": [],
   "source": [
    "import matplotlib.pyplot as plt\n",
    "%matplotlib inline"
   ]
  },
  {
   "cell_type": "code",
   "execution_count": 65,
   "metadata": {},
   "outputs": [],
   "source": [
    "import numpy as np\n",
    "import pandas as pd\n",
    "\n",
    "from scipy.sparse import lil_matrix\n",
    "from sklearn.decomposition import TruncatedSVD\n",
    "from annoy import AnnoyIndex\n",
    "\n",
    "from sqlalchemy.dialects.postgresql import array_agg\n",
    "from sqlalchemy.sql import functions as func\n",
    "\n",
    "from osp_graphs.v1_db import session, Text, Field, Subfield, SubfieldDocument, Citation, Document"
   ]
  },
  {
   "cell_type": "code",
   "execution_count": 3,
   "metadata": {},
   "outputs": [],
   "source": [
    "count = func.count(Citation.text_id)\n",
    "\n",
    "texts = (session\n",
    "    .query(Text.id, Text.title, Text.authors, array_agg(Citation.document_id))\n",
    "    .join(Citation)\n",
    "    .filter(Text.valid==True)\n",
    "    .filter(Text.display==True)\n",
    "    .group_by(Text.id)\n",
    "    .order_by(count.desc())\n",
    "    .limit(1000)\n",
    "    .all())"
   ]
  },
  {
   "cell_type": "code",
   "execution_count": 71,
   "metadata": {},
   "outputs": [],
   "source": [
    "rows = [\n",
    "    (t[0], t[1].strip('/ '), t[2][0])\n",
    "    for t in texts\n",
    "]\n",
    "\n",
    "df = pd.DataFrame(rows, columns=('id', 'title', 'author'))"
   ]
  },
  {
   "cell_type": "code",
   "execution_count": 81,
   "metadata": {},
   "outputs": [
    {
     "data": {
      "text/html": [
       "<div>\n",
       "<style scoped>\n",
       "    .dataframe tbody tr th:only-of-type {\n",
       "        vertical-align: middle;\n",
       "    }\n",
       "\n",
       "    .dataframe tbody tr th {\n",
       "        vertical-align: top;\n",
       "    }\n",
       "\n",
       "    .dataframe thead th {\n",
       "        text-align: right;\n",
       "    }\n",
       "</style>\n",
       "<table border=\"1\" class=\"dataframe\">\n",
       "  <thead>\n",
       "    <tr style=\"text-align: right;\">\n",
       "      <th></th>\n",
       "      <th>id</th>\n",
       "      <th>title</th>\n",
       "      <th>author</th>\n",
       "    </tr>\n",
       "  </thead>\n",
       "  <tbody>\n",
       "    <tr>\n",
       "      <th>285</th>\n",
       "      <td>203595</td>\n",
       "      <td>The sun also rises.</td>\n",
       "      <td>Hemingway, Ernest, 1899-1961.</td>\n",
       "    </tr>\n",
       "    <tr>\n",
       "      <th>611</th>\n",
       "      <td>203533</td>\n",
       "      <td>A farewell to arms.</td>\n",
       "      <td>Hemingway, Ernest, 1899-1961.</td>\n",
       "    </tr>\n",
       "    <tr>\n",
       "      <th>763</th>\n",
       "      <td>203507</td>\n",
       "      <td>Short stories.</td>\n",
       "      <td>Hemingway, Ernest, 1899-1961</td>\n",
       "    </tr>\n",
       "    <tr>\n",
       "      <th>811</th>\n",
       "      <td>1409303</td>\n",
       "      <td>In our time</td>\n",
       "      <td>Hemingway, Ernest, 1899-1961.</td>\n",
       "    </tr>\n",
       "  </tbody>\n",
       "</table>\n",
       "</div>"
      ],
      "text/plain": [
       "          id                title                         author\n",
       "285   203595  The sun also rises.  Hemingway, Ernest, 1899-1961.\n",
       "611   203533  A farewell to arms.  Hemingway, Ernest, 1899-1961.\n",
       "763   203507       Short stories.   Hemingway, Ernest, 1899-1961\n",
       "811  1409303          In our time  Hemingway, Ernest, 1899-1961."
      ]
     },
     "execution_count": 81,
     "metadata": {},
     "output_type": "execute_result"
    }
   ],
   "source": [
    "df[df.author.str.contains('Hemingway')]"
   ]
  },
  {
   "cell_type": "code",
   "execution_count": 83,
   "metadata": {},
   "outputs": [
    {
     "data": {
      "text/html": [
       "<div>\n",
       "<style scoped>\n",
       "    .dataframe tbody tr th:only-of-type {\n",
       "        vertical-align: middle;\n",
       "    }\n",
       "\n",
       "    .dataframe tbody tr th {\n",
       "        vertical-align: top;\n",
       "    }\n",
       "\n",
       "    .dataframe thead th {\n",
       "        text-align: right;\n",
       "    }\n",
       "</style>\n",
       "<table border=\"1\" class=\"dataframe\">\n",
       "  <thead>\n",
       "    <tr style=\"text-align: right;\">\n",
       "      <th></th>\n",
       "      <th>id</th>\n",
       "      <th>title</th>\n",
       "      <th>author</th>\n",
       "    </tr>\n",
       "  </thead>\n",
       "  <tbody>\n",
       "    <tr>\n",
       "      <th>35</th>\n",
       "      <td>853902</td>\n",
       "      <td>The great Gatsby</td>\n",
       "      <td>Fitzgerald, F. Scott (Francis Scott), 1896-1940.</td>\n",
       "    </tr>\n",
       "  </tbody>\n",
       "</table>\n",
       "</div>"
      ],
      "text/plain": [
       "        id             title                                            author\n",
       "35  853902  The great Gatsby  Fitzgerald, F. Scott (Francis Scott), 1896-1940."
      ]
     },
     "execution_count": 83,
     "metadata": {},
     "output_type": "execute_result"
    }
   ],
   "source": [
    "df[df.author.str.contains('Fitzgerald')]"
   ]
  },
  {
   "cell_type": "code",
   "execution_count": 91,
   "metadata": {},
   "outputs": [
    {
     "data": {
      "text/html": [
       "<div>\n",
       "<style scoped>\n",
       "    .dataframe tbody tr th:only-of-type {\n",
       "        vertical-align: middle;\n",
       "    }\n",
       "\n",
       "    .dataframe tbody tr th {\n",
       "        vertical-align: top;\n",
       "    }\n",
       "\n",
       "    .dataframe thead th {\n",
       "        text-align: right;\n",
       "    }\n",
       "</style>\n",
       "<table border=\"1\" class=\"dataframe\">\n",
       "  <thead>\n",
       "    <tr style=\"text-align: right;\">\n",
       "      <th></th>\n",
       "      <th>id</th>\n",
       "      <th>title</th>\n",
       "      <th>author</th>\n",
       "    </tr>\n",
       "  </thead>\n",
       "  <tbody>\n",
       "    <tr>\n",
       "      <th>9</th>\n",
       "      <td>607094</td>\n",
       "      <td>Hamlet</td>\n",
       "      <td>Shakespeare, William, 1564-1616.</td>\n",
       "    </tr>\n",
       "    <tr>\n",
       "      <th>44</th>\n",
       "      <td>424130</td>\n",
       "      <td>The tempest</td>\n",
       "      <td>Shakespeare, William, 1564-1616.</td>\n",
       "    </tr>\n",
       "    <tr>\n",
       "      <th>60</th>\n",
       "      <td>967789</td>\n",
       "      <td>Henry V</td>\n",
       "      <td>Shakespeare, William, 1564-1616.</td>\n",
       "    </tr>\n",
       "    <tr>\n",
       "      <th>74</th>\n",
       "      <td>426985</td>\n",
       "      <td>Macbeth</td>\n",
       "      <td>Shakespeare, William, 1564-1616.</td>\n",
       "    </tr>\n",
       "    <tr>\n",
       "      <th>76</th>\n",
       "      <td>957708</td>\n",
       "      <td>Othello.</td>\n",
       "      <td>Shakespeare, William, 1564-1616.</td>\n",
       "    </tr>\n",
       "    <tr>\n",
       "      <th>99</th>\n",
       "      <td>734648</td>\n",
       "      <td>King Lear.</td>\n",
       "      <td>Shakespeare, William, 1564-1616.</td>\n",
       "    </tr>\n",
       "    <tr>\n",
       "      <th>136</th>\n",
       "      <td>3917541</td>\n",
       "      <td>Midsummer N. Dream</td>\n",
       "      <td>Shakespeare, William, 1564-1616.</td>\n",
       "    </tr>\n",
       "    <tr>\n",
       "      <th>138</th>\n",
       "      <td>564864</td>\n",
       "      <td>Romeo and Juliet</td>\n",
       "      <td>Shakespeare, William, 1564-1616.</td>\n",
       "    </tr>\n",
       "    <tr>\n",
       "      <th>143</th>\n",
       "      <td>1015949</td>\n",
       "      <td>The complete works</td>\n",
       "      <td>Shakespeare, William, 1564-1616.</td>\n",
       "    </tr>\n",
       "    <tr>\n",
       "      <th>216</th>\n",
       "      <td>612357</td>\n",
       "      <td>Twelfth night</td>\n",
       "      <td>Shakespeare, William, 1564-1616.</td>\n",
       "    </tr>\n",
       "    <tr>\n",
       "      <th>258</th>\n",
       "      <td>607076</td>\n",
       "      <td>The merchant of Venice</td>\n",
       "      <td>Shakespeare, William, 1564-1616.</td>\n",
       "    </tr>\n",
       "    <tr>\n",
       "      <th>384</th>\n",
       "      <td>1230019</td>\n",
       "      <td>Julius Caesar</td>\n",
       "      <td>Shakespeare, William, 1564-1616.</td>\n",
       "    </tr>\n",
       "    <tr>\n",
       "      <th>455</th>\n",
       "      <td>1193112</td>\n",
       "      <td>Henry IV,</td>\n",
       "      <td>Shakespeare, William, 1564-1616.</td>\n",
       "    </tr>\n",
       "    <tr>\n",
       "      <th>491</th>\n",
       "      <td>607062</td>\n",
       "      <td>As you like it.</td>\n",
       "      <td>Shakespeare, William, 1564-1616.</td>\n",
       "    </tr>\n",
       "    <tr>\n",
       "      <th>605</th>\n",
       "      <td>34743</td>\n",
       "      <td>Much ado about nothing.</td>\n",
       "      <td>Shakespeare, William, 1564-1616.</td>\n",
       "    </tr>\n",
       "    <tr>\n",
       "      <th>613</th>\n",
       "      <td>1278338</td>\n",
       "      <td>Richard III</td>\n",
       "      <td>Shakespeare, William, 1564-1616.</td>\n",
       "    </tr>\n",
       "    <tr>\n",
       "      <th>673</th>\n",
       "      <td>607058</td>\n",
       "      <td>The taming of the shrew,</td>\n",
       "      <td>Shakespeare, William, 1564-1616.</td>\n",
       "    </tr>\n",
       "    <tr>\n",
       "      <th>730</th>\n",
       "      <td>1374532</td>\n",
       "      <td>Richard II</td>\n",
       "      <td>Shakespeare, William, 1564-1616.</td>\n",
       "    </tr>\n",
       "    <tr>\n",
       "      <th>841</th>\n",
       "      <td>607054</td>\n",
       "      <td>Measure for measure,</td>\n",
       "      <td>Shakespeare, William, 1564-1616.</td>\n",
       "    </tr>\n",
       "  </tbody>\n",
       "</table>\n",
       "</div>"
      ],
      "text/plain": [
       "          id                     title                            author\n",
       "9     607094                    Hamlet  Shakespeare, William, 1564-1616.\n",
       "44    424130               The tempest  Shakespeare, William, 1564-1616.\n",
       "60    967789                   Henry V  Shakespeare, William, 1564-1616.\n",
       "74    426985                   Macbeth  Shakespeare, William, 1564-1616.\n",
       "76    957708                  Othello.  Shakespeare, William, 1564-1616.\n",
       "99    734648                King Lear.  Shakespeare, William, 1564-1616.\n",
       "136  3917541        Midsummer N. Dream  Shakespeare, William, 1564-1616.\n",
       "138   564864          Romeo and Juliet  Shakespeare, William, 1564-1616.\n",
       "143  1015949        The complete works  Shakespeare, William, 1564-1616.\n",
       "216   612357             Twelfth night  Shakespeare, William, 1564-1616.\n",
       "258   607076    The merchant of Venice  Shakespeare, William, 1564-1616.\n",
       "384  1230019             Julius Caesar  Shakespeare, William, 1564-1616.\n",
       "455  1193112                 Henry IV,  Shakespeare, William, 1564-1616.\n",
       "491   607062           As you like it.  Shakespeare, William, 1564-1616.\n",
       "605    34743   Much ado about nothing.  Shakespeare, William, 1564-1616.\n",
       "613  1278338               Richard III  Shakespeare, William, 1564-1616.\n",
       "673   607058  The taming of the shrew,  Shakespeare, William, 1564-1616.\n",
       "730  1374532                Richard II  Shakespeare, William, 1564-1616.\n",
       "841   607054      Measure for measure,  Shakespeare, William, 1564-1616."
      ]
     },
     "execution_count": 91,
     "metadata": {},
     "output_type": "execute_result"
    }
   ],
   "source": [
    "df[df.author.str.contains('Shakespeare')]"
   ]
  },
  {
   "cell_type": "code",
   "execution_count": 97,
   "metadata": {},
   "outputs": [
    {
     "data": {
      "text/html": [
       "<div>\n",
       "<style scoped>\n",
       "    .dataframe tbody tr th:only-of-type {\n",
       "        vertical-align: middle;\n",
       "    }\n",
       "\n",
       "    .dataframe tbody tr th {\n",
       "        vertical-align: top;\n",
       "    }\n",
       "\n",
       "    .dataframe thead th {\n",
       "        text-align: right;\n",
       "    }\n",
       "</style>\n",
       "<table border=\"1\" class=\"dataframe\">\n",
       "  <thead>\n",
       "    <tr style=\"text-align: right;\">\n",
       "      <th></th>\n",
       "      <th>id</th>\n",
       "      <th>title</th>\n",
       "      <th>author</th>\n",
       "    </tr>\n",
       "  </thead>\n",
       "  <tbody>\n",
       "    <tr>\n",
       "      <th>2</th>\n",
       "      <td>810087</td>\n",
       "      <td>The Communist manifesto</td>\n",
       "      <td>Marx, Karl, 1818-1883.</td>\n",
       "    </tr>\n",
       "    <tr>\n",
       "      <th>43</th>\n",
       "      <td>5953255</td>\n",
       "      <td>Capital,</td>\n",
       "      <td>Marx, Karl, 1818-1883.</td>\n",
       "    </tr>\n",
       "    <tr>\n",
       "      <th>158</th>\n",
       "      <td>1397176</td>\n",
       "      <td>The German ideology</td>\n",
       "      <td>Marx, Karl, 1818-1883.</td>\n",
       "    </tr>\n",
       "    <tr>\n",
       "      <th>232</th>\n",
       "      <td>148644</td>\n",
       "      <td>Manifesto of the Communist party,</td>\n",
       "      <td>Marx, Karl, 1818-1883.</td>\n",
       "    </tr>\n",
       "    <tr>\n",
       "      <th>461</th>\n",
       "      <td>547464</td>\n",
       "      <td>Selected writings</td>\n",
       "      <td>Marx, Karl, 1818-1883.</td>\n",
       "    </tr>\n",
       "  </tbody>\n",
       "</table>\n",
       "</div>"
      ],
      "text/plain": [
       "          id                              title                  author\n",
       "2     810087            The Communist manifesto  Marx, Karl, 1818-1883.\n",
       "43   5953255                           Capital,  Marx, Karl, 1818-1883.\n",
       "158  1397176                The German ideology  Marx, Karl, 1818-1883.\n",
       "232   148644  Manifesto of the Communist party,  Marx, Karl, 1818-1883.\n",
       "461   547464                  Selected writings  Marx, Karl, 1818-1883."
      ]
     },
     "execution_count": 97,
     "metadata": {},
     "output_type": "execute_result"
    }
   ],
   "source": [
    "df[df.author.str.contains('Marx')]"
   ]
  },
  {
   "cell_type": "code",
   "execution_count": 96,
   "metadata": {},
   "outputs": [
    {
     "data": {
      "text/html": [
       "<div>\n",
       "<style scoped>\n",
       "    .dataframe tbody tr th:only-of-type {\n",
       "        vertical-align: middle;\n",
       "    }\n",
       "\n",
       "    .dataframe tbody tr th {\n",
       "        vertical-align: top;\n",
       "    }\n",
       "\n",
       "    .dataframe thead th {\n",
       "        text-align: right;\n",
       "    }\n",
       "</style>\n",
       "<table border=\"1\" class=\"dataframe\">\n",
       "  <thead>\n",
       "    <tr style=\"text-align: right;\">\n",
       "      <th></th>\n",
       "      <th>id</th>\n",
       "      <th>title</th>\n",
       "      <th>author</th>\n",
       "    </tr>\n",
       "  </thead>\n",
       "  <tbody>\n",
       "    <tr>\n",
       "      <th>336</th>\n",
       "      <td>2149839</td>\n",
       "      <td>Postmodernism, or, The cultural logic of late ...</td>\n",
       "      <td>Jameson, Fredric.</td>\n",
       "    </tr>\n",
       "  </tbody>\n",
       "</table>\n",
       "</div>"
      ],
      "text/plain": [
       "          id                                              title  \\\n",
       "336  2149839  Postmodernism, or, The cultural logic of late ...   \n",
       "\n",
       "                author  \n",
       "336  Jameson, Fredric.  "
      ]
     },
     "execution_count": 96,
     "metadata": {},
     "output_type": "execute_result"
    }
   ],
   "source": [
    "df[df.author.str.contains('Jameson')]"
   ]
  },
  {
   "cell_type": "code",
   "execution_count": 102,
   "metadata": {},
   "outputs": [
    {
     "data": {
      "text/html": [
       "<div>\n",
       "<style scoped>\n",
       "    .dataframe tbody tr th:only-of-type {\n",
       "        vertical-align: middle;\n",
       "    }\n",
       "\n",
       "    .dataframe tbody tr th {\n",
       "        vertical-align: top;\n",
       "    }\n",
       "\n",
       "    .dataframe thead th {\n",
       "        text-align: right;\n",
       "    }\n",
       "</style>\n",
       "<table border=\"1\" class=\"dataframe\">\n",
       "  <thead>\n",
       "    <tr style=\"text-align: right;\">\n",
       "      <th></th>\n",
       "      <th>id</th>\n",
       "      <th>title</th>\n",
       "      <th>author</th>\n",
       "    </tr>\n",
       "  </thead>\n",
       "  <tbody>\n",
       "    <tr>\n",
       "      <th>14</th>\n",
       "      <td>2593372</td>\n",
       "      <td>Heart of darkness</td>\n",
       "      <td>Conrad, Joseph, 1857-1924.</td>\n",
       "    </tr>\n",
       "    <tr>\n",
       "      <th>873</th>\n",
       "      <td>3608293</td>\n",
       "      <td>Typhoon</td>\n",
       "      <td>Conrad, Joseph, 1857-1924.</td>\n",
       "    </tr>\n",
       "  </tbody>\n",
       "</table>\n",
       "</div>"
      ],
      "text/plain": [
       "          id              title                      author\n",
       "14   2593372  Heart of darkness  Conrad, Joseph, 1857-1924.\n",
       "873  3608293            Typhoon  Conrad, Joseph, 1857-1924."
      ]
     },
     "execution_count": 102,
     "metadata": {},
     "output_type": "execute_result"
    }
   ],
   "source": [
    "df[df.author.str.contains('Conrad')]"
   ]
  },
  {
   "cell_type": "code",
   "execution_count": 106,
   "metadata": {},
   "outputs": [
    {
     "data": {
      "text/html": [
       "<div>\n",
       "<style scoped>\n",
       "    .dataframe tbody tr th:only-of-type {\n",
       "        vertical-align: middle;\n",
       "    }\n",
       "\n",
       "    .dataframe tbody tr th {\n",
       "        vertical-align: top;\n",
       "    }\n",
       "\n",
       "    .dataframe thead th {\n",
       "        text-align: right;\n",
       "    }\n",
       "</style>\n",
       "<table border=\"1\" class=\"dataframe\">\n",
       "  <thead>\n",
       "    <tr style=\"text-align: right;\">\n",
       "      <th></th>\n",
       "      <th>id</th>\n",
       "      <th>title</th>\n",
       "      <th>author</th>\n",
       "    </tr>\n",
       "  </thead>\n",
       "  <tbody>\n",
       "    <tr>\n",
       "      <th>32</th>\n",
       "      <td>2595909</td>\n",
       "      <td>C : how to program</td>\n",
       "      <td>Deitel, Harvey M., 1945-</td>\n",
       "    </tr>\n",
       "    <tr>\n",
       "      <th>316</th>\n",
       "      <td>3014534</td>\n",
       "      <td>Java : how to program</td>\n",
       "      <td>Deitel, Paul J.</td>\n",
       "    </tr>\n",
       "    <tr>\n",
       "      <th>371</th>\n",
       "      <td>9643576</td>\n",
       "      <td>Java.</td>\n",
       "      <td>Deitel, Paul J.</td>\n",
       "    </tr>\n",
       "  </tbody>\n",
       "</table>\n",
       "</div>"
      ],
      "text/plain": [
       "          id                  title                    author\n",
       "32   2595909     C : how to program  Deitel, Harvey M., 1945-\n",
       "316  3014534  Java : how to program           Deitel, Paul J.\n",
       "371  9643576                  Java.           Deitel, Paul J."
      ]
     },
     "execution_count": 106,
     "metadata": {},
     "output_type": "execute_result"
    }
   ],
   "source": [
    "df[df.author.str.contains('Deitel')]"
   ]
  },
  {
   "cell_type": "code",
   "execution_count": 10,
   "metadata": {},
   "outputs": [],
   "source": [
    "text_ids = [t[0] for t in texts]\n",
    "text_id_to_idx = {tid: i for i, tid in enumerate(text_ids)}"
   ]
  },
  {
   "cell_type": "code",
   "execution_count": 11,
   "metadata": {},
   "outputs": [],
   "source": [
    "doc_ids = list(set([i for t in texts for i in t[-1]]))\n",
    "doc_id_to_idx = {did: i for i, did in enumerate(doc_ids)}"
   ]
  },
  {
   "cell_type": "code",
   "execution_count": 13,
   "metadata": {},
   "outputs": [
    {
     "data": {
      "text/plain": [
       "1000"
      ]
     },
     "execution_count": 13,
     "metadata": {},
     "output_type": "execute_result"
    }
   ],
   "source": [
    "len(text_ids)"
   ]
  },
  {
   "cell_type": "code",
   "execution_count": 41,
   "metadata": {},
   "outputs": [
    {
     "data": {
      "text/plain": [
       "225711"
      ]
     },
     "execution_count": 41,
     "metadata": {},
     "output_type": "execute_result"
    }
   ],
   "source": [
    "len(doc_ids)"
   ]
  },
  {
   "cell_type": "code",
   "execution_count": 42,
   "metadata": {},
   "outputs": [],
   "source": [
    "tdm = np.zeros((len(doc_ids), len(text_ids)))"
   ]
  },
  {
   "cell_type": "code",
   "execution_count": 43,
   "metadata": {},
   "outputs": [],
   "source": [
    "for t in texts:\n",
    "    for did in t[-1]:\n",
    "        didx = doc_id_to_idx[did]\n",
    "        tidx = text_id_to_idx[t[0]]\n",
    "        tdm[didx][tidx] += 1"
   ]
  },
  {
   "cell_type": "code",
   "execution_count": 51,
   "metadata": {},
   "outputs": [
    {
     "data": {
      "text/plain": [
       "(225711, 1000)"
      ]
     },
     "execution_count": 51,
     "metadata": {},
     "output_type": "execute_result"
    }
   ],
   "source": [
    "tdm.shape"
   ]
  },
  {
   "cell_type": "code",
   "execution_count": 46,
   "metadata": {},
   "outputs": [
    {
     "data": {
      "text/plain": [
       "570610.0"
      ]
     },
     "execution_count": 46,
     "metadata": {},
     "output_type": "execute_result"
    }
   ],
   "source": [
    "tdm.sum()"
   ]
  },
  {
   "cell_type": "code",
   "execution_count": 47,
   "metadata": {},
   "outputs": [],
   "source": [
    "svd = TruncatedSVD(n_components=10)"
   ]
  },
  {
   "cell_type": "code",
   "execution_count": 48,
   "metadata": {},
   "outputs": [
    {
     "data": {
      "text/plain": [
       "TruncatedSVD(algorithm='randomized', n_components=10, n_iter=5,\n",
       "       random_state=None, tol=0.0)"
      ]
     },
     "execution_count": 48,
     "metadata": {},
     "output_type": "execute_result"
    }
   ],
   "source": [
    "svd.fit(tdm)"
   ]
  },
  {
   "cell_type": "code",
   "execution_count": 52,
   "metadata": {},
   "outputs": [
    {
     "data": {
      "text/plain": [
       "(1000, 10)"
      ]
     },
     "execution_count": 52,
     "metadata": {},
     "output_type": "execute_result"
    }
   ],
   "source": [
    "svd.components_.T.shape"
   ]
  },
  {
   "cell_type": "code",
   "execution_count": 53,
   "metadata": {},
   "outputs": [
    {
     "data": {
      "text/plain": [
       "array([ 4.33040780e-02, -1.54850059e-02, -7.26197304e-04, -3.26942832e-02,\n",
       "        6.38129505e-02,  8.95972922e-01, -1.52567413e-01, -3.79251349e-01,\n",
       "        9.01681994e-02, -2.16820014e-02])"
      ]
     },
     "execution_count": 53,
     "metadata": {},
     "output_type": "execute_result"
    }
   ],
   "source": [
    "svd.components_.T[0]"
   ]
  },
  {
   "cell_type": "code",
   "execution_count": 55,
   "metadata": {},
   "outputs": [
    {
     "data": {
      "text/plain": [
       "True"
      ]
     },
     "execution_count": 55,
     "metadata": {},
     "output_type": "execute_result"
    }
   ],
   "source": [
    "idx = AnnoyIndex(10)\n",
    "for i, v in enumerate(svd.components_.T):\n",
    "    idx.add_item(i, v)\n",
    "    \n",
    "idx.build(10)"
   ]
  },
  {
   "cell_type": "code",
   "execution_count": 101,
   "metadata": {},
   "outputs": [
    {
     "name": "stdout",
     "output_type": "stream",
     "text": [
      "Postmodernism, or, The cultural logic of late capitalism /\n",
      "The black Atlantic : modernity and double consciousness /\n",
      "Masculinities /\n",
      "Subculture, the meaning of style /\n",
      "Simulations /\n",
      "The location of culture /\n",
      "The history of sexuality /\n",
      "The practice of everyday life /\n",
      "Black skin, white masks /\n",
      "Gender trouble : feminism and the subversion of identity /\n",
      "Society of the spectacle /\n",
      "Simulacra and simulation /\n",
      "Discipline and punish : the birth of the prison /\n",
      "Dialectic of enlightenment /\n",
      "The postmodern condition : a report on knowledge /\n",
      "Course in general linguistics /\n",
      "THE CULTURE INDUSTRY\n",
      "Life on the screen : identity in the age of the Internet /\n",
      "Fundamental methods of mathematical economics /\n",
      "Compulsory heterosexuality and lesbian existence /\n"
     ]
    }
   ],
   "source": [
    "for tidx in idx.get_nns_by_item(336, 20):\n",
    "    print(texts[tidx][1])"
   ]
  },
  {
   "cell_type": "code",
   "execution_count": 85,
   "metadata": {},
   "outputs": [
    {
     "data": {
      "text/plain": [
       "array([-0.05839442,  0.01371266, -0.06545626,  0.02957595,  0.04176697,\n",
       "       -0.01438533, -0.09723236, -0.00922089, -0.02935313, -0.01031321])"
      ]
     },
     "execution_count": 85,
     "metadata": {},
     "output_type": "execute_result"
    }
   ],
   "source": [
    "svd.components_.T[285] - svd.components_.T[35]"
   ]
  },
  {
   "cell_type": "code",
   "execution_count": 89,
   "metadata": {},
   "outputs": [
    {
     "name": "stdout",
     "output_type": "stream",
     "text": [
      "An essay on criticism /\n",
      "Preface to Lyrical ballads. /\n",
      "Ode to a nightingale /\n",
      "The rights of woman /\n",
      "A vindication of the rights of woman /\n",
      "Lyrical ballads 1805 /\n",
      "Songs of experience.\n",
      "Kubla Khan\n",
      "Songs of innocence and experience.\n",
      "Songs of innocence.\n"
     ]
    }
   ],
   "source": [
    "for tidx in idx.get_nns_by_vector(svd.components_.T[285] - svd.components_.T[35], 10):\n",
    "    print(texts[tidx][1])"
   ]
  },
  {
   "cell_type": "code",
   "execution_count": 90,
   "metadata": {},
   "outputs": [
    {
     "name": "stdout",
     "output_type": "stream",
     "text": [
      "The Lone Ranger and Tonto fistfight in heaven /\n",
      "The awakening /\n",
      "The great Gatsby /\n",
      "The red badge of courage,\n",
      "I know why the caged bird sings.\n",
      "Huckleberry Finn /\n",
      "Invisible man /\n",
      "Adventures of Huckleberry Finn /\n",
      "Sister Carrie /\n",
      "Winesburg, Ohio /\n"
     ]
    }
   ],
   "source": [
    "for tidx in idx.get_nns_by_vector(svd.components_.T[35] - svd.components_.T[285], 10):\n",
    "    print(texts[tidx][1])"
   ]
  },
  {
   "cell_type": "code",
   "execution_count": 93,
   "metadata": {},
   "outputs": [
    {
     "name": "stdout",
     "output_type": "stream",
     "text": [
      "Macroeconomics /\n",
      "Introductory econometrics : a modern approach /\n",
      "Florida State University\n",
      "THE CULTURE INDUSTRY\n",
      "Data and computer communications /\n",
      "Doing Gender\n",
      "Selected writings, 1877-1930.\n",
      "Microeconomic theory /\n",
      "Power /\n",
      "Discipline and punish : the birth of the prison /\n"
     ]
    }
   ],
   "source": [
    "for tidx in idx.get_nns_by_vector(svd.components_.T[138] - svd.components_.T[9], 10):\n",
    "    print(texts[tidx][1])"
   ]
  },
  {
   "cell_type": "code",
   "execution_count": 100,
   "metadata": {},
   "outputs": [
    {
     "name": "stdout",
     "output_type": "stream",
     "text": [
      "The Communist manifesto /\n",
      "Manifesto of the Communist party,\n",
      "The German ideology /\n",
      "The great transformation /\n",
      "On Marx /\n",
      "The division of labor in society.\n",
      "Karl Marx /\n",
      "The Protestant Ethic and the spirit of capitalism /\n",
      "Capital,\n",
      "The Russian revolution,\n",
      "Marx /\n",
      "The three worlds of capitalism /\n",
      "The three worlds of welfare capitalism /\n",
      "Economic growth /\n",
      "Suicide.\n",
      "The rules of sociological method.\n",
      "Power : a radical view /\n",
      "Institutional and economic change /\n",
      "The power elite.\n",
      "The modern world-system /\n"
     ]
    }
   ],
   "source": [
    "for tidx in idx.get_nns_by_vector(svd.components_.T[2] + svd.components_.T[336], 20):\n",
    "    print(texts[tidx][1])"
   ]
  },
  {
   "cell_type": "code",
   "execution_count": 107,
   "metadata": {},
   "outputs": [
    {
     "name": "stdout",
     "output_type": "stream",
     "text": [
      "C : how to program /\n",
      "Java : how to program /\n",
      "Java.\n",
      "Starting out with C++ : from control structures through objects /\n",
      "The C++ programming language /\n",
      "Charlotte Temple /\n",
      "Project Evaluation\n",
      "The Gettysburg address\n",
      "The way to rainy mountain\n",
      "Autobiography.\n",
      "Civil disobedience\n",
      "America : a narrative history /\n",
      "Billy Budd;\n",
      "Walden /\n",
      "GEORGE WASHINGTON\n",
      "Leaves of grass /\n",
      "The scarlet letter.\n",
      "Of Plymouth Plantation, 1620-1647 /\n",
      "The Declaration of Independence /\n",
      "Sinners in the hands of an angry God.\n"
     ]
    }
   ],
   "source": [
    "for tidx in idx.get_nns_by_item(32, 20):\n",
    "    print(texts[tidx][1])"
   ]
  },
  {
   "cell_type": "code",
   "execution_count": null,
   "metadata": {},
   "outputs": [],
   "source": []
  }
 ],
 "metadata": {
  "kernelspec": {
   "display_name": "Python 3",
   "language": "python",
   "name": "python3"
  },
  "language_info": {
   "codemirror_mode": {
    "name": "ipython",
    "version": 3
   },
   "file_extension": ".py",
   "mimetype": "text/x-python",
   "name": "python",
   "nbconvert_exporter": "python",
   "pygments_lexer": "ipython3",
   "version": "3.6.5"
  }
 },
 "nbformat": 4,
 "nbformat_minor": 2
}
