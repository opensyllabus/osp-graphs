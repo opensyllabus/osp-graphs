{
 "cells": [
  {
   "cell_type": "code",
   "execution_count": 1,
   "metadata": {},
   "outputs": [],
   "source": [
    "import matplotlib.pyplot as plt\n",
    "%matplotlib inline"
   ]
  },
  {
   "cell_type": "code",
   "execution_count": 19,
   "metadata": {},
   "outputs": [],
   "source": [
    "import numpy as np\n",
    "import altair as alt\n",
    "import pandas as pd\n",
    "\n",
    "from scipy.sparse import lil_matrix\n",
    "from annoy import AnnoyIndex\n",
    "from collections import defaultdict\n",
    "\n",
    "from sklearn.decomposition import TruncatedSVD\n",
    "from sklearn import manifold\n",
    "from sklearn.decomposition import PCA\n",
    "\n",
    "from sqlalchemy.dialects.postgresql import array_agg\n",
    "from sqlalchemy.sql import functions as func\n",
    "\n",
    "from osp_graphs.v1_db import session, Text, Field, Subfield, SubfieldDocument, Citation, Document"
   ]
  },
  {
   "cell_type": "code",
   "execution_count": 3,
   "metadata": {},
   "outputs": [],
   "source": [
    "count = func.count(Citation.text_id)\n",
    "\n",
    "res = (session\n",
    "    .query(Text.surname, array_agg(Citation.document_id))\n",
    "    .join(Citation)\n",
    "    .filter(Text.valid==True)\n",
    "    .filter(Text.display==True)\n",
    "    .group_by(Text.id)\n",
    "    .order_by(count.desc())\n",
    "    .limit(1000)\n",
    "    .all())"
   ]
  },
  {
   "cell_type": "code",
   "execution_count": 4,
   "metadata": {},
   "outputs": [],
   "source": [
    "surname_docs = defaultdict(set)\n",
    "\n",
    "for surname, doc_ids in res:\n",
    "    key = surname.strip('.,').lower()\n",
    "    surname_docs[key].update(doc_ids)"
   ]
  },
  {
   "cell_type": "code",
   "execution_count": 5,
   "metadata": {},
   "outputs": [],
   "source": [
    "surnames = sorted(surname_docs.keys())\n",
    "surname_to_idx = {s: i for i, s in enumerate(surnames)}"
   ]
  },
  {
   "cell_type": "code",
   "execution_count": 6,
   "metadata": {},
   "outputs": [],
   "source": [
    "doc_ids = list(set([did for _, doc_ids in res for did in doc_ids]))\n",
    "doc_id_to_idx = {did: i for i, did in enumerate(doc_ids)}"
   ]
  },
  {
   "cell_type": "code",
   "execution_count": 7,
   "metadata": {},
   "outputs": [],
   "source": [
    "sdm = np.zeros((len(doc_ids), len(surnames)))\n",
    "\n",
    "for surname in surnames:\n",
    "    sidx = surname_to_idx[surname]\n",
    "    for doc_id in surname_docs[surname]:\n",
    "        didx = doc_id_to_idx[doc_id]\n",
    "        sdm[didx][sidx] += 1"
   ]
  },
  {
   "cell_type": "code",
   "execution_count": 8,
   "metadata": {},
   "outputs": [
    {
     "data": {
      "text/plain": [
       "495788.0"
      ]
     },
     "execution_count": 8,
     "metadata": {},
     "output_type": "execute_result"
    }
   ],
   "source": [
    "sdm.sum()"
   ]
  },
  {
   "cell_type": "code",
   "execution_count": 9,
   "metadata": {},
   "outputs": [],
   "source": [
    "svd = TruncatedSVD(n_components=10)"
   ]
  },
  {
   "cell_type": "code",
   "execution_count": 10,
   "metadata": {},
   "outputs": [
    {
     "data": {
      "text/plain": [
       "TruncatedSVD(algorithm='randomized', n_components=10, n_iter=5,\n",
       "       random_state=None, tol=0.0)"
      ]
     },
     "execution_count": 10,
     "metadata": {},
     "output_type": "execute_result"
    }
   ],
   "source": [
    "svd.fit(sdm)"
   ]
  },
  {
   "cell_type": "code",
   "execution_count": 11,
   "metadata": {},
   "outputs": [
    {
     "data": {
      "text/plain": [
       "(642, 10)"
      ]
     },
     "execution_count": 11,
     "metadata": {},
     "output_type": "execute_result"
    }
   ],
   "source": [
    "svd.components_.T.shape"
   ]
  },
  {
   "cell_type": "code",
   "execution_count": 12,
   "metadata": {},
   "outputs": [
    {
     "data": {
      "text/plain": [
       "True"
      ]
     },
     "execution_count": 12,
     "metadata": {},
     "output_type": "execute_result"
    }
   ],
   "source": [
    "idx = AnnoyIndex(10)\n",
    "for i, v in enumerate(svd.components_.T):\n",
    "    idx.add_item(i, v)\n",
    "    \n",
    "idx.build(10)"
   ]
  },
  {
   "cell_type": "code",
   "execution_count": 13,
   "metadata": {},
   "outputs": [
    {
     "name": "stdout",
     "output_type": "stream",
     "text": [
      "hemingway\n",
      "hurston\n",
      "larsen\n",
      "pynchon\n",
      "salinger\n",
      "wharton\n",
      "fitzgerald\n",
      "cather\n",
      "erdrich\n",
      "toomer\n",
      "wright\n",
      "plath\n",
      "herr\n",
      "silko\n",
      "kerouac\n",
      "ellison\n",
      "delillo\n",
      "chopin\n",
      "cisneros\n",
      "chandler\n"
     ]
    }
   ],
   "source": [
    "for aidx in idx.get_nns_by_item(surname_to_idx['hemingway'], 20):\n",
    "    print(surnames[aidx])"
   ]
  },
  {
   "cell_type": "code",
   "execution_count": 14,
   "metadata": {},
   "outputs": [],
   "source": [
    "dr = manifold.TSNE(n_components=2, init='pca')"
   ]
  },
  {
   "cell_type": "code",
   "execution_count": 15,
   "metadata": {},
   "outputs": [],
   "source": [
    "y = dr.fit_transform(svd.components_.T)"
   ]
  },
  {
   "cell_type": "code",
   "execution_count": 28,
   "metadata": {},
   "outputs": [],
   "source": [
    "rows = []\n",
    "for surname, (x, y) in zip(surnames, y):\n",
    "    rows.append(dict(surname=surname, x=x, y=y))"
   ]
  },
  {
   "cell_type": "code",
   "execution_count": 29,
   "metadata": {},
   "outputs": [],
   "source": [
    "df = pd.DataFrame(rows)"
   ]
  },
  {
   "cell_type": "code",
   "execution_count": 37,
   "metadata": {},
   "outputs": [
    {
     "name": "stdout",
     "output_type": "stream",
     "text": [
      "Object `interactive` not found.\n"
     ]
    }
   ],
   "source": [
    "alt.Chart(df).mark_circle().encode(x='x', y='y', tooltip='surname').interactive?"
   ]
  },
  {
   "cell_type": "code",
   "execution_count": 46,
   "metadata": {},
   "outputs": [],
   "source": [
    "chart = alt.Chart(df, width=1000, height=700).mark_circle().encode(x='x', y='y', tooltip='surname')"
   ]
  },
  {
   "cell_type": "code",
   "execution_count": 49,
   "metadata": {},
   "outputs": [
    {
     "data": {
      "application/vnd.vegalite.v2+json": {
       "$schema": "https://vega.github.io/schema/vega-lite/v2.4.3.json",
       "config": {
        "view": {
         "height": 300,
         "width": 400
        }
       },
       "data": {
        "values": [
         {
          "surname": "abrams",
          "x": 14.274263381958008,
          "y": 19.31344223022461
         },
         {
          "surname": "achebe",
          "x": 10.151143074035645,
          "y": 22.816307067871094
         },
         {
          "surname": "addams",
          "x": 0.7473332285881042,
          "y": -1.5570753812789917
         },
         {
          "surname": "adorno",
          "x": -30.9201717376709,
          "y": 0.6324149966239929
         },
         {
          "surname": "aeschylus",
          "x": 21.782739639282227,
          "y": 4.179669380187988
         },
         {
          "surname": "aesop",
          "x": 13.713544845581055,
          "y": 3.4344482421875
         },
         {
          "surname": "alberts",
          "x": -5.969223499298096,
          "y": -5.5281291007995605
         },
         {
          "surname": "alcott",
          "x": 4.07859992980957,
          "y": 19.60947608947754
         },
         {
          "surname": "alexie",
          "x": 0.7380273938179016,
          "y": 12.205072402954102
         },
         {
          "surname": "allen",
          "x": 53.52638626098633,
          "y": -1.5868678092956543
         },
         {
          "surname": "allende",
          "x": 3.0868489742279053,
          "y": 10.989867210388184
         },
         {
          "surname": "allison",
          "x": -14.990419387817383,
          "y": -0.2959088683128357
         },
         {
          "surname": "anaya",
          "x": 1.8878018856048584,
          "y": 14.394442558288574
         },
         {
          "surname": "anderson",
          "x": 57.86113739013672,
          "y": 0.5602775812149048
         },
         {
          "surname": "angelou",
          "x": 2.034666061401367,
          "y": 18.678598403930664
         },
         {
          "surname": "anthony",
          "x": -14.002543449401855,
          "y": -8.438454627990723
         },
         {
          "surname": "apuleius",
          "x": 15.342267036437988,
          "y": 3.856457471847534
         },
         {
          "surname": "arendt",
          "x": -24.560766220092773,
          "y": 3.7852299213409424
         },
         {
          "surname": "aristophanes",
          "x": 21.206035614013672,
          "y": 3.80263090133667
         },
         {
          "surname": "aristotle",
          "x": -19.40633773803711,
          "y": 15.345868110656738
         },
         {
          "surname": "arnold",
          "x": 16.79729461669922,
          "y": 19.403322219848633
         },
         {
          "surname": "aronson",
          "x": -1.4005069732666016,
          "y": -11.486907958984375
         },
         {
          "surname": "aslam",
          "x": 54.74983215332031,
          "y": -3.1494929790496826
         },
         {
          "surname": "atkins",
          "x": 1.0758451223373413,
          "y": -6.681822299957275
         },
         {
          "surname": "audesirk",
          "x": 6.884355545043945,
          "y": -20.50908851623535
         },
         {
          "surname": "augustine",
          "x": 17.729825973510742,
          "y": 4.291196346282959
         },
         {
          "surname": "austen",
          "x": 18.21645736694336,
          "y": 23.554828643798828
         },
         {
          "surname": "austin",
          "x": -23.31312370300293,
          "y": -6.549619197845459
         },
         {
          "surname": "axelrod",
          "x": -15.805157661437988,
          "y": -0.08323085308074951
         },
         {
          "surname": "ayer",
          "x": -15.13932991027832,
          "y": 8.026893615722656
         },
         {
          "surname": "azar",
          "x": 5.241970539093018,
          "y": -27.390098571777344
         },
         {
          "surname": "babbie",
          "x": -7.2177629470825195,
          "y": -5.012608528137207
         },
         {
          "surname": "bach",
          "x": 12.046213150024414,
          "y": -6.653375625610352
         },
         {
          "surname": "bachelard",
          "x": -0.19477544724941254,
          "y": 6.298956394195557
         },
         {
          "surname": "bailyn",
          "x": -8.273113250732422,
          "y": 11.034601211547852
         },
         {
          "surname": "bandura",
          "x": -6.650250434875488,
          "y": -13.406376838684082
         },
         {
          "surname": "barber",
          "x": -24.76186180114746,
          "y": 0.8379830121994019
         },
         {
          "surname": "barker",
          "x": 6.2338457107543945,
          "y": 11.337371826171875
         },
         {
          "surname": "barnet",
          "x": -6.101741790771484,
          "y": -1.0755168199539185
         },
         {
          "surname": "barro",
          "x": -10.471933364868164,
          "y": -14.234624862670898
         },
         {
          "surname": "barthes",
          "x": -32.5176887512207,
          "y": -1.4706910848617554
         },
         {
          "surname": "bates",
          "x": 9.591302871704102,
          "y": -16.843017578125
         },
         {
          "surname": "baudrillard",
          "x": -31.187803268432617,
          "y": -1.3387482166290283
         },
         {
          "surname": "baum",
          "x": 7.469705581665039,
          "y": 8.716280937194824
         },
         {
          "surname": "beauchamp",
          "x": -1.790877103805542,
          "y": -23.591609954833984
         },
         {
          "surname": "beauvoir",
          "x": -26.546533584594727,
          "y": 5.874160289764404
         },
         {
          "surname": "becker",
          "x": -6.3179168701171875,
          "y": 0.8019039630889893
         },
         {
          "surname": "beckett",
          "x": 12.971195220947266,
          "y": 22.041950225830078
         },
         {
          "surname": "bede",
          "x": 12.143202781677246,
          "y": -1.7308077812194824
         },
         {
          "surname": "beethoven",
          "x": 9.469644546508789,
          "y": -2.3010644912719727
         },
         {
          "surname": "behn",
          "x": 14.90572452545166,
          "y": 15.470788955688477
         },
         {
          "surname": "bell",
          "x": -7.155928611755371,
          "y": -2.6908793449401855
         },
         {
          "surname": "bellamy",
          "x": -4.199554920196533,
          "y": 15.602078437805176
         },
         {
          "surname": "bellow",
          "x": 56.513084411621094,
          "y": -1.4358664751052856
         },
         {
          "surname": "benjamin",
          "x": -28.908838272094727,
          "y": -3.6671175956726074
         },
         {
          "surname": "bentham",
          "x": -16.08699607849121,
          "y": 11.728021621704102
         },
         {
          "surname": "berg",
          "x": 1.5562704801559448,
          "y": -16.53135108947754
         },
         {
          "surname": "berger",
          "x": -30.452068328857422,
          "y": -4.336545467376709
         },
         {
          "surname": "berlioz",
          "x": 10.273222923278809,
          "y": -2.8271424770355225
         },
         {
          "surname": "bevington",
          "x": 4.667351722717285,
          "y": 3.6285791397094727
         },
         {
          "surname": "bhabha",
          "x": -30.017223358154297,
          "y": -2.814194917678833
         },
         {
          "surname": "bizet",
          "x": 12.898090362548828,
          "y": -5.719972133636475
         },
         {
          "surname": "black",
          "x": -9.453023910522461,
          "y": 2.3926732540130615
         },
         {
          "surname": "blake",
          "x": 17.926647186279297,
          "y": 19.94126319885254
         },
         {
          "surname": "blanchard",
          "x": -9.20252513885498,
          "y": -13.159143447875977
         },
         {
          "surname": "blaxter",
          "x": -4.806274890899658,
          "y": -20.26985740661621
         },
         {
          "surname": "boccaccio",
          "x": 16.265071868896484,
          "y": 5.540460109710693
         },
         {
          "surname": "bodie",
          "x": -0.6332888603210449,
          "y": -10.997647285461426
         },
         {
          "surname": "boethius",
          "x": 11.040471076965332,
          "y": 8.081847190856934
         },
         {
          "surname": "booth",
          "x": -6.670208930969238,
          "y": 2.9247708320617676
         },
         {
          "surname": "bordwell",
          "x": -0.23734447360038757,
          "y": 5.3869171142578125
         },
         {
          "surname": "bourdieu",
          "x": -27.778337478637695,
          "y": -2.5125701427459717
         },
         {
          "surname": "bowlby",
          "x": -7.74793815612793,
          "y": -9.612080574035645
         },
         {
          "surname": "bowles",
          "x": 55.732025146484375,
          "y": -1.3592488765716553
         },
         {
          "surname": "bowling",
          "x": -0.5504550337791443,
          "y": -21.344018936157227
         },
         {
          "surname": "boyce",
          "x": 4.989635944366455,
          "y": -12.867812156677246
         },
         {
          "surname": "bradbury",
          "x": 2.5847744941711426,
          "y": 14.995719909667969
         },
         {
          "surname": "bradford",
          "x": -5.925502300262451,
          "y": 21.981069564819336
         },
         {
          "surname": "brealey",
          "x": -5.2081098556518555,
          "y": -8.516260147094727
         },
         {
          "surname": "brigham",
          "x": 10.060465812683105,
          "y": -21.670120239257812
         },
         {
          "surname": "brock",
          "x": -0.7815319895744324,
          "y": -11.987809181213379
         },
         {
          "surname": "bronte",
          "x": 13.599225044250488,
          "y": 21.528568267822266
         },
         {
          "surname": "brontë",
          "x": 13.932785987854004,
          "y": 20.570707321166992
         },
         {
          "surname": "brooks",
          "x": 6.488857746124268,
          "y": 6.673336029052734
         },
         {
          "surname": "brown",
          "x": -8.439287185668945,
          "y": 3.3613998889923096
         },
         {
          "surname": "browning",
          "x": 17.766315460205078,
          "y": 20.50274085998535
         },
         {
          "surname": "bryman",
          "x": -19.3586368560791,
          "y": -8.00998592376709
         },
         {
          "surname": "burden",
          "x": 0.17507784068584442,
          "y": -22.730730056762695
         },
         {
          "surname": "burgess",
          "x": 6.935799598693848,
          "y": 17.218868255615234
         },
         {
          "surname": "burke",
          "x": -15.609820365905762,
          "y": 15.638542175292969
         },
         {
          "surname": "burney",
          "x": 10.511445999145508,
          "y": 15.980298042297363
         },
         {
          "surname": "bush",
          "x": -12.950664520263672,
          "y": -2.610750675201416
         },
         {
          "surname": "butler",
          "x": -30.276954650878906,
          "y": -1.431596279144287
         },
         {
          "surname": "byron",
          "x": 14.896269798278809,
          "y": 17.384742736816406
         },
         {
          "surname": "calvin",
          "x": -13.400883674621582,
          "y": 11.392843246459961
         },
         {
          "surname": "calvino",
          "x": 0.8579130172729492,
          "y": 7.158935546875
         },
         {
          "surname": "campbell",
          "x": -33.457733154296875,
          "y": -1.8351753950119019
         },
         {
          "surname": "camus",
          "x": 7.074929714202881,
          "y": 20.92179298400879
         },
         {
          "surname": "caputo",
          "x": -0.5238137245178223,
          "y": -0.8285062909126282
         },
         {
          "surname": "carlson",
          "x": 7.529748439788818,
          "y": -16.736631393432617
         },
         {
          "surname": "carr",
          "x": -17.72149085998535,
          "y": -3.5500080585479736
         },
         {
          "surname": "carroll",
          "x": 10.244281768798828,
          "y": 12.427898406982422
         },
         {
          "surname": "carson",
          "x": -4.55214262008667,
          "y": 15.068906784057617
         },
         {
          "surname": "case",
          "x": 9.27099895477295,
          "y": -18.350614547729492
         },
         {
          "surname": "castells",
          "x": -25.332988739013672,
          "y": -2.771749496459961
         },
         {
          "surname": "castiglione",
          "x": 11.04586410522461,
          "y": 4.513463020324707
         },
         {
          "surname": "castro",
          "x": -0.8397272229194641,
          "y": -15.717414855957031
         },
         {
          "surname": "cather",
          "x": 3.094728946685791,
          "y": 20.158737182617188
         },
         {
          "surname": "certeau",
          "x": -27.698801040649414,
          "y": -3.360766887664795
         },
         {
          "surname": "chaisson",
          "x": 6.934420585632324,
          "y": -22.07526969909668
         },
         {
          "surname": "chalmers",
          "x": -12.292160987854004,
          "y": -11.027311325073242
         },
         {
          "surname": "chandler",
          "x": 2.7778918743133545,
          "y": 15.892756462097168
         },
         {
          "surname": "chang",
          "x": -0.43896329402923584,
          "y": -9.60356616973877
         },
         {
          "surname": "chaplin",
          "x": 7.19480562210083,
          "y": -1.9710156917572021
         },
         {
          "surname": "chaucer",
          "x": 19.542377471923828,
          "y": 17.712926864624023
         },
         {
          "surname": "chekhov",
          "x": 9.537607192993164,
          "y": 10.126269340515137
         },
         {
          "surname": "chiang",
          "x": -5.001372814178467,
          "y": -16.53539276123047
         },
         {
          "surname": "ching",
          "x": 1.5031859874725342,
          "y": -20.93095588684082
         },
         {
          "surname": "chopin",
          "x": -0.1133153885602951,
          "y": 26.48702049255371
         },
         {
          "surname": "cialdini",
          "x": 9.75816535949707,
          "y": -22.992544174194336
         },
         {
          "surname": "cisneros",
          "x": 2.594763994216919,
          "y": 20.953182220458984
         },
         {
          "surname": "cixous",
          "x": -25.687847137451172,
          "y": -7.355339050292969
         },
         {
          "surname": "clausewitz",
          "x": -13.829645156860352,
          "y": 1.1296738386154175
         },
         {
          "surname": "cleveland",
          "x": -8.324776649475098,
          "y": -14.561727523803711
         },
         {
          "surname": "coase",
          "x": -15.813697814941406,
          "y": -3.2089126110076904
         },
         {
          "surname": "coetzee",
          "x": 56.504852294921875,
          "y": 0.42374953627586365
         },
         {
          "surname": "cohen",
          "x": -6.221116065979004,
          "y": -19.485219955444336
         },
         {
          "surname": "coleridge",
          "x": 18.612045288085938,
          "y": 20.308734893798828
         },
         {
          "surname": "collins",
          "x": 10.545387268066406,
          "y": 16.726665496826172
         },
         {
          "surname": "comer",
          "x": 14.304405212402344,
          "y": -20.848447799682617
         },
         {
          "surname": "confucius",
          "x": -12.986519813537598,
          "y": 10.170571327209473
         },
         {
          "surname": "connell",
          "x": -20.611669540405273,
          "y": -7.5055766105651855
         },
         {
          "surname": "conrad",
          "x": 21.992839813232422,
          "y": 24.313814163208008
         },
         {
          "surname": "cooper",
          "x": -1.4631626605987549,
          "y": 18.03298568725586
         },
         {
          "surname": "corey",
          "x": 7.696537494659424,
          "y": -15.896771430969238
         },
         {
          "surname": "cormen",
          "x": 11.879090309143066,
          "y": -21.92551040649414
         },
         {
          "surname": "corrigan",
          "x": 2.1753337383270264,
          "y": 5.831989765167236
         },
         {
          "surname": "cottrell",
          "x": 5.348053455352783,
          "y": -15.90757942199707
         },
         {
          "surname": "cozby",
          "x": 8.100824356079102,
          "y": -23.233407974243164
         },
         {
          "surname": "crane",
          "x": -1.1096383333206177,
          "y": 25.58976173400879
         },
         {
          "surname": "creme",
          "x": -5.668997287750244,
          "y": -18.061580657958984
         },
         {
          "surname": "creswell",
          "x": -6.595271110534668,
          "y": -1.683329701423645
         },
         {
          "surname": "cronon",
          "x": 1.1372538805007935,
          "y": -3.233886480331421
         },
         {
          "surname": "crystal",
          "x": 3.5136172771453857,
          "y": 7.481736660003662
         },
         {
          "surname": "current",
          "x": 10.891801834106445,
          "y": -14.645453453063965
         },
         {
          "surname": "cutnell",
          "x": 1.273976445198059,
          "y": -5.9035162925720215
         },
         {
          "surname": "dangarembga",
          "x": 4.519387722015381,
          "y": 11.998326301574707
         },
         {
          "surname": "dante alighieri",
          "x": 15.795931816101074,
          "y": 5.136966228485107
         },
         {
          "surname": "darwin",
          "x": -14.888123512268066,
          "y": 16.445592880249023
         },
         {
          "surname": "date",
          "x": 5.735385417938232,
          "y": -13.089632987976074
         },
         {
          "surname": "davis",
          "x": -3.427816390991211,
          "y": 18.310579299926758
         },
         {
          "surname": "dawkins",
          "x": -15.057331085205078,
          "y": 5.990313529968262
         },
         {
          "surname": "de tocqueville",
          "x": -13.56252384185791,
          "y": 19.363351821899414
         },
         {
          "surname": "debord",
          "x": -28.294939041137695,
          "y": -2.5390522480010986
         },
         {
          "surname": "defoe",
          "x": 14.416542053222656,
          "y": 21.79656410217285
         },
         {
          "surname": "deitel",
          "x": -6.188712120056152,
          "y": -2.8203511238098145
         },
         {
          "surname": "deleuze",
          "x": -28.15006446838379,
          "y": -4.325726509094238
         },
         {
          "surname": "delillo",
          "x": 4.317531585693359,
          "y": 22.000394821166992
         },
         {
          "surname": "denscombe",
          "x": -6.66308069229126,
          "y": -19.174222946166992
         },
         {
          "surname": "descartes",
          "x": -19.454004287719727,
          "y": 12.786179542541504
         },
         {
          "surname": "dewey",
          "x": -18.390296936035156,
          "y": 7.125258445739746
         },
         {
          "surname": "dexter",
          "x": 54.35697555541992,
          "y": -1.8712232112884521
         },
         {
          "surname": "diamond",
          "x": -17.480419158935547,
          "y": -4.189983367919922
         },
         {
          "surname": "dick",
          "x": 4.483299255371094,
          "y": 10.980831146240234
         },
         {
          "surname": "dickens",
          "x": 18.39219093322754,
          "y": 23.842113494873047
         },
         {
          "surname": "dickinson",
          "x": -1.6092453002929688,
          "y": 17.132722854614258
         },
         {
          "surname": "doctorow",
          "x": 57.262516021728516,
          "y": -0.748145341873169
         },
         {
          "surname": "doyle",
          "x": 8.551504135131836,
          "y": 12.652792930603027
         },
         {
          "surname": "dreiser",
          "x": 2.2275197505950928,
          "y": 22.16318702697754
         },
         {
          "surname": "drucker",
          "x": -3.000504732131958,
          "y": -11.319321632385254
         },
         {
          "surname": "du bois",
          "x": -4.318136215209961,
          "y": 16.534160614013672
         },
         {
          "surname": "due",
          "x": 4.720823287963867,
          "y": -9.340472221374512
         },
         {
          "surname": "dumas",
          "x": 54.98009490966797,
          "y": -0.5355214476585388
         },
         {
          "surname": "durkheim",
          "x": -31.823875427246094,
          "y": 4.998859882354736
         },
         {
          "surname": "eagleton",
          "x": -27.933740615844727,
          "y": -6.9868621826171875
         },
         {
          "surname": "eckel",
          "x": 1.5226975679397583,
          "y": -22.160314559936523
         },
         {
          "surname": "edwards",
          "x": -6.18034553527832,
          "y": 20.816818237304688
         },
         {
          "surname": "ehrenreich",
          "x": -19.370777130126953,
          "y": -4.318601608276367
         },
         {
          "surname": "eisenstein",
          "x": -7.810009956359863,
          "y": -11.1793794631958
         },
         {
          "surname": "eliot",
          "x": 18.322908401489258,
          "y": 24.421592712402344
         },
         {
          "surname": "ellis",
          "x": 55.908912658691406,
          "y": -3.361639976501465
         },
         {
          "surname": "ellison",
          "x": 0.5280613899230957,
          "y": 26.25404930114746
         },
         {
          "surname": "elmasri",
          "x": 13.812769889831543,
          "y": -20.341720581054688
         },
         {
          "surname": "emerson",
          "x": -7.091622352600098,
          "y": 24.80003547668457
         },
         {
          "surname": "engels",
          "x": -27.651865005493164,
          "y": 6.181019306182861
         },
         {
          "surname": "england",
          "x": 8.739087104797363,
          "y": -0.453774094581604
         },
         {
          "surname": "english",
          "x": 6.701783180236816,
          "y": 11.006746292114258
         },
         {
          "surname": "erasmus",
          "x": 11.434725761413574,
          "y": 4.566619873046875
         },
         {
          "surname": "erdrich",
          "x": 2.7161812782287598,
          "y": 18.12656593322754
         },
         {
          "surname": "esping-andersen",
          "x": -16.740629196166992,
          "y": -4.758806228637695
         },
         {
          "surname": "euripides",
          "x": 22.046398162841797,
          "y": 4.43069314956665
         },
         {
          "surname": "faigley",
          "x": -3.8908653259277344,
          "y": -0.33520370721817017
         },
         {
          "surname": "fanon",
          "x": -30.843164443969727,
          "y": 3.2094411849975586
         },
         {
          "surname": "faulkner",
          "x": -0.7827248573303223,
          "y": 28.46282386779785
         },
         {
          "surname": "federal reserve bank of minneapolis",
          "x": 4.818425178527832,
          "y": -23.020612716674805
         },
         {
          "surname": "field",
          "x": -5.181413650512695,
          "y": -4.703702926635742
         },
         {
          "surname": "fielding",
          "x": 13.449605941772461,
          "y": 21.031097412109375
         },
         {
          "surname": "fisher",
          "x": -7.076639175415039,
          "y": 0.6575110554695129
         },
         {
          "surname": "fitzgerald",
          "x": -0.1024063304066658,
          "y": 27.459095001220703
         },
         {
          "surname": "flanagan",
          "x": -2.0632195472717285,
          "y": -13.430055618286133
         },
         {
          "surname": "flaubert",
          "x": 9.805904388427734,
          "y": 20.5731143951416
         },
         {
          "surname": "forster",
          "x": 11.478381156921387,
          "y": 21.004182815551758
         },
         {
          "surname": "foucault",
          "x": -33.592674255371094,
          "y": 4.879009246826172
         },
         {
          "surname": "fowler",
          "x": 2.855341672897339,
          "y": -6.576220512390137
         },
         {
          "surname": "franklin",
          "x": -6.527839183807373,
          "y": 23.468494415283203
         },
         {
          "surname": "freire",
          "x": -26.379112243652344,
          "y": -5.694331645965576
         },
         {
          "surname": "french",
          "x": 2.439204692840576,
          "y": -10.988692283630371
         },
         {
          "surname": "freud",
          "x": -31.603139877319336,
          "y": 5.876745700836182
         },
         {
          "surname": "friedan",
          "x": -4.723783493041992,
          "y": 15.432794570922852
         },
         {
          "surname": "friedman",
          "x": -25.9404354095459,
          "y": 3.330509662628174
         },
         {
          "surname": "fromkin",
          "x": 3.1741580963134766,
          "y": 6.066229343414307
         },
         {
          "surname": "fukuyama",
          "x": -25.928972244262695,
          "y": 3.299851417541504
         },
         {
          "surname": "fussell",
          "x": 0.14051686227321625,
          "y": 7.718813896179199
         },
         {
          "surname": "gaddis",
          "x": 6.433145999908447,
          "y": -23.98678207397461
         },
         {
          "surname": "gandhi",
          "x": -12.949753761291504,
          "y": 6.186063289642334
         },
         {
          "surname": "garrels",
          "x": 53.91297149658203,
          "y": -3.1418075561523438
         },
         {
          "surname": "garrett",
          "x": 0.08018584549427032,
          "y": -18.457521438598633
         },
         {
          "surname": "garrison",
          "x": 3.914341449737549,
          "y": -8.642889022827148
         },
         {
          "surname": "geertz",
          "x": -22.238765716552734,
          "y": -5.870306968688965
         },
         {
          "surname": "gellner",
          "x": -24.502830505371094,
          "y": 1.2806628942489624
         },
         {
          "surname": "gibaldi",
          "x": -6.2613043785095215,
          "y": 4.426453113555908
         },
         {
          "surname": "gibbon",
          "x": 12.17489242553711,
          "y": 4.389836311340332
         },
         {
          "surname": "gibson",
          "x": 5.644405364990234,
          "y": 18.394350051879883
         },
         {
          "surname": "giddens",
          "x": -30.7847957611084,
          "y": 1.5809909105300903
         },
         {
          "surname": "gilbert",
          "x": 0.4982554614543915,
          "y": -13.519340515136719
         },
         {
          "surname": "gilman",
          "x": -1.6470144987106323,
          "y": 26.053659439086914
         },
         {
          "surname": "gilpin",
          "x": -17.112594604492188,
          "y": -2.798048496246338
         },
         {
          "surname": "gilroy",
          "x": -24.676057815551758,
          "y": -5.565946102142334
         },
         {
          "surname": "glaspell",
          "x": 0.03744771331548691,
          "y": 18.781959533691406
         },
         {
          "surname": "goethe",
          "x": 15.786367416381836,
          "y": 10.666788101196289
         },
         {
          "surname": "goffman",
          "x": -30.423789978027344,
          "y": 1.075069546699524
         },
         {
          "surname": "golding",
          "x": 7.791889667510986,
          "y": 19.275596618652344
         },
         {
          "surname": "goldstein",
          "x": -9.566743850708008,
          "y": -1.279080867767334
         },
         {
          "surname": "goleman",
          "x": -4.167457580566406,
          "y": -13.900908470153809
         },
         {
          "surname": "gonzalez",
          "x": 8.801473617553711,
          "y": -11.686027526855469
         },
         {
          "surname": "gould",
          "x": -16.659786224365234,
          "y": -3.6235299110412598
         },
         {
          "surname": "gramsci",
          "x": -29.503170013427734,
          "y": 0.810854971408844
         },
         {
          "surname": "granovetter",
          "x": -14.57825756072998,
          "y": -7.8383049964904785
         },
         {
          "surname": "grant",
          "x": 0.5770289301872253,
          "y": -21.18660545349121
         },
         {
          "surname": "great britain",
          "x": -3.757502794265747,
          "y": -23.098241806030273
         },
         {
          "surname": "greene",
          "x": -9.868255615234375,
          "y": -12.613956451416016
         },
         {
          "surname": "greenhalgh",
          "x": 0.0011311392299830914,
          "y": -20.8739070892334
         },
         {
          "surname": "griffiths",
          "x": 8.458300590515137,
          "y": -9.857691764831543
         },
         {
          "surname": "grimm",
          "x": 7.377408504486084,
          "y": 8.65754222869873
         },
         {
          "surname": "grove",
          "x": 1.9899331331253052,
          "y": -12.479455947875977
         },
         {
          "surname": "groves",
          "x": 52.694061279296875,
          "y": -3.39249849319458
         },
         {
          "surname": "gujarati",
          "x": -9.700902938842773,
          "y": -11.037590026855469
         },
         {
          "surname": "guyton",
          "x": 7.4930100440979,
          "y": -19.357831954956055
         },
         {
          "surname": "hacker",
          "x": -7.264597415924072,
          "y": 6.658933639526367
         },
         {
          "surname": "haddon",
          "x": 2.272413492202759,
          "y": 8.541712760925293
         },
         {
          "surname": "halliday",
          "x": -2.16111421585083,
          "y": 11.784720420837402
         },
         {
          "surname": "hamilton",
          "x": -14.564030647277832,
          "y": 13.204800605773926
         },
         {
          "surname": "hammersley",
          "x": -9.431602478027344,
          "y": -9.389402389526367
         },
         {
          "surname": "handel",
          "x": 11.876670837402344,
          "y": -3.138969659805298
         },
         {
          "surname": "handy",
          "x": -0.44593775272369385,
          "y": -14.172750473022461
         },
         {
          "surname": "hansberry",
          "x": 0.699840247631073,
          "y": 19.31389808654785
         },
         {
          "surname": "hardin",
          "x": -14.974257469177246,
          "y": 1.247625470161438
         },
         {
          "surname": "hardt",
          "x": -28.821969985961914,
          "y": -1.4669610261917114
         },
         {
          "surname": "hardy",
          "x": 11.107034683227539,
          "y": 17.96036720275879
         },
         {
          "surname": "harris",
          "x": -0.44216033816337585,
          "y": -19.193941116333008
         },
         {
          "surname": "hart",
          "x": -6.564579010009766,
          "y": -10.958930969238281
         },
         {
          "surname": "harvey",
          "x": -24.238901138305664,
          "y": -3.056356430053711
         },
         {
          "surname": "hawthorne",
          "x": -6.55703592300415,
          "y": 25.741418838500977
         },
         {
          "surname": "hayek",
          "x": -22.766468048095703,
          "y": 4.097688674926758
         },
         {
          "surname": "hazzard",
          "x": 55.240135192871094,
          "y": -2.4524612426757812
         },
         {
          "surname": "hearn",
          "x": 6.505785942077637,
          "y": -14.0764799118042
         },
         {
          "surname": "hebdige",
          "x": -25.450145721435547,
          "y": -5.479401111602783
         },
         {
          "surname": "hecht",
          "x": 8.36000919342041,
          "y": -12.247891426086426
         },
         {
          "surname": "hegel",
          "x": -26.57745933532715,
          "y": 7.156314849853516
         },
         {
          "surname": "heidegger",
          "x": -32.42540740966797,
          "y": -0.07261747121810913
         },
         {
          "surname": "held",
          "x": -24.30577278137207,
          "y": -1.428895354270935
         },
         {
          "surname": "hemingway",
          "x": 0.6022472381591797,
          "y": 27.11823272705078
         },
         {
          "surname": "hennessy",
          "x": 0.4679231643676758,
          "y": -23.59688377380371
         },
         {
          "surname": "henry",
          "x": 3.302987813949585,
          "y": -1.737037181854248
         },
         {
          "surname": "herodotus",
          "x": 19.342090606689453,
          "y": 3.4494080543518066
         },
         {
          "surname": "herr",
          "x": 2.267798900604248,
          "y": 10.130864143371582
         },
         {
          "surname": "hersey",
          "x": -0.0812600627541542,
          "y": 10.35280990600586
         },
         {
          "surname": "hesiod",
          "x": 19.900049209594727,
          "y": 3.3532874584198
         },
         {
          "surname": "hesse",
          "x": 1.389716386795044,
          "y": 11.443154335021973
         },
         {
          "surname": "heti",
          "x": 54.2448616027832,
          "y": -3.9095373153686523
         },
         {
          "surname": "hewitt",
          "x": 1.7231509685516357,
          "y": -5.776730537414551
         },
         {
          "surname": "hill",
          "x": 4.885004997253418,
          "y": -16.067140579223633
         },
         {
          "surname": "hillier",
          "x": 4.836014270782471,
          "y": -13.058342933654785
         },
         {
          "surname": "hitler",
          "x": -25.09981918334961,
          "y": 6.6564130783081055
         },
         {
          "surname": "hobbes",
          "x": -17.634496688842773,
          "y": 19.3248348236084
         },
         {
          "surname": "hobson",
          "x": -21.906986236572266,
          "y": 3.3493525981903076
         },
         {
          "surname": "hochschild",
          "x": -12.43933391571045,
          "y": -8.202850341796875
         },
         {
          "surname": "hoffman",
          "x": -7.955021858215332,
          "y": -15.358642578125
         },
         {
          "surname": "holman",
          "x": 7.221940994262695,
          "y": 7.053819179534912
         },
         {
          "surname": "homer",
          "x": 22.637435913085938,
          "y": 5.130284309387207
         },
         {
          "surname": "hooks",
          "x": -7.362001895904541,
          "y": -8.50792121887207
         },
         {
          "surname": "horace",
          "x": 15.903918266296387,
          "y": 4.078032493591309
         },
         {
          "surname": "horkheimer",
          "x": -29.792789459228516,
          "y": -0.7634950876235962
         },
         {
          "surname": "horowitz",
          "x": -1.5413758754730225,
          "y": -13.497432708740234
         },
         {
          "surname": "howell",
          "x": 0.25078409910202026,
          "y": -21.571340560913086
         },
         {
          "surname": "huff",
          "x": -6.680062770843506,
          "y": -1.4705079793930054
         },
         {
          "surname": "hughes",
          "x": -0.36298710107803345,
          "y": 16.066308975219727
         },
         {
          "surname": "hull",
          "x": -10.951671600341797,
          "y": -13.32876968383789
         },
         {
          "surname": "hume",
          "x": -18.906538009643555,
          "y": 13.125657081604004
         },
         {
          "surname": "huntington",
          "x": -30.05072593688965,
          "y": 4.045797824859619
         },
         {
          "surname": "hurston",
          "x": 0.8419853448867798,
          "y": 26.45224952697754
         },
         {
          "surname": "huxley",
          "x": 8.906270980834961,
          "y": 22.13909912109375
         },
         {
          "surname": "hwang",
          "x": 1.799336314201355,
          "y": 13.695063591003418
         },
         {
          "surname": "ibsen",
          "x": 10.206786155700684,
          "y": 10.043436050415039
         },
         {
          "surname": "irving",
          "x": -5.814213752746582,
          "y": 21.955867767333984
         },
         {
          "surname": "ishiguro",
          "x": 8.911382675170898,
          "y": 17.061925888061523
         },
         {
          "surname": "jackson",
          "x": 58.92011642456055,
          "y": -1.7730967998504639
         },
         {
          "surname": "jacobs",
          "x": -5.112258434295654,
          "y": 23.190553665161133
         },
         {
          "surname": "james",
          "x": -0.9206175208091736,
          "y": 29.012584686279297
         },
         {
          "surname": "jameson",
          "x": -30.664844512939453,
          "y": -2.1322951316833496
         },
         {
          "surname": "jarvis",
          "x": 7.900365352630615,
          "y": -19.55441665649414
         },
         {
          "surname": "jefferson",
          "x": -7.75039005279541,
          "y": 23.51555061340332
         },
         {
          "surname": "jervis",
          "x": -14.751354217529297,
          "y": -1.284777045249939
         },
         {
          "surname": "johnson",
          "x": -1.5396275520324707,
          "y": -20.950674057006836
         },
         {
          "surname": "jones",
          "x": 56.220638275146484,
          "y": -2.148702383041382
         },
         {
          "surname": "joyce",
          "x": 16.375932693481445,
          "y": 22.889060974121094
         },
         {
          "surname": "kafka",
          "x": 9.236504554748535,
          "y": 20.427682876586914
         },
         {
          "surname": "kalat",
          "x": 0.4551955461502075,
          "y": -13.80897331237793
         },
         {
          "surname": "kamien",
          "x": 12.039539337158203,
          "y": -6.736238479614258
         },
         {
          "surname": "kant",
          "x": -18.843664169311523,
          "y": 15.042947769165039
         },
         {
          "surname": "kaplan",
          "x": -18.55433464050293,
          "y": -1.8414158821105957
         },
         {
          "surname": "keats",
          "x": 17.128419876098633,
          "y": 19.023616790771484
         },
         {
          "surname": "keck",
          "x": -14.887163162231445,
          "y": -4.530324459075928
         },
         {
          "surname": "keegan",
          "x": 56.753562927246094,
          "y": -3.8173165321350098
         },
         {
          "surname": "keller",
          "x": 6.369533061981201,
          "y": -24.964380264282227
         },
         {
          "surname": "kennedy",
          "x": 2.8809237480163574,
          "y": -21.465883255004883
         },
         {
          "surname": "keohane",
          "x": -16.14301300048828,
          "y": -1.7068077325820923
         },
         {
          "surname": "kernighan",
          "x": 8.819988250732422,
          "y": -15.644159317016602
         },
         {
          "surname": "kerouac",
          "x": 2.861543893814087,
          "y": 21.553115844726562
         },
         {
          "surname": "kershaw",
          "x": -11.161250114440918,
          "y": -8.2061185836792
         },
         {
          "surname": "keynes",
          "x": -22.153270721435547,
          "y": 3.206382989883423
         },
         {
          "surname": "kidder",
          "x": 54.03582763671875,
          "y": -0.8564348220825195
         },
         {
          "surname": "kierkegaard",
          "x": -16.714954376220703,
          "y": 7.1970744132995605
         },
         {
          "surname": "kieso",
          "x": 3.295729398727417,
          "y": -7.398183822631836
         },
         {
          "surname": "kincaid",
          "x": 0.909648597240448,
          "y": 8.389561653137207
         },
         {
          "surname": "king",
          "x": -8.181471824645996,
          "y": 21.71441650390625
         },
         {
          "surname": "kingdon",
          "x": -7.130564212799072,
          "y": -0.7290527820587158
         },
         {
          "surname": "kissinger",
          "x": -13.671516418457031,
          "y": -1.610006332397461
         },
         {
          "surname": "kittel",
          "x": 8.526651382446289,
          "y": -10.822654724121094
         },
         {
          "surname": "kneale",
          "x": 55.27263259887695,
          "y": -1.7972160577774048
         },
         {
          "surname": "kolb",
          "x": 2.733767032623291,
          "y": -23.337142944335938
         },
         {
          "surname": "korth",
          "x": 13.089612007141113,
          "y": -21.62890625
         },
         {
          "surname": "kotler",
          "x": -4.827045917510986,
          "y": -3.2787671089172363
         },
         {
          "surname": "kotter",
          "x": 10.43410587310791,
          "y": -15.737509727478027
         },
         {
          "surname": "kouzes",
          "x": 2.580883741378784,
          "y": -9.704754829406738
         },
         {
          "surname": "krasner",
          "x": -15.220501899719238,
          "y": -3.996920347213745
         },
         {
          "surname": "kreyszig",
          "x": 7.452986717224121,
          "y": -10.981342315673828
         },
         {
          "surname": "kripke",
          "x": -13.757452011108398,
          "y": 6.587069034576416
         },
         {
          "surname": "krugman",
          "x": -20.452190399169922,
          "y": -3.5259759426116943
         },
         {
          "surname": "kuhn",
          "x": -29.78399658203125,
          "y": 2.780742883682251
         },
         {
          "surname": "kurose",
          "x": 10.920489311218262,
          "y": -21.550737380981445
         },
         {
          "surname": "kushner",
          "x": 1.9663561582565308,
          "y": 13.46119213104248
         },
         {
          "surname": "ladefoged",
          "x": 2.388887405395508,
          "y": -18.728065490722656
         },
         {
          "surname": "lahiri",
          "x": 2.672039031982422,
          "y": 11.158703804016113
         },
         {
          "surname": "lakoff",
          "x": -0.850437343120575,
          "y": 4.949513912200928
         },
         {
          "surname": "landau",
          "x": 8.79547119140625,
          "y": -12.823084831237793
         },
         {
          "surname": "landow",
          "x": -1.1176326274871826,
          "y": 5.696959018707275
         },
         {
          "surname": "lannon",
          "x": 3.863288402557373,
          "y": -17.185760498046875
         },
         {
          "surname": "larsen",
          "x": 3.0559847354888916,
          "y": 22.905263900756836
         },
         {
          "surname": "lay",
          "x": 6.658267974853516,
          "y": -19.846765518188477
         },
         {
          "surname": "lee",
          "x": 3.7746920585632324,
          "y": 21.16643714904785
         },
         {
          "surname": "lehne",
          "x": 7.718432903289795,
          "y": -20.84514045715332
         },
         {
          "surname": "lehninger",
          "x": -0.7563866972923279,
          "y": -13.578404426574707
         },
         {
          "surname": "lenin",
          "x": -25.95440673828125,
          "y": 5.598465442657471
         },
         {
          "surname": "lessig",
          "x": -11.267828941345215,
          "y": -11.5095796585083
         },
         {
          "surname": "levi",
          "x": 5.154085159301758,
          "y": 9.324381828308105
         },
         {
          "surname": "levy",
          "x": 54.760311126708984,
          "y": -1.3242621421813965
         },
         {
          "surname": "lewicki",
          "x": 4.161686897277832,
          "y": -16.515321731567383
         },
         {
          "surname": "lewin",
          "x": 0.17227953672409058,
          "y": -20.15833854675293
         },
         {
          "surname": "lewis",
          "x": -2.8415415287017822,
          "y": -7.272657871246338
         },
         {
          "surname": "lightbown",
          "x": 2.429394006729126,
          "y": -18.745521545410156
         },
         {
          "surname": "lincoln",
          "x": -6.5339035987854,
          "y": 20.36920738220215
         },
         {
          "surname": "lindblom",
          "x": -7.902689456939697,
          "y": -0.22909660637378693
         },
         {
          "surname": "liszt",
          "x": 12.104028701782227,
          "y": -5.285783290863037
         },
         {
          "surname": "livy",
          "x": 14.191780090332031,
          "y": 3.3332626819610596
         },
         {
          "surname": "locke",
          "x": -17.503271102905273,
          "y": 19.38311195373535
         },
         {
          "surname": "long",
          "x": 11.362401008605957,
          "y": -18.257204055786133
         },
         {
          "surname": "lovins",
          "x": -5.507619380950928,
          "y": -14.492801666259766
         },
         {
          "surname": "lowry",
          "x": 3.0184717178344727,
          "y": 9.468607902526855
         },
         {
          "surname": "lucas",
          "x": 2.7287802696228027,
          "y": -6.950734615325928
         },
         {
          "surname": "lukes",
          "x": -24.172842025756836,
          "y": -1.054517149925232
         },
         {
          "surname": "lunsford",
          "x": 2.3859643936157227,
          "y": 4.904019355773926
         },
         {
          "surname": "lynch",
          "x": -1.3262875080108643,
          "y": -6.037388324737549
         },
         {
          "surname": "lyotard",
          "x": -28.020971298217773,
          "y": -3.5001673698425293
         },
         {
          "surname": "machiavelli",
          "x": -16.699661254882812,
          "y": 19.656526565551758
         },
         {
          "surname": "madigan",
          "x": 7.050693511962891,
          "y": -18.66765022277832
         },
         {
          "surname": "mahler",
          "x": 11.451294898986816,
          "y": -5.244654178619385
         },
         {
          "surname": "maimon",
          "x": 11.567631721496582,
          "y": -14.316986083984375
         },
         {
          "surname": "malthus",
          "x": -25.014652252197266,
          "y": 6.08419132232666
         },
         {
          "surname": "mankiw",
          "x": -20.825695037841797,
          "y": -4.206485748291016
         },
         {
          "surname": "manovich",
          "x": -22.05434799194336,
          "y": -7.520051956176758
         },
         {
          "surname": "marcus aurelius",
          "x": 14.036164283752441,
          "y": 4.68369722366333
         },
         {
          "surname": "marie",
          "x": 10.726314544677734,
          "y": 9.597833633422852
         },
         {
          "surname": "marieb",
          "x": -1.5565450191497803,
          "y": -9.130620002746582
         },
         {
          "surname": "marius",
          "x": -6.631451606750488,
          "y": 2.1004881858825684
         },
         {
          "surname": "marlowe",
          "x": 15.642838478088379,
          "y": 14.901725769042969
         },
         {
          "surname": "martin",
          "x": -8.437742233276367,
          "y": -6.891599655151367
         },
         {
          "surname": "martini",
          "x": 1.0411381721496582,
          "y": -16.438753128051758
         },
         {
          "surname": "marvell",
          "x": 14.773564338684082,
          "y": 14.488906860351562
         },
         {
          "surname": "marx",
          "x": -33.85423278808594,
          "y": 5.64184045791626
         },
         {
          "surname": "mas-colell",
          "x": 3.574274778366089,
          "y": -21.521635055541992
         },
         {
          "surname": "mayhew",
          "x": -11.312275886535645,
          "y": -0.3683629333972931
         },
         {
          "surname": "mccloud",
          "x": 57.41813659667969,
          "y": -2.9881365299224854
         },
         {
          "surname": "mccullers",
          "x": 57.45063781738281,
          "y": -1.5336970090866089
         },
         {
          "surname": "mcgahan",
          "x": 55.028594970703125,
          "y": -4.295650482177734
         },
         {
          "surname": "mclellan",
          "x": -27.18158531188965,
          "y": 4.95079231262207
         },
         {
          "surname": "mcluhan",
          "x": -25.70012092590332,
          "y": -6.187195777893066
         },
         {
          "surname": "mcmillan",
          "x": 4.920805931091309,
          "y": -17.303693771362305
         },
         {
          "surname": "mcmurry",
          "x": 4.276440620422363,
          "y": -8.208498001098633
         },
         {
          "surname": "mcphee",
          "x": 56.534324645996094,
          "y": -3.009822368621826
         },
         {
          "surname": "mearsheimer",
          "x": -17.26045799255371,
          "y": -0.25946560502052307
         },
         {
          "surname": "meggs",
          "x": 0.673034131526947,
          "y": -17.466466903686523
         },
         {
          "surname": "melville",
          "x": -6.665615558624268,
          "y": 25.768220901489258
         },
         {
          "surname": "mendelsohn",
          "x": 54.53041076660156,
          "y": -2.5177910327911377
         },
         {
          "surname": "merleau-ponty",
          "x": -24.771299362182617,
          "y": -7.011085033416748
         },
         {
          "surname": "mill",
          "x": -18.426555633544922,
          "y": 19.115446090698242
         },
         {
          "surname": "miller",
          "x": 0.5117620229721069,
          "y": 24.727645874023438
         },
         {
          "surname": "mills",
          "x": -31.351266860961914,
          "y": 3.539478063583374
         },
         {
          "surname": "milton",
          "x": 19.55266761779785,
          "y": 17.672754287719727
         },
         {
          "surname": "miner",
          "x": -22.529085159301758,
          "y": -4.391140460968018
         },
         {
          "surname": "mitchell",
          "x": -1.4988993406295776,
          "y": -19.33229637145996
         },
         {
          "surname": "moliere",
          "x": 12.43196964263916,
          "y": 2.929884433746338
         },
         {
          "surname": "momaday",
          "x": -1.5454856157302856,
          "y": 13.441329956054688
         },
         {
          "surname": "montesquieu",
          "x": -15.403888702392578,
          "y": 13.965786933898926
         },
         {
          "surname": "moody",
          "x": -1.567925214767456,
          "y": 11.141730308532715
         },
         {
          "surname": "moore",
          "x": 2.083408832550049,
          "y": 11.355486869812012
         },
         {
          "surname": "more",
          "x": 15.757290840148926,
          "y": 12.18391227722168
         },
         {
          "surname": "morgan",
          "x": -8.492011070251465,
          "y": -9.950655937194824
         },
         {
          "surname": "morrison",
          "x": -0.2356477975845337,
          "y": 29.09246253967285
         },
         {
          "surname": "mozart",
          "x": 11.625879287719727,
          "y": -2.1583731174468994
         },
         {
          "surname": "mullins",
          "x": -4.157416343688965,
          "y": -17.37738609313965
         },
         {
          "surname": "myers",
          "x": 0.6998817324638367,
          "y": -11.55138874053955
         },
         {
          "surname": "nabokov",
          "x": 5.494065284729004,
          "y": 20.767168045043945
         },
         {
          "surname": "nagel",
          "x": -13.804095268249512,
          "y": 7.195356845855713
         },
         {
          "surname": "negroponte",
          "x": -9.703371047973633,
          "y": -6.856432914733887
         },
         {
          "surname": "nelson",
          "x": -0.78000408411026,
          "y": -18.308168411254883
         },
         {
          "surname": "new york (state)",
          "x": 12.228206634521484,
          "y": -4.5100202560424805
         },
         {
          "surname": "nielsen",
          "x": -3.4729063510894775,
          "y": -18.398479461669922
         },
         {
          "surname": "nietzsche",
          "x": -27.31353187561035,
          "y": 7.788838863372803
         },
         {
          "surname": "norman",
          "x": -6.285224437713623,
          "y": -12.96900749206543
         },
         {
          "surname": "north",
          "x": -19.51776123046875,
          "y": -2.008145332336426
         },
         {
          "surname": "northouse",
          "x": 11.357736587524414,
          "y": -15.712769508361816
         },
         {
          "surname": "nozick",
          "x": -15.176432609558105,
          "y": 12.573418617248535
         },
         {
          "surname": "oppenheim",
          "x": -5.3529815673828125,
          "y": -18.219820022583008
         },
         {
          "surname": "orwell",
          "x": 8.448007583618164,
          "y": 21.156484603881836
         },
         {
          "surname": "ostrom",
          "x": -15.439295768737793,
          "y": -5.338435173034668
         },
         {
          "surname": "ottman",
          "x": 7.66328763961792,
          "y": -17.911367416381836
         },
         {
          "surname": "ovid",
          "x": 20.08074188232422,
          "y": 3.3428456783294678
         },
         {
          "surname": "paine",
          "x": -12.854059219360352,
          "y": 19.794296264648438
         },
         {
          "surname": "pater",
          "x": 12.063907623291016,
          "y": 15.405158996582031
         },
         {
          "surname": "paton",
          "x": 55.81326675415039,
          "y": -0.4571792185306549
         },
         {
          "surname": "patterson",
          "x": 11.490049362182617,
          "y": -20.791597366333008
         },
         {
          "surname": "patton",
          "x": -5.883880138397217,
          "y": -10.529664993286133
         },
         {
          "surname": "paul",
          "x": -18.674440383911133,
          "y": -2.864619731903076
         },
         {
          "surname": "pepys",
          "x": 12.408857345581055,
          "y": 11.63133716583252
         },
         {
          "surname": "percy",
          "x": 57.05757522583008,
          "y": -2.1649444103240967
         },
         {
          "surname": "peterson",
          "x": 13.234378814697266,
          "y": -22.04438591003418
         },
         {
          "surname": "petterson",
          "x": 53.64323425292969,
          "y": -2.389033794403076
         },
         {
          "surname": "pindyck",
          "x": -4.258803844451904,
          "y": -15.24651050567627
         },
         {
          "surname": "pinker",
          "x": 3.9394643306732178,
          "y": 7.62105131149292
         },
         {
          "surname": "plath",
          "x": 3.473695755004883,
          "y": 19.66404151916504
         },
         {
          "surname": "plato",
          "x": -20.20026206970215,
          "y": 12.360610008239746
         },
         {
          "surname": "poe",
          "x": -6.416257381439209,
          "y": 24.204545974731445
         },
         {
          "surname": "polanyi",
          "x": -27.37793731689453,
          "y": 3.661461591720581
         },
         {
          "surname": "pope",
          "x": 18.342071533203125,
          "y": 19.26122283935547
         },
         {
          "surname": "popper",
          "x": -15.713273048400879,
          "y": 6.717215061187744
         },
         {
          "surname": "porter",
          "x": -7.821801662445068,
          "y": -15.466483116149902
         },
         {
          "surname": "postman",
          "x": -3.3142271041870117,
          "y": -6.7799811363220215
         },
         {
          "surname": "pound",
          "x": 5.761267185211182,
          "y": 7.226184368133545
         },
         {
          "surname": "power",
          "x": -30.73554039001465,
          "y": -0.5273009538650513
         },
         {
          "surname": "preece",
          "x": -1.6897525787353516,
          "y": -16.254079818725586
         },
         {
          "surname": "proakis",
          "x": 8.448644638061523,
          "y": -14.113338470458984
         },
         {
          "surname": "putnam",
          "x": -25.14605712890625,
          "y": 2.529935121536255
         },
         {
          "surname": "pynchon",
          "x": 3.6573238372802734,
          "y": 23.051809310913086
         },
         {
          "surname": "rabelais",
          "x": 12.6788969039917,
          "y": 4.336450576782227
         },
         {
          "surname": "rachels",
          "x": -14.576560974121094,
          "y": 8.24757194519043
         },
         {
          "surname": "ramakrishnan",
          "x": 12.96714973449707,
          "y": -22.0191650390625
         },
         {
          "surname": "rampolla",
          "x": -6.6546173095703125,
          "y": 3.602513074874878
         },
         {
          "surname": "rawls",
          "x": -17.669418334960938,
          "y": 14.755927085876465
         },
         {
          "surname": "ray",
          "x": -2.6578986644744873,
          "y": -19.36858367919922
         },
         {
          "surname": "read",
          "x": -1.394266963005066,
          "y": 13.566606521606445
         },
         {
          "surname": "reading",
          "x": 5.274045944213867,
          "y": -27.272247314453125
         },
         {
          "surname": "rehnquist",
          "x": 9.830317497253418,
          "y": -14.081534385681152
         },
         {
          "surname": "remarque",
          "x": 7.8036932945251465,
          "y": 13.10184383392334
         },
         {
          "surname": "renfrew",
          "x": 0.9337548017501831,
          "y": -9.740798950195312
         },
         {
          "surname": "rhys",
          "x": 10.67980670928955,
          "y": 21.417694091796875
         },
         {
          "surname": "rich",
          "x": -22.15636444091797,
          "y": -6.597999572753906
         },
         {
          "surname": "ritzer",
          "x": -26.219207763671875,
          "y": -2.221062183380127
         },
         {
          "surname": "robbins",
          "x": -0.6976286172866821,
          "y": -8.968461990356445
         },
         {
          "surname": "rodrik",
          "x": -13.44335651397705,
          "y": -8.943451881408691
         },
         {
          "surname": "rogers",
          "x": -7.499349117279053,
          "y": -14.990628242492676
         },
         {
          "surname": "romer",
          "x": -9.2210054397583,
          "y": -12.74036693572998
         },
         {
          "surname": "rosen",
          "x": -3.3560256958007812,
          "y": -10.746750831604004
         },
         {
          "surname": "rosenhan",
          "x": -23.262432098388672,
          "y": -4.0134501457214355
         },
         {
          "surname": "rosenwasser",
          "x": -2.8266985416412354,
          "y": -0.7488762736320496
         },
         {
          "surname": "ross",
          "x": 14.972893714904785,
          "y": -17.55951499938965
         },
         {
          "surname": "rossetti",
          "x": 15.195112228393555,
          "y": 17.84829330444336
         },
         {
          "surname": "roth",
          "x": 56.45907974243164,
          "y": -0.6894899010658264
         },
         {
          "surname": "rousseau",
          "x": -16.960554122924805,
          "y": 19.264341354370117
         },
         {
          "surname": "rowson",
          "x": -1.8133246898651123,
          "y": 16.543115615844727
         },
         {
          "surname": "roy",
          "x": 7.387575149536133,
          "y": 16.914878845214844
         },
         {
          "surname": "rudestam",
          "x": 3.859126329421997,
          "y": -23.175905227661133
         },
         {
          "surname": "rudin",
          "x": 5.805774688720703,
          "y": -22.914751052856445
         },
         {
          "surname": "rushdie",
          "x": 4.660956859588623,
          "y": 12.666709899902344
         },
         {
          "surname": "russell",
          "x": -14.92512321472168,
          "y": 9.656465530395508
         },
         {
          "surname": "russett",
          "x": -14.564896583557129,
          "y": -2.265869379043579
         },
         {
          "surname": "said",
          "x": -32.94822692871094,
          "y": 4.256224155426025
         },
         {
          "surname": "salinger",
          "x": 2.697112560272217,
          "y": 23.9401798248291
         },
         {
          "surname": "salkind",
          "x": 6.4045634269714355,
          "y": -18.363161087036133
         },
         {
          "surname": "santrock",
          "x": 0.09559780359268188,
          "y": -16.1593074798584
         },
         {
          "surname": "sargent",
          "x": 4.861276149749756,
          "y": -21.888750076293945
         },
         {
          "surname": "sartre",
          "x": -21.227535247802734,
          "y": 10.20682144165039
         },
         {
          "surname": "satrapi",
          "x": 1.01310133934021,
          "y": 6.9143452644348145
         },
         {
          "surname": "saussure",
          "x": -29.885498046875,
          "y": -1.9192185401916504
         },
         {
          "surname": "schein",
          "x": -2.424590587615967,
          "y": -15.717950820922852
         },
         {
          "surname": "schelling",
          "x": -13.966625213623047,
          "y": -1.2546526193618774
         },
         {
          "surname": "schildt",
          "x": 10.386675834655762,
          "y": -17.427162170410156
         },
         {
          "surname": "schumpeter",
          "x": -23.894193649291992,
          "y": 3.2905313968658447
         },
         {
          "surname": "scott",
          "x": -23.033740997314453,
          "y": -4.971689224243164
         },
         {
          "surname": "sedgwick",
          "x": -28.653844833374023,
          "y": -4.564670562744141
         },
         {
          "surname": "sedra",
          "x": 7.965818405151367,
          "y": -12.275428771972656
         },
         {
          "surname": "serway",
          "x": 2.091965675354004,
          "y": -4.617557525634766
         },
         {
          "surname": "shaara",
          "x": 0.2861562669277191,
          "y": -1.193138837814331
         },
         {
          "surname": "shakespeare",
          "x": 19.993545532226562,
          "y": 16.712968826293945
         },
         {
          "surname": "sharp",
          "x": -5.123707294464111,
          "y": -19.24785041809082
         },
         {
          "surname": "shaw",
          "x": 11.354035377502441,
          "y": 13.519251823425293
         },
         {
          "surname": "shelley",
          "x": 18.555057525634766,
          "y": 23.35225486755371
         },
         {
          "surname": "silberschatz",
          "x": 15.141467094421387,
          "y": -18.210233688354492
         },
         {
          "surname": "silko",
          "x": 3.3798882961273193,
          "y": 21.838022232055664
         },
         {
          "surname": "silverman",
          "x": -4.318024158477783,
          "y": -19.234315872192383
         },
         {
          "surname": "silvestri",
          "x": 6.886683940887451,
          "y": -24.04835319519043
         },
         {
          "surname": "sinclair",
          "x": 1.249822735786438,
          "y": 21.442222595214844
         },
         {
          "surname": "singer",
          "x": -15.62021541595459,
          "y": 11.499947547912598
         },
         {
          "surname": "sipser",
          "x": 6.7909417152404785,
          "y": -23.248884201049805
         },
         {
          "surname": "skidmore",
          "x": -11.937397003173828,
          "y": -13.275699615478516
         },
         {
          "surname": "skoog",
          "x": 8.398067474365234,
          "y": -17.12833595275879
         },
         {
          "surname": "smith",
          "x": -15.2272310256958,
          "y": 18.121803283691406
         },
         {
          "surname": "snow",
          "x": -3.192535400390625,
          "y": -3.7344913482666016
         },
         {
          "surname": "sontag",
          "x": -22.692420959472656,
          "y": -7.9069108963012695
         },
         {
          "surname": "sophocles",
          "x": 22.753318786621094,
          "y": 5.261134624481201
         },
         {
          "surname": "soto",
          "x": -14.393442153930664,
          "y": -5.8149943351745605
         },
         {
          "surname": "spence",
          "x": -9.94775390625,
          "y": -16.302888870239258
         },
         {
          "surname": "spenser",
          "x": 14.91320514678955,
          "y": 14.692497253417969
         },
         {
          "surname": "spiegelman",
          "x": 5.580077648162842,
          "y": 16.567012786865234
         },
         {
          "surname": "spinoza",
          "x": -14.395339965820312,
          "y": 11.040290832519531
         },
         {
          "surname": "stallings",
          "x": 15.416085243225098,
          "y": -18.583328247070312
         },
         {
          "surname": "steinbeck",
          "x": 58.88930892944336,
          "y": -0.023828139528632164
         },
         {
          "surname": "stephenson",
          "x": 2.438807249069214,
          "y": 9.41845417022705
         },
         {
          "surname": "sterne",
          "x": 10.211458206176758,
          "y": 17.18712043762207
         },
         {
          "surname": "stevens",
          "x": 14.350883483886719,
          "y": -20.636157989501953
         },
         {
          "surname": "stevenson",
          "x": 12.798328399658203,
          "y": 20.06602668762207
         },
         {
          "surname": "stewart",
          "x": 9.701509475708008,
          "y": -11.550416946411133
         },
         {
          "surname": "stiglitz",
          "x": -25.40961265563965,
          "y": 1.1960604190826416
         },
         {
          "surname": "stoker",
          "x": 12.733843803405762,
          "y": 20.78628158569336
         },
         {
          "surname": "stokstad",
          "x": 1.0797147750854492,
          "y": -9.065040588378906
         },
         {
          "surname": "stone",
          "x": 5.0572943687438965,
          "y": -10.519013404846191
         },
         {
          "surname": "stoppard",
          "x": 55.12165069580078,
          "y": 0.4215458333492279
         },
         {
          "surname": "stravinsky",
          "x": 10.693086624145508,
          "y": -2.973975896835327
         },
         {
          "surname": "stroustrup",
          "x": 5.914914131164551,
          "y": -16.872329711914062
         },
         {
          "surname": "strunk",
          "x": -7.350857734680176,
          "y": 7.1882829666137695
         },
         {
          "surname": "stryer",
          "x": -1.9584590196609497,
          "y": -4.837705612182617
         },
         {
          "surname": "sturken",
          "x": -8.253678321838379,
          "y": -9.546107292175293
         },
         {
          "surname": "suetonius",
          "x": 14.155168533325195,
          "y": 3.3256332874298096
         },
         {
          "surname": "surowiecki",
          "x": 55.94832229614258,
          "y": -4.255786895751953
         },
         {
          "surname": "suzuki",
          "x": -3.7530925273895264,
          "y": -6.385862350463867
         },
         {
          "surname": "swift",
          "x": 14.756165504455566,
          "y": 13.712248802185059
         },
         {
          "surname": "tacitus",
          "x": 16.250638961791992,
          "y": 4.15915060043335
         },
         {
          "surname": "takaki",
          "x": -1.2761141061782837,
          "y": -6.260595321655273
         },
         {
          "surname": "tan",
          "x": 1.8579295873641968,
          "y": 20.16633415222168
         },
         {
          "surname": "tanenbaum",
          "x": 16.124916076660156,
          "y": -18.663089752197266
         },
         {
          "surname": "tarbuck",
          "x": 8.116326332092285,
          "y": -17.565675735473633
         },
         {
          "surname": "taylor",
          "x": -20.338172912597656,
          "y": -1.4365676641464233
         },
         {
          "surname": "tennyson",
          "x": 17.43166732788086,
          "y": 19.78824234008789
         },
         {
          "surname": "thackeray",
          "x": 11.728547096252441,
          "y": 17.946186065673828
         },
         {
          "surname": "thomas",
          "x": -16.682445526123047,
          "y": 12.237707138061523
         },
         {
          "surname": "thompson",
          "x": -26.069812774658203,
          "y": -0.563218891620636
         },
         {
          "surname": "thoreau",
          "x": -7.2959089279174805,
          "y": 25.164535522460938
         },
         {
          "surname": "thucydides",
          "x": 19.06136703491211,
          "y": 3.5306172370910645
         },
         {
          "surname": "time",
          "x": 8.406704902648926,
          "y": -1.5264184474945068
         },
         {
          "surname": "tindall",
          "x": -1.1576265096664429,
          "y": -0.21934114396572113
         },
         {
          "surname": "tirole",
          "x": 2.69049334526062,
          "y": -22.280967712402344
         },
         {
          "surname": "tocqueville",
          "x": -13.653487205505371,
          "y": 19.352432250976562
         },
         {
          "surname": "todaro",
          "x": -12.197027206420898,
          "y": -9.896086692810059
         },
         {
          "surname": "tolkien",
          "x": 8.29825210571289,
          "y": 18.086400985717773
         },
         {
          "surname": "tolstoy",
          "x": 9.359392166137695,
          "y": 19.927759170532227
         },
         {
          "surname": "toomer",
          "x": 2.8754777908325195,
          "y": 19.4559326171875
         },
         {
          "surname": "tortora",
          "x": -0.6534597873687744,
          "y": -16.623271942138672
         },
         {
          "surname": "trotsky",
          "x": -22.10895347595215,
          "y": 3.031186819076538
         },
         {
          "surname": "tufte",
          "x": -5.986048698425293,
          "y": 0.6399153470993042
         },
         {
          "surname": "turabian",
          "x": -7.1222100257873535,
          "y": 5.70217227935791
         },
         {
          "surname": "turgenev",
          "x": 8.217899322509766,
          "y": 11.402861595153809
         },
         {
          "surname": "turing",
          "x": -12.96268367767334,
          "y": 6.3511061668396
         },
         {
          "surname": "turkle",
          "x": -20.832841873168945,
          "y": -7.472772121429443
         },
         {
          "surname": "turner",
          "x": -4.0453386306762695,
          "y": 13.979564666748047
         },
         {
          "surname": "tversky",
          "x": 4.268840312957764,
          "y": -15.494181632995605
         },
         {
          "surname": "twain",
          "x": -0.903931736946106,
          "y": 26.58055305480957
         },
         {
          "surname": "tzu",
          "x": -12.670252799987793,
          "y": 1.5262796878814697
         },
         {
          "surname": "unesco",
          "x": 4.340753555297852,
          "y": -19.404972076416016
         },
         {
          "surname": "varian",
          "x": -10.632305145263672,
          "y": -12.883685111999512
         },
         {
          "surname": "veblen",
          "x": -23.270174026489258,
          "y": 0.12718194723129272
         },
         {
          "surname": "virgil",
          "x": 20.576875686645508,
          "y": 3.53116512298584
         },
         {
          "surname": "voet",
          "x": -1.2330822944641113,
          "y": -4.930821418762207
         },
         {
          "surname": "voltaire",
          "x": 15.791213035583496,
          "y": 10.759394645690918
         },
         {
          "surname": "wade",
          "x": 6.887186527252197,
          "y": -21.494056701660156
         },
         {
          "surname": "walker",
          "x": -1.304133415222168,
          "y": 26.915842056274414
         },
         {
          "surname": "wallace",
          "x": 55.26848220825195,
          "y": -3.4947192668914795
         },
         {
          "surname": "wallerstein",
          "x": -25.00417709350586,
          "y": -1.2177897691726685
         },
         {
          "surname": "walpole",
          "x": 11.456602096557617,
          "y": 15.808137893676758
         },
         {
          "surname": "waltz",
          "x": -16.889158248901367,
          "y": 0.0318727008998394
         },
         {
          "surname": "ware",
          "x": 55.78303909301758,
          "y": -2.613676071166992
         },
         {
          "surname": "watson",
          "x": -4.385320663452148,
          "y": -8.034899711608887
         },
         {
          "surname": "weber",
          "x": -31.747623443603516,
          "y": 5.183953762054443
         },
         {
          "surname": "webster",
          "x": 12.287957191467285,
          "y": 12.551250457763672
         },
         {
          "surname": "weir",
          "x": 6.241611003875732,
          "y": -21.62257194519043
         },
         {
          "surname": "weiten",
          "x": 6.29251766204834,
          "y": -20.188058853149414
         },
         {
          "surname": "wells",
          "x": 9.677140235900879,
          "y": 18.494022369384766
         },
         {
          "surname": "west",
          "x": -20.871469497680664,
          "y": -3.000399112701416
         },
         {
          "surname": "weston",
          "x": -11.502020835876465,
          "y": 6.136270999908447
         },
         {
          "surname": "wharton",
          "x": 2.0094149112701416,
          "y": 24.973896026611328
         },
         {
          "surname": "whitman",
          "x": -5.0942463874816895,
          "y": 22.18088722229004
         },
         {
          "surname": "whitney",
          "x": 0.13830605149269104,
          "y": -12.034749984741211
         },
         {
          "surname": "wiesel",
          "x": 4.28093957901001,
          "y": 14.411992073059082
         },
         {
          "surname": "wiggins",
          "x": 5.846176624298096,
          "y": -25.544767379760742
         },
         {
          "surname": "wilde",
          "x": 16.736438751220703,
          "y": 21.93952178955078
         },
         {
          "surname": "williams",
          "x": 1.6887693405151367,
          "y": 27.290019989013672
         },
         {
          "surname": "wilson",
          "x": -18.411537170410156,
          "y": -4.830224990844727
         },
         {
          "surname": "wittgenstein",
          "x": -17.85765838623047,
          "y": 7.115795135498047
         },
         {
          "surname": "wolf",
          "x": -23.010496139526367,
          "y": -3.5485615730285645
         },
         {
          "surname": "wollstonecraft",
          "x": -14.904635429382324,
          "y": 16.297779083251953
         },
         {
          "surname": "wood",
          "x": -8.205049514770508,
          "y": 10.956087112426758
         },
         {
          "surname": "woodward",
          "x": 5.8094000816345215,
          "y": -23.970645904541016
         },
         {
          "surname": "wooldridge",
          "x": 4.933805465698242,
          "y": -21.07560920715332
         },
         {
          "surname": "woolf",
          "x": 21.85045623779297,
          "y": 24.284103393554688
         },
         {
          "surname": "woolfolk",
          "x": 0.9559003114700317,
          "y": -14.760045051574707
         },
         {
          "surname": "wordsworth",
          "x": 18.338651657104492,
          "y": 20.734575271606445
         },
         {
          "surname": "world bank",
          "x": -6.858777046203613,
          "y": -15.598145484924316
         },
         {
          "surname": "wright",
          "x": 2.1593291759490967,
          "y": 23.85568618774414
         },
         {
          "surname": "yeats",
          "x": 15.161163330078125,
          "y": 18.201492309570312
         },
         {
          "surname": "yin",
          "x": -7.253381729125977,
          "y": -3.0508432388305664
         },
         {
          "surname": "york",
          "x": -9.364126205444336,
          "y": -16.11530303955078
         },
         {
          "surname": "young",
          "x": 7.505493640899658,
          "y": -24.580293655395508
         },
         {
          "surname": "zumdahl",
          "x": 1.0977836847305298,
          "y": -13.116068840026855
         }
        ]
       },
       "encoding": {
        "text": {
         "field": "surname",
         "type": "nominal"
        },
        "tooltip": {
         "field": "surname",
         "type": "nominal"
        },
        "x": {
         "field": "x",
         "type": "quantitative"
        },
        "y": {
         "field": "y",
         "type": "quantitative"
        }
       },
       "height": 700,
       "mark": {
        "align": "left",
        "dx": 0,
        "dy": 0,
        "type": "text"
       },
       "selection": {
        "selector013": {
         "bind": "scales",
         "encodings": [
          "x",
          "y"
         ],
         "mark": {
          "fill": "#333",
          "fillOpacity": 0.125,
          "stroke": "white"
         },
         "on": "[mousedown, window:mouseup] > window:mousemove!",
         "resolve": "global",
         "translate": "[mousedown, window:mouseup] > window:mousemove!",
         "type": "interval",
         "zoom": "wheel!"
        }
       },
       "width": 1000
      },
      "image/png": "[encoded data removed]",
      "text/plain": [
       "<VegaLite 2 object>\n",
       "\n",
       "If you see this message, it means the renderer has not been properly enabled\n",
       "for the frontend that you are using. For more information, see\n",
       "https://altair-viz.github.io/user_guide/troubleshooting.html\n"
      ]
     },
     "execution_count": 49,
     "metadata": {},
     "output_type": "execute_result"
    }
   ],
   "source": [
    "chart.mark_text(align='left', dx=0, dy=0).encode(text='surname')"
   ]
  },
  {
   "cell_type": "code",
   "execution_count": null,
   "metadata": {},
   "outputs": [],
   "source": []
  }
 ],
 "metadata": {
  "kernelspec": {
   "display_name": "Python 3",
   "language": "python",
   "name": "python3"
  },
  "language_info": {
   "codemirror_mode": {
    "name": "ipython",
    "version": 3
   },
   "file_extension": ".py",
   "mimetype": "text/x-python",
   "name": "python",
   "nbconvert_exporter": "python",
   "pygments_lexer": "ipython3",
   "version": "3.6.5"
  }
 },
 "nbformat": 4,
 "nbformat_minor": 2
}
