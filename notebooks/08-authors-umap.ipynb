{
 "cells": [
  {
   "cell_type": "code",
   "execution_count": 104,
   "metadata": {},
   "outputs": [],
   "source": [
    "import matplotlib.pyplot as plt\n",
    "%matplotlib inline"
   ]
  },
  {
   "cell_type": "code",
   "execution_count": 105,
   "metadata": {},
   "outputs": [],
   "source": [
    "import numpy as np\n",
    "import altair as alt\n",
    "import pandas as pd\n",
    "\n",
    "import umap\n",
    "\n",
    "from scipy.sparse import lil_matrix\n",
    "from annoy import AnnoyIndex\n",
    "from collections import defaultdict\n",
    "from titlecase import titlecase\n",
    "\n",
    "from sklearn.decomposition import TruncatedSVD\n",
    "from sklearn import manifold\n",
    "from sklearn.decomposition import PCA\n",
    "\n",
    "from sqlalchemy.dialects.postgresql import array_agg\n",
    "from sqlalchemy.sql import functions as func\n",
    "\n",
    "from osp_graphs.v1_db import session, Text, Field, Subfield, SubfieldDocument, Citation, Document"
   ]
  },
  {
   "cell_type": "code",
   "execution_count": 106,
   "metadata": {},
   "outputs": [],
   "source": [
    "count = func.count(Citation.text_id)\n",
    "\n",
    "res = (session\n",
    "    .query(Text.surname, Text.title, array_agg(Citation.document_id))\n",
    "    .join(Citation)\n",
    "    .filter(Text.valid==True)\n",
    "    .filter(Text.display==True)\n",
    "    .group_by(Text.id)\n",
    "    .order_by(count.desc())\n",
    "    .limit(1000)\n",
    "    .all())"
   ]
  },
  {
   "cell_type": "code",
   "execution_count": 107,
   "metadata": {},
   "outputs": [],
   "source": [
    "surname_docs = defaultdict(set)\n",
    "surname_titles = defaultdict(set)\n",
    "\n",
    "for surname, title, doc_ids in res:\n",
    "    key = surname.strip('.,').lower()\n",
    "    surname_docs[key].update(doc_ids)\n",
    "    surname_titles[key].add(title)"
   ]
  },
  {
   "cell_type": "code",
   "execution_count": 108,
   "metadata": {},
   "outputs": [],
   "source": [
    "surnames = sorted(surname_docs.keys())\n",
    "surname_to_idx = {s: i for i, s in enumerate(surnames)}"
   ]
  },
  {
   "cell_type": "code",
   "execution_count": 109,
   "metadata": {},
   "outputs": [],
   "source": [
    "doc_ids = list(set([did for _, _, doc_ids in res for did in doc_ids]))\n",
    "doc_id_to_idx = {did: i for i, did in enumerate(doc_ids)}"
   ]
  },
  {
   "cell_type": "code",
   "execution_count": 110,
   "metadata": {},
   "outputs": [],
   "source": [
    "sdm = np.zeros((len(doc_ids), len(surnames)))\n",
    "\n",
    "for surname in surnames:\n",
    "    sidx = surname_to_idx[surname]\n",
    "    for doc_id in surname_docs[surname]:\n",
    "        didx = doc_id_to_idx[doc_id]\n",
    "        sdm[didx][sidx] += 1"
   ]
  },
  {
   "cell_type": "code",
   "execution_count": 111,
   "metadata": {},
   "outputs": [],
   "source": [
    "sdm_sparse = lil_matrix(sdm)"
   ]
  },
  {
   "cell_type": "code",
   "execution_count": 112,
   "metadata": {},
   "outputs": [
    {
     "data": {
      "text/plain": [
       "495788.0"
      ]
     },
     "execution_count": 112,
     "metadata": {},
     "output_type": "execute_result"
    }
   ],
   "source": [
    "sdm_sparse.sum()"
   ]
  },
  {
   "cell_type": "code",
   "execution_count": 113,
   "metadata": {},
   "outputs": [],
   "source": [
    "svd = TruncatedSVD(n_components=10)"
   ]
  },
  {
   "cell_type": "code",
   "execution_count": 114,
   "metadata": {},
   "outputs": [
    {
     "data": {
      "text/plain": [
       "TruncatedSVD(algorithm='randomized', n_components=10, n_iter=5,\n",
       "       random_state=None, tol=0.0)"
      ]
     },
     "execution_count": 114,
     "metadata": {},
     "output_type": "execute_result"
    }
   ],
   "source": [
    "svd.fit(sdm_sparse)"
   ]
  },
  {
   "cell_type": "code",
   "execution_count": 115,
   "metadata": {},
   "outputs": [
    {
     "data": {
      "text/plain": [
       "(642, 10)"
      ]
     },
     "execution_count": 115,
     "metadata": {},
     "output_type": "execute_result"
    }
   ],
   "source": [
    "svd.components_.T.shape"
   ]
  },
  {
   "cell_type": "code",
   "execution_count": null,
   "metadata": {},
   "outputs": [],
   "source": [
    "embedding = umap.UMAP(n_neighbors=10, min_dist=0.2).fit_transform(sdm)"
   ]
  },
  {
   "cell_type": "code",
   "execution_count": null,
   "metadata": {},
   "outputs": [],
   "source": [
    "rows = []\n",
    "for surname, (x, y) in zip(surnames, embedding):\n",
    "    rows.append(dict(surname=surname, titles=surname_titles[surname], x=x, y=y))"
   ]
  },
  {
   "cell_type": "code",
   "execution_count": null,
   "metadata": {},
   "outputs": [],
   "source": [
    "df = pd.DataFrame(rows)"
   ]
  },
  {
   "cell_type": "code",
   "execution_count": null,
   "metadata": {},
   "outputs": [],
   "source": [
    "df.surname = df.surname.apply(lambda s: s.capitalize())"
   ]
  },
  {
   "cell_type": "code",
   "execution_count": null,
   "metadata": {},
   "outputs": [],
   "source": [
    "df.titles = df.titles.apply(lambda ts: ', '.join([titlecase(t.strip(' /;.')) for t in ts]))"
   ]
  },
  {
   "cell_type": "code",
   "execution_count": null,
   "metadata": {},
   "outputs": [],
   "source": [
    "chart = (alt\n",
    "    .Chart(df, width=1000, height=700)\n",
    "    .mark_circle()\n",
    "    .encode(x='x', y='y', tooltip='titles')\n",
    "    .mark_text()\n",
    "    .encode(text='surname'))"
   ]
  },
  {
   "cell_type": "code",
   "execution_count": null,
   "metadata": {},
   "outputs": [],
   "source": [
    "chart.interactive()"
   ]
  },
  {
   "cell_type": "code",
   "execution_count": null,
   "metadata": {},
   "outputs": [],
   "source": []
  }
 ],
 "metadata": {
  "kernelspec": {
   "display_name": "Python 3",
   "language": "python",
   "name": "python3"
  },
  "language_info": {
   "codemirror_mode": {
    "name": "ipython",
    "version": 3
   },
   "file_extension": ".py",
   "mimetype": "text/x-python",
   "name": "python",
   "nbconvert_exporter": "python",
   "pygments_lexer": "ipython3",
   "version": "3.6.5"
  }
 },
 "nbformat": 4,
 "nbformat_minor": 2
}
