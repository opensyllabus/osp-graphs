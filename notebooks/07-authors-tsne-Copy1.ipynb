{
 "cells": [
  {
   "cell_type": "code",
   "execution_count": 2,
   "metadata": {},
   "outputs": [],
   "source": [
    "import matplotlib.pyplot as plt\n",
    "%matplotlib inline"
   ]
  },
  {
   "cell_type": "code",
   "execution_count": 82,
   "metadata": {},
   "outputs": [],
   "source": [
    "import numpy as np\n",
    "import altair as alt\n",
    "import pandas as pd\n",
    "\n",
    "from scipy.sparse import lil_matrix\n",
    "from annoy import AnnoyIndex\n",
    "from collections import defaultdict\n",
    "from titlecase import titlecase\n",
    "\n",
    "from sklearn.decomposition import TruncatedSVD\n",
    "from sklearn import manifold\n",
    "from sklearn.decomposition import PCA\n",
    "\n",
    "from sqlalchemy.dialects.postgresql import array_agg\n",
    "from sqlalchemy.sql import functions as func\n",
    "\n",
    "from osp_graphs.v1_db import session, Text, Field, Subfield, SubfieldDocument, Citation, Document"
   ]
  },
  {
   "cell_type": "code",
   "execution_count": 66,
   "metadata": {},
   "outputs": [],
   "source": [
    "count = func.count(Citation.text_id)\n",
    "\n",
    "res = (session\n",
    "    .query(Text.surname, Text.title, array_agg(Citation.document_id))\n",
    "    .join(Citation)\n",
    "    .filter(Text.valid==True)\n",
    "    .filter(Text.display==True)\n",
    "    .group_by(Text.id)\n",
    "    .order_by(count.desc())\n",
    "    .limit(1000)\n",
    "    .all())"
   ]
  },
  {
   "cell_type": "code",
   "execution_count": 67,
   "metadata": {},
   "outputs": [],
   "source": [
    "surname_docs = defaultdict(set)\n",
    "surname_titles = defaultdict(set)\n",
    "\n",
    "for surname, title, doc_ids in res:\n",
    "    key = surname.strip('.,').lower()\n",
    "    surname_docs[key].update(doc_ids)\n",
    "    surname_titles[key].add(title)"
   ]
  },
  {
   "cell_type": "code",
   "execution_count": 68,
   "metadata": {},
   "outputs": [],
   "source": [
    "surnames = sorted(surname_docs.keys())\n",
    "surname_to_idx = {s: i for i, s in enumerate(surnames)}"
   ]
  },
  {
   "cell_type": "code",
   "execution_count": 69,
   "metadata": {},
   "outputs": [],
   "source": [
    "doc_ids = list(set([did for _, _, doc_ids in res for did in doc_ids]))\n",
    "doc_id_to_idx = {did: i for i, did in enumerate(doc_ids)}"
   ]
  },
  {
   "cell_type": "code",
   "execution_count": 70,
   "metadata": {},
   "outputs": [],
   "source": [
    "sdm = np.zeros((len(doc_ids), len(surnames)))\n",
    "\n",
    "for surname in surnames:\n",
    "    sidx = surname_to_idx[surname]\n",
    "    for doc_id in surname_docs[surname]:\n",
    "        didx = doc_id_to_idx[doc_id]\n",
    "        sdm[didx][sidx] += 1"
   ]
  },
  {
   "cell_type": "code",
   "execution_count": 71,
   "metadata": {},
   "outputs": [
    {
     "data": {
      "text/plain": [
       "495788.0"
      ]
     },
     "execution_count": 71,
     "metadata": {},
     "output_type": "execute_result"
    }
   ],
   "source": [
    "sdm.sum()"
   ]
  },
  {
   "cell_type": "code",
   "execution_count": 72,
   "metadata": {},
   "outputs": [],
   "source": [
    "svd = TruncatedSVD(n_components=20)"
   ]
  },
  {
   "cell_type": "code",
   "execution_count": 73,
   "metadata": {},
   "outputs": [
    {
     "data": {
      "text/plain": [
       "TruncatedSVD(algorithm='randomized', n_components=20, n_iter=5,\n",
       "       random_state=None, tol=0.0)"
      ]
     },
     "execution_count": 73,
     "metadata": {},
     "output_type": "execute_result"
    }
   ],
   "source": [
    "svd.fit(sdm)"
   ]
  },
  {
   "cell_type": "code",
   "execution_count": 74,
   "metadata": {},
   "outputs": [
    {
     "data": {
      "text/plain": [
       "(642, 20)"
      ]
     },
     "execution_count": 74,
     "metadata": {},
     "output_type": "execute_result"
    }
   ],
   "source": [
    "svd.components_.T.shape"
   ]
  },
  {
   "cell_type": "code",
   "execution_count": 75,
   "metadata": {},
   "outputs": [],
   "source": [
    "dr = manifold.TSNE(n_components=2, init='pca')"
   ]
  },
  {
   "cell_type": "code",
   "execution_count": 76,
   "metadata": {},
   "outputs": [
    {
     "data": {
      "text/plain": [
       "array([[-18.208155  ,  -1.5115361 ],\n",
       "       [-23.347324  ,  13.808158  ],\n",
       "       [ -0.57253265,  -9.990682  ],\n",
       "       ...,\n",
       "       [  7.3714814 , -16.15266   ],\n",
       "       [  3.0228186 ,  -1.2396349 ],\n",
       "       [  3.6066015 ,   4.0972533 ]], dtype=float32)"
      ]
     },
     "execution_count": 76,
     "metadata": {},
     "output_type": "execute_result"
    }
   ],
   "source": [
    "dr.fit_transform(svd.components_.T)"
   ]
  },
  {
   "cell_type": "code",
   "execution_count": 83,
   "metadata": {},
   "outputs": [],
   "source": [
    "rows = []\n",
    "for surname, (x, y) in zip(surnames, dr.embedding_):\n",
    "    rows.append(dict(surname=surname, titles=surname_titles[surname], x=x, y=y))"
   ]
  },
  {
   "cell_type": "code",
   "execution_count": 84,
   "metadata": {},
   "outputs": [],
   "source": [
    "df = pd.DataFrame(rows)"
   ]
  },
  {
   "cell_type": "code",
   "execution_count": 85,
   "metadata": {},
   "outputs": [],
   "source": [
    "df.surname = df.surname.apply(lambda s: s.capitalize())"
   ]
  },
  {
   "cell_type": "code",
   "execution_count": 86,
   "metadata": {},
   "outputs": [],
   "source": [
    "df.titles = df.titles.apply(lambda ts: ', '.join([titlecase(t.strip(' /;.')) for t in ts]))"
   ]
  },
  {
   "cell_type": "code",
   "execution_count": 87,
   "metadata": {},
   "outputs": [
    {
     "data": {
      "text/html": [
       "<div>\n",
       "<style scoped>\n",
       "    .dataframe tbody tr th:only-of-type {\n",
       "        vertical-align: middle;\n",
       "    }\n",
       "\n",
       "    .dataframe tbody tr th {\n",
       "        vertical-align: top;\n",
       "    }\n",
       "\n",
       "    .dataframe thead th {\n",
       "        text-align: right;\n",
       "    }\n",
       "</style>\n",
       "<table border=\"1\" class=\"dataframe\">\n",
       "  <thead>\n",
       "    <tr style=\"text-align: right;\">\n",
       "      <th></th>\n",
       "      <th>surname</th>\n",
       "      <th>titles</th>\n",
       "      <th>x</th>\n",
       "      <th>y</th>\n",
       "    </tr>\n",
       "  </thead>\n",
       "  <tbody>\n",
       "    <tr>\n",
       "      <th>0</th>\n",
       "      <td>Abrams</td>\n",
       "      <td>A Glossary of Literary Terms, The Norton Antho...</td>\n",
       "      <td>-18.208155</td>\n",
       "      <td>-1.511536</td>\n",
       "    </tr>\n",
       "    <tr>\n",
       "      <th>1</th>\n",
       "      <td>Achebe</td>\n",
       "      <td>Things Fall Apart</td>\n",
       "      <td>-23.347324</td>\n",
       "      <td>13.808158</td>\n",
       "    </tr>\n",
       "    <tr>\n",
       "      <th>2</th>\n",
       "      <td>Addams</td>\n",
       "      <td>Twenty Years at Hull-House</td>\n",
       "      <td>-0.572533</td>\n",
       "      <td>-9.990682</td>\n",
       "    </tr>\n",
       "    <tr>\n",
       "      <th>3</th>\n",
       "      <td>Adorno</td>\n",
       "      <td>The Culture Industry</td>\n",
       "      <td>26.322136</td>\n",
       "      <td>-17.946905</td>\n",
       "    </tr>\n",
       "    <tr>\n",
       "      <th>4</th>\n",
       "      <td>Aeschylus</td>\n",
       "      <td>Eumenides, The Libation Bearers, Agamemnon,, T...</td>\n",
       "      <td>3.989676</td>\n",
       "      <td>22.141012</td>\n",
       "    </tr>\n",
       "    <tr>\n",
       "      <th>5</th>\n",
       "      <td>Aesop</td>\n",
       "      <td>Fables</td>\n",
       "      <td>1.893125</td>\n",
       "      <td>14.515541</td>\n",
       "    </tr>\n",
       "    <tr>\n",
       "      <th>6</th>\n",
       "      <td>Alberts</td>\n",
       "      <td>Essential Cell Biology, Molecular Biology of t...</td>\n",
       "      <td>-14.989966</td>\n",
       "      <td>-22.832966</td>\n",
       "    </tr>\n",
       "    <tr>\n",
       "      <th>7</th>\n",
       "      <td>Alcott</td>\n",
       "      <td>Little Women</td>\n",
       "      <td>-18.085789</td>\n",
       "      <td>13.004314</td>\n",
       "    </tr>\n",
       "    <tr>\n",
       "      <th>8</th>\n",
       "      <td>Alexie</td>\n",
       "      <td>The Lone Ranger and Tonto Fistfight in Heaven</td>\n",
       "      <td>-11.421200</td>\n",
       "      <td>14.398569</td>\n",
       "    </tr>\n",
       "    <tr>\n",
       "      <th>9</th>\n",
       "      <td>Allen</td>\n",
       "      <td>Without Feathers</td>\n",
       "      <td>-54.944508</td>\n",
       "      <td>13.733766</td>\n",
       "    </tr>\n",
       "    <tr>\n",
       "      <th>10</th>\n",
       "      <td>Allende</td>\n",
       "      <td>The House of the Spirits</td>\n",
       "      <td>-13.167374</td>\n",
       "      <td>13.057486</td>\n",
       "    </tr>\n",
       "    <tr>\n",
       "      <th>11</th>\n",
       "      <td>Allison</td>\n",
       "      <td>Essence of Decision; Explaining the Cuban Miss...</td>\n",
       "      <td>9.200315</td>\n",
       "      <td>-24.098196</td>\n",
       "    </tr>\n",
       "    <tr>\n",
       "      <th>12</th>\n",
       "      <td>Anaya</td>\n",
       "      <td>Bless Me, Ultima</td>\n",
       "      <td>-13.878646</td>\n",
       "      <td>16.410830</td>\n",
       "    </tr>\n",
       "    <tr>\n",
       "      <th>13</th>\n",
       "      <td>Anderson</td>\n",
       "      <td>Imagined Communities : Reflections on the Orig...</td>\n",
       "      <td>-51.593311</td>\n",
       "      <td>12.460313</td>\n",
       "    </tr>\n",
       "    <tr>\n",
       "      <th>14</th>\n",
       "      <td>Angelou</td>\n",
       "      <td>I Know Why the Caged Bird Sings</td>\n",
       "      <td>-15.675228</td>\n",
       "      <td>17.813883</td>\n",
       "    </tr>\n",
       "    <tr>\n",
       "      <th>15</th>\n",
       "      <td>Anthony</td>\n",
       "      <td>Essential Reading</td>\n",
       "      <td>7.874222</td>\n",
       "      <td>-13.220644</td>\n",
       "    </tr>\n",
       "    <tr>\n",
       "      <th>16</th>\n",
       "      <td>Apuleius</td>\n",
       "      <td>The Golden Ass</td>\n",
       "      <td>1.598295</td>\n",
       "      <td>16.007265</td>\n",
       "    </tr>\n",
       "    <tr>\n",
       "      <th>17</th>\n",
       "      <td>Arendt</td>\n",
       "      <td>The Human Condition, The Origins of Totalitari...</td>\n",
       "      <td>22.750681</td>\n",
       "      <td>-15.630670</td>\n",
       "    </tr>\n",
       "    <tr>\n",
       "      <th>18</th>\n",
       "      <td>Aristophanes</td>\n",
       "      <td>The Frogs, Lysistrata, The Clouds</td>\n",
       "      <td>3.774365</td>\n",
       "      <td>21.687132</td>\n",
       "    </tr>\n",
       "    <tr>\n",
       "      <th>19</th>\n",
       "      <td>Aristotle</td>\n",
       "      <td>Ethics, Rhetoric, Ethics and Politics, The Phy...</td>\n",
       "      <td>-17.120131</td>\n",
       "      <td>-4.342374</td>\n",
       "    </tr>\n",
       "    <tr>\n",
       "      <th>20</th>\n",
       "      <td>Arnold</td>\n",
       "      <td>Dover Beach, Culture and Anarchy</td>\n",
       "      <td>-21.244473</td>\n",
       "      <td>-0.948712</td>\n",
       "    </tr>\n",
       "    <tr>\n",
       "      <th>21</th>\n",
       "      <td>Aronson</td>\n",
       "      <td>Social Psychology</td>\n",
       "      <td>5.206309</td>\n",
       "      <td>5.163128</td>\n",
       "    </tr>\n",
       "    <tr>\n",
       "      <th>22</th>\n",
       "      <td>Aslam</td>\n",
       "      <td>Maps for Lost Lovers</td>\n",
       "      <td>-56.497414</td>\n",
       "      <td>15.009583</td>\n",
       "    </tr>\n",
       "    <tr>\n",
       "      <th>23</th>\n",
       "      <td>Atkins</td>\n",
       "      <td>Physical Chemistry</td>\n",
       "      <td>13.167668</td>\n",
       "      <td>12.256462</td>\n",
       "    </tr>\n",
       "    <tr>\n",
       "      <th>24</th>\n",
       "      <td>Audesirk</td>\n",
       "      <td>Life on Earth</td>\n",
       "      <td>8.593299</td>\n",
       "      <td>5.996222</td>\n",
       "    </tr>\n",
       "    <tr>\n",
       "      <th>25</th>\n",
       "      <td>Augustine</td>\n",
       "      <td>Confessions</td>\n",
       "      <td>-0.991938</td>\n",
       "      <td>18.385220</td>\n",
       "    </tr>\n",
       "    <tr>\n",
       "      <th>26</th>\n",
       "      <td>Austen</td>\n",
       "      <td>Northanger Abbey, Pride &amp; Prejudice, Sense and...</td>\n",
       "      <td>-24.115368</td>\n",
       "      <td>10.070409</td>\n",
       "    </tr>\n",
       "    <tr>\n",
       "      <th>27</th>\n",
       "      <td>Austin</td>\n",
       "      <td>How to Do Things With Words</td>\n",
       "      <td>24.208139</td>\n",
       "      <td>-10.359832</td>\n",
       "    </tr>\n",
       "    <tr>\n",
       "      <th>28</th>\n",
       "      <td>Axelrod</td>\n",
       "      <td>The Evolution of Cooperation</td>\n",
       "      <td>9.660327</td>\n",
       "      <td>-23.150913</td>\n",
       "    </tr>\n",
       "    <tr>\n",
       "      <th>29</th>\n",
       "      <td>Ayer</td>\n",
       "      <td>Language, Truth and Logic</td>\n",
       "      <td>16.653791</td>\n",
       "      <td>-14.012006</td>\n",
       "    </tr>\n",
       "    <tr>\n",
       "      <th>...</th>\n",
       "      <td>...</td>\n",
       "      <td>...</td>\n",
       "      <td>...</td>\n",
       "      <td>...</td>\n",
       "    </tr>\n",
       "    <tr>\n",
       "      <th>612</th>\n",
       "      <td>Webster</td>\n",
       "      <td>The Duchess of Malfi</td>\n",
       "      <td>-2.134959</td>\n",
       "      <td>13.249118</td>\n",
       "    </tr>\n",
       "    <tr>\n",
       "      <th>613</th>\n",
       "      <td>Weir</td>\n",
       "      <td>Thomas' Calculus</td>\n",
       "      <td>11.981122</td>\n",
       "      <td>6.027180</td>\n",
       "    </tr>\n",
       "    <tr>\n",
       "      <th>614</th>\n",
       "      <td>Weiten</td>\n",
       "      <td>Psychology : Themes and Variations</td>\n",
       "      <td>4.699914</td>\n",
       "      <td>0.866420</td>\n",
       "    </tr>\n",
       "    <tr>\n",
       "      <th>615</th>\n",
       "      <td>Wells</td>\n",
       "      <td>The War of the Worlds, The Time Machine</td>\n",
       "      <td>-19.690414</td>\n",
       "      <td>10.477544</td>\n",
       "    </tr>\n",
       "    <tr>\n",
       "      <th>616</th>\n",
       "      <td>West</td>\n",
       "      <td>Doing Gender, Race Matters</td>\n",
       "      <td>0.224180</td>\n",
       "      <td>-14.726821</td>\n",
       "    </tr>\n",
       "    <tr>\n",
       "      <th>617</th>\n",
       "      <td>Weston</td>\n",
       "      <td>A Rulebook for Arguments</td>\n",
       "      <td>13.383206</td>\n",
       "      <td>-13.416129</td>\n",
       "    </tr>\n",
       "    <tr>\n",
       "      <th>618</th>\n",
       "      <td>Wharton</td>\n",
       "      <td>The House of Mirth, The Age of Innocence</td>\n",
       "      <td>-19.990534</td>\n",
       "      <td>18.913185</td>\n",
       "    </tr>\n",
       "    <tr>\n",
       "      <th>619</th>\n",
       "      <td>Whitman</td>\n",
       "      <td>Leaves of Grass</td>\n",
       "      <td>-9.242717</td>\n",
       "      <td>-7.281488</td>\n",
       "    </tr>\n",
       "    <tr>\n",
       "      <th>620</th>\n",
       "      <td>Whitney</td>\n",
       "      <td>Understanding Nutrition</td>\n",
       "      <td>6.129483</td>\n",
       "      <td>3.880801</td>\n",
       "    </tr>\n",
       "    <tr>\n",
       "      <th>621</th>\n",
       "      <td>Wiesel</td>\n",
       "      <td>Night</td>\n",
       "      <td>-13.490201</td>\n",
       "      <td>14.903869</td>\n",
       "    </tr>\n",
       "    <tr>\n",
       "      <th>622</th>\n",
       "      <td>Wiggins</td>\n",
       "      <td>Understanding by Design</td>\n",
       "      <td>2.307668</td>\n",
       "      <td>-1.758232</td>\n",
       "    </tr>\n",
       "    <tr>\n",
       "      <th>623</th>\n",
       "      <td>Wilde</td>\n",
       "      <td>The Picture of Dorian Gray, The Importance of ...</td>\n",
       "      <td>-22.546850</td>\n",
       "      <td>8.795450</td>\n",
       "    </tr>\n",
       "    <tr>\n",
       "      <th>624</th>\n",
       "      <td>Williams</td>\n",
       "      <td>Wallace Stevens, A Streetcar Named Desire, Sty...</td>\n",
       "      <td>-16.388306</td>\n",
       "      <td>22.181597</td>\n",
       "    </tr>\n",
       "    <tr>\n",
       "      <th>625</th>\n",
       "      <td>Wilson</td>\n",
       "      <td>When Work Disappears</td>\n",
       "      <td>-0.537202</td>\n",
       "      <td>-17.855749</td>\n",
       "    </tr>\n",
       "    <tr>\n",
       "      <th>626</th>\n",
       "      <td>Wittgenstein</td>\n",
       "      <td>Philosophical Investigations</td>\n",
       "      <td>18.150377</td>\n",
       "      <td>-14.940360</td>\n",
       "    </tr>\n",
       "    <tr>\n",
       "      <th>627</th>\n",
       "      <td>Wolf</td>\n",
       "      <td>Europe and the People Without History</td>\n",
       "      <td>21.890621</td>\n",
       "      <td>-12.842549</td>\n",
       "    </tr>\n",
       "    <tr>\n",
       "      <th>628</th>\n",
       "      <td>Wollstonecraft</td>\n",
       "      <td>The Rights of Woman, A Vindication of the Righ...</td>\n",
       "      <td>-21.349848</td>\n",
       "      <td>2.291123</td>\n",
       "    </tr>\n",
       "    <tr>\n",
       "      <th>629</th>\n",
       "      <td>Wood</td>\n",
       "      <td>The Radicalism of the American Revolution</td>\n",
       "      <td>-0.660162</td>\n",
       "      <td>-12.030122</td>\n",
       "    </tr>\n",
       "    <tr>\n",
       "      <th>630</th>\n",
       "      <td>Woodward</td>\n",
       "      <td>Florida State University</td>\n",
       "      <td>4.012622</td>\n",
       "      <td>-1.860251</td>\n",
       "    </tr>\n",
       "    <tr>\n",
       "      <th>631</th>\n",
       "      <td>Wooldridge</td>\n",
       "      <td>Introductory Econometrics : A Modern Approach</td>\n",
       "      <td>13.654284</td>\n",
       "      <td>6.993771</td>\n",
       "    </tr>\n",
       "    <tr>\n",
       "      <th>632</th>\n",
       "      <td>Woolf</td>\n",
       "      <td>Orlando, To the Lighthouse, Mrs. Dalloway</td>\n",
       "      <td>-26.181719</td>\n",
       "      <td>12.674937</td>\n",
       "    </tr>\n",
       "    <tr>\n",
       "      <th>633</th>\n",
       "      <td>Woolfolk</td>\n",
       "      <td>Educational Psychology</td>\n",
       "      <td>3.912812</td>\n",
       "      <td>2.504988</td>\n",
       "    </tr>\n",
       "    <tr>\n",
       "      <th>634</th>\n",
       "      <td>Wordsworth</td>\n",
       "      <td>Lyrical Ballads 1805, Preface to Lyrical Balla...</td>\n",
       "      <td>-22.106253</td>\n",
       "      <td>0.554751</td>\n",
       "    </tr>\n",
       "    <tr>\n",
       "      <th>635</th>\n",
       "      <td>World bank</td>\n",
       "      <td>Education, Health</td>\n",
       "      <td>3.821286</td>\n",
       "      <td>-8.272158</td>\n",
       "    </tr>\n",
       "    <tr>\n",
       "      <th>636</th>\n",
       "      <td>Wright</td>\n",
       "      <td>Native Son</td>\n",
       "      <td>-18.758316</td>\n",
       "      <td>19.627914</td>\n",
       "    </tr>\n",
       "    <tr>\n",
       "      <th>637</th>\n",
       "      <td>Yeats</td>\n",
       "      <td>The Lake Isle of Innisfree,, Easter, 1916</td>\n",
       "      <td>-19.504921</td>\n",
       "      <td>-0.821964</td>\n",
       "    </tr>\n",
       "    <tr>\n",
       "      <th>638</th>\n",
       "      <td>Yin</td>\n",
       "      <td>Case Study Research : Design and Methods</td>\n",
       "      <td>-9.735782</td>\n",
       "      <td>-17.009260</td>\n",
       "    </tr>\n",
       "    <tr>\n",
       "      <th>639</th>\n",
       "      <td>York</td>\n",
       "      <td>National Security</td>\n",
       "      <td>7.371481</td>\n",
       "      <td>-16.152660</td>\n",
       "    </tr>\n",
       "    <tr>\n",
       "      <th>640</th>\n",
       "      <td>Young</td>\n",
       "      <td>Teacher Education</td>\n",
       "      <td>3.022819</td>\n",
       "      <td>-1.239635</td>\n",
       "    </tr>\n",
       "    <tr>\n",
       "      <th>641</th>\n",
       "      <td>Zumdahl</td>\n",
       "      <td>Chemistry</td>\n",
       "      <td>3.606601</td>\n",
       "      <td>4.097253</td>\n",
       "    </tr>\n",
       "  </tbody>\n",
       "</table>\n",
       "<p>642 rows × 4 columns</p>\n",
       "</div>"
      ],
      "text/plain": [
       "            surname                                             titles  \\\n",
       "0            Abrams  A Glossary of Literary Terms, The Norton Antho...   \n",
       "1            Achebe                                  Things Fall Apart   \n",
       "2            Addams                         Twenty Years at Hull-House   \n",
       "3            Adorno                               The Culture Industry   \n",
       "4         Aeschylus  Eumenides, The Libation Bearers, Agamemnon,, T...   \n",
       "5             Aesop                                             Fables   \n",
       "6           Alberts  Essential Cell Biology, Molecular Biology of t...   \n",
       "7            Alcott                                       Little Women   \n",
       "8            Alexie      The Lone Ranger and Tonto Fistfight in Heaven   \n",
       "9             Allen                                   Without Feathers   \n",
       "10          Allende                           The House of the Spirits   \n",
       "11          Allison  Essence of Decision; Explaining the Cuban Miss...   \n",
       "12            Anaya                                   Bless Me, Ultima   \n",
       "13         Anderson  Imagined Communities : Reflections on the Orig...   \n",
       "14          Angelou                    I Know Why the Caged Bird Sings   \n",
       "15          Anthony                                  Essential Reading   \n",
       "16         Apuleius                                     The Golden Ass   \n",
       "17           Arendt  The Human Condition, The Origins of Totalitari...   \n",
       "18     Aristophanes                  The Frogs, Lysistrata, The Clouds   \n",
       "19        Aristotle  Ethics, Rhetoric, Ethics and Politics, The Phy...   \n",
       "20           Arnold                   Dover Beach, Culture and Anarchy   \n",
       "21          Aronson                                  Social Psychology   \n",
       "22            Aslam                               Maps for Lost Lovers   \n",
       "23           Atkins                                 Physical Chemistry   \n",
       "24         Audesirk                                      Life on Earth   \n",
       "25        Augustine                                        Confessions   \n",
       "26           Austen  Northanger Abbey, Pride & Prejudice, Sense and...   \n",
       "27           Austin                        How to Do Things With Words   \n",
       "28          Axelrod                       The Evolution of Cooperation   \n",
       "29             Ayer                          Language, Truth and Logic   \n",
       "..              ...                                                ...   \n",
       "612         Webster                               The Duchess of Malfi   \n",
       "613            Weir                                   Thomas' Calculus   \n",
       "614          Weiten                 Psychology : Themes and Variations   \n",
       "615           Wells            The War of the Worlds, The Time Machine   \n",
       "616            West                         Doing Gender, Race Matters   \n",
       "617          Weston                           A Rulebook for Arguments   \n",
       "618         Wharton           The House of Mirth, The Age of Innocence   \n",
       "619         Whitman                                    Leaves of Grass   \n",
       "620         Whitney                            Understanding Nutrition   \n",
       "621          Wiesel                                              Night   \n",
       "622         Wiggins                            Understanding by Design   \n",
       "623           Wilde  The Picture of Dorian Gray, The Importance of ...   \n",
       "624        Williams  Wallace Stevens, A Streetcar Named Desire, Sty...   \n",
       "625          Wilson                               When Work Disappears   \n",
       "626    Wittgenstein                       Philosophical Investigations   \n",
       "627            Wolf              Europe and the People Without History   \n",
       "628  Wollstonecraft  The Rights of Woman, A Vindication of the Righ...   \n",
       "629            Wood          The Radicalism of the American Revolution   \n",
       "630        Woodward                           Florida State University   \n",
       "631      Wooldridge      Introductory Econometrics : A Modern Approach   \n",
       "632           Woolf          Orlando, To the Lighthouse, Mrs. Dalloway   \n",
       "633        Woolfolk                             Educational Psychology   \n",
       "634      Wordsworth  Lyrical Ballads 1805, Preface to Lyrical Balla...   \n",
       "635      World bank                                  Education, Health   \n",
       "636          Wright                                         Native Son   \n",
       "637           Yeats          The Lake Isle of Innisfree,, Easter, 1916   \n",
       "638             Yin           Case Study Research : Design and Methods   \n",
       "639            York                                  National Security   \n",
       "640           Young                                  Teacher Education   \n",
       "641         Zumdahl                                          Chemistry   \n",
       "\n",
       "             x          y  \n",
       "0   -18.208155  -1.511536  \n",
       "1   -23.347324  13.808158  \n",
       "2    -0.572533  -9.990682  \n",
       "3    26.322136 -17.946905  \n",
       "4     3.989676  22.141012  \n",
       "5     1.893125  14.515541  \n",
       "6   -14.989966 -22.832966  \n",
       "7   -18.085789  13.004314  \n",
       "8   -11.421200  14.398569  \n",
       "9   -54.944508  13.733766  \n",
       "10  -13.167374  13.057486  \n",
       "11    9.200315 -24.098196  \n",
       "12  -13.878646  16.410830  \n",
       "13  -51.593311  12.460313  \n",
       "14  -15.675228  17.813883  \n",
       "15    7.874222 -13.220644  \n",
       "16    1.598295  16.007265  \n",
       "17   22.750681 -15.630670  \n",
       "18    3.774365  21.687132  \n",
       "19  -17.120131  -4.342374  \n",
       "20  -21.244473  -0.948712  \n",
       "21    5.206309   5.163128  \n",
       "22  -56.497414  15.009583  \n",
       "23   13.167668  12.256462  \n",
       "24    8.593299   5.996222  \n",
       "25   -0.991938  18.385220  \n",
       "26  -24.115368  10.070409  \n",
       "27   24.208139 -10.359832  \n",
       "28    9.660327 -23.150913  \n",
       "29   16.653791 -14.012006  \n",
       "..         ...        ...  \n",
       "612  -2.134959  13.249118  \n",
       "613  11.981122   6.027180  \n",
       "614   4.699914   0.866420  \n",
       "615 -19.690414  10.477544  \n",
       "616   0.224180 -14.726821  \n",
       "617  13.383206 -13.416129  \n",
       "618 -19.990534  18.913185  \n",
       "619  -9.242717  -7.281488  \n",
       "620   6.129483   3.880801  \n",
       "621 -13.490201  14.903869  \n",
       "622   2.307668  -1.758232  \n",
       "623 -22.546850   8.795450  \n",
       "624 -16.388306  22.181597  \n",
       "625  -0.537202 -17.855749  \n",
       "626  18.150377 -14.940360  \n",
       "627  21.890621 -12.842549  \n",
       "628 -21.349848   2.291123  \n",
       "629  -0.660162 -12.030122  \n",
       "630   4.012622  -1.860251  \n",
       "631  13.654284   6.993771  \n",
       "632 -26.181719  12.674937  \n",
       "633   3.912812   2.504988  \n",
       "634 -22.106253   0.554751  \n",
       "635   3.821286  -8.272158  \n",
       "636 -18.758316  19.627914  \n",
       "637 -19.504921  -0.821964  \n",
       "638  -9.735782 -17.009260  \n",
       "639   7.371481 -16.152660  \n",
       "640   3.022819  -1.239635  \n",
       "641   3.606601   4.097253  \n",
       "\n",
       "[642 rows x 4 columns]"
      ]
     },
     "execution_count": 87,
     "metadata": {},
     "output_type": "execute_result"
    }
   ],
   "source": [
    "df"
   ]
  },
  {
   "cell_type": "code",
   "execution_count": 88,
   "metadata": {},
   "outputs": [],
   "source": [
    "chart = (alt\n",
    "    .Chart(df, width=1000, height=700)\n",
    "    .mark_circle()\n",
    "    .encode(x='x', y='y', tooltip='titles')\n",
    "    .mark_text()\n",
    "    .encode(text='surname'))"
   ]
  },
  {
   "cell_type": "code",
   "execution_count": 89,
   "metadata": {},
   "outputs": [
    {
     "data": {
      "application/vnd.vegalite.v2+json": {
       "$schema": "https://vega.github.io/schema/vega-lite/v2.4.3.json",
       "config": {
        "view": {
         "height": 300,
         "width": 400
        }
       },
       "data": {
        "values": [
         {
          "surname": "Abrams",
          "titles": "A Glossary of Literary Terms, The Norton Anthology of English Literature",
          "x": -18.208154678344727,
          "y": -1.5115361213684082
         },
         {
          "surname": "Achebe",
          "titles": "Things Fall Apart",
          "x": -23.34732437133789,
          "y": 13.808157920837402
         },
         {
          "surname": "Addams",
          "titles": "Twenty Years at Hull-House",
          "x": -0.5725326538085938,
          "y": -9.990681648254395
         },
         {
          "surname": "Adorno",
          "titles": "The Culture Industry",
          "x": 26.32213592529297,
          "y": -17.9469051361084
         },
         {
          "surname": "Aeschylus",
          "titles": "Eumenides, The Libation Bearers, Agamemnon,, The Oresteia, Prometheus",
          "x": 3.989675760269165,
          "y": 22.14101219177246
         },
         {
          "surname": "Aesop",
          "titles": "Fables",
          "x": 1.8931249380111694,
          "y": 14.515541076660156
         },
         {
          "surname": "Alberts",
          "titles": "Essential Cell Biology, Molecular Biology of the Cell",
          "x": -14.98996639251709,
          "y": -22.832965850830078
         },
         {
          "surname": "Alcott",
          "titles": "Little Women",
          "x": -18.08578872680664,
          "y": 13.004314422607422
         },
         {
          "surname": "Alexie",
          "titles": "The Lone Ranger and Tonto Fistfight in Heaven",
          "x": -11.421199798583984,
          "y": 14.398569107055664
         },
         {
          "surname": "Allen",
          "titles": "Without Feathers",
          "x": -54.94450759887695,
          "y": 13.733765602111816
         },
         {
          "surname": "Allende",
          "titles": "The House of the Spirits",
          "x": -13.167373657226562,
          "y": 13.057485580444336
         },
         {
          "surname": "Allison",
          "titles": "Essence of Decision; Explaining the Cuban Missile Crisis, Conceptual Models and the Cuban Missile Crisis",
          "x": 9.200315475463867,
          "y": -24.098196029663086
         },
         {
          "surname": "Anaya",
          "titles": "Bless Me, Ultima",
          "x": -13.878645896911621,
          "y": 16.410829544067383
         },
         {
          "surname": "Anderson",
          "titles": "Imagined Communities : Reflections on the Origin and Spread of Nationalism, The Fall of Baghdad, Winesburg, Ohio",
          "x": -51.59331130981445,
          "y": 12.460312843322754
         },
         {
          "surname": "Angelou",
          "titles": "I Know Why the Caged Bird Sings",
          "x": -15.675228118896484,
          "y": 17.81388282775879
         },
         {
          "surname": "Anthony",
          "titles": "Essential Reading",
          "x": 7.8742218017578125,
          "y": -13.220643997192383
         },
         {
          "surname": "Apuleius",
          "titles": "The Golden Ass",
          "x": 1.5982952117919922,
          "y": 16.007265090942383
         },
         {
          "surname": "Arendt",
          "titles": "The Human Condition, The Origins of Totalitarianism",
          "x": 22.750680923461914,
          "y": -15.630669593811035
         },
         {
          "surname": "Aristophanes",
          "titles": "The Frogs, Lysistrata, The Clouds",
          "x": 3.774364709854126,
          "y": 21.687131881713867
         },
         {
          "surname": "Aristotle",
          "titles": "Ethics, Rhetoric, Ethics and Politics, The Physics, Nicomachean Ethics, The Metaphysics, The Politics, The Poetics",
          "x": -17.12013053894043,
          "y": -4.342374324798584
         },
         {
          "surname": "Arnold",
          "titles": "Dover Beach, Culture and Anarchy",
          "x": -21.24447250366211,
          "y": -0.9487120509147644
         },
         {
          "surname": "Aronson",
          "titles": "Social Psychology",
          "x": 5.206308841705322,
          "y": 5.16312837600708
         },
         {
          "surname": "Aslam",
          "titles": "Maps for Lost Lovers",
          "x": -56.497413635253906,
          "y": 15.009583473205566
         },
         {
          "surname": "Atkins",
          "titles": "Physical Chemistry",
          "x": 13.167668342590332,
          "y": 12.256462097167969
         },
         {
          "surname": "Audesirk",
          "titles": "Life on Earth",
          "x": 8.59329891204834,
          "y": 5.996222496032715
         },
         {
          "surname": "Augustine",
          "titles": "Confessions",
          "x": -0.9919383525848389,
          "y": 18.38521957397461
         },
         {
          "surname": "Austen",
          "titles": "Northanger Abbey, Pride & Prejudice, Sense and Sensibility, Emma, Persuasion, Mansfield Park",
          "x": -24.115367889404297,
          "y": 10.070408821105957
         },
         {
          "surname": "Austin",
          "titles": "How to Do Things With Words",
          "x": 24.208139419555664,
          "y": -10.359831809997559
         },
         {
          "surname": "Axelrod",
          "titles": "The Evolution of Cooperation",
          "x": 9.660326957702637,
          "y": -23.15091323852539
         },
         {
          "surname": "Ayer",
          "titles": "Language, Truth and Logic",
          "x": 16.653791427612305,
          "y": -14.012005805969238
         },
         {
          "surname": "Azar",
          "titles": "Understanding and Using English Grammar",
          "x": 1.350344181060791,
          "y": -1.014331340789795
         },
         {
          "surname": "Babbie",
          "titles": "The Practice of Social Research",
          "x": 11.255171775817871,
          "y": -5.338989734649658
         },
         {
          "surname": "Bach",
          "titles": "The Fugue",
          "x": -4.191830158233643,
          "y": 0.9010361433029175
         },
         {
          "surname": "Bachelard",
          "titles": "The Poetics of Space",
          "x": 22.016557693481445,
          "y": -7.126931667327881
         },
         {
          "surname": "Bailyn",
          "titles": "The Ideological Origins of the American Revolution",
          "x": -0.8848447203636169,
          "y": -12.1123046875
         },
         {
          "surname": "Bandura",
          "titles": "Social Learning Theory",
          "x": 7.502647399902344,
          "y": -2.0709564685821533
         },
         {
          "surname": "Barber",
          "titles": "Jihad vs. McWorld",
          "x": 8.761335372924805,
          "y": -26.49734115600586
         },
         {
          "surname": "Barker",
          "titles": "Regeneration",
          "x": -11.609664916992188,
          "y": 9.643946647644043
         },
         {
          "surname": "Barnet",
          "titles": "A Short Guide to Writing About Art",
          "x": 3.786295175552368,
          "y": 6.207299709320068
         },
         {
          "surname": "Barro",
          "titles": "Economic Growth",
          "x": 5.111671447753906,
          "y": -11.72070026397705
         },
         {
          "surname": "Barthes",
          "titles": "Image, Music, Text, Mythologies",
          "x": 29.008468627929688,
          "y": -17.36669158935547
         },
         {
          "surname": "Bates",
          "titles": "A Guide to Physical Examination",
          "x": 5.511763572692871,
          "y": -1.4596282243728638
         },
         {
          "surname": "Baudrillard",
          "titles": "Simulations, Simulacra and Simulation",
          "x": 28.281808853149414,
          "y": -16.407060623168945
         },
         {
          "surname": "Baum",
          "titles": "The Wizard of Oz",
          "x": -11.113642692565918,
          "y": 6.174627780914307
         },
         {
          "surname": "Beauchamp",
          "titles": "Principles of Biomedical Ethics",
          "x": 7.832822322845459,
          "y": 0.8721484541893005
         },
         {
          "surname": "Beauvoir",
          "titles": "The Second Sex",
          "x": 21.718233108520508,
          "y": -16.854963302612305
         },
         {
          "surname": "Becker",
          "titles": "Writing for Social Scientists : How to Start and Finish Your Thesis, Book, or Article",
          "x": 10.682821273803711,
          "y": -7.514462947845459
         },
         {
          "surname": "Beckett",
          "titles": "Endgame, Waiting for Godot",
          "x": -15.742546081542969,
          "y": 8.59427547454834
         },
         {
          "surname": "Bede",
          "titles": "Ecclesiastical History",
          "x": -0.814367413520813,
          "y": 12.776154518127441
         },
         {
          "surname": "Beethoven",
          "titles": "Symphony No. 2",
          "x": -5.735480785369873,
          "y": -0.3861538767814636
         },
         {
          "surname": "Behn",
          "titles": "The Rover, Oroonoko",
          "x": -4.246087074279785,
          "y": 19.17465591430664
         },
         {
          "surname": "Bell",
          "titles": "Doing Your Research Project : A Guide for First-Time Researchers in Education and Social Science",
          "x": -10.568795204162598,
          "y": -17.18510627746582
         },
         {
          "surname": "Bellamy",
          "titles": "Looking Backward, 2000-1887",
          "x": -2.8792638778686523,
          "y": -9.718462944030762
         },
         {
          "surname": "Bellow",
          "titles": "Seize the Day",
          "x": -53.35213088989258,
          "y": 12.879019737243652
         },
         {
          "surname": "Benjamin",
          "titles": "Illuminations",
          "x": 25.68103790283203,
          "y": -13.895817756652832
         },
         {
          "surname": "Bentham",
          "titles": "Utilitarianism",
          "x": 14.44159984588623,
          "y": -17.656959533691406
         },
         {
          "surname": "Berg",
          "titles": "Biochemistry",
          "x": 9.715596199035645,
          "y": 10.825407981872559
         },
         {
          "surname": "Berger",
          "titles": "Ways of Seeing, The Developing Person",
          "x": 28.409799575805664,
          "y": -13.16753101348877
         },
         {
          "surname": "Berlioz",
          "titles": "Symphonie Fantastique",
          "x": -5.581509113311768,
          "y": 0.08099474012851715
         },
         {
          "surname": "Bevington",
          "titles": "Shakespeare",
          "x": -8.056455612182617,
          "y": 12.174418449401855
         },
         {
          "surname": "Bhabha",
          "titles": "The Location of Culture",
          "x": 27.90093231201172,
          "y": -19.1737003326416
         },
         {
          "surname": "Bizet",
          "titles": "Carmen",
          "x": -4.0522990226745605,
          "y": -1.2911516427993774
         },
         {
          "surname": "Black",
          "titles": "War and the World, 1450-2000, Cambridge University Press, 1584-1984",
          "x": 2.684183359146118,
          "y": -14.025846481323242
         },
         {
          "surname": "Blake",
          "titles": "Songs of Experience, Songs of Innocence and of Experience, Songs of Innocence and Experience, The Marriage of Heaven and Hell, Songs of Innocence",
          "x": -21.6417293548584,
          "y": 0.37773728370666504
         },
         {
          "surname": "Blanchard",
          "titles": "Macroeconomics",
          "x": 16.382482528686523,
          "y": 7.4768877029418945
         },
         {
          "surname": "Blaxter",
          "titles": "How to Research",
          "x": 13.766252517700195,
          "y": -5.969121932983398
         },
         {
          "surname": "Boccaccio",
          "titles": "The Decameron",
          "x": -1.1972644329071045,
          "y": 17.494644165039062
         },
         {
          "surname": "Bodie",
          "titles": "Investments",
          "x": 15.171520233154297,
          "y": 9.789024353027344
         },
         {
          "surname": "Boethius",
          "titles": "The Consolation of Philosophy",
          "x": -0.8987641334533691,
          "y": 14.736848831176758
         },
         {
          "surname": "Booth",
          "titles": "The Craft of Research",
          "x": 10.653592109680176,
          "y": -9.025239944458008
         },
         {
          "surname": "Bordwell",
          "titles": "Film Art : An Introduction",
          "x": 22.178979873657227,
          "y": -7.464481353759766
         },
         {
          "surname": "Bourdieu",
          "titles": "Distinction : A Social Critique of the Judgement of Taste",
          "x": 26.405031204223633,
          "y": -15.152112007141113
         },
         {
          "surname": "Bowlby",
          "titles": "Attachment",
          "x": 16.4068546295166,
          "y": -2.301147222518921
         },
         {
          "surname": "Bowles",
          "titles": "The Sheltering Sky",
          "x": -53.87691879272461,
          "y": 14.654472351074219
         },
         {
          "surname": "Bowling",
          "titles": "Research Methods in Health : Investigating Health and Health Services",
          "x": 12.650020599365234,
          "y": -1.3391650915145874
         },
         {
          "surname": "Boyce",
          "titles": "Elementary Differential Equations and Boundary Value Problems, Elementary Differential Equations",
          "x": 14.77483081817627,
          "y": 11.545492172241211
         },
         {
          "surname": "Bradbury",
          "titles": "Fahrenheit 451",
          "x": -15.134332656860352,
          "y": 14.12441349029541
         },
         {
          "surname": "Bradford",
          "titles": "Of Plymouth Plantation, 1620-1647",
          "x": -9.114262580871582,
          "y": -7.757750511169434
         },
         {
          "surname": "Brealey",
          "titles": "Principles of Corporate Finance",
          "x": 18.6962890625,
          "y": 8.979573249816895
         },
         {
          "surname": "Brigham",
          "titles": "Fundamentals of Financial Management",
          "x": 12.966011047363281,
          "y": 7.039051055908203
         },
         {
          "surname": "Brock",
          "titles": "Biology of Microorganisms",
          "x": 10.106511116027832,
          "y": 9.489934921264648
         },
         {
          "surname": "Bronte",
          "titles": "Jane Eyre",
          "x": -21.78270149230957,
          "y": 10.30910873413086
         },
         {
          "surname": "Brontë",
          "titles": "Wuthering Heights, Jane Eyre",
          "x": -21.431182861328125,
          "y": 9.578721046447754
         },
         {
          "surname": "Brooks",
          "titles": "We Real Cool",
          "x": -18.938522338867188,
          "y": -6.59194278717041
         },
         {
          "surname": "Brown",
          "titles": "Psychology, Black and White, Chemistry, the Central Science",
          "x": -3.835662364959717,
          "y": -15.09886360168457
         },
         {
          "surname": "Browning",
          "titles": "Aurora Leigh, My Last Duchess",
          "x": -22.498371124267578,
          "y": -0.8902257084846497
         },
         {
          "surname": "Bryman",
          "titles": "Social Research Methods",
          "x": -10.079997062683105,
          "y": -16.599355697631836
         },
         {
          "surname": "Burden",
          "titles": "Numerical Analysis",
          "x": 10.114206314086914,
          "y": 1.6032391786575317
         },
         {
          "surname": "Burgess",
          "titles": "A Clockwork Orange",
          "x": -16.253938674926758,
          "y": 13.952786445617676
         },
         {
          "surname": "Burke",
          "titles": "Reflections on the Revolution in France",
          "x": 1.4652023315429688,
          "y": -24.3348388671875
         },
         {
          "surname": "Burney",
          "titles": "Evelina",
          "x": -17.850528717041016,
          "y": 8.574446678161621
         },
         {
          "surname": "Bush",
          "titles": "The White House",
          "x": 1.6869487762451172,
          "y": -12.355908393859863
         },
         {
          "surname": "Butler",
          "titles": "Gender Trouble : Feminism and the Subversion of Identity",
          "x": 28.83957862854004,
          "y": -16.320322036743164
         },
         {
          "surname": "Byron",
          "titles": "Don Juan",
          "x": -18.672924041748047,
          "y": -0.33299994468688965
         },
         {
          "surname": "Calvin",
          "titles": "Institutes of the Christian Religion",
          "x": -6.212472915649414,
          "y": 2.983304738998413
         },
         {
          "surname": "Calvino",
          "titles": "Invisible Cities",
          "x": -8.859408378601074,
          "y": 10.506793022155762
         },
         {
          "surname": "Campbell",
          "titles": "The Hero With a Thousand Faces, The Power of Myth, Essential Biology, Biology",
          "x": -15.113076210021973,
          "y": -22.371505737304688
         },
         {
          "surname": "Camus",
          "titles": "The Plague, The Stranger",
          "x": -20.443819046020508,
          "y": 15.422017097473145
         },
         {
          "surname": "Caputo",
          "titles": "A Rumor of War",
          "x": -8.033809661865234,
          "y": 7.6041154861450195
         },
         {
          "surname": "Carlson",
          "titles": "Physiology of Behavior",
          "x": 4.774169445037842,
          "y": 1.7397160530090332
         },
         {
          "surname": "Carr",
          "titles": "What Is History?",
          "x": 7.305175304412842,
          "y": -14.478081703186035
         },
         {
          "surname": "Carroll",
          "titles": "Alice in Wonderland",
          "x": -11.982561111450195,
          "y": 6.435051918029785
         },
         {
          "surname": "Carson",
          "titles": "Silent Spring",
          "x": -2.416656970977783,
          "y": -11.277570724487305
         },
         {
          "surname": "Case",
          "titles": "Real Estate",
          "x": 4.917713165283203,
          "y": -0.6986175179481506
         },
         {
          "surname": "Castells",
          "titles": "The Rise of the Network Society",
          "x": 22.689054489135742,
          "y": -13.038680076599121
         },
         {
          "surname": "Castiglione",
          "titles": "The Book of the Courtier, The Courtier",
          "x": -3.0776970386505127,
          "y": 16.24715232849121
         },
         {
          "surname": "Castro",
          "titles": "HTML 4 for the World Wide Web",
          "x": 8.34538745880127,
          "y": 0.11990589648485184
         },
         {
          "surname": "Cather",
          "titles": "My Antonia",
          "x": -16.79359245300293,
          "y": 16.762968063354492
         },
         {
          "surname": "Certeau",
          "titles": "The Practice of Everyday Life",
          "x": 27.12285614013672,
          "y": -14.938201904296875
         },
         {
          "surname": "Chaisson",
          "titles": "Astronomy Today",
          "x": 11.47036075592041,
          "y": 6.251183032989502
         },
         {
          "surname": "Chalmers",
          "titles": "What Is This Thing Called Science?",
          "x": 16.761964797973633,
          "y": -6.398292064666748
         },
         {
          "surname": "Chandler",
          "titles": "The Big Sleep",
          "x": -14.589500427246094,
          "y": 13.708463668823242
         },
         {
          "surname": "Chang",
          "titles": "Chemistry",
          "x": 9.276209831237793,
          "y": 7.63585090637207
         },
         {
          "surname": "Chaplin",
          "titles": "Modern Times",
          "x": 7.073805332183838,
          "y": -5.89406156539917
         },
         {
          "surname": "Chaucer",
          "titles": "The Canterbury Tales: Prologue, The General Prologue, Troilus :, Canterbury Tales",
          "x": -2.493917465209961,
          "y": 22.694015502929688
         },
         {
          "surname": "Chekhov",
          "titles": "The Cherry Orchard",
          "x": -13.337119102478027,
          "y": 8.006254196166992
         },
         {
          "surname": "Chiang",
          "titles": "Fundamental Methods of Mathematical Economics",
          "x": 14.374140739440918,
          "y": 7.99600076675415
         },
         {
          "surname": "Ching",
          "titles": "Architecture : Form, Space & Order",
          "x": 6.645163059234619,
          "y": -1.0676261186599731
         },
         {
          "surname": "Chopin",
          "titles": "The Awakening",
          "x": -21.51306915283203,
          "y": 20.558425903320312
         },
         {
          "surname": "Cialdini",
          "titles": "Influence : Science and Practice",
          "x": 2.4904768466949463,
          "y": -2.303173780441284
         },
         {
          "surname": "Cisneros",
          "titles": "The House on Mango Street",
          "x": -16.452861785888672,
          "y": 19.344310760498047
         },
         {
          "surname": "Cixous",
          "titles": "The Laugh of the Medusa",
          "x": 25.819538116455078,
          "y": -12.302252769470215
         },
         {
          "surname": "Clausewitz",
          "titles": "On War",
          "x": 10.597330093383789,
          "y": -22.88585662841797
         },
         {
          "surname": "Cleveland",
          "titles": "A History of the Modern Middle East",
          "x": 7.818032741546631,
          "y": -13.54111385345459
         },
         {
          "surname": "Coase",
          "titles": "The Nature of the Firm, The Problem of Social Cost",
          "x": 4.818609237670898,
          "y": -16.989355087280273
         },
         {
          "surname": "Coetzee",
          "titles": "Waiting for the Barbarians, Disgrace",
          "x": -51.939056396484375,
          "y": 14.170750617980957
         },
         {
          "surname": "Cohen",
          "titles": "Research Methods in Education",
          "x": 13.704488754272461,
          "y": -5.238829612731934
         },
         {
          "surname": "Coleridge",
          "titles": "The Ancient Mariner, The Rime of the Ancient Mariner, Kubla Khan, Biographia Literaria,",
          "x": -22.4592342376709,
          "y": 0.08916550874710083
         },
         {
          "surname": "Collins",
          "titles": "Good to Great, The Woman in White",
          "x": -18.684587478637695,
          "y": 9.528124809265137
         },
         {
          "surname": "Comer",
          "titles": "Internetworking With TCP/IP, Computer Networks and Internets",
          "x": -16.330228805541992,
          "y": -16.220502853393555
         },
         {
          "surname": "Confucius",
          "titles": "The Analects",
          "x": 17.711210250854492,
          "y": -12.429634094238281
         },
         {
          "surname": "Connell",
          "titles": "Masculinities",
          "x": 23.055240631103516,
          "y": -10.229722023010254
         },
         {
          "surname": "Conrad",
          "titles": "Typhoon, Heart of Darkness",
          "x": -26.625141143798828,
          "y": 12.677224159240723
         },
         {
          "surname": "Cooper",
          "titles": "The Last of the Mohicans",
          "x": -9.968881607055664,
          "y": -3.367067575454712
         },
         {
          "surname": "Corey",
          "titles": "Theory and Practice of Counseling and Psychotherapy, Groups, Process and Practice",
          "x": 5.15955924987793,
          "y": 2.356210947036743
         },
         {
          "surname": "Cormen",
          "titles": "Introduction to Algorithms",
          "x": -18.757427215576172,
          "y": -14.178725242614746
         },
         {
          "surname": "Corrigan",
          "titles": "A Short Guide to Writing About Film",
          "x": -7.828029632568359,
          "y": 9.950859069824219
         },
         {
          "surname": "Cottrell",
          "titles": "Critical Thinking Skills : Developing Effective Analysis and Argument",
          "x": 12.38546085357666,
          "y": -2.3638298511505127
         },
         {
          "surname": "Cozby",
          "titles": "Methods in Behavioral Research",
          "x": -0.7320466041564941,
          "y": 2.9465739727020264
         },
         {
          "surname": "Crane",
          "titles": "Maggie, a Girl of the Streets, The Open Boat, The Red Badge of Courage,",
          "x": -22.544815063476562,
          "y": 20.386398315429688
         },
         {
          "surname": "Creme",
          "titles": "Writing at University : A Guide for Students",
          "x": 13.711122512817383,
          "y": -1.742601752281189
         },
         {
          "surname": "Creswell",
          "titles": "Research Design : Qualitative & Quantitative Approaches, Research Design : Qualitative, Quantitative, and Mixed Methods Approaches",
          "x": -9.820537567138672,
          "y": -17.260263442993164
         },
         {
          "surname": "Cronon",
          "titles": "Changes in the Land : Indians, Colonists, and the Ecology of New England",
          "x": 0.6528459191322327,
          "y": -9.399673461914062
         },
         {
          "surname": "Crystal",
          "titles": "The Cambridge Encyclopedia of Language, The English Language",
          "x": -5.855116367340088,
          "y": 9.953817367553711
         },
         {
          "surname": "Current",
          "titles": "United States History",
          "x": -0.16183394193649292,
          "y": 0.380467027425766
         },
         {
          "surname": "Cutnell",
          "titles": "Physics",
          "x": 15.828079223632812,
          "y": 14.304451942443848
         },
         {
          "surname": "Dangarembga",
          "titles": "Nervous Conditions",
          "x": -9.393895149230957,
          "y": 13.129549026489258
         },
         {
          "surname": "Dante alighieri",
          "titles": "The Divine Comedy, The Comedy, Inferno",
          "x": 0.010434293188154697,
          "y": 16.56217384338379
         },
         {
          "surname": "Darwin",
          "titles": "On the Origin of Species, The Descent of Man, Origin of Species",
          "x": -21.079391479492188,
          "y": 3.114879608154297
         },
         {
          "surname": "Date",
          "titles": "An Introduction to Database Systems",
          "x": -16.954273223876953,
          "y": -14.744784355163574
         },
         {
          "surname": "Davis",
          "titles": "Tools for Teaching, Life in the Iron Mills, City of Quartz : Excavating the Future in Los Angeles, The Return of Martin Guerre",
          "x": -9.497105598449707,
          "y": -4.717210292816162
         },
         {
          "surname": "Dawkins",
          "titles": "The Selfish Gene",
          "x": 16.764799118041992,
          "y": -8.018959045410156
         },
         {
          "surname": "De tocqueville",
          "titles": "Democracy in America",
          "x": 3.7893195152282715,
          "y": -28.641918182373047
         },
         {
          "surname": "Debord",
          "titles": "Society of the Spectacle",
          "x": 25.862308502197266,
          "y": -14.71575927734375
         },
         {
          "surname": "Defoe",
          "titles": "Robinson, Moll Flanders, Robinson Crusoe",
          "x": -22.474750518798828,
          "y": 11.440412521362305
         },
         {
          "surname": "Deitel",
          "titles": "Java : How to Program, Java, C : How to Program",
          "x": -14.599754333496094,
          "y": -18.245466232299805
         },
         {
          "surname": "Deleuze",
          "titles": "Foucault",
          "x": 27.544456481933594,
          "y": -14.290746688842773
         },
         {
          "surname": "Delillo",
          "titles": "White Noise",
          "x": -17.867746353149414,
          "y": 17.925220489501953
         },
         {
          "surname": "Denscombe",
          "titles": "The Good Research Guide : For Small-Scale Social Research Projects",
          "x": -9.257208824157715,
          "y": -16.614213943481445
         },
         {
          "surname": "Descartes",
          "titles": "Discourse on Method and Meditations on First Philosophy, Discourse on Method ; And, Meditations, Discourse on Method, Meditations on First Philosophy",
          "x": 17.62206268310547,
          "y": -18.635473251342773
         },
         {
          "surname": "Dewey",
          "titles": "William James, Democracy and Education, Experience and Education",
          "x": 15.926568984985352,
          "y": -10.574681282043457
         },
         {
          "surname": "Dexter",
          "titles": "Paris Trout, Brotherly Love",
          "x": -54.623626708984375,
          "y": 14.342368125915527
         },
         {
          "surname": "Diamond",
          "titles": "Guns, Germs, and Steel : The Fates of Human Societies",
          "x": 5.992859363555908,
          "y": -15.967166900634766
         },
         {
          "surname": "Dick",
          "titles": "Do Androids Dream of Electric Sheep?",
          "x": -10.970959663391113,
          "y": 11.694207191467285
         },
         {
          "surname": "Dickens",
          "titles": "Bleak House,, A Christmas Carol, A Tale of Two Cities, Great Expectations,, Hard Times, Oliver Twist, David Copperfield",
          "x": -24.500917434692383,
          "y": 10.11390209197998
         },
         {
          "surname": "Dickinson",
          "titles": "Selected Poems",
          "x": -9.350359916687012,
          "y": -3.830054759979248
         },
         {
          "surname": "Doctorow",
          "titles": "Ragtime",
          "x": -52.52720642089844,
          "y": 14.991177558898926
         },
         {
          "surname": "Doyle",
          "titles": "Liberalism and World Politics, Sherlock Holmes",
          "x": 7.1869988441467285,
          "y": -25.39515495300293
         },
         {
          "surname": "Dreiser",
          "titles": "Sister Carrie",
          "x": -17.886613845825195,
          "y": 16.40343475341797
         },
         {
          "surname": "Drucker",
          "titles": "Management",
          "x": 9.837712287902832,
          "y": -5.270516395568848
         },
         {
          "surname": "Du bois",
          "titles": "The Souls of Black Folk",
          "x": -3.051739454269409,
          "y": -13.421756744384766
         },
         {
          "surname": "Due",
          "titles": "Project Evaluation",
          "x": 2.0087087154388428,
          "y": -6.3513665199279785
         },
         {
          "surname": "Dumas",
          "titles": "Monte Cristo, The Count of Monte-Cristo",
          "x": -54.0059814453125,
          "y": 16.267332077026367
         },
         {
          "surname": "Durkheim",
          "titles": "The Elementary Forms of Religious Life, The Division of Labor in Society, Suicide, The Rules of Sociological Method",
          "x": 23.500926971435547,
          "y": -21.604267120361328
         },
         {
          "surname": "Eagleton",
          "titles": "Literary Theory : An Introduction",
          "x": 26.249914169311523,
          "y": -12.36417007446289
         },
         {
          "surname": "Eckel",
          "titles": "Thinking in Java",
          "x": 12.956268310546875,
          "y": 1.9190137386322021
         },
         {
          "surname": "Edwards",
          "titles": "Sinners in the Hands of an Angry God",
          "x": -8.825685501098633,
          "y": -7.188838958740234
         },
         {
          "surname": "Ehrenreich",
          "titles": "Nickel and Dimed : On (Not) Getting by in America",
          "x": -0.6200488805770874,
          "y": -17.423982620239258
         },
         {
          "surname": "Eisenstein",
          "titles": "The Battleship Potemkin",
          "x": 7.2934088706970215,
          "y": -6.094341278076172
         },
         {
          "surname": "Eliot",
          "titles": "Ezra Pound, The Waste Land, The Love Song of J. Alfred Prufrock, Middlemarch, Tradition and the Individual Talent, The Mill on the Floss, Virginia Woolf, Silas Marner,",
          "x": -23.186307907104492,
          "y": -1.8551759719848633
         },
         {
          "surname": "Ellis",
          "titles": "His Excellency : George Washington",
          "x": -55.427711486816406,
          "y": 15.384037017822266
         },
         {
          "surname": "Ellison",
          "titles": "Invisible Man",
          "x": -19.909263610839844,
          "y": 21.585378646850586
         },
         {
          "surname": "Elmasri",
          "titles": "Fundamentals of Database Systems",
          "x": -16.664831161499023,
          "y": -16.86772346496582
         },
         {
          "surname": "Emerson",
          "titles": "The American Scholar, Self Reliance, Nature",
          "x": -9.819938659667969,
          "y": -10.015788078308105
         },
         {
          "surname": "Engels",
          "titles": "The Condition of the Working Class in England, On Marx",
          "x": -1.1809278726577759,
          "y": -24.04183006286621
         },
         {
          "surname": "England",
          "titles": "The Sixteenth Century",
          "x": -1.0311155319213867,
          "y": 12.304624557495117
         },
         {
          "surname": "English",
          "titles": "Contemporary Literature",
          "x": -6.199934005737305,
          "y": 10.910177230834961
         },
         {
          "surname": "Erasmus",
          "titles": "The Praise of Folly",
          "x": -2.994691848754883,
          "y": 16.15290069580078
         },
         {
          "surname": "Erdrich",
          "titles": "Love Medicine",
          "x": -15.141135215759277,
          "y": 17.48531150817871
         },
         {
          "surname": "Esping-andersen",
          "titles": "The Three Worlds of Capitalism, The Three Worlds of Welfare Capitalism",
          "x": 5.824647903442383,
          "y": -17.14943504333496
         },
         {
          "surname": "Euripides",
          "titles": "The Bacchae, Alcestis, Trojan Women, Hippolytus, Medea",
          "x": 4.082797050476074,
          "y": 22.343753814697266
         },
         {
          "surname": "Faigley",
          "titles": "The Penguin Handbook",
          "x": 0.48490387201309204,
          "y": 2.2796895503997803
         },
         {
          "surname": "Fanon",
          "titles": "The Wretched of the Earth, Black Skin, White Masks",
          "x": 28.275161743164062,
          "y": -20.099992752075195
         },
         {
          "surname": "Faulkner",
          "titles": "Absalom, Absalom!, Light in August, As I Lay Dying, A Rose for Emily,, The Sound and the Fury",
          "x": -19.12532615661621,
          "y": 22.948780059814453
         },
         {
          "surname": "Federal reserve bank of minneapolis",
          "titles": "Quarterly Review",
          "x": 3.995192050933838,
          "y": -4.087949275970459
         },
         {
          "surname": "Field",
          "titles": "Reading and Writing, Discovering Statistics Using R, Archaeology in the U.S.S.R",
          "x": 19.354618072509766,
          "y": -2.05411434173584
         },
         {
          "surname": "Fielding",
          "titles": "Joseph Andrews, Tom Jones",
          "x": -21.55417251586914,
          "y": 11.458666801452637
         },
         {
          "surname": "Fisher",
          "titles": "Getting to Yes : Negotiating Agreement Without Giving In, Getting to Yes",
          "x": 8.22299861907959,
          "y": -16.73578453063965
         },
         {
          "surname": "Fitzgerald",
          "titles": "The Great Gatsby",
          "x": -20.876209259033203,
          "y": 21.738733291625977
         },
         {
          "surname": "Flanagan",
          "titles": "Java in a Nutshell",
          "x": 13.365344047546387,
          "y": 0.7605192065238953
         },
         {
          "surname": "Flaubert",
          "titles": "Madame Bovary",
          "x": -21.10316276550293,
          "y": 13.33674430847168
         },
         {
          "surname": "Forster",
          "titles": "A Passage to India",
          "x": -19.791851043701172,
          "y": 13.161922454833984
         },
         {
          "surname": "Foucault",
          "titles": "Power, Discipline and Punish : The Birth of the Prison, The History of Sexuality",
          "x": 29.201738357543945,
          "y": -21.307445526123047
         },
         {
          "surname": "Fowler",
          "titles": "The Little, Brown Handbook",
          "x": 1.149104118347168,
          "y": 3.4939205646514893
         },
         {
          "surname": "Franklin",
          "titles": "Autobiography",
          "x": -8.887323379516602,
          "y": -8.874587059020996
         },
         {
          "surname": "Freire",
          "titles": "Pedagogy of the Oppressed",
          "x": 0.41852423548698425,
          "y": -14.924001693725586
         },
         {
          "surname": "French",
          "titles": "Writing and Reading",
          "x": 5.3006510734558105,
          "y": 3.340376615524292
         },
         {
          "surname": "Freud",
          "titles": "The Interpretation of Dreams, The Unconscious, The Uncanny, Civilization and Its Discontents",
          "x": 21.06730079650879,
          "y": -19.094715118408203
         },
         {
          "surname": "Friedan",
          "titles": "The Feminine Mystique",
          "x": -3.194119930267334,
          "y": -14.000434875488281
         },
         {
          "surname": "Friedman",
          "titles": "The Lexus and the Olive Tree, Capitalism and Freedom",
          "x": 8.236072540283203,
          "y": -27.713756561279297
         },
         {
          "surname": "Fromkin",
          "titles": "An Introduction to Language",
          "x": -2.8388898372650146,
          "y": 8.568199157714844
         },
         {
          "surname": "Fukuyama",
          "titles": "The End of History and the Last Man, The End of History?",
          "x": 9.346563339233398,
          "y": -28.27979278564453
         },
         {
          "surname": "Fussell",
          "titles": "The Great War and Modern Memory",
          "x": 5.945982456207275,
          "y": -14.094734191894531
         },
         {
          "surname": "Gaddis",
          "titles": "Starting Out With C++ : From Control Structures Through Objects",
          "x": 4.01569128036499,
          "y": -1.1175520420074463
         },
         {
          "surname": "Gandhi",
          "titles": "Rajiv",
          "x": 3.627779960632324,
          "y": -6.834714412689209
         },
         {
          "surname": "Garrels",
          "titles": "Naked in Baghdad",
          "x": -56.34977722167969,
          "y": 14.094926834106445
         },
         {
          "surname": "Garrett",
          "titles": "Biochemistry",
          "x": 9.264678955078125,
          "y": 2.3670034408569336
         },
         {
          "surname": "Garrison",
          "titles": "Managerial Accounting",
          "x": 13.407516479492188,
          "y": 10.242060661315918
         },
         {
          "surname": "Geertz",
          "titles": "Deep Play: Notes on the Balinese Cockfight",
          "x": 23.24892234802246,
          "y": -11.193502426147461
         },
         {
          "surname": "Gellner",
          "titles": "Nationalism, Nations and Nationalism",
          "x": 9.596860885620117,
          "y": -26.10332679748535
         },
         {
          "surname": "Gibaldi",
          "titles": "MLA Handbook for Writers of Research Papers",
          "x": -17.072526931762695,
          "y": -10.103546142578125
         },
         {
          "surname": "Gibbon",
          "titles": "Decline and Fall, The Decline and Fall of the Roman Empire",
          "x": 0.3615086078643799,
          "y": 14.082799911499023
         },
         {
          "surname": "Gibson",
          "titles": "Neuromancer",
          "x": -16.202556610107422,
          "y": 15.12425708770752
         },
         {
          "surname": "Giddens",
          "titles": "Sociology, The Consequences of Modernity",
          "x": 25.574007034301758,
          "y": -18.675844192504883
         },
         {
          "surname": "Gilbert",
          "titles": "Developmental Biology",
          "x": 7.150246620178223,
          "y": 3.6097748279571533
         },
         {
          "surname": "Gilman",
          "titles": "The Yellow Wallpaper, Herland, The Yellow Wall Paper",
          "x": -21.820009231567383,
          "y": -7.466221332550049
         },
         {
          "surname": "Gilpin",
          "titles": "The Political Economy of International Relations",
          "x": 8.102012634277344,
          "y": -21.447114944458008
         },
         {
          "surname": "Gilroy",
          "titles": "The Black Atlantic : Modernity and Double Consciousness",
          "x": 24.364925384521484,
          "y": -13.408060073852539
         },
         {
          "surname": "Glaspell",
          "titles": "Trifles",
          "x": -20.0704288482666,
          "y": -7.181360721588135
         },
         {
          "surname": "Goethe",
          "titles": "Werther,, Faust",
          "x": -5.977371692657471,
          "y": 15.943103790283203
         },
         {
          "surname": "Goffman",
          "titles": "The Presentation of Self in Everyday Life",
          "x": 25.492097854614258,
          "y": -18.27149772644043
         },
         {
          "surname": "Golding",
          "titles": "Lord of the Flies",
          "x": -20.79456901550293,
          "y": 15.014586448669434
         },
         {
          "surname": "Goldstein",
          "titles": "International Relations, Classical Mechanics",
          "x": -15.480589866638184,
          "y": -13.77572250366211
         },
         {
          "surname": "Goleman",
          "titles": "Emotional Intelligence",
          "x": 3.015044689178467,
          "y": -9.28144645690918
         },
         {
          "surname": "Gonzalez",
          "titles": "Digital Image Processing",
          "x": -16.757402420043945,
          "y": -14.301596641540527
         },
         {
          "surname": "Gould",
          "titles": "The Mismeasure of Man",
          "x": 18.159971237182617,
          "y": -7.833664894104004
         },
         {
          "surname": "Gramsci",
          "titles": "From the 'Prison Notebooks', Prison Notebooks",
          "x": 25.354162216186523,
          "y": -17.570701599121094
         },
         {
          "surname": "Granovetter",
          "titles": "The Strength of Weak Ties",
          "x": 3.697542905807495,
          "y": -15.299023628234863
         },
         {
          "surname": "Grant",
          "titles": "Contemporary Strategy Analysis",
          "x": 10.301423072814941,
          "y": 1.1143308877944946
         },
         {
          "surname": "Great britain",
          "titles": "Chapter 17",
          "x": 3.621370792388916,
          "y": -4.9718098640441895
         },
         {
          "surname": "Greene",
          "titles": "Econometric Analysis",
          "x": 16.065753936767578,
          "y": 8.244453430175781
         },
         {
          "surname": "Greenhalgh",
          "titles": "How to Read a Paper : The Basics of Evidence-Based Medicine",
          "x": 12.312600135803223,
          "y": -1.0269088745117188
         },
         {
          "surname": "Griffiths",
          "titles": "Introduction to Electrodynamics, Introduction to Quantum Mechanics",
          "x": 16.353851318359375,
          "y": 14.814115524291992
         },
         {
          "surname": "Grimm",
          "titles": "Fairy Tales",
          "x": -10.931676864624023,
          "y": 6.014129161834717
         },
         {
          "surname": "Grove",
          "titles": "A Dictionary of Music and Musicians (A.D. 1450-1889)",
          "x": 7.477517604827881,
          "y": 2.490454912185669
         },
         {
          "surname": "Groves",
          "titles": "Academe",
          "x": -57.394676208496094,
          "y": 14.373799324035645
         },
         {
          "surname": "Gujarati",
          "titles": "Basic Econometrics",
          "x": 6.646729469299316,
          "y": 5.629220008850098
         },
         {
          "surname": "Guyton",
          "titles": "Textbook of Medical Physiology",
          "x": 5.464413642883301,
          "y": 0.6470635533332825
         },
         {
          "surname": "Hacker",
          "titles": "A Pocket Style Manual, Rules for Writers, The Bedford Handbook",
          "x": -8.59572696685791,
          "y": -21.531404495239258
         },
         {
          "surname": "Haddon",
          "titles": "The Curious Incident of the Dog in the Night-Time",
          "x": -10.762502670288086,
          "y": 10.349921226501465
         },
         {
          "surname": "Halliday",
          "titles": "Physics, Fundamentals of Physics",
          "x": -20.98799705505371,
          "y": -7.557521820068359
         },
         {
          "surname": "Hamilton",
          "titles": "Time Series Analysis, The Federalist Papers",
          "x": 2.613637924194336,
          "y": -21.31985855102539
         },
         {
          "surname": "Hammersley",
          "titles": "Ethnography : Principles in Practice",
          "x": 14.317073822021484,
          "y": -4.154788017272949
         },
         {
          "surname": "Handel",
          "titles": "The Messiah",
          "x": -5.536191940307617,
          "y": 1.5648523569107056
         },
         {
          "surname": "Handy",
          "titles": "Understanding Organizations",
          "x": 9.16819953918457,
          "y": -0.7906888723373413
         },
         {
          "surname": "Hansberry",
          "titles": "A Raisin in the Sun",
          "x": -15.284045219421387,
          "y": 20.00133514404297
         },
         {
          "surname": "Hardin",
          "titles": "The Tragedy of the Commons",
          "x": 7.012916564941406,
          "y": -23.109756469726562
         },
         {
          "surname": "Hardt",
          "titles": "Empire",
          "x": 24.65311622619629,
          "y": -16.831771850585938
         },
         {
          "surname": "Hardy",
          "titles": "Jude the Obscure",
          "x": -18.277162551879883,
          "y": 10.32773494720459
         },
         {
          "surname": "Harris",
          "titles": "Quantitative Chemical Analysis",
          "x": 10.354718208312988,
          "y": 5.998497486114502
         },
         {
          "surname": "Hart",
          "titles": "Doing a Literature Review : Releasing the Social Science Research Imagination",
          "x": 14.084044456481934,
          "y": -5.057783603668213
         },
         {
          "surname": "Harvey",
          "titles": "A Brief History of Neoliberalism",
          "x": 21.79902458190918,
          "y": -12.970512390136719
         },
         {
          "surname": "Hawthorne",
          "titles": "The House of the Seven Gables, The Scarlet Letter, The Birthmark, Young Goodman Brown",
          "x": -11.166380882263184,
          "y": -9.719889640808105
         },
         {
          "surname": "Hayek",
          "titles": "The Road to Serfdom,",
          "x": 4.25503396987915,
          "y": -21.785308837890625
         },
         {
          "surname": "Hazzard",
          "titles": "The Great Fire",
          "x": -55.04924011230469,
          "y": 14.777161598205566
         },
         {
          "surname": "Hearn",
          "titles": "Computer Graphics",
          "x": -17.990739822387695,
          "y": -15.786945343017578
         },
         {
          "surname": "Hebdige",
          "titles": "Subculture, the Meaning of Style",
          "x": 24.977861404418945,
          "y": -12.574971199035645
         },
         {
          "surname": "Hecht",
          "titles": "Optics",
          "x": 16.288667678833008,
          "y": 11.729992866516113
         },
         {
          "surname": "Hegel",
          "titles": "The Philosophy of History, Philosophy of Right, Phenomenology of Spirit",
          "x": 20.21240234375,
          "y": -16.19998550415039
         },
         {
          "surname": "Heidegger",
          "titles": "Being and Time, Hegel, Nietzsche",
          "x": 18.87026596069336,
          "y": -16.444643020629883
         },
         {
          "surname": "Held",
          "titles": "Globalization",
          "x": 7.025300025939941,
          "y": -22.003833770751953
         },
         {
          "surname": "Hemingway",
          "titles": "Short Stories, The Sun Also Rises, In Our Time, A Farewell to Arms",
          "x": -20.615947723388672,
          "y": 21.210092544555664
         },
         {
          "surname": "Hennessy",
          "titles": "Computer Architecture : A Quantitative Approach",
          "x": 15.614355087280273,
          "y": 4.256560802459717
         },
         {
          "surname": "Henry",
          "titles": "Civil War 2000",
          "x": 0.5831114053726196,
          "y": -9.055145263671875
         },
         {
          "surname": "Herodotus",
          "titles": "The Histories, History",
          "x": 2.8218178749084473,
          "y": 19.756114959716797
         },
         {
          "surname": "Herr",
          "titles": "Dispatches",
          "x": -6.924632549285889,
          "y": 7.363462924957275
         },
         {
          "surname": "Hersey",
          "titles": "Hiroshima",
          "x": -9.221407890319824,
          "y": 8.754800796508789
         },
         {
          "surname": "Hesiod",
          "titles": "Works & Days, Theogony; And, Works and Days, Theogony, Works and Days ; And Theogony",
          "x": 2.6574225425720215,
          "y": 20.291351318359375
         },
         {
          "surname": "Hesse",
          "titles": "Siddhartha",
          "x": -11.991392135620117,
          "y": 14.391117095947266
         },
         {
          "surname": "Heti",
          "titles": "Ticknor",
          "x": -55.821659088134766,
          "y": 14.709270477294922
         },
         {
          "surname": "Hewitt",
          "titles": "Conceptual Physics",
          "x": 16.002532958984375,
          "y": 12.801701545715332
         },
         {
          "surname": "Hill",
          "titles": "International Business : Competing in the Global Marketplace",
          "x": 2.8575191497802734,
          "y": -3.2003753185272217
         },
         {
          "surname": "Hillier",
          "titles": "Introduction to Operations Research",
          "x": 14.492965698242188,
          "y": 8.942290306091309
         },
         {
          "surname": "Hitler",
          "titles": "Mein Kampf",
          "x": 0.37424159049987793,
          "y": -23.599185943603516
         },
         {
          "surname": "Hobbes",
          "titles": "Leviathan",
          "x": 29.580120086669922,
          "y": 1.7134313583374023
         },
         {
          "surname": "Hobson",
          "titles": "Imperialism",
          "x": 5.75674295425415,
          "y": -21.728158950805664
         },
         {
          "surname": "Hochschild",
          "titles": "The Second Shift",
          "x": 6.3457746505737305,
          "y": -7.773712158203125
         },
         {
          "surname": "Hoffman",
          "titles": "Inside Terrorism",
          "x": 7.465332984924316,
          "y": -15.921422004699707
         },
         {
          "surname": "Holman",
          "titles": "A Handbook to Literature",
          "x": -2.149091958999634,
          "y": 8.577187538146973
         },
         {
          "surname": "Homer",
          "titles": "Odyssey, Books 1-12, Iliad Odyssey, The Odyssey, The Iliad,",
          "x": 1.665314793586731,
          "y": 21.973255157470703
         },
         {
          "surname": "Hooks",
          "titles": "Transgress",
          "x": 18.904399871826172,
          "y": -4.965567588806152
         },
         {
          "surname": "Horace",
          "titles": "Odes",
          "x": 1.361682653427124,
          "y": 16.540088653564453
         },
         {
          "surname": "Horkheimer",
          "titles": "Dialectic of Enlightenment",
          "x": 26.444608688354492,
          "y": -16.1873722076416
         },
         {
          "surname": "Horowitz",
          "titles": "The Art of Electronics",
          "x": 14.685059547424316,
          "y": 10.173539161682129
         },
         {
          "surname": "Howell",
          "titles": "Statistical Methods for Psychology",
          "x": 9.276321411132812,
          "y": 0.45517873764038086
         },
         {
          "surname": "Huff",
          "titles": "How to Lie With Statistics",
          "x": 10.789618492126465,
          "y": -6.4572367668151855
         },
         {
          "surname": "Hughes",
          "titles": "The Negro Speaks of Rivers",
          "x": -19.06563377380371,
          "y": -6.582910060882568
         },
         {
          "surname": "Hull",
          "titles": "Options, Futures, and Other Derivatives",
          "x": 16.622159957885742,
          "y": 9.488032341003418
         },
         {
          "surname": "Hume",
          "titles": "Dialogues Concerning Natural Religion, An Enquiry Concerning Human Understanding, A Treatise of Human Nature",
          "x": 17.575380325317383,
          "y": -18.609844207763672
         },
         {
          "surname": "Huntington",
          "titles": "Political Order in Changing Societies,, The Clash of Civilizations?, The Clash of Civilizations and the Remaking of World Order",
          "x": 9.999265670776367,
          "y": -28.835113525390625
         },
         {
          "surname": "Hurston",
          "titles": "Their Eyes Were Watching God",
          "x": -19.91301727294922,
          "y": 21.657169342041016
         },
         {
          "surname": "Huxley",
          "titles": "Brave New World",
          "x": -22.278331756591797,
          "y": 14.800714492797852
         },
         {
          "surname": "Hwang",
          "titles": "M. Butterfly",
          "x": -10.687195777893066,
          "y": 15.969306945800781
         },
         {
          "surname": "Ibsen",
          "titles": "Hedda Gabler",
          "x": -13.374939918518066,
          "y": 7.825586795806885
         },
         {
          "surname": "Irving",
          "titles": "Rip Van Winkle",
          "x": -9.22510051727295,
          "y": -7.7859625816345215
         },
         {
          "surname": "Ishiguro",
          "titles": "The Remains of the Day",
          "x": -15.82829761505127,
          "y": 11.460688591003418
         },
         {
          "surname": "Jackson",
          "titles": "The Lottery, Crabgrass Frontier : The Suburbanization of the United States, Classical Electrodynamics, Gods in Alabama",
          "x": -57.07017517089844,
          "y": 11.567455291748047
         },
         {
          "surname": "Jacobs",
          "titles": "The Death and Life of Great American Cities, Incidents in the Life of a Slave Girl",
          "x": -10.178560256958008,
          "y": -7.1124091148376465
         },
         {
          "surname": "James",
          "titles": "The Turn of the Screw, Daisy Miller, The Portrait of a Lady, The Will to Believe :, Pragmatism, The Principles of Psychology,, The Varieties of Religious Experience, American History",
          "x": -23.904342651367188,
          "y": 20.626630783081055
         },
         {
          "surname": "Jameson",
          "titles": "Postmodernism, Or, the Cultural Logic of Late Capitalism",
          "x": 27.36620330810547,
          "y": -16.232254028320312
         },
         {
          "surname": "Jarvis",
          "titles": "Physical Examination & Health Assessment",
          "x": 4.417824745178223,
          "y": -0.41842925548553467
         },
         {
          "surname": "Jefferson",
          "titles": "George Washington, Notes on the State of Virginia, The Declaration of Independence",
          "x": -6.920694828033447,
          "y": -11.57628059387207
         },
         {
          "surname": "Jervis",
          "titles": "Cooperation Under the Security Dilemma",
          "x": 9.75968074798584,
          "y": -23.656888961791992
         },
         {
          "surname": "Johnson",
          "titles": "Exploring Corporate Strategy",
          "x": 11.90213394165039,
          "y": 1.7573634386062622
         },
         {
          "surname": "Jones",
          "titles": "The Known World",
          "x": -54.16980743408203,
          "y": 13.819562911987305
         },
         {
          "surname": "Joyce",
          "titles": "Ulysses,, A Portrait of the Artist as a Young Man,, Dubliners",
          "x": -24.899011611938477,
          "y": 12.794547080993652
         },
         {
          "surname": "Kafka",
          "titles": "The Metamorphosis",
          "x": -14.626472473144531,
          "y": 8.99000358581543
         },
         {
          "surname": "Kalat",
          "titles": "Biological Psychology",
          "x": 6.592844486236572,
          "y": 2.6345410346984863
         },
         {
          "surname": "Kamien",
          "titles": "Music : An Appreciation",
          "x": 10.243728637695312,
          "y": -1.720794916152954
         },
         {
          "surname": "Kant",
          "titles": "Critique of Pure Reason, Perpetual Peace, Critique of Judgment, The Metaphysics of Morals",
          "x": 16.549001693725586,
          "y": -19.797626495361328
         },
         {
          "surname": "Kaplan",
          "titles": "The Coming Anarchy",
          "x": 8.324056625366211,
          "y": -23.969314575195312
         },
         {
          "surname": "Keats",
          "titles": "Ode to a Nightingale, Ode on a Grecian Urn :",
          "x": -21.742021560668945,
          "y": -0.6233554482460022
         },
         {
          "surname": "Keck",
          "titles": "Activists Beyond Borders : Advocacy Networks in International Politics",
          "x": 7.633054733276367,
          "y": -20.45073699951172
         },
         {
          "surname": "Keegan",
          "titles": "World War I, The First World War",
          "x": -54.1846923828125,
          "y": 12.260177612304688
         },
         {
          "surname": "Keller",
          "titles": "Statistics for Management and Economics",
          "x": 9.89691162109375,
          "y": 3.688669204711914
         },
         {
          "surname": "Kennedy",
          "titles": "A Guide to Econometrics",
          "x": 4.7418107986450195,
          "y": -3.1957590579986572
         },
         {
          "surname": "Keohane",
          "titles": "Power and Interdependence",
          "x": 8.861123085021973,
          "y": -23.251447677612305
         },
         {
          "surname": "Kernighan",
          "titles": "The C Programming Language",
          "x": 16.216014862060547,
          "y": 4.7666802406311035
         },
         {
          "surname": "Kerouac",
          "titles": "On the Road",
          "x": -18.146831512451172,
          "y": 17.471572875976562
         },
         {
          "surname": "Kershaw",
          "titles": "Hitler",
          "x": 4.814635753631592,
          "y": -9.696795463562012
         },
         {
          "surname": "Keynes",
          "titles": "The General Theory of Employment, The General Theory of Employment, Interest and Money",
          "x": -0.28062960505485535,
          "y": -21.06619644165039
         },
         {
          "surname": "Kidder",
          "titles": "The Soul of a New Machine",
          "x": -55.137298583984375,
          "y": 12.257929801940918
         },
         {
          "surname": "Kierkegaard",
          "titles": "Fear and Trembling",
          "x": 17.17751693725586,
          "y": -14.090774536132812
         },
         {
          "surname": "Kieso",
          "titles": "Intermediate Accounting",
          "x": 13.278822898864746,
          "y": 9.972606658935547
         },
         {
          "surname": "Kincaid",
          "titles": "A Small Place",
          "x": -7.208357810974121,
          "y": 11.163813591003418
         },
         {
          "surname": "King",
          "titles": "I Have a Dream, Letter From the Birmingham Jail",
          "x": -7.024958610534668,
          "y": -12.492709159851074
         },
         {
          "surname": "Kingdon",
          "titles": "Agendas, Alternatives, and Public Policies",
          "x": 7.639394283294678,
          "y": -9.841428756713867
         },
         {
          "surname": "Kissinger",
          "titles": "Diplomacy",
          "x": 9.104921340942383,
          "y": -21.1136474609375
         },
         {
          "surname": "Kittel",
          "titles": "Introduction to Solid State Physics",
          "x": 16.323097229003906,
          "y": 14.290007591247559
         },
         {
          "surname": "Kneale",
          "titles": "English Passengers",
          "x": -54.358909606933594,
          "y": 15.157865524291992
         },
         {
          "surname": "Kolb",
          "titles": "Experiential Learning : Experience as the Source of Learning and Development",
          "x": 5.523867130279541,
          "y": -2.999957323074341
         },
         {
          "surname": "Korth",
          "titles": "Database System Concepts",
          "x": -17.051652908325195,
          "y": -15.583850860595703
         },
         {
          "surname": "Kotler",
          "titles": "Marketing Management, Principles of Marketing",
          "x": -16.83355140686035,
          "y": -17.78107452392578
         },
         {
          "surname": "Kotter",
          "titles": "Leading Change",
          "x": 9.260380744934082,
          "y": -3.8697052001953125
         },
         {
          "surname": "Kouzes",
          "titles": "The Leadership Challenge",
          "x": 4.034715175628662,
          "y": 4.774530410766602
         },
         {
          "surname": "Krasner",
          "titles": "Sovereignty",
          "x": 8.568727493286133,
          "y": -21.61233139038086
         },
         {
          "surname": "Kreyszig",
          "titles": "Advanced Engineering Mathematics",
          "x": -16.489538192749023,
          "y": -13.347125053405762
         },
         {
          "surname": "Kripke",
          "titles": "Naming and Necessity",
          "x": 15.259260177612305,
          "y": -13.052024841308594
         },
         {
          "surname": "Krugman",
          "titles": "Economics, International Economics : Theory and Policy",
          "x": 5.391632556915283,
          "y": -18.61064910888672
         },
         {
          "surname": "Kuhn",
          "titles": "The Structure of Scientific Revolutions",
          "x": 30.70786476135254,
          "y": -15.589327812194824
         },
         {
          "surname": "Kurose",
          "titles": "Computer Networking : A Top-Down Approach",
          "x": -19.170785903930664,
          "y": -14.664519309997559
         },
         {
          "surname": "Kushner",
          "titles": "Angels in America",
          "x": -10.640122413635254,
          "y": 16.06757164001465
         },
         {
          "surname": "Ladefoged",
          "titles": "A Course in Phonetics",
          "x": 2.6548404693603516,
          "y": 1.0200939178466797
         },
         {
          "surname": "Lahiri",
          "titles": "Interpreter of Maladies",
          "x": -11.106446266174316,
          "y": 13.555091857910156
         },
         {
          "surname": "Lakoff",
          "titles": "Metaphors We Live By",
          "x": 20.979501724243164,
          "y": -5.50864315032959
         },
         {
          "surname": "Landau",
          "titles": "Mechanics",
          "x": 16.585180282592773,
          "y": 11.877360343933105
         },
         {
          "surname": "Landow",
          "titles": "Hypertext 2.0",
          "x": 21.566370010375977,
          "y": -6.237062931060791
         },
         {
          "surname": "Lannon",
          "titles": "Technical Communication",
          "x": 1.1083322763442993,
          "y": -4.332993030548096
         },
         {
          "surname": "Larsen",
          "titles": "Passing, Quicksand",
          "x": -17.548641204833984,
          "y": 19.346403121948242
         },
         {
          "surname": "Lay",
          "titles": "Linear Algebra and Its Applications",
          "x": 11.230107307434082,
          "y": 5.320964336395264
         },
         {
          "surname": "Lee",
          "titles": "To Kill a Mockingbird",
          "x": -20.734798431396484,
          "y": 16.104063034057617
         },
         {
          "surname": "Lehne",
          "titles": "Pharmacology for Nursing Care",
          "x": 3.4823250770568848,
          "y": -0.45526960492134094
         },
         {
          "surname": "Lehninger",
          "titles": "Principles of Biochemistry",
          "x": 10.143712043762207,
          "y": 10.236088752746582
         },
         {
          "surname": "Lenin",
          "titles": "What Is to Be Done?, The Russian Revolution,",
          "x": -0.5822178721427917,
          "y": -23.29914665222168
         },
         {
          "surname": "Lessig",
          "titles": "Code and Other Laws of Cyberspace",
          "x": 17.133277893066406,
          "y": -5.050999641418457
         },
         {
          "surname": "Levi",
          "titles": "Auschwitz",
          "x": -10.372771263122559,
          "y": 9.339354515075684
         },
         {
          "surname": "Levy",
          "titles": "Small Island",
          "x": -54.686702728271484,
          "y": 15.698912620544434
         },
         {
          "surname": "Lewicki",
          "titles": "Negotiation",
          "x": 3.4046003818511963,
          "y": -2.5965993404388428
         },
         {
          "surname": "Lewin",
          "titles": "Genes",
          "x": 10.05107593536377,
          "y": 5.442196369171143
         },
         {
          "surname": "Lewis",
          "titles": "Mere Christianity",
          "x": -0.06595595926046371,
          "y": 6.277160167694092
         },
         {
          "surname": "Lightbown",
          "titles": "How Languages Are Learned",
          "x": 2.061117172241211,
          "y": 1.098221778869629
         },
         {
          "surname": "Lincoln",
          "titles": "The Gettysburg Address, The Emancipation Proclamation",
          "x": -5.122078895568848,
          "y": -11.870697975158691
         },
         {
          "surname": "Lindblom",
          "titles": "The Science of \"Muddling Through\"",
          "x": 7.408302307128906,
          "y": -9.983940124511719
         },
         {
          "surname": "Liszt",
          "titles": "F. Chopin,",
          "x": -3.560293674468994,
          "y": -0.7791315913200378
         },
         {
          "surname": "Livy",
          "titles": "The History of Rome",
          "x": 1.8087314367294312,
          "y": 14.773904800415039
         },
         {
          "surname": "Locke",
          "titles": "Two Treatises of Government, An Essay Concerning Human Understanding, The New Negro, Second Treatise of Government, A Letter Concerning Toleration",
          "x": 29.568647384643555,
          "y": 1.5062447786331177
         },
         {
          "surname": "Long",
          "titles": "Hair, Hair",
          "x": 0.18339604139328003,
          "y": -0.21021443605422974
         },
         {
          "surname": "Lovins",
          "titles": "Natural Capitalism",
          "x": 6.290809154510498,
          "y": -2.078780174255371
         },
         {
          "surname": "Lowry",
          "titles": "The Giver",
          "x": -10.153904914855957,
          "y": 11.821791648864746
         },
         {
          "surname": "Lucas",
          "titles": "The Art of Public Speaking",
          "x": 1.499792456626892,
          "y": 4.053401947021484
         },
         {
          "surname": "Lukes",
          "titles": "Power : A Radical View",
          "x": 23.38990020751953,
          "y": -14.263976097106934
         },
         {
          "surname": "Lunsford",
          "titles": "The Everyday Writer",
          "x": -0.04599786177277565,
          "y": 3.9598281383514404
         },
         {
          "surname": "Lynch",
          "titles": "The Image of the City",
          "x": 18.245105743408203,
          "y": -3.4311704635620117
         },
         {
          "surname": "Lyotard",
          "titles": "The Postmodern Condition : A Report on Knowledge",
          "x": 26.692289352416992,
          "y": -14.5078763961792
         },
         {
          "surname": "Machiavelli",
          "titles": "The Prince, The Discourses",
          "x": 29.62229347229004,
          "y": 2.5372767448425293
         },
         {
          "surname": "Madigan",
          "titles": "Brock Biology of Microorganisms",
          "x": 9.79663372039795,
          "y": 8.727181434631348
         },
         {
          "surname": "Mahler",
          "titles": "Symphony No. 8",
          "x": -4.179530143737793,
          "y": -1.2585160732269287
         },
         {
          "surname": "Maimon",
          "titles": "The McGraw-Hill Handbook",
          "x": -0.5281513929367065,
          "y": 1.022085189819336
         },
         {
          "surname": "Malthus",
          "titles": "On Population, An Essay on the Principle of Population, An Essay on Population",
          "x": -0.03740859031677246,
          "y": -23.190114974975586
         },
         {
          "surname": "Mankiw",
          "titles": "Principles of Microeconomics, Macroeconomics, Principles of Economics, Principles of Macroeconomics",
          "x": -3.885009527206421,
          "y": 5.578940391540527
         },
         {
          "surname": "Manovich",
          "titles": "The Language of New Media",
          "x": 22.63176727294922,
          "y": -8.731438636779785
         },
         {
          "surname": "Marcus aurelius",
          "titles": "The Meditations",
          "x": 0.9938806891441345,
          "y": 14.308503150939941
         },
         {
          "surname": "Marie",
          "titles": "Lais",
          "x": -0.9114395380020142,
          "y": 15.137417793273926
         },
         {
          "surname": "Marieb",
          "titles": "Human Anatomy & Physiology, Human Anatomy",
          "x": 8.25161075592041,
          "y": 10.649999618530273
         },
         {
          "surname": "Marius",
          "titles": "A Short Guide to Writing About History",
          "x": 10.886967658996582,
          "y": -8.89711856842041
         },
         {
          "surname": "Marlowe",
          "titles": "Doctor Faustus, Dr. Faustus",
          "x": -4.412307262420654,
          "y": 19.565431594848633
         },
         {
          "surname": "Martin",
          "titles": "Twentieth Century",
          "x": 6.076388835906982,
          "y": -13.26781177520752
         },
         {
          "surname": "Martini",
          "titles": "Fundamentals of Anatomy and Physiology",
          "x": 10.263490676879883,
          "y": 8.021010398864746
         },
         {
          "surname": "Marvell",
          "titles": "To His Coy Mistress",
          "x": -18.688398361206055,
          "y": -2.436318874359131
         },
         {
          "surname": "Marx",
          "titles": "Selected Writings, The German Ideology, Manifesto of the Communist Party,, Capital,, The Communist Manifesto",
          "x": 22.4708251953125,
          "y": -22.40488052368164
         },
         {
          "surname": "Mas-colell",
          "titles": "Microeconomic Theory",
          "x": 14.210288047790527,
          "y": 7.384313583374023
         },
         {
          "surname": "Mayhew",
          "titles": "Congress : The Electoral Connection",
          "x": -0.016269460320472717,
          "y": -12.457298278808594
         },
         {
          "surname": "Mccloud",
          "titles": "Understanding Comics",
          "x": -55.27360916137695,
          "y": 16.312448501586914
         },
         {
          "surname": "Mccullers",
          "titles": "The Heart Is a Lonely Hunter,",
          "x": -52.75535202026367,
          "y": 13.59334945678711
         },
         {
          "surname": "Mcgahan",
          "titles": "The White Earth",
          "x": -55.51176071166992,
          "y": 14.108600616455078
         },
         {
          "surname": "Mclellan",
          "titles": "Karl Marx, Marx",
          "x": -1.082647442817688,
          "y": -23.33442497253418
         },
         {
          "surname": "Mcluhan",
          "titles": "Understanding Media, Understanding Media : The Extensions of Man",
          "x": 24.445158004760742,
          "y": -11.951149940490723
         },
         {
          "surname": "Mcmillan",
          "titles": "Writing Papers in the Biological Sciences",
          "x": 8.816839218139648,
          "y": 9.964648246765137
         },
         {
          "surname": "Mcmurry",
          "titles": "Organic Chemistry",
          "x": 12.410503387451172,
          "y": 10.204839706420898
         },
         {
          "surname": "Mcphee",
          "titles": "Looking for a Ship, Encounters With the Archdruid",
          "x": -54.28949737548828,
          "y": 13.06149959564209
         },
         {
          "surname": "Mearsheimer",
          "titles": "The False Promise of International Institutions, The Tragedy of Great Power Politics",
          "x": 8.94225788116455,
          "y": -25.200624465942383
         },
         {
          "surname": "Meggs",
          "titles": "A History of Graphic Design",
          "x": 5.870664119720459,
          "y": -0.7362546920776367
         },
         {
          "surname": "Melville",
          "titles": "Billy Budd, Bartleby, the Scrivener, Moby Dick,, Bartleby, Benito Cereno",
          "x": -10.991204261779785,
          "y": -10.017605781555176
         },
         {
          "surname": "Mendelsohn",
          "titles": "The Lost : A Search for Six of Six Million",
          "x": -56.53730010986328,
          "y": 13.35595417022705
         },
         {
          "surname": "Merleau-ponty",
          "titles": "Phenomenology of Perception",
          "x": 25.22636604309082,
          "y": -10.585664749145508
         },
         {
          "surname": "Mill",
          "titles": "Utilitarianism, On Liberty, The Subjection of Women",
          "x": 16.26716423034668,
          "y": -20.34703826904297
         },
         {
          "surname": "Miller",
          "titles": "Death of a Salesman, The Crucible",
          "x": -16.595035552978516,
          "y": 21.529298782348633
         },
         {
          "surname": "Mills",
          "titles": "The Sociological Imagination, The Power Elite",
          "x": 24.04922866821289,
          "y": -20.94761848449707
         },
         {
          "surname": "Milton",
          "titles": "Paradise Lost. Books 1-2, Areopagitica,, Paradise Lost : Book I, Paradise Lost",
          "x": -2.502610206604004,
          "y": 22.69769859313965
         },
         {
          "surname": "Miner",
          "titles": "Body Ritual Among the Nacirema",
          "x": -0.48321333527565,
          "y": -18.505081176757812
         },
         {
          "surname": "Mitchell",
          "titles": "Machine Learning",
          "x": 13.722148895263672,
          "y": 0.6815692186355591
         },
         {
          "surname": "Moliere",
          "titles": "Tartuffe",
          "x": -7.249207496643066,
          "y": 1.7927225828170776
         },
         {
          "surname": "Momaday",
          "titles": "The Way to Rainy Mountain",
          "x": -5.2460174560546875,
          "y": 5.936708927154541
         },
         {
          "surname": "Montesquieu",
          "titles": "The Spirit of the Laws",
          "x": 2.0408360958099365,
          "y": -23.614355087280273
         },
         {
          "surname": "Moody",
          "titles": "Coming of Age in Mississippi",
          "x": -4.7255730628967285,
          "y": 5.773862361907959
         },
         {
          "surname": "Moore",
          "titles": "Introduction to the Practice of Statistics, Watchmen, The Basic Practice of Statistics",
          "x": -11.73060131072998,
          "y": 12.387713432312012
         },
         {
          "surname": "More",
          "titles": "Utopia",
          "x": -2.4589762687683105,
          "y": 18.01882553100586
         },
         {
          "surname": "Morgan",
          "titles": "Images of Organization",
          "x": 17.52220344543457,
          "y": -4.5240702629089355
         },
         {
          "surname": "Morrison",
          "titles": "Beloved, Song of Solomon, The Bluest Eye, Sula",
          "x": -20.349720001220703,
          "y": 23.016345977783203
         },
         {
          "surname": "Mozart",
          "titles": "Piano Concerto : K. 491, Don Giovanni, Symphony No. 28",
          "x": -6.102883815765381,
          "y": 1.8267230987548828
         },
         {
          "surname": "Mullins",
          "titles": "Management and Organisational Behaviour",
          "x": 15.578679084777832,
          "y": -2.68363356590271
         },
         {
          "surname": "Myers",
          "titles": "Social Psychology",
          "x": 5.1289801597595215,
          "y": 4.394745349884033
         },
         {
          "surname": "Nabokov",
          "titles": "Lolita",
          "x": -18.971298217773438,
          "y": 15.520844459533691
         },
         {
          "surname": "Nagel",
          "titles": "What Is It Like to Be a Bat?",
          "x": 15.241649627685547,
          "y": -13.276676177978516
         },
         {
          "surname": "Negroponte",
          "titles": "Being Digital",
          "x": 21.389856338500977,
          "y": -8.386571884155273
         },
         {
          "surname": "Nelson",
          "titles": "Lehninger Principles of Biochemistry",
          "x": 9.685908317565918,
          "y": 9.696773529052734
         },
         {
          "surname": "New york (state)",
          "titles": "Laws",
          "x": -2.4777023792266846,
          "y": -0.870652437210083
         },
         {
          "surname": "Nielsen",
          "titles": "Designing Web Usability",
          "x": 7.850642681121826,
          "y": -0.6604186296463013
         },
         {
          "surname": "Nietzsche",
          "titles": "On the Genealogy of Morals, Thus Spoke Zarathustra, Beyond Good and Evil, The Birth of Tragedy, The Genealogy of Morals",
          "x": 19.60560417175293,
          "y": -18.295608520507812
         },
         {
          "surname": "Norman",
          "titles": "The Design of Everyday Things",
          "x": 15.3717679977417,
          "y": -1.541807770729065
         },
         {
          "surname": "North",
          "titles": "Institutions, Institutional Change and Economic Performance, Institutional and Economic Change",
          "x": 6.722944259643555,
          "y": -20.482646942138672
         },
         {
          "surname": "Northouse",
          "titles": "Leadership : Theory and Practice",
          "x": 9.066959381103516,
          "y": -3.8616058826446533
         },
         {
          "surname": "Nozick",
          "titles": "Anarchy, State, and Utopia",
          "x": 14.421056747436523,
          "y": -17.033395767211914
         },
         {
          "surname": "Oppenheim",
          "titles": "Questionnaire Design and Attitude Measurement, Questionnaire Design, Interviewing, and Attitude Measurement",
          "x": 13.537666320800781,
          "y": -4.200802803039551
         },
         {
          "surname": "Orwell",
          "titles": "Animal Farm, Nineteen Eighty-Four",
          "x": -21.998220443725586,
          "y": 14.665511131286621
         },
         {
          "surname": "Ostrom",
          "titles": "Governing the Commons : The Evolution of Institutions for Collective Action",
          "x": 5.818724632263184,
          "y": -16.620405197143555
         },
         {
          "surname": "Ottman",
          "titles": "Music for Sight Singing",
          "x": 4.058224678039551,
          "y": 0.24853409826755524
         },
         {
          "surname": "Ovid",
          "titles": "Metamorphoses",
          "x": 2.2246956825256348,
          "y": 20.443355560302734
         },
         {
          "surname": "Paine",
          "titles": "Rights of Man, Common Sense",
          "x": -6.007254600524902,
          "y": -11.471784591674805
         },
         {
          "surname": "Pater",
          "titles": "The Renaissance",
          "x": -15.401283264160156,
          "y": 0.7057005763053894
         },
         {
          "surname": "Paton",
          "titles": "Cry, the Beloved Country",
          "x": -53.362274169921875,
          "y": 15.333001136779785
         },
         {
          "surname": "Patterson",
          "titles": "Computer Organization and Design : The Hardware/Software Interface, Computer Architecture : A Quantitative Approach",
          "x": -18.02324104309082,
          "y": -14.798073768615723
         },
         {
          "surname": "Patton",
          "titles": "Qualitative Evaluation Methods, Qualitative Research & Evaluation Methods, Qualitative Evaluation and Research Methods",
          "x": 12.934309959411621,
          "y": -3.9549167156219482
         },
         {
          "surname": "Paul",
          "titles": "The New University",
          "x": 6.845614910125732,
          "y": -18.342561721801758
         },
         {
          "surname": "Pepys",
          "titles": "Diary",
          "x": -1.5363844633102417,
          "y": 13.954837799072266
         },
         {
          "surname": "Percy",
          "titles": "The Moviegoer",
          "x": -53.47724914550781,
          "y": 13.773235321044922
         },
         {
          "surname": "Peterson",
          "titles": "Computer Networks : A Systems Approach",
          "x": -17.576873779296875,
          "y": -14.323470115661621
         },
         {
          "surname": "Petterson",
          "titles": "In the Wake",
          "x": -56.15152359008789,
          "y": 15.764559745788574
         },
         {
          "surname": "Pindyck",
          "titles": "Microeconomics",
          "x": 15.398747444152832,
          "y": 6.999910831451416
         },
         {
          "surname": "Pinker",
          "titles": "The Language Instinct",
          "x": -4.669939041137695,
          "y": 9.19120979309082
         },
         {
          "surname": "Plath",
          "titles": "The Bell Jar",
          "x": -16.494544982910156,
          "y": 17.215116500854492
         },
         {
          "surname": "Plato",
          "titles": "The Apology and Crito, Timaeus, Protagoras, Five Dialogues, Gorgias, Republic, Crito, Dialogues, The Apology of Socrates, Apology, Symposium, Phaedo, The Trial and Death of Socrates, Republic, Book X, The Trial of Socrates, Phaedrus, Euthyphro",
          "x": 27.739933013916016,
          "y": -6.511884689331055
         },
         {
          "surname": "Poe",
          "titles": "The Raven,, The Cask of Amontillado, Fall of the House of Usher, The Purloined Letter, The Tell-Tale Heart",
          "x": -11.027097702026367,
          "y": -8.999882698059082
         },
         {
          "surname": "Polanyi",
          "titles": "The Great Transformation",
          "x": 4.867899417877197,
          "y": -23.215002059936523
         },
         {
          "surname": "Pope",
          "titles": "An Essay on Man, The Rape of the Lock, An Essay on Criticism",
          "x": -20.505807876586914,
          "y": 0.8566353917121887
         },
         {
          "surname": "Popper",
          "titles": "The Logic of Scientific Discovery",
          "x": 16.496978759765625,
          "y": -13.322455406188965
         },
         {
          "surname": "Porter",
          "titles": "The Competitive Advantage of Nations",
          "x": 4.481142520904541,
          "y": -8.529525756835938
         },
         {
          "surname": "Postman",
          "titles": "Amusing Ourselves to Death",
          "x": -0.7665602564811707,
          "y": -2.795868396759033
         },
         {
          "surname": "Pound",
          "titles": "In a Station of the Metro",
          "x": -18.95608901977539,
          "y": -6.536811351776123
         },
         {
          "surname": "Power",
          "titles": "Selected Writings, 1877-1930",
          "x": 29.5604248046875,
          "y": -16.075420379638672
         },
         {
          "surname": "Preece",
          "titles": "Human-Computer Interaction",
          "x": 9.426883697509766,
          "y": 1.5486087799072266
         },
         {
          "surname": "Proakis",
          "titles": "Digital Signal Processing",
          "x": 14.284750938415527,
          "y": 12.668891906738281
         },
         {
          "surname": "Putnam",
          "titles": "Making Democracy Work : Civic Traditions in Modern Italy, Bowling Alone : The Collapse and Revival of American Community, Diplomacy and Domestic Politics: The Logic of Two-Level Games",
          "x": 8.757428169250488,
          "y": -28.067981719970703
         },
         {
          "surname": "Pynchon",
          "titles": "The Crying of Lot 49",
          "x": -18.435489654541016,
          "y": 18.29829216003418
         },
         {
          "surname": "Rabelais",
          "titles": "Gargantua, Pantagruel",
          "x": -2.4565253257751465,
          "y": 15.588666915893555
         },
         {
          "surname": "Rachels",
          "titles": "The Elements of Moral Philosophy",
          "x": 13.695014953613281,
          "y": -14.4876708984375
         },
         {
          "surname": "Ramakrishnan",
          "titles": "Database Management Systems",
          "x": -17.76612663269043,
          "y": -15.185195922851562
         },
         {
          "surname": "Rampolla",
          "titles": "A Pocket Guide to Writing in History",
          "x": -6.536986827850342,
          "y": -20.86081886291504
         },
         {
          "surname": "Rawls",
          "titles": "Justice as Fairness, Political Liberalism, A Theory of Justice",
          "x": 15.353850364685059,
          "y": -18.62250328063965
         },
         {
          "surname": "Ray",
          "titles": "Development Economics",
          "x": 5.006857395172119,
          "y": -5.557498455047607
         },
         {
          "surname": "Read",
          "titles": "Mark Twain and I,, [Poetry Reading, North America",
          "x": 18.989927291870117,
          "y": 6.999303340911865
         },
         {
          "surname": "Reading",
          "titles": "Artificial Intelligence",
          "x": 7.405453681945801,
          "y": -3.4747068881988525
         },
         {
          "surname": "Rehnquist",
          "titles": "The Supreme Court",
          "x": 2.0906336307525635,
          "y": -8.221170425415039
         },
         {
          "surname": "Remarque",
          "titles": "All Quiet on the Western Front",
          "x": -16.654150009155273,
          "y": 12.915719985961914
         },
         {
          "surname": "Renfrew",
          "titles": "Archaeology",
          "x": 17.270145416259766,
          "y": -1.6630849838256836
         },
         {
          "surname": "Rhys",
          "titles": "Wide Sargasso Sea",
          "x": -19.103538513183594,
          "y": 14.135062217712402
         },
         {
          "surname": "Rich",
          "titles": "Compulsory Heterosexuality and Lesbian Existence, Artificial Intelligence",
          "x": 25.6317195892334,
          "y": -9.66624641418457
         },
         {
          "surname": "Ritzer",
          "titles": "The McDonaldization of Society 5",
          "x": 1.1864213943481445,
          "y": -18.79039764404297
         },
         {
          "surname": "Robbins",
          "titles": "Organizational Behavior",
          "x": 13.668635368347168,
          "y": 10.872352600097656
         },
         {
          "surname": "Rodrik",
          "titles": "Has Globalization Gone Too Far?",
          "x": 6.347157001495361,
          "y": -16.688636779785156
         },
         {
          "surname": "Rogers",
          "titles": "Diffusion of Innovations",
          "x": 4.864119052886963,
          "y": -8.30230712890625
         },
         {
          "surname": "Romer",
          "titles": "Advanced Macroeconomics",
          "x": 16.30544090270996,
          "y": 8.15528392791748
         },
         {
          "surname": "Rosen",
          "titles": "Discrete Mathematics and Its Applications, Public Finance",
          "x": 17.464757919311523,
          "y": 9.828537940979004
         },
         {
          "surname": "Rosenhan",
          "titles": "On Being Sane in Insane Places",
          "x": -0.5091913342475891,
          "y": -18.688318252563477
         },
         {
          "surname": "Rosenwasser",
          "titles": "Writing Analytically",
          "x": 0.6183913350105286,
          "y": -4.895725727081299
         },
         {
          "surname": "Ross",
          "titles": "Corporate Finance, Introduction to Probability Models, Fundamentals of Corporate Finance, A First Course in Probability",
          "x": -17.34516143798828,
          "y": -18.499168395996094
         },
         {
          "surname": "Rossetti",
          "titles": "Goblin Market",
          "x": -19.197959899902344,
          "y": -0.567173182964325
         },
         {
          "surname": "Roth",
          "titles": "American Pastoral",
          "x": -53.12196350097656,
          "y": 14.46118450164795
         },
         {
          "surname": "Rousseau",
          "titles": "The Social Contract, On the Social Contract, Confessions, A Discourse on Inequality, Discourse on the Origin of Inequality",
          "x": 29.563526153564453,
          "y": 1.5277210474014282
         },
         {
          "surname": "Rowson",
          "titles": "Charlotte Temple",
          "x": -9.40743637084961,
          "y": -3.7445695400238037
         },
         {
          "surname": "Roy",
          "titles": "The God of Small Things",
          "x": -15.42420768737793,
          "y": 11.569242477416992
         },
         {
          "surname": "Rudestam",
          "titles": "Surviving Your Dissertation : A Comprehensive Guide to Content and Process",
          "x": 12.414819717407227,
          "y": -2.153055191040039
         },
         {
          "surname": "Rudin",
          "titles": "Principles of Mathematical Analysis",
          "x": 12.557872772216797,
          "y": 4.794768333435059
         },
         {
          "surname": "Rushdie",
          "titles": "The Satanic Verses",
          "x": -13.679309844970703,
          "y": 11.927530288696289
         },
         {
          "surname": "Russell",
          "titles": "The Problems of Philosophy, Artificial Intelligence : A Modern Approach",
          "x": 17.3121337890625,
          "y": -15.782390594482422
         },
         {
          "surname": "Russett",
          "titles": "The Democratic Peace",
          "x": 9.134469032287598,
          "y": -22.77090835571289
         },
         {
          "surname": "Said",
          "titles": "Culture and Imperialism, Orientalism",
          "x": 28.758548736572266,
          "y": -20.949359893798828
         },
         {
          "surname": "Salinger",
          "titles": "The Catcher in the Rye",
          "x": -20.317298889160156,
          "y": 17.85011863708496
         },
         {
          "surname": "Salkind",
          "titles": "Statistics for People Who (Think They) Hate Statistics",
          "x": 9.593653678894043,
          "y": -1.187940239906311
         },
         {
          "surname": "Santrock",
          "titles": "Life-Span Development",
          "x": 3.8001370429992676,
          "y": 2.9456450939178467
         },
         {
          "surname": "Sargent",
          "titles": "Macroeconomic Theory",
          "x": 4.302736759185791,
          "y": -4.371273040771484
         },
         {
          "surname": "Sartre",
          "titles": "Existentialism and Humanism, Merleau-Ponty, Existentialism",
          "x": 18.739059448242188,
          "y": -17.684812545776367
         },
         {
          "surname": "Satrapi",
          "titles": "Persepolis",
          "x": -8.254019737243652,
          "y": 9.797715187072754
         },
         {
          "surname": "Saussure",
          "titles": "Course in General Linguistics",
          "x": 26.856950759887695,
          "y": -16.646358489990234
         },
         {
          "surname": "Schein",
          "titles": "Organizational Culture and Leadership",
          "x": 9.842414855957031,
          "y": -3.6425461769104004
         },
         {
          "surname": "Schelling",
          "titles": "The Strategy of Conflict",
          "x": 9.325369834899902,
          "y": -21.875415802001953
         },
         {
          "surname": "Schildt",
          "titles": "C++ : The Complete Reference",
          "x": -18.789867401123047,
          "y": -15.278301239013672
         },
         {
          "surname": "Schumpeter",
          "titles": "Capitalism, Socialism, and Democracy",
          "x": 4.620193004608154,
          "y": -22.189403533935547
         },
         {
          "surname": "Scott",
          "titles": "Gender: A Useful Category of Historical Analysis",
          "x": 23.441753387451172,
          "y": -11.945068359375
         },
         {
          "surname": "Sedgwick",
          "titles": "Epistemology of the Closet",
          "x": 27.854406356811523,
          "y": -15.192755699157715
         },
         {
          "surname": "Sedra",
          "titles": "Microelectronic Circuits",
          "x": 14.888258934020996,
          "y": 10.857138633728027
         },
         {
          "surname": "Serway",
          "titles": "Physics for Scientists and Engineers",
          "x": -17.905780792236328,
          "y": -9.810484886169434
         },
         {
          "surname": "Shaara",
          "titles": "The Killer Angels",
          "x": -8.16730785369873,
          "y": 7.875053405761719
         },
         {
          "surname": "Shakespeare",
          "titles": "The Complete Works, Much Ado About Nothing, Macbeth, Twelfth Night, Henry IV,, Richard III, Julius Caesar, Measure for Measure,, Henry V, As You Like It, King Lear, The Merchant of Venice, The Taming of the Shrew,, Richard II, Hamlet, Othello, Midsummer N. Dream, Romeo and Juliet, The Tempest",
          "x": -5.594677925109863,
          "y": 19.946395874023438
         },
         {
          "surname": "Sharp",
          "titles": "The Management of a Student Research Project",
          "x": 13.107876777648926,
          "y": -1.4597251415252686
         },
         {
          "surname": "Shaw",
          "titles": "Pygmalion",
          "x": -14.075410842895508,
          "y": 7.842630386352539
         },
         {
          "surname": "Shelley",
          "titles": "Ozymandias, Frankenstein",
          "x": -23.034149169921875,
          "y": 1.5869746208190918
         },
         {
          "surname": "Silberschatz",
          "titles": "Operating System Concepts, Database System Concepts",
          "x": -15.71481704711914,
          "y": -18.28891372680664
         },
         {
          "surname": "Silko",
          "titles": "Ceremony",
          "x": -17.327531814575195,
          "y": 18.362916946411133
         },
         {
          "surname": "Silverman",
          "titles": "Doing Qualitative Research : A Practical Handbook",
          "x": 13.402132034301758,
          "y": -4.848888874053955
         },
         {
          "surname": "Silvestri",
          "titles": "Saunders Q & a Review for NCLEX-RN",
          "x": 3.3805809020996094,
          "y": -1.5520955324172974
         },
         {
          "surname": "Sinclair",
          "titles": "The Jungle",
          "x": -17.52754783630371,
          "y": 16.444366455078125
         },
         {
          "surname": "Singer",
          "titles": "Animal Liberation, Famine, Affluence, and Morality",
          "x": 14.412531852722168,
          "y": -17.348512649536133
         },
         {
          "surname": "Sipser",
          "titles": "Introduction to the Theory of Computation",
          "x": 12.776229858398438,
          "y": 2.523592472076416
         },
         {
          "surname": "Skidmore",
          "titles": "Modern Latin America",
          "x": 18.186513900756836,
          "y": 5.885629653930664
         },
         {
          "surname": "Skoog",
          "titles": "Principles of Instrumental Analysis",
          "x": 6.2845845222473145,
          "y": 1.3181239366531372
         },
         {
          "surname": "Smith",
          "titles": "New Books, An Inquiry Into the Nature and Causes of the Wealth of Nations, Wealth of Nations, The Theory of Moral Sentiments, White Teeth",
          "x": 2.2295384407043457,
          "y": -25.67945671081543
         },
         {
          "surname": "Snow",
          "titles": "The Two Cultures",
          "x": -0.2796207666397095,
          "y": 6.8354363441467285
         },
         {
          "surname": "Sontag",
          "titles": "On Photography",
          "x": 23.67304229736328,
          "y": -8.987007141113281
         },
         {
          "surname": "Sophocles",
          "titles": "Oedipus at Colonus:, Oedipus Rex, Electra, Oedipus the King, The Three Theban Plays, Antigone, The Theban Plays, Oedipus",
          "x": 4.716699123382568,
          "y": 22.942594528198242
         },
         {
          "surname": "Soto",
          "titles": "The Mystery of Capital",
          "x": 5.326269149780273,
          "y": -16.24489974975586
         },
         {
          "surname": "Spence",
          "titles": "The Search for Modern China",
          "x": 5.207277297973633,
          "y": -10.463547706604004
         },
         {
          "surname": "Spenser",
          "titles": "The Faerie Queene, 1596",
          "x": -4.138140678405762,
          "y": 19.63535499572754
         },
         {
          "surname": "Spiegelman",
          "titles": "Maus",
          "x": -14.23282241821289,
          "y": 15.11076831817627
         },
         {
          "surname": "Spinoza",
          "titles": "Ethics",
          "x": 16.752416610717773,
          "y": -14.990476608276367
         },
         {
          "surname": "Stallings",
          "titles": "Operating Systems, Operating Systems : Internals and Design Principles, Data and Computer Communications",
          "x": -15.347838401794434,
          "y": -18.47720718383789
         },
         {
          "surname": "Steinbeck",
          "titles": "Of Mice and Men, East of Eden, The Grapes of Wrath",
          "x": -51.10924530029297,
          "y": 15.400586128234863
         },
         {
          "surname": "Stephenson",
          "titles": "Snow Crash",
          "x": -10.130237579345703,
          "y": 10.8538818359375
         },
         {
          "surname": "Sterne",
          "titles": "Tristram Shandy",
          "x": -17.90628433227539,
          "y": 9.403440475463867
         },
         {
          "surname": "Stevens",
          "titles": "TCP/IP Illustrated, UNIX Network Programming",
          "x": -16.10236167907715,
          "y": -16.584653854370117
         },
         {
          "surname": "Stevenson",
          "titles": "Dr. Jekyll and Mr. Hyde, The Strange Case of Dr. Jekyll and Mr. Hyde",
          "x": -20.85171127319336,
          "y": 9.116802215576172
         },
         {
          "surname": "Stewart",
          "titles": "Calculus : Concepts and Contexts, Calculus : Early Transcendentals",
          "x": 14.150466918945312,
          "y": 14.602323532104492
         },
         {
          "surname": "Stiglitz",
          "titles": "Globalization and Its Discontents, Economics",
          "x": 8.841160774230957,
          "y": -26.964797973632812
         },
         {
          "surname": "Stoker",
          "titles": "Dracula",
          "x": -20.911090850830078,
          "y": 9.078062057495117
         },
         {
          "surname": "Stokstad",
          "titles": "Art History",
          "x": 4.979740142822266,
          "y": 6.545745372772217
         },
         {
          "surname": "Stone",
          "titles": "Policy Paradox : The Art of Political Decision Making",
          "x": 2.4530344009399414,
          "y": -3.996312141418457
         },
         {
          "surname": "Stoppard",
          "titles": "Jumpers, Rosencrantz and Guildenstern Are Dead",
          "x": -53.045372009277344,
          "y": 16.078907012939453
         },
         {
          "surname": "Stravinsky",
          "titles": "The Rite of Spring, Rite, The Rite O' Spring",
          "x": -5.57180643081665,
          "y": 0.5897970795631409
         },
         {
          "surname": "Stroustrup",
          "titles": "The C++ Programming Language",
          "x": 15.430602073669434,
          "y": 3.6203296184539795
         },
         {
          "surname": "Strunk",
          "titles": "The Elements of Style",
          "x": -10.160728454589844,
          "y": -21.630741119384766
         },
         {
          "surname": "Stryer",
          "titles": "Biochemistry",
          "x": 11.715208053588867,
          "y": 11.931756973266602
         },
         {
          "surname": "Sturken",
          "titles": "Practices of Looking : An Introduction to Visual Culture",
          "x": 17.849760055541992,
          "y": -4.337757587432861
         },
         {
          "surname": "Suetonius",
          "titles": "The Caesars",
          "x": 1.7999014854431152,
          "y": 14.844147682189941
         },
         {
          "surname": "Surowiecki",
          "titles": "The Wisdom of Crowds",
          "x": -55.70457458496094,
          "y": 13.42979907989502
         },
         {
          "surname": "Suzuki",
          "titles": "Zen",
          "x": -3.3975558280944824,
          "y": -4.637146472930908
         },
         {
          "surname": "Swift",
          "titles": "A Modest Proposal",
          "x": -17.867168426513672,
          "y": -0.8179248571395874
         },
         {
          "surname": "Tacitus",
          "titles": "Germania, Annals",
          "x": 0.6527385115623474,
          "y": 16.901477813720703
         },
         {
          "surname": "Takaki",
          "titles": "A Different Mirror : A History of Multicultural America",
          "x": -0.4585256576538086,
          "y": -2.627884864807129
         },
         {
          "surname": "Tan",
          "titles": "The Joy Luck Club, Mother Tongue",
          "x": -15.848506927490234,
          "y": 18.98657989501953
         },
         {
          "surname": "Tanenbaum",
          "titles": "Modern Operating Systems, Computer Networks",
          "x": -14.84015941619873,
          "y": -19.18667984008789
         },
         {
          "surname": "Tarbuck",
          "titles": "Earth Science",
          "x": 5.574207305908203,
          "y": 1.4271280765533447
         },
         {
          "surname": "Taylor",
          "titles": "The Principles of Scientific Management, Economics",
          "x": 2.7782788276672363,
          "y": -16.07878303527832
         },
         {
          "surname": "Tennyson",
          "titles": "The Lady of Shalott, In Memoriam",
          "x": -21.136947631835938,
          "y": -0.4567333459854126
         },
         {
          "surname": "Thackeray",
          "titles": "Vanity Fair",
          "x": -18.172687530517578,
          "y": 10.372806549072266
         },
         {
          "surname": "Thomas",
          "titles": "Latin America, The American Revolution, Do Not Go Gentle Into That Good Night :, Summa Theologiae, Summa Theologica",
          "x": -17.747007369995117,
          "y": -4.256077289581299
         },
         {
          "surname": "Thompson",
          "titles": "The Making of the English Working Class",
          "x": 24.28654670715332,
          "y": -15.037372589111328
         },
         {
          "surname": "Thoreau",
          "titles": "Walden, Civil Disobedience",
          "x": -9.495512008666992,
          "y": -10.254264831542969
         },
         {
          "surname": "Thucydides",
          "titles": "History of the Peloponnesian War, The Peloponnesian War",
          "x": 3.21181321144104,
          "y": 19.14717674255371
         },
         {
          "surname": "Time",
          "titles": "World War II",
          "x": 2.5488855838775635,
          "y": -11.747023582458496
         },
         {
          "surname": "Tindall",
          "titles": "America : A Narrative History",
          "x": -0.6720707416534424,
          "y": -9.32049560546875
         },
         {
          "surname": "Tirole",
          "titles": "The Theory of Industrial Organization",
          "x": 4.765894889831543,
          "y": -3.5085012912750244
         },
         {
          "surname": "Tocqueville",
          "titles": "Democracy in America",
          "x": 3.7886385917663574,
          "y": -28.643373489379883
         },
         {
          "surname": "Todaro",
          "titles": "Economic Development",
          "x": 6.2909674644470215,
          "y": -7.145520210266113
         },
         {
          "surname": "Tolkien",
          "titles": "The Lord of the Rings, The Hobbit",
          "x": -18.802818298339844,
          "y": 12.303300857543945
         },
         {
          "surname": "Tolstoy",
          "titles": "Anna Karenina, War and Peace",
          "x": -20.86136245727539,
          "y": 13.072551727294922
         },
         {
          "surname": "Toomer",
          "titles": "Cane",
          "x": -14.677387237548828,
          "y": 17.99455451965332
         },
         {
          "surname": "Tortora",
          "titles": "Principles of Anatomy and Physiology",
          "x": 9.747377395629883,
          "y": 6.561577796936035
         },
         {
          "surname": "Trotsky",
          "titles": "Lenin, Stalin",
          "x": -0.3053205609321594,
          "y": -21.027259826660156
         },
         {
          "surname": "Tufte",
          "titles": "The Visual Display of Quantitative Information, Envisioning Information",
          "x": 11.949666023254395,
          "y": -8.209513664245605
         },
         {
          "surname": "Turabian",
          "titles": "A Manual for Writers of Term Papers, Theses, and Dissertations,, A Manual for Writers of Dissertations",
          "x": -9.796809196472168,
          "y": -21.47400665283203
         },
         {
          "surname": "Turgenev",
          "titles": "Fathers and Sons",
          "x": -14.708536148071289,
          "y": 12.623857498168945
         },
         {
          "surname": "Turing",
          "titles": "Computing Machinery and Intelligence",
          "x": 14.008986473083496,
          "y": -12.913241386413574
         },
         {
          "surname": "Turkle",
          "titles": "Life on the Screen : Identity in the Age of the Internet",
          "x": 22.35565185546875,
          "y": -9.164421081542969
         },
         {
          "surname": "Turner",
          "titles": "The Frontier in American History, The Significance of the Frontier in American History",
          "x": -1.9549765586853027,
          "y": -12.589067459106445
         },
         {
          "surname": "Tversky",
          "titles": "Judgment Under Uncertainty: Heuristics and Biases",
          "x": 6.418027877807617,
          "y": -4.043617248535156
         },
         {
          "surname": "Twain",
          "titles": "Adventures of Huckleberry Finn, Tom Sawyer, Huckleberry Finn",
          "x": -21.55591583251953,
          "y": 20.054597854614258
         },
         {
          "surname": "Tzu",
          "titles": "The Art of War",
          "x": -7.312994956970215,
          "y": 4.2620086669921875
         },
         {
          "surname": "Unesco",
          "titles": "World Heritage 2008-09",
          "x": 0.7167982459068298,
          "y": -2.556359052658081
         },
         {
          "surname": "Varian",
          "titles": "Microeconomic Analysis, Intermediate Microeconomics : A Modern Approach",
          "x": 16.780941009521484,
          "y": 8.790709495544434
         },
         {
          "surname": "Veblen",
          "titles": "The Theory of the Leisure Class",
          "x": 1.9991540908813477,
          "y": -16.711139678955078
         },
         {
          "surname": "Virgil",
          "titles": "The Aeneid",
          "x": 1.6405447721481323,
          "y": 20.84652328491211
         },
         {
          "surname": "Voet",
          "titles": "Biochemistry",
          "x": 11.457625389099121,
          "y": 11.819833755493164
         },
         {
          "surname": "Voltaire",
          "titles": "Candide",
          "x": -5.647645473480225,
          "y": 16.127504348754883
         },
         {
          "surname": "Wade",
          "titles": "Organic Chemistry",
          "x": 12.170707702636719,
          "y": 7.169652938842773
         },
         {
          "surname": "Walker",
          "titles": "Everyday Use, Physics, Halliday & Resnick Fundamentals of Physics, The Color Purple, Fundamentals of Physics",
          "x": -22.826797485351562,
          "y": -7.449613571166992
         },
         {
          "surname": "Wallace",
          "titles": "Consider the Lobster",
          "x": -55.89242935180664,
          "y": 12.702998161315918
         },
         {
          "surname": "Wallerstein",
          "titles": "The Modern World-System",
          "x": 6.367956161499023,
          "y": -21.125186920166016
         },
         {
          "surname": "Walpole",
          "titles": "The Castle of Otranto,",
          "x": -17.84381103515625,
          "y": 7.44594144821167
         },
         {
          "surname": "Waltz",
          "titles": "Theory of International Politics",
          "x": 9.456634521484375,
          "y": -24.959430694580078
         },
         {
          "surname": "Ware",
          "titles": "Jimmy Corrigan : The Smartest Kid on Earth",
          "x": -54.97772979736328,
          "y": 13.04146671295166
         },
         {
          "surname": "Watson",
          "titles": "Behaviorism,",
          "x": 15.277932167053223,
          "y": -9.421673774719238
         },
         {
          "surname": "Weber",
          "titles": "Politics as a Vocation, The Protestant Ethic and the Spirit of Capitalism",
          "x": 23.323272705078125,
          "y": -21.859298706054688
         },
         {
          "surname": "Webster",
          "titles": "The Duchess of Malfi",
          "x": -2.1349592208862305,
          "y": 13.249117851257324
         },
         {
          "surname": "Weir",
          "titles": "Thomas' Calculus",
          "x": 11.981122016906738,
          "y": 6.027180194854736
         },
         {
          "surname": "Weiten",
          "titles": "Psychology : Themes and Variations",
          "x": 4.69991397857666,
          "y": 0.8664202094078064
         },
         {
          "surname": "Wells",
          "titles": "The War of the Worlds, The Time Machine",
          "x": -19.690414428710938,
          "y": 10.477543830871582
         },
         {
          "surname": "West",
          "titles": "Doing Gender, Race Matters",
          "x": 0.22417978942394257,
          "y": -14.726820945739746
         },
         {
          "surname": "Weston",
          "titles": "A Rulebook for Arguments",
          "x": 13.383206367492676,
          "y": -13.416129112243652
         },
         {
          "surname": "Wharton",
          "titles": "The House of Mirth, The Age of Innocence",
          "x": -19.99053382873535,
          "y": 18.913185119628906
         },
         {
          "surname": "Whitman",
          "titles": "Leaves of Grass",
          "x": -9.242716789245605,
          "y": -7.281487941741943
         },
         {
          "surname": "Whitney",
          "titles": "Understanding Nutrition",
          "x": 6.129482746124268,
          "y": 3.880801200866699
         },
         {
          "surname": "Wiesel",
          "titles": "Night",
          "x": -13.490200996398926,
          "y": 14.903868675231934
         },
         {
          "surname": "Wiggins",
          "titles": "Understanding by Design",
          "x": 2.3076679706573486,
          "y": -1.758231520652771
         },
         {
          "surname": "Wilde",
          "titles": "The Picture of Dorian Gray, The Importance of Being Earnest,",
          "x": -22.546850204467773,
          "y": 8.795450210571289
         },
         {
          "surname": "Williams",
          "titles": "Wallace Stevens, A Streetcar Named Desire, Style : Ten Lessons in Clarity and Grace, The Glass Menagerie, Culture and Society, 1780-1950, Style : Lessons in Clarity and Grace, Keywords : A Vocabulary of Culture and Society",
          "x": -16.3883056640625,
          "y": 22.181596755981445
         },
         {
          "surname": "Wilson",
          "titles": "When Work Disappears",
          "x": -0.5372021794319153,
          "y": -17.855749130249023
         },
         {
          "surname": "Wittgenstein",
          "titles": "Philosophical Investigations",
          "x": 18.15037727355957,
          "y": -14.940360069274902
         },
         {
          "surname": "Wolf",
          "titles": "Europe and the People Without History",
          "x": 21.890621185302734,
          "y": -12.842549324035645
         },
         {
          "surname": "Wollstonecraft",
          "titles": "The Rights of Woman, A Vindication of the Rights of Woman, A Vindication of the Rights of Women",
          "x": -21.3498477935791,
          "y": 2.2911226749420166
         },
         {
          "surname": "Wood",
          "titles": "The Radicalism of the American Revolution",
          "x": -0.6601622700691223,
          "y": -12.030121803283691
         },
         {
          "surname": "Woodward",
          "titles": "Florida State University",
          "x": 4.012621879577637,
          "y": -1.8602514266967773
         },
         {
          "surname": "Wooldridge",
          "titles": "Introductory Econometrics : A Modern Approach",
          "x": 13.65428352355957,
          "y": 6.993770599365234
         },
         {
          "surname": "Woolf",
          "titles": "Orlando, To the Lighthouse, Mrs. Dalloway",
          "x": -26.181718826293945,
          "y": 12.67493724822998
         },
         {
          "surname": "Woolfolk",
          "titles": "Educational Psychology",
          "x": 3.912811517715454,
          "y": 2.504988431930542
         },
         {
          "surname": "Wordsworth",
          "titles": "Lyrical Ballads 1805, Preface to Lyrical Ballads, The Prelude, 1798-1799",
          "x": -22.106252670288086,
          "y": 0.5547512769699097
         },
         {
          "surname": "World bank",
          "titles": "Education, Health",
          "x": 3.8212857246398926,
          "y": -8.272157669067383
         },
         {
          "surname": "Wright",
          "titles": "Native Son",
          "x": -18.758316040039062,
          "y": 19.627914428710938
         },
         {
          "surname": "Yeats",
          "titles": "The Lake Isle of Innisfree,, Easter, 1916",
          "x": -19.504920959472656,
          "y": -0.821963906288147
         },
         {
          "surname": "Yin",
          "titles": "Case Study Research : Design and Methods",
          "x": -9.7357816696167,
          "y": -17.009260177612305
         },
         {
          "surname": "York",
          "titles": "National Security",
          "x": 7.371481418609619,
          "y": -16.152660369873047
         },
         {
          "surname": "Young",
          "titles": "Teacher Education",
          "x": 3.0228185653686523,
          "y": -1.2396348714828491
         },
         {
          "surname": "Zumdahl",
          "titles": "Chemistry",
          "x": 3.6066014766693115,
          "y": 4.097253322601318
         }
        ]
       },
       "encoding": {
        "text": {
         "field": "surname",
         "type": "nominal"
        },
        "tooltip": {
         "field": "titles",
         "type": "nominal"
        },
        "x": {
         "field": "x",
         "type": "quantitative"
        },
        "y": {
         "field": "y",
         "type": "quantitative"
        }
       },
       "height": 700,
       "mark": "text",
       "selection": {
        "selector004": {
         "bind": "scales",
         "encodings": [
          "x",
          "y"
         ],
         "mark": {
          "fill": "#333",
          "fillOpacity": 0.125,
          "stroke": "white"
         },
         "on": "[mousedown, window:mouseup] > window:mousemove!",
         "resolve": "global",
         "translate": "[mousedown, window:mouseup] > window:mousemove!",
         "type": "interval",
         "zoom": "wheel!"
        }
       },
       "width": 1000
      },
      "image/png": "[encoded data removed]",
      "text/plain": [
       "<VegaLite 2 object>\n",
       "\n",
       "If you see this message, it means the renderer has not been properly enabled\n",
       "for the frontend that you are using. For more information, see\n",
       "https://altair-viz.github.io/user_guide/troubleshooting.html\n"
      ]
     },
     "execution_count": 89,
     "metadata": {},
     "output_type": "execute_result"
    }
   ],
   "source": [
    "chart.interactive()"
   ]
  },
  {
   "cell_type": "code",
   "execution_count": null,
   "metadata": {},
   "outputs": [],
   "source": []
  }
 ],
 "metadata": {
  "kernelspec": {
   "display_name": "Python 3",
   "language": "python",
   "name": "python3"
  },
  "language_info": {
   "codemirror_mode": {
    "name": "ipython",
    "version": 3
   },
   "file_extension": ".py",
   "mimetype": "text/x-python",
   "name": "python",
   "nbconvert_exporter": "python",
   "pygments_lexer": "ipython3",
   "version": "3.6.5"
  }
 },
 "nbformat": 4,
 "nbformat_minor": 2
}
