{
 "cells": [
  {
   "cell_type": "code",
   "execution_count": 2,
   "metadata": {},
   "outputs": [],
   "source": [
    "import matplotlib.pyplot as plt\n",
    "%matplotlib inline"
   ]
  },
  {
   "cell_type": "code",
   "execution_count": 3,
   "metadata": {},
   "outputs": [],
   "source": [
    "import numpy as np\n",
    "import altair as alt\n",
    "import pandas as pd\n",
    "\n",
    "from scipy.sparse import lil_matrix\n",
    "from annoy import AnnoyIndex\n",
    "from collections import defaultdict\n",
    "\n",
    "from sklearn.decomposition import TruncatedSVD\n",
    "from sklearn import manifold\n",
    "from sklearn.decomposition import PCA\n",
    "\n",
    "from sqlalchemy.dialects.postgresql import array_agg\n",
    "from sqlalchemy.sql import functions as func\n",
    "\n",
    "from osp_graphs.v1_db import session, Text, Field, Subfield, SubfieldDocument, Citation, Document"
   ]
  },
  {
   "cell_type": "code",
   "execution_count": 6,
   "metadata": {},
   "outputs": [],
   "source": [
    "count = func.count(Citation.text_id)\n",
    "\n",
    "res = (session\n",
    "    .query(Text.surname, Text.title, array_agg(Citation.document_id))\n",
    "    .join(Citation)\n",
    "    .filter(Text.valid==True)\n",
    "    .filter(Text.display==True)\n",
    "    .group_by(Text.id)\n",
    "    .order_by(count.desc())\n",
    "    .limit(1000)\n",
    "    .all())"
   ]
  },
  {
   "cell_type": "code",
   "execution_count": 7,
   "metadata": {},
   "outputs": [],
   "source": [
    "surname_docs = defaultdict(set)\n",
    "surname_titles = defaultdict(set)\n",
    "\n",
    "for surname, title, doc_ids in res:\n",
    "    key = surname.strip('.,').lower()\n",
    "    surname_docs[key].update(doc_ids)\n",
    "    surname_titles[key].add(title)"
   ]
  },
  {
   "cell_type": "code",
   "execution_count": 8,
   "metadata": {},
   "outputs": [],
   "source": [
    "surnames = sorted(surname_docs.keys())\n",
    "surname_to_idx = {s: i for i, s in enumerate(surnames)}"
   ]
  },
  {
   "cell_type": "code",
   "execution_count": 10,
   "metadata": {},
   "outputs": [],
   "source": [
    "doc_ids = list(set([did for _, _, doc_ids in res for did in doc_ids]))\n",
    "doc_id_to_idx = {did: i for i, did in enumerate(doc_ids)}"
   ]
  },
  {
   "cell_type": "code",
   "execution_count": 11,
   "metadata": {},
   "outputs": [],
   "source": [
    "sdm = np.zeros((len(doc_ids), len(surnames)))\n",
    "\n",
    "for surname in surnames:\n",
    "    sidx = surname_to_idx[surname]\n",
    "    for doc_id in surname_docs[surname]:\n",
    "        didx = doc_id_to_idx[doc_id]\n",
    "        sdm[didx][sidx] += 1"
   ]
  },
  {
   "cell_type": "code",
   "execution_count": 12,
   "metadata": {},
   "outputs": [
    {
     "data": {
      "text/plain": [
       "495788.0"
      ]
     },
     "execution_count": 12,
     "metadata": {},
     "output_type": "execute_result"
    }
   ],
   "source": [
    "sdm.sum()"
   ]
  },
  {
   "cell_type": "code",
   "execution_count": 13,
   "metadata": {},
   "outputs": [],
   "source": [
    "svd = TruncatedSVD(n_components=10)"
   ]
  },
  {
   "cell_type": "code",
   "execution_count": 14,
   "metadata": {},
   "outputs": [
    {
     "data": {
      "text/plain": [
       "TruncatedSVD(algorithm='randomized', n_components=10, n_iter=5,\n",
       "       random_state=None, tol=0.0)"
      ]
     },
     "execution_count": 14,
     "metadata": {},
     "output_type": "execute_result"
    }
   ],
   "source": [
    "svd.fit(sdm)"
   ]
  },
  {
   "cell_type": "code",
   "execution_count": 15,
   "metadata": {},
   "outputs": [
    {
     "data": {
      "text/plain": [
       "(642, 10)"
      ]
     },
     "execution_count": 15,
     "metadata": {},
     "output_type": "execute_result"
    }
   ],
   "source": [
    "svd.components_.T.shape"
   ]
  },
  {
   "cell_type": "code",
   "execution_count": 37,
   "metadata": {},
   "outputs": [],
   "source": [
    "dr = manifold.TSNE(n_components=2, init='pca')"
   ]
  },
  {
   "cell_type": "code",
   "execution_count": 38,
   "metadata": {},
   "outputs": [
    {
     "data": {
      "text/plain": [
       "array([[-18.201788  ,  15.071253  ],\n",
       "       [-15.359311  ,  18.70422   ],\n",
       "       [  1.4442152 ,  -2.7904596 ],\n",
       "       ...,\n",
       "       [ 13.601753  ,  -1.8876991 ],\n",
       "       [ -9.92569   , -22.931677  ],\n",
       "       [ -0.92883986, -13.347915  ]], dtype=float32)"
      ]
     },
     "execution_count": 38,
     "metadata": {},
     "output_type": "execute_result"
    }
   ],
   "source": [
    "dr.fit_transform(svd.components_.T)"
   ]
  },
  {
   "cell_type": "code",
   "execution_count": 51,
   "metadata": {},
   "outputs": [],
   "source": [
    "rows = []\n",
    "for surname, (x, y) in zip(surnames, dr.embedding_):\n",
    "    rows.append(dict(surname=surname, titles=surname_titles[surname], x=x, y=y))"
   ]
  },
  {
   "cell_type": "code",
   "execution_count": 52,
   "metadata": {},
   "outputs": [],
   "source": [
    "df = pd.DataFrame(rows)"
   ]
  },
  {
   "cell_type": "code",
   "execution_count": 53,
   "metadata": {},
   "outputs": [],
   "source": [
    "df.surname = df.surname.apply(lambda s: s.capitalize())"
   ]
  },
  {
   "cell_type": "code",
   "execution_count": 54,
   "metadata": {},
   "outputs": [],
   "source": [
    "df.titles = df.titles.apply(lambda ts: ', '.join([t.strip(' /') for t in ts]))"
   ]
  },
  {
   "cell_type": "code",
   "execution_count": 55,
   "metadata": {},
   "outputs": [
    {
     "data": {
      "text/html": [
       "<div>\n",
       "<style scoped>\n",
       "    .dataframe tbody tr th:only-of-type {\n",
       "        vertical-align: middle;\n",
       "    }\n",
       "\n",
       "    .dataframe tbody tr th {\n",
       "        vertical-align: top;\n",
       "    }\n",
       "\n",
       "    .dataframe thead th {\n",
       "        text-align: right;\n",
       "    }\n",
       "</style>\n",
       "<table border=\"1\" class=\"dataframe\">\n",
       "  <thead>\n",
       "    <tr style=\"text-align: right;\">\n",
       "      <th></th>\n",
       "      <th>surname</th>\n",
       "      <th>titles</th>\n",
       "      <th>x</th>\n",
       "      <th>y</th>\n",
       "    </tr>\n",
       "  </thead>\n",
       "  <tbody>\n",
       "    <tr>\n",
       "      <th>0</th>\n",
       "      <td>Abrams</td>\n",
       "      <td>A glossary of literary terms, The Norton antho...</td>\n",
       "      <td>-18.201788</td>\n",
       "      <td>15.071253</td>\n",
       "    </tr>\n",
       "    <tr>\n",
       "      <th>1</th>\n",
       "      <td>Achebe</td>\n",
       "      <td>Things fall apart</td>\n",
       "      <td>-15.359311</td>\n",
       "      <td>18.704220</td>\n",
       "    </tr>\n",
       "    <tr>\n",
       "      <th>2</th>\n",
       "      <td>Addams</td>\n",
       "      <td>Twenty years at Hull-House;</td>\n",
       "      <td>1.444215</td>\n",
       "      <td>-2.790460</td>\n",
       "    </tr>\n",
       "    <tr>\n",
       "      <th>3</th>\n",
       "      <td>Adorno</td>\n",
       "      <td>THE CULTURE INDUSTRY</td>\n",
       "      <td>30.099222</td>\n",
       "      <td>7.738843</td>\n",
       "    </tr>\n",
       "    <tr>\n",
       "      <th>4</th>\n",
       "      <td>Aeschylus</td>\n",
       "      <td>Eumenides, The libation bearers., Agamemnon,, ...</td>\n",
       "      <td>-21.131783</td>\n",
       "      <td>-1.438467</td>\n",
       "    </tr>\n",
       "    <tr>\n",
       "      <th>5</th>\n",
       "      <td>Aesop</td>\n",
       "      <td>Fables.</td>\n",
       "      <td>-12.977132</td>\n",
       "      <td>-0.322480</td>\n",
       "    </tr>\n",
       "    <tr>\n",
       "      <th>6</th>\n",
       "      <td>Alberts</td>\n",
       "      <td>Essential cell biology, Molecular biology of t...</td>\n",
       "      <td>9.262084</td>\n",
       "      <td>-5.407114</td>\n",
       "    </tr>\n",
       "    <tr>\n",
       "      <th>7</th>\n",
       "      <td>Alcott</td>\n",
       "      <td>Little women</td>\n",
       "      <td>-8.325903</td>\n",
       "      <td>17.227570</td>\n",
       "    </tr>\n",
       "    <tr>\n",
       "      <th>8</th>\n",
       "      <td>Alexie</td>\n",
       "      <td>The Lone Ranger and Tonto fistfight in heaven</td>\n",
       "      <td>-4.135975</td>\n",
       "      <td>10.048624</td>\n",
       "    </tr>\n",
       "    <tr>\n",
       "      <th>9</th>\n",
       "      <td>Allen</td>\n",
       "      <td>Without feathers</td>\n",
       "      <td>-50.177563</td>\n",
       "      <td>-9.047170</td>\n",
       "    </tr>\n",
       "    <tr>\n",
       "      <th>10</th>\n",
       "      <td>Allende</td>\n",
       "      <td>The house of the spirits</td>\n",
       "      <td>-5.838052</td>\n",
       "      <td>8.557818</td>\n",
       "    </tr>\n",
       "    <tr>\n",
       "      <th>11</th>\n",
       "      <td>Allison</td>\n",
       "      <td>Essence of decision; explaining the Cuban miss...</td>\n",
       "      <td>14.746756</td>\n",
       "      <td>4.822603</td>\n",
       "    </tr>\n",
       "    <tr>\n",
       "      <th>12</th>\n",
       "      <td>Anaya</td>\n",
       "      <td>Bless me, Ultima</td>\n",
       "      <td>-5.491279</td>\n",
       "      <td>11.714265</td>\n",
       "    </tr>\n",
       "    <tr>\n",
       "      <th>13</th>\n",
       "      <td>Anderson</td>\n",
       "      <td>Imagined communities : reflections on the orig...</td>\n",
       "      <td>-53.823250</td>\n",
       "      <td>-6.084273</td>\n",
       "    </tr>\n",
       "    <tr>\n",
       "      <th>14</th>\n",
       "      <td>Angelou</td>\n",
       "      <td>I know why the caged bird sings.</td>\n",
       "      <td>-6.017710</td>\n",
       "      <td>16.748592</td>\n",
       "    </tr>\n",
       "    <tr>\n",
       "      <th>15</th>\n",
       "      <td>Anthony</td>\n",
       "      <td>Essential Reading</td>\n",
       "      <td>17.278175</td>\n",
       "      <td>-4.063418</td>\n",
       "    </tr>\n",
       "    <tr>\n",
       "      <th>16</th>\n",
       "      <td>Apuleius</td>\n",
       "      <td>The golden ass.</td>\n",
       "      <td>-14.760106</td>\n",
       "      <td>-0.287310</td>\n",
       "    </tr>\n",
       "    <tr>\n",
       "      <th>17</th>\n",
       "      <td>Arendt</td>\n",
       "      <td>The human condition., The origins of totalitar...</td>\n",
       "      <td>23.510498</td>\n",
       "      <td>9.293840</td>\n",
       "    </tr>\n",
       "    <tr>\n",
       "      <th>18</th>\n",
       "      <td>Aristophanes</td>\n",
       "      <td>The frogs., Lysistrata, The clouds.</td>\n",
       "      <td>-20.487766</td>\n",
       "      <td>-1.680756</td>\n",
       "    </tr>\n",
       "    <tr>\n",
       "      <th>19</th>\n",
       "      <td>Aristotle</td>\n",
       "      <td>Ethics., Rhetoric, Ethics and Politics., The p...</td>\n",
       "      <td>17.348301</td>\n",
       "      <td>19.168438</td>\n",
       "    </tr>\n",
       "    <tr>\n",
       "      <th>20</th>\n",
       "      <td>Arnold</td>\n",
       "      <td>Dover Beach, Culture and anarchy</td>\n",
       "      <td>-21.061615</td>\n",
       "      <td>14.170132</td>\n",
       "    </tr>\n",
       "    <tr>\n",
       "      <th>21</th>\n",
       "      <td>Aronson</td>\n",
       "      <td>Social psychology</td>\n",
       "      <td>3.963381</td>\n",
       "      <td>-11.233796</td>\n",
       "    </tr>\n",
       "    <tr>\n",
       "      <th>22</th>\n",
       "      <td>Aslam</td>\n",
       "      <td>Maps for lost lovers</td>\n",
       "      <td>-49.463383</td>\n",
       "      <td>-7.637650</td>\n",
       "    </tr>\n",
       "    <tr>\n",
       "      <th>23</th>\n",
       "      <td>Atkins</td>\n",
       "      <td>Physical chemistry</td>\n",
       "      <td>11.966788</td>\n",
       "      <td>-16.688116</td>\n",
       "    </tr>\n",
       "    <tr>\n",
       "      <th>24</th>\n",
       "      <td>Audesirk</td>\n",
       "      <td>Life on earth</td>\n",
       "      <td>-6.514785</td>\n",
       "      <td>-19.688118</td>\n",
       "    </tr>\n",
       "    <tr>\n",
       "      <th>25</th>\n",
       "      <td>Augustine</td>\n",
       "      <td>Confessions.</td>\n",
       "      <td>-17.128611</td>\n",
       "      <td>-0.830925</td>\n",
       "    </tr>\n",
       "    <tr>\n",
       "      <th>26</th>\n",
       "      <td>Austen</td>\n",
       "      <td>Northanger Abbey, Pride &amp; prejudice, Sense and...</td>\n",
       "      <td>-25.033333</td>\n",
       "      <td>16.474733</td>\n",
       "    </tr>\n",
       "    <tr>\n",
       "      <th>27</th>\n",
       "      <td>Austin</td>\n",
       "      <td>How to do things with words</td>\n",
       "      <td>25.665585</td>\n",
       "      <td>-1.719133</td>\n",
       "    </tr>\n",
       "    <tr>\n",
       "      <th>28</th>\n",
       "      <td>Axelrod</td>\n",
       "      <td>The evolution of cooperation</td>\n",
       "      <td>15.313894</td>\n",
       "      <td>5.320075</td>\n",
       "    </tr>\n",
       "    <tr>\n",
       "      <th>29</th>\n",
       "      <td>Ayer</td>\n",
       "      <td>Language, truth and logic</td>\n",
       "      <td>10.899293</td>\n",
       "      <td>10.343694</td>\n",
       "    </tr>\n",
       "    <tr>\n",
       "      <th>...</th>\n",
       "      <td>...</td>\n",
       "      <td>...</td>\n",
       "      <td>...</td>\n",
       "      <td>...</td>\n",
       "    </tr>\n",
       "    <tr>\n",
       "      <th>612</th>\n",
       "      <td>Webster</td>\n",
       "      <td>The Duchess of Malfi</td>\n",
       "      <td>-14.877794</td>\n",
       "      <td>8.995564</td>\n",
       "    </tr>\n",
       "    <tr>\n",
       "      <th>613</th>\n",
       "      <td>Weir</td>\n",
       "      <td>Thomas' calculus</td>\n",
       "      <td>-6.410905</td>\n",
       "      <td>-21.278381</td>\n",
       "    </tr>\n",
       "    <tr>\n",
       "      <th>614</th>\n",
       "      <td>Weiten</td>\n",
       "      <td>Psychology : themes and variations</td>\n",
       "      <td>-6.899304</td>\n",
       "      <td>-20.227816</td>\n",
       "    </tr>\n",
       "    <tr>\n",
       "      <th>615</th>\n",
       "      <td>Wells</td>\n",
       "      <td>The war of the worlds, The time machine.</td>\n",
       "      <td>-13.622009</td>\n",
       "      <td>14.987048</td>\n",
       "    </tr>\n",
       "    <tr>\n",
       "      <th>616</th>\n",
       "      <td>West</td>\n",
       "      <td>Doing Gender, Race matters</td>\n",
       "      <td>21.389208</td>\n",
       "      <td>1.861421</td>\n",
       "    </tr>\n",
       "    <tr>\n",
       "      <th>617</th>\n",
       "      <td>Weston</td>\n",
       "      <td>A rulebook for arguments</td>\n",
       "      <td>8.567694</td>\n",
       "      <td>7.403882</td>\n",
       "    </tr>\n",
       "    <tr>\n",
       "      <th>618</th>\n",
       "      <td>Wharton</td>\n",
       "      <td>The house of mirth, The age of innocence</td>\n",
       "      <td>-7.273564</td>\n",
       "      <td>22.995680</td>\n",
       "    </tr>\n",
       "    <tr>\n",
       "      <th>619</th>\n",
       "      <td>Whitman</td>\n",
       "      <td>Leaves of grass</td>\n",
       "      <td>-0.502170</td>\n",
       "      <td>22.491236</td>\n",
       "    </tr>\n",
       "    <tr>\n",
       "      <th>620</th>\n",
       "      <td>Whitney</td>\n",
       "      <td>Understanding nutrition</td>\n",
       "      <td>2.669037</td>\n",
       "      <td>-11.659612</td>\n",
       "    </tr>\n",
       "    <tr>\n",
       "      <th>621</th>\n",
       "      <td>Wiesel</td>\n",
       "      <td>Night</td>\n",
       "      <td>-2.643561</td>\n",
       "      <td>10.036018</td>\n",
       "    </tr>\n",
       "    <tr>\n",
       "      <th>622</th>\n",
       "      <td>Wiggins</td>\n",
       "      <td>Understanding by design</td>\n",
       "      <td>-10.766627</td>\n",
       "      <td>-21.413952</td>\n",
       "    </tr>\n",
       "    <tr>\n",
       "      <th>623</th>\n",
       "      <td>Wilde</td>\n",
       "      <td>The picture of Dorian Gray, The importance of ...</td>\n",
       "      <td>-22.880548</td>\n",
       "      <td>16.440681</td>\n",
       "    </tr>\n",
       "    <tr>\n",
       "      <th>624</th>\n",
       "      <td>Williams</td>\n",
       "      <td>Wallace Stevens, A streetcar named Desire., St...</td>\n",
       "      <td>-7.509306</td>\n",
       "      <td>25.264914</td>\n",
       "    </tr>\n",
       "    <tr>\n",
       "      <th>625</th>\n",
       "      <td>Wilson</td>\n",
       "      <td>When Work Disappears</td>\n",
       "      <td>20.469791</td>\n",
       "      <td>0.200106</td>\n",
       "    </tr>\n",
       "    <tr>\n",
       "      <th>626</th>\n",
       "      <td>Wittgenstein</td>\n",
       "      <td>Philosophical investigations.</td>\n",
       "      <td>10.193542</td>\n",
       "      <td>12.133284</td>\n",
       "    </tr>\n",
       "    <tr>\n",
       "      <th>627</th>\n",
       "      <td>Wolf</td>\n",
       "      <td>Europe and the people without history</td>\n",
       "      <td>23.909679</td>\n",
       "      <td>1.798990</td>\n",
       "    </tr>\n",
       "    <tr>\n",
       "      <th>628</th>\n",
       "      <td>Wollstonecraft</td>\n",
       "      <td>The rights of woman, A vindication of the righ...</td>\n",
       "      <td>12.706495</td>\n",
       "      <td>17.613581</td>\n",
       "    </tr>\n",
       "    <tr>\n",
       "      <th>629</th>\n",
       "      <td>Wood</td>\n",
       "      <td>The radicalism of the American Revolution</td>\n",
       "      <td>9.920741</td>\n",
       "      <td>4.087076</td>\n",
       "    </tr>\n",
       "    <tr>\n",
       "      <th>630</th>\n",
       "      <td>Woodward</td>\n",
       "      <td>Florida State University</td>\n",
       "      <td>-9.042109</td>\n",
       "      <td>-21.987314</td>\n",
       "    </tr>\n",
       "    <tr>\n",
       "      <th>631</th>\n",
       "      <td>Wooldridge</td>\n",
       "      <td>Introductory econometrics : a modern approach</td>\n",
       "      <td>-5.039632</td>\n",
       "      <td>-23.063295</td>\n",
       "    </tr>\n",
       "    <tr>\n",
       "      <th>632</th>\n",
       "      <td>Woolf</td>\n",
       "      <td>Orlando., To the lighthouse, Mrs. Dalloway</td>\n",
       "      <td>-28.248533</td>\n",
       "      <td>14.194416</td>\n",
       "    </tr>\n",
       "    <tr>\n",
       "      <th>633</th>\n",
       "      <td>Woolfolk</td>\n",
       "      <td>Educational psychology</td>\n",
       "      <td>-1.129606</td>\n",
       "      <td>-15.989041</td>\n",
       "    </tr>\n",
       "    <tr>\n",
       "      <th>634</th>\n",
       "      <td>Wordsworth</td>\n",
       "      <td>Lyrical ballads 1805, Preface to Lyrical balla...</td>\n",
       "      <td>-22.820179</td>\n",
       "      <td>14.669305</td>\n",
       "    </tr>\n",
       "    <tr>\n",
       "      <th>635</th>\n",
       "      <td>World bank</td>\n",
       "      <td>Education., Health.</td>\n",
       "      <td>2.890558</td>\n",
       "      <td>-16.176014</td>\n",
       "    </tr>\n",
       "    <tr>\n",
       "      <th>636</th>\n",
       "      <td>Wright</td>\n",
       "      <td>Native son.</td>\n",
       "      <td>-7.709647</td>\n",
       "      <td>21.962912</td>\n",
       "    </tr>\n",
       "    <tr>\n",
       "      <th>637</th>\n",
       "      <td>Yeats</td>\n",
       "      <td>The lake isle of Innisfree,, Easter, 1916</td>\n",
       "      <td>-19.030321</td>\n",
       "      <td>13.625435</td>\n",
       "    </tr>\n",
       "    <tr>\n",
       "      <th>638</th>\n",
       "      <td>Yin</td>\n",
       "      <td>Case study research : design and methods</td>\n",
       "      <td>6.979815</td>\n",
       "      <td>-2.274662</td>\n",
       "    </tr>\n",
       "    <tr>\n",
       "      <th>639</th>\n",
       "      <td>York</td>\n",
       "      <td>National Security</td>\n",
       "      <td>13.601753</td>\n",
       "      <td>-1.887699</td>\n",
       "    </tr>\n",
       "    <tr>\n",
       "      <th>640</th>\n",
       "      <td>Young</td>\n",
       "      <td>Teacher Education</td>\n",
       "      <td>-9.925690</td>\n",
       "      <td>-22.931677</td>\n",
       "    </tr>\n",
       "    <tr>\n",
       "      <th>641</th>\n",
       "      <td>Zumdahl</td>\n",
       "      <td>Chemistry</td>\n",
       "      <td>-0.928840</td>\n",
       "      <td>-13.347915</td>\n",
       "    </tr>\n",
       "  </tbody>\n",
       "</table>\n",
       "<p>642 rows × 4 columns</p>\n",
       "</div>"
      ],
      "text/plain": [
       "            surname                                             titles  \\\n",
       "0            Abrams  A glossary of literary terms, The Norton antho...   \n",
       "1            Achebe                                  Things fall apart   \n",
       "2            Addams                        Twenty years at Hull-House;   \n",
       "3            Adorno                               THE CULTURE INDUSTRY   \n",
       "4         Aeschylus  Eumenides, The libation bearers., Agamemnon,, ...   \n",
       "5             Aesop                                            Fables.   \n",
       "6           Alberts  Essential cell biology, Molecular biology of t...   \n",
       "7            Alcott                                       Little women   \n",
       "8            Alexie      The Lone Ranger and Tonto fistfight in heaven   \n",
       "9             Allen                                   Without feathers   \n",
       "10          Allende                           The house of the spirits   \n",
       "11          Allison  Essence of decision; explaining the Cuban miss...   \n",
       "12            Anaya                                   Bless me, Ultima   \n",
       "13         Anderson  Imagined communities : reflections on the orig...   \n",
       "14          Angelou                   I know why the caged bird sings.   \n",
       "15          Anthony                                  Essential Reading   \n",
       "16         Apuleius                                    The golden ass.   \n",
       "17           Arendt  The human condition., The origins of totalitar...   \n",
       "18     Aristophanes                The frogs., Lysistrata, The clouds.   \n",
       "19        Aristotle  Ethics., Rhetoric, Ethics and Politics., The p...   \n",
       "20           Arnold                   Dover Beach, Culture and anarchy   \n",
       "21          Aronson                                  Social psychology   \n",
       "22            Aslam                               Maps for lost lovers   \n",
       "23           Atkins                                 Physical chemistry   \n",
       "24         Audesirk                                      Life on earth   \n",
       "25        Augustine                                       Confessions.   \n",
       "26           Austen  Northanger Abbey, Pride & prejudice, Sense and...   \n",
       "27           Austin                        How to do things with words   \n",
       "28          Axelrod                       The evolution of cooperation   \n",
       "29             Ayer                          Language, truth and logic   \n",
       "..              ...                                                ...   \n",
       "612         Webster                               The Duchess of Malfi   \n",
       "613            Weir                                   Thomas' calculus   \n",
       "614          Weiten                 Psychology : themes and variations   \n",
       "615           Wells           The war of the worlds, The time machine.   \n",
       "616            West                         Doing Gender, Race matters   \n",
       "617          Weston                           A rulebook for arguments   \n",
       "618         Wharton           The house of mirth, The age of innocence   \n",
       "619         Whitman                                    Leaves of grass   \n",
       "620         Whitney                            Understanding nutrition   \n",
       "621          Wiesel                                              Night   \n",
       "622         Wiggins                            Understanding by design   \n",
       "623           Wilde  The picture of Dorian Gray, The importance of ...   \n",
       "624        Williams  Wallace Stevens, A streetcar named Desire., St...   \n",
       "625          Wilson                               When Work Disappears   \n",
       "626    Wittgenstein                      Philosophical investigations.   \n",
       "627            Wolf              Europe and the people without history   \n",
       "628  Wollstonecraft  The rights of woman, A vindication of the righ...   \n",
       "629            Wood          The radicalism of the American Revolution   \n",
       "630        Woodward                           Florida State University   \n",
       "631      Wooldridge      Introductory econometrics : a modern approach   \n",
       "632           Woolf         Orlando., To the lighthouse, Mrs. Dalloway   \n",
       "633        Woolfolk                             Educational psychology   \n",
       "634      Wordsworth  Lyrical ballads 1805, Preface to Lyrical balla...   \n",
       "635      World bank                                Education., Health.   \n",
       "636          Wright                                        Native son.   \n",
       "637           Yeats          The lake isle of Innisfree,, Easter, 1916   \n",
       "638             Yin           Case study research : design and methods   \n",
       "639            York                                  National Security   \n",
       "640           Young                                  Teacher Education   \n",
       "641         Zumdahl                                          Chemistry   \n",
       "\n",
       "             x          y  \n",
       "0   -18.201788  15.071253  \n",
       "1   -15.359311  18.704220  \n",
       "2     1.444215  -2.790460  \n",
       "3    30.099222   7.738843  \n",
       "4   -21.131783  -1.438467  \n",
       "5   -12.977132  -0.322480  \n",
       "6     9.262084  -5.407114  \n",
       "7    -8.325903  17.227570  \n",
       "8    -4.135975  10.048624  \n",
       "9   -50.177563  -9.047170  \n",
       "10   -5.838052   8.557818  \n",
       "11   14.746756   4.822603  \n",
       "12   -5.491279  11.714265  \n",
       "13  -53.823250  -6.084273  \n",
       "14   -6.017710  16.748592  \n",
       "15   17.278175  -4.063418  \n",
       "16  -14.760106  -0.287310  \n",
       "17   23.510498   9.293840  \n",
       "18  -20.487766  -1.680756  \n",
       "19   17.348301  19.168438  \n",
       "20  -21.061615  14.170132  \n",
       "21    3.963381 -11.233796  \n",
       "22  -49.463383  -7.637650  \n",
       "23   11.966788 -16.688116  \n",
       "24   -6.514785 -19.688118  \n",
       "25  -17.128611  -0.830925  \n",
       "26  -25.033333  16.474733  \n",
       "27   25.665585  -1.719133  \n",
       "28   15.313894   5.320075  \n",
       "29   10.899293  10.343694  \n",
       "..         ...        ...  \n",
       "612 -14.877794   8.995564  \n",
       "613  -6.410905 -21.278381  \n",
       "614  -6.899304 -20.227816  \n",
       "615 -13.622009  14.987048  \n",
       "616  21.389208   1.861421  \n",
       "617   8.567694   7.403882  \n",
       "618  -7.273564  22.995680  \n",
       "619  -0.502170  22.491236  \n",
       "620   2.669037 -11.659612  \n",
       "621  -2.643561  10.036018  \n",
       "622 -10.766627 -21.413952  \n",
       "623 -22.880548  16.440681  \n",
       "624  -7.509306  25.264914  \n",
       "625  20.469791   0.200106  \n",
       "626  10.193542  12.133284  \n",
       "627  23.909679   1.798990  \n",
       "628  12.706495  17.613581  \n",
       "629   9.920741   4.087076  \n",
       "630  -9.042109 -21.987314  \n",
       "631  -5.039632 -23.063295  \n",
       "632 -28.248533  14.194416  \n",
       "633  -1.129606 -15.989041  \n",
       "634 -22.820179  14.669305  \n",
       "635   2.890558 -16.176014  \n",
       "636  -7.709647  21.962912  \n",
       "637 -19.030321  13.625435  \n",
       "638   6.979815  -2.274662  \n",
       "639  13.601753  -1.887699  \n",
       "640  -9.925690 -22.931677  \n",
       "641  -0.928840 -13.347915  \n",
       "\n",
       "[642 rows x 4 columns]"
      ]
     },
     "execution_count": 55,
     "metadata": {},
     "output_type": "execute_result"
    }
   ],
   "source": [
    "df"
   ]
  },
  {
   "cell_type": "code",
   "execution_count": 56,
   "metadata": {},
   "outputs": [],
   "source": [
    "chart = (alt\n",
    "    .Chart(df, width=1000, height=700)\n",
    "    .mark_circle()\n",
    "    .encode(x='x', y='y', tooltip='titles')\n",
    "    .mark_text()\n",
    "    .encode(text='surname'))"
   ]
  },
  {
   "cell_type": "code",
   "execution_count": 57,
   "metadata": {},
   "outputs": [
    {
     "data": {
      "application/vnd.vegalite.v2+json": {
       "$schema": "https://vega.github.io/schema/vega-lite/v2.4.3.json",
       "config": {
        "view": {
         "height": 300,
         "width": 400
        }
       },
       "data": {
        "values": [
         {
          "surname": "Abrams",
          "titles": "A glossary of literary terms, The Norton anthology of English literature",
          "x": -18.2017879486084,
          "y": 15.071252822875977
         },
         {
          "surname": "Achebe",
          "titles": "Things fall apart",
          "x": -15.3593111038208,
          "y": 18.704219818115234
         },
         {
          "surname": "Addams",
          "titles": "Twenty years at Hull-House;",
          "x": 1.444215178489685,
          "y": -2.790459632873535
         },
         {
          "surname": "Adorno",
          "titles": "THE CULTURE INDUSTRY",
          "x": 30.09922218322754,
          "y": 7.7388434410095215
         },
         {
          "surname": "Aeschylus",
          "titles": "Eumenides, The libation bearers., Agamemnon,, The Oresteia, Prometheus",
          "x": -21.13178253173828,
          "y": -1.438467025756836
         },
         {
          "surname": "Aesop",
          "titles": "Fables.",
          "x": -12.977131843566895,
          "y": -0.3224799931049347
         },
         {
          "surname": "Alberts",
          "titles": "Essential cell biology, Molecular biology of the cell",
          "x": 9.262084007263184,
          "y": -5.407113552093506
         },
         {
          "surname": "Alcott",
          "titles": "Little women",
          "x": -8.325902938842773,
          "y": 17.227569580078125
         },
         {
          "surname": "Alexie",
          "titles": "The Lone Ranger and Tonto fistfight in heaven",
          "x": -4.135975360870361,
          "y": 10.048624038696289
         },
         {
          "surname": "Allen",
          "titles": "Without feathers",
          "x": -50.17756271362305,
          "y": -9.04716968536377
         },
         {
          "surname": "Allende",
          "titles": "The house of the spirits",
          "x": -5.838052272796631,
          "y": 8.557818412780762
         },
         {
          "surname": "Allison",
          "titles": "Essence of decision; explaining the Cuban missile crisis, Conceptual Models and the Cuban Missile Crisis",
          "x": 14.746755599975586,
          "y": 4.82260274887085
         },
         {
          "surname": "Anaya",
          "titles": "Bless me, Ultima",
          "x": -5.491279125213623,
          "y": 11.714264869689941
         },
         {
          "surname": "Anderson",
          "titles": "Imagined communities : reflections on the origin and spread of nationalism, The fall of Baghdad, Winesburg, Ohio",
          "x": -53.82324981689453,
          "y": -6.084272861480713
         },
         {
          "surname": "Angelou",
          "titles": "I know why the caged bird sings.",
          "x": -6.017709732055664,
          "y": 16.748592376708984
         },
         {
          "surname": "Anthony",
          "titles": "Essential Reading",
          "x": 17.278175354003906,
          "y": -4.063417911529541
         },
         {
          "surname": "Apuleius",
          "titles": "The golden ass.",
          "x": -14.760106086730957,
          "y": -0.28731033205986023
         },
         {
          "surname": "Arendt",
          "titles": "The human condition., The origins of totalitarianism.",
          "x": 23.510498046875,
          "y": 9.293840408325195
         },
         {
          "surname": "Aristophanes",
          "titles": "The frogs., Lysistrata, The clouds.",
          "x": -20.48776626586914,
          "y": -1.680755615234375
         },
         {
          "surname": "Aristotle",
          "titles": "Ethics., Rhetoric, Ethics and Politics., The physics, Nicomachean ethics, The metaphysics, The politics., The poetics",
          "x": 17.34830093383789,
          "y": 19.168437957763672
         },
         {
          "surname": "Arnold",
          "titles": "Dover Beach, Culture and anarchy",
          "x": -21.061614990234375,
          "y": 14.17013168334961
         },
         {
          "surname": "Aronson",
          "titles": "Social psychology",
          "x": 3.963380813598633,
          "y": -11.233796119689941
         },
         {
          "surname": "Aslam",
          "titles": "Maps for lost lovers",
          "x": -49.463382720947266,
          "y": -7.6376495361328125
         },
         {
          "surname": "Atkins",
          "titles": "Physical chemistry",
          "x": 11.966788291931152,
          "y": -16.6881160736084
         },
         {
          "surname": "Audesirk",
          "titles": "Life on earth",
          "x": -6.514785289764404,
          "y": -19.68811798095703
         },
         {
          "surname": "Augustine",
          "titles": "Confessions.",
          "x": -17.128610610961914,
          "y": -0.8309245109558105
         },
         {
          "surname": "Austen",
          "titles": "Northanger Abbey, Pride & prejudice, Sense and sensibility, Emma, Persuasion, Mansfield Park.",
          "x": -25.03333282470703,
          "y": 16.474733352661133
         },
         {
          "surname": "Austin",
          "titles": "How to do things with words",
          "x": 25.665584564208984,
          "y": -1.7191330194473267
         },
         {
          "surname": "Axelrod",
          "titles": "The evolution of cooperation",
          "x": 15.313894271850586,
          "y": 5.320074558258057
         },
         {
          "surname": "Ayer",
          "titles": "Language, truth and logic",
          "x": 10.899292945861816,
          "y": 10.343693733215332
         },
         {
          "surname": "Azar",
          "titles": "Understanding and using English grammar",
          "x": -12.906228065490723,
          "y": -22.241729736328125
         },
         {
          "surname": "Babbie",
          "titles": "The practice of social research",
          "x": 9.748260498046875,
          "y": -6.101597309112549
         },
         {
          "surname": "Bach",
          "titles": "The fugue",
          "x": -9.746957778930664,
          "y": -10.479838371276855
         },
         {
          "surname": "Bachelard",
          "titles": "The poetics of space",
          "x": -1.9509943723678589,
          "y": 4.007013320922852
         },
         {
          "surname": "Bailyn",
          "titles": "The ideological origins of the American Revolution.",
          "x": 9.923430442810059,
          "y": 4.239861488342285
         },
         {
          "surname": "Bandura",
          "titles": "Social learning theory",
          "x": 6.195406436920166,
          "y": -16.891895294189453
         },
         {
          "surname": "Barber",
          "titles": "Jihad vs. McWorld",
          "x": 23.495487213134766,
          "y": 6.741297245025635
         },
         {
          "surname": "Barker",
          "titles": "Regeneration",
          "x": -8.679361343383789,
          "y": 8.22142219543457
         },
         {
          "surname": "Barnet",
          "titles": "A short guide to writing about art",
          "x": 8.112422943115234,
          "y": -5.5850677490234375
         },
         {
          "surname": "Barro",
          "titles": "Economic growth",
          "x": 4.489974021911621,
          "y": -16.156169891357422
         },
         {
          "surname": "Barthes",
          "titles": "Image, music, text, Mythologies",
          "x": 31.994585037231445,
          "y": 5.568840980529785
         },
         {
          "surname": "Bates",
          "titles": "A guide to physical examination",
          "x": -8.049920082092285,
          "y": -15.959954261779785
         },
         {
          "surname": "Baudrillard",
          "titles": "Simulations, Simulacra and simulation",
          "x": 30.846302032470703,
          "y": 5.794766426086426
         },
         {
          "surname": "Baum",
          "titles": "The Wizard of Oz",
          "x": -9.053533554077148,
          "y": 5.717718124389648
         },
         {
          "surname": "Beauchamp",
          "titles": "Principles of biomedical ethics",
          "x": -1.4528768062591553,
          "y": -23.41862678527832
         },
         {
          "surname": "Beauvoir",
          "titles": "The second sex",
          "x": 24.35986328125,
          "y": 12.110651969909668
         },
         {
          "surname": "Becker",
          "titles": "Writing for social scientists : how to start and finish your thesis, book, or article",
          "x": 8.2959623336792,
          "y": -3.2995667457580566
         },
         {
          "surname": "Beckett",
          "titles": "Endgame, Waiting for Godot",
          "x": -17.711761474609375,
          "y": 17.660478591918945
         },
         {
          "surname": "Bede",
          "titles": "Ecclesiastical history",
          "x": -9.412657737731934,
          "y": -5.015024185180664
         },
         {
          "surname": "Beethoven",
          "titles": "Symphony no. 2.",
          "x": -7.277559757232666,
          "y": -5.539328575134277
         },
         {
          "surname": "Behn",
          "titles": "The rover, Oroonoko",
          "x": -17.651287078857422,
          "y": 10.907292366027832
         },
         {
          "surname": "Bell",
          "titles": "Doing your research project : a guide for first-time researchers in education and social science",
          "x": 6.659395217895508,
          "y": -2.097595691680908
         },
         {
          "surname": "Bellamy",
          "titles": "Looking backward, 2000-1887",
          "x": 0.6477130651473999,
          "y": 15.884598731994629
         },
         {
          "surname": "Bellow",
          "titles": "Seize the day",
          "x": -51.95407485961914,
          "y": -7.456544399261475
         },
         {
          "surname": "Benjamin",
          "titles": "Illuminations",
          "x": 29.663881301879883,
          "y": 3.149899482727051
         },
         {
          "surname": "Bentham",
          "titles": "Utilitarianism.",
          "x": 13.375115394592285,
          "y": 13.821860313415527
         },
         {
          "surname": "Berg",
          "titles": "Biochemistry",
          "x": 0.22175201773643494,
          "y": -15.691083908081055
         },
         {
          "surname": "Berger",
          "titles": "Ways of seeing, The developing person",
          "x": 28.31234359741211,
          "y": 0.9309252500534058
         },
         {
          "surname": "Berlioz",
          "titles": "Symphonie fantastique",
          "x": -7.9291205406188965,
          "y": -6.511236190795898
         },
         {
          "surname": "Bevington",
          "titles": "Shakespeare",
          "x": -6.356128692626953,
          "y": 0.06873708963394165
         },
         {
          "surname": "Bhabha",
          "titles": "The location of culture",
          "x": 30.337526321411133,
          "y": 4.0017008781433105
         },
         {
          "surname": "Bizet",
          "titles": "Carmen",
          "x": -10.622200965881348,
          "y": -9.587053298950195
         },
         {
          "surname": "Black",
          "titles": "War and the World, 1450-2000, Cambridge University Press, 1584-1984",
          "x": 4.438888072967529,
          "y": 1.1713793277740479
         },
         {
          "surname": "Blake",
          "titles": "Songs of experience., Songs of innocence and of experience, Songs of innocence and experience., The marriage of heaven and hell, Songs of innocence.",
          "x": -21.933847427368164,
          "y": 14.876827239990234
         },
         {
          "surname": "Blanchard",
          "titles": "Macroeconomics",
          "x": 8.360633850097656,
          "y": -10.18857479095459
         },
         {
          "surname": "Blaxter",
          "titles": "How to research",
          "x": 5.272397041320801,
          "y": -23.442569732666016
         },
         {
          "surname": "Boccaccio",
          "titles": "The Decameron",
          "x": -16.070758819580078,
          "y": 0.5840885043144226
         },
         {
          "surname": "Bodie",
          "titles": "Investments",
          "x": 5.357454299926758,
          "y": -10.96343994140625
         },
         {
          "surname": "Boethius",
          "titles": "The consolation of philosophy.",
          "x": -11.650053024291992,
          "y": 4.425957679748535
         },
         {
          "surname": "Booth",
          "titles": "The craft of research",
          "x": 8.97103500366211,
          "y": -0.6872674226760864
         },
         {
          "surname": "Bordwell",
          "titles": "Film art : an introduction",
          "x": -1.740094780921936,
          "y": 3.2801263332366943
         },
         {
          "surname": "Bourdieu",
          "titles": "Distinction : a social critique of the judgement of taste",
          "x": 27.97549819946289,
          "y": 3.826714515686035
         },
         {
          "surname": "Bowlby",
          "titles": "Attachment",
          "x": 7.912703037261963,
          "y": -17.80837631225586
         },
         {
          "surname": "Bowles",
          "titles": "The sheltering sky.",
          "x": -51.222938537597656,
          "y": -7.204342365264893
         },
         {
          "surname": "Bowling",
          "titles": "Research methods in health : investigating health and health services",
          "x": -3.0366687774658203,
          "y": -20.48893165588379
         },
         {
          "surname": "Boyce",
          "titles": "Elementary differential equations and boundary value problems, Elementary differential equations",
          "x": 8.696695327758789,
          "y": -13.781951904296875
         },
         {
          "surname": "Bradbury",
          "titles": "Fahrenheit 451.",
          "x": -5.585067272186279,
          "y": 12.656341552734375
         },
         {
          "surname": "Bradford",
          "titles": "Of Plymouth Plantation, 1620-1647",
          "x": 0.401017963886261,
          "y": 22.44116973876953
         },
         {
          "surname": "Brealey",
          "titles": "Principles of corporate finance",
          "x": 9.765691757202148,
          "y": -17.37889289855957
         },
         {
          "surname": "Brigham",
          "titles": "Fundamentals of financial management",
          "x": -5.901431560516357,
          "y": -24.101306915283203
         },
         {
          "surname": "Brock",
          "titles": "Biology of microorganisms",
          "x": 3.3211941719055176,
          "y": -11.790590286254883
         },
         {
          "surname": "Bronte",
          "titles": "Jane Eyre.",
          "x": -18.217012405395508,
          "y": 16.84184455871582
         },
         {
          "surname": "Brontë",
          "titles": "Wuthering Heights, Jane Eyre",
          "x": -18.326169967651367,
          "y": 16.039329528808594
         },
         {
          "surname": "Brooks",
          "titles": "We Real Cool",
          "x": -2.480703353881836,
          "y": 12.812995910644531
         },
         {
          "surname": "Brown",
          "titles": "Psychology, Black and White, Chemistry, the central science",
          "x": 2.049513816833496,
          "y": 9.71580982208252
         },
         {
          "surname": "Browning",
          "titles": "Aurora Leigh, My last duchess",
          "x": -22.17020034790039,
          "y": 15.380809783935547
         },
         {
          "surname": "Bryman",
          "titles": "Social research methods",
          "x": 21.19822120666504,
          "y": -4.076868057250977
         },
         {
          "surname": "Burden",
          "titles": "Numerical analysis",
          "x": -2.4964327812194824,
          "y": -22.34390640258789
         },
         {
          "surname": "Burgess",
          "titles": "A clockwork orange",
          "x": -10.553200721740723,
          "y": 14.180420875549316
         },
         {
          "surname": "Burke",
          "titles": "Reflections on the Revolution in France.",
          "x": 13.682320594787598,
          "y": 17.4559268951416
         },
         {
          "surname": "Burney",
          "titles": "Evelina.",
          "x": -13.564115524291992,
          "y": 12.558219909667969
         },
         {
          "surname": "Bush",
          "titles": "THE WHITE HOUSE",
          "x": 14.14515209197998,
          "y": 0.6933605074882507
         },
         {
          "surname": "Butler",
          "titles": "Gender trouble : feminism and the subversion of identity",
          "x": 29.65418243408203,
          "y": 5.202703475952148
         },
         {
          "surname": "Byron",
          "titles": "Don Juan",
          "x": -18.41240692138672,
          "y": 12.952841758728027
         },
         {
          "surname": "Calvin",
          "titles": "Institutes of the Christian religion",
          "x": 13.669402122497559,
          "y": 8.145794868469238
         },
         {
          "surname": "Calvino",
          "titles": "Invisible cities.",
          "x": -3.2732982635498047,
          "y": 4.581635475158691
         },
         {
          "surname": "Campbell",
          "titles": "The hero with a thousand faces., The power of myth, Essential biology, Biology",
          "x": 4.993485927581787,
          "y": 5.235775947570801
         },
         {
          "surname": "Camus",
          "titles": "The plague;, The stranger",
          "x": -11.334379196166992,
          "y": 17.893463134765625
         },
         {
          "surname": "Caputo",
          "titles": "A rumor of war",
          "x": 2.9721310138702393,
          "y": -2.196338176727295
         },
         {
          "surname": "Carlson",
          "titles": "Physiology of behavior",
          "x": -6.871804237365723,
          "y": -16.10964012145996
         },
         {
          "surname": "Carr",
          "titles": "What is history?",
          "x": 18.642955780029297,
          "y": 1.4477365016937256
         },
         {
          "surname": "Carroll",
          "titles": "Alice in Wonderland",
          "x": -13.155535697937012,
          "y": 8.686856269836426
         },
         {
          "surname": "Carson",
          "titles": "Silent spring",
          "x": 1.3142361640930176,
          "y": 15.323722839355469
         },
         {
          "surname": "Case",
          "titles": "Real estate.",
          "x": -9.111806869506836,
          "y": -17.397550582885742
         },
         {
          "surname": "Castells",
          "titles": "The rise of the network society",
          "x": 25.710670471191406,
          "y": 3.011493444442749
         },
         {
          "surname": "Castiglione",
          "titles": "The book of the courtier, The courtier.",
          "x": -10.302989959716797,
          "y": 0.12412045150995255
         },
         {
          "surname": "Castro",
          "titles": "HTML 4 for the World Wide Web",
          "x": 0.26455649733543396,
          "y": -17.599720001220703
         },
         {
          "surname": "Cather",
          "titles": "My Antonia",
          "x": -7.400928020477295,
          "y": 18.00234031677246
         },
         {
          "surname": "Certeau",
          "titles": "The practice of everyday life",
          "x": 28.108604431152344,
          "y": 2.925232410430908
         },
         {
          "surname": "Chaisson",
          "titles": "Astronomy today",
          "x": -6.664642810821533,
          "y": -21.994661331176758
         },
         {
          "surname": "Chalmers",
          "titles": "What is this thing called science?",
          "x": 14.593233108520508,
          "y": -6.586477279663086
         },
         {
          "surname": "Chandler",
          "titles": "The big sleep",
          "x": -6.293814182281494,
          "y": 13.258944511413574
         },
         {
          "surname": "Chang",
          "titles": "Chemistry",
          "x": 1.2138495445251465,
          "y": -11.990255355834961
         },
         {
          "surname": "Chaplin",
          "titles": "Modern times",
          "x": -5.192165851593018,
          "y": -3.9435460567474365
         },
         {
          "surname": "Chaucer",
          "titles": "The Canterbury tales: prologue, The general prologue, Troilus :, Canterbury tales.",
          "x": -21.435138702392578,
          "y": 18.27135467529297
         },
         {
          "surname": "Chekhov",
          "titles": "The cherry orchard",
          "x": -11.51441764831543,
          "y": 6.70682430267334
         },
         {
          "surname": "Chiang",
          "titles": "Fundamental methods of mathematical economics",
          "x": 7.499186038970947,
          "y": -16.049583435058594
         },
         {
          "surname": "Ching",
          "titles": "Architecture : form, space & order",
          "x": -4.526146411895752,
          "y": -21.49640464782715
         },
         {
          "surname": "Chopin",
          "titles": "The awakening",
          "x": -5.602100372314453,
          "y": 24.95284652709961
         },
         {
          "surname": "Cialdini",
          "titles": "Influence : science and practice",
          "x": -7.371671676635742,
          "y": -24.51491355895996
         },
         {
          "surname": "Cisneros",
          "titles": "The house on Mango Street",
          "x": -7.113358974456787,
          "y": 18.861339569091797
         },
         {
          "surname": "Cixous",
          "titles": "The Laugh of the Medusa",
          "x": 27.90752601623535,
          "y": -1.3554117679595947
         },
         {
          "surname": "Clausewitz",
          "titles": "On war",
          "x": 14.550989151000977,
          "y": 6.143983840942383
         },
         {
          "surname": "Cleveland",
          "titles": "A history of the modern Middle East",
          "x": 4.782233715057373,
          "y": -17.706857681274414
         },
         {
          "surname": "Coase",
          "titles": "The Nature of the Firm, The Problem of Social Cost",
          "x": 16.699615478515625,
          "y": 0.9567644000053406
         },
         {
          "surname": "Coetzee",
          "titles": "Waiting for the barbarians, Disgrace",
          "x": -52.55117416381836,
          "y": -5.682582378387451
         },
         {
          "surname": "Cohen",
          "titles": "Research methods in education",
          "x": 4.671694755554199,
          "y": -22.170204162597656
         },
         {
          "surname": "Coleridge",
          "titles": "The ancient mariner, The rime of the ancient mariner, Kubla Khan, Biographia literaria,",
          "x": -22.748889923095703,
          "y": 15.146533012390137
         },
         {
          "surname": "Collins",
          "titles": "Good to great, The woman in white",
          "x": -14.15911865234375,
          "y": 13.093448638916016
         },
         {
          "surname": "Comer",
          "titles": "Internetworking with TCP/IP, Computer networks and internets",
          "x": 15.714920997619629,
          "y": -12.65720272064209
         },
         {
          "surname": "Confucius",
          "titles": "The Analects",
          "x": 13.35059928894043,
          "y": 11.079864501953125
         },
         {
          "surname": "Connell",
          "titles": "Masculinities",
          "x": 22.88725471496582,
          "y": -2.550452709197998
         },
         {
          "surname": "Conrad",
          "titles": "Typhoon, Heart of darkness",
          "x": -28.378095626831055,
          "y": 14.125707626342773
         },
         {
          "surname": "Cooper",
          "titles": "The last of the Mohicans.",
          "x": -2.775834321975708,
          "y": 17.263490676879883
         },
         {
          "surname": "Corey",
          "titles": "Theory and practice of counseling and psychotherapy, Groups, process and practice",
          "x": -6.238917827606201,
          "y": -15.370833396911621
         },
         {
          "surname": "Cormen",
          "titles": "Introduction to algorithms",
          "x": 10.202157020568848,
          "y": -14.359071731567383
         },
         {
          "surname": "Corrigan",
          "titles": "A short guide to writing about film",
          "x": -3.7153494358062744,
          "y": 2.5555930137634277
         },
         {
          "surname": "Cottrell",
          "titles": "Critical thinking skills : developing effective analysis and argument",
          "x": -4.450916290283203,
          "y": -15.049256324768066
         },
         {
          "surname": "Cozby",
          "titles": "Methods in behavioral research",
          "x": -9.004925727844238,
          "y": -20.172229766845703
         },
         {
          "surname": "Crane",
          "titles": "Maggie, a girl of the streets., The open boat, The red badge of courage,",
          "x": -4.305232048034668,
          "y": 24.345983505249023
         },
         {
          "surname": "Creme",
          "titles": "Writing at university : a guide for students",
          "x": 2.628303050994873,
          "y": -19.900957107543945
         },
         {
          "surname": "Creswell",
          "titles": "Research design : qualitative & quantitative approaches, Research design : qualitative, quantitative, and mixed methods approaches",
          "x": 6.878232479095459,
          "y": -2.2658562660217285
         },
         {
          "surname": "Cronon",
          "titles": "Changes in the land : Indians, colonists, and the ecology of New England",
          "x": 0.9258174896240234,
          "y": -3.534294843673706
         },
         {
          "surname": "Crystal",
          "titles": "The Cambridge encyclopedia of language, The English language",
          "x": -6.505440711975098,
          "y": 5.580217361450195
         },
         {
          "surname": "Current",
          "titles": "United States history",
          "x": -9.347167015075684,
          "y": -15.176010131835938
         },
         {
          "surname": "Cutnell",
          "titles": "Physics",
          "x": 13.110942840576172,
          "y": -17.224313735961914
         },
         {
          "surname": "Dangarembga",
          "titles": "Nervous conditions",
          "x": -7.555644989013672,
          "y": 9.312652587890625
         },
         {
          "surname": "Dante alighieri",
          "titles": "The divine comedy;, The comedy, Inferno.",
          "x": -15.501235008239746,
          "y": 0.4823414087295532
         },
         {
          "surname": "Darwin",
          "titles": "On the origin of species, The descent of man., Origin of species.",
          "x": 12.602534294128418,
          "y": 17.718795776367188
         },
         {
          "surname": "Date",
          "titles": "An introduction to database systems",
          "x": 14.043227195739746,
          "y": -12.57924747467041
         },
         {
          "surname": "Davis",
          "titles": "Tools for teaching, Life in the iron mills, City of quartz : excavating the future in Los Angeles, The return of Martin Guerre",
          "x": -1.1932671070098877,
          "y": 18.18558120727539
         },
         {
          "surname": "Dawkins",
          "titles": "The selfish gene",
          "x": 10.790446281433105,
          "y": 7.991730213165283
         },
         {
          "surname": "De tocqueville",
          "titles": "Democracy in America",
          "x": 11.239412307739258,
          "y": 20.95393180847168
         },
         {
          "surname": "Debord",
          "titles": "Society of the spectacle",
          "x": 28.50456428527832,
          "y": 3.985628366470337
         },
         {
          "surname": "Defoe",
          "titles": "Robinson;, Moll Flanders, Robinson Crusoe.",
          "x": -18.93321990966797,
          "y": 17.19426727294922
         },
         {
          "surname": "Deitel",
          "titles": "Java : how to program, Java., C : how to program",
          "x": 17.00787353515625,
          "y": -9.325087547302246
         },
         {
          "surname": "Deleuze",
          "titles": "Foucault",
          "x": 29.09605598449707,
          "y": 2.330899715423584
         },
         {
          "surname": "Delillo",
          "titles": "White noise",
          "x": -9.002394676208496,
          "y": 19.622011184692383
         },
         {
          "surname": "Denscombe",
          "titles": "The good research guide : for small-scale social research projects",
          "x": 5.9817938804626465,
          "y": -23.007476806640625
         },
         {
          "surname": "Descartes",
          "titles": "Discourse on method and Meditations on first philosophy, Discourse on method ; and, Meditations, Discourse on method, Meditations on first philosophy",
          "x": 16.730907440185547,
          "y": 16.80106544494629
         },
         {
          "surname": "Dewey",
          "titles": "William James, Democracy and education, Experience and education",
          "x": 9.64704704284668,
          "y": 12.551281929016113
         },
         {
          "surname": "Dexter",
          "titles": "Paris Trout, Brotherly love",
          "x": -49.88504409790039,
          "y": -6.114598274230957
         },
         {
          "surname": "Diamond",
          "titles": "Guns, germs, and steel : the fates of human societies",
          "x": 18.45026206970215,
          "y": 0.5992371439933777
         },
         {
          "surname": "Dick",
          "titles": "Do androids dream of electric sheep?",
          "x": -7.091102600097656,
          "y": 8.404058456420898
         },
         {
          "surname": "Dickens",
          "titles": "Bleak house,, A Christmas carol., A tale of two cities., Great expectations,, Hard times., Oliver Twist., David Copperfield.",
          "x": -25.430097579956055,
          "y": 16.482858657836914
         },
         {
          "surname": "Dickinson",
          "titles": "Selected poems.",
          "x": -2.410421848297119,
          "y": 16.308019638061523
         },
         {
          "surname": "Doctorow",
          "titles": "Ragtime",
          "x": -52.86716842651367,
          "y": -7.061962604522705
         },
         {
          "surname": "Doyle",
          "titles": "Liberalism and World Politics, Sherlock Holmes",
          "x": -12.050593376159668,
          "y": 9.562253952026367
         },
         {
          "surname": "Dreiser",
          "titles": "Sister Carrie",
          "x": -6.870662689208984,
          "y": 20.186819076538086
         },
         {
          "surname": "Drucker",
          "titles": "Management",
          "x": 6.0680155754089355,
          "y": -8.747503280639648
         },
         {
          "surname": "Du bois",
          "titles": "The souls of Black folk.",
          "x": 0.38977351784706116,
          "y": 16.567686080932617
         },
         {
          "surname": "Due",
          "titles": "Project Evaluation",
          "x": 0.7130442261695862,
          "y": -10.952855110168457
         },
         {
          "surname": "Dumas",
          "titles": "Monte Cristo, The count of Monte-Cristo.",
          "x": -50.81449508666992,
          "y": -6.150694847106934
         },
         {
          "surname": "Durkheim",
          "titles": "The elementary forms of religious life, The division of labor in society., Suicide., The rules of sociological method.",
          "x": 30.335201263427734,
          "y": 11.803071022033691
         },
         {
          "surname": "Eagleton",
          "titles": "Literary theory : an introduction",
          "x": 30.362165451049805,
          "y": 0.7181432247161865
         },
         {
          "surname": "Eckel",
          "titles": "Thinking in Java",
          "x": -0.8343586921691895,
          "y": -20.419742584228516
         },
         {
          "surname": "Edwards",
          "titles": "Sinners in the hands of an angry God.",
          "x": 0.8807248473167419,
          "y": 21.329309463500977
         },
         {
          "surname": "Ehrenreich",
          "titles": "Nickel and dimed : on (not) getting by in America",
          "x": 20.604393005371094,
          "y": 1.0712308883666992
         },
         {
          "surname": "Eisenstein",
          "titles": "The battleship Potemkin",
          "x": 5.694803237915039,
          "y": -19.1390438079834
         },
         {
          "surname": "Eliot",
          "titles": "Ezra Pound., The waste land., The love song of J. Alfred Prufrock., Middlemarch., Tradition and the Individual Talent, The mill on the Floss, Virginia Woolf., Silas Marner,",
          "x": -25.840946197509766,
          "y": 16.872037887573242
         },
         {
          "surname": "Ellis",
          "titles": "His Excellency : George Washington",
          "x": -49.16448974609375,
          "y": -6.557323932647705
         },
         {
          "surname": "Ellison",
          "titles": "Invisible man",
          "x": -6.354075908660889,
          "y": 24.656435012817383
         },
         {
          "surname": "Elmasri",
          "titles": "Fundamentals of database systems",
          "x": 15.484001159667969,
          "y": -12.200423240661621
         },
         {
          "surname": "Emerson",
          "titles": "The American scholar, Self reliance, Nature",
          "x": 1.215428352355957,
          "y": 25.407299041748047
         },
         {
          "surname": "Engels",
          "titles": "The condition of the working class in England, On Marx",
          "x": 25.867708206176758,
          "y": 12.17873764038086
         },
         {
          "surname": "England",
          "titles": "THE SIXTEENTH CENTURY",
          "x": -7.6283392906188965,
          "y": -2.94140887260437
         },
         {
          "surname": "English",
          "titles": "Contemporary Literature",
          "x": -8.98291015625,
          "y": 7.891831874847412
         },
         {
          "surname": "Erasmus",
          "titles": "The praise of folly",
          "x": -10.790133476257324,
          "y": 0.29225602746009827
         },
         {
          "surname": "Erdrich",
          "titles": "Love medicine",
          "x": -6.67160177230835,
          "y": 16.078716278076172
         },
         {
          "surname": "Esping-andersen",
          "titles": "The three worlds of capitalism, The three worlds of welfare capitalism",
          "x": 17.628814697265625,
          "y": -0.004522750154137611
         },
         {
          "surname": "Euripides",
          "titles": "The Bacchae, Alcestis;, Trojan women, Hippolytus., Medea.",
          "x": -21.446250915527344,
          "y": -1.2524635791778564
         },
         {
          "surname": "Faigley",
          "titles": "The Penguin handbook",
          "x": 5.1089019775390625,
          "y": -6.400798797607422
         },
         {
          "surname": "Fanon",
          "titles": "The wretched of the earth, Black skin, white masks",
          "x": 29.34482765197754,
          "y": 10.023873329162598
         },
         {
          "surname": "Faulkner",
          "titles": "Absalom, Absalom!, Light in August., As I lay dying, A rose for Emily,, The sound and the fury",
          "x": -5.431425094604492,
          "y": 27.070770263671875
         },
         {
          "surname": "Federal reserve bank of minneapolis",
          "titles": "Quarterly review",
          "x": -8.562777519226074,
          "y": -21.045652389526367
         },
         {
          "surname": "Field",
          "titles": "Reading and Writing, Discovering statistics using R, Archaeology in the U.S.S.R.",
          "x": -1.4921153783798218,
          "y": 0.016541415825486183
         },
         {
          "surname": "Fielding",
          "titles": "Joseph Andrews., Tom Jones.",
          "x": -17.626646041870117,
          "y": 16.83607292175293
         },
         {
          "surname": "Fisher",
          "titles": "Getting to yes : negotiating agreement without giving in, Getting to yes",
          "x": 6.937471866607666,
          "y": -3.9727847576141357
         },
         {
          "surname": "Fitzgerald",
          "titles": "The great Gatsby",
          "x": -5.7667317390441895,
          "y": 25.849987030029297
         },
         {
          "surname": "Flanagan",
          "titles": "Java in a nutshell",
          "x": 6.185296535491943,
          "y": -12.479337692260742
         },
         {
          "surname": "Flaubert",
          "titles": "Madame Bovary",
          "x": -13.843140602111816,
          "y": 17.27298927307129
         },
         {
          "surname": "Forster",
          "titles": "A passage to India",
          "x": -15.877371788024902,
          "y": 16.736783981323242
         },
         {
          "surname": "Foucault",
          "titles": "Power, Discipline and punish : the birth of the prison, The history of sexuality",
          "x": 32.005611419677734,
          "y": 12.459622383117676
         },
         {
          "surname": "Fowler",
          "titles": "The Little, Brown handbook",
          "x": 2.243478775024414,
          "y": -8.208806991577148
         },
         {
          "surname": "Franklin",
          "titles": "Autobiography.",
          "x": 0.8582637906074524,
          "y": 24.02504539489746
         },
         {
          "surname": "Freire",
          "titles": "Pedagogy of the oppressed",
          "x": 27.545743942260742,
          "y": 0.11222562938928604
         },
         {
          "surname": "French",
          "titles": "Writing and Reading",
          "x": -2.060870885848999,
          "y": -10.879779815673828
         },
         {
          "surname": "Freud",
          "titles": "The interpretation of dreams, The unconscious, The uncanny, Civilization and its discontents.",
          "x": 30.189075469970703,
          "y": 12.533097267150879
         },
         {
          "surname": "Friedan",
          "titles": "The feminine mystique",
          "x": 1.26613187789917,
          "y": 15.514098167419434
         },
         {
          "surname": "Friedman",
          "titles": "The Lexus and the olive tree, Capitalism and freedom.",
          "x": 22.464599609375,
          "y": 10.67155647277832
         },
         {
          "surname": "Fromkin",
          "titles": "An introduction to language",
          "x": -4.498749256134033,
          "y": 3.0034422874450684
         },
         {
          "surname": "Fukuyama",
          "titles": "The end of history and the last man, The End of History?",
          "x": 22.702892303466797,
          "y": 10.534279823303223
         },
         {
          "surname": "Fussell",
          "titles": "The Great War and modern memory",
          "x": -4.498799800872803,
          "y": 4.650960445404053
         },
         {
          "surname": "Gaddis",
          "titles": "Starting out with C++ : from control structures through objects",
          "x": -9.043365478515625,
          "y": -22.49399757385254
         },
         {
          "surname": "Gandhi",
          "titles": "Rajiv",
          "x": 8.235923767089844,
          "y": 8.859511375427246
         },
         {
          "surname": "Garrels",
          "titles": "Naked in Baghdad",
          "x": -49.108848571777344,
          "y": -9.187169075012207
         },
         {
          "surname": "Garrett",
          "titles": "Biochemistry",
          "x": -2.471916913986206,
          "y": -19.18132209777832
         },
         {
          "surname": "Garrison",
          "titles": "Managerial accounting",
          "x": 3.5879812240600586,
          "y": -9.16854190826416
         },
         {
          "surname": "Geertz",
          "titles": "Deep Play: Notes on the Balinese Cockfight",
          "x": 23.874507904052734,
          "y": -0.7483016848564148
         },
         {
          "surname": "Gellner",
          "titles": "Nationalism, Nations and nationalism",
          "x": 23.095874786376953,
          "y": 7.226546764373779
         },
         {
          "surname": "Gibaldi",
          "titles": "MLA handbook for writers of research papers",
          "x": 8.254471778869629,
          "y": 0.7242958545684814
         },
         {
          "surname": "Gibbon",
          "titles": "Decline and Fall, The decline and fall of the Roman Empire",
          "x": -11.315730094909668,
          "y": 0.36270228028297424
         },
         {
          "surname": "Gibson",
          "titles": "Neuromancer",
          "x": -9.470356941223145,
          "y": 15.408016204833984
         },
         {
          "surname": "Giddens",
          "titles": "Sociology, The consequences of modernity",
          "x": 29.637821197509766,
          "y": 8.574973106384277
         },
         {
          "surname": "Gilbert",
          "titles": "Developmental biology",
          "x": -0.23016196489334106,
          "y": -13.711921691894531
         },
         {
          "surname": "Gilman",
          "titles": "The yellow wallpaper., Herland, The yellow wall paper",
          "x": -3.9522478580474854,
          "y": 25.155569076538086
         },
         {
          "surname": "Gilpin",
          "titles": "The political economy of international relations",
          "x": 17.26017951965332,
          "y": 1.7930864095687866
         },
         {
          "surname": "Gilroy",
          "titles": "The black Atlantic : modernity and double consciousness",
          "x": 25.70769691467285,
          "y": 0.03230674937367439
         },
         {
          "surname": "Glaspell",
          "titles": "Trifles.",
          "x": -4.115659713745117,
          "y": 17.29155921936035
         },
         {
          "surname": "Goethe",
          "titles": "Werther,, Faust",
          "x": 6.277441501617432,
          "y": 17.60248374938965
         },
         {
          "surname": "Goffman",
          "titles": "The presentation of self in everyday life.",
          "x": 29.37995147705078,
          "y": 8.061649322509766
         },
         {
          "surname": "Golding",
          "titles": "Lord of the flies.",
          "x": -11.976845741271973,
          "y": 15.913684844970703
         },
         {
          "surname": "Goldstein",
          "titles": "International relations, Classical mechanics.",
          "x": 10.667537689208984,
          "y": -7.776671409606934
         },
         {
          "surname": "Goleman",
          "titles": "Emotional intelligence",
          "x": 2.4892349243164062,
          "y": -14.452865600585938
         },
         {
          "surname": "Gonzalez",
          "titles": "Digital image processing",
          "x": 14.2481050491333,
          "y": -14.120829582214355
         },
         {
          "surname": "Gould",
          "titles": "The mismeasure of man",
          "x": 17.662084579467773,
          "y": 1.1994242668151855
         },
         {
          "surname": "Gramsci",
          "titles": "From the 'Prison Notebooks', Prison notebooks",
          "x": 28.72062110900879,
          "y": 7.549288749694824
         },
         {
          "surname": "Granovetter",
          "titles": "The Strength of Weak Ties",
          "x": 17.633033752441406,
          "y": -3.287810802459717
         },
         {
          "surname": "Grant",
          "titles": "Contemporary strategy analysis",
          "x": -2.620579242706299,
          "y": -21.252126693725586
         },
         {
          "surname": "Great britain",
          "titles": "Chapter 17.",
          "x": -0.1793169230222702,
          "y": -23.566537857055664
         },
         {
          "surname": "Greene",
          "titles": "Econometric analysis",
          "x": 9.2138671875,
          "y": -10.497255325317383
         },
         {
          "surname": "Greenhalgh",
          "titles": "How to read a paper : the basics of evidence-based medicine",
          "x": -3.420440196990967,
          "y": -20.379825592041016
         },
         {
          "surname": "Griffiths",
          "titles": "Introduction to electrodynamics, Introduction to quantum mechanics",
          "x": 14.487127304077148,
          "y": -17.614215850830078
         },
         {
          "surname": "Grimm",
          "titles": "Fairy tales",
          "x": -8.903331756591797,
          "y": 5.619724273681641
         },
         {
          "surname": "Grove",
          "titles": "A dictionary of music and musicians (A.D. 1450-1889)",
          "x": -1.5020525455474854,
          "y": -12.145376205444336
         },
         {
          "surname": "Groves",
          "titles": "Academe",
          "x": -47.7640380859375,
          "y": -8.68688678741455
         },
         {
          "surname": "Gujarati",
          "titles": "Basic econometrics",
          "x": 9.688072204589844,
          "y": -11.088424682617188
         },
         {
          "surname": "Guyton",
          "titles": "Textbook of medical physiology",
          "x": -7.2321624755859375,
          "y": -18.953319549560547
         },
         {
          "surname": "Hacker",
          "titles": "A pocket style manual, Rules for writers, The Bedford handbook",
          "x": 4.604234218597412,
          "y": 6.16403865814209
         },
         {
          "surname": "Haddon",
          "titles": "The curious incident of the dog in the night-time",
          "x": -4.6979594230651855,
          "y": 6.657106876373291
         },
         {
          "surname": "Halliday",
          "titles": "Physics., Fundamentals of physics",
          "x": 0.9491516351699829,
          "y": 10.785174369812012
         },
         {
          "surname": "Hamilton",
          "titles": "Time series analysis, The federalist papers",
          "x": 15.114923477172852,
          "y": 12.966753005981445
         },
         {
          "surname": "Hammersley",
          "titles": "Ethnography : principles in practice",
          "x": 7.500671863555908,
          "y": -21.145517349243164
         },
         {
          "surname": "Handel",
          "titles": "The Messiah.",
          "x": -9.347424507141113,
          "y": -7.275063991546631
         },
         {
          "surname": "Handy",
          "titles": "Understanding organizations",
          "x": -1.056230068206787,
          "y": -14.607391357421875
         },
         {
          "surname": "Hansberry",
          "titles": "A raisin in the sun.",
          "x": -4.966587066650391,
          "y": 17.65530014038086
         },
         {
          "surname": "Hardin",
          "titles": "The tragedy of the commons.",
          "x": 15.14068603515625,
          "y": 6.6832146644592285
         },
         {
          "surname": "Hardt",
          "titles": "Empire",
          "x": 28.479827880859375,
          "y": 4.935871601104736
         },
         {
          "surname": "Hardy",
          "titles": "Jude the obscure.",
          "x": -14.834457397460938,
          "y": 14.125382423400879
         },
         {
          "surname": "Harris",
          "titles": "Quantitative chemical analysis",
          "x": -1.6832964420318604,
          "y": -19.700769424438477
         },
         {
          "surname": "Hart",
          "titles": "Doing a literature review : releasing the social science research imagination",
          "x": 6.557190418243408,
          "y": -22.155868530273438
         },
         {
          "surname": "Harvey",
          "titles": "A brief history of neoliberalism",
          "x": 24.76955795288086,
          "y": 2.492316722869873
         },
         {
          "surname": "Hawthorne",
          "titles": "The house of the seven gables., The scarlet letter., The birthmark, Young Goodman Brown",
          "x": 0.4940156042575836,
          "y": 26.283201217651367
         },
         {
          "surname": "Hayek",
          "titles": "The road to serfdom,",
          "x": 21.360227584838867,
          "y": 9.20764446258545
         },
         {
          "surname": "Hazzard",
          "titles": "The great fire",
          "x": -49.872840881347656,
          "y": -7.082616329193115
         },
         {
          "surname": "Hearn",
          "titles": "Computer graphics",
          "x": 13.610968589782715,
          "y": -12.596811294555664
         },
         {
          "surname": "Hebdige",
          "titles": "Subculture, the meaning of style",
          "x": 26.66253089904785,
          "y": 0.6230328679084778
         },
         {
          "surname": "Hecht",
          "titles": "Optics",
          "x": -4.236419200897217,
          "y": -25.300500869750977
         },
         {
          "surname": "Hegel",
          "titles": "The philosophy of history, Philosophy of right, Phenomenology of spirit",
          "x": 23.84808921813965,
          "y": 13.359260559082031
         },
         {
          "surname": "Heidegger",
          "titles": "Being and time, Hegel, Nietzsche",
          "x": 32.03987121582031,
          "y": 6.884838581085205
         },
         {
          "surname": "Held",
          "titles": "Globalization",
          "x": 23.704763412475586,
          "y": 4.115663528442383
         },
         {
          "surname": "Hemingway",
          "titles": "Short stories., The sun also rises., In our time, A farewell to arms.",
          "x": -6.458690643310547,
          "y": 25.422531127929688
         },
         {
          "surname": "Hennessy",
          "titles": "Computer architecture : a quantitative approach",
          "x": 9.487739562988281,
          "y": -15.282611846923828
         },
         {
          "surname": "Henry",
          "titles": "CIVIL WAR 2000",
          "x": 0.7235568165779114,
          "y": -2.059969425201416
         },
         {
          "surname": "Herodotus",
          "titles": "The histories, History;",
          "x": -18.54914665222168,
          "y": -1.6288912296295166
         },
         {
          "surname": "Herr",
          "titles": "Dispatches",
          "x": -4.986323356628418,
          "y": 7.844456195831299
         },
         {
          "surname": "Hersey",
          "titles": "Hiroshima.",
          "x": -2.1699905395507812,
          "y": 7.7267045974731445
         },
         {
          "surname": "Hesiod",
          "titles": "Works & days, Theogony; and, Works and days, Theogony, Works and days ; and Theogony",
          "x": -19.109846115112305,
          "y": -1.8238928318023682
         },
         {
          "surname": "Hesse",
          "titles": "Siddhartha",
          "x": -4.080118179321289,
          "y": 9.16434383392334
         },
         {
          "surname": "Heti",
          "titles": "Ticknor",
          "x": -48.918601989746094,
          "y": -8.234350204467773
         },
         {
          "surname": "Hewitt",
          "titles": "Conceptual physics",
          "x": 12.642621994018555,
          "y": -17.038232803344727
         },
         {
          "surname": "Hill",
          "titles": "International business : competing in the global marketplace",
          "x": -4.160768508911133,
          "y": -15.342531204223633
         },
         {
          "surname": "Hillier",
          "titles": "Introduction to operations research",
          "x": 8.220792770385742,
          "y": -13.455699920654297
         },
         {
          "surname": "Hitler",
          "titles": "Mein Kampf",
          "x": 23.071977615356445,
          "y": 12.330552101135254
         },
         {
          "surname": "Hobbes",
          "titles": "Leviathan",
          "x": 14.911001205444336,
          "y": 20.98902702331543
         },
         {
          "surname": "Hobson",
          "titles": "Imperialism.",
          "x": 21.18779182434082,
          "y": 7.9185709953308105
         },
         {
          "surname": "Hochschild",
          "titles": "The second shift",
          "x": 16.546932220458984,
          "y": -3.9878292083740234
         },
         {
          "surname": "Hoffman",
          "titles": "Inside terrorism",
          "x": 3.430002450942993,
          "y": -15.984435081481934
         },
         {
          "surname": "Holman",
          "titles": "A handbook to literature.",
          "x": -8.572380065917969,
          "y": 4.745556831359863
         },
         {
          "surname": "Homer",
          "titles": "Odyssey, books 1-12;, Iliad Odyssey., The Odyssey, The Iliad,",
          "x": -22.183149337768555,
          "y": -0.708576500415802
         },
         {
          "surname": "Hooks",
          "titles": "Transgress",
          "x": 9.650879859924316,
          "y": -18.40446662902832
         },
         {
          "surname": "Horace",
          "titles": "Odes.",
          "x": -15.296207427978516,
          "y": -0.543988049030304
         },
         {
          "surname": "Horkheimer",
          "titles": "Dialectic of enlightenment",
          "x": 29.473976135253906,
          "y": 6.040217876434326
         },
         {
          "surname": "Horowitz",
          "titles": "The art of electronics",
          "x": 8.139427185058594,
          "y": -14.321576118469238
         },
         {
          "surname": "Howell",
          "titles": "Statistical methods for psychology",
          "x": -3.3917150497436523,
          "y": -21.810884475708008
         },
         {
          "surname": "Huff",
          "titles": "How to lie with statistics.",
          "x": 7.732764720916748,
          "y": -5.97031307220459
         },
         {
          "surname": "Hughes",
          "titles": "The Negro speaks of rivers",
          "x": -3.314816951751709,
          "y": 14.722447395324707
         },
         {
          "surname": "Hull",
          "titles": "Options, futures, and other derivatives",
          "x": 10.519001007080078,
          "y": -10.97900390625
         },
         {
          "surname": "Hume",
          "titles": "Dialogues concerning natural religion., An enquiry concerning human understanding., A treatise of human nature",
          "x": 16.159400939941406,
          "y": 17.078718185424805
         },
         {
          "surname": "Huntington",
          "titles": "Political order in changing societies,, The clash of civilizations?, The clash of civilizations and the remaking of world order",
          "x": 27.094818115234375,
          "y": 11.433303833007812
         },
         {
          "surname": "Hurston",
          "titles": "Their eyes were watching God",
          "x": -6.661539077758789,
          "y": 24.762664794921875
         },
         {
          "surname": "Huxley",
          "titles": "Brave new world",
          "x": -13.456047058105469,
          "y": 18.78959083557129
         },
         {
          "surname": "Hwang",
          "titles": "M. Butterfly",
          "x": -4.774415493011475,
          "y": 11.550759315490723
         },
         {
          "surname": "Ibsen",
          "titles": "Hedda Gabler",
          "x": -12.098492622375488,
          "y": 6.658963203430176
         },
         {
          "surname": "Irving",
          "titles": "Rip Van Winkle",
          "x": 0.3072693943977356,
          "y": 22.39963722229004
         },
         {
          "surname": "Ishiguro",
          "titles": "The remains of the day",
          "x": -12.421409606933594,
          "y": 13.714288711547852
         },
         {
          "surname": "Jackson",
          "titles": "The lottery., Crabgrass frontier : the suburbanization of the United States, Classical electrodynamics, Gods in Alabama",
          "x": -54.22040557861328,
          "y": -8.378183364868164
         },
         {
          "surname": "Jacobs",
          "titles": "The death and life of great American cities, Incidents in the life of a slave girl",
          "x": -0.696420431137085,
          "y": 23.569150924682617
         },
         {
          "surname": "James",
          "titles": "The turn of the screw, Daisy Miller, The portrait of a lady, The will to believe :, Pragmatism, The principles of psychology,, The varieties of religious experience, American history",
          "x": -4.903016567230225,
          "y": 27.334468841552734
         },
         {
          "surname": "Jameson",
          "titles": "Postmodernism, or, The cultural logic of late capitalism",
          "x": 30.705608367919922,
          "y": 4.853263854980469
         },
         {
          "surname": "Jarvis",
          "titles": "Physical examination & health assessment",
          "x": -8.049519538879395,
          "y": -18.67670249938965
         },
         {
          "surname": "Jefferson",
          "titles": "GEORGE WASHINGTON, Notes on the state of Virginia., The Declaration of Independence",
          "x": 2.1845052242279053,
          "y": 24.26714324951172
         },
         {
          "surname": "Jervis",
          "titles": "Cooperation under the security dilemma",
          "x": 14.621868133544922,
          "y": 4.043568134307861
         },
         {
          "surname": "Johnson",
          "titles": "Exploring corporate strategy",
          "x": 0.4518401026725769,
          "y": -19.624937057495117
         },
         {
          "surname": "Jones",
          "titles": "The known world",
          "x": -51.3317756652832,
          "y": -8.009244918823242
         },
         {
          "surname": "Joyce",
          "titles": "Ulysses,, A portrait of the artist as a young man,, Dubliners.",
          "x": -23.642976760864258,
          "y": 17.100034713745117
         },
         {
          "surname": "Kafka",
          "titles": "The metamorphosis.",
          "x": -13.2055082321167,
          "y": 17.321063995361328
         },
         {
          "surname": "Kalat",
          "titles": "Biological psychology",
          "x": -0.4209437668323517,
          "y": -14.077269554138184
         },
         {
          "surname": "Kamien",
          "titles": "Music : an appreciation",
          "x": -9.73659896850586,
          "y": -10.708047866821289
         },
         {
          "surname": "Kant",
          "titles": "Critique of pure reason., Perpetual peace., Critique of judgment, The metaphysics of morals",
          "x": 16.287338256835938,
          "y": 18.90602684020996
         },
         {
          "surname": "Kaplan",
          "titles": "The Coming Anarchy",
          "x": 17.958642959594727,
          "y": 2.6951775550842285
         },
         {
          "surname": "Keats",
          "titles": "Ode to a nightingale, Ode on a Grecian urn :",
          "x": -20.74811363220215,
          "y": 14.453815460205078
         },
         {
          "surname": "Keck",
          "titles": "Activists beyond borders : advocacy networks in international politics",
          "x": 15.527247428894043,
          "y": -0.019366823136806488
         },
         {
          "surname": "Keegan",
          "titles": "World War I, The First World War",
          "x": -51.60216522216797,
          "y": -9.724239349365234
         },
         {
          "surname": "Keller",
          "titles": "Statistics for management and economics",
          "x": -9.754386901855469,
          "y": -21.493091583251953
         },
         {
          "surname": "Kennedy",
          "titles": "A guide to econometrics",
          "x": -5.552592754364014,
          "y": -21.37271499633789
         },
         {
          "surname": "Keohane",
          "titles": "Power and interdependence",
          "x": 15.535292625427246,
          "y": 3.642341375350952
         },
         {
          "surname": "Kernighan",
          "titles": "The C programming language",
          "x": 7.748538494110107,
          "y": -12.489855766296387
         },
         {
          "surname": "Kerouac",
          "titles": "On the road",
          "x": -7.417795181274414,
          "y": 19.45050811767578
         },
         {
          "surname": "Kershaw",
          "titles": "Hitler",
          "x": 14.680705070495605,
          "y": -3.9827067852020264
         },
         {
          "surname": "Keynes",
          "titles": "The General Theory of Employment, The general theory of employment, interest and money",
          "x": 21.645729064941406,
          "y": 7.829864501953125
         },
         {
          "surname": "Kidder",
          "titles": "The soul of a new machine",
          "x": -50.88287353515625,
          "y": -9.172284126281738
         },
         {
          "surname": "Kierkegaard",
          "titles": "Fear and trembling",
          "x": 11.727507591247559,
          "y": 10.079941749572754
         },
         {
          "surname": "Kieso",
          "titles": "Intermediate accounting",
          "x": 3.249378204345703,
          "y": -8.433697700500488
         },
         {
          "surname": "Kincaid",
          "titles": "A small place",
          "x": -3.9330573081970215,
          "y": 5.563709259033203
         },
         {
          "surname": "King",
          "titles": "I have a dream, Letter from the Birmingham jail",
          "x": 3.4843807220458984,
          "y": 22.996623992919922
         },
         {
          "surname": "Kingdon",
          "titles": "Agendas, alternatives, and public policies",
          "x": 6.284491539001465,
          "y": -5.341343879699707
         },
         {
          "surname": "Kissinger",
          "titles": "Diplomacy",
          "x": 14.130454063415527,
          "y": 2.9992830753326416
         },
         {
          "surname": "Kittel",
          "titles": "Introduction to solid state physics",
          "x": 13.912595748901367,
          "y": -17.246307373046875
         },
         {
          "surname": "Kneale",
          "titles": "English passengers",
          "x": -50.49151611328125,
          "y": -6.927772045135498
         },
         {
          "surname": "Kolb",
          "titles": "Experiential learning : experience as the source of learning and development",
          "x": -7.644834995269775,
          "y": -22.559783935546875
         },
         {
          "surname": "Korth",
          "titles": "Database system concepts",
          "x": 13.835577964782715,
          "y": -13.640168190002441
         },
         {
          "surname": "Kotler",
          "titles": "Marketing management, Principles of marketing",
          "x": 9.663137435913086,
          "y": -3.9763967990875244
         },
         {
          "surname": "Kotter",
          "titles": "Leading change",
          "x": -7.906299114227295,
          "y": -15.161947250366211
         },
         {
          "surname": "Kouzes",
          "titles": "The leadership challenge",
          "x": 2.739206075668335,
          "y": -10.569549560546875
         },
         {
          "surname": "Krasner",
          "titles": "Sovereignty",
          "x": 15.551570892333984,
          "y": 1.0835572481155396
         },
         {
          "surname": "Kreyszig",
          "titles": "Advanced engineering mathematics",
          "x": 14.588915824890137,
          "y": -14.239392280578613
         },
         {
          "surname": "Kripke",
          "titles": "Naming and necessity",
          "x": 9.12079906463623,
          "y": 8.99209213256836
         },
         {
          "surname": "Krugman",
          "titles": "Economics, International economics : theory and policy",
          "x": 20.585086822509766,
          "y": 1.3926644325256348
         },
         {
          "surname": "Kuhn",
          "titles": "The structure of scientific revolutions",
          "x": 28.27770233154297,
          "y": 10.208009719848633
         },
         {
          "surname": "Kurose",
          "titles": "Computer networking : a top-down approach",
          "x": 12.176180839538574,
          "y": -13.816981315612793
         },
         {
          "surname": "Kushner",
          "titles": "Angels in America",
          "x": -4.595001697540283,
          "y": 11.537118911743164
         },
         {
          "surname": "Ladefoged",
          "titles": "A course in phonetics",
          "x": -10.567618370056152,
          "y": -26.369216918945312
         },
         {
          "surname": "Lahiri",
          "titles": "Interpreter of Maladies",
          "x": -5.485406875610352,
          "y": 9.195755004882812
         },
         {
          "surname": "Lakoff",
          "titles": "Metaphors we live by",
          "x": -1.2118467092514038,
          "y": 2.568152904510498
         },
         {
          "surname": "Landau",
          "titles": "Mechanics",
          "x": -4.529574394226074,
          "y": -25.12527084350586
         },
         {
          "surname": "Landow",
          "titles": "Hypertext 2.0",
          "x": -0.8512145280838013,
          "y": 3.292052745819092
         },
         {
          "surname": "Lannon",
          "titles": "Technical communication",
          "x": -3.1922388076782227,
          "y": -16.93800163269043
         },
         {
          "surname": "Larsen",
          "titles": "Passing., Quicksand",
          "x": -7.979000091552734,
          "y": 20.662715911865234
         },
         {
          "surname": "Lay",
          "titles": "Linear algebra and its applications",
          "x": -5.927858829498291,
          "y": -19.0853271484375
         },
         {
          "surname": "Lee",
          "titles": "To kill a mockingbird",
          "x": -8.154711723327637,
          "y": 18.771419525146484
         },
         {
          "surname": "Lehne",
          "titles": "Pharmacology for nursing care",
          "x": -8.191959381103516,
          "y": -19.69301986694336
         },
         {
          "surname": "Lehninger",
          "titles": "Principles of biochemistry",
          "x": 4.6857380867004395,
          "y": -12.287555694580078
         },
         {
          "surname": "Lenin",
          "titles": "What is to be done?, The Russian revolution,",
          "x": 24.57101058959961,
          "y": 11.254880905151367
         },
         {
          "surname": "Lessig",
          "titles": "Code and other laws of cyberspace",
          "x": 5.433039665222168,
          "y": -15.806609153747559
         },
         {
          "surname": "Levi",
          "titles": "Auschwitz",
          "x": -6.075300216674805,
          "y": 4.057071685791016
         },
         {
          "surname": "Levy",
          "titles": "Small island",
          "x": -50.60075759887695,
          "y": -7.655551433563232
         },
         {
          "surname": "Lewicki",
          "titles": "Negotiation",
          "x": -4.176884651184082,
          "y": -16.31502914428711
         },
         {
          "surname": "Lewin",
          "titles": "Genes",
          "x": -15.418313026428223,
          "y": 21.804149627685547
         },
         {
          "surname": "Lewis",
          "titles": "Mere Christianity",
          "x": -2.6515238285064697,
          "y": -6.695217609405518
         },
         {
          "surname": "Lightbown",
          "titles": "How languages are learned",
          "x": -10.585226058959961,
          "y": -26.401243209838867
         },
         {
          "surname": "Lincoln",
          "titles": "The Gettysburg address, The Emancipation Proclamation",
          "x": 1.2808408737182617,
          "y": 20.953086853027344
         },
         {
          "surname": "Lindblom",
          "titles": "The Science of \"Muddling Through\"",
          "x": 6.243997097015381,
          "y": -4.918698310852051
         },
         {
          "surname": "Liszt",
          "titles": "F. Chopin,",
          "x": -9.705824851989746,
          "y": -9.464343070983887
         },
         {
          "surname": "Livy",
          "titles": "The history of Rome",
          "x": -13.49914264678955,
          "y": -0.5544430613517761
         },
         {
          "surname": "Locke",
          "titles": "Two treatises of government, An essay concerning human understanding, The new Negro, Second treatise of government, A letter concerning toleration",
          "x": 14.936559677124023,
          "y": 21.05088996887207
         },
         {
          "surname": "Long",
          "titles": "hair, hair",
          "x": -11.93624496459961,
          "y": -19.322511672973633
         },
         {
          "surname": "Lovins",
          "titles": "Natural capitalism",
          "x": 3.337860345840454,
          "y": -17.159225463867188
         },
         {
          "surname": "Lowry",
          "titles": "The giver",
          "x": -5.978470325469971,
          "y": 6.902615070343018
         },
         {
          "surname": "Lucas",
          "titles": "The art of public speaking",
          "x": 2.5207228660583496,
          "y": -8.50387191772461
         },
         {
          "surname": "Lukes",
          "titles": "Power : a radical view",
          "x": 23.911571502685547,
          "y": 4.627997398376465
         },
         {
          "surname": "Lunsford",
          "titles": "The everyday writer",
          "x": -3.688720226287842,
          "y": 1.8392468690872192
         },
         {
          "surname": "Lynch",
          "titles": "The image of the city",
          "x": 0.7930625677108765,
          "y": -4.70901346206665
         },
         {
          "surname": "Lyotard",
          "titles": "The postmodern condition : a report on knowledge",
          "x": 28.58576011657715,
          "y": 3.007763147354126
         },
         {
          "surname": "Machiavelli",
          "titles": "The prince, The discourses.",
          "x": 13.61534595489502,
          "y": 20.844968795776367
         },
         {
          "surname": "Madigan",
          "titles": "Brock biology of microorganisms",
          "x": -5.589802265167236,
          "y": -17.28846549987793
         },
         {
          "surname": "Mahler",
          "titles": "Symphony no. 8",
          "x": -8.877344131469727,
          "y": -9.455365180969238
         },
         {
          "surname": "Maimon",
          "titles": "The McGraw-Hill handbook",
          "x": -9.956196784973145,
          "y": -14.893318176269531
         },
         {
          "surname": "Malthus",
          "titles": "On population., An essay on the principle of population, An essay on population",
          "x": 23.55735206604004,
          "y": 11.593225479125977
         },
         {
          "surname": "Mankiw",
          "titles": "Principles of microeconomics, Macroeconomics, Principles of economics, Principles of Macroeconomics",
          "x": 9.635226249694824,
          "y": -1.645521879196167
         },
         {
          "surname": "Manovich",
          "titles": "The language of new media",
          "x": 24.088022232055664,
          "y": -2.1223127841949463
         },
         {
          "surname": "Marcus aurelius",
          "titles": "The Meditations",
          "x": -13.503135681152344,
          "y": 0.861763596534729
         },
         {
          "surname": "Marie",
          "titles": "Lais",
          "x": -11.979720115661621,
          "y": 5.929049491882324
         },
         {
          "surname": "Marieb",
          "titles": "Human anatomy & physiology, Human anatomy",
          "x": 6.896352767944336,
          "y": -11.149248123168945
         },
         {
          "surname": "Marius",
          "titles": "A short guide to writing about history",
          "x": 8.99853801727295,
          "y": -1.7393293380737305
         },
         {
          "surname": "Marlowe",
          "titles": "Doctor Faustus., Dr. Faustus.",
          "x": -17.94348907470703,
          "y": 10.000462532043457
         },
         {
          "surname": "Martin",
          "titles": "Twentieth Century",
          "x": -3.8096261024475098,
          "y": -3.0686302185058594
         },
         {
          "surname": "Martini",
          "titles": "Fundamentals of anatomy and physiology",
          "x": -0.11612031608819962,
          "y": -16.884618759155273
         },
         {
          "surname": "Marvell",
          "titles": "To his coy mistress.",
          "x": -16.864553451538086,
          "y": 10.129809379577637
         },
         {
          "surname": "Marx",
          "titles": "Selected writings, The German ideology, Manifesto of the Communist party,, Capital,, The Communist manifesto",
          "x": 32.27718734741211,
          "y": 13.101493835449219
         },
         {
          "surname": "Mas-colell",
          "titles": "Microeconomic theory",
          "x": -4.328697204589844,
          "y": -23.912548065185547
         },
         {
          "surname": "Mayhew",
          "titles": "Congress : the electoral connection",
          "x": 12.18596363067627,
          "y": 3.357393264770508
         },
         {
          "surname": "Mccloud",
          "titles": "Understanding comics",
          "x": -52.36397933959961,
          "y": -9.154031753540039
         },
         {
          "surname": "Mccullers",
          "titles": "The heart is a lonely hunter,",
          "x": -52.81070327758789,
          "y": -7.877322196960449
         },
         {
          "surname": "Mcgahan",
          "titles": "The white earth",
          "x": -49.76847457885742,
          "y": -9.780488967895508
         },
         {
          "surname": "Mclellan",
          "titles": "Karl Marx, Marx",
          "x": 25.67068862915039,
          "y": 10.854866027832031
         },
         {
          "surname": "Mcluhan",
          "titles": "Understanding media, Understanding media : the extensions of man",
          "x": 26.905359268188477,
          "y": -0.3982549011707306
         },
         {
          "surname": "Mcmillan",
          "titles": "Writing papers in the biological sciences",
          "x": -3.8634192943573,
          "y": -16.059438705444336
         },
         {
          "surname": "Mcmurry",
          "titles": "Organic chemistry",
          "x": 4.2482805252075195,
          "y": -9.359601020812988
         },
         {
          "surname": "Mcphee",
          "titles": "Looking for a ship, Encounters with the archdruid",
          "x": -50.713623046875,
          "y": -8.398662567138672
         },
         {
          "surname": "Mearsheimer",
          "titles": "The false promise of international institutions, The tragedy of great power politics",
          "x": 15.972722053527832,
          "y": 5.145958423614502
         },
         {
          "surname": "Meggs",
          "titles": "A history of graphic design",
          "x": -4.662535190582275,
          "y": -18.410884857177734
         },
         {
          "surname": "Melville",
          "titles": "Billy Budd;, Bartleby, the scrivener, Moby Dick,, Bartleby ;, Benito Cereno",
          "x": 0.6185967326164246,
          "y": 26.30398178100586
         },
         {
          "surname": "Mendelsohn",
          "titles": "The lost : a search for six of six million",
          "x": -50.06199645996094,
          "y": -8.058812141418457
         },
         {
          "surname": "Merleau-ponty",
          "titles": "Phenomenology of perception",
          "x": 26.275535583496094,
          "y": -1.4560754299163818
         },
         {
          "surname": "Mill",
          "titles": "Utilitarianism, On liberty, The subjection of women",
          "x": 15.733238220214844,
          "y": 21.53261375427246
         },
         {
          "surname": "Miller",
          "titles": "Death of a salesman, The crucible",
          "x": -5.5606207847595215,
          "y": 23.08763885498047
         },
         {
          "surname": "Mills",
          "titles": "The sociological imagination., The power elite.",
          "x": 29.99427032470703,
          "y": 10.34078598022461
         },
         {
          "surname": "Milton",
          "titles": "Paradise lost. Books 1-2;, Areopagitica,, Paradise lost : book I, Paradise lost.",
          "x": -21.46919059753418,
          "y": 18.296367645263672
         },
         {
          "surname": "Miner",
          "titles": "Body Ritual among the Nacirema",
          "x": 23.574182510375977,
          "y": 0.9444687962532043
         },
         {
          "surname": "Mitchell",
          "titles": "Machine Learning",
          "x": 2.316317081451416,
          "y": -18.810930252075195
         },
         {
          "surname": "Moliere",
          "titles": "Tartuffe.",
          "x": -11.75002384185791,
          "y": -0.9666140079498291
         },
         {
          "surname": "Momaday",
          "titles": "The way to rainy mountain",
          "x": -1.463898777961731,
          "y": 13.043741226196289
         },
         {
          "surname": "Montesquieu",
          "titles": "The spirit of the laws;",
          "x": 15.272906303405762,
          "y": 14.100776672363281
         },
         {
          "surname": "Moody",
          "titles": "Coming of age in Mississippi.",
          "x": -1.0094833374023438,
          "y": 8.141066551208496
         },
         {
          "surname": "Moore",
          "titles": "Introduction to the practice of statistics, Watchmen, The basic practice of statistics",
          "x": -4.901713848114014,
          "y": 8.935781478881836
         },
         {
          "surname": "More",
          "titles": "Utopia",
          "x": 7.6349334716796875,
          "y": 17.17105484008789
         },
         {
          "surname": "Morgan",
          "titles": "Images of organization",
          "x": 8.315755844116211,
          "y": -18.897790908813477
         },
         {
          "surname": "Morrison",
          "titles": "Beloved, Song of Solomon, The bluest eye, Sula.",
          "x": -6.280528545379639,
          "y": 27.342885971069336
         },
         {
          "surname": "Mozart",
          "titles": "Piano concerto : K. 491., Don Giovanni, Symphony no. 28",
          "x": -9.368626594543457,
          "y": -6.106217861175537
         },
         {
          "surname": "Mullins",
          "titles": "Management and organisational behaviour",
          "x": 3.928595542907715,
          "y": -19.315706253051758
         },
         {
          "surname": "Myers",
          "titles": "Social psychology",
          "x": 3.5828075408935547,
          "y": -10.787007331848145
         },
         {
          "surname": "Nabokov",
          "titles": "Lolita",
          "x": -9.840866088867188,
          "y": 18.177978515625
         },
         {
          "surname": "Nagel",
          "titles": "What Is It Like to Be a Bat?",
          "x": 9.386530876159668,
          "y": 9.5277099609375
         },
         {
          "surname": "Negroponte",
          "titles": "Being digital",
          "x": 12.748723030090332,
          "y": -5.420167446136475
         },
         {
          "surname": "Nelson",
          "titles": "Lehninger principles of biochemistry",
          "x": 0.4583456814289093,
          "y": -18.461454391479492
         },
         {
          "surname": "New york (state)",
          "titles": "Laws ...",
          "x": -9.539729118347168,
          "y": -8.725676536560059
         },
         {
          "surname": "Nielsen",
          "titles": "Designing web usability",
          "x": 1.0659438371658325,
          "y": -19.099550247192383
         },
         {
          "surname": "Nietzsche",
          "titles": "On the genealogy of morals., Thus spoke Zarathustra, Beyond good and evil, The birth of tragedy, The genealogy of morals",
          "x": 23.97811508178711,
          "y": 14.159811973571777
         },
         {
          "surname": "Norman",
          "titles": "The design of everyday things",
          "x": 6.6616129875183105,
          "y": -17.661588668823242
         },
         {
          "surname": "North",
          "titles": "Institutions, institutional change and economic performance, Institutional and economic change",
          "x": 20.004716873168945,
          "y": 2.4597184658050537
         },
         {
          "surname": "Northouse",
          "titles": "Leadership : theory and practice",
          "x": -8.046197891235352,
          "y": -14.268023490905762
         },
         {
          "surname": "Nozick",
          "titles": "Anarchy, state, and utopia",
          "x": 14.413147926330566,
          "y": 13.520556449890137
         },
         {
          "surname": "Oppenheim",
          "titles": "Questionnaire design and attitude measurement, Questionnaire design, interviewing, and attitude measurement",
          "x": 4.6919450759887695,
          "y": -22.068294525146484
         },
         {
          "surname": "Orwell",
          "titles": "Animal farm, Nineteen eighty-four",
          "x": -12.674410820007324,
          "y": 17.850732803344727
         },
         {
          "surname": "Ostrom",
          "titles": "Governing the commons : the evolution of institutions for collective action",
          "x": 16.72694206237793,
          "y": -0.6581428647041321
         },
         {
          "surname": "Ottman",
          "titles": "Music for sight singing",
          "x": -7.350374698638916,
          "y": -17.921541213989258
         },
         {
          "surname": "Ovid",
          "titles": "Metamorphoses",
          "x": -19.2874698638916,
          "y": -1.9274318218231201
         },
         {
          "surname": "Paine",
          "titles": "Rights of man, Common sense.",
          "x": 10.69650936126709,
          "y": 21.180858612060547
         },
         {
          "surname": "Pater",
          "titles": "The Renaissance",
          "x": -15.158716201782227,
          "y": 11.751595497131348
         },
         {
          "surname": "Paton",
          "titles": "Cry, the beloved country",
          "x": -51.60478591918945,
          "y": -6.32345724105835
         },
         {
          "surname": "Patterson",
          "titles": "Computer organization and design : the hardware/software interface, Computer architecture : a quantitative approach",
          "x": 13.113373756408691,
          "y": -13.726195335388184
         },
         {
          "surname": "Patton",
          "titles": "Qualitative evaluation methods, Qualitative research & evaluation methods, Qualitative evaluation and research methods",
          "x": 6.343404293060303,
          "y": -21.794109344482422
         },
         {
          "surname": "Paul",
          "titles": "The New University",
          "x": 19.260719299316406,
          "y": 1.210340976715088
         },
         {
          "surname": "Pepys",
          "titles": "Diary.",
          "x": -13.689932823181152,
          "y": 8.320168495178223
         },
         {
          "surname": "Percy",
          "titles": "The moviegoer.",
          "x": -52.18267059326172,
          "y": -8.270666122436523
         },
         {
          "surname": "Peterson",
          "titles": "Computer networks : a systems approach",
          "x": 13.640555381774902,
          "y": -14.779681205749512
         },
         {
          "surname": "Petterson",
          "titles": "In the wake",
          "x": -48.70762252807617,
          "y": -7.327358722686768
         },
         {
          "surname": "Pindyck",
          "titles": "Microeconomics",
          "x": 1.665908932685852,
          "y": -15.290228843688965
         },
         {
          "surname": "Pinker",
          "titles": "The language instinct",
          "x": -6.842590808868408,
          "y": 5.546815395355225
         },
         {
          "surname": "Plath",
          "titles": "The bell jar.",
          "x": -7.635866165161133,
          "y": 17.444650650024414
         },
         {
          "surname": "Plato",
          "titles": "The apology and crito, Timaeus;, Protagoras, Five dialogues, Gorgias;, Republic, Crito;, Dialogues;, The apology of Socrates, Apology, Symposium, Phaedo, The trial and death of Socrates., Republic, Book X, The trial of Socrates, Phaedrus, Euthyphro",
          "x": 17.56010627746582,
          "y": 16.49393081665039
         },
         {
          "surname": "Poe",
          "titles": "The raven,, The cask of Amontillado, FALL OF THE HOUSE OF USHER, The purloined letter, The tell-tale heart",
          "x": 0.5450555682182312,
          "y": 24.73519515991211
         },
         {
          "surname": "Polanyi",
          "titles": "The great transformation",
          "x": 25.910945892333984,
          "y": 9.93472957611084
         },
         {
          "surname": "Pope",
          "titles": "An essay on man, The rape of the lock, An essay on criticism",
          "x": -21.31956672668457,
          "y": 15.485933303833008
         },
         {
          "surname": "Popper",
          "titles": "The logic of scientific discovery",
          "x": 11.11220932006836,
          "y": 9.038379669189453
         },
         {
          "surname": "Porter",
          "titles": "The competitive advantage of nations",
          "x": 3.770540714263916,
          "y": -15.761256217956543
         },
         {
          "surname": "Postman",
          "titles": "AMUSING OURSELVES TO DEATH",
          "x": -1.1905845403671265,
          "y": -5.944864749908447
         },
         {
          "surname": "Pound",
          "titles": "In a Station of the Metro",
          "x": -3.2776761054992676,
          "y": 13.68777084350586
         },
         {
          "surname": "Power",
          "titles": "Selected writings, 1877-1930.",
          "x": 30.0905818939209,
          "y": 6.477684497833252
         },
         {
          "surname": "Preece",
          "titles": "Human-computer interaction",
          "x": 1.083309292793274,
          "y": -17.527042388916016
         },
         {
          "surname": "Proakis",
          "titles": "Digital signal processing",
          "x": 11.259027481079102,
          "y": -14.857911109924316
         },
         {
          "surname": "Putnam",
          "titles": "Making democracy work : civic traditions in modern Italy, Bowling alone : the collapse and revival of American community, Diplomacy and Domestic Politics: The Logic of Two-Level Games",
          "x": 23.407569885253906,
          "y": 8.368269920349121
         },
         {
          "surname": "Pynchon",
          "titles": "The crying of lot 49",
          "x": -8.524195671081543,
          "y": 20.825363159179688
         },
         {
          "surname": "Rabelais",
          "titles": "Gargantua, Pantagruel.",
          "x": -12.115118980407715,
          "y": 0.6378772854804993
         },
         {
          "surname": "Rachels",
          "titles": "The elements of moral philosophy",
          "x": 10.250740051269531,
          "y": 10.436059951782227
         },
         {
          "surname": "Ramakrishnan",
          "titles": "Database management systems",
          "x": 13.043265342712402,
          "y": -14.446649551391602
         },
         {
          "surname": "Rampolla",
          "titles": "A pocket guide to writing in history",
          "x": 8.98675537109375,
          "y": -0.0723528191447258
         },
         {
          "surname": "Rawls",
          "titles": "Justice as Fairness, Political liberalism, A theory of justice",
          "x": 15.33481502532959,
          "y": 17.86116600036621
         },
         {
          "surname": "Ray",
          "titles": "Development economics",
          "x": -0.17709144949913025,
          "y": -21.623794555664062
         },
         {
          "surname": "Read",
          "titles": "Mark Twain and I,, [Poetry reading, North America",
          "x": -1.7403552532196045,
          "y": 12.92917251586914
         },
         {
          "surname": "Reading",
          "titles": "Artificial Intelligence",
          "x": -12.763056755065918,
          "y": -22.213558197021484
         },
         {
          "surname": "Rehnquist",
          "titles": "The Supreme Court",
          "x": -10.018141746520996,
          "y": -15.921055793762207
         },
         {
          "surname": "Remarque",
          "titles": "All quiet on the western front;",
          "x": -10.142870903015137,
          "y": 10.380791664123535
         },
         {
          "surname": "Renfrew",
          "titles": "Archaeology",
          "x": -2.8796660900115967,
          "y": -10.809985160827637
         },
         {
          "surname": "Rhys",
          "titles": "Wide Sargasso Sea",
          "x": -15.201204299926758,
          "y": 17.04008674621582
         },
         {
          "surname": "Rich",
          "titles": "Compulsory heterosexuality and lesbian existence, Artificial intelligence",
          "x": 24.871417999267578,
          "y": -1.0007429122924805
         },
         {
          "surname": "Ritzer",
          "titles": "The McDonaldization of society 5",
          "x": 26.586606979370117,
          "y": 3.8736448287963867
         },
         {
          "surname": "Robbins",
          "titles": "Organizational behavior",
          "x": 10.90616226196289,
          "y": -16.016481399536133
         },
         {
          "surname": "Rodrik",
          "titles": "Has globalization gone too far?",
          "x": 15.97240924835205,
          "y": -3.1868162155151367
         },
         {
          "surname": "Rogers",
          "titles": "Diffusion of innovations",
          "x": 3.871506690979004,
          "y": -15.289360046386719
         },
         {
          "surname": "Romer",
          "titles": "Advanced macroeconomics",
          "x": 9.208868026733398,
          "y": -11.601085662841797
         },
         {
          "surname": "Rosen",
          "titles": "Discrete mathematics and its applications, Public finance",
          "x": 8.628889083862305,
          "y": -7.538430213928223
         },
         {
          "surname": "Rosenhan",
          "titles": "On Being Sane in Insane Places",
          "x": 24.276653289794922,
          "y": 1.548701524734497
         },
         {
          "surname": "Rosenwasser",
          "titles": "Writing analytically",
          "x": 3.7438950538635254,
          "y": -7.128678321838379
         },
         {
          "surname": "Ross",
          "titles": "Corporate finance, Introduction to probability models, Fundamentals of corporate finance, A first course in probability",
          "x": 10.914297103881836,
          "y": -8.10830020904541
         },
         {
          "surname": "Rossetti",
          "titles": "Goblin market",
          "x": -18.984983444213867,
          "y": 13.263137817382812
         },
         {
          "surname": "Roth",
          "titles": "American pastoral",
          "x": -52.13105392456055,
          "y": -6.732656478881836
         },
         {
          "surname": "Rousseau",
          "titles": "The social contract;, On the social contract, Confessions, A discourse on inequality, Discourse on the origin of inequality",
          "x": 14.175312042236328,
          "y": 20.66933250427246
         },
         {
          "surname": "Rowson",
          "titles": "Charlotte Temple",
          "x": -1.953606367111206,
          "y": 15.6951322555542
         },
         {
          "surname": "Roy",
          "titles": "The god of small things",
          "x": -11.124491691589355,
          "y": 13.79166316986084
         },
         {
          "surname": "Rudestam",
          "titles": "Surviving your dissertation : a comprehensive guide to content and process",
          "x": -4.410017490386963,
          "y": -19.707706451416016
         },
         {
          "surname": "Rudin",
          "titles": "Principles of mathematical analysis.",
          "x": -8.209901809692383,
          "y": -23.089881896972656
         },
         {
          "surname": "Rushdie",
          "titles": "The satanic verses",
          "x": -7.603104114532471,
          "y": 9.98780632019043
         },
         {
          "surname": "Russell",
          "titles": "The problems of philosophy, Artificial intelligence : a modern approach",
          "x": 12.023776054382324,
          "y": 11.45682144165039
         },
         {
          "surname": "Russett",
          "titles": "The Democratic Peace",
          "x": 14.569409370422363,
          "y": 3.1629478931427
         },
         {
          "surname": "Said",
          "titles": "Culture and imperialism, Orientalism",
          "x": 31.444881439208984,
          "y": 11.751107215881348
         },
         {
          "surname": "Salinger",
          "titles": "The catcher in the rye",
          "x": -7.26579475402832,
          "y": 21.65509033203125
         },
         {
          "surname": "Salkind",
          "titles": "Statistics for people who (think they) hate statistics",
          "x": -5.537315845489502,
          "y": -17.007301330566406
         },
         {
          "surname": "Santrock",
          "titles": "Life-span development",
          "x": -1.274634838104248,
          "y": -17.17919158935547
         },
         {
          "surname": "Sargent",
          "titles": "Macroeconomic theory",
          "x": -9.325935363769531,
          "y": -19.339975357055664
         },
         {
          "surname": "Sartre",
          "titles": "Existentialism and humanism, MERLEAU-PONTY, Existentialism;",
          "x": 18.210914611816406,
          "y": 14.710028648376465
         },
         {
          "surname": "Satrapi",
          "titles": "Persepolis",
          "x": -3.285449981689453,
          "y": 4.353268623352051
         },
         {
          "surname": "Saussure",
          "titles": "Course in general linguistics",
          "x": 30.192245483398438,
          "y": 5.060996055603027
         },
         {
          "surname": "Schein",
          "titles": "Organizational culture and leadership",
          "x": 1.1357389688491821,
          "y": -16.068477630615234
         },
         {
          "surname": "Schelling",
          "titles": "The strategy of conflict.",
          "x": 14.002998352050781,
          "y": 3.6455647945404053
         },
         {
          "surname": "Schildt",
          "titles": "C++ : the complete reference",
          "x": 11.940606117248535,
          "y": -14.956316947937012
         },
         {
          "surname": "Schumpeter",
          "titles": "Capitalism, socialism, and democracy",
          "x": 22.466440200805664,
          "y": 8.918221473693848
         },
         {
          "surname": "Scott",
          "titles": "Gender: A Useful Category of Historical Analysis",
          "x": 24.34786605834961,
          "y": 0.5304127335548401
         },
         {
          "surname": "Sedgwick",
          "titles": "Epistemology of the closet",
          "x": 29.815319061279297,
          "y": 2.213744878768921
         },
         {
          "surname": "Sedra",
          "titles": "Microelectronic circuits",
          "x": 9.421631813049316,
          "y": -13.674291610717773
         },
         {
          "surname": "Serway",
          "titles": "Physics for scientists and engineers.",
          "x": 15.21875286102295,
          "y": -16.528043746948242
         },
         {
          "surname": "Shaara",
          "titles": "The killer angels",
          "x": 2.036963939666748,
          "y": -2.239583969116211
         },
         {
          "surname": "Shakespeare",
          "titles": "The complete works, Much ado about nothing., Macbeth, Twelfth night, Henry IV,, Richard III, Julius Caesar, Measure for measure,, Henry V, As you like it., King Lear., The merchant of Venice, The taming of the shrew,, Richard II, Hamlet, Othello., Midsummer N. Dream, Romeo and Juliet, The tempest",
          "x": -21.447845458984375,
          "y": 19.351882934570312
         },
         {
          "surname": "Sharp",
          "titles": "The management of a student research project",
          "x": 1.7379604578018188,
          "y": -19.70274543762207
         },
         {
          "surname": "Shaw",
          "titles": "PYGMALION",
          "x": -14.280755996704102,
          "y": 9.944496154785156
         },
         {
          "surname": "Shelley",
          "titles": "Ozymandias, Frankenstein",
          "x": -25.15566635131836,
          "y": 16.05175018310547
         },
         {
          "surname": "Silberschatz",
          "titles": "Operating system concepts, Database system concepts",
          "x": 16.962228775024414,
          "y": -10.566510200500488
         },
         {
          "surname": "Silko",
          "titles": "Ceremony",
          "x": -8.042531967163086,
          "y": 19.5524845123291
         },
         {
          "surname": "Silverman",
          "titles": "Doing qualitative research : a practical handbook",
          "x": 4.265225887298584,
          "y": -22.545621871948242
         },
         {
          "surname": "Silvestri",
          "titles": "Saunders Q & A review for NCLEX-RN",
          "x": -9.690441131591797,
          "y": -22.213598251342773
         },
         {
          "surname": "Sinclair",
          "titles": "The jungle",
          "x": -5.690685749053955,
          "y": 19.666221618652344
         },
         {
          "surname": "Singer",
          "titles": "Animal liberation, Famine, Affluence, and Morality",
          "x": 13.474006652832031,
          "y": 13.319745063781738
         },
         {
          "surname": "Sipser",
          "titles": "Introduction to the theory of computation",
          "x": -6.385231971740723,
          "y": -22.966026306152344
         },
         {
          "surname": "Skidmore",
          "titles": "Modern Latin America",
          "x": 5.403653621673584,
          "y": -14.554009437561035
         },
         {
          "surname": "Skoog",
          "titles": "Principles of instrumental analysis",
          "x": -7.055263042449951,
          "y": -16.741975784301758
         },
         {
          "surname": "Smith",
          "titles": "New Books, An inquiry into the nature and causes of the wealth of nations, Wealth of nations., The theory of moral sentiments, White teeth",
          "x": 12.95315933227539,
          "y": 19.732938766479492
         },
         {
          "surname": "Snow",
          "titles": "The two cultures",
          "x": -2.1115152835845947,
          "y": -2.2139124870300293
         },
         {
          "surname": "Sontag",
          "titles": "On photography",
          "x": -0.7563273906707764,
          "y": 4.823627471923828
         },
         {
          "surname": "Sophocles",
          "titles": "Oedipus at Colonus:, Oedipus Rex, Electra., Oedipus the king, The three Theban plays, Antigone, The Theban plays, Oedipus",
          "x": -22.33582305908203,
          "y": -0.6087138056755066
         },
         {
          "surname": "Soto",
          "titles": "The mystery of capital",
          "x": 15.364764213562012,
          "y": -1.076404094696045
         },
         {
          "surname": "Spence",
          "titles": "The search for modern China",
          "x": 14.405014038085938,
          "y": -2.128277540206909
         },
         {
          "surname": "Spenser",
          "titles": "The faerie queene, 1596",
          "x": -17.14431381225586,
          "y": 10.161076545715332
         },
         {
          "surname": "Spiegelman",
          "titles": "Maus.",
          "x": -9.257582664489746,
          "y": 13.931032180786133
         },
         {
          "surname": "Spinoza",
          "titles": "Ethics",
          "x": 13.299281120300293,
          "y": 12.02951717376709
         },
         {
          "surname": "Stallings",
          "titles": "Operating systems, Operating systems : internals and design principles, Data and computer communications",
          "x": 17.204126358032227,
          "y": -10.33353328704834
         },
         {
          "surname": "Steinbeck",
          "titles": "Of mice and men, East of Eden., The grapes of wrath",
          "x": -54.70259094238281,
          "y": -7.009463787078857
         },
         {
          "surname": "Stephenson",
          "titles": "Snow crash",
          "x": -5.37899112701416,
          "y": 7.122012138366699
         },
         {
          "surname": "Sterne",
          "titles": "Tristram Shandy.",
          "x": -13.641552925109863,
          "y": 13.713143348693848
         },
         {
          "surname": "Stevens",
          "titles": "TCP/IP illustrated, UNIX network programming",
          "x": 16.059967041015625,
          "y": -12.367610931396484
         },
         {
          "surname": "Stevenson",
          "titles": "Dr. Jekyll and Mr. Hyde, The strange case of Dr. Jekyll and Mr. Hyde",
          "x": -17.18499755859375,
          "y": 15.604902267456055
         },
         {
          "surname": "Stewart",
          "titles": "Calculus : concepts and contexts, Calculus : early transcendentals",
          "x": 0.5819200277328491,
          "y": -9.832548141479492
         },
         {
          "surname": "Stiglitz",
          "titles": "Globalization and its discontents, Economics",
          "x": 23.83742904663086,
          "y": 7.070587158203125
         },
         {
          "surname": "Stoker",
          "titles": "Dracula.",
          "x": -17.260339736938477,
          "y": 16.289236068725586
         },
         {
          "surname": "Stokstad",
          "titles": "Art history",
          "x": -2.3546457290649414,
          "y": -9.658732414245605
         },
         {
          "surname": "Stone",
          "titles": "Policy paradox : the art of political decision making",
          "x": -3.9446444511413574,
          "y": -13.803007125854492
         },
         {
          "surname": "Stoppard",
          "titles": "Jumpers, Rosencrantz and Guildenstern are dead.",
          "x": -51.226051330566406,
          "y": -5.25564432144165
         },
         {
          "surname": "Stravinsky",
          "titles": "The rite of spring, Rite, The rite o' spring.",
          "x": -8.336606979370117,
          "y": -6.8228325843811035
         },
         {
          "surname": "Stroustrup",
          "titles": "The C++ programming language",
          "x": 10.347840309143066,
          "y": -13.611607551574707
         },
         {
          "surname": "Strunk",
          "titles": "The elements of style",
          "x": 4.39474630355835,
          "y": 6.704177379608154
         },
         {
          "surname": "Stryer",
          "titles": "Biochemistry",
          "x": 1.7772529125213623,
          "y": -6.060633659362793
         },
         {
          "surname": "Sturken",
          "titles": "Practices of looking : an introduction to visual culture",
          "x": 7.541075229644775,
          "y": -17.79800033569336
         },
         {
          "surname": "Suetonius",
          "titles": "The Caesars",
          "x": -13.45962905883789,
          "y": -0.5352377891540527
         },
         {
          "surname": "Surowiecki",
          "titles": "The wisdom of crowds",
          "x": -50.67180252075195,
          "y": -9.997939109802246
         },
         {
          "surname": "Suzuki",
          "titles": "Zen.",
          "x": -1.7480295896530151,
          "y": -5.510349750518799
         },
         {
          "surname": "Swift",
          "titles": "A modest proposal",
          "x": -16.097620010375977,
          "y": 10.2847261428833
         },
         {
          "surname": "Tacitus",
          "titles": "Germania., Annals",
          "x": -15.647327423095703,
          "y": -0.6065887212753296
         },
         {
          "surname": "Takaki",
          "titles": "A different mirror : a history of multicultural America",
          "x": 0.1783124804496765,
          "y": -5.318521022796631
         },
         {
          "surname": "Tan",
          "titles": "The Joy Luck Club, Mother Tongue",
          "x": -6.328578948974609,
          "y": 18.31722068786621
         },
         {
          "surname": "Tanenbaum",
          "titles": "Modern operating systems, Computer networks",
          "x": 17.71164894104004,
          "y": -9.786720275878906
         },
         {
          "surname": "Tarbuck",
          "titles": "Earth science",
          "x": -7.342252731323242,
          "y": -17.245054244995117
         },
         {
          "surname": "Taylor",
          "titles": "The principles of scientific management, Economics",
          "x": 20.40934944152832,
          "y": 3.357973098754883
         },
         {
          "surname": "Tennyson",
          "titles": "The lady of Shalott., In Memoriam",
          "x": -21.81601905822754,
          "y": 14.308743476867676
         },
         {
          "surname": "Thackeray",
          "titles": "Vanity fair",
          "x": -15.359091758728027,
          "y": 14.099413871765137
         },
         {
          "surname": "Thomas",
          "titles": "Latin America, The American Revolution, Do not go gentle into that good night :, Summa theologiae, Summa theologica",
          "x": 13.100054740905762,
          "y": 14.519753456115723
         },
         {
          "surname": "Thompson",
          "titles": "The making of the English working class",
          "x": 25.59223175048828,
          "y": 5.782472610473633
         },
         {
          "surname": "Thoreau",
          "titles": "Walden, Civil disobedience",
          "x": 1.3858709335327148,
          "y": 25.8292293548584
         },
         {
          "surname": "Thucydides",
          "titles": "History of the Peloponnesian War, The Peloponnesian War",
          "x": -18.282108306884766,
          "y": -1.506948471069336
         },
         {
          "surname": "Time",
          "titles": "World War II;",
          "x": -6.662449836730957,
          "y": -4.321320533752441
         },
         {
          "surname": "Tindall",
          "titles": "America : a narrative history",
          "x": 3.6216230392456055,
          "y": -2.4447007179260254
         },
         {
          "surname": "Tirole",
          "titles": "The theory of industrial organization",
          "x": -7.453845977783203,
          "y": -21.705245971679688
         },
         {
          "surname": "Tocqueville",
          "titles": "Democracy in America",
          "x": 11.373618125915527,
          "y": 20.938453674316406
         },
         {
          "surname": "Todaro",
          "titles": "Economic development",
          "x": 15.857789993286133,
          "y": -5.147172451019287
         },
         {
          "surname": "Tolkien",
          "titles": "The lord of the rings, The Hobbit",
          "x": -12.249674797058105,
          "y": 14.749991416931152
         },
         {
          "surname": "Tolstoy",
          "titles": "Anna Karenina, War and peace",
          "x": -13.184930801391602,
          "y": 16.712602615356445
         },
         {
          "surname": "Toomer",
          "titles": "Cane",
          "x": -7.041428089141846,
          "y": 17.387372970581055
         },
         {
          "surname": "Tortora",
          "titles": "Principles of anatomy and physiology",
          "x": -0.9359502196311951,
          "y": -17.874860763549805
         },
         {
          "surname": "Trotsky",
          "titles": "Lenin, Stalin",
          "x": 21.826555252075195,
          "y": 7.4351277351379395
         },
         {
          "surname": "Tufte",
          "titles": "The visual display of quantitative information, Envisioning information",
          "x": 8.806339263916016,
          "y": -3.3973755836486816
         },
         {
          "surname": "Turabian",
          "titles": "A manual for writers of term papers, theses, and dissertations,, A manual for writers of dissertations.",
          "x": 4.983310222625732,
          "y": 5.280022144317627
         },
         {
          "surname": "Turgenev",
          "titles": "Fathers and sons",
          "x": -10.307531356811523,
          "y": 8.99177360534668
         },
         {
          "surname": "Turing",
          "titles": "Computing Machinery and Intelligence",
          "x": 8.469775199890137,
          "y": 8.802687644958496
         },
         {
          "surname": "Turkle",
          "titles": "Life on the screen : identity in the age of the Internet",
          "x": 22.99797248840332,
          "y": -2.6259875297546387
         },
         {
          "surname": "Turner",
          "titles": "The frontier in American history, The significance of the frontier in American history",
          "x": 0.27922627329826355,
          "y": 14.197433471679688
         },
         {
          "surname": "Tversky",
          "titles": "Judgment under Uncertainty: Heuristics and Biases",
          "x": -3.292721748352051,
          "y": -15.399004936218262
         },
         {
          "surname": "Twain",
          "titles": "Adventures of Huckleberry Finn, Tom Sawyer, Huckleberry Finn",
          "x": -4.81538724899292,
          "y": 25.266319274902344
         },
         {
          "surname": "Tzu",
          "titles": "The Art of War",
          "x": 5.453246116638184,
          "y": 2.1964147090911865
         },
         {
          "surname": "Unesco",
          "titles": "World heritage 2008-09",
          "x": -11.045095443725586,
          "y": -19.87744140625
         },
         {
          "surname": "Varian",
          "titles": "Microeconomic analysis, Intermediate microeconomics : a modern approach",
          "x": 10.050300598144531,
          "y": -10.534627914428711
         },
         {
          "surname": "Veblen",
          "titles": "The theory of the leisure class",
          "x": 22.30323028564453,
          "y": 5.446986198425293
         },
         {
          "surname": "Virgil",
          "titles": "The Aeneid",
          "x": -19.79853057861328,
          "y": -1.8196147680282593
         },
         {
          "surname": "Voet",
          "titles": "Biochemistry",
          "x": 1.923423171043396,
          "y": -5.8724751472473145
         },
         {
          "surname": "Voltaire",
          "titles": "Candide",
          "x": 6.394969463348389,
          "y": 17.590728759765625
         },
         {
          "surname": "Wade",
          "titles": "Organic chemistry",
          "x": -5.996142387390137,
          "y": -22.471267700195312
         },
         {
          "surname": "Walker",
          "titles": "Everyday use, Physics, Halliday & Resnick fundamentals of physics, The color purple, Fundamentals of physics",
          "x": -4.268423557281494,
          "y": 25.914228439331055
         },
         {
          "surname": "Wallace",
          "titles": "Consider the lobster",
          "x": -49.653141021728516,
          "y": -8.584290504455566
         },
         {
          "surname": "Wallerstein",
          "titles": "The modern world-system",
          "x": 24.857255935668945,
          "y": 4.431015491485596
         },
         {
          "surname": "Walpole",
          "titles": "The castle of Otranto,",
          "x": -14.584556579589844,
          "y": 12.106990814208984
         },
         {
          "surname": "Waltz",
          "titles": "Theory of international politics",
          "x": 16.056262969970703,
          "y": 5.615090847015381
         },
         {
          "surname": "Ware",
          "titles": "Jimmy Corrigan : the smartest kid on earth.",
          "x": -51.4458122253418,
          "y": -8.783483505249023
         },
         {
          "surname": "Watson",
          "titles": "Behaviorism,",
          "x": -1.721093773841858,
          "y": -7.249070644378662
         },
         {
          "surname": "Weber",
          "titles": "Politics as a vocation, The Protestant Ethic and the spirit of capitalism",
          "x": 30.19084930419922,
          "y": 11.949236869812012
         },
         {
          "surname": "Webster",
          "titles": "The Duchess of Malfi",
          "x": -14.87779426574707,
          "y": 8.995564460754395
         },
         {
          "surname": "Weir",
          "titles": "Thomas' calculus",
          "x": -6.410905361175537,
          "y": -21.27838134765625
         },
         {
          "surname": "Weiten",
          "titles": "Psychology : themes and variations",
          "x": -6.899304389953613,
          "y": -20.227815628051758
         },
         {
          "surname": "Wells",
          "titles": "The war of the worlds, The time machine.",
          "x": -13.62200927734375,
          "y": 14.987048149108887
         },
         {
          "surname": "West",
          "titles": "Doing Gender, Race matters",
          "x": 21.38920783996582,
          "y": 1.8614206314086914
         },
         {
          "surname": "Weston",
          "titles": "A rulebook for arguments",
          "x": 8.567693710327148,
          "y": 7.403881549835205
         },
         {
          "surname": "Wharton",
          "titles": "The house of mirth, The age of innocence",
          "x": -7.273563861846924,
          "y": 22.99567985534668
         },
         {
          "surname": "Whitman",
          "titles": "Leaves of grass",
          "x": -0.5021703243255615,
          "y": 22.491235733032227
         },
         {
          "surname": "Whitney",
          "titles": "Understanding nutrition",
          "x": 2.669037342071533,
          "y": -11.659611701965332
         },
         {
          "surname": "Wiesel",
          "titles": "Night",
          "x": -2.6435608863830566,
          "y": 10.036018371582031
         },
         {
          "surname": "Wiggins",
          "titles": "Understanding by design",
          "x": -10.766627311706543,
          "y": -21.413951873779297
         },
         {
          "surname": "Wilde",
          "titles": "The picture of Dorian Gray, The importance of being earnest,",
          "x": -22.88054847717285,
          "y": 16.44068145751953
         },
         {
          "surname": "Williams",
          "titles": "Wallace Stevens, A streetcar named Desire., Style : ten lessons in clarity and grace, The glass menagerie., Culture and society, 1780-1950., Style : lessons in clarity and grace, Keywords : a vocabulary of culture and society",
          "x": -7.509305953979492,
          "y": 25.26491355895996
         },
         {
          "surname": "Wilson",
          "titles": "When Work Disappears",
          "x": 20.469791412353516,
          "y": 0.20010563731193542
         },
         {
          "surname": "Wittgenstein",
          "titles": "Philosophical investigations.",
          "x": 10.19354248046875,
          "y": 12.133283615112305
         },
         {
          "surname": "Wolf",
          "titles": "Europe and the people without history",
          "x": 23.909679412841797,
          "y": 1.798990249633789
         },
         {
          "surname": "Wollstonecraft",
          "titles": "The rights of woman, A vindication of the rights of woman, A vindication of the rights of women",
          "x": 12.70649528503418,
          "y": 17.61358070373535
         },
         {
          "surname": "Wood",
          "titles": "The radicalism of the American Revolution",
          "x": 9.920741081237793,
          "y": 4.087076187133789
         },
         {
          "surname": "Woodward",
          "titles": "Florida State University",
          "x": -9.042109489440918,
          "y": -21.987314224243164
         },
         {
          "surname": "Wooldridge",
          "titles": "Introductory econometrics : a modern approach",
          "x": -5.0396318435668945,
          "y": -23.063295364379883
         },
         {
          "surname": "Woolf",
          "titles": "Orlando., To the lighthouse, Mrs. Dalloway",
          "x": -28.248533248901367,
          "y": 14.194416046142578
         },
         {
          "surname": "Woolfolk",
          "titles": "Educational psychology",
          "x": -1.1296064853668213,
          "y": -15.989041328430176
         },
         {
          "surname": "Wordsworth",
          "titles": "Lyrical ballads 1805, Preface to Lyrical ballads., The prelude, 1798-1799",
          "x": -22.820178985595703,
          "y": 14.669304847717285
         },
         {
          "surname": "World bank",
          "titles": "Education., Health.",
          "x": 2.8905575275421143,
          "y": -16.176013946533203
         },
         {
          "surname": "Wright",
          "titles": "Native son.",
          "x": -7.709647178649902,
          "y": 21.96291160583496
         },
         {
          "surname": "Yeats",
          "titles": "The lake isle of Innisfree,, Easter, 1916",
          "x": -19.03032112121582,
          "y": 13.625434875488281
         },
         {
          "surname": "Yin",
          "titles": "Case study research : design and methods",
          "x": 6.9798150062561035,
          "y": -2.2746622562408447
         },
         {
          "surname": "York",
          "titles": "National Security",
          "x": 13.601753234863281,
          "y": -1.8876991271972656
         },
         {
          "surname": "Young",
          "titles": "Teacher Education",
          "x": -9.925689697265625,
          "y": -22.931676864624023
         },
         {
          "surname": "Zumdahl",
          "titles": "Chemistry",
          "x": -0.9288398623466492,
          "y": -13.347914695739746
         }
        ]
       },
       "encoding": {
        "text": {
         "field": "surname",
         "type": "nominal"
        },
        "tooltip": {
         "field": "titles",
         "type": "nominal"
        },
        "x": {
         "field": "x",
         "type": "quantitative"
        },
        "y": {
         "field": "y",
         "type": "quantitative"
        }
       },
       "height": 700,
       "mark": "text",
       "selection": {
        "selector003": {
         "bind": "scales",
         "encodings": [
          "x",
          "y"
         ],
         "mark": {
          "fill": "#333",
          "fillOpacity": 0.125,
          "stroke": "white"
         },
         "on": "[mousedown, window:mouseup] > window:mousemove!",
         "resolve": "global",
         "translate": "[mousedown, window:mouseup] > window:mousemove!",
         "type": "interval",
         "zoom": "wheel!"
        }
       },
       "width": 1000
      },
      "image/png": "[encoded data removed]",
      "text/plain": [
       "<VegaLite 2 object>\n",
       "\n",
       "If you see this message, it means the renderer has not been properly enabled\n",
       "for the frontend that you are using. For more information, see\n",
       "https://altair-viz.github.io/user_guide/troubleshooting.html\n"
      ]
     },
     "execution_count": 57,
     "metadata": {},
     "output_type": "execute_result"
    }
   ],
   "source": [
    "chart.interactive()"
   ]
  },
  {
   "cell_type": "code",
   "execution_count": null,
   "metadata": {},
   "outputs": [],
   "source": []
  }
 ],
 "metadata": {
  "kernelspec": {
   "display_name": "Python 3",
   "language": "python",
   "name": "python3"
  },
  "language_info": {
   "codemirror_mode": {
    "name": "ipython",
    "version": 3
   },
   "file_extension": ".py",
   "mimetype": "text/x-python",
   "name": "python",
   "nbconvert_exporter": "python",
   "pygments_lexer": "ipython3",
   "version": "3.6.5"
  }
 },
 "nbformat": 4,
 "nbformat_minor": 2
}
