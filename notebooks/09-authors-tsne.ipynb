{
 "cells": [
  {
   "cell_type": "code",
   "execution_count": 1,
   "metadata": {},
   "outputs": [],
   "source": [
    "import matplotlib.pyplot as plt\n",
    "%matplotlib inline"
   ]
  },
  {
   "cell_type": "code",
   "execution_count": 28,
   "metadata": {},
   "outputs": [],
   "source": [
    "import numpy as np\n",
    "import altair as alt\n",
    "import pandas as pd\n",
    "\n",
    "from scipy.sparse import lil_matrix\n",
    "from annoy import AnnoyIndex\n",
    "from collections import defaultdict\n",
    "from titlecase import titlecase\n",
    "from umap import UMAP\n",
    "\n",
    "from sklearn.decomposition import TruncatedSVD\n",
    "from sklearn import manifold\n",
    "from sklearn.decomposition import PCA\n",
    "\n",
    "from sqlalchemy.dialects.postgresql import array_agg\n",
    "from sqlalchemy.sql import functions as func\n",
    "\n",
    "from osp_graphs.v1_db import session, Text, Field, Subfield, SubfieldDocument, Citation, Document"
   ]
  },
  {
   "cell_type": "code",
   "execution_count": 52,
   "metadata": {},
   "outputs": [],
   "source": [
    "count = func.count(Citation.text_id)\n",
    "\n",
    "titles, surnames, text_doc_ids = zip(*session\n",
    "    .query(Text.title, Text.surname, array_agg(Citation.document_id))\n",
    "    .join(Citation)\n",
    "    .filter(Text.valid==True)\n",
    "    .filter(Text.display==True)\n",
    "    .group_by(Text.id)\n",
    "    .order_by(count.desc())\n",
    "    .limit(1000)\n",
    "    .all())"
   ]
  },
  {
   "cell_type": "code",
   "execution_count": 53,
   "metadata": {},
   "outputs": [],
   "source": [
    "doc_ids = list(set([did for doc_ids in text_doc_ids for did in doc_ids]))\n",
    "doc_id_to_idx = {did: i for i, did in enumerate(doc_ids)}"
   ]
  },
  {
   "cell_type": "code",
   "execution_count": 54,
   "metadata": {},
   "outputs": [],
   "source": [
    "M = np.zeros((len(doc_ids), len(surnames)))\n",
    "\n",
    "for sidx, doc_ids in enumerate(text_doc_ids):\n",
    "    for did in doc_ids:\n",
    "        didx = doc_id_to_idx[did]\n",
    "        M[didx][sidx] += 1"
   ]
  },
  {
   "cell_type": "code",
   "execution_count": 55,
   "metadata": {},
   "outputs": [
    {
     "data": {
      "text/plain": [
       "570610.0"
      ]
     },
     "execution_count": 55,
     "metadata": {},
     "output_type": "execute_result"
    }
   ],
   "source": [
    "M.sum()"
   ]
  },
  {
   "cell_type": "code",
   "execution_count": 56,
   "metadata": {},
   "outputs": [],
   "source": [
    "svd = TruncatedSVD(n_components=10)"
   ]
  },
  {
   "cell_type": "code",
   "execution_count": 57,
   "metadata": {},
   "outputs": [
    {
     "data": {
      "text/plain": [
       "TruncatedSVD(algorithm='randomized', n_components=10, n_iter=5,\n",
       "       random_state=None, tol=0.0)"
      ]
     },
     "execution_count": 57,
     "metadata": {},
     "output_type": "execute_result"
    }
   ],
   "source": [
    "svd.fit(M)"
   ]
  },
  {
   "cell_type": "code",
   "execution_count": 58,
   "metadata": {},
   "outputs": [
    {
     "data": {
      "text/plain": [
       "(1000, 10)"
      ]
     },
     "execution_count": 58,
     "metadata": {},
     "output_type": "execute_result"
    }
   ],
   "source": [
    "svd.components_.T.shape"
   ]
  },
  {
   "cell_type": "code",
   "execution_count": 107,
   "metadata": {},
   "outputs": [],
   "source": [
    "dr = manifold.TSNE(n_components=2, init='pca', metric='cosine', random_state=1)"
   ]
  },
  {
   "cell_type": "code",
   "execution_count": 116,
   "metadata": {},
   "outputs": [],
   "source": [
    "embedding = dr.fit_transform(svd.components_.T)"
   ]
  },
  {
   "cell_type": "code",
   "execution_count": 86,
   "metadata": {},
   "outputs": [],
   "source": [
    "embedding = UMAP().fit_transform(svd.components_.T)"
   ]
  },
  {
   "cell_type": "code",
   "execution_count": 117,
   "metadata": {},
   "outputs": [],
   "source": [
    "rows = []\n",
    "for title, surname, (x, y) in zip(titles, surnames, embedding):\n",
    "    rows.append(dict(surname=surname, title=title, x=x, y=y))"
   ]
  },
  {
   "cell_type": "code",
   "execution_count": 118,
   "metadata": {},
   "outputs": [],
   "source": [
    "df = pd.DataFrame(rows)"
   ]
  },
  {
   "cell_type": "code",
   "execution_count": 119,
   "metadata": {},
   "outputs": [],
   "source": [
    "df.surname = df.surname.apply(lambda s: s.capitalize())"
   ]
  },
  {
   "cell_type": "code",
   "execution_count": 120,
   "metadata": {},
   "outputs": [],
   "source": [
    "df.title = df.title.apply(lambda t: titlecase(t.strip(' /;.')))"
   ]
  },
  {
   "cell_type": "code",
   "execution_count": 125,
   "metadata": {},
   "outputs": [],
   "source": [
    "chart = (alt\n",
    "    .Chart(df, width=1000, height=700)\n",
    "    .mark_text()\n",
    "    .encode(x='x', y='y', text='surname', tooltip='title'))"
   ]
  },
  {
   "cell_type": "code",
   "execution_count": 126,
   "metadata": {},
   "outputs": [
    {
     "data": {
      "application/vnd.vegalite.v2+json": {
       "$schema": "https://vega.github.io/schema/vega-lite/v2.4.3.json",
       "config": {
        "view": {
         "height": 300,
         "width": 400
        }
       },
       "data": {
        "values": [
         {
          "surname": "Strunk",
          "title": "The Elements of Style",
          "x": 9.210585594177246,
          "y": -18.43992042541504
         },
         {
          "surname": "Plato.",
          "title": "Republic",
          "x": 8.459190368652344,
          "y": 30.05345916748047
         },
         {
          "surname": "Marx",
          "title": "The Communist Manifesto",
          "x": 7.083826541900635,
          "y": 10.074650764465332
         },
         {
          "surname": "Campbell",
          "title": "Biology",
          "x": 35.735252380371094,
          "y": -17.748319625854492
         },
         {
          "surname": "Shelley",
          "title": "Frankenstein",
          "x": -22.962112426757812,
          "y": -22.644031524658203
         },
         {
          "surname": "Aristotle.",
          "title": "Ethics",
          "x": 9.857956886291504,
          "y": 28.861713409423828
         },
         {
          "surname": "Hobbes",
          "title": "Leviathan",
          "x": -4.721832752227783,
          "y": 15.81587028503418
         },
         {
          "surname": "Machiavelli",
          "title": "The Prince",
          "x": -8.670526504516602,
          "y": -9.018882751464844
         },
         {
          "surname": "Sophocles.",
          "title": "Oedipus",
          "x": 28.569313049316406,
          "y": 31.599206924438477
         },
         {
          "surname": "Shakespeare",
          "title": "Hamlet",
          "x": -15.398003578186035,
          "y": -13.837099075317383
         },
         {
          "surname": "Homer.",
          "title": "The Odyssey",
          "x": 26.265642166137695,
          "y": 31.032663345336914
         },
         {
          "surname": "Said",
          "title": "Orientalism",
          "x": 10.794060707092285,
          "y": 1.2250421047210693
         },
         {
          "surname": "Turabian",
          "title": "A Manual for Writers of Term Papers, Theses, and Dissertations,",
          "x": 9.671048164367676,
          "y": -12.538474082946777
         },
         {
          "surname": "Homer.",
          "title": "The Iliad,",
          "x": 26.18720054626465,
          "y": 31.77913475036621
         },
         {
          "surname": "Conrad",
          "title": "Heart of Darkness",
          "x": -23.745046615600586,
          "y": -22.372100830078125
         },
         {
          "surname": "Chaucer",
          "title": "Canterbury Tales",
          "x": -11.100201606750488,
          "y": -13.53011417388916
         },
         {
          "surname": "Sophocles.",
          "title": "Antigone",
          "x": 28.039859771728516,
          "y": 32.02836608886719
         },
         {
          "surname": "King",
          "title": "Letter From the Birmingham Jail",
          "x": -24.027446746826172,
          "y": 16.987218856811523
         },
         {
          "surname": "Mill",
          "title": "On Liberty",
          "x": -1.4638677835464478,
          "y": 16.370031356811523
         },
         {
          "surname": "Kuhn",
          "title": "The Structure of Scientific Revolutions",
          "x": 19.7952880859375,
          "y": -2.30435848236084
         },
         {
          "surname": "Milton",
          "title": "Paradise Lost",
          "x": -10.606368064880371,
          "y": -14.268607139587402
         },
         {
          "surname": "Mill",
          "title": "Utilitarianism",
          "x": 8.854436874389648,
          "y": 27.308034896850586
         },
         {
          "surname": "Huntington",
          "title": "The Clash of Civilizations?",
          "x": -6.086623191833496,
          "y": 10.310420989990234
         },
         {
          "surname": "Plato.",
          "title": "Apology",
          "x": 11.062141418457031,
          "y": 32.28514099121094
         },
         {
          "surname": "Achebe",
          "title": "Things Fall Apart",
          "x": -32.402076721191406,
          "y": -13.266350746154785
         },
         {
          "surname": "Foucault",
          "title": "Power",
          "x": 12.029669761657715,
          "y": 4.697637557983398
         },
         {
          "surname": "Darwin",
          "title": "Origin of Species",
          "x": 3.2987663745880127,
          "y": -1.5433354377746582
         },
         {
          "surname": "Augustine",
          "title": "Confessions",
          "x": -12.629987716674805,
          "y": -7.159441947937012
         },
         {
          "surname": "Aristotle.",
          "title": "The Politics",
          "x": 5.215890407562256,
          "y": 28.940834045410156
         },
         {
          "surname": "Turabian",
          "title": "A Manual for Writers of Dissertations",
          "x": 9.666642189025879,
          "y": -12.532959938049316
         },
         {
          "surname": "Thoreau",
          "title": "Walden",
          "x": -28.263490676879883,
          "y": 15.211555480957031
         },
         {
          "surname": "Tocqueville",
          "title": "Democracy in America",
          "x": -21.6627140045166,
          "y": 14.844545364379883
         },
         {
          "surname": "Deitel",
          "title": "C : How to Program",
          "x": 22.89457893371582,
          "y": -22.201658248901367
         },
         {
          "surname": "Gibaldi",
          "title": "MLA Handbook for Writers of Research Papers",
          "x": 3.9953043460845947,
          "y": -7.329896926879883
         },
         {
          "surname": "Hacker",
          "title": "A Pocket Style Manual",
          "x": 8.85470199584961,
          "y": -16.168909072875977
         },
         {
          "surname": "Fitzgerald",
          "title": "The Great Gatsby",
          "x": -32.25062561035156,
          "y": 0.9370654225349426
         },
         {
          "surname": "Smith",
          "title": "Wealth of Nations",
          "x": 1.7577669620513916,
          "y": 12.769270896911621
         },
         {
          "surname": "Plato.",
          "title": "Dialogues",
          "x": 10.421222686767578,
          "y": 30.76250648498535
         },
         {
          "surname": "Aristotle.",
          "title": "Nicomachean Ethics",
          "x": 10.109546661376953,
          "y": 28.80711555480957
         },
         {
          "surname": "Foucault",
          "title": "The History of Sexuality",
          "x": 11.523805618286133,
          "y": 1.9018101692199707
         },
         {
          "surname": "Franklin",
          "title": "Autobiography",
          "x": -27.513219833374023,
          "y": 15.5181884765625
         },
         {
          "surname": "Aristotle.",
          "title": "The Poetics",
          "x": 24.39730453491211,
          "y": 33.360572814941406
         },
         {
          "surname": "Morrison",
          "title": "Beloved",
          "x": -33.64904022216797,
          "y": -2.4194765090942383
         },
         {
          "surname": "Marx",
          "title": "Capital,",
          "x": 7.897602558135986,
          "y": 9.531889915466309
         },
         {
          "surname": "Shakespeare",
          "title": "The Tempest",
          "x": -13.20118236541748,
          "y": -13.783345222473145
         },
         {
          "surname": "Cozby",
          "title": "Methods in Behavioral Research",
          "x": -27.566829681396484,
          "y": 13.266972541809082
         },
         {
          "surname": "Twain",
          "title": "Huckleberry Finn",
          "x": -33.30789566040039,
          "y": 3.843289613723755
         },
         {
          "surname": "Rousseau",
          "title": "The Social Contract",
          "x": -3.1950900554656982,
          "y": 16.302480697631836
         },
         {
          "surname": "Hacker",
          "title": "The Bedford Handbook",
          "x": -22.655054092407227,
          "y": 17.223308563232422
         },
         {
          "surname": "Gilman",
          "title": "The Yellow Wallpaper",
          "x": -30.946218490600586,
          "y": 13.899611473083496
         },
         {
          "surname": "More",
          "title": "Utopia",
          "x": -9.6856050491333,
          "y": -10.754862785339355
         },
         {
          "surname": "Virgil.",
          "title": "The Aeneid",
          "x": 25.504024505615234,
          "y": 30.957988739013672
         },
         {
          "surname": "Jacobs",
          "title": "Incidents in the Life of a Slave Girl",
          "x": -29.40676498413086,
          "y": 14.532720565795898
         },
         {
          "surname": "Chopin",
          "title": "The Awakening",
          "x": -33.783084869384766,
          "y": 2.6730008125305176
         },
         {
          "surname": "Hardin",
          "title": "The Tragedy of the Commons",
          "x": -19.920944213867188,
          "y": 13.710253715515137
         },
         {
          "surname": "Jefferson",
          "title": "The Declaration of Independence",
          "x": -24.910659790039062,
          "y": 16.24087905883789
         },
         {
          "surname": "Voltaire",
          "title": "Candide",
          "x": -20.57022476196289,
          "y": -15.730320930480957
         },
         {
          "surname": "Thucydides.",
          "title": "The Peloponnesian War",
          "x": 22.936077117919922,
          "y": 32.1357307434082
         },
         {
          "surname": "De tocqueville",
          "title": "Democracy in America",
          "x": -21.830354690551758,
          "y": 14.879341125488281
         },
         {
          "surname": "Rawls",
          "title": "A Theory of Justice",
          "x": -0.7940861582756042,
          "y": 18.569486618041992
         },
         {
          "surname": "Shakespeare",
          "title": "Henry V",
          "x": -13.539196968078613,
          "y": -12.871187210083008
         },
         {
          "surname": "Sophocles.",
          "title": "Oedipus the King",
          "x": 28.725255966186523,
          "y": 31.982784271240234
         },
         {
          "surname": "Sartre",
          "title": "Existentialism",
          "x": 9.237467765808105,
          "y": 25.55141830444336
         },
         {
          "surname": "Due",
          "title": "Project Evaluation",
          "x": 11.370023727416992,
          "y": -18.70027732849121
         },
         {
          "surname": "Ovid",
          "title": "Metamorphoses",
          "x": 26.431396484375,
          "y": 30.90073585510254
         },
         {
          "surname": "Berger",
          "title": "Ways of Seeing",
          "x": 13.464770317077637,
          "y": -0.817879855632782
         },
         {
          "surname": "Ellison",
          "title": "Invisible Man",
          "x": -32.55242156982422,
          "y": 1.0555990934371948
         },
         {
          "surname": "Descartes",
          "title": "Meditations on First Philosophy",
          "x": 9.925901412963867,
          "y": 27.847440719604492
         },
         {
          "surname": "Bush",
          "title": "The White House",
          "x": -3.4273366928100586,
          "y": 7.87393856048584
         },
         {
          "surname": "Austen",
          "title": "Pride & Prejudice",
          "x": -25.46406364440918,
          "y": -17.729875564575195
         },
         {
          "surname": "Hurston",
          "title": "Their Eyes Were Watching God",
          "x": -32.84942626953125,
          "y": -0.029020585119724274
         },
         {
          "surname": "Euripides.",
          "title": "Medea",
          "x": 27.859750747680664,
          "y": 32.06985092163086
         },
         {
          "surname": "Marieb",
          "title": "Human Anatomy & Physiology",
          "x": 26.531593322753906,
          "y": -24.89112663269043
         },
         {
          "surname": "Plato.",
          "title": "Crito",
          "x": 10.929065704345703,
          "y": 31.765422821044922
         },
         {
          "surname": "Shakespeare",
          "title": "Macbeth",
          "x": -15.936141967773438,
          "y": -13.3922119140625
         },
         {
          "surname": "Huxley",
          "title": "Brave New World",
          "x": -30.42761993408203,
          "y": -6.9738383293151855
         },
         {
          "surname": "Shakespeare",
          "title": "Othello",
          "x": -14.467554092407227,
          "y": -13.882365226745605
         },
         {
          "surname": "Halliday",
          "title": "Physics",
          "x": 34.3544807434082,
          "y": -14.220634460449219
         },
         {
          "surname": "Paine",
          "title": "Common Sense",
          "x": -25.31175994873047,
          "y": 16.04769515991211
         },
         {
          "surname": "Confucius.",
          "title": "The Analects",
          "x": 7.0223798751831055,
          "y": 30.238704681396484
         },
         {
          "surname": "Walker",
          "title": "Physics",
          "x": 34.494102478027344,
          "y": -14.08582878112793
         },
         {
          "surname": "Eliot",
          "title": "The Love Song of J. Alfred Prufrock",
          "x": -11.81714153289795,
          "y": -28.387615203857422
         },
         {
          "surname": "Weber",
          "title": "The Protestant Ethic and the Spirit of Capitalism",
          "x": 7.3227386474609375,
          "y": 8.9990816116333
         },
         {
          "surname": "Stewart",
          "title": "Calculus : Early Transcendentals",
          "x": 33.16953659057617,
          "y": -14.047906875610352
         },
         {
          "surname": "Marieb",
          "title": "Human Anatomy",
          "x": 26.535659790039062,
          "y": -24.888031005859375
         },
         {
          "surname": "Krugman",
          "title": "Economics",
          "x": 24.901277542114258,
          "y": -9.84039306640625
         },
         {
          "surname": "Woolf",
          "title": "Mrs. Dalloway",
          "x": -25.773496627807617,
          "y": -19.763582229614258
         },
         {
          "surname": "Tanenbaum",
          "title": "Computer Networks",
          "x": 28.78964614868164,
          "y": -21.97658348083496
         },
         {
          "surname": "Descartes",
          "title": "Discourse on Method",
          "x": 6.039306640625,
          "y": 26.921907424926758
         },
         {
          "surname": "Mills",
          "title": "The Sociological Imagination",
          "x": 10.260292053222656,
          "y": 7.874651908874512
         },
         {
          "surname": "Kafka",
          "title": "The Metamorphosis",
          "x": -22.781091690063477,
          "y": -14.673624992370605
         },
         {
          "surname": "Locke",
          "title": "Second Treatise of Government",
          "x": -3.6689867973327637,
          "y": 16.511682510375977
         },
         {
          "surname": "Kotler",
          "title": "Marketing Management",
          "x": 27.486875534057617,
          "y": -15.395675659179688
         },
         {
          "surname": "Kant",
          "title": "The Metaphysics of Morals",
          "x": 9.36955451965332,
          "y": 27.433073043823242
         },
         {
          "surname": "Bell",
          "title": "Doing Your Research Project : A Guide for First-Time Researchers in Education and Social Science",
          "x": 17.707054138183594,
          "y": -21.53742027282715
         },
         {
          "surname": "Carson",
          "title": "Silent Spring",
          "x": -24.80025291442871,
          "y": 9.64932918548584
         },
         {
          "surname": "Hawthorne",
          "title": "The Scarlet Letter",
          "x": -32.87815856933594,
          "y": 7.763189315795898
         },
         {
          "surname": "Twain",
          "title": "Adventures of Huckleberry Finn",
          "x": -33.26725769042969,
          "y": 3.967017889022827
         },
         {
          "surname": "Freire",
          "title": "Pedagogy of the Oppressed",
          "x": 15.136469841003418,
          "y": 0.27036887407302856
         },
         {
          "surname": "Shakespeare",
          "title": "King Lear",
          "x": -13.436598777770996,
          "y": -13.780229568481445
         },
         {
          "surname": "Russell",
          "title": "Artificial Intelligence : A Modern Approach",
          "x": 30.47553825378418,
          "y": -21.38163948059082
         },
         {
          "surname": "Melville",
          "title": "Moby Dick,",
          "x": -33.53431701660156,
          "y": 7.532177925109863
         },
         {
          "surname": "King",
          "title": "I Have a Dream",
          "x": -23.89315414428711,
          "y": 16.763256072998047
         },
         {
          "surname": "Mankiw",
          "title": "Macroeconomics",
          "x": 26.291034698486328,
          "y": -9.695500373840332
         },
         {
          "surname": "Ross",
          "title": "Corporate Finance",
          "x": 31.883424758911133,
          "y": -18.03896141052246
         },
         {
          "surname": "Eliot",
          "title": "The Waste Land",
          "x": -24.041311264038086,
          "y": -22.602975845336914
         },
         {
          "surname": "Woolf",
          "title": "To the Lighthouse",
          "x": -15.049949645996094,
          "y": 50.65565490722656
         },
         {
          "surname": "Plato.",
          "title": "Euthyphro",
          "x": 10.593270301818848,
          "y": 30.629810333251953
         },
         {
          "surname": "Aristophanes.",
          "title": "Lysistrata",
          "x": 27.104307174682617,
          "y": 32.280853271484375
         },
         {
          "surname": "Thoreau",
          "title": "Civil Disobedience",
          "x": -26.023252487182617,
          "y": 15.771516799926758
         },
         {
          "surname": "Aristotle.",
          "title": "Rhetoric",
          "x": 9.420389175415039,
          "y": 32.904361724853516
         },
         {
          "surname": "Dickens",
          "title": "Great Expectations,",
          "x": -25.93608856201172,
          "y": -17.60321807861328
         },
         {
          "surname": "Sinclair",
          "title": "The Jungle",
          "x": -31.7633113861084,
          "y": 2.893159866333008
         },
         {
          "surname": "Martini",
          "title": "Fundamentals of Anatomy and Physiology",
          "x": 26.013246536254883,
          "y": -19.795364379882812
         },
         {
          "surname": "Fanon",
          "title": "The Wretched of the Earth",
          "x": 8.475473403930664,
          "y": 6.707045555114746
         },
         {
          "surname": "Halliday",
          "title": "Fundamentals of Physics",
          "x": 34.6617431640625,
          "y": -14.423290252685547
         },
         {
          "surname": "Joyce",
          "title": "Ulysses,",
          "x": -28.070178985595703,
          "y": -13.81407356262207
         },
         {
          "surname": "Swift",
          "title": "A Modest Proposal",
          "x": -11.30443286895752,
          "y": -20.764240264892578
         },
         {
          "surname": "Mccloud",
          "title": "Understanding Comics",
          "x": -15.456265449523926,
          "y": 46.80603790283203
         },
         {
          "surname": "Stoker",
          "title": "Dracula",
          "x": -28.370868682861328,
          "y": -17.016441345214844
         },
         {
          "surname": "Hawthorne",
          "title": "Young Goodman Brown",
          "x": -28.39899444580078,
          "y": 17.087621688842773
         },
         {
          "surname": "Plato.",
          "title": "Symposium",
          "x": 11.70251750946045,
          "y": 33.69251251220703
         },
         {
          "surname": "Melville",
          "title": "Bartleby",
          "x": -28.54819107055664,
          "y": 15.710403442382812
         },
         {
          "surname": "Miller",
          "title": "Death of a Salesman",
          "x": -37.69514465332031,
          "y": 0.704807698726654
         },
         {
          "surname": "Gibson",
          "title": "Neuromancer",
          "x": -31.333757400512695,
          "y": -9.493120193481445
         },
         {
          "surname": "Aeschylus.",
          "title": "The Oresteia",
          "x": 27.947275161743164,
          "y": 32.839027404785156
         },
         {
          "surname": "Wiesel",
          "title": "Night",
          "x": -27.350500106811523,
          "y": -5.706264019012451
         },
         {
          "surname": "Beauvoir",
          "title": "The Second Sex",
          "x": 6.711032867431641,
          "y": 12.42255687713623
         },
         {
          "surname": "Sophocles.",
          "title": "Oedipus Rex",
          "x": 28.57859992980957,
          "y": 30.97488784790039
         },
         {
          "surname": "Fisher",
          "title": "Getting to Yes",
          "x": 7.826415538787842,
          "y": -15.136445999145508
         },
         {
          "surname": "Whitman",
          "title": "Leaves of Grass",
          "x": -30.181928634643555,
          "y": 14.408711433410645
         },
         {
          "surname": "Spiegelman",
          "title": "Maus",
          "x": -31.961528778076172,
          "y": -10.22413158416748
         },
         {
          "surname": "Stiglitz",
          "title": "Globalization and Its Discontents",
          "x": 1.865963339805603,
          "y": 8.37879753112793
         },
         {
          "surname": "Freud",
          "title": "Civilization and Its Discontents",
          "x": 6.645993709564209,
          "y": 11.583064079284668
         },
         {
          "surname": "Foucault",
          "title": "Discipline and Punish : The Birth of the Prison",
          "x": 12.109771728515625,
          "y": 3.860653877258301
         },
         {
          "surname": "Browning",
          "title": "My Last Duchess",
          "x": -11.292006492614746,
          "y": -27.365638732910156
         },
         {
          "surname": "Shakespeare",
          "title": "Midsummer N. Dream",
          "x": -16.390384674072266,
          "y": -14.135978698730469
         },
         {
          "surname": "Brown",
          "title": "Psychology",
          "x": 16.992666244506836,
          "y": -1.7432405948638916
         },
         {
          "surname": "Shakespeare",
          "title": "Romeo and Juliet",
          "x": -16.768911361694336,
          "y": -13.175616264343262
         },
         {
          "surname": "Morrison",
          "title": "The Bluest Eye",
          "x": -33.096832275390625,
          "y": -1.2522950172424316
         },
         {
          "surname": "Cisneros",
          "title": "The House on Mango Street",
          "x": -32.357078552246094,
          "y": -1.8228802680969238
         },
         {
          "surname": "Anderson",
          "title": "Imagined Communities : Reflections on the Origin and Spread of Nationalism",
          "x": 12.626021385192871,
          "y": 6.368369102478027
         },
         {
          "surname": "Bronte",
          "title": "Jane Eyre",
          "x": -27.84486961364746,
          "y": -15.514520645141602
         },
         {
          "surname": "Shakespeare",
          "title": "The Complete Works",
          "x": -16.01402473449707,
          "y": -12.940927505493164
         },
         {
          "surname": "Wilde",
          "title": "The Importance of Being Earnest,",
          "x": -12.704732894897461,
          "y": -23.9512939453125
         },
         {
          "surname": "French",
          "title": "Writing and Reading",
          "x": 16.819347381591797,
          "y": -15.259808540344238
         },
         {
          "surname": "Emerson",
          "title": "Nature",
          "x": -28.173494338989258,
          "y": 16.42881965637207
         },
         {
          "surname": "Euripides.",
          "title": "The Bacchae",
          "x": 28.478527069091797,
          "y": 33.18522644042969
         },
         {
          "surname": "Bryman",
          "title": "Social Research Methods",
          "x": 19.468605041503906,
          "y": -20.85157012939453
         },
         {
          "surname": "Brealey",
          "title": "Principles of Corporate Finance",
          "x": 28.401748657226562,
          "y": -14.46876049041748
         },
         {
          "surname": "Fukuyama",
          "title": "The End of History?",
          "x": -2.8279240131378174,
          "y": 9.873026847839355
         },
         {
          "surname": "Wordsworth",
          "title": "Lyrical Ballads 1805",
          "x": -10.198528289794922,
          "y": -25.88709831237793
         },
         {
          "surname": "Bordwell",
          "title": "Film Art : An Introduction",
          "x": 13.991868019104004,
          "y": -7.517749309539795
         },
         {
          "surname": "Aristotle.",
          "title": "The Metaphysics",
          "x": 10.000411033630371,
          "y": 29.65814781188965
         },
         {
          "surname": "Wollstonecraft",
          "title": "A Vindication of the Rights of Woman",
          "x": -8.463730812072754,
          "y": -25.47516441345215
         },
         {
          "surname": "Goffman",
          "title": "The Presentation of Self in Everyday Life",
          "x": 10.58582592010498,
          "y": 5.897334098815918
         },
         {
          "surname": "Faulkner",
          "title": "A Rose for Emily,",
          "x": -29.999479293823242,
          "y": 16.694072723388672
         },
         {
          "surname": "Friedan",
          "title": "The Feminine Mystique",
          "x": -24.44314193725586,
          "y": 8.720465660095215
         },
         {
          "surname": "Marx",
          "title": "The German Ideology",
          "x": 6.45005464553833,
          "y": 10.40735912322998
         },
         {
          "surname": "Lucas",
          "title": "The Art of Public Speaking",
          "x": 18.40399169921875,
          "y": -11.447892189025879
         },
         {
          "surname": "Steinbeck",
          "title": "The Grapes of Wrath",
          "x": -31.472946166992188,
          "y": 0.7955256700515747
         },
         {
          "surname": "Yin",
          "title": "Case Study Research : Design and Methods",
          "x": 18.378864288330078,
          "y": -20.5493106842041
         },
         {
          "surname": "Moody",
          "title": "Coming of Age in Mississippi",
          "x": -28.14185333251953,
          "y": 3.1419169902801514
         },
         {
          "surname": "Goethe",
          "title": "Faust",
          "x": -20.24633026123047,
          "y": -16.223777770996094
         },
         {
          "surname": "Paul",
          "title": "The New University",
          "x": 17.995447158813477,
          "y": -4.818882465362549
         },
         {
          "surname": "Emerson",
          "title": "Self Reliance",
          "x": -27.510576248168945,
          "y": 15.930313110351562
         },
         {
          "surname": "Alberts",
          "title": "Molecular Biology of the Cell",
          "x": 31.654972076416016,
          "y": -16.171560287475586
         },
         {
          "surname": "Blake",
          "title": "Songs of Innocence",
          "x": -10.813325881958008,
          "y": -26.181686401367188
         },
         {
          "surname": "Locke",
          "title": "An Essay Concerning Human Understanding",
          "x": 5.791743755340576,
          "y": 27.165178298950195
         },
         {
          "surname": "Defoe",
          "title": "Robinson",
          "x": -25.04877471923828,
          "y": -16.292932510375977
         },
         {
          "surname": "Stokstad",
          "title": "Art History",
          "x": 16.980268478393555,
          "y": -15.171797752380371
         },
         {
          "surname": "Joyce",
          "title": "A Portrait of the Artist as a Young Man,",
          "x": -28.2784481048584,
          "y": -14.87656021118164
         },
         {
          "surname": "Cormen",
          "title": "Introduction to Algorithms",
          "x": 30.31194305419922,
          "y": -22.441333770751953
         },
         {
          "surname": "Dickens",
          "title": "Hard Times",
          "x": -24.38096046447754,
          "y": -20.827342987060547
         },
         {
          "surname": "Defoe",
          "title": "Robinson Crusoe",
          "x": -25.1483211517334,
          "y": -16.31450843811035
         },
         {
          "surname": "Silko",
          "title": "Ceremony",
          "x": -35.77520751953125,
          "y": -0.4852963387966156
         },
         {
          "surname": "Atkins",
          "title": "Physical Chemistry",
          "x": 30.030569076538086,
          "y": -15.878314018249512
         },
         {
          "surname": "Beckett",
          "title": "Waiting for Godot",
          "x": -23.169891357421875,
          "y": -16.610485076904297
         },
         {
          "surname": "Wollstonecraft",
          "title": "The Rights of Woman",
          "x": -8.456944465637207,
          "y": -25.476192474365234
         },
         {
          "surname": "Chang",
          "title": "Chemistry",
          "x": 26.866439819335938,
          "y": -12.169690132141113
         },
         {
          "surname": "Creswell",
          "title": "Research Design : Qualitative & Quantitative Approaches",
          "x": 17.065322875976562,
          "y": -20.618911743164062
         },
         {
          "surname": "Barthes",
          "title": "Mythologies",
          "x": 12.090705871582031,
          "y": -1.1179864406585693
         },
         {
          "surname": "Babbie",
          "title": "The Practice of Social Research",
          "x": 20.100610733032227,
          "y": -8.564681053161621
         },
         {
          "surname": "Boccaccio",
          "title": "The Decameron",
          "x": -11.186500549316406,
          "y": -9.053489685058594
         },
         {
          "surname": "Plato.",
          "title": "Phaedo",
          "x": 10.519969940185547,
          "y": 31.592655181884766
         },
         {
          "surname": "Burke",
          "title": "Reflections on the Revolution in France",
          "x": 1.7523789405822754,
          "y": 0.41977745294570923
         },
         {
          "surname": "Taylor",
          "title": "Economics",
          "x": 20.182710647583008,
          "y": -5.011074066162109
         },
         {
          "surname": "Joyce",
          "title": "Dubliners",
          "x": -28.450899124145508,
          "y": -15.24919319152832
         },
         {
          "surname": "Aeschylus.",
          "title": "Agamemnon,",
          "x": 27.938405990600586,
          "y": 33.46260452270508
         },
         {
          "surname": "English",
          "title": "Contemporary Literature",
          "x": -23.716400146484375,
          "y": -17.965042114257812
         },
         {
          "surname": "Heidegger",
          "title": "Nietzsche",
          "x": 8.317501068115234,
          "y": 23.805490493774414
         },
         {
          "surname": "Tindall",
          "title": "America : A Narrative History",
          "x": 7.133065223693848,
          "y": -17.400949478149414
         },
         {
          "surname": "Mullins",
          "title": "Management and Organisational Behaviour",
          "x": 31.249521255493164,
          "y": -9.826067924499512
         },
         {
          "surname": "Friedman",
          "title": "The Lexus and the Olive Tree",
          "x": -2.3834939002990723,
          "y": 10.136387825012207
         },
         {
          "surname": "Nietzsche",
          "title": "The Genealogy of Morals",
          "x": 7.49456262588501,
          "y": 19.94175148010254
         },
         {
          "surname": "Norman",
          "title": "The Design of Everyday Things",
          "x": 26.587352752685547,
          "y": -9.093289375305176
         },
         {
          "surname": "Hacker",
          "title": "Rules for Writers",
          "x": 8.076797485351562,
          "y": -17.346914291381836
         },
         {
          "surname": "James",
          "title": "American History",
          "x": -24.18401527404785,
          "y": 11.350055694580078
         },
         {
          "surname": "Barber",
          "title": "Jihad vs. McWorld",
          "x": -2.1107728481292725,
          "y": 10.097427368164062
         },
         {
          "surname": "Flaubert",
          "title": "Madame Bovary",
          "x": -28.994001388549805,
          "y": -7.775605201721191
         },
         {
          "surname": "Hesiod.",
          "title": "Theogony",
          "x": 27.46207618713379,
          "y": 34.32170486450195
         },
         {
          "surname": "Plato.",
          "title": "Phaedrus",
          "x": 9.84334659576416,
          "y": 32.68365478515625
         },
         {
          "surname": "Salinger",
          "title": "The Catcher in the Rye",
          "x": -30.96209144592285,
          "y": -1.1083530187606812
         },
         {
          "surname": "Freud",
          "title": "The Interpretation of Dreams",
          "x": 5.779036045074463,
          "y": -1.7633144855499268
         },
         {
          "surname": "Kreyszig",
          "title": "Advanced Engineering Mathematics",
          "x": 30.617006301879883,
          "y": -20.00800132751465
         },
         {
          "surname": "Wilde",
          "title": "The Picture of Dorian Gray",
          "x": -28.501140594482422,
          "y": -16.753463745117188
         },
         {
          "surname": "Adorno",
          "title": "The Culture Industry",
          "x": 10.714698791503906,
          "y": 3.507927656173706
         },
         {
          "surname": "Du bois",
          "title": "The Souls of Black Folk",
          "x": -25.12312889099121,
          "y": 9.410107612609863
         },
         {
          "surname": "Remarque",
          "title": "All Quiet on the Western Front",
          "x": -25.685810089111328,
          "y": -5.0977678298950195
         },
         {
          "surname": "Cottrell",
          "title": "Critical Thinking Skills : Developing Effective Analysis and Argument",
          "x": 10.547662734985352,
          "y": -15.612543106079102
         },
         {
          "surname": "Bodie",
          "title": "Investments",
          "x": 27.503971099853516,
          "y": -15.63071060180664
         },
         {
          "surname": "Kant",
          "title": "Critique of Pure Reason",
          "x": 7.708005905151367,
          "y": 26.79608154296875
         },
         {
          "surname": "Hitler",
          "title": "Mein Kampf",
          "x": 2.8296632766723633,
          "y": 12.520700454711914
         },
         {
          "surname": "Walker",
          "title": "Everyday Use",
          "x": -29.691499710083008,
          "y": 15.953136444091797
         },
         {
          "surname": "Jackson",
          "title": "The Lottery",
          "x": -30.082780838012695,
          "y": 16.461301803588867
         },
         {
          "surname": "Hansberry",
          "title": "A Raisin in the Sun",
          "x": -36.919151306152344,
          "y": 1.0820081233978271
         },
         {
          "surname": "Shakespeare",
          "title": "Twelfth Night",
          "x": -13.621052742004395,
          "y": -14.345823287963867
         },
         {
          "surname": "Elmasri",
          "title": "Fundamentals of Database Systems",
          "x": 29.44703483581543,
          "y": -21.644729614257812
         },
         {
          "surname": "Plato.",
          "title": "Gorgias",
          "x": 9.742684364318848,
          "y": 31.851924896240234
         },
         {
          "surname": "Rampolla",
          "title": "A Pocket Guide to Writing in History",
          "x": 8.698570251464844,
          "y": -16.647573471069336
         },
         {
          "surname": "James",
          "title": "The Turn of the Screw",
          "x": -36.67970275878906,
          "y": -3.119075059890747
         },
         {
          "surname": "Williams",
          "title": "A Streetcar Named Desire",
          "x": -37.58772277832031,
          "y": 0.31399834156036377
         },
         {
          "surname": "Pope",
          "title": "The Rape of the Lock",
          "x": -11.432180404663086,
          "y": -21.129112243652344
         },
         {
          "surname": "Robbins",
          "title": "Organizational Behavior",
          "x": 28.310487747192383,
          "y": -14.799823760986328
         },
         {
          "surname": "Mcluhan",
          "title": "Understanding Media",
          "x": 17.377958297729492,
          "y": -1.8089072704315186
         },
         {
          "surname": "Herodotus.",
          "title": "The Histories",
          "x": 25.7302303314209,
          "y": 32.96026611328125
         },
         {
          "surname": "Behn",
          "title": "Oroonoko",
          "x": -12.149238586425781,
          "y": -15.542679786682129
         },
         {
          "surname": "Kieso",
          "title": "Intermediate Accounting",
          "x": 25.494455337524414,
          "y": -14.340651512145996
         },
         {
          "surname": "Goleman",
          "title": "Emotional Intelligence",
          "x": -9.348689079284668,
          "y": 7.646921157836914
         },
         {
          "surname": "Marvell",
          "title": "To His Coy Mistress",
          "x": -11.230582237243652,
          "y": -21.044790267944336
         },
         {
          "surname": "Herodotus.",
          "title": "History",
          "x": 25.5133113861084,
          "y": 33.13340377807617
         },
         {
          "surname": "Polanyi",
          "title": "The Great Transformation",
          "x": 3.061227798461914,
          "y": 8.853693962097168
         },
         {
          "surname": "Marx",
          "title": "Manifesto of the Communist Party,",
          "x": 7.133861064910889,
          "y": 9.807320594787598
         },
         {
          "surname": "Hume",
          "title": "An Enquiry Concerning Human Understanding",
          "x": 9.089234352111816,
          "y": 28.35232162475586
         },
         {
          "surname": "Lincoln",
          "title": "The Gettysburg Address",
          "x": -25.118131637573242,
          "y": 16.31964111328125
         },
         {
          "surname": "Time",
          "title": "World War II",
          "x": -4.064692497253418,
          "y": 6.826504230499268
         },
         {
          "surname": "Gellner",
          "title": "Nationalism",
          "x": 0.14170721173286438,
          "y": 7.81894063949585
         },
         {
          "surname": "Tzu",
          "title": "The Art of War",
          "x": -9.62502384185791,
          "y": 8.364034652709961
         },
         {
          "surname": "Walker",
          "title": "The Color Purple",
          "x": -31.510644912719727,
          "y": -0.8291702270507812
         },
         {
          "surname": "Austen",
          "title": "Emma",
          "x": -24.594703674316406,
          "y": -18.790557861328125
         },
         {
          "surname": "Thucydides.",
          "title": "History of the Peloponnesian War",
          "x": 22.909564971923828,
          "y": 32.13609313964844
         },
         {
          "surname": "Landow",
          "title": "Hypertext 2.0",
          "x": 12.023216247558594,
          "y": -6.854630470275879
         },
         {
          "surname": "Hull",
          "title": "Options, Futures, and Other Derivatives",
          "x": 31.490798950195312,
          "y": -12.198688507080078
         },
         {
          "surname": "Booth",
          "title": "The Craft of Research",
          "x": 9.693510055541992,
          "y": -13.662631034851074
         },
         {
          "surname": "Giddens",
          "title": "Sociology",
          "x": 10.62125301361084,
          "y": 6.938874244689941
         },
         {
          "surname": "Drucker",
          "title": "Management",
          "x": 18.752302169799805,
          "y": -8.537395477294922
         },
         {
          "surname": "Brown",
          "title": "Black and White",
          "x": -17.062971115112305,
          "y": -5.309777736663818
         },
         {
          "surname": "Rhys",
          "title": "Wide Sargasso Sea",
          "x": -29.391225814819336,
          "y": -13.848591804504395
         },
         {
          "surname": "Brown",
          "title": "Chemistry, the Central Science",
          "x": 29.67681884765625,
          "y": -17.445919036865234
         },
         {
          "surname": "Melville",
          "title": "Bartleby, the Scrivener",
          "x": -28.421396255493164,
          "y": 16.023380279541016
         },
         {
          "surname": "Kerouac",
          "title": "On the Road",
          "x": -32.085453033447266,
          "y": -0.0858674868941307
         },
         {
          "surname": "Jefferson",
          "title": "Notes on the State of Virginia",
          "x": -26.16754913330078,
          "y": 16.404064178466797
         },
         {
          "surname": "Stevenson",
          "title": "Dr. Jekyll and Mr. Hyde",
          "x": -26.908945083618164,
          "y": -19.51765251159668
         },
         {
          "surname": "Silberschatz",
          "title": "Operating System Concepts",
          "x": 29.908838272094727,
          "y": -21.891448974609375
         },
         {
          "surname": "Manovich",
          "title": "The Language of New Media",
          "x": 14.472087860107422,
          "y": -2.336933135986328
         },
         {
          "surname": "Lee",
          "title": "To Kill a Mockingbird",
          "x": -30.81096839904785,
          "y": -1.9815940856933594
         },
         {
          "surname": "Delillo",
          "title": "White Noise",
          "x": -34.148643493652344,
          "y": -3.3197131156921387
         },
         {
          "surname": "Jacobs",
          "title": "The Death and Life of Great American Cities",
          "x": 15.297429084777832,
          "y": -4.080438137054443
         },
         {
          "surname": "Shakespeare",
          "title": "The Merchant of Venice",
          "x": -15.019916534423828,
          "y": -13.223895072937012
         },
         {
          "surname": "Aristophanes.",
          "title": "The Clouds",
          "x": 26.04792594909668,
          "y": 34.16203689575195
         },
         {
          "surname": "Denscombe",
          "title": "The Good Research Guide : For Small-Scale Social Research Projects",
          "x": 18.208860397338867,
          "y": -21.501020431518555
         },
         {
          "surname": "Chaucer",
          "title": "The General Prologue",
          "x": -10.137492179870605,
          "y": -14.032719612121582
         },
         {
          "surname": "James",
          "title": "Pragmatism",
          "x": 9.357531547546387,
          "y": 23.00726318359375
         },
         {
          "surname": "Plato.",
          "title": "The Apology and Crito",
          "x": 11.084152221679688,
          "y": 32.1276969909668
         },
         {
          "surname": "Mill",
          "title": "The Subjection of Women",
          "x": 2.155381441116333,
          "y": -0.9088028073310852
         },
         {
          "surname": "Ehrenreich",
          "title": "Nickel and Dimed : On (Not) Getting by in America",
          "x": 4.876519680023193,
          "y": 6.571008682250977
         },
         {
          "surname": "Cutnell",
          "title": "Physics",
          "x": 32.074039459228516,
          "y": -14.252884864807129
         },
         {
          "surname": "Glaspell",
          "title": "Trifles",
          "x": -31.931886672973633,
          "y": 13.987373352050781
         },
         {
          "surname": "Marie",
          "title": "Lais",
          "x": -13.358907699584961,
          "y": -12.240270614624023
         },
         {
          "surname": "Said",
          "title": "Culture and Imperialism",
          "x": 10.631555557250977,
          "y": 0.46260368824005127
         },
         {
          "surname": "Levi",
          "title": "Auschwitz",
          "x": 11.437270164489746,
          "y": -3.9367523193359375
         },
         {
          "surname": "Orwell",
          "title": "Animal Farm",
          "x": -29.765451431274414,
          "y": -5.801004409790039
         },
         {
          "surname": "Williams",
          "title": "The Glass Menagerie",
          "x": -38.021244049072266,
          "y": 0.23693732917308807
         },
         {
          "surname": "Camus",
          "title": "The Stranger",
          "x": -28.810222625732422,
          "y": -6.539071083068848
         },
         {
          "surname": "Gandhi",
          "title": "Rajiv",
          "x": 6.372529029846191,
          "y": 22.163156509399414
         },
         {
          "surname": "Held",
          "title": "Globalization",
          "x": 1.7430319786071777,
          "y": 7.785885334014893
         },
         {
          "surname": "Rosen",
          "title": "Discrete Mathematics and Its Applications",
          "x": 29.385263442993164,
          "y": -23.724266052246094
         },
         {
          "surname": "Tortora",
          "title": "Principles of Anatomy and Physiology",
          "x": 29.745573043823242,
          "y": -13.33001708984375
         },
         {
          "surname": "Kernighan",
          "title": "The C Programming Language",
          "x": 26.682634353637695,
          "y": -20.520038604736328
         },
         {
          "surname": "Wright",
          "title": "Native Son",
          "x": -31.628650665283203,
          "y": 0.255059152841568
         },
         {
          "surname": "Black",
          "title": "War and the World, 1450-2000",
          "x": 6.155559539794922,
          "y": -13.908711433410645
         },
         {
          "surname": "Pynchon",
          "title": "The Crying of Lot 49",
          "x": -35.35842514038086,
          "y": -1.4015849828720093
         },
         {
          "surname": "Blanchard",
          "title": "Macroeconomics",
          "x": 27.07732391357422,
          "y": -10.945369720458984
         },
         {
          "surname": "Miller",
          "title": "The Crucible",
          "x": -33.31362533569336,
          "y": 2.138252019882202
         },
         {
          "surname": "Blake",
          "title": "Songs of Experience",
          "x": -10.422025680541992,
          "y": -25.575986862182617
         },
         {
          "surname": "Hemingway",
          "title": "The Sun Also Rises",
          "x": -32.59192657470703,
          "y": -0.525220513343811
         },
         {
          "surname": "Spenser",
          "title": "The Faerie Queene, 1596",
          "x": -10.993498802185059,
          "y": -14.846672058105469
         },
         {
          "surname": "Mcmurry",
          "title": "Organic Chemistry",
          "x": 25.582664489746094,
          "y": -15.547734260559082
         },
         {
          "surname": "Hewitt",
          "title": "Conceptual Physics",
          "x": 25.483184814453125,
          "y": -14.606478691101074
         },
         {
          "surname": "Bach",
          "title": "The Fugue",
          "x": 3.569253444671631,
          "y": -5.8231377601623535
         },
         {
          "surname": "Thomas",
          "title": "Summa Theologica",
          "x": 6.772618770599365,
          "y": 29.749982833862305
         },
         {
          "surname": "Arnold",
          "title": "Dover Beach",
          "x": -10.719395637512207,
          "y": -27.52678108215332
         },
         {
          "surname": "Kamien",
          "title": "Music : An Appreciation",
          "x": 3.505617141723633,
          "y": -4.827356338500977
         },
         {
          "surname": "Hamilton",
          "title": "The Federalist Papers",
          "x": -21.41876220703125,
          "y": 14.850811004638672
         },
         {
          "surname": "Kotter",
          "title": "Leading Change",
          "x": -9.719983100891113,
          "y": 8.79801082611084
         },
         {
          "surname": "Axelrod",
          "title": "The Evolution of Cooperation",
          "x": -7.19436502456665,
          "y": 11.085083961486816
         },
         {
          "surname": "Durkheim",
          "title": "Suicide",
          "x": 8.40558910369873,
          "y": 8.941944122314453
         },
         {
          "surname": "Freud",
          "title": "The Unconscious",
          "x": 8.829986572265625,
          "y": -0.14028632640838623
         },
         {
          "surname": "Pinker",
          "title": "The Language Instinct",
          "x": -25.59016227722168,
          "y": -13.17243480682373
         },
         {
          "surname": "Walker",
          "title": "Fundamentals of Physics",
          "x": 34.693206787109375,
          "y": -14.157533645629883
         },
         {
          "surname": "Poe",
          "title": "Fall of the House of Usher",
          "x": -29.310779571533203,
          "y": 15.996197700500488
         },
         {
          "surname": "Kotler",
          "title": "Principles of Marketing",
          "x": 28.672969818115234,
          "y": -12.801239013671875
         },
         {
          "surname": "Greene",
          "title": "Econometric Analysis",
          "x": 27.266347885131836,
          "y": -15.935293197631836
         },
         {
          "surname": "Eliot",
          "title": "Ezra Pound",
          "x": -36.96515655517578,
          "y": -3.5543973445892334
         },
         {
          "surname": "Hesiod.",
          "title": "Works & Days",
          "x": 27.26237678527832,
          "y": 34.193599700927734
         },
         {
          "surname": "Plato.",
          "title": "Republic, Book X",
          "x": 9.118794441223145,
          "y": 29.52818489074707
         },
         {
          "surname": "Pepys",
          "title": "Diary",
          "x": -11.93427562713623,
          "y": -15.156249046325684
         },
         {
          "surname": "Larsen",
          "title": "Passing",
          "x": -34.36124801635742,
          "y": -1.3428488969802856
         },
         {
          "surname": "Bradford",
          "title": "Of Plymouth Plantation, 1620-1647",
          "x": -27.385358810424805,
          "y": 16.131547927856445
         },
         {
          "surname": "Hardt",
          "title": "Empire",
          "x": 11.455121040344238,
          "y": 6.446863174438477
         },
         {
          "surname": "Blaxter",
          "title": "How to Research",
          "x": 17.410354614257812,
          "y": -21.655099868774414
         },
         {
          "surname": "Darwin",
          "title": "The Descent of Man",
          "x": 3.0784924030303955,
          "y": -1.4407156705856323
         },
         {
          "surname": "Darwin",
          "title": "On the Origin of Species",
          "x": 3.455425262451172,
          "y": -1.4703078269958496
         },
         {
          "surname": "Stallings",
          "title": "Data and Computer Communications",
          "x": 29.515060424804688,
          "y": -21.51015281677246
         },
         {
          "surname": "Morrison",
          "title": "Song of Solomon",
          "x": -33.6840705871582,
          "y": -2.8290600776672363
         },
         {
          "surname": "Faulkner",
          "title": "The Sound and the Fury",
          "x": -35.062435150146484,
          "y": -1.180295467376709
         },
         {
          "surname": "Deitel",
          "title": "Java : How to Program",
          "x": 22.903480529785156,
          "y": -22.228504180908203
         },
         {
          "surname": "Tanenbaum",
          "title": "Modern Operating Systems",
          "x": 29.660526275634766,
          "y": -21.189355850219727
         },
         {
          "surname": "Friedman",
          "title": "Capitalism and Freedom",
          "x": 1.3115644454956055,
          "y": 11.290420532226562
         },
         {
          "surname": "Melville",
          "title": "Billy Budd",
          "x": -31.011228561401367,
          "y": 13.22264575958252
         },
         {
          "surname": "Clausewitz",
          "title": "On War",
          "x": -8.867834091186523,
          "y": 10.091737747192383
         },
         {
          "surname": "Coleridge",
          "title": "The Rime of the Ancient Mariner",
          "x": -11.162342071533203,
          "y": -25.629356384277344
         },
         {
          "surname": "Durkheim",
          "title": "The Elementary Forms of Religious Life",
          "x": 8.792673110961914,
          "y": 8.424732208251953
         },
         {
          "surname": "Homer.",
          "title": "Iliad Odyssey",
          "x": 26.11581039428711,
          "y": 31.32058334350586
         },
         {
          "surname": "Aristotle.",
          "title": "The Physics",
          "x": 9.9589262008667,
          "y": 29.844270706176758
         },
         {
          "surname": "Coleridge",
          "title": "The Ancient Mariner",
          "x": -11.226652145385742,
          "y": -25.83710289001465
         },
         {
          "surname": "James",
          "title": "Daisy Miller",
          "x": -32.96221923828125,
          "y": 7.000319004058838
         },
         {
          "surname": "Blake",
          "title": "Songs of Innocence and Experience",
          "x": -10.567389488220215,
          "y": -25.476240158081055
         },
         {
          "surname": "Dawkins",
          "title": "The Selfish Gene",
          "x": 7.761260986328125,
          "y": 20.121179580688477
         },
         {
          "surname": "Forster",
          "title": "A Passage to India",
          "x": -28.60790252685547,
          "y": -14.890551567077637
         },
         {
          "surname": "Eliot",
          "title": "Middlemarch",
          "x": -26.31258773803711,
          "y": -17.348745346069336
         },
         {
          "surname": "Abrams",
          "title": "The Norton Anthology of English Literature",
          "x": -12.443973541259766,
          "y": -22.019969940185547
         },
         {
          "surname": "England",
          "title": "The Sixteenth Century",
          "x": -10.630435943603516,
          "y": -10.617254257202148
         },
         {
          "surname": "Turner",
          "title": "The Frontier in American History",
          "x": -25.60311508178711,
          "y": 14.651131629943848
         },
         {
          "surname": "Nabokov",
          "title": "Lolita",
          "x": -31.631996154785156,
          "y": -5.917856693267822
         },
         {
          "surname": "Engels",
          "title": "On Marx",
          "x": 4.8495707511901855,
          "y": 11.010937690734863
         },
         {
          "surname": "Jameson",
          "title": "Postmodernism, Or, the Cultural Logic of Late Capitalism",
          "x": 12.470357894897461,
          "y": 1.3064912557601929
         },
         {
          "surname": "Plato.",
          "title": "Five Dialogues",
          "x": 10.76772689819336,
          "y": 29.8342227935791
         },
         {
          "surname": "Abrams",
          "title": "A Glossary of Literary Terms",
          "x": -13.210018157958984,
          "y": -22.796207427978516
         },
         {
          "surname": "Morrison",
          "title": "Sula",
          "x": -34.03291320800781,
          "y": -2.1847877502441406
         },
         {
          "surname": "Lakoff",
          "title": "Metaphors We Live By",
          "x": 11.935585975646973,
          "y": -7.528989791870117
         },
         {
          "surname": "Gellner",
          "title": "Nations and Nationalism",
          "x": 0.1621660441160202,
          "y": 7.7889299392700195
         },
         {
          "surname": "Putnam",
          "title": "Bowling Alone : The Collapse and Revival of American Community",
          "x": -0.8512607216835022,
          "y": 10.517123222351074
         },
         {
          "surname": "Sontag",
          "title": "On Photography",
          "x": 13.151280403137207,
          "y": -5.455867767333984
         },
         {
          "surname": "Krugman",
          "title": "International Economics : Theory and Policy",
          "x": 25.088666915893555,
          "y": -10.347199440002441
         },
         {
          "surname": "Beethoven",
          "title": "Symphony No. 2",
          "x": 4.008951187133789,
          "y": -3.0057573318481445
         },
         {
          "surname": "Keats",
          "title": "Ode on a Grecian Urn :",
          "x": -11.01917839050293,
          "y": -26.96936798095703
         },
         {
          "surname": "Faulkner",
          "title": "As I Lay Dying",
          "x": -32.8388557434082,
          "y": -1.9978902339935303
         },
         {
          "surname": "Rousseau",
          "title": "A Discourse on Inequality",
          "x": -2.7563483715057373,
          "y": 16.617530822753906
         },
         {
          "surname": "Coase",
          "title": "The Problem of Social Cost",
          "x": 1.2336751222610474,
          "y": 9.560832977294922
         },
         {
          "surname": "Doyle",
          "title": "Sherlock Holmes",
          "x": -26.20049285888672,
          "y": -10.152581214904785
         },
         {
          "surname": "Lunsford",
          "title": "The Everyday Writer",
          "x": -24.397245407104492,
          "y": -12.277239799499512
         },
         {
          "surname": "Field",
          "title": "Archaeology in the U.S.S.R",
          "x": -13.647645950317383,
          "y": -8.461265563964844
         },
         {
          "surname": "Stiglitz",
          "title": "Economics",
          "x": 21.634986877441406,
          "y": -5.482504367828369
         },
         {
          "surname": "Creswell",
          "title": "Research Design : Qualitative, Quantitative, and Mixed Methods Approaches",
          "x": 16.905590057373047,
          "y": -21.07161521911621
         },
         {
          "surname": "Weiten",
          "title": "Psychology : Themes and Variations",
          "x": 16.37938117980957,
          "y": -15.151330947875977
         },
         {
          "surname": "Mills",
          "title": "The Power Elite",
          "x": 6.233708381652832,
          "y": 8.424603462219238
         },
         {
          "surname": "Waltz",
          "title": "Theory of International Politics",
          "x": -7.4990081787109375,
          "y": 10.03459644317627
         },
         {
          "surname": "Wittgenstein",
          "title": "Philosophical Investigations",
          "x": 7.8447957038879395,
          "y": 23.976850509643555
         },
         {
          "surname": "Kant",
          "title": "Perpetual Peace",
          "x": -3.885002374649048,
          "y": 16.1229305267334
         },
         {
          "surname": "Tolkien",
          "title": "The Lord of the Rings",
          "x": -30.926742553710938,
          "y": -7.54997444152832
         },
         {
          "surname": "Bellamy",
          "title": "Looking Backward, 2000-1887",
          "x": -25.244586944580078,
          "y": 8.753188133239746
         },
         {
          "surname": "Tufte",
          "title": "The Visual Display of Quantitative Information",
          "x": 11.271660804748535,
          "y": -16.666032791137695
         },
         {
          "surname": "Gujarati",
          "title": "Basic Econometrics",
          "x": 22.32958221435547,
          "y": -12.204901695251465
         },
         {
          "surname": "Machiavelli",
          "title": "The Discourses",
          "x": -5.382842540740967,
          "y": 15.338061332702637
         },
         {
          "surname": "Golding",
          "title": "Lord of the Flies",
          "x": -30.766677856445312,
          "y": -6.2399187088012695
         },
         {
          "surname": "Wells",
          "title": "The Time Machine",
          "x": -30.028554916381836,
          "y": -12.36552906036377
         },
         {
          "surname": "Mankiw",
          "title": "Principles of Microeconomics",
          "x": 26.39373779296875,
          "y": -9.412955284118652
         },
         {
          "surname": "Nietzsche",
          "title": "Beyond Good and Evil",
          "x": 8.222452163696289,
          "y": 23.023712158203125
         },
         {
          "surname": "Dickens",
          "title": "A Christmas Carol",
          "x": -24.412368774414062,
          "y": -20.80708122253418
         },
         {
          "surname": "Butler",
          "title": "Gender Trouble : Feminism and the Subversion of Identity",
          "x": 11.559216499328613,
          "y": 2.33243727684021
         },
         {
          "surname": "Deitel",
          "title": "Java",
          "x": 22.910139083862305,
          "y": -22.1986026763916
         },
         {
          "surname": "Keegan",
          "title": "World War I",
          "x": -15.415496826171875,
          "y": 46.007041931152344
         },
         {
          "surname": "Melville",
          "title": "Benito Cereno",
          "x": -29.72376823425293,
          "y": 14.903322219848633
         },
         {
          "surname": "Paine",
          "title": "Rights of Man",
          "x": 2.0404443740844727,
          "y": -0.6926262974739075
         },
         {
          "surname": "Gould",
          "title": "The Mismeasure of Man",
          "x": 8.58228588104248,
          "y": 6.12909460067749
         },
         {
          "surname": "Gonzalez",
          "title": "Digital Image Processing",
          "x": 30.621610641479492,
          "y": -20.803451538085938
         },
         {
          "surname": "Northouse",
          "title": "Leadership : Theory and Practice",
          "x": -9.40270709991455,
          "y": 8.645111083984375
         },
         {
          "surname": "Lehninger",
          "title": "Principles of Biochemistry",
          "x": 28.50678825378418,
          "y": -12.775823593139648
         },
         {
          "surname": "Wharton",
          "title": "The House of Mirth",
          "x": -35.67787170410156,
          "y": -1.7529242038726807
         },
         {
          "surname": "Dickens",
          "title": "Oliver Twist",
          "x": -27.998762130737305,
          "y": -14.203092575073242
         },
         {
          "surname": "Myers",
          "title": "Social Psychology",
          "x": 17.860523223876953,
          "y": -11.931822776794434
         },
         {
          "surname": "Collins",
          "title": "Good to Great",
          "x": -9.943742752075195,
          "y": 9.118159294128418
         },
         {
          "surname": "Castells",
          "title": "The Rise of the Network Society",
          "x": 11.010668754577637,
          "y": 6.574432373046875
         },
         {
          "surname": "Shakespeare",
          "title": "Julius Caesar",
          "x": -15.165231704711914,
          "y": -12.521563529968262
         },
         {
          "surname": "Mankiw",
          "title": "Principles of Economics",
          "x": 25.16980743408203,
          "y": -10.82773208618164
         },
         {
          "surname": "Schumpeter",
          "title": "Capitalism, Socialism, and Democracy",
          "x": 0.47950851917266846,
          "y": 10.967939376831055
         },
         {
          "surname": "Wordsworth",
          "title": "The Prelude, 1798-1799",
          "x": -11.689115524291992,
          "y": -25.14019775390625
         },
         {
          "surname": "Rachels",
          "title": "The Elements of Moral Philosophy",
          "x": 10.023726463317871,
          "y": 26.73493003845215
         },
         {
          "surname": "Serway",
          "title": "Physics for Scientists and Engineers",
          "x": 34.44502258300781,
          "y": -14.80491828918457
         },
         {
          "surname": "Chaucer",
          "title": "The Canterbury Tales: Prologue",
          "x": -10.136370658874512,
          "y": -13.844477653503418
         },
         {
          "surname": "Case",
          "title": "Real Estate",
          "x": 17.590789794921875,
          "y": -8.978150367736816
         },
         {
          "surname": "North",
          "title": "Institutions, Institutional Change and Economic Performance",
          "x": 2.638324499130249,
          "y": 8.069064140319824
         },
         {
          "surname": "Pindyck",
          "title": "Microeconomics",
          "x": 28.865930557250977,
          "y": -14.674391746520996
         },
         {
          "surname": "Irving",
          "title": "Rip Van Winkle",
          "x": -27.775754928588867,
          "y": 16.702144622802734
         },
         {
          "surname": "Coetzee",
          "title": "Waiting for the Barbarians",
          "x": -15.26476764678955,
          "y": 49.034454345703125
         },
         {
          "surname": "Negroponte",
          "title": "Being Digital",
          "x": 12.071887016296387,
          "y": -0.9605741500854492
         },
         {
          "surname": "Malthus",
          "title": "On Population",
          "x": 3.6012935638427734,
          "y": 13.195889472961426
         },
         {
          "surname": "James",
          "title": "The Varieties of Religious Experience",
          "x": 10.8707914352417,
          "y": 21.640727996826172
         },
         {
          "surname": "Tacitus",
          "title": "Annals",
          "x": 23.658618927001953,
          "y": 31.902565002441406
         },
         {
          "surname": "Fanon",
          "title": "Black Skin, White Masks",
          "x": 11.645763397216797,
          "y": 2.495730400085449
         },
         {
          "surname": "Eagleton",
          "title": "Literary Theory : An Introduction",
          "x": -22.73970603942871,
          "y": -22.722721099853516
         },
         {
          "surname": "Poe",
          "title": "The Raven,",
          "x": -29.009302139282227,
          "y": 17.073410034179688
         },
         {
          "surname": "Wordsworth",
          "title": "Preface to Lyrical Ballads",
          "x": -9.898177146911621,
          "y": -26.449247360229492
         },
         {
          "surname": "Nozick",
          "title": "Anarchy, State, and Utopia",
          "x": -1.2695976495742798,
          "y": 17.918607711791992
         },
         {
          "surname": "Brontë",
          "title": "Jane Eyre",
          "x": -25.382219314575195,
          "y": -19.85405731201172
         },
         {
          "surname": "Fisher",
          "title": "Getting to Yes : Negotiating Agreement Without Giving In",
          "x": 7.274764060974121,
          "y": -14.365945816040039
         },
         {
          "surname": "Rossetti",
          "title": "Goblin Market",
          "x": -11.53158187866211,
          "y": -26.45573616027832
         },
         {
          "surname": "Hart",
          "title": "Doing a Literature Review : Releasing the Social Science Research Imagination",
          "x": 17.396198272705078,
          "y": -19.56594467163086
         },
         {
          "surname": "Turner",
          "title": "The Significance of the Frontier in American History",
          "x": -25.554941177368164,
          "y": 14.534225463867188
         },
         {
          "surname": "Fowler",
          "title": "The Little, Brown Handbook",
          "x": -29.284788131713867,
          "y": -4.515469551086426
         },
         {
          "surname": "Debord",
          "title": "Society of the Spectacle",
          "x": 11.557890892028809,
          "y": 3.652643918991089
         },
         {
          "surname": "Horace.",
          "title": "Odes",
          "x": 24.405349731445312,
          "y": 32.09132385253906
         },
         {
          "surname": "Sophocles.",
          "title": "The Theban Plays",
          "x": 27.5267391204834,
          "y": 31.578527450561523
         },
         {
          "surname": "Ritzer",
          "title": "The McDonaldization of Society 5",
          "x": 10.057978630065918,
          "y": 8.112508773803711
         },
         {
          "surname": "Austen",
          "title": "Northanger Abbey",
          "x": -24.91428565979004,
          "y": -19.21909523010254
         },
         {
          "surname": "Crane",
          "title": "The Open Boat",
          "x": -30.068012237548828,
          "y": 13.933953285217285
         },
         {
          "surname": "Garrison",
          "title": "Managerial Accounting",
          "x": 25.59075355529785,
          "y": -13.872220993041992
         },
         {
          "surname": "Nietzsche",
          "title": "The Birth of Tragedy",
          "x": 10.58600902557373,
          "y": 20.10430145263672
         },
         {
          "surname": "Bentham",
          "title": "Utilitarianism",
          "x": 9.051095962524414,
          "y": 26.795244216918945
         },
         {
          "surname": "Thompson",
          "title": "The Making of the English Working Class",
          "x": 7.553699493408203,
          "y": 6.402143955230713
         },
         {
          "surname": "Tufte",
          "title": "Envisioning Information",
          "x": 20.070781707763672,
          "y": -10.901201248168945
         },
         {
          "surname": "Boethius",
          "title": "The Consolation of Philosophy",
          "x": -13.459802627563477,
          "y": -6.8081583976745605
         },
         {
          "surname": "Ramakrishnan",
          "title": "Database Management Systems",
          "x": 30.171300888061523,
          "y": -22.432109832763672
         },
         {
          "surname": "Roy",
          "title": "The God of Small Things",
          "x": -29.929853439331055,
          "y": -12.799790382385254
         },
         {
          "surname": "Miner",
          "title": "Body Ritual Among the Nacirema",
          "x": 10.594473838806152,
          "y": 9.032602310180664
         },
         {
          "surname": "Peterson",
          "title": "Computer Networks : A Systems Approach",
          "x": 30.82779312133789,
          "y": -21.83712387084961
         },
         {
          "surname": "Emerson",
          "title": "The American Scholar",
          "x": -28.007658004760742,
          "y": 16.23512077331543
         },
         {
          "surname": "Harris",
          "title": "Quantitative Chemical Analysis",
          "x": 32.34648132324219,
          "y": -11.73644733428955
         },
         {
          "surname": "Wilson",
          "title": "When Work Disappears",
          "x": 4.081103801727295,
          "y": 7.92457389831543
         },
         {
          "surname": "Alcott",
          "title": "Little Women",
          "x": -35.29056930541992,
          "y": 0.017447534948587418
         },
         {
          "surname": "Doctorow",
          "title": "Ragtime",
          "x": -16.156511306762695,
          "y": 50.439353942871094
         },
         {
          "surname": "Bhabha",
          "title": "The Location of Culture",
          "x": 11.360499382019043,
          "y": 0.8731876611709595
         },
         {
          "surname": "Certeau",
          "title": "The Practice of Everyday Life",
          "x": 12.175771713256836,
          "y": 3.3697128295898438
         },
         {
          "surname": "Edwards",
          "title": "Sinners in the Hands of an Angry God",
          "x": -27.256311416625977,
          "y": 16.56806182861328
         },
         {
          "surname": "Handel",
          "title": "The Messiah",
          "x": 2.7556967735290527,
          "y": -5.214974403381348
         },
         {
          "surname": "Brock",
          "title": "Biology of Microorganisms",
          "x": 27.27931022644043,
          "y": -12.08581256866455
         },
         {
          "surname": "Milton",
          "title": "Paradise Lost : Book I",
          "x": -9.945480346679688,
          "y": -14.47710132598877
         },
         {
          "surname": "Cohen",
          "title": "Research Methods in Education",
          "x": 18.473968505859375,
          "y": -21.42913246154785
         },
         {
          "surname": "Rogers",
          "title": "Diffusion of Innovations",
          "x": 19.453927993774414,
          "y": -7.5573859214782715
         },
         {
          "surname": "Marlowe",
          "title": "Doctor Faustus",
          "x": -12.258209228515625,
          "y": -14.440556526184082
         },
         {
          "surname": "Horowitz",
          "title": "The Art of Electronics",
          "x": 30.666847229003906,
          "y": -13.005478858947754
         },
         {
          "surname": "Paton",
          "title": "Cry, the Beloved Country",
          "x": -15.722524642944336,
          "y": 49.92710494995117
         },
         {
          "surname": "Merleau-ponty",
          "title": "Phenomenology of Perception",
          "x": 9.506169319152832,
          "y": 18.764949798583984
         },
         {
          "surname": "Stryer",
          "title": "Biochemistry",
          "x": 26.429651260375977,
          "y": -12.441068649291992
         },
         {
          "surname": "Coleridge",
          "title": "Kubla Khan",
          "x": -10.409477233886719,
          "y": -26.37751579284668
         },
         {
          "surname": "Diamond",
          "title": "Guns, Germs, and Steel : The Fates of Human Societies",
          "x": 0.8648468852043152,
          "y": 6.412320613861084
         },
         {
          "surname": "Corrigan",
          "title": "A Short Guide to Writing About Film",
          "x": -28.45097541809082,
          "y": -10.207636833190918
         },
         {
          "surname": "Tan",
          "title": "The Joy Luck Club",
          "x": -32.00383377075195,
          "y": -1.0652849674224854
         },
         {
          "surname": "Poe",
          "title": "The Cask of Amontillado",
          "x": -29.392736434936523,
          "y": 16.718765258789062
         },
         {
          "surname": "Dreiser",
          "title": "Sister Carrie",
          "x": -34.182090759277344,
          "y": 1.9200201034545898
         },
         {
          "surname": "Benjamin",
          "title": "Illuminations",
          "x": 9.761955261230469,
          "y": 0.2501187324523926
         },
         {
          "surname": "Hume",
          "title": "A Treatise of Human Nature",
          "x": 6.503509521484375,
          "y": 27.202116012573242
         },
         {
          "surname": "Hayek",
          "title": "The Road to Serfdom,",
          "x": 1.013456106185913,
          "y": 11.867660522460938
         },
         {
          "surname": "Stevens",
          "title": "UNIX Network Programming",
          "x": 29.432174682617188,
          "y": -22.865768432617188
         },
         {
          "surname": "Shakespeare",
          "title": "Henry IV,",
          "x": -13.65984058380127,
          "y": -13.068046569824219
         },
         {
          "surname": "Stroustrup",
          "title": "The C++ Programming Language",
          "x": 22.760454177856445,
          "y": -21.661624908447266
         },
         {
          "surname": "North",
          "title": "Institutional and Economic Change",
          "x": 2.3316099643707275,
          "y": 8.189288139343262
         },
         {
          "surname": "Wollstonecraft",
          "title": "A Vindication of the Rights of Women",
          "x": 2.10628342628479,
          "y": -1.3168525695800781
         },
         {
          "surname": "Young",
          "title": "Teacher Education",
          "x": -11.797127723693848,
          "y": -7.944624423980713
         },
         {
          "surname": "Pope",
          "title": "An Essay on Man",
          "x": -11.31821346282959,
          "y": -22.111644744873047
         },
         {
          "surname": "Marx",
          "title": "Selected Writings",
          "x": 5.1291985511779785,
          "y": 10.908419609069824
         },
         {
          "surname": "Barnet",
          "title": "A Short Guide to Writing About Art",
          "x": 10.707704544067383,
          "y": -16.440227508544922
         },
         {
          "surname": "Patton",
          "title": "Qualitative Evaluation Methods",
          "x": 17.84187889099121,
          "y": -18.981178283691406
         },
         {
          "surname": "Tennyson",
          "title": "In Memoriam",
          "x": -12.087845802307129,
          "y": -25.740478515625
         },
         {
          "surname": "Angelou",
          "title": "I Know Why the Caged Bird Sings",
          "x": -31.580631256103516,
          "y": 1.2098565101623535
         },
         {
          "surname": "Descartes",
          "title": "Discourse on Method ; And, Meditations",
          "x": 8.747943878173828,
          "y": 28.064437866210938
         },
         {
          "surname": "Dickens",
          "title": "A Tale of Two Cities",
          "x": -29.508548736572266,
          "y": -8.28256893157959
         },
         {
          "surname": "Field",
          "title": "Discovering Statistics Using R",
          "x": 24.68050193786621,
          "y": -16.899974822998047
         },
         {
          "surname": "Austen",
          "title": "Persuasion",
          "x": -25.067506790161133,
          "y": -18.905794143676758
         },
         {
          "surname": "Locke",
          "title": "Two Treatises of Government",
          "x": -4.200408458709717,
          "y": 15.984684944152832
         },
         {
          "surname": "Grove",
          "title": "A Dictionary of Music and Musicians (A.D. 1450-1889)",
          "x": 10.536188125610352,
          "y": -11.892763137817383
         },
         {
          "surname": "Austen",
          "title": "Sense and Sensibility",
          "x": -25.643428802490234,
          "y": -18.376623153686523
         },
         {
          "surname": "Williams",
          "title": "Style : Lessons in Clarity and Grace",
          "x": 9.143346786499023,
          "y": -17.43596839904785
         },
         {
          "surname": "Santrock",
          "title": "Life-Span Development",
          "x": 21.29616355895996,
          "y": -13.363357543945312
         },
         {
          "surname": "Hearn",
          "title": "Computer Graphics",
          "x": 27.77903938293457,
          "y": -20.287620544433594
         },
         {
          "surname": "Apuleius.",
          "title": "The Golden Ass",
          "x": 25.100971221923828,
          "y": 30.368961334228516
         },
         {
          "surname": "Deleuze",
          "title": "Foucault",
          "x": 16.608428955078125,
          "y": -0.913911759853363
         },
         {
          "surname": "Montesquieu",
          "title": "The Spirit of the Laws",
          "x": -3.4284751415252686,
          "y": 15.974737167358398
         },
         {
          "surname": "Lindblom",
          "title": "The Science of \"Muddling Through\"",
          "x": 8.039423942565918,
          "y": -15.763846397399902
         },
         {
          "surname": "Baudrillard",
          "title": "Simulations",
          "x": 12.107998847961426,
          "y": 2.2417218685150146
         },
         {
          "surname": "Bradbury",
          "title": "Fahrenheit 451",
          "x": -30.562652587890625,
          "y": -2.5388758182525635
         },
         {
          "surname": "Saussure",
          "title": "Course in General Linguistics",
          "x": 10.855912208557129,
          "y": 0.3339696228504181
         },
         {
          "surname": "World bank.",
          "title": "Health",
          "x": -0.9989310503005981,
          "y": 5.128273010253906
         },
         {
          "surname": "Kissinger",
          "title": "Diplomacy",
          "x": -7.989858150482178,
          "y": 9.181640625
         },
         {
          "surname": "Turing",
          "title": "Computing Machinery and Intelligence",
          "x": 10.662432670593262,
          "y": 26.91688346862793
         },
         {
          "surname": "Heidegger",
          "title": "Being and Time",
          "x": 8.188163757324219,
          "y": 21.953292846679688
         },
         {
          "surname": "Romer",
          "title": "Advanced Macroeconomics",
          "x": 30.496517181396484,
          "y": -11.70035171508789
         },
         {
          "surname": "Lehne",
          "title": "Pharmacology for Nursing Care",
          "x": -28.630294799804688,
          "y": -4.353658676147461
         },
         {
          "surname": "Varian",
          "title": "Microeconomic Analysis",
          "x": 30.784053802490234,
          "y": -11.934823036193848
         },
         {
          "surname": "Davis",
          "title": "Tools for Teaching",
          "x": 9.920975685119629,
          "y": -12.546040534973145
         },
         {
          "surname": "Shakespeare",
          "title": "As You Like It",
          "x": -14.971948623657227,
          "y": -13.427762985229492
         },
         {
          "surname": "Euripides.",
          "title": "Hippolytus",
          "x": 27.706134796142578,
          "y": 33.08174133300781
         },
         {
          "surname": "Steinbeck",
          "title": "East of Eden",
          "x": -16.721548080444336,
          "y": 50.090614318847656
         },
         {
          "surname": "Voet",
          "title": "Biochemistry",
          "x": 26.555936813354492,
          "y": -12.026861190795898
         },
         {
          "surname": "Turkle",
          "title": "Life on the Screen : Identity in the Age of the Internet",
          "x": 14.5531587600708,
          "y": -1.078353762626648
         },
         {
          "surname": "Roth",
          "title": "American Pastoral",
          "x": -16.04513168334961,
          "y": 49.622352600097656
         },
         {
          "surname": "Liszt",
          "title": "F. Chopin,",
          "x": 2.9339733123779297,
          "y": -5.09933614730835
         },
         {
          "surname": "Wiggins",
          "title": "Understanding by Design",
          "x": -9.815515518188477,
          "y": 6.3200788497924805
         },
         {
          "surname": "Dick",
          "title": "Do Androids Dream of Electric Sheep?",
          "x": -30.62265968322754,
          "y": -11.444998741149902
         },
         {
          "surname": "Hennessy",
          "title": "Computer Architecture : A Quantitative Approach",
          "x": 28.385086059570312,
          "y": -19.380197525024414
         },
         {
          "surname": "Suzuki",
          "title": "Zen",
          "x": -24.216890335083008,
          "y": -1.8327043056488037
         },
         {
          "surname": "Kaplan",
          "title": "The Coming Anarchy",
          "x": -3.5455641746520996,
          "y": 10.156597137451172
         },
         {
          "surname": "Bowlby",
          "title": "Attachment",
          "x": 16.381359100341797,
          "y": -6.596100330352783
         },
         {
          "surname": "Crane",
          "title": "The Red Badge of Courage,",
          "x": -33.92707443237305,
          "y": 3.061692714691162
         },
         {
          "surname": "Steinbeck",
          "title": "Of Mice and Men",
          "x": -31.086997985839844,
          "y": -0.2994641661643982
         },
         {
          "surname": "Dickens",
          "title": "Bleak House,",
          "x": -26.593833923339844,
          "y": -16.439189910888672
         },
         {
          "surname": "Huff",
          "title": "How to Lie With Statistics",
          "x": 11.732343673706055,
          "y": -17.089916229248047
         },
         {
          "surname": "Comer",
          "title": "Internetworking With TCP/IP",
          "x": 28.569120407104492,
          "y": -22.186182022094727
         },
         {
          "surname": "Malthus",
          "title": "An Essay on Population",
          "x": 3.759112596511841,
          "y": 13.272482872009277
         },
         {
          "surname": "Kushner",
          "title": "Angels in America",
          "x": -37.8382453918457,
          "y": -0.0834643542766571
         },
         {
          "surname": "Veblen",
          "title": "The Theory of the Leisure Class",
          "x": 4.287604808807373,
          "y": 5.640966892242432
         },
         {
          "surname": "Greenhalgh",
          "title": "How to Read a Paper : The Basics of Evidence-Based Medicine",
          "x": 21.435192108154297,
          "y": -19.58184814453125
         },
         {
          "surname": "Castiglione",
          "title": "The Courtier",
          "x": -9.268391609191895,
          "y": -9.511758804321289
         },
         {
          "surname": "Huntington",
          "title": "The Clash of Civilizations and the Remaking of World Order",
          "x": -5.287090301513672,
          "y": 9.789369583129883
         },
         {
          "surname": "Dangarembga",
          "title": "Nervous Conditions",
          "x": -32.31224060058594,
          "y": -13.005135536193848
         },
         {
          "surname": "Rawls",
          "title": "Justice as Fairness",
          "x": -0.7621436715126038,
          "y": 18.374860763549805
         },
         {
          "surname": "Silverman",
          "title": "Doing Qualitative Research : A Practical Handbook",
          "x": 17.819740295410156,
          "y": -21.380390167236328
         },
         {
          "surname": "Kidder",
          "title": "The Soul of a New Machine",
          "x": -15.912379264831543,
          "y": 46.25350570678711
         },
         {
          "surname": "Corey",
          "title": "Theory and Practice of Counseling and Psychotherapy",
          "x": 12.787500381469727,
          "y": -11.30529499053955
         },
         {
          "surname": "Wade",
          "title": "Organic Chemistry",
          "x": 32.737892150878906,
          "y": -17.283214569091797
         },
         {
          "surname": "Kingdon",
          "title": "Agendas, Alternatives, and Public Policies",
          "x": 9.822897911071777,
          "y": -16.353994369506836
         },
         {
          "surname": "Read",
          "title": "North America",
          "x": -26.597150802612305,
          "y": 14.259177207946777
         },
         {
          "surname": "Patton",
          "title": "Qualitative Evaluation and Research Methods",
          "x": 17.7927188873291,
          "y": -19.34636116027832
         },
         {
          "surname": "Patton",
          "title": "Qualitative Research & Evaluation Methods",
          "x": 17.792367935180664,
          "y": -19.34986686706543
         },
         {
          "surname": "Korth",
          "title": "Database System Concepts",
          "x": 29.657360076904297,
          "y": -22.352235794067383
         },
         {
          "surname": "Shaw",
          "title": "Pygmalion",
          "x": -23.15226936340332,
          "y": -16.24485969543457
         },
         {
          "surname": "Johnson",
          "title": "Exploring Corporate Strategy",
          "x": 28.149763107299805,
          "y": -15.763303756713867
         },
         {
          "surname": "Dickens",
          "title": "David Copperfield",
          "x": -26.47074317932129,
          "y": -15.259034156799316
         },
         {
          "surname": "Sartre",
          "title": "Existentialism and Humanism",
          "x": 9.204659461975098,
          "y": 25.706079483032227
         },
         {
          "surname": "Shelley",
          "title": "Ozymandias",
          "x": -10.36666488647461,
          "y": -27.453794479370117
         },
         {
          "surname": "Patterson",
          "title": "Computer Organization and Design : The Hardware/Software Interface",
          "x": 31.18837547302246,
          "y": -20.906219482421875
         },
         {
          "surname": "Defoe",
          "title": "Moll Flanders",
          "x": -24.46329689025879,
          "y": -16.568267822265625
         },
         {
          "surname": "Maimon",
          "title": "The McGraw-Hill Handbook",
          "x": -25.120742797851562,
          "y": 18.579557418823242
         },
         {
          "surname": "Davis",
          "title": "The Return of Martin Guerre",
          "x": -7.302787780761719,
          "y": 7.910550117492676
         },
         {
          "surname": "Campbell",
          "title": "The Hero With a Thousand Faces",
          "x": -21.110567092895508,
          "y": 0.41736993193626404
         },
         {
          "surname": "Satrapi",
          "title": "Persepolis",
          "x": -32.55177307128906,
          "y": -9.91457748413086
         },
         {
          "surname": "Marcus aurelius",
          "title": "The Meditations",
          "x": 10.161046981811523,
          "y": 34.74544906616211
         },
         {
          "surname": "Surowiecki",
          "title": "The Wisdom of Crowds",
          "x": -16.234926223754883,
          "y": 45.31856918334961
         },
         {
          "surname": "Gramsci",
          "title": "Prison Notebooks",
          "x": 8.951350212097168,
          "y": 8.098100662231445
         },
         {
          "surname": "Berg",
          "title": "Biochemistry",
          "x": 29.783634185791016,
          "y": -15.520344734191895
         },
         {
          "surname": "Long",
          "title": "Hair, Hair",
          "x": -16.48819351196289,
          "y": -5.7892303466796875
         },
         {
          "surname": "James",
          "title": "The Portrait of a Lady",
          "x": -36.552330017089844,
          "y": -2.8879189491271973
         },
         {
          "surname": "Chiang",
          "title": "Fundamental Methods of Mathematical Economics",
          "x": 30.908884048461914,
          "y": -11.772411346435547
         },
         {
          "surname": "Mayhew",
          "title": "Congress : The Electoral Connection",
          "x": -19.984731674194336,
          "y": 13.83600902557373
         },
         {
          "surname": "Dumas",
          "title": "Monte Cristo",
          "x": -15.792244911193848,
          "y": 49.1804084777832
         },
         {
          "surname": "Morgan",
          "title": "Images of Organization",
          "x": 20.69356346130371,
          "y": -8.513347625732422
         },
         {
          "surname": "Mccullers",
          "title": "The Heart Is a Lonely Hunter,",
          "x": -16.53093910217285,
          "y": 50.055938720703125
         },
         {
          "surname": "Percy",
          "title": "The Moviegoer",
          "x": -16.74598503112793,
          "y": 49.2633171081543
         },
         {
          "surname": "Mitchell",
          "title": "Machine Learning",
          "x": 26.833818435668945,
          "y": -19.81067657470703
         },
         {
          "surname": "Carroll",
          "title": "Alice in Wonderland",
          "x": -26.03312873840332,
          "y": -15.684290885925293
         },
         {
          "surname": "Faigley",
          "title": "The Penguin Handbook",
          "x": 9.087889671325684,
          "y": -18.43417739868164
         },
         {
          "surname": "Cooper",
          "title": "The Last of the Mohicans",
          "x": -33.203826904296875,
          "y": 7.4552693367004395
         },
         {
          "surname": "Stravinsky",
          "title": "The Rite of Spring",
          "x": 4.356642723083496,
          "y": -2.8270246982574463
         },
         {
          "surname": "Keller",
          "title": "Statistics for Management and Economics",
          "x": 32.81224822998047,
          "y": -18.85392951965332
         },
         {
          "surname": "Gilman",
          "title": "Herland",
          "x": -27.44985580444336,
          "y": -2.4984498023986816
         },
         {
          "surname": "Jones",
          "title": "The Known World",
          "x": -17.169517517089844,
          "y": 47.4884147644043
         },
         {
          "surname": "Hegel",
          "title": "Phenomenology of Spirit",
          "x": 7.561704158782959,
          "y": 19.92531394958496
         },
         {
          "surname": "Thomas",
          "title": "Latin America",
          "x": 17.50441551208496,
          "y": -5.9094462394714355
         },
         {
          "surname": "Kurose",
          "title": "Computer Networking : A Top-Down Approach",
          "x": 28.570236206054688,
          "y": -20.742815017700195
         },
         {
          "surname": "Hebdige",
          "title": "Subculture, the Meaning of Style",
          "x": 13.180191040039062,
          "y": 0.21727479994297028
         },
         {
          "surname": "Toomer",
          "title": "Cane",
          "x": -34.781890869140625,
          "y": 2.393205165863037
         },
         {
          "surname": "Keats",
          "title": "Ode to a Nightingale",
          "x": -10.060015678405762,
          "y": -26.791019439697266
         },
         {
          "surname": "Hughes",
          "title": "The Negro Speaks of Rivers",
          "x": -30.86545753479004,
          "y": 15.477428436279297
         },
         {
          "surname": "Postman",
          "title": "Amusing Ourselves to Death",
          "x": -24.408367156982422,
          "y": -3.4414994716644287
         },
         {
          "surname": "Field",
          "title": "Reading and Writing",
          "x": -23.241710662841797,
          "y": -0.9857138991355896
         },
         {
          "surname": "Mozart",
          "title": "Don Giovanni",
          "x": 3.2609479427337646,
          "y": -4.316690444946289
         },
         {
          "surname": "Sipser",
          "title": "Introduction to the Theory of Computation",
          "x": 29.260591506958008,
          "y": -22.40483856201172
         },
         {
          "surname": "Erasmus",
          "title": "The Praise of Folly",
          "x": -9.701391220092773,
          "y": -9.455730438232422
         },
         {
          "surname": "Wooldridge",
          "title": "Introductory Econometrics : A Modern Approach",
          "x": 31.175168991088867,
          "y": -18.250350952148438
         },
         {
          "surname": "Tolkien",
          "title": "The Hobbit",
          "x": -30.730504989624023,
          "y": -6.213900089263916
         },
         {
          "surname": "Dumas",
          "title": "The Count of Monte-Cristo",
          "x": -15.749066352844238,
          "y": 49.18949508666992
         },
         {
          "surname": "Plato.",
          "title": "The Apology of Socrates",
          "x": 11.695301055908203,
          "y": 32.9915885925293
         },
         {
          "surname": "Putnam",
          "title": "Diplomacy and Domestic Politics: The Logic of Two-Level Games",
          "x": -6.140792369842529,
          "y": 10.861773490905762
         },
         {
          "surname": "Horkheimer",
          "title": "Dialectic of Enlightenment",
          "x": 11.010201454162598,
          "y": 3.549468755722046
         },
         {
          "surname": "Stravinsky.",
          "title": "The Rite O' Spring",
          "x": 4.387082099914551,
          "y": -2.881911516189575
         },
         {
          "surname": "Hersey",
          "title": "Hiroshima",
          "x": -28.11515235900879,
          "y": 3.0290067195892334
         },
         {
          "surname": "Ross",
          "title": "A First Course in Probability",
          "x": 31.821916580200195,
          "y": -18.917280197143555
         },
         {
          "surname": "Stravinsky",
          "title": "Rite",
          "x": 4.353944778442383,
          "y": -2.8470122814178467
         },
         {
          "surname": "Plath",
          "title": "The Bell Jar",
          "x": -32.040809631347656,
          "y": -1.255009412765503
         },
         {
          "surname": "Singer",
          "title": "Famine, Affluence, and Morality",
          "x": 8.530875205993652,
          "y": 27.844839096069336
         },
         {
          "surname": "Hecht",
          "title": "Optics",
          "x": 32.95110321044922,
          "y": -14.430315017700195
         },
         {
          "surname": "Zumdahl",
          "title": "Chemistry",
          "x": 20.30079460144043,
          "y": -12.313843727111816
         },
         {
          "surname": "Fielding",
          "title": "Tom Jones",
          "x": -24.947845458984375,
          "y": -15.623459815979004
         },
         {
          "surname": "Keegan",
          "title": "The First World War",
          "x": -15.621556282043457,
          "y": 45.54316711425781
         },
         {
          "surname": "Williams",
          "title": "Culture and Society, 1780-1950",
          "x": 9.181767463684082,
          "y": -0.2901462912559509
         },
         {
          "surname": "Bellow",
          "title": "Seize the Day",
          "x": -16.410612106323242,
          "y": 49.27338409423828
         },
         {
          "surname": "Barthes",
          "title": "Image, Music, Text",
          "x": 12.22825813293457,
          "y": -1.259342074394226
         },
         {
          "surname": "Plato.",
          "title": "The Trial of Socrates",
          "x": 11.221409797668457,
          "y": 32.97990417480469
         },
         {
          "surname": "Ross",
          "title": "Fundamentals of Corporate Finance",
          "x": 32.58567810058594,
          "y": -17.57803726196289
         },
         {
          "surname": "Aeschylus.",
          "title": "Eumenides",
          "x": 27.608213424682617,
          "y": 33.69461441040039
         },
         {
          "surname": "Rousseau",
          "title": "Confessions",
          "x": -20.182117462158203,
          "y": -16.346256256103516
         },
         {
          "surname": "Unesco.",
          "title": "World Heritage 2008-09",
          "x": -24.521862030029297,
          "y": -2.4350368976593018
         },
         {
          "surname": "Trotsky",
          "title": "Lenin",
          "x": 4.449107646942139,
          "y": 11.21500301361084
         },
         {
          "surname": "Bourdieu",
          "title": "Distinction : A Social Critique of the Judgement of Taste",
          "x": 12.908707618713379,
          "y": 4.058950901031494
         },
         {
          "surname": "Tennyson",
          "title": "The Lady of Shalott",
          "x": -10.500924110412598,
          "y": -26.89385414123535
         },
         {
          "surname": "Dewey",
          "title": "Democracy and Education",
          "x": 9.02370548248291,
          "y": 21.039989471435547
         },
         {
          "surname": "Marlowe",
          "title": "Dr. Faustus",
          "x": -11.527422904968262,
          "y": -14.528360366821289
         },
         {
          "surname": "Cather",
          "title": "My Antonia",
          "x": -34.25143814086914,
          "y": 0.5753180980682373
         },
         {
          "surname": "Mcphee",
          "title": "Encounters With the Archdruid",
          "x": -17.99357795715332,
          "y": 46.4033203125
         },
         {
          "surname": "Lincoln",
          "title": "The Emancipation Proclamation",
          "x": -24.629505157470703,
          "y": 15.60555648803711
         },
         {
          "surname": "Jefferson",
          "title": "George Washington",
          "x": -23.428712844848633,
          "y": 16.077539443969727
         },
         {
          "surname": "Camus",
          "title": "The Plague",
          "x": -28.722030639648438,
          "y": -6.068423748016357
         },
         {
          "surname": "Eliot",
          "title": "Tradition and the Individual Talent",
          "x": -13.34451675415039,
          "y": -26.343448638916016
         },
         {
          "surname": "Chekhov",
          "title": "The Cherry Orchard",
          "x": -22.317209243774414,
          "y": -14.017281532287598
         },
         {
          "surname": "Shakespeare",
          "title": "Much Ado About Nothing",
          "x": -14.920801162719727,
          "y": -14.131393432617188
         },
         {
          "surname": "Byron",
          "title": "Don Juan",
          "x": -11.143736839294434,
          "y": -25.117860794067383
         },
         {
          "surname": "Griffiths",
          "title": "Introduction to Electrodynamics",
          "x": 33.615501403808594,
          "y": -15.062627792358398
         },
         {
          "surname": "Mclellan",
          "title": "Marx",
          "x": 5.484476089477539,
          "y": 10.690987586975098
         },
         {
          "surname": "Lessig",
          "title": "Code and Other Laws of Cyberspace",
          "x": 20.5852108001709,
          "y": -2.4090824127197266
         },
         {
          "surname": "Hegel",
          "title": "The Philosophy of History",
          "x": 1.6315754652023315,
          "y": 14.119221687316895
         },
         {
          "surname": "Hemingway",
          "title": "A Farewell to Arms",
          "x": -32.525997161865234,
          "y": -0.9278888702392578
         },
         {
          "surname": "Patterson",
          "title": "Computer Architecture : A Quantitative Approach",
          "x": 28.533721923828125,
          "y": -19.195758819580078
         },
         {
          "surname": "Shakespeare",
          "title": "Richard III",
          "x": -14.13058090209961,
          "y": -13.277192115783691
         },
         {
          "surname": "Dewey",
          "title": "Experience and Education",
          "x": -23.208803176879883,
          "y": -0.968161404132843
         },
         {
          "surname": "Plato.",
          "title": "Timaeus",
          "x": 10.412603378295898,
          "y": 32.85480499267578
         },
         {
          "surname": "Beckett",
          "title": "Endgame",
          "x": -12.876298904418945,
          "y": -23.874746322631836
         },
         {
          "surname": "Behn",
          "title": "The Rover",
          "x": -22.349790573120117,
          "y": -18.024633407592773
         },
         {
          "surname": "Arendt",
          "title": "The Origins of Totalitarianism",
          "x": 2.1968624591827393,
          "y": 10.719765663146973
         },
         {
          "surname": "Power",
          "title": "Selected Writings, 1877-1930",
          "x": 12.03514289855957,
          "y": 4.6468000411987305
         },
         {
          "surname": "Heidegger",
          "title": "Hegel",
          "x": 8.241325378417969,
          "y": 24.825899124145508
         },
         {
          "surname": "Calvin",
          "title": "Institutes of the Christian Religion",
          "x": -4.67912483215332,
          "y": 16.785064697265625
         },
         {
          "surname": "Rabelais",
          "title": "Gargantua",
          "x": -10.4517822265625,
          "y": -9.343878746032715
         },
         {
          "surname": "Berger",
          "title": "The Developing Person",
          "x": 21.5166015625,
          "y": -11.611680030822754
         },
         {
          "surname": "Todaro",
          "title": "Economic Development",
          "x": 24.37774085998535,
          "y": -5.47523832321167
         },
         {
          "surname": "Nietzsche",
          "title": "On the Genealogy of Morals",
          "x": 7.596584320068359,
          "y": 19.854248046875
         },
         {
          "surname": "Austen",
          "title": "Mansfield Park",
          "x": -25.515178680419922,
          "y": -16.788721084594727
         },
         {
          "surname": "Marius",
          "title": "A Short Guide to Writing About History",
          "x": 9.677449226379395,
          "y": -13.27832317352295
         },
         {
          "surname": "Lenin",
          "title": "What Is to Be Done?",
          "x": 4.0360260009765625,
          "y": 11.762011528015137
         },
         {
          "surname": "Sedra",
          "title": "Microelectronic Circuits",
          "x": 30.478134155273438,
          "y": -17.81963348388672
         },
         {
          "surname": "Mcluhan",
          "title": "Understanding Media : The Extensions of Man",
          "x": 18.386369705200195,
          "y": -2.0224671363830566
         },
         {
          "surname": "Bandura",
          "title": "Social Learning Theory",
          "x": 14.462100982666016,
          "y": -4.843221187591553
         },
         {
          "surname": "Crystal",
          "title": "The English Language",
          "x": -25.809688568115234,
          "y": -13.097074508666992
         },
         {
          "surname": "Spinoza",
          "title": "Ethics",
          "x": 5.737913608551025,
          "y": 27.46910285949707
         },
         {
          "surname": "Weston",
          "title": "A Rulebook for Arguments",
          "x": 11.492965698242188,
          "y": 27.639249801635742
         },
         {
          "surname": "Grimm",
          "title": "Fairy Tales",
          "x": -25.5584716796875,
          "y": -9.632930755615234
         },
         {
          "surname": "Rousseau",
          "title": "On the Social Contract",
          "x": -3.2233150005340576,
          "y": 16.50518798828125
         },
         {
          "surname": "Eliot",
          "title": "The Mill on the Floss",
          "x": -26.80002212524414,
          "y": -16.09604835510254
         },
         {
          "surname": "Rosenhan",
          "title": "On Being Sane in Insane Places",
          "x": 9.97309684753418,
          "y": 9.000371932983398
         },
         {
          "surname": "Scott",
          "title": "Gender: A Useful Category of Historical Analysis",
          "x": 14.386009216308594,
          "y": 5.532001972198486
         },
         {
          "surname": "Crystal",
          "title": "The Cambridge Encyclopedia of Language",
          "x": -23.337718963623047,
          "y": -12.93359375
         },
         {
          "surname": "Faulkner",
          "title": "Absalom, Absalom!",
          "x": -36.07207107543945,
          "y": -2.5439915657043457
         },
         {
          "surname": "Skidmore",
          "title": "Modern Latin America",
          "x": 17.510517120361328,
          "y": -5.796196460723877
         },
         {
          "surname": "Ottman",
          "title": "Music for Sight Singing",
          "x": 14.118163108825684,
          "y": -11.73453140258789
         },
         {
          "surname": "Stevens",
          "title": "TCP/IP Illustrated",
          "x": 28.404794692993164,
          "y": -21.20241928100586
         },
         {
          "surname": "Carr",
          "title": "What Is History?",
          "x": 17.68950080871582,
          "y": -4.832270622253418
         },
         {
          "surname": "Renfrew",
          "title": "Archaeology",
          "x": 27.212989807128906,
          "y": 35.79560852050781
         },
         {
          "surname": "Kincaid",
          "title": "A Small Place",
          "x": -31.93061637878418,
          "y": -12.28866958618164
         },
         {
          "surname": "Bailyn",
          "title": "The Ideological Origins of the American Revolution",
          "x": -23.245529174804688,
          "y": 14.937013626098633
         },
         {
          "surname": "Durkheim",
          "title": "The Division of Labor in Society",
          "x": 7.888820171356201,
          "y": 8.638358116149902
         },
         {
          "surname": "Malthus",
          "title": "An Essay on the Principle of Population",
          "x": 4.037882328033447,
          "y": 13.322580337524414
         },
         {
          "surname": "Ware",
          "title": "Jimmy Corrigan : The Smartest Kid on Earth",
          "x": -16.462724685668945,
          "y": 46.31078338623047
         },
         {
          "surname": "Stevenson",
          "title": "The Strange Case of Dr. Jekyll and Mr. Hyde",
          "x": -24.399368286132812,
          "y": -21.438373565673828
         },
         {
          "surname": "Kouzes",
          "title": "The Leadership Challenge",
          "x": 15.40674114227295,
          "y": -14.050477027893066
         },
         {
          "surname": "Chaisson",
          "title": "Astronomy Today",
          "x": 32.84101867675781,
          "y": -17.039587020874023
         },
         {
          "surname": "Stoppard",
          "title": "Rosencrantz and Guildenstern Are Dead",
          "x": -17.676435470581055,
          "y": -13.66854476928711
         },
         {
          "surname": "Erdrich",
          "title": "Love Medicine",
          "x": -33.62004089355469,
          "y": 0.3378380537033081
         },
         {
          "surname": "Oppenheim",
          "title": "Questionnaire Design and Attitude Measurement",
          "x": 18.323768615722656,
          "y": -20.015169143676758
         },
         {
          "surname": "Kierkegaard",
          "title": "Fear and Trembling",
          "x": 8.547551155090332,
          "y": 23.22047996520996
         },
         {
          "surname": "Taylor",
          "title": "The Principles of Scientific Management",
          "x": 4.25075101852417,
          "y": 5.599056243896484
         },
         {
          "surname": "Mankiw",
          "title": "Principles of Macroeconomics",
          "x": 26.465011596679688,
          "y": -11.418896675109863
         },
         {
          "surname": "Kittel",
          "title": "Introduction to Solid State Physics",
          "x": 33.02927780151367,
          "y": -15.24205493927002
         },
         {
          "surname": "Thomas",
          "title": "Do Not Go Gentle Into That Good Night :",
          "x": -11.645196914672852,
          "y": -28.438175201416016
         },
         {
          "surname": "Burgess",
          "title": "A Clockwork Orange",
          "x": -31.135927200317383,
          "y": -7.390313148498535
         },
         {
          "surname": "Current",
          "title": "United States History",
          "x": 9.450772285461426,
          "y": -12.39802074432373
         },
         {
          "surname": "Wolf",
          "title": "Europe and the People Without History",
          "x": 12.531106948852539,
          "y": 6.18317174911499
         },
         {
          "surname": "Ibsen",
          "title": "Hedda Gabler",
          "x": -22.366300582885742,
          "y": -14.595084190368652
         },
         {
          "surname": "Moore",
          "title": "The Basic Practice of Statistics",
          "x": 18.76065444946289,
          "y": -12.904117584228516
         },
         {
          "surname": "Gibbon",
          "title": "Decline and Fall",
          "x": -10.699646949768066,
          "y": -6.844461917877197
         },
         {
          "surname": "Berlioz",
          "title": "Symphonie Fantastique",
          "x": 3.3637266159057617,
          "y": -3.111060857772827
         },
         {
          "surname": "Goethe",
          "title": "Werther,",
          "x": -21.058122634887695,
          "y": -15.451560974121094
         },
         {
          "surname": "Anaya",
          "title": "Bless Me, Ultima",
          "x": -30.59477996826172,
          "y": -0.9367969036102295
         },
         {
          "surname": "Silvestri",
          "title": "Saunders Q & a Review for NCLEX-RN",
          "x": 22.695045471191406,
          "y": -19.011669158935547
         },
         {
          "surname": "Shakespeare",
          "title": "The Taming of the Shrew,",
          "x": -14.341997146606445,
          "y": -14.230854988098145
         },
         {
          "surname": "Putnam",
          "title": "Making Democracy Work : Civic Traditions in Modern Italy",
          "x": -0.7525395154953003,
          "y": 10.350205421447754
         },
         {
          "surname": "Keynes",
          "title": "The General Theory of Employment",
          "x": 6.225377559661865,
          "y": 11.827374458312988
         },
         {
          "surname": "Hesiod.",
          "title": "Theogony; And, Works and Days",
          "x": 28.189029693603516,
          "y": 34.4147834777832
         },
         {
          "surname": "Tolstoy",
          "title": "Anna Karenina",
          "x": -29.629426956176758,
          "y": -7.470986843109131
         },
         {
          "surname": "Rich",
          "title": "Compulsory Heterosexuality and Lesbian Existence",
          "x": 10.378336906433105,
          "y": 2.400139808654785
         },
         {
          "surname": "Aristophanes.",
          "title": "The Frogs",
          "x": 26.603105545043945,
          "y": 33.51937484741211
         },
         {
          "surname": "Woolf",
          "title": "Orlando",
          "x": -28.988338470458984,
          "y": -13.79993724822998
         },
         {
          "surname": "Sargent",
          "title": "Macroeconomic Theory",
          "x": 27.277387619018555,
          "y": -5.568091869354248
         },
         {
          "surname": "Stephenson",
          "title": "Snow Crash",
          "x": -31.347257614135742,
          "y": -9.523346900939941
         },
         {
          "surname": "Brontë",
          "title": "Wuthering Heights",
          "x": -25.77303695678711,
          "y": -19.38465690612793
         },
         {
          "surname": "Hwang",
          "title": "M. Butterfly",
          "x": -36.80889129638672,
          "y": -0.5523532032966614
         },
         {
          "surname": "Hume",
          "title": "Dialogues Concerning Natural Religion",
          "x": 9.362391471862793,
          "y": 28.106529235839844
         },
         {
          "surname": "Anthony",
          "title": "Essential Reading",
          "x": 11.975278854370117,
          "y": 7.522457599639893
         },
         {
          "surname": "Hammersley",
          "title": "Ethnography : Principles in Practice",
          "x": 20.60722541809082,
          "y": -18.128459930419922
         },
         {
          "surname": "Blake",
          "title": "Songs of Innocence and of Experience",
          "x": -11.040136337280273,
          "y": -26.47038459777832
         },
         {
          "surname": "Austin",
          "title": "How to Do Things With Words",
          "x": 16.29741859436035,
          "y": -0.14865124225616455
         },
         {
          "surname": "Addams",
          "title": "Twenty Years at Hull-House",
          "x": -25.346832275390625,
          "y": 9.78409194946289
         },
         {
          "surname": "Stallings",
          "title": "Operating Systems : Internals and Design Principles",
          "x": 31.265193939208984,
          "y": -20.922182083129883
         },
         {
          "surname": "Nelson",
          "title": "Lehninger Principles of Biochemistry",
          "x": 31.631175994873047,
          "y": -13.636921882629395
         },
         {
          "surname": "Schelling",
          "title": "The Strategy of Conflict",
          "x": -8.11734390258789,
          "y": 10.104040145874023
         },
         {
          "surname": "Sterne",
          "title": "Tristram Shandy",
          "x": -26.01719093322754,
          "y": -16.32174301147461
         },
         {
          "surname": "World bank.",
          "title": "Education",
          "x": 19.14886474609375,
          "y": -2.084881544113159
         },
         {
          "surname": "Schildt",
          "title": "C++ : The Complete Reference",
          "x": 27.37810516357422,
          "y": -21.9592227935791
         },
         {
          "surname": "Tacitus",
          "title": "Germania",
          "x": 1.5171300172805786,
          "y": 24.425148010253906
         },
         {
          "surname": "Spence",
          "title": "The Search for Modern China",
          "x": -3.4069085121154785,
          "y": 7.737692356109619
         },
         {
          "surname": "Groves",
          "title": "Academe",
          "x": -17.837005615234375,
          "y": 47.055599212646484
         },
         {
          "surname": "Hesse",
          "title": "Siddhartha",
          "x": -30.98785972595215,
          "y": -4.229075908660889
         },
         {
          "surname": "Singer",
          "title": "Animal Liberation",
          "x": 6.907118797302246,
          "y": 23.040376663208008
         },
         {
          "surname": "Twain",
          "title": "Tom Sawyer",
          "x": -34.90213394165039,
          "y": 1.044198989868164
         },
         {
          "surname": "Kershaw",
          "title": "Hitler",
          "x": 18.873323440551758,
          "y": -5.772305488586426
         },
         {
          "surname": "West",
          "title": "Race Matters",
          "x": -20.265304565429688,
          "y": 12.083264350891113
         },
         {
          "surname": "Garrett",
          "title": "Biochemistry",
          "x": 29.443878173828125,
          "y": -9.36236572265625
         },
         {
          "surname": "Bowles",
          "title": "The Sheltering Sky",
          "x": -16.573348999023438,
          "y": 48.585227966308594
         },
         {
          "surname": "Homer.",
          "title": "Odyssey, Books 1-12",
          "x": 26.716337203979492,
          "y": 31.449575424194336
         },
         {
          "surname": "Rawls",
          "title": "Political Liberalism",
          "x": -1.6025927066802979,
          "y": 17.75423240661621
         },
         {
          "surname": "Salkind",
          "title": "Statistics for People Who (Think They) Hate Statistics",
          "x": 15.543556213378906,
          "y": -14.72292709350586
         },
         {
          "surname": "Momaday",
          "title": "The Way to Rainy Mountain",
          "x": -32.374088287353516,
          "y": 7.0589704513549805
         },
         {
          "surname": "Keck",
          "title": "Activists Beyond Borders : Advocacy Networks in International Politics",
          "x": -3.8022031784057617,
          "y": 10.092735290527344
         },
         {
          "surname": "Oppenheim",
          "title": "Questionnaire Design, Interviewing, and Attitude Measurement",
          "x": 18.222698211669922,
          "y": -20.248088836669922
         },
         {
          "surname": "Bede",
          "title": "Ecclesiastical History",
          "x": -10.013005256652832,
          "y": -12.995676040649414
         },
         {
          "surname": "Plato.",
          "title": "Protagoras",
          "x": 10.53663444519043,
          "y": 32.260833740234375
         },
         {
          "surname": "Orwell",
          "title": "Nineteen Eighty-Four",
          "x": -29.627826690673828,
          "y": -7.787998676300049
         },
         {
          "surname": "Russell",
          "title": "The Problems of Philosophy",
          "x": 8.793087005615234,
          "y": 27.158477783203125
         },
         {
          "surname": "Lowry",
          "title": "The Giver",
          "x": -30.936832427978516,
          "y": -8.537429809570312
         },
         {
          "surname": "Rehnquist",
          "title": "The Supreme Court",
          "x": -19.970821380615234,
          "y": 13.858163833618164
         },
         {
          "surname": "Date",
          "title": "An Introduction to Database Systems",
          "x": 29.25815200805664,
          "y": -19.632797241210938
         },
         {
          "surname": "Landau",
          "title": "Mechanics",
          "x": 33.29663848876953,
          "y": -15.884251594543457
         },
         {
          "surname": "Poe",
          "title": "The Tell-Tale Heart",
          "x": -29.197431564331055,
          "y": 16.5968017578125
         },
         {
          "surname": "Levy",
          "title": "Small Island",
          "x": -16.150941848754883,
          "y": 46.85226058959961
         },
         {
          "surname": "Webster",
          "title": "The Duchess of Malfi",
          "x": -12.355058670043945,
          "y": -14.910224914550781
         },
         {
          "surname": "Stallings",
          "title": "Operating Systems",
          "x": 29.532127380371094,
          "y": -20.57651710510254
         },
         {
          "surname": "Schein",
          "title": "Organizational Culture and Leadership",
          "x": 6.910858154296875,
          "y": -12.739413261413574
         },
         {
          "surname": "Wells",
          "title": "The War of the Worlds",
          "x": -30.37199592590332,
          "y": -11.89898681640625
         },
         {
          "surname": "Plato.",
          "title": "The Trial and Death of Socrates",
          "x": 11.363860130310059,
          "y": 33.19446563720703
         },
         {
          "surname": "Eliot",
          "title": "Virginia Woolf",
          "x": -25.881074905395508,
          "y": -19.774755477905273
         },
         {
          "surname": "Lynch",
          "title": "The Image of the City",
          "x": 15.08234691619873,
          "y": -7.038292407989502
         },
         {
          "surname": "Shakespeare",
          "title": "Richard II",
          "x": -13.690462112426758,
          "y": -13.582296371459961
         },
         {
          "surname": "Hobson",
          "title": "Imperialism",
          "x": 4.042253494262695,
          "y": 12.820550918579102
         },
         {
          "surname": "Freud",
          "title": "The Uncanny",
          "x": -22.699661254882812,
          "y": -22.81833839416504
         },
         {
          "surname": "Tarbuck",
          "title": "Earth Science",
          "x": 18.780609130859375,
          "y": -11.592248916625977
         },
         {
          "surname": "Cronon",
          "title": "Changes in the Land : Indians, Colonists, and the Ecology of New England",
          "x": -24.851219177246094,
          "y": 14.014921188354492
         },
         {
          "surname": "Silberschatz",
          "title": "Database System Concepts",
          "x": 30.512868881225586,
          "y": -21.69205093383789
         },
         {
          "surname": "Arendt",
          "title": "The Human Condition",
          "x": 6.181081295013428,
          "y": 21.485870361328125
         },
         {
          "surname": "Rich",
          "title": "Artificial Intelligence",
          "x": 27.514883041381836,
          "y": -20.18014907836914
         },
         {
          "surname": "Keynes",
          "title": "The General Theory of Employment, Interest and Money",
          "x": 6.157858371734619,
          "y": 11.86685848236084
         },
         {
          "surname": "Jackson",
          "title": "Crabgrass Frontier : The Suburbanization of the United States",
          "x": -23.556379318237305,
          "y": 8.72586727142334
         },
         {
          "surname": "Davis",
          "title": "Life in the Iron Mills",
          "x": -29.6972713470459,
          "y": 14.129509925842285
         },
         {
          "surname": "Handy",
          "title": "Understanding Organizations",
          "x": 17.24653434753418,
          "y": -9.672101020812988
         },
         {
          "surname": "Moliere",
          "title": "Tartuffe",
          "x": -13.789769172668457,
          "y": -11.03382396697998
         },
         {
          "surname": "Euripides.",
          "title": "Trojan Women",
          "x": 27.276405334472656,
          "y": 32.80512237548828
         },
         {
          "surname": "Madigan",
          "title": "Brock Biology of Microorganisms",
          "x": 27.19887924194336,
          "y": -13.130614280700684
         },
         {
          "surname": "Federal reserve bank of minneapolis.",
          "title": "Quarterly Review",
          "x": 23.442537307739258,
          "y": -5.694762706756592
         },
         {
          "surname": "Aeschylus.",
          "title": "Prometheus",
          "x": 27.080432891845703,
          "y": 33.06281661987305
         },
         {
          "surname": "Sharp",
          "title": "The Management of a Student Research Project",
          "x": 17.211023330688477,
          "y": -18.411930084228516
         },
         {
          "surname": "Rushdie",
          "title": "The Satanic Verses",
          "x": -31.42393684387207,
          "y": -8.257917404174805
         },
         {
          "surname": "Sophocles",
          "title": "Oedipus at Colonus:",
          "x": 28.70049476623535,
          "y": 32.87847137451172
         },
         {
          "surname": "Grant",
          "title": "Contemporary Strategy Analysis",
          "x": 31.331594467163086,
          "y": -10.492595672607422
         },
         {
          "surname": "Great britain.",
          "title": "Chapter 17",
          "x": -0.2784385681152344,
          "y": 11.723093032836914
         },
         {
          "surname": "Reading",
          "title": "Artificial Intelligence",
          "x": 33.95109176635742,
          "y": -10.11332893371582
         },
         {
          "surname": "Wallerstein",
          "title": "The Modern World-System",
          "x": 2.802018404006958,
          "y": 8.151825904846191
         },
         {
          "surname": "Locke",
          "title": "The New Negro",
          "x": -32.51032257080078,
          "y": 6.2682085037231445
         },
         {
          "surname": "Dickinson",
          "title": "Selected Poems",
          "x": -31.481096267700195,
          "y": 14.20344066619873
         },
         {
          "surname": "Goldstein",
          "title": "Classical Mechanics",
          "x": 33.234771728515625,
          "y": -15.487854957580566
         },
         {
          "surname": "Castiglione",
          "title": "The Book of the Courtier",
          "x": -9.281286239624023,
          "y": -9.463761329650879
         },
         {
          "surname": "Ishiguro",
          "title": "The Remains of the Day",
          "x": -29.266281127929688,
          "y": -14.616469383239746
         },
         {
          "surname": "Boyce",
          "title": "Elementary Differential Equations",
          "x": 31.37811851501465,
          "y": -13.640778541564941
         },
         {
          "surname": "Walpole",
          "title": "The Castle of Otranto,",
          "x": -23.352441787719727,
          "y": -21.664161682128906
         },
         {
          "surname": "Thomas",
          "title": "Summa Theologiae",
          "x": 7.521140098571777,
          "y": 29.292888641357422
         },
         {
          "surname": "Brigham",
          "title": "Fundamentals of Financial Management",
          "x": 32.15839385986328,
          "y": -16.931575775146484
         },
         {
          "surname": "Hemingway",
          "title": "Short Stories",
          "x": -36.067359924316406,
          "y": 1.461084008216858
         },
         {
          "surname": "Ellis",
          "title": "His Excellency : George Washington",
          "x": -17.544824600219727,
          "y": 46.31612014770508
         },
         {
          "surname": "Hardy",
          "title": "Jude the Obscure",
          "x": -28.13406753540039,
          "y": -14.542684555053711
         },
         {
          "surname": "Lewin",
          "title": "Genes",
          "x": 32.737640380859375,
          "y": -10.583248138427734
         },
         {
          "surname": "Browning",
          "title": "Aurora Leigh",
          "x": -12.032578468322754,
          "y": -25.298402786254883
         },
         {
          "surname": "Woolfolk",
          "title": "Educational Psychology",
          "x": 18.060211181640625,
          "y": -12.270977973937988
         },
         {
          "surname": "Ray",
          "title": "Development Economics",
          "x": 22.74818229675293,
          "y": -5.1908040046691895
         },
         {
          "surname": "Hesiod.",
          "title": "Works and Days ; And Theogony",
          "x": 27.91898536682129,
          "y": 34.52531051635742
         },
         {
          "surname": "York",
          "title": "National Security",
          "x": -6.541781425476074,
          "y": 9.164258003234863
         },
         {
          "surname": "Moore",
          "title": "Watchmen",
          "x": -32.16170120239258,
          "y": -4.98567008972168
         },
         {
          "surname": "Aristotle.",
          "title": "Ethics and Politics",
          "x": 7.57288932800293,
          "y": 29.242919921875
         },
         {
          "surname": "Rabelais",
          "title": "Pantagruel",
          "x": -10.352243423461914,
          "y": -9.290862083435059
         },
         {
          "surname": "Granovetter",
          "title": "The Strength of Weak Ties",
          "x": 2.845982551574707,
          "y": 9.489933013916016
         },
         {
          "surname": "Mozart",
          "title": "Piano Concerto : K. 491",
          "x": 3.5574049949645996,
          "y": -6.0421142578125
         },
         {
          "surname": "Kolb",
          "title": "Experiential Learning : Experience as the Source of Learning and Development",
          "x": 22.567237854003906,
          "y": -8.264304161071777
         },
         {
          "surname": "Popper",
          "title": "The Logic of Scientific Discovery",
          "x": 22.735565185546875,
          "y": -2.1674323081970215
         },
         {
          "surname": "Gilman",
          "title": "The Yellow Wall Paper",
          "x": -30.307174682617188,
          "y": 13.258251190185547
         },
         {
          "surname": "Azar",
          "title": "Understanding and Using English Grammar",
          "x": 7.607297420501709,
          "y": -20.443439483642578
         },
         {
          "surname": "Eisenstein",
          "title": "The Battleship Potemkin",
          "x": 12.745954513549805,
          "y": 1.7961769104003906
         },
         {
          "surname": "Barro",
          "title": "Economic Growth",
          "x": 21.41046714782715,
          "y": -4.189304828643799
         },
         {
          "surname": "Bizet",
          "title": "Carmen",
          "x": -22.218948364257812,
          "y": -20.850086212158203
         },
         {
          "surname": "Read",
          "title": "[Poetry Reading",
          "x": -13.697162628173828,
          "y": -21.29006576538086
         },
         {
          "surname": "Thackeray",
          "title": "Vanity Fair",
          "x": -25.754459381103516,
          "y": -16.079303741455078
         },
         {
          "surname": "Rosen",
          "title": "Public Finance",
          "x": 18.82919692993164,
          "y": -9.907170295715332
         },
         {
          "surname": "Allison",
          "title": "Conceptual Models and the Cuban Missile Crisis",
          "x": -8.23960018157959,
          "y": 10.653061866760254
         },
         {
          "surname": "Griffiths",
          "title": "Introduction to Quantum Mechanics",
          "x": 32.652320861816406,
          "y": -13.406448364257812
         },
         {
          "surname": "Connell",
          "title": "Masculinities",
          "x": 12.62292766571045,
          "y": 3.098510503768921
         },
         {
          "surname": "Ladefoged",
          "title": "A Course in Phonetics",
          "x": -23.18623924255371,
          "y": -20.045812606811523
         },
         {
          "surname": "Tan",
          "title": "Mother Tongue",
          "x": -24.33790397644043,
          "y": 17.558460235595703
         },
         {
          "surname": "Fielding",
          "title": "Joseph Andrews",
          "x": -22.61474609375,
          "y": -17.938615798950195
         },
         {
          "surname": "West",
          "title": "Doing Gender",
          "x": 10.366456031799316,
          "y": 7.491428852081299
         },
         {
          "surname": "Wallace",
          "title": "Consider the Lobster",
          "x": -15.983518600463867,
          "y": 45.12034225463867
         },
         {
          "surname": "Doyle",
          "title": "Liberalism and World Politics",
          "x": -6.6176605224609375,
          "y": 9.976964950561523
         },
         {
          "surname": "Hamilton",
          "title": "Time Series Analysis",
          "x": 30.481365203857422,
          "y": -9.8189115524292
         },
         {
          "surname": "Mclellan",
          "title": "Karl Marx",
          "x": 5.746240139007568,
          "y": 10.590900421142578
         },
         {
          "surname": "Chaucer",
          "title": "Troilus :",
          "x": -14.63786792755127,
          "y": -12.211085319519043
         },
         {
          "surname": "Jervis",
          "title": "Cooperation Under the Security Dilemma",
          "x": -8.162211418151855,
          "y": 11.016180992126465
         },
         {
          "surname": "Hawthorne",
          "title": "The Birthmark",
          "x": -29.355491638183594,
          "y": 17.780672073364258
         },
         {
          "surname": "Milton",
          "title": "Areopagitica,",
          "x": -9.987586975097656,
          "y": -11.535345077514648
         },
         {
          "surname": "Williams",
          "title": "Wallace Stevens",
          "x": -37.12388229370117,
          "y": -2.8560993671417236
         },
         {
          "surname": "Krasner",
          "title": "Sovereignty",
          "x": -7.082138538360596,
          "y": 10.873459815979004
         },
         {
          "surname": "Caputo",
          "title": "A Rumor of War",
          "x": -27.48518180847168,
          "y": 3.385471820831299
         },
         {
          "surname": "Coetzee",
          "title": "Disgrace",
          "x": -30.58525276184082,
          "y": -11.086492538452148
         },
         {
          "surname": "Ross",
          "title": "Introduction to Probability Models",
          "x": 26.85137367248535,
          "y": -17.226760864257812
         },
         {
          "surname": "Gilbert",
          "title": "Developmental Biology",
          "x": 16.12880516052246,
          "y": -8.36968994140625
         },
         {
          "surname": "Meggs",
          "title": "A History of Graphic Design",
          "x": 16.134075164794922,
          "y": -8.856032371520996
         },
         {
          "surname": "Burney",
          "title": "Evelina",
          "x": -24.747283935546875,
          "y": -18.039331436157227
         },
         {
          "surname": "Stewart",
          "title": "Calculus : Concepts and Contexts",
          "x": 24.592052459716797,
          "y": -13.708481788635254
         },
         {
          "surname": "Hemingway",
          "title": "In Our Time",
          "x": -36.296695709228516,
          "y": -2.2536845207214355
         },
         {
          "surname": "Martin",
          "title": "Twentieth Century",
          "x": -23.572816848754883,
          "y": -4.805297374725342
         },
         {
          "surname": "Descartes",
          "title": "Discourse on Method and Meditations on First Philosophy",
          "x": 9.562525749206543,
          "y": 27.93626594543457
         },
         {
          "surname": "Harvey",
          "title": "A Brief History of Neoliberalism",
          "x": 9.534207344055176,
          "y": 8.311935424804688
         },
         {
          "surname": "Mcmillan",
          "title": "Writing Papers in the Biological Sciences",
          "x": 35.66526794433594,
          "y": -17.673294067382812
         },
         {
          "surname": "Proakis",
          "title": "Digital Signal Processing",
          "x": 29.249120712280273,
          "y": -18.716434478759766
         },
         {
          "surname": "Mearsheimer",
          "title": "The False Promise of International Institutions",
          "x": -6.74086332321167,
          "y": 10.225543022155762
         },
         {
          "surname": "Russett",
          "title": "The Democratic Peace",
          "x": -8.425694465637207,
          "y": 10.578153610229492
         },
         {
          "surname": "Corey",
          "title": "Groups, Process and Practice",
          "x": 12.661005973815918,
          "y": -11.295541763305664
         },
         {
          "surname": "Bachelard",
          "title": "The Poetics of Space",
          "x": 12.904982566833496,
          "y": -6.893562316894531
         },
         {
          "surname": "Haddon",
          "title": "The Curious Incident of the Dog in the Night-Time",
          "x": -32.071739196777344,
          "y": -6.607998847961426
         },
         {
          "surname": "Smith",
          "title": "The Theory of Moral Sentiments",
          "x": 1.006169319152832,
          "y": 14.758332252502441
         },
         {
          "surname": "Hochschild",
          "title": "The Second Shift",
          "x": 9.287314414978027,
          "y": 5.764493465423584
         },
         {
          "surname": "Gaddis",
          "title": "Starting Out With C++ : From Control Structures Through Objects",
          "x": 23.036428451538086,
          "y": -22.312381744384766
         },
         {
          "surname": "Rosenwasser",
          "title": "Writing Analytically",
          "x": -24.260066986083984,
          "y": -11.432415008544922
         },
         {
          "surname": "Jarvis",
          "title": "Physical Examination & Health Assessment",
          "x": 14.185982704162598,
          "y": -11.363640785217285
         },
         {
          "surname": "Mearsheimer",
          "title": "The Tragedy of Great Power Politics",
          "x": -7.625421524047852,
          "y": 10.571446418762207
         },
         {
          "surname": "Walker",
          "title": "Halliday & Resnick Fundamentals of Physics",
          "x": 34.682212829589844,
          "y": -14.479903221130371
         },
         {
          "surname": "Porter",
          "title": "The Competitive Advantage of Nations",
          "x": 19.777658462524414,
          "y": -3.0593461990356445
         },
         {
          "surname": "Varian",
          "title": "Intermediate Microeconomics : A Modern Approach",
          "x": 24.096284866333008,
          "y": -5.681290149688721
         },
         {
          "surname": "Pope",
          "title": "An Essay on Criticism",
          "x": -11.18697452545166,
          "y": -21.944873809814453
         },
         {
          "surname": "Williams",
          "title": "Style : Ten Lessons in Clarity and Grace",
          "x": 9.440746307373047,
          "y": -17.283458709716797
         },
         {
          "surname": "Geertz",
          "title": "Deep Play: Notes on the Balinese Cockfight",
          "x": 13.081625938415527,
          "y": 5.1064581871032715
         },
         {
          "surname": "Campbell",
          "title": "The Power of Myth",
          "x": -21.124393463134766,
          "y": 0.46297842264175415
         },
         {
          "surname": "Kennedy",
          "title": "A Guide to Econometrics",
          "x": 22.813556671142578,
          "y": -8.450235366821289
         },
         {
          "surname": "Guyton",
          "title": "Textbook of Medical Physiology",
          "x": 20.441673278808594,
          "y": -12.058459281921387
         },
         {
          "surname": "Gramsci",
          "title": "From the 'Prison Notebooks'",
          "x": 8.860310554504395,
          "y": 8.773722648620605
         },
         {
          "surname": "Huntington",
          "title": "Political Order in Changing Societies,",
          "x": 1.958386778831482,
          "y": 9.350433349609375
         },
         {
          "surname": "Aeschylus.",
          "title": "The Libation Bearers",
          "x": 28.430335998535156,
          "y": 33.7125129699707
         },
         {
          "surname": "Hillier",
          "title": "Introduction to Operations Research",
          "x": 29.283037185668945,
          "y": -13.08021354675293
         },
         {
          "surname": "Shakespeare",
          "title": "Measure for Measure,",
          "x": -14.224626541137695,
          "y": -14.709879875183105
         },
         {
          "surname": "Suetonius",
          "title": "The Caesars",
          "x": 24.192903518676758,
          "y": 31.442398071289062
         },
         {
          "surname": "Arnold",
          "title": "Culture and Anarchy",
          "x": -13.802886962890625,
          "y": -25.983732223510742
         },
         {
          "surname": "Esping-andersen",
          "title": "The Three Worlds of Welfare Capitalism",
          "x": 2.6145641803741455,
          "y": 7.658432483673096
         },
         {
          "surname": "Wood",
          "title": "The Radicalism of the American Revolution",
          "x": -24.2966251373291,
          "y": 14.956294059753418
         },
         {
          "surname": "Woodward",
          "title": "Florida State University",
          "x": 24.759754180908203,
          "y": -5.947534084320068
         },
         {
          "surname": "Coase",
          "title": "The Nature of the Firm",
          "x": 0.9155777096748352,
          "y": 9.16722583770752
         },
         {
          "surname": "Cleveland",
          "title": "A History of the Modern Middle East",
          "x": 17.48131561279297,
          "y": -4.656337738037109
         },
         {
          "surname": "Moore",
          "title": "Introduction to the Practice of Statistics",
          "x": 21.58153533935547,
          "y": -12.616579055786133
         },
         {
          "surname": "Shaara",
          "title": "The Killer Angels",
          "x": -28.18463706970215,
          "y": 3.080700159072876
         },
         {
          "surname": "Wharton",
          "title": "The Age of Innocence",
          "x": -34.95820999145508,
          "y": 0.6172882914543152
         },
         {
          "surname": "Sophocles.",
          "title": "Electra",
          "x": 28.228191375732422,
          "y": 32.926513671875
         },
         {
          "surname": "Hill",
          "title": "International Business : Competing in the Global Marketplace",
          "x": 10.776827812194824,
          "y": -18.34309196472168
         },
         {
          "surname": "Kneale",
          "title": "English Passengers",
          "x": -16.016450881958008,
          "y": 47.05924987792969
         },
         {
          "surname": "Esping-andersen",
          "title": "The Three Worlds of Capitalism",
          "x": 2.619460105895996,
          "y": 7.661884784698486
         },
         {
          "surname": "Fromkin",
          "title": "An Introduction to Language",
          "x": -24.800580978393555,
          "y": -12.615133285522461
         },
         {
          "surname": "Collins",
          "title": "The Woman in White",
          "x": -28.607967376708984,
          "y": -16.501630783081055
         },
         {
          "surname": "Fussell",
          "title": "The Great War and Modern Memory",
          "x": 12.476516723632812,
          "y": -4.8209428787231445
         },
         {
          "surname": "Alberts",
          "title": "Essential Cell Biology",
          "x": 26.84379768371582,
          "y": -13.596288681030273
         },
         {
          "surname": "James",
          "title": "The Will to Believe :",
          "x": 10.003730773925781,
          "y": 25.33391571044922
         },
         {
          "surname": "Beauchamp",
          "title": "Principles of Biomedical Ethics",
          "x": 22.691465377807617,
          "y": -2.2372841835021973
         },
         {
          "surname": "Alexie",
          "title": "The Lone Ranger and Tonto Fistfight in Heaven",
          "x": -32.382320404052734,
          "y": 2.6101763248443604
         },
         {
          "surname": "Pound",
          "title": "In a Station of the Metro",
          "x": -30.347768783569336,
          "y": 17.979463577270508
         },
         {
          "surname": "Bowling",
          "title": "Research Methods in Health : Investigating Health and Health Services",
          "x": 21.524152755737305,
          "y": -19.712007522583008
         },
         {
          "surname": "Rousseau",
          "title": "Discourse on the Origin of Inequality",
          "x": -2.435406446456909,
          "y": 16.511669158935547
         },
         {
          "surname": "Larsen",
          "title": "Quicksand",
          "x": -33.95940017700195,
          "y": -0.9803624153137207
         },
         {
          "surname": "Yeats",
          "title": "Easter, 1916",
          "x": -12.192177772521973,
          "y": -26.23814582824707
         },
         {
          "surname": "Jackson",
          "title": "Classical Electrodynamics",
          "x": 32.03750228881836,
          "y": -14.812704086303711
         },
         {
          "surname": "Dante alighieri",
          "title": "Inferno",
          "x": -12.397132873535156,
          "y": -8.859635353088379
         },
         {
          "surname": "Black",
          "title": "Cambridge University Press, 1584-1984",
          "x": 17.496355056762695,
          "y": -5.050502777099609
         },
         {
          "surname": "Stone",
          "title": "Policy Paradox : The Art of Political Decision Making",
          "x": 8.745951652526855,
          "y": -16.10071563720703
         },
         {
          "surname": "Hegel",
          "title": "Philosophy of Right",
          "x": -1.6490541696548462,
          "y": 16.281047821044922
         },
         {
          "surname": "Conrad",
          "title": "Typhoon",
          "x": -16.546335220336914,
          "y": 47.47618865966797
         },
         {
          "surname": "Mendelsohn",
          "title": "The Lost : A Search for Six of Six Million",
          "x": -17.604291915893555,
          "y": 45.18574523925781
         },
         {
          "surname": "Mozart",
          "title": "Symphony No. 28",
          "x": 3.658874273300171,
          "y": -6.202451705932617
         },
         {
          "surname": "Baudrillard",
          "title": "Simulacra and Simulation",
          "x": 14.291441917419434,
          "y": 0.3366261422634125
         },
         {
          "surname": "Stoppard",
          "title": "Jumpers",
          "x": -16.696979522705078,
          "y": 46.99953079223633
         },
         {
          "surname": "Mahler",
          "title": "Symphony No. 8",
          "x": 3.8932526111602783,
          "y": -3.235520839691162
         },
         {
          "surname": "Campbell",
          "title": "Essential Biology",
          "x": 35.74126434326172,
          "y": -17.758359909057617
         },
         {
          "surname": "Turgenev",
          "title": "Fathers and Sons",
          "x": -28.428834915161133,
          "y": -6.819504737854004
         },
         {
          "surname": "Herr",
          "title": "Dispatches",
          "x": -35.499488830566406,
          "y": 2.1747217178344727
         },
         {
          "surname": "Boyce",
          "title": "Elementary Differential Equations and Boundary Value Problems",
          "x": 31.25675392150879,
          "y": -13.70307731628418
         },
         {
          "surname": "Aronson",
          "title": "Social Psychology",
          "x": 18.571414947509766,
          "y": -10.212302207946777
         },
         {
          "surname": "Kant",
          "title": "Critique of Judgment",
          "x": 9.949173927307129,
          "y": 20.03525161743164
         },
         {
          "surname": "Tolstoy",
          "title": "War and Peace",
          "x": -27.492395401000977,
          "y": -7.775082111358643
         },
         {
          "surname": "Eckel",
          "title": "Thinking in Java",
          "x": 27.78803825378418,
          "y": -22.610490798950195
         },
         {
          "surname": "Livy.",
          "title": "The History of Rome",
          "x": 23.789525985717773,
          "y": 31.71728515625
         },
         {
          "surname": "Trotsky",
          "title": "Stalin",
          "x": 2.5765109062194824,
          "y": 12.651004791259766
         },
         {
          "surname": "Ching",
          "title": "Architecture : Form, Space & Order",
          "x": 30.194725036621094,
          "y": -8.844562530517578
         },
         {
          "surname": "Sartre",
          "title": "Merleau-Ponty",
          "x": 7.8910980224609375,
          "y": 26.26128578186035
         },
         {
          "surname": "Rudestam",
          "title": "Surviving Your Dissertation : A Comprehensive Guide to Content and Process",
          "x": 16.921316146850586,
          "y": -20.958473205566406
         },
         {
          "surname": "Jackson",
          "title": "Gods in Alabama",
          "x": -16.172706604003906,
          "y": 45.8663444519043
         },
         {
          "surname": "Allison",
          "title": "Essence of Decision; Explaining the Cuban Missile Crisis",
          "x": -7.528841495513916,
          "y": 9.221405982971191
         },
         {
          "surname": "Carlson",
          "title": "Physiology of Behavior",
          "x": 15.604466438293457,
          "y": -10.786168098449707
         },
         {
          "surname": "Yeats",
          "title": "The Lake Isle of Innisfree,",
          "x": -11.70301628112793,
          "y": -27.201574325561523
         },
         {
          "surname": "Becker",
          "title": "Writing for Social Scientists : How to Start and Finish Your Thesis, Book, or Article",
          "x": 9.896903038024902,
          "y": -14.154168128967285
         },
         {
          "surname": "Soto",
          "title": "The Mystery of Capital",
          "x": -1.2364484071731567,
          "y": 9.480916023254395
         },
         {
          "surname": "Creme",
          "title": "Writing at University : A Guide for Students",
          "x": 19.797466278076172,
          "y": -16.415790557861328
         },
         {
          "surname": "Gibbon",
          "title": "The Decline and Fall of the Roman Empire",
          "x": -10.699341773986816,
          "y": -6.822907447814941
         },
         {
          "surname": "Giddens",
          "title": "The Consequences of Modernity",
          "x": 10.696139335632324,
          "y": 6.880022048950195
         },
         {
          "surname": "Engels",
          "title": "The Condition of the Working Class in England",
          "x": 5.377966403961182,
          "y": 13.210084915161133
         },
         {
          "surname": "Sturken",
          "title": "Practices of Looking : An Introduction to Visual Culture",
          "x": 14.965352058410645,
          "y": -1.845801830291748
         },
         {
          "surname": "Hazzard",
          "title": "The Great Fire",
          "x": -16.949573516845703,
          "y": 46.65129852294922
         },
         {
          "surname": "Lenin",
          "title": "The Russian Revolution,",
          "x": 8.033860206604004,
          "y": 7.08802604675293
         },
         {
          "surname": "Henry",
          "title": "Civil War 2000",
          "x": -17.134624481201172,
          "y": -5.109437465667725
         },
         {
          "surname": "Gilroy",
          "title": "The Black Atlantic : Modernity and Double Consciousness",
          "x": 12.160187721252441,
          "y": 0.8938372135162354
         },
         {
          "surname": "Smith",
          "title": "White Teeth",
          "x": -30.87870979309082,
          "y": -10.708648681640625
         },
         {
          "surname": "Watson",
          "title": "Behaviorism,",
          "x": 9.586966514587402,
          "y": 18.72731590270996
         },
         {
          "surname": "Preece",
          "title": "Human-Computer Interaction",
          "x": 22.30025863647461,
          "y": -17.957332611083984
         },
         {
          "surname": "Fukuyama",
          "title": "The End of History and the Last Man",
          "x": -2.320952892303467,
          "y": 9.373465538024902
         },
         {
          "surname": "Lannon",
          "title": "Technical Communication",
          "x": 18.28876495361328,
          "y": -18.218137741088867
         },
         {
          "surname": "Dewey",
          "title": "William James",
          "x": 9.450285911560059,
          "y": 22.79037094116211
         },
         {
          "surname": "Smith",
          "title": "New Books",
          "x": 16.994930267333984,
          "y": -5.365474700927734
         },
         {
          "surname": "Poe",
          "title": "The Purloined Letter",
          "x": -29.095539093017578,
          "y": 15.417299270629883
         },
         {
          "surname": "Hooks",
          "title": "Transgress",
          "x": 12.996590614318848,
          "y": -6.233706474304199
         },
         {
          "surname": "Ayer",
          "title": "Language, Truth and Logic",
          "x": 8.215864181518555,
          "y": 26.306873321533203
         },
         {
          "surname": "Goldstein",
          "title": "International Relations",
          "x": -8.176315307617188,
          "y": 9.396926879882812
         },
         {
          "surname": "Davis",
          "title": "City of Quartz : Excavating the Future in Los Angeles",
          "x": 13.475179672241211,
          "y": 4.853647708892822
         },
         {
          "surname": "Petterson",
          "title": "In the Wake",
          "x": -16.918800354003906,
          "y": 45.555702209472656
         },
         {
          "surname": "Flanagan",
          "title": "Java in a Nutshell",
          "x": 22.187633514404297,
          "y": -18.3331241607666
         },
         {
          "surname": "Whitney",
          "title": "Understanding Nutrition",
          "x": 17.319589614868164,
          "y": -10.597320556640625
         },
         {
          "surname": "Brooks",
          "title": "We Real Cool",
          "x": -30.337711334228516,
          "y": 18.30855369567871
         },
         {
          "surname": "Lyotard",
          "title": "The Postmodern Condition : A Report on Knowledge",
          "x": 12.5283784866333,
          "y": 3.1867051124572754
         },
         {
          "surname": "Rudin",
          "title": "Principles of Mathematical Analysis",
          "x": 33.24887466430664,
          "y": -10.486000061035156
         },
         {
          "surname": "Chaplin",
          "title": "Modern Times",
          "x": 9.230080604553223,
          "y": -3.071734666824341
         },
         {
          "surname": "Lahiri",
          "title": "Interpreter of Maladies",
          "x": -35.775447845458984,
          "y": -3.6996355056762695
         },
         {
          "surname": "Sophocles.",
          "title": "The Three Theban Plays",
          "x": 27.54353141784668,
          "y": 31.321922302246094
         },
         {
          "surname": "Comer",
          "title": "Computer Networks and Internets",
          "x": 28.514633178710938,
          "y": -20.481496810913086
         },
         {
          "surname": "Nietzsche",
          "title": "Thus Spoke Zarathustra",
          "x": 7.239596843719482,
          "y": 19.467866897583008
         },
         {
          "surname": "Dexter",
          "title": "Paris Trout",
          "x": -17.32735252380371,
          "y": 46.83224105834961
         },
         {
          "surname": "Howell",
          "title": "Statistical Methods for Psychology",
          "x": 31.152780532836914,
          "y": -9.141701698303223
         },
         {
          "surname": "Hoffman",
          "title": "Inside Terrorism",
          "x": -7.7146501541137695,
          "y": 10.103965759277344
         },
         {
          "surname": "Anderson",
          "title": "Winesburg, Ohio",
          "x": -34.804779052734375,
          "y": 2.2931177616119385
         },
         {
          "surname": "Smith",
          "title": "An Inquiry Into the Nature and Causes of the Wealth of Nations",
          "x": 2.4963271617889404,
          "y": 13.27242374420166
         },
         {
          "surname": "James",
          "title": "The Principles of Psychology,",
          "x": 10.813026428222656,
          "y": 21.676816940307617
         },
         {
          "surname": "Gilpin",
          "title": "The Political Economy of International Relations",
          "x": -4.940547943115234,
          "y": 9.313576698303223
         },
         {
          "surname": "Garrels",
          "title": "Naked in Baghdad",
          "x": -16.515806198120117,
          "y": 44.83870315551758
         },
         {
          "surname": "Mas-colell",
          "title": "Microeconomic Theory",
          "x": 32.2264289855957,
          "y": -15.360136985778809
         },
         {
          "surname": "Tirole",
          "title": "The Theory of Industrial Organization",
          "x": 22.85747528076172,
          "y": -4.781435012817383
         },
         {
          "surname": "Read",
          "title": "Mark Twain and I,",
          "x": -32.38896179199219,
          "y": 7.274566650390625
         },
         {
          "surname": "Rowson",
          "title": "Charlotte Temple",
          "x": -31.02463722229004,
          "y": 12.965590476989746
         },
         {
          "surname": "Rodrik",
          "title": "Has Globalization Gone Too Far?",
          "x": 0.9689160585403442,
          "y": 8.513739585876465
         },
         {
          "surname": "Cialdini",
          "title": "Influence : Science and Practice",
          "x": -8.622310638427734,
          "y": 6.2377848625183105
         },
         {
          "surname": "Keohane",
          "title": "Power and Interdependence",
          "x": -6.739287376403809,
          "y": 10.61301326751709
         },
         {
          "surname": "Mcphee",
          "title": "Looking for a Ship",
          "x": -17.314979553222656,
          "y": 45.883216857910156
         },
         {
          "surname": "Lukes",
          "title": "Power : A Radical View",
          "x": 1.3769400119781494,
          "y": 7.519675254821777
         },
         {
          "surname": "Kalat",
          "title": "Biological Psychology",
          "x": 15.747389793395996,
          "y": -8.046066284179688
         },
         {
          "surname": "Bates",
          "title": "A Guide to Physical Examination",
          "x": 16.862783432006836,
          "y": -9.06865119934082
         },
         {
          "surname": "Skoog",
          "title": "Principles of Instrumental Analysis",
          "x": 17.667869567871094,
          "y": -10.76270580291748
         },
         {
          "surname": "Allen",
          "title": "Without Feathers",
          "x": -17.976343154907227,
          "y": 45.91740417480469
         },
         {
          "surname": "Castro",
          "title": "HTML 4 for the World Wide Web",
          "x": 21.596406936645508,
          "y": -16.721620559692383
         },
         {
          "surname": "Chalmers",
          "title": "What Is This Thing Called Science?",
          "x": 23.015287399291992,
          "y": -3.404168128967285
         },
         {
          "surname": "Anderson",
          "title": "The Fall of Baghdad",
          "x": -17.153352737426758,
          "y": 44.900726318359375
         },
         {
          "surname": "Allende",
          "title": "The House of the Spirits",
          "x": -30.264650344848633,
          "y": -4.940343856811523
         },
         {
          "surname": "Aslam",
          "title": "Maps for Lost Lovers",
          "x": -16.587385177612305,
          "y": 45.907413482666016
         },
         {
          "surname": "Lay",
          "title": "Linear Algebra and Its Applications",
          "x": 26.31382942199707,
          "y": -21.855823516845703
         },
         {
          "surname": "Nagel",
          "title": "What Is It Like to Be a Bat?",
          "x": 9.549717903137207,
          "y": 27.052413940429688
         },
         {
          "surname": "Lightbown",
          "title": "How Languages Are Learned",
          "x": -27.25478172302246,
          "y": -17.29396629333496
         },
         {
          "surname": "Nielsen",
          "title": "Designing Web Usability",
          "x": 21.04253387451172,
          "y": -15.92451286315918
         },
         {
          "surname": "Holman",
          "title": "A Handbook to Literature",
          "x": -14.014639854431152,
          "y": -21.37761688232422
         },
         {
          "surname": "Burden",
          "title": "Numerical Analysis",
          "x": 31.244935989379883,
          "y": -9.124124526977539
         },
         {
          "surname": "Euripides.",
          "title": "Alcestis",
          "x": 27.23285675048828,
          "y": 33.36199951171875
         },
         {
          "surname": "Dante alighieri",
          "title": "The Comedy",
          "x": -12.02469539642334,
          "y": -8.763870239257812
         },
         {
          "surname": "Calvino",
          "title": "Invisible Cities",
          "x": -31.4941349029541,
          "y": -10.844990730285645
         },
         {
          "surname": "Dante alighieri",
          "title": "The Divine Comedy",
          "x": -11.992386817932129,
          "y": -8.764619827270508
         },
         {
          "surname": "Barker",
          "title": "Regeneration",
          "x": -29.735153198242188,
          "y": -13.252676010131836
         },
         {
          "surname": "Eliot",
          "title": "Silas Marner,",
          "x": -25.208967208862305,
          "y": -17.47303581237793
         },
         {
          "surname": "Audesirk",
          "title": "Life on Earth",
          "x": 26.340816497802734,
          "y": -13.874970436096191
         },
         {
          "surname": "Pater",
          "title": "The Renaissance",
          "x": -12.789897918701172,
          "y": -25.918914794921875
         },
         {
          "surname": "Tversky",
          "title": "Judgment Under Uncertainty: Heuristics and Biases",
          "x": 11.527519226074219,
          "y": -16.690052032470703
         },
         {
          "surname": "Bevington",
          "title": "Shakespeare",
          "x": -17.763853073120117,
          "y": -12.995641708374023
         },
         {
          "surname": "Baum",
          "title": "The Wizard of Oz",
          "x": -26.268062591552734,
          "y": -9.477100372314453
         },
         {
          "surname": "Kripke",
          "title": "Naming and Necessity",
          "x": 8.688485145568848,
          "y": 24.99761199951172
         },
         {
          "surname": "Crane",
          "title": "Maggie, a Girl of the Streets",
          "x": -33.233367919921875,
          "y": 6.446415424346924
         },
         {
          "surname": "Takaki",
          "title": "A Different Mirror : A History of Multicultural America",
          "x": -18.348764419555664,
          "y": -4.941810131072998
         },
         {
          "surname": "Milton",
          "title": "Paradise Lost. Books 1-2",
          "x": -10.147138595581055,
          "y": -14.63546371459961
         },
         {
          "surname": "Cixous",
          "title": "The Laugh of the Medusa",
          "x": 9.104150772094727,
          "y": 0.418415904045105
         },
         {
          "surname": "Thomas",
          "title": "The American Revolution",
          "x": -23.235652923583984,
          "y": 15.471739768981934
         },
         {
          "surname": "Snow",
          "title": "The Two Cultures",
          "x": -24.140361785888672,
          "y": -4.637361526489258
         },
         {
          "surname": "Ostrom",
          "title": "Governing the Commons : The Evolution of Institutions for Collective Action",
          "x": 0.5605459809303284,
          "y": 7.917585372924805
         },
         {
          "surname": "Heti",
          "title": "Ticknor",
          "x": -16.903507232666016,
          "y": 45.1008415222168
         },
         {
          "surname": "Lewicki",
          "title": "Negotiation",
          "x": 11.418861389160156,
          "y": -18.152118682861328
         },
         {
          "surname": "Chandler",
          "title": "The Big Sleep",
          "x": -32.383575439453125,
          "y": -3.9537007808685303
         },
         {
          "surname": "Aesop.",
          "title": "Fables",
          "x": 24.14849090576172,
          "y": 30.434309005737305
         },
         {
          "surname": "Faulkner",
          "title": "Light in August",
          "x": -33.733985900878906,
          "y": -0.035959579050540924
         },
         {
          "surname": "Mcgahan",
          "title": "The White Earth",
          "x": -17.819252014160156,
          "y": 45.472206115722656
         },
         {
          "surname": "Coleridge",
          "title": "Biographia Literaria,",
          "x": -11.936893463134766,
          "y": -26.776824951171875
         },
         {
          "surname": "Sedgwick",
          "title": "Epistemology of the Closet",
          "x": 10.56714916229248,
          "y": -0.07255657017230988
         },
         {
          "surname": "Durkheim",
          "title": "The Rules of Sociological Method",
          "x": 8.584775924682617,
          "y": 8.100164413452148
         },
         {
          "surname": "Blake",
          "title": "The Marriage of Heaven and Hell",
          "x": -11.633185386657715,
          "y": -26.181224822998047
         },
         {
          "surname": "Lewis",
          "title": "Mere Christianity",
          "x": -22.099714279174805,
          "y": -5.656391620635986
         },
         {
          "surname": "New york (state)",
          "title": "Laws",
          "x": -10.39930248260498,
          "y": -6.82580041885376
         },
         {
          "surname": "Locke",
          "title": "A Letter Concerning Toleration",
          "x": -4.265818119049072,
          "y": 16.420398712158203
         },
         {
          "surname": "Dexter",
          "title": "Brotherly Love",
          "x": -17.016624450683594,
          "y": 46.062583923339844
         },
         {
          "surname": "Weir",
          "title": "Thomas' Calculus",
          "x": 32.945701599121094,
          "y": -18.260902404785156
         },
         {
          "surname": "Weber",
          "title": "Politics as a Vocation",
          "x": -1.0744901895523071,
          "y": 11.252860069274902
         },
         {
          "surname": "Hawthorne",
          "title": "The House of the Seven Gables",
          "x": -33.71101379394531,
          "y": 7.067963600158691
         },
         {
          "surname": "Williams",
          "title": "Keywords : A Vocabulary of Culture and Society",
          "x": 14.708683967590332,
          "y": 5.270267009735107
         },
         {
          "surname": "Lovins",
          "title": "Natural Capitalism",
          "x": 13.361628532409668,
          "y": 5.946119785308838
         }
        ]
       },
       "encoding": {
        "text": {
         "field": "surname",
         "type": "nominal"
        },
        "tooltip": {
         "field": "title",
         "type": "nominal"
        },
        "x": {
         "field": "x",
         "type": "quantitative"
        },
        "y": {
         "field": "y",
         "type": "quantitative"
        }
       },
       "height": 700,
       "mark": "text",
       "selection": {
        "selector013": {
         "bind": "scales",
         "encodings": [
          "x",
          "y"
         ],
         "mark": {
          "fill": "#333",
          "fillOpacity": 0.125,
          "stroke": "white"
         },
         "on": "[mousedown, window:mouseup] > window:mousemove!",
         "resolve": "global",
         "translate": "[mousedown, window:mouseup] > window:mousemove!",
         "type": "interval",
         "zoom": "wheel!"
        }
       },
       "width": 1000
      },
      "image/png": "[encoded data removed]",
      "text/plain": [
       "<VegaLite 2 object>\n",
       "\n",
       "If you see this message, it means the renderer has not been properly enabled\n",
       "for the frontend that you are using. For more information, see\n",
       "https://altair-viz.github.io/user_guide/troubleshooting.html\n"
      ]
     },
     "execution_count": 126,
     "metadata": {},
     "output_type": "execute_result"
    }
   ],
   "source": [
    "chart.interactive()"
   ]
  },
  {
   "cell_type": "code",
   "execution_count": null,
   "metadata": {},
   "outputs": [],
   "source": []
  }
 ],
 "metadata": {
  "kernelspec": {
   "display_name": "Python 3",
   "language": "python",
   "name": "python3"
  },
  "language_info": {
   "codemirror_mode": {
    "name": "ipython",
    "version": 3
   },
   "file_extension": ".py",
   "mimetype": "text/x-python",
   "name": "python",
   "nbconvert_exporter": "python",
   "pygments_lexer": "ipython3",
   "version": "3.6.5"
  }
 },
 "nbformat": 4,
 "nbformat_minor": 2
}
