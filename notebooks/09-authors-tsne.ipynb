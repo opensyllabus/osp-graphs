{
 "cells": [
  {
   "cell_type": "code",
   "execution_count": 1,
   "metadata": {},
   "outputs": [],
   "source": [
    "import matplotlib.pyplot as plt\n",
    "%matplotlib inline"
   ]
  },
  {
   "cell_type": "code",
   "execution_count": 28,
   "metadata": {},
   "outputs": [],
   "source": [
    "import numpy as np\n",
    "import altair as alt\n",
    "import pandas as pd\n",
    "\n",
    "from scipy.sparse import lil_matrix\n",
    "from annoy import AnnoyIndex\n",
    "from collections import defaultdict\n",
    "from titlecase import titlecase\n",
    "from umap import UMAP\n",
    "\n",
    "from sklearn.decomposition import TruncatedSVD\n",
    "from sklearn import manifold\n",
    "from sklearn.decomposition import PCA\n",
    "\n",
    "from sqlalchemy.dialects.postgresql import array_agg\n",
    "from sqlalchemy.sql import functions as func\n",
    "\n",
    "from osp_graphs.v1_db import session, Text, Field, Subfield, SubfieldDocument, Citation, Document"
   ]
  },
  {
   "cell_type": "code",
   "execution_count": 52,
   "metadata": {},
   "outputs": [],
   "source": [
    "count = func.count(Citation.text_id)\n",
    "\n",
    "titles, surnames, text_doc_ids = zip(*session\n",
    "    .query(Text.title, Text.surname, array_agg(Citation.document_id))\n",
    "    .join(Citation)\n",
    "    .filter(Text.valid==True)\n",
    "    .filter(Text.display==True)\n",
    "    .group_by(Text.id)\n",
    "    .order_by(count.desc())\n",
    "    .limit(1000)\n",
    "    .all())"
   ]
  },
  {
   "cell_type": "code",
   "execution_count": 127,
   "metadata": {},
   "outputs": [],
   "source": [
    "titles = [titlecase(t.strip(' /;.')) for t in titles]"
   ]
  },
  {
   "cell_type": "code",
   "execution_count": 130,
   "metadata": {},
   "outputs": [],
   "source": [
    "surnames = [s.strip(' /;.').capitalize() for s in surnames]"
   ]
  },
  {
   "cell_type": "code",
   "execution_count": 131,
   "metadata": {},
   "outputs": [],
   "source": [
    "doc_ids = list(set([did for doc_ids in text_doc_ids for did in doc_ids]))\n",
    "doc_id_to_idx = {did: i for i, did in enumerate(doc_ids)}"
   ]
  },
  {
   "cell_type": "code",
   "execution_count": 132,
   "metadata": {},
   "outputs": [],
   "source": [
    "M = np.zeros((len(doc_ids), len(surnames)))\n",
    "\n",
    "for sidx, doc_ids in enumerate(text_doc_ids):\n",
    "    for did in doc_ids:\n",
    "        didx = doc_id_to_idx[did]\n",
    "        M[didx][sidx] += 1"
   ]
  },
  {
   "cell_type": "code",
   "execution_count": 133,
   "metadata": {},
   "outputs": [
    {
     "data": {
      "text/plain": [
       "570610.0"
      ]
     },
     "execution_count": 133,
     "metadata": {},
     "output_type": "execute_result"
    }
   ],
   "source": [
    "M.sum()"
   ]
  },
  {
   "cell_type": "code",
   "execution_count": 56,
   "metadata": {},
   "outputs": [],
   "source": [
    "svd = TruncatedSVD(n_components=10)"
   ]
  },
  {
   "cell_type": "code",
   "execution_count": 57,
   "metadata": {},
   "outputs": [
    {
     "data": {
      "text/plain": [
       "TruncatedSVD(algorithm='randomized', n_components=10, n_iter=5,\n",
       "       random_state=None, tol=0.0)"
      ]
     },
     "execution_count": 57,
     "metadata": {},
     "output_type": "execute_result"
    }
   ],
   "source": [
    "svd.fit(M)"
   ]
  },
  {
   "cell_type": "code",
   "execution_count": 58,
   "metadata": {},
   "outputs": [
    {
     "data": {
      "text/plain": [
       "(1000, 10)"
      ]
     },
     "execution_count": 58,
     "metadata": {},
     "output_type": "execute_result"
    }
   ],
   "source": [
    "svd.components_.T.shape"
   ]
  },
  {
   "cell_type": "code",
   "execution_count": 107,
   "metadata": {},
   "outputs": [],
   "source": [
    "dr = manifold.TSNE(n_components=2, init='pca', metric='cosine', random_state=1)"
   ]
  },
  {
   "cell_type": "code",
   "execution_count": 147,
   "metadata": {},
   "outputs": [],
   "source": [
    "embedding = dr.fit_transform(svd.components_.T)"
   ]
  },
  {
   "cell_type": "code",
   "execution_count": 149,
   "metadata": {},
   "outputs": [],
   "source": [
    "def make_chart(embedding):\n",
    "\n",
    "    rows = []\n",
    "    for title, surname, (x, y) in zip(titles, surnames, embedding):\n",
    "        rows.append(dict(surname=surname, title=title, x=x, y=y))\n",
    "\n",
    "    df = pd.DataFrame(rows)\n",
    "    \n",
    "    return (alt\n",
    "        .Chart(df, width=1000, height=700)\n",
    "        .mark_text()\n",
    "        .encode(x='x', y='y', text='surname', tooltip='title'))"
   ]
  },
  {
   "cell_type": "code",
   "execution_count": 150,
   "metadata": {},
   "outputs": [
    {
     "data": {
      "application/vnd.vegalite.v2+json": {
       "$schema": "https://vega.github.io/schema/vega-lite/v2.4.3.json",
       "config": {
        "view": {
         "height": 300,
         "width": 400
        }
       },
       "data": {
        "values": [
         {
          "surname": "Strunk",
          "title": "The Elements of Style",
          "x": 9.210585594177246,
          "y": -18.43992042541504
         },
         {
          "surname": "Plato",
          "title": "Republic",
          "x": 8.459190368652344,
          "y": 30.05345916748047
         },
         {
          "surname": "Marx",
          "title": "The Communist Manifesto",
          "x": 7.083826541900635,
          "y": 10.074650764465332
         },
         {
          "surname": "Campbell",
          "title": "Biology",
          "x": 35.735252380371094,
          "y": -17.748319625854492
         },
         {
          "surname": "Shelley",
          "title": "Frankenstein",
          "x": -22.962112426757812,
          "y": -22.644031524658203
         },
         {
          "surname": "Aristotle",
          "title": "Ethics",
          "x": 9.857956886291504,
          "y": 28.861713409423828
         },
         {
          "surname": "Hobbes",
          "title": "Leviathan",
          "x": -4.721832752227783,
          "y": 15.81587028503418
         },
         {
          "surname": "Machiavelli",
          "title": "The Prince",
          "x": -8.670526504516602,
          "y": -9.018882751464844
         },
         {
          "surname": "Sophocles",
          "title": "Oedipus",
          "x": 28.569313049316406,
          "y": 31.599206924438477
         },
         {
          "surname": "Shakespeare",
          "title": "Hamlet",
          "x": -15.398003578186035,
          "y": -13.837099075317383
         },
         {
          "surname": "Homer",
          "title": "The Odyssey",
          "x": 26.265642166137695,
          "y": 31.032663345336914
         },
         {
          "surname": "Said",
          "title": "Orientalism",
          "x": 10.794060707092285,
          "y": 1.2250421047210693
         },
         {
          "surname": "Turabian",
          "title": "A Manual for Writers of Term Papers, Theses, and Dissertations,",
          "x": 9.671048164367676,
          "y": -12.538474082946777
         },
         {
          "surname": "Homer",
          "title": "The Iliad,",
          "x": 26.18720054626465,
          "y": 31.77913475036621
         },
         {
          "surname": "Conrad",
          "title": "Heart of Darkness",
          "x": -23.745046615600586,
          "y": -22.372100830078125
         },
         {
          "surname": "Chaucer",
          "title": "Canterbury Tales",
          "x": -11.100201606750488,
          "y": -13.53011417388916
         },
         {
          "surname": "Sophocles",
          "title": "Antigone",
          "x": 28.039859771728516,
          "y": 32.02836608886719
         },
         {
          "surname": "King",
          "title": "Letter From the Birmingham Jail",
          "x": -24.027446746826172,
          "y": 16.987218856811523
         },
         {
          "surname": "Mill",
          "title": "On Liberty",
          "x": -1.4638677835464478,
          "y": 16.370031356811523
         },
         {
          "surname": "Kuhn",
          "title": "The Structure of Scientific Revolutions",
          "x": 19.7952880859375,
          "y": -2.30435848236084
         },
         {
          "surname": "Milton",
          "title": "Paradise Lost",
          "x": -10.606368064880371,
          "y": -14.268607139587402
         },
         {
          "surname": "Mill",
          "title": "Utilitarianism",
          "x": 8.854436874389648,
          "y": 27.308034896850586
         },
         {
          "surname": "Huntington",
          "title": "The Clash of Civilizations?",
          "x": -6.086623191833496,
          "y": 10.310420989990234
         },
         {
          "surname": "Plato",
          "title": "Apology",
          "x": 11.062141418457031,
          "y": 32.28514099121094
         },
         {
          "surname": "Achebe",
          "title": "Things Fall Apart",
          "x": -32.402076721191406,
          "y": -13.266350746154785
         },
         {
          "surname": "Foucault",
          "title": "Power",
          "x": 12.029669761657715,
          "y": 4.697637557983398
         },
         {
          "surname": "Darwin",
          "title": "Origin of Species",
          "x": 3.2987663745880127,
          "y": -1.5433354377746582
         },
         {
          "surname": "Augustine",
          "title": "Confessions",
          "x": -12.629987716674805,
          "y": -7.159441947937012
         },
         {
          "surname": "Aristotle",
          "title": "The Politics",
          "x": 5.215890407562256,
          "y": 28.940834045410156
         },
         {
          "surname": "Turabian",
          "title": "A Manual for Writers of Dissertations",
          "x": 9.666642189025879,
          "y": -12.532959938049316
         },
         {
          "surname": "Thoreau",
          "title": "Walden",
          "x": -28.263490676879883,
          "y": 15.211555480957031
         },
         {
          "surname": "Tocqueville",
          "title": "Democracy in America",
          "x": -21.6627140045166,
          "y": 14.844545364379883
         },
         {
          "surname": "Deitel",
          "title": "C : How to Program",
          "x": 22.89457893371582,
          "y": -22.201658248901367
         },
         {
          "surname": "Gibaldi",
          "title": "MLA Handbook for Writers of Research Papers",
          "x": 3.9953043460845947,
          "y": -7.329896926879883
         },
         {
          "surname": "Hacker",
          "title": "A Pocket Style Manual",
          "x": 8.85470199584961,
          "y": -16.168909072875977
         },
         {
          "surname": "Fitzgerald",
          "title": "The Great Gatsby",
          "x": -32.25062561035156,
          "y": 0.9370654225349426
         },
         {
          "surname": "Smith",
          "title": "Wealth of Nations",
          "x": 1.7577669620513916,
          "y": 12.769270896911621
         },
         {
          "surname": "Plato",
          "title": "Dialogues",
          "x": 10.421222686767578,
          "y": 30.76250648498535
         },
         {
          "surname": "Aristotle",
          "title": "Nicomachean Ethics",
          "x": 10.109546661376953,
          "y": 28.80711555480957
         },
         {
          "surname": "Foucault",
          "title": "The History of Sexuality",
          "x": 11.523805618286133,
          "y": 1.9018101692199707
         },
         {
          "surname": "Franklin",
          "title": "Autobiography",
          "x": -27.513219833374023,
          "y": 15.5181884765625
         },
         {
          "surname": "Aristotle",
          "title": "The Poetics",
          "x": 24.39730453491211,
          "y": 33.360572814941406
         },
         {
          "surname": "Morrison",
          "title": "Beloved",
          "x": -33.64904022216797,
          "y": -2.4194765090942383
         },
         {
          "surname": "Marx",
          "title": "Capital,",
          "x": 7.897602558135986,
          "y": 9.531889915466309
         },
         {
          "surname": "Shakespeare",
          "title": "The Tempest",
          "x": -13.20118236541748,
          "y": -13.783345222473145
         },
         {
          "surname": "Cozby",
          "title": "Methods in Behavioral Research",
          "x": -27.566829681396484,
          "y": 13.266972541809082
         },
         {
          "surname": "Twain",
          "title": "Huckleberry Finn",
          "x": -33.30789566040039,
          "y": 3.843289613723755
         },
         {
          "surname": "Rousseau",
          "title": "The Social Contract",
          "x": -3.1950900554656982,
          "y": 16.302480697631836
         },
         {
          "surname": "Hacker",
          "title": "The Bedford Handbook",
          "x": -22.655054092407227,
          "y": 17.223308563232422
         },
         {
          "surname": "Gilman",
          "title": "The Yellow Wallpaper",
          "x": -30.946218490600586,
          "y": 13.899611473083496
         },
         {
          "surname": "More",
          "title": "Utopia",
          "x": -9.6856050491333,
          "y": -10.754862785339355
         },
         {
          "surname": "Virgil",
          "title": "The Aeneid",
          "x": 25.504024505615234,
          "y": 30.957988739013672
         },
         {
          "surname": "Jacobs",
          "title": "Incidents in the Life of a Slave Girl",
          "x": -29.40676498413086,
          "y": 14.532720565795898
         },
         {
          "surname": "Chopin",
          "title": "The Awakening",
          "x": -33.783084869384766,
          "y": 2.6730008125305176
         },
         {
          "surname": "Hardin",
          "title": "The Tragedy of the Commons",
          "x": -19.920944213867188,
          "y": 13.710253715515137
         },
         {
          "surname": "Jefferson",
          "title": "The Declaration of Independence",
          "x": -24.910659790039062,
          "y": 16.24087905883789
         },
         {
          "surname": "Voltaire",
          "title": "Candide",
          "x": -20.57022476196289,
          "y": -15.730320930480957
         },
         {
          "surname": "Thucydides",
          "title": "The Peloponnesian War",
          "x": 22.936077117919922,
          "y": 32.1357307434082
         },
         {
          "surname": "De tocqueville",
          "title": "Democracy in America",
          "x": -21.830354690551758,
          "y": 14.879341125488281
         },
         {
          "surname": "Rawls",
          "title": "A Theory of Justice",
          "x": -0.7940861582756042,
          "y": 18.569486618041992
         },
         {
          "surname": "Shakespeare",
          "title": "Henry V",
          "x": -13.539196968078613,
          "y": -12.871187210083008
         },
         {
          "surname": "Sophocles",
          "title": "Oedipus the King",
          "x": 28.725255966186523,
          "y": 31.982784271240234
         },
         {
          "surname": "Sartre",
          "title": "Existentialism",
          "x": 9.237467765808105,
          "y": 25.55141830444336
         },
         {
          "surname": "Due",
          "title": "Project Evaluation",
          "x": 11.370023727416992,
          "y": -18.70027732849121
         },
         {
          "surname": "Ovid",
          "title": "Metamorphoses",
          "x": 26.431396484375,
          "y": 30.90073585510254
         },
         {
          "surname": "Berger",
          "title": "Ways of Seeing",
          "x": 13.464770317077637,
          "y": -0.817879855632782
         },
         {
          "surname": "Ellison",
          "title": "Invisible Man",
          "x": -32.55242156982422,
          "y": 1.0555990934371948
         },
         {
          "surname": "Descartes",
          "title": "Meditations on First Philosophy",
          "x": 9.925901412963867,
          "y": 27.847440719604492
         },
         {
          "surname": "Bush",
          "title": "The White House",
          "x": -3.4273366928100586,
          "y": 7.87393856048584
         },
         {
          "surname": "Austen",
          "title": "Pride & Prejudice",
          "x": -25.46406364440918,
          "y": -17.729875564575195
         },
         {
          "surname": "Hurston",
          "title": "Their Eyes Were Watching God",
          "x": -32.84942626953125,
          "y": -0.029020585119724274
         },
         {
          "surname": "Euripides",
          "title": "Medea",
          "x": 27.859750747680664,
          "y": 32.06985092163086
         },
         {
          "surname": "Marieb",
          "title": "Human Anatomy & Physiology",
          "x": 26.531593322753906,
          "y": -24.89112663269043
         },
         {
          "surname": "Plato",
          "title": "Crito",
          "x": 10.929065704345703,
          "y": 31.765422821044922
         },
         {
          "surname": "Shakespeare",
          "title": "Macbeth",
          "x": -15.936141967773438,
          "y": -13.3922119140625
         },
         {
          "surname": "Huxley",
          "title": "Brave New World",
          "x": -30.42761993408203,
          "y": -6.9738383293151855
         },
         {
          "surname": "Shakespeare",
          "title": "Othello",
          "x": -14.467554092407227,
          "y": -13.882365226745605
         },
         {
          "surname": "Halliday",
          "title": "Physics",
          "x": 34.3544807434082,
          "y": -14.220634460449219
         },
         {
          "surname": "Paine",
          "title": "Common Sense",
          "x": -25.31175994873047,
          "y": 16.04769515991211
         },
         {
          "surname": "Confucius",
          "title": "The Analects",
          "x": 7.0223798751831055,
          "y": 30.238704681396484
         },
         {
          "surname": "Walker",
          "title": "Physics",
          "x": 34.494102478027344,
          "y": -14.08582878112793
         },
         {
          "surname": "Eliot",
          "title": "The Love Song of J. Alfred Prufrock",
          "x": -11.81714153289795,
          "y": -28.387615203857422
         },
         {
          "surname": "Weber",
          "title": "The Protestant Ethic and the Spirit of Capitalism",
          "x": 7.3227386474609375,
          "y": 8.9990816116333
         },
         {
          "surname": "Stewart",
          "title": "Calculus : Early Transcendentals",
          "x": 33.16953659057617,
          "y": -14.047906875610352
         },
         {
          "surname": "Marieb",
          "title": "Human Anatomy",
          "x": 26.535659790039062,
          "y": -24.888031005859375
         },
         {
          "surname": "Krugman",
          "title": "Economics",
          "x": 24.901277542114258,
          "y": -9.84039306640625
         },
         {
          "surname": "Woolf",
          "title": "Mrs. Dalloway",
          "x": -25.773496627807617,
          "y": -19.763582229614258
         },
         {
          "surname": "Tanenbaum",
          "title": "Computer Networks",
          "x": 28.78964614868164,
          "y": -21.97658348083496
         },
         {
          "surname": "Descartes",
          "title": "Discourse on Method",
          "x": 6.039306640625,
          "y": 26.921907424926758
         },
         {
          "surname": "Mills",
          "title": "The Sociological Imagination",
          "x": 10.260292053222656,
          "y": 7.874651908874512
         },
         {
          "surname": "Kafka",
          "title": "The Metamorphosis",
          "x": -22.781091690063477,
          "y": -14.673624992370605
         },
         {
          "surname": "Locke",
          "title": "Second Treatise of Government",
          "x": -3.6689867973327637,
          "y": 16.511682510375977
         },
         {
          "surname": "Kotler",
          "title": "Marketing Management",
          "x": 27.486875534057617,
          "y": -15.395675659179688
         },
         {
          "surname": "Kant",
          "title": "The Metaphysics of Morals",
          "x": 9.36955451965332,
          "y": 27.433073043823242
         },
         {
          "surname": "Bell",
          "title": "Doing Your Research Project : A Guide for First-Time Researchers in Education and Social Science",
          "x": 17.707054138183594,
          "y": -21.53742027282715
         },
         {
          "surname": "Carson",
          "title": "Silent Spring",
          "x": -24.80025291442871,
          "y": 9.64932918548584
         },
         {
          "surname": "Hawthorne",
          "title": "The Scarlet Letter",
          "x": -32.87815856933594,
          "y": 7.763189315795898
         },
         {
          "surname": "Twain",
          "title": "Adventures of Huckleberry Finn",
          "x": -33.26725769042969,
          "y": 3.967017889022827
         },
         {
          "surname": "Freire",
          "title": "Pedagogy of the Oppressed",
          "x": 15.136469841003418,
          "y": 0.27036887407302856
         },
         {
          "surname": "Shakespeare",
          "title": "King Lear",
          "x": -13.436598777770996,
          "y": -13.780229568481445
         },
         {
          "surname": "Russell",
          "title": "Artificial Intelligence : A Modern Approach",
          "x": 30.47553825378418,
          "y": -21.38163948059082
         },
         {
          "surname": "Melville",
          "title": "Moby Dick,",
          "x": -33.53431701660156,
          "y": 7.532177925109863
         },
         {
          "surname": "King",
          "title": "I Have a Dream",
          "x": -23.89315414428711,
          "y": 16.763256072998047
         },
         {
          "surname": "Mankiw",
          "title": "Macroeconomics",
          "x": 26.291034698486328,
          "y": -9.695500373840332
         },
         {
          "surname": "Ross",
          "title": "Corporate Finance",
          "x": 31.883424758911133,
          "y": -18.03896141052246
         },
         {
          "surname": "Eliot",
          "title": "The Waste Land",
          "x": -24.041311264038086,
          "y": -22.602975845336914
         },
         {
          "surname": "Woolf",
          "title": "To the Lighthouse",
          "x": -15.049949645996094,
          "y": 50.65565490722656
         },
         {
          "surname": "Plato",
          "title": "Euthyphro",
          "x": 10.593270301818848,
          "y": 30.629810333251953
         },
         {
          "surname": "Aristophanes",
          "title": "Lysistrata",
          "x": 27.104307174682617,
          "y": 32.280853271484375
         },
         {
          "surname": "Thoreau",
          "title": "Civil Disobedience",
          "x": -26.023252487182617,
          "y": 15.771516799926758
         },
         {
          "surname": "Aristotle",
          "title": "Rhetoric",
          "x": 9.420389175415039,
          "y": 32.904361724853516
         },
         {
          "surname": "Dickens",
          "title": "Great Expectations,",
          "x": -25.93608856201172,
          "y": -17.60321807861328
         },
         {
          "surname": "Sinclair",
          "title": "The Jungle",
          "x": -31.7633113861084,
          "y": 2.893159866333008
         },
         {
          "surname": "Martini",
          "title": "Fundamentals of Anatomy and Physiology",
          "x": 26.013246536254883,
          "y": -19.795364379882812
         },
         {
          "surname": "Fanon",
          "title": "The Wretched of the Earth",
          "x": 8.475473403930664,
          "y": 6.707045555114746
         },
         {
          "surname": "Halliday",
          "title": "Fundamentals of Physics",
          "x": 34.6617431640625,
          "y": -14.423290252685547
         },
         {
          "surname": "Joyce",
          "title": "Ulysses,",
          "x": -28.070178985595703,
          "y": -13.81407356262207
         },
         {
          "surname": "Swift",
          "title": "A Modest Proposal",
          "x": -11.30443286895752,
          "y": -20.764240264892578
         },
         {
          "surname": "Mccloud",
          "title": "Understanding Comics",
          "x": -15.456265449523926,
          "y": 46.80603790283203
         },
         {
          "surname": "Stoker",
          "title": "Dracula",
          "x": -28.370868682861328,
          "y": -17.016441345214844
         },
         {
          "surname": "Hawthorne",
          "title": "Young Goodman Brown",
          "x": -28.39899444580078,
          "y": 17.087621688842773
         },
         {
          "surname": "Plato",
          "title": "Symposium",
          "x": 11.70251750946045,
          "y": 33.69251251220703
         },
         {
          "surname": "Melville",
          "title": "Bartleby",
          "x": -28.54819107055664,
          "y": 15.710403442382812
         },
         {
          "surname": "Miller",
          "title": "Death of a Salesman",
          "x": -37.69514465332031,
          "y": 0.704807698726654
         },
         {
          "surname": "Gibson",
          "title": "Neuromancer",
          "x": -31.333757400512695,
          "y": -9.493120193481445
         },
         {
          "surname": "Aeschylus",
          "title": "The Oresteia",
          "x": 27.947275161743164,
          "y": 32.839027404785156
         },
         {
          "surname": "Wiesel",
          "title": "Night",
          "x": -27.350500106811523,
          "y": -5.706264019012451
         },
         {
          "surname": "Beauvoir",
          "title": "The Second Sex",
          "x": 6.711032867431641,
          "y": 12.42255687713623
         },
         {
          "surname": "Sophocles",
          "title": "Oedipus Rex",
          "x": 28.57859992980957,
          "y": 30.97488784790039
         },
         {
          "surname": "Fisher",
          "title": "Getting to Yes",
          "x": 7.826415538787842,
          "y": -15.136445999145508
         },
         {
          "surname": "Whitman",
          "title": "Leaves of Grass",
          "x": -30.181928634643555,
          "y": 14.408711433410645
         },
         {
          "surname": "Spiegelman",
          "title": "Maus",
          "x": -31.961528778076172,
          "y": -10.22413158416748
         },
         {
          "surname": "Stiglitz",
          "title": "Globalization and Its Discontents",
          "x": 1.865963339805603,
          "y": 8.37879753112793
         },
         {
          "surname": "Freud",
          "title": "Civilization and Its Discontents",
          "x": 6.645993709564209,
          "y": 11.583064079284668
         },
         {
          "surname": "Foucault",
          "title": "Discipline and Punish : The Birth of the Prison",
          "x": 12.109771728515625,
          "y": 3.860653877258301
         },
         {
          "surname": "Browning",
          "title": "My Last Duchess",
          "x": -11.292006492614746,
          "y": -27.365638732910156
         },
         {
          "surname": "Shakespeare",
          "title": "Midsummer N. Dream",
          "x": -16.390384674072266,
          "y": -14.135978698730469
         },
         {
          "surname": "Brown",
          "title": "Psychology",
          "x": 16.992666244506836,
          "y": -1.7432405948638916
         },
         {
          "surname": "Shakespeare",
          "title": "Romeo and Juliet",
          "x": -16.768911361694336,
          "y": -13.175616264343262
         },
         {
          "surname": "Morrison",
          "title": "The Bluest Eye",
          "x": -33.096832275390625,
          "y": -1.2522950172424316
         },
         {
          "surname": "Cisneros",
          "title": "The House on Mango Street",
          "x": -32.357078552246094,
          "y": -1.8228802680969238
         },
         {
          "surname": "Anderson",
          "title": "Imagined Communities : Reflections on the Origin and Spread of Nationalism",
          "x": 12.626021385192871,
          "y": 6.368369102478027
         },
         {
          "surname": "Bronte",
          "title": "Jane Eyre",
          "x": -27.84486961364746,
          "y": -15.514520645141602
         },
         {
          "surname": "Shakespeare",
          "title": "The Complete Works",
          "x": -16.01402473449707,
          "y": -12.940927505493164
         },
         {
          "surname": "Wilde",
          "title": "The Importance of Being Earnest,",
          "x": -12.704732894897461,
          "y": -23.9512939453125
         },
         {
          "surname": "French",
          "title": "Writing and Reading",
          "x": 16.819347381591797,
          "y": -15.259808540344238
         },
         {
          "surname": "Emerson",
          "title": "Nature",
          "x": -28.173494338989258,
          "y": 16.42881965637207
         },
         {
          "surname": "Euripides",
          "title": "The Bacchae",
          "x": 28.478527069091797,
          "y": 33.18522644042969
         },
         {
          "surname": "Bryman",
          "title": "Social Research Methods",
          "x": 19.468605041503906,
          "y": -20.85157012939453
         },
         {
          "surname": "Brealey",
          "title": "Principles of Corporate Finance",
          "x": 28.401748657226562,
          "y": -14.46876049041748
         },
         {
          "surname": "Fukuyama",
          "title": "The End of History?",
          "x": -2.8279240131378174,
          "y": 9.873026847839355
         },
         {
          "surname": "Wordsworth",
          "title": "Lyrical Ballads 1805",
          "x": -10.198528289794922,
          "y": -25.88709831237793
         },
         {
          "surname": "Bordwell",
          "title": "Film Art : An Introduction",
          "x": 13.991868019104004,
          "y": -7.517749309539795
         },
         {
          "surname": "Aristotle",
          "title": "The Metaphysics",
          "x": 10.000411033630371,
          "y": 29.65814781188965
         },
         {
          "surname": "Wollstonecraft",
          "title": "A Vindication of the Rights of Woman",
          "x": -8.463730812072754,
          "y": -25.47516441345215
         },
         {
          "surname": "Goffman",
          "title": "The Presentation of Self in Everyday Life",
          "x": 10.58582592010498,
          "y": 5.897334098815918
         },
         {
          "surname": "Faulkner",
          "title": "A Rose for Emily,",
          "x": -29.999479293823242,
          "y": 16.694072723388672
         },
         {
          "surname": "Friedan",
          "title": "The Feminine Mystique",
          "x": -24.44314193725586,
          "y": 8.720465660095215
         },
         {
          "surname": "Marx",
          "title": "The German Ideology",
          "x": 6.45005464553833,
          "y": 10.40735912322998
         },
         {
          "surname": "Lucas",
          "title": "The Art of Public Speaking",
          "x": 18.40399169921875,
          "y": -11.447892189025879
         },
         {
          "surname": "Steinbeck",
          "title": "The Grapes of Wrath",
          "x": -31.472946166992188,
          "y": 0.7955256700515747
         },
         {
          "surname": "Yin",
          "title": "Case Study Research : Design and Methods",
          "x": 18.378864288330078,
          "y": -20.5493106842041
         },
         {
          "surname": "Moody",
          "title": "Coming of Age in Mississippi",
          "x": -28.14185333251953,
          "y": 3.1419169902801514
         },
         {
          "surname": "Goethe",
          "title": "Faust",
          "x": -20.24633026123047,
          "y": -16.223777770996094
         },
         {
          "surname": "Paul",
          "title": "The New University",
          "x": 17.995447158813477,
          "y": -4.818882465362549
         },
         {
          "surname": "Emerson",
          "title": "Self Reliance",
          "x": -27.510576248168945,
          "y": 15.930313110351562
         },
         {
          "surname": "Alberts",
          "title": "Molecular Biology of the Cell",
          "x": 31.654972076416016,
          "y": -16.171560287475586
         },
         {
          "surname": "Blake",
          "title": "Songs of Innocence",
          "x": -10.813325881958008,
          "y": -26.181686401367188
         },
         {
          "surname": "Locke",
          "title": "An Essay Concerning Human Understanding",
          "x": 5.791743755340576,
          "y": 27.165178298950195
         },
         {
          "surname": "Defoe",
          "title": "Robinson",
          "x": -25.04877471923828,
          "y": -16.292932510375977
         },
         {
          "surname": "Stokstad",
          "title": "Art History",
          "x": 16.980268478393555,
          "y": -15.171797752380371
         },
         {
          "surname": "Joyce",
          "title": "A Portrait of the Artist as a Young Man,",
          "x": -28.2784481048584,
          "y": -14.87656021118164
         },
         {
          "surname": "Cormen",
          "title": "Introduction to Algorithms",
          "x": 30.31194305419922,
          "y": -22.441333770751953
         },
         {
          "surname": "Dickens",
          "title": "Hard Times",
          "x": -24.38096046447754,
          "y": -20.827342987060547
         },
         {
          "surname": "Defoe",
          "title": "Robinson Crusoe",
          "x": -25.1483211517334,
          "y": -16.31450843811035
         },
         {
          "surname": "Silko",
          "title": "Ceremony",
          "x": -35.77520751953125,
          "y": -0.4852963387966156
         },
         {
          "surname": "Atkins",
          "title": "Physical Chemistry",
          "x": 30.030569076538086,
          "y": -15.878314018249512
         },
         {
          "surname": "Beckett",
          "title": "Waiting for Godot",
          "x": -23.169891357421875,
          "y": -16.610485076904297
         },
         {
          "surname": "Wollstonecraft",
          "title": "The Rights of Woman",
          "x": -8.456944465637207,
          "y": -25.476192474365234
         },
         {
          "surname": "Chang",
          "title": "Chemistry",
          "x": 26.866439819335938,
          "y": -12.169690132141113
         },
         {
          "surname": "Creswell",
          "title": "Research Design : Qualitative & Quantitative Approaches",
          "x": 17.065322875976562,
          "y": -20.618911743164062
         },
         {
          "surname": "Barthes",
          "title": "Mythologies",
          "x": 12.090705871582031,
          "y": -1.1179864406585693
         },
         {
          "surname": "Babbie",
          "title": "The Practice of Social Research",
          "x": 20.100610733032227,
          "y": -8.564681053161621
         },
         {
          "surname": "Boccaccio",
          "title": "The Decameron",
          "x": -11.186500549316406,
          "y": -9.053489685058594
         },
         {
          "surname": "Plato",
          "title": "Phaedo",
          "x": 10.519969940185547,
          "y": 31.592655181884766
         },
         {
          "surname": "Burke",
          "title": "Reflections on the Revolution in France",
          "x": 1.7523789405822754,
          "y": 0.41977745294570923
         },
         {
          "surname": "Taylor",
          "title": "Economics",
          "x": 20.182710647583008,
          "y": -5.011074066162109
         },
         {
          "surname": "Joyce",
          "title": "Dubliners",
          "x": -28.450899124145508,
          "y": -15.24919319152832
         },
         {
          "surname": "Aeschylus",
          "title": "Agamemnon,",
          "x": 27.938405990600586,
          "y": 33.46260452270508
         },
         {
          "surname": "English",
          "title": "Contemporary Literature",
          "x": -23.716400146484375,
          "y": -17.965042114257812
         },
         {
          "surname": "Heidegger",
          "title": "Nietzsche",
          "x": 8.317501068115234,
          "y": 23.805490493774414
         },
         {
          "surname": "Tindall",
          "title": "America : A Narrative History",
          "x": 7.133065223693848,
          "y": -17.400949478149414
         },
         {
          "surname": "Mullins",
          "title": "Management and Organisational Behaviour",
          "x": 31.249521255493164,
          "y": -9.826067924499512
         },
         {
          "surname": "Friedman",
          "title": "The Lexus and the Olive Tree",
          "x": -2.3834939002990723,
          "y": 10.136387825012207
         },
         {
          "surname": "Nietzsche",
          "title": "The Genealogy of Morals",
          "x": 7.49456262588501,
          "y": 19.94175148010254
         },
         {
          "surname": "Norman",
          "title": "The Design of Everyday Things",
          "x": 26.587352752685547,
          "y": -9.093289375305176
         },
         {
          "surname": "Hacker",
          "title": "Rules for Writers",
          "x": 8.076797485351562,
          "y": -17.346914291381836
         },
         {
          "surname": "James",
          "title": "American History",
          "x": -24.18401527404785,
          "y": 11.350055694580078
         },
         {
          "surname": "Barber",
          "title": "Jihad vs. McWorld",
          "x": -2.1107728481292725,
          "y": 10.097427368164062
         },
         {
          "surname": "Flaubert",
          "title": "Madame Bovary",
          "x": -28.994001388549805,
          "y": -7.775605201721191
         },
         {
          "surname": "Hesiod",
          "title": "Theogony",
          "x": 27.46207618713379,
          "y": 34.32170486450195
         },
         {
          "surname": "Plato",
          "title": "Phaedrus",
          "x": 9.84334659576416,
          "y": 32.68365478515625
         },
         {
          "surname": "Salinger",
          "title": "The Catcher in the Rye",
          "x": -30.96209144592285,
          "y": -1.1083530187606812
         },
         {
          "surname": "Freud",
          "title": "The Interpretation of Dreams",
          "x": 5.779036045074463,
          "y": -1.7633144855499268
         },
         {
          "surname": "Kreyszig",
          "title": "Advanced Engineering Mathematics",
          "x": 30.617006301879883,
          "y": -20.00800132751465
         },
         {
          "surname": "Wilde",
          "title": "The Picture of Dorian Gray",
          "x": -28.501140594482422,
          "y": -16.753463745117188
         },
         {
          "surname": "Adorno",
          "title": "The Culture Industry",
          "x": 10.714698791503906,
          "y": 3.507927656173706
         },
         {
          "surname": "Du bois",
          "title": "The Souls of Black Folk",
          "x": -25.12312889099121,
          "y": 9.410107612609863
         },
         {
          "surname": "Remarque",
          "title": "All Quiet on the Western Front",
          "x": -25.685810089111328,
          "y": -5.0977678298950195
         },
         {
          "surname": "Cottrell",
          "title": "Critical Thinking Skills : Developing Effective Analysis and Argument",
          "x": 10.547662734985352,
          "y": -15.612543106079102
         },
         {
          "surname": "Bodie",
          "title": "Investments",
          "x": 27.503971099853516,
          "y": -15.63071060180664
         },
         {
          "surname": "Kant",
          "title": "Critique of Pure Reason",
          "x": 7.708005905151367,
          "y": 26.79608154296875
         },
         {
          "surname": "Hitler",
          "title": "Mein Kampf",
          "x": 2.8296632766723633,
          "y": 12.520700454711914
         },
         {
          "surname": "Walker",
          "title": "Everyday Use",
          "x": -29.691499710083008,
          "y": 15.953136444091797
         },
         {
          "surname": "Jackson",
          "title": "The Lottery",
          "x": -30.082780838012695,
          "y": 16.461301803588867
         },
         {
          "surname": "Hansberry",
          "title": "A Raisin in the Sun",
          "x": -36.919151306152344,
          "y": 1.0820081233978271
         },
         {
          "surname": "Shakespeare",
          "title": "Twelfth Night",
          "x": -13.621052742004395,
          "y": -14.345823287963867
         },
         {
          "surname": "Elmasri",
          "title": "Fundamentals of Database Systems",
          "x": 29.44703483581543,
          "y": -21.644729614257812
         },
         {
          "surname": "Plato",
          "title": "Gorgias",
          "x": 9.742684364318848,
          "y": 31.851924896240234
         },
         {
          "surname": "Rampolla",
          "title": "A Pocket Guide to Writing in History",
          "x": 8.698570251464844,
          "y": -16.647573471069336
         },
         {
          "surname": "James",
          "title": "The Turn of the Screw",
          "x": -36.67970275878906,
          "y": -3.119075059890747
         },
         {
          "surname": "Williams",
          "title": "A Streetcar Named Desire",
          "x": -37.58772277832031,
          "y": 0.31399834156036377
         },
         {
          "surname": "Pope",
          "title": "The Rape of the Lock",
          "x": -11.432180404663086,
          "y": -21.129112243652344
         },
         {
          "surname": "Robbins",
          "title": "Organizational Behavior",
          "x": 28.310487747192383,
          "y": -14.799823760986328
         },
         {
          "surname": "Mcluhan",
          "title": "Understanding Media",
          "x": 17.377958297729492,
          "y": -1.8089072704315186
         },
         {
          "surname": "Herodotus",
          "title": "The Histories",
          "x": 25.7302303314209,
          "y": 32.96026611328125
         },
         {
          "surname": "Behn",
          "title": "Oroonoko",
          "x": -12.149238586425781,
          "y": -15.542679786682129
         },
         {
          "surname": "Kieso",
          "title": "Intermediate Accounting",
          "x": 25.494455337524414,
          "y": -14.340651512145996
         },
         {
          "surname": "Goleman",
          "title": "Emotional Intelligence",
          "x": -9.348689079284668,
          "y": 7.646921157836914
         },
         {
          "surname": "Marvell",
          "title": "To His Coy Mistress",
          "x": -11.230582237243652,
          "y": -21.044790267944336
         },
         {
          "surname": "Herodotus",
          "title": "History",
          "x": 25.5133113861084,
          "y": 33.13340377807617
         },
         {
          "surname": "Polanyi",
          "title": "The Great Transformation",
          "x": 3.061227798461914,
          "y": 8.853693962097168
         },
         {
          "surname": "Marx",
          "title": "Manifesto of the Communist Party,",
          "x": 7.133861064910889,
          "y": 9.807320594787598
         },
         {
          "surname": "Hume",
          "title": "An Enquiry Concerning Human Understanding",
          "x": 9.089234352111816,
          "y": 28.35232162475586
         },
         {
          "surname": "Lincoln",
          "title": "The Gettysburg Address",
          "x": -25.118131637573242,
          "y": 16.31964111328125
         },
         {
          "surname": "Time",
          "title": "World War II",
          "x": -4.064692497253418,
          "y": 6.826504230499268
         },
         {
          "surname": "Gellner",
          "title": "Nationalism",
          "x": 0.14170721173286438,
          "y": 7.81894063949585
         },
         {
          "surname": "Tzu",
          "title": "The Art of War",
          "x": -9.62502384185791,
          "y": 8.364034652709961
         },
         {
          "surname": "Walker",
          "title": "The Color Purple",
          "x": -31.510644912719727,
          "y": -0.8291702270507812
         },
         {
          "surname": "Austen",
          "title": "Emma",
          "x": -24.594703674316406,
          "y": -18.790557861328125
         },
         {
          "surname": "Thucydides",
          "title": "History of the Peloponnesian War",
          "x": 22.909564971923828,
          "y": 32.13609313964844
         },
         {
          "surname": "Landow",
          "title": "Hypertext 2.0",
          "x": 12.023216247558594,
          "y": -6.854630470275879
         },
         {
          "surname": "Hull",
          "title": "Options, Futures, and Other Derivatives",
          "x": 31.490798950195312,
          "y": -12.198688507080078
         },
         {
          "surname": "Booth",
          "title": "The Craft of Research",
          "x": 9.693510055541992,
          "y": -13.662631034851074
         },
         {
          "surname": "Giddens",
          "title": "Sociology",
          "x": 10.62125301361084,
          "y": 6.938874244689941
         },
         {
          "surname": "Drucker",
          "title": "Management",
          "x": 18.752302169799805,
          "y": -8.537395477294922
         },
         {
          "surname": "Brown",
          "title": "Black and White",
          "x": -17.062971115112305,
          "y": -5.309777736663818
         },
         {
          "surname": "Rhys",
          "title": "Wide Sargasso Sea",
          "x": -29.391225814819336,
          "y": -13.848591804504395
         },
         {
          "surname": "Brown",
          "title": "Chemistry, the Central Science",
          "x": 29.67681884765625,
          "y": -17.445919036865234
         },
         {
          "surname": "Melville",
          "title": "Bartleby, the Scrivener",
          "x": -28.421396255493164,
          "y": 16.023380279541016
         },
         {
          "surname": "Kerouac",
          "title": "On the Road",
          "x": -32.085453033447266,
          "y": -0.0858674868941307
         },
         {
          "surname": "Jefferson",
          "title": "Notes on the State of Virginia",
          "x": -26.16754913330078,
          "y": 16.404064178466797
         },
         {
          "surname": "Stevenson",
          "title": "Dr. Jekyll and Mr. Hyde",
          "x": -26.908945083618164,
          "y": -19.51765251159668
         },
         {
          "surname": "Silberschatz",
          "title": "Operating System Concepts",
          "x": 29.908838272094727,
          "y": -21.891448974609375
         },
         {
          "surname": "Manovich",
          "title": "The Language of New Media",
          "x": 14.472087860107422,
          "y": -2.336933135986328
         },
         {
          "surname": "Lee",
          "title": "To Kill a Mockingbird",
          "x": -30.81096839904785,
          "y": -1.9815940856933594
         },
         {
          "surname": "Delillo",
          "title": "White Noise",
          "x": -34.148643493652344,
          "y": -3.3197131156921387
         },
         {
          "surname": "Jacobs",
          "title": "The Death and Life of Great American Cities",
          "x": 15.297429084777832,
          "y": -4.080438137054443
         },
         {
          "surname": "Shakespeare",
          "title": "The Merchant of Venice",
          "x": -15.019916534423828,
          "y": -13.223895072937012
         },
         {
          "surname": "Aristophanes",
          "title": "The Clouds",
          "x": 26.04792594909668,
          "y": 34.16203689575195
         },
         {
          "surname": "Denscombe",
          "title": "The Good Research Guide : For Small-Scale Social Research Projects",
          "x": 18.208860397338867,
          "y": -21.501020431518555
         },
         {
          "surname": "Chaucer",
          "title": "The General Prologue",
          "x": -10.137492179870605,
          "y": -14.032719612121582
         },
         {
          "surname": "James",
          "title": "Pragmatism",
          "x": 9.357531547546387,
          "y": 23.00726318359375
         },
         {
          "surname": "Plato",
          "title": "The Apology and Crito",
          "x": 11.084152221679688,
          "y": 32.1276969909668
         },
         {
          "surname": "Mill",
          "title": "The Subjection of Women",
          "x": 2.155381441116333,
          "y": -0.9088028073310852
         },
         {
          "surname": "Ehrenreich",
          "title": "Nickel and Dimed : On (Not) Getting by in America",
          "x": 4.876519680023193,
          "y": 6.571008682250977
         },
         {
          "surname": "Cutnell",
          "title": "Physics",
          "x": 32.074039459228516,
          "y": -14.252884864807129
         },
         {
          "surname": "Glaspell",
          "title": "Trifles",
          "x": -31.931886672973633,
          "y": 13.987373352050781
         },
         {
          "surname": "Marie",
          "title": "Lais",
          "x": -13.358907699584961,
          "y": -12.240270614624023
         },
         {
          "surname": "Said",
          "title": "Culture and Imperialism",
          "x": 10.631555557250977,
          "y": 0.46260368824005127
         },
         {
          "surname": "Levi",
          "title": "Auschwitz",
          "x": 11.437270164489746,
          "y": -3.9367523193359375
         },
         {
          "surname": "Orwell",
          "title": "Animal Farm",
          "x": -29.765451431274414,
          "y": -5.801004409790039
         },
         {
          "surname": "Williams",
          "title": "The Glass Menagerie",
          "x": -38.021244049072266,
          "y": 0.23693732917308807
         },
         {
          "surname": "Camus",
          "title": "The Stranger",
          "x": -28.810222625732422,
          "y": -6.539071083068848
         },
         {
          "surname": "Gandhi",
          "title": "Rajiv",
          "x": 6.372529029846191,
          "y": 22.163156509399414
         },
         {
          "surname": "Held",
          "title": "Globalization",
          "x": 1.7430319786071777,
          "y": 7.785885334014893
         },
         {
          "surname": "Rosen",
          "title": "Discrete Mathematics and Its Applications",
          "x": 29.385263442993164,
          "y": -23.724266052246094
         },
         {
          "surname": "Tortora",
          "title": "Principles of Anatomy and Physiology",
          "x": 29.745573043823242,
          "y": -13.33001708984375
         },
         {
          "surname": "Kernighan",
          "title": "The C Programming Language",
          "x": 26.682634353637695,
          "y": -20.520038604736328
         },
         {
          "surname": "Wright",
          "title": "Native Son",
          "x": -31.628650665283203,
          "y": 0.255059152841568
         },
         {
          "surname": "Black",
          "title": "War and the World, 1450-2000",
          "x": 6.155559539794922,
          "y": -13.908711433410645
         },
         {
          "surname": "Pynchon",
          "title": "The Crying of Lot 49",
          "x": -35.35842514038086,
          "y": -1.4015849828720093
         },
         {
          "surname": "Blanchard",
          "title": "Macroeconomics",
          "x": 27.07732391357422,
          "y": -10.945369720458984
         },
         {
          "surname": "Miller",
          "title": "The Crucible",
          "x": -33.31362533569336,
          "y": 2.138252019882202
         },
         {
          "surname": "Blake",
          "title": "Songs of Experience",
          "x": -10.422025680541992,
          "y": -25.575986862182617
         },
         {
          "surname": "Hemingway",
          "title": "The Sun Also Rises",
          "x": -32.59192657470703,
          "y": -0.525220513343811
         },
         {
          "surname": "Spenser",
          "title": "The Faerie Queene, 1596",
          "x": -10.993498802185059,
          "y": -14.846672058105469
         },
         {
          "surname": "Mcmurry",
          "title": "Organic Chemistry",
          "x": 25.582664489746094,
          "y": -15.547734260559082
         },
         {
          "surname": "Hewitt",
          "title": "Conceptual Physics",
          "x": 25.483184814453125,
          "y": -14.606478691101074
         },
         {
          "surname": "Bach",
          "title": "The Fugue",
          "x": 3.569253444671631,
          "y": -5.8231377601623535
         },
         {
          "surname": "Thomas",
          "title": "Summa Theologica",
          "x": 6.772618770599365,
          "y": 29.749982833862305
         },
         {
          "surname": "Arnold",
          "title": "Dover Beach",
          "x": -10.719395637512207,
          "y": -27.52678108215332
         },
         {
          "surname": "Kamien",
          "title": "Music : An Appreciation",
          "x": 3.505617141723633,
          "y": -4.827356338500977
         },
         {
          "surname": "Hamilton",
          "title": "The Federalist Papers",
          "x": -21.41876220703125,
          "y": 14.850811004638672
         },
         {
          "surname": "Kotter",
          "title": "Leading Change",
          "x": -9.719983100891113,
          "y": 8.79801082611084
         },
         {
          "surname": "Axelrod",
          "title": "The Evolution of Cooperation",
          "x": -7.19436502456665,
          "y": 11.085083961486816
         },
         {
          "surname": "Durkheim",
          "title": "Suicide",
          "x": 8.40558910369873,
          "y": 8.941944122314453
         },
         {
          "surname": "Freud",
          "title": "The Unconscious",
          "x": 8.829986572265625,
          "y": -0.14028632640838623
         },
         {
          "surname": "Pinker",
          "title": "The Language Instinct",
          "x": -25.59016227722168,
          "y": -13.17243480682373
         },
         {
          "surname": "Walker",
          "title": "Fundamentals of Physics",
          "x": 34.693206787109375,
          "y": -14.157533645629883
         },
         {
          "surname": "Poe",
          "title": "Fall of the House of Usher",
          "x": -29.310779571533203,
          "y": 15.996197700500488
         },
         {
          "surname": "Kotler",
          "title": "Principles of Marketing",
          "x": 28.672969818115234,
          "y": -12.801239013671875
         },
         {
          "surname": "Greene",
          "title": "Econometric Analysis",
          "x": 27.266347885131836,
          "y": -15.935293197631836
         },
         {
          "surname": "Eliot",
          "title": "Ezra Pound",
          "x": -36.96515655517578,
          "y": -3.5543973445892334
         },
         {
          "surname": "Hesiod",
          "title": "Works & Days",
          "x": 27.26237678527832,
          "y": 34.193599700927734
         },
         {
          "surname": "Plato",
          "title": "Republic, Book X",
          "x": 9.118794441223145,
          "y": 29.52818489074707
         },
         {
          "surname": "Pepys",
          "title": "Diary",
          "x": -11.93427562713623,
          "y": -15.156249046325684
         },
         {
          "surname": "Larsen",
          "title": "Passing",
          "x": -34.36124801635742,
          "y": -1.3428488969802856
         },
         {
          "surname": "Bradford",
          "title": "Of Plymouth Plantation, 1620-1647",
          "x": -27.385358810424805,
          "y": 16.131547927856445
         },
         {
          "surname": "Hardt",
          "title": "Empire",
          "x": 11.455121040344238,
          "y": 6.446863174438477
         },
         {
          "surname": "Blaxter",
          "title": "How to Research",
          "x": 17.410354614257812,
          "y": -21.655099868774414
         },
         {
          "surname": "Darwin",
          "title": "The Descent of Man",
          "x": 3.0784924030303955,
          "y": -1.4407156705856323
         },
         {
          "surname": "Darwin",
          "title": "On the Origin of Species",
          "x": 3.455425262451172,
          "y": -1.4703078269958496
         },
         {
          "surname": "Stallings",
          "title": "Data and Computer Communications",
          "x": 29.515060424804688,
          "y": -21.51015281677246
         },
         {
          "surname": "Morrison",
          "title": "Song of Solomon",
          "x": -33.6840705871582,
          "y": -2.8290600776672363
         },
         {
          "surname": "Faulkner",
          "title": "The Sound and the Fury",
          "x": -35.062435150146484,
          "y": -1.180295467376709
         },
         {
          "surname": "Deitel",
          "title": "Java : How to Program",
          "x": 22.903480529785156,
          "y": -22.228504180908203
         },
         {
          "surname": "Tanenbaum",
          "title": "Modern Operating Systems",
          "x": 29.660526275634766,
          "y": -21.189355850219727
         },
         {
          "surname": "Friedman",
          "title": "Capitalism and Freedom",
          "x": 1.3115644454956055,
          "y": 11.290420532226562
         },
         {
          "surname": "Melville",
          "title": "Billy Budd",
          "x": -31.011228561401367,
          "y": 13.22264575958252
         },
         {
          "surname": "Clausewitz",
          "title": "On War",
          "x": -8.867834091186523,
          "y": 10.091737747192383
         },
         {
          "surname": "Coleridge",
          "title": "The Rime of the Ancient Mariner",
          "x": -11.162342071533203,
          "y": -25.629356384277344
         },
         {
          "surname": "Durkheim",
          "title": "The Elementary Forms of Religious Life",
          "x": 8.792673110961914,
          "y": 8.424732208251953
         },
         {
          "surname": "Homer",
          "title": "Iliad Odyssey",
          "x": 26.11581039428711,
          "y": 31.32058334350586
         },
         {
          "surname": "Aristotle",
          "title": "The Physics",
          "x": 9.9589262008667,
          "y": 29.844270706176758
         },
         {
          "surname": "Coleridge",
          "title": "The Ancient Mariner",
          "x": -11.226652145385742,
          "y": -25.83710289001465
         },
         {
          "surname": "James",
          "title": "Daisy Miller",
          "x": -32.96221923828125,
          "y": 7.000319004058838
         },
         {
          "surname": "Blake",
          "title": "Songs of Innocence and Experience",
          "x": -10.567389488220215,
          "y": -25.476240158081055
         },
         {
          "surname": "Dawkins",
          "title": "The Selfish Gene",
          "x": 7.761260986328125,
          "y": 20.121179580688477
         },
         {
          "surname": "Forster",
          "title": "A Passage to India",
          "x": -28.60790252685547,
          "y": -14.890551567077637
         },
         {
          "surname": "Eliot",
          "title": "Middlemarch",
          "x": -26.31258773803711,
          "y": -17.348745346069336
         },
         {
          "surname": "Abrams",
          "title": "The Norton Anthology of English Literature",
          "x": -12.443973541259766,
          "y": -22.019969940185547
         },
         {
          "surname": "England",
          "title": "The Sixteenth Century",
          "x": -10.630435943603516,
          "y": -10.617254257202148
         },
         {
          "surname": "Turner",
          "title": "The Frontier in American History",
          "x": -25.60311508178711,
          "y": 14.651131629943848
         },
         {
          "surname": "Nabokov",
          "title": "Lolita",
          "x": -31.631996154785156,
          "y": -5.917856693267822
         },
         {
          "surname": "Engels",
          "title": "On Marx",
          "x": 4.8495707511901855,
          "y": 11.010937690734863
         },
         {
          "surname": "Jameson",
          "title": "Postmodernism, Or, the Cultural Logic of Late Capitalism",
          "x": 12.470357894897461,
          "y": 1.3064912557601929
         },
         {
          "surname": "Plato",
          "title": "Five Dialogues",
          "x": 10.76772689819336,
          "y": 29.8342227935791
         },
         {
          "surname": "Abrams",
          "title": "A Glossary of Literary Terms",
          "x": -13.210018157958984,
          "y": -22.796207427978516
         },
         {
          "surname": "Morrison",
          "title": "Sula",
          "x": -34.03291320800781,
          "y": -2.1847877502441406
         },
         {
          "surname": "Lakoff",
          "title": "Metaphors We Live By",
          "x": 11.935585975646973,
          "y": -7.528989791870117
         },
         {
          "surname": "Gellner",
          "title": "Nations and Nationalism",
          "x": 0.1621660441160202,
          "y": 7.7889299392700195
         },
         {
          "surname": "Putnam",
          "title": "Bowling Alone : The Collapse and Revival of American Community",
          "x": -0.8512607216835022,
          "y": 10.517123222351074
         },
         {
          "surname": "Sontag",
          "title": "On Photography",
          "x": 13.151280403137207,
          "y": -5.455867767333984
         },
         {
          "surname": "Krugman",
          "title": "International Economics : Theory and Policy",
          "x": 25.088666915893555,
          "y": -10.347199440002441
         },
         {
          "surname": "Beethoven",
          "title": "Symphony No. 2",
          "x": 4.008951187133789,
          "y": -3.0057573318481445
         },
         {
          "surname": "Keats",
          "title": "Ode on a Grecian Urn :",
          "x": -11.01917839050293,
          "y": -26.96936798095703
         },
         {
          "surname": "Faulkner",
          "title": "As I Lay Dying",
          "x": -32.8388557434082,
          "y": -1.9978902339935303
         },
         {
          "surname": "Rousseau",
          "title": "A Discourse on Inequality",
          "x": -2.7563483715057373,
          "y": 16.617530822753906
         },
         {
          "surname": "Coase",
          "title": "The Problem of Social Cost",
          "x": 1.2336751222610474,
          "y": 9.560832977294922
         },
         {
          "surname": "Doyle",
          "title": "Sherlock Holmes",
          "x": -26.20049285888672,
          "y": -10.152581214904785
         },
         {
          "surname": "Lunsford",
          "title": "The Everyday Writer",
          "x": -24.397245407104492,
          "y": -12.277239799499512
         },
         {
          "surname": "Field",
          "title": "Archaeology in the U.S.S.R",
          "x": -13.647645950317383,
          "y": -8.461265563964844
         },
         {
          "surname": "Stiglitz",
          "title": "Economics",
          "x": 21.634986877441406,
          "y": -5.482504367828369
         },
         {
          "surname": "Creswell",
          "title": "Research Design : Qualitative, Quantitative, and Mixed Methods Approaches",
          "x": 16.905590057373047,
          "y": -21.07161521911621
         },
         {
          "surname": "Weiten",
          "title": "Psychology : Themes and Variations",
          "x": 16.37938117980957,
          "y": -15.151330947875977
         },
         {
          "surname": "Mills",
          "title": "The Power Elite",
          "x": 6.233708381652832,
          "y": 8.424603462219238
         },
         {
          "surname": "Waltz",
          "title": "Theory of International Politics",
          "x": -7.4990081787109375,
          "y": 10.03459644317627
         },
         {
          "surname": "Wittgenstein",
          "title": "Philosophical Investigations",
          "x": 7.8447957038879395,
          "y": 23.976850509643555
         },
         {
          "surname": "Kant",
          "title": "Perpetual Peace",
          "x": -3.885002374649048,
          "y": 16.1229305267334
         },
         {
          "surname": "Tolkien",
          "title": "The Lord of the Rings",
          "x": -30.926742553710938,
          "y": -7.54997444152832
         },
         {
          "surname": "Bellamy",
          "title": "Looking Backward, 2000-1887",
          "x": -25.244586944580078,
          "y": 8.753188133239746
         },
         {
          "surname": "Tufte",
          "title": "The Visual Display of Quantitative Information",
          "x": 11.271660804748535,
          "y": -16.666032791137695
         },
         {
          "surname": "Gujarati",
          "title": "Basic Econometrics",
          "x": 22.32958221435547,
          "y": -12.204901695251465
         },
         {
          "surname": "Machiavelli",
          "title": "The Discourses",
          "x": -5.382842540740967,
          "y": 15.338061332702637
         },
         {
          "surname": "Golding",
          "title": "Lord of the Flies",
          "x": -30.766677856445312,
          "y": -6.2399187088012695
         },
         {
          "surname": "Wells",
          "title": "The Time Machine",
          "x": -30.028554916381836,
          "y": -12.36552906036377
         },
         {
          "surname": "Mankiw",
          "title": "Principles of Microeconomics",
          "x": 26.39373779296875,
          "y": -9.412955284118652
         },
         {
          "surname": "Nietzsche",
          "title": "Beyond Good and Evil",
          "x": 8.222452163696289,
          "y": 23.023712158203125
         },
         {
          "surname": "Dickens",
          "title": "A Christmas Carol",
          "x": -24.412368774414062,
          "y": -20.80708122253418
         },
         {
          "surname": "Butler",
          "title": "Gender Trouble : Feminism and the Subversion of Identity",
          "x": 11.559216499328613,
          "y": 2.33243727684021
         },
         {
          "surname": "Deitel",
          "title": "Java",
          "x": 22.910139083862305,
          "y": -22.1986026763916
         },
         {
          "surname": "Keegan",
          "title": "World War I",
          "x": -15.415496826171875,
          "y": 46.007041931152344
         },
         {
          "surname": "Melville",
          "title": "Benito Cereno",
          "x": -29.72376823425293,
          "y": 14.903322219848633
         },
         {
          "surname": "Paine",
          "title": "Rights of Man",
          "x": 2.0404443740844727,
          "y": -0.6926262974739075
         },
         {
          "surname": "Gould",
          "title": "The Mismeasure of Man",
          "x": 8.58228588104248,
          "y": 6.12909460067749
         },
         {
          "surname": "Gonzalez",
          "title": "Digital Image Processing",
          "x": 30.621610641479492,
          "y": -20.803451538085938
         },
         {
          "surname": "Northouse",
          "title": "Leadership : Theory and Practice",
          "x": -9.40270709991455,
          "y": 8.645111083984375
         },
         {
          "surname": "Lehninger",
          "title": "Principles of Biochemistry",
          "x": 28.50678825378418,
          "y": -12.775823593139648
         },
         {
          "surname": "Wharton",
          "title": "The House of Mirth",
          "x": -35.67787170410156,
          "y": -1.7529242038726807
         },
         {
          "surname": "Dickens",
          "title": "Oliver Twist",
          "x": -27.998762130737305,
          "y": -14.203092575073242
         },
         {
          "surname": "Myers",
          "title": "Social Psychology",
          "x": 17.860523223876953,
          "y": -11.931822776794434
         },
         {
          "surname": "Collins",
          "title": "Good to Great",
          "x": -9.943742752075195,
          "y": 9.118159294128418
         },
         {
          "surname": "Castells",
          "title": "The Rise of the Network Society",
          "x": 11.010668754577637,
          "y": 6.574432373046875
         },
         {
          "surname": "Shakespeare",
          "title": "Julius Caesar",
          "x": -15.165231704711914,
          "y": -12.521563529968262
         },
         {
          "surname": "Mankiw",
          "title": "Principles of Economics",
          "x": 25.16980743408203,
          "y": -10.82773208618164
         },
         {
          "surname": "Schumpeter",
          "title": "Capitalism, Socialism, and Democracy",
          "x": 0.47950851917266846,
          "y": 10.967939376831055
         },
         {
          "surname": "Wordsworth",
          "title": "The Prelude, 1798-1799",
          "x": -11.689115524291992,
          "y": -25.14019775390625
         },
         {
          "surname": "Rachels",
          "title": "The Elements of Moral Philosophy",
          "x": 10.023726463317871,
          "y": 26.73493003845215
         },
         {
          "surname": "Serway",
          "title": "Physics for Scientists and Engineers",
          "x": 34.44502258300781,
          "y": -14.80491828918457
         },
         {
          "surname": "Chaucer",
          "title": "The Canterbury Tales: Prologue",
          "x": -10.136370658874512,
          "y": -13.844477653503418
         },
         {
          "surname": "Case",
          "title": "Real Estate",
          "x": 17.590789794921875,
          "y": -8.978150367736816
         },
         {
          "surname": "North",
          "title": "Institutions, Institutional Change and Economic Performance",
          "x": 2.638324499130249,
          "y": 8.069064140319824
         },
         {
          "surname": "Pindyck",
          "title": "Microeconomics",
          "x": 28.865930557250977,
          "y": -14.674391746520996
         },
         {
          "surname": "Irving",
          "title": "Rip Van Winkle",
          "x": -27.775754928588867,
          "y": 16.702144622802734
         },
         {
          "surname": "Coetzee",
          "title": "Waiting for the Barbarians",
          "x": -15.26476764678955,
          "y": 49.034454345703125
         },
         {
          "surname": "Negroponte",
          "title": "Being Digital",
          "x": 12.071887016296387,
          "y": -0.9605741500854492
         },
         {
          "surname": "Malthus",
          "title": "On Population",
          "x": 3.6012935638427734,
          "y": 13.195889472961426
         },
         {
          "surname": "James",
          "title": "The Varieties of Religious Experience",
          "x": 10.8707914352417,
          "y": 21.640727996826172
         },
         {
          "surname": "Tacitus",
          "title": "Annals",
          "x": 23.658618927001953,
          "y": 31.902565002441406
         },
         {
          "surname": "Fanon",
          "title": "Black Skin, White Masks",
          "x": 11.645763397216797,
          "y": 2.495730400085449
         },
         {
          "surname": "Eagleton",
          "title": "Literary Theory : An Introduction",
          "x": -22.73970603942871,
          "y": -22.722721099853516
         },
         {
          "surname": "Poe",
          "title": "The Raven,",
          "x": -29.009302139282227,
          "y": 17.073410034179688
         },
         {
          "surname": "Wordsworth",
          "title": "Preface to Lyrical Ballads",
          "x": -9.898177146911621,
          "y": -26.449247360229492
         },
         {
          "surname": "Nozick",
          "title": "Anarchy, State, and Utopia",
          "x": -1.2695976495742798,
          "y": 17.918607711791992
         },
         {
          "surname": "Brontë",
          "title": "Jane Eyre",
          "x": -25.382219314575195,
          "y": -19.85405731201172
         },
         {
          "surname": "Fisher",
          "title": "Getting to Yes : Negotiating Agreement Without Giving In",
          "x": 7.274764060974121,
          "y": -14.365945816040039
         },
         {
          "surname": "Rossetti",
          "title": "Goblin Market",
          "x": -11.53158187866211,
          "y": -26.45573616027832
         },
         {
          "surname": "Hart",
          "title": "Doing a Literature Review : Releasing the Social Science Research Imagination",
          "x": 17.396198272705078,
          "y": -19.56594467163086
         },
         {
          "surname": "Turner",
          "title": "The Significance of the Frontier in American History",
          "x": -25.554941177368164,
          "y": 14.534225463867188
         },
         {
          "surname": "Fowler",
          "title": "The Little, Brown Handbook",
          "x": -29.284788131713867,
          "y": -4.515469551086426
         },
         {
          "surname": "Debord",
          "title": "Society of the Spectacle",
          "x": 11.557890892028809,
          "y": 3.652643918991089
         },
         {
          "surname": "Horace",
          "title": "Odes",
          "x": 24.405349731445312,
          "y": 32.09132385253906
         },
         {
          "surname": "Sophocles",
          "title": "The Theban Plays",
          "x": 27.5267391204834,
          "y": 31.578527450561523
         },
         {
          "surname": "Ritzer",
          "title": "The McDonaldization of Society 5",
          "x": 10.057978630065918,
          "y": 8.112508773803711
         },
         {
          "surname": "Austen",
          "title": "Northanger Abbey",
          "x": -24.91428565979004,
          "y": -19.21909523010254
         },
         {
          "surname": "Crane",
          "title": "The Open Boat",
          "x": -30.068012237548828,
          "y": 13.933953285217285
         },
         {
          "surname": "Garrison",
          "title": "Managerial Accounting",
          "x": 25.59075355529785,
          "y": -13.872220993041992
         },
         {
          "surname": "Nietzsche",
          "title": "The Birth of Tragedy",
          "x": 10.58600902557373,
          "y": 20.10430145263672
         },
         {
          "surname": "Bentham",
          "title": "Utilitarianism",
          "x": 9.051095962524414,
          "y": 26.795244216918945
         },
         {
          "surname": "Thompson",
          "title": "The Making of the English Working Class",
          "x": 7.553699493408203,
          "y": 6.402143955230713
         },
         {
          "surname": "Tufte",
          "title": "Envisioning Information",
          "x": 20.070781707763672,
          "y": -10.901201248168945
         },
         {
          "surname": "Boethius",
          "title": "The Consolation of Philosophy",
          "x": -13.459802627563477,
          "y": -6.8081583976745605
         },
         {
          "surname": "Ramakrishnan",
          "title": "Database Management Systems",
          "x": 30.171300888061523,
          "y": -22.432109832763672
         },
         {
          "surname": "Roy",
          "title": "The God of Small Things",
          "x": -29.929853439331055,
          "y": -12.799790382385254
         },
         {
          "surname": "Miner",
          "title": "Body Ritual Among the Nacirema",
          "x": 10.594473838806152,
          "y": 9.032602310180664
         },
         {
          "surname": "Peterson",
          "title": "Computer Networks : A Systems Approach",
          "x": 30.82779312133789,
          "y": -21.83712387084961
         },
         {
          "surname": "Emerson",
          "title": "The American Scholar",
          "x": -28.007658004760742,
          "y": 16.23512077331543
         },
         {
          "surname": "Harris",
          "title": "Quantitative Chemical Analysis",
          "x": 32.34648132324219,
          "y": -11.73644733428955
         },
         {
          "surname": "Wilson",
          "title": "When Work Disappears",
          "x": 4.081103801727295,
          "y": 7.92457389831543
         },
         {
          "surname": "Alcott",
          "title": "Little Women",
          "x": -35.29056930541992,
          "y": 0.017447534948587418
         },
         {
          "surname": "Doctorow",
          "title": "Ragtime",
          "x": -16.156511306762695,
          "y": 50.439353942871094
         },
         {
          "surname": "Bhabha",
          "title": "The Location of Culture",
          "x": 11.360499382019043,
          "y": 0.8731876611709595
         },
         {
          "surname": "Certeau",
          "title": "The Practice of Everyday Life",
          "x": 12.175771713256836,
          "y": 3.3697128295898438
         },
         {
          "surname": "Edwards",
          "title": "Sinners in the Hands of an Angry God",
          "x": -27.256311416625977,
          "y": 16.56806182861328
         },
         {
          "surname": "Handel",
          "title": "The Messiah",
          "x": 2.7556967735290527,
          "y": -5.214974403381348
         },
         {
          "surname": "Brock",
          "title": "Biology of Microorganisms",
          "x": 27.27931022644043,
          "y": -12.08581256866455
         },
         {
          "surname": "Milton",
          "title": "Paradise Lost : Book I",
          "x": -9.945480346679688,
          "y": -14.47710132598877
         },
         {
          "surname": "Cohen",
          "title": "Research Methods in Education",
          "x": 18.473968505859375,
          "y": -21.42913246154785
         },
         {
          "surname": "Rogers",
          "title": "Diffusion of Innovations",
          "x": 19.453927993774414,
          "y": -7.5573859214782715
         },
         {
          "surname": "Marlowe",
          "title": "Doctor Faustus",
          "x": -12.258209228515625,
          "y": -14.440556526184082
         },
         {
          "surname": "Horowitz",
          "title": "The Art of Electronics",
          "x": 30.666847229003906,
          "y": -13.005478858947754
         },
         {
          "surname": "Paton",
          "title": "Cry, the Beloved Country",
          "x": -15.722524642944336,
          "y": 49.92710494995117
         },
         {
          "surname": "Merleau-ponty",
          "title": "Phenomenology of Perception",
          "x": 9.506169319152832,
          "y": 18.764949798583984
         },
         {
          "surname": "Stryer",
          "title": "Biochemistry",
          "x": 26.429651260375977,
          "y": -12.441068649291992
         },
         {
          "surname": "Coleridge",
          "title": "Kubla Khan",
          "x": -10.409477233886719,
          "y": -26.37751579284668
         },
         {
          "surname": "Diamond",
          "title": "Guns, Germs, and Steel : The Fates of Human Societies",
          "x": 0.8648468852043152,
          "y": 6.412320613861084
         },
         {
          "surname": "Corrigan",
          "title": "A Short Guide to Writing About Film",
          "x": -28.45097541809082,
          "y": -10.207636833190918
         },
         {
          "surname": "Tan",
          "title": "The Joy Luck Club",
          "x": -32.00383377075195,
          "y": -1.0652849674224854
         },
         {
          "surname": "Poe",
          "title": "The Cask of Amontillado",
          "x": -29.392736434936523,
          "y": 16.718765258789062
         },
         {
          "surname": "Dreiser",
          "title": "Sister Carrie",
          "x": -34.182090759277344,
          "y": 1.9200201034545898
         },
         {
          "surname": "Benjamin",
          "title": "Illuminations",
          "x": 9.761955261230469,
          "y": 0.2501187324523926
         },
         {
          "surname": "Hume",
          "title": "A Treatise of Human Nature",
          "x": 6.503509521484375,
          "y": 27.202116012573242
         },
         {
          "surname": "Hayek",
          "title": "The Road to Serfdom,",
          "x": 1.013456106185913,
          "y": 11.867660522460938
         },
         {
          "surname": "Stevens",
          "title": "UNIX Network Programming",
          "x": 29.432174682617188,
          "y": -22.865768432617188
         },
         {
          "surname": "Shakespeare",
          "title": "Henry IV,",
          "x": -13.65984058380127,
          "y": -13.068046569824219
         },
         {
          "surname": "Stroustrup",
          "title": "The C++ Programming Language",
          "x": 22.760454177856445,
          "y": -21.661624908447266
         },
         {
          "surname": "North",
          "title": "Institutional and Economic Change",
          "x": 2.3316099643707275,
          "y": 8.189288139343262
         },
         {
          "surname": "Wollstonecraft",
          "title": "A Vindication of the Rights of Women",
          "x": 2.10628342628479,
          "y": -1.3168525695800781
         },
         {
          "surname": "Young",
          "title": "Teacher Education",
          "x": -11.797127723693848,
          "y": -7.944624423980713
         },
         {
          "surname": "Pope",
          "title": "An Essay on Man",
          "x": -11.31821346282959,
          "y": -22.111644744873047
         },
         {
          "surname": "Marx",
          "title": "Selected Writings",
          "x": 5.1291985511779785,
          "y": 10.908419609069824
         },
         {
          "surname": "Barnet",
          "title": "A Short Guide to Writing About Art",
          "x": 10.707704544067383,
          "y": -16.440227508544922
         },
         {
          "surname": "Patton",
          "title": "Qualitative Evaluation Methods",
          "x": 17.84187889099121,
          "y": -18.981178283691406
         },
         {
          "surname": "Tennyson",
          "title": "In Memoriam",
          "x": -12.087845802307129,
          "y": -25.740478515625
         },
         {
          "surname": "Angelou",
          "title": "I Know Why the Caged Bird Sings",
          "x": -31.580631256103516,
          "y": 1.2098565101623535
         },
         {
          "surname": "Descartes",
          "title": "Discourse on Method ; And, Meditations",
          "x": 8.747943878173828,
          "y": 28.064437866210938
         },
         {
          "surname": "Dickens",
          "title": "A Tale of Two Cities",
          "x": -29.508548736572266,
          "y": -8.28256893157959
         },
         {
          "surname": "Field",
          "title": "Discovering Statistics Using R",
          "x": 24.68050193786621,
          "y": -16.899974822998047
         },
         {
          "surname": "Austen",
          "title": "Persuasion",
          "x": -25.067506790161133,
          "y": -18.905794143676758
         },
         {
          "surname": "Locke",
          "title": "Two Treatises of Government",
          "x": -4.200408458709717,
          "y": 15.984684944152832
         },
         {
          "surname": "Grove",
          "title": "A Dictionary of Music and Musicians (A.D. 1450-1889)",
          "x": 10.536188125610352,
          "y": -11.892763137817383
         },
         {
          "surname": "Austen",
          "title": "Sense and Sensibility",
          "x": -25.643428802490234,
          "y": -18.376623153686523
         },
         {
          "surname": "Williams",
          "title": "Style : Lessons in Clarity and Grace",
          "x": 9.143346786499023,
          "y": -17.43596839904785
         },
         {
          "surname": "Santrock",
          "title": "Life-Span Development",
          "x": 21.29616355895996,
          "y": -13.363357543945312
         },
         {
          "surname": "Hearn",
          "title": "Computer Graphics",
          "x": 27.77903938293457,
          "y": -20.287620544433594
         },
         {
          "surname": "Apuleius",
          "title": "The Golden Ass",
          "x": 25.100971221923828,
          "y": 30.368961334228516
         },
         {
          "surname": "Deleuze",
          "title": "Foucault",
          "x": 16.608428955078125,
          "y": -0.913911759853363
         },
         {
          "surname": "Montesquieu",
          "title": "The Spirit of the Laws",
          "x": -3.4284751415252686,
          "y": 15.974737167358398
         },
         {
          "surname": "Lindblom",
          "title": "The Science of \"Muddling Through\"",
          "x": 8.039423942565918,
          "y": -15.763846397399902
         },
         {
          "surname": "Baudrillard",
          "title": "Simulations",
          "x": 12.107998847961426,
          "y": 2.2417218685150146
         },
         {
          "surname": "Bradbury",
          "title": "Fahrenheit 451",
          "x": -30.562652587890625,
          "y": -2.5388758182525635
         },
         {
          "surname": "Saussure",
          "title": "Course in General Linguistics",
          "x": 10.855912208557129,
          "y": 0.3339696228504181
         },
         {
          "surname": "World bank",
          "title": "Health",
          "x": -0.9989310503005981,
          "y": 5.128273010253906
         },
         {
          "surname": "Kissinger",
          "title": "Diplomacy",
          "x": -7.989858150482178,
          "y": 9.181640625
         },
         {
          "surname": "Turing",
          "title": "Computing Machinery and Intelligence",
          "x": 10.662432670593262,
          "y": 26.91688346862793
         },
         {
          "surname": "Heidegger",
          "title": "Being and Time",
          "x": 8.188163757324219,
          "y": 21.953292846679688
         },
         {
          "surname": "Romer",
          "title": "Advanced Macroeconomics",
          "x": 30.496517181396484,
          "y": -11.70035171508789
         },
         {
          "surname": "Lehne",
          "title": "Pharmacology for Nursing Care",
          "x": -28.630294799804688,
          "y": -4.353658676147461
         },
         {
          "surname": "Varian",
          "title": "Microeconomic Analysis",
          "x": 30.784053802490234,
          "y": -11.934823036193848
         },
         {
          "surname": "Davis",
          "title": "Tools for Teaching",
          "x": 9.920975685119629,
          "y": -12.546040534973145
         },
         {
          "surname": "Shakespeare",
          "title": "As You Like It",
          "x": -14.971948623657227,
          "y": -13.427762985229492
         },
         {
          "surname": "Euripides",
          "title": "Hippolytus",
          "x": 27.706134796142578,
          "y": 33.08174133300781
         },
         {
          "surname": "Steinbeck",
          "title": "East of Eden",
          "x": -16.721548080444336,
          "y": 50.090614318847656
         },
         {
          "surname": "Voet",
          "title": "Biochemistry",
          "x": 26.555936813354492,
          "y": -12.026861190795898
         },
         {
          "surname": "Turkle",
          "title": "Life on the Screen : Identity in the Age of the Internet",
          "x": 14.5531587600708,
          "y": -1.078353762626648
         },
         {
          "surname": "Roth",
          "title": "American Pastoral",
          "x": -16.04513168334961,
          "y": 49.622352600097656
         },
         {
          "surname": "Liszt",
          "title": "F. Chopin,",
          "x": 2.9339733123779297,
          "y": -5.09933614730835
         },
         {
          "surname": "Wiggins",
          "title": "Understanding by Design",
          "x": -9.815515518188477,
          "y": 6.3200788497924805
         },
         {
          "surname": "Dick",
          "title": "Do Androids Dream of Electric Sheep?",
          "x": -30.62265968322754,
          "y": -11.444998741149902
         },
         {
          "surname": "Hennessy",
          "title": "Computer Architecture : A Quantitative Approach",
          "x": 28.385086059570312,
          "y": -19.380197525024414
         },
         {
          "surname": "Suzuki",
          "title": "Zen",
          "x": -24.216890335083008,
          "y": -1.8327043056488037
         },
         {
          "surname": "Kaplan",
          "title": "The Coming Anarchy",
          "x": -3.5455641746520996,
          "y": 10.156597137451172
         },
         {
          "surname": "Bowlby",
          "title": "Attachment",
          "x": 16.381359100341797,
          "y": -6.596100330352783
         },
         {
          "surname": "Crane",
          "title": "The Red Badge of Courage,",
          "x": -33.92707443237305,
          "y": 3.061692714691162
         },
         {
          "surname": "Steinbeck",
          "title": "Of Mice and Men",
          "x": -31.086997985839844,
          "y": -0.2994641661643982
         },
         {
          "surname": "Dickens",
          "title": "Bleak House,",
          "x": -26.593833923339844,
          "y": -16.439189910888672
         },
         {
          "surname": "Huff",
          "title": "How to Lie With Statistics",
          "x": 11.732343673706055,
          "y": -17.089916229248047
         },
         {
          "surname": "Comer",
          "title": "Internetworking With TCP/IP",
          "x": 28.569120407104492,
          "y": -22.186182022094727
         },
         {
          "surname": "Malthus",
          "title": "An Essay on Population",
          "x": 3.759112596511841,
          "y": 13.272482872009277
         },
         {
          "surname": "Kushner",
          "title": "Angels in America",
          "x": -37.8382453918457,
          "y": -0.0834643542766571
         },
         {
          "surname": "Veblen",
          "title": "The Theory of the Leisure Class",
          "x": 4.287604808807373,
          "y": 5.640966892242432
         },
         {
          "surname": "Greenhalgh",
          "title": "How to Read a Paper : The Basics of Evidence-Based Medicine",
          "x": 21.435192108154297,
          "y": -19.58184814453125
         },
         {
          "surname": "Castiglione",
          "title": "The Courtier",
          "x": -9.268391609191895,
          "y": -9.511758804321289
         },
         {
          "surname": "Huntington",
          "title": "The Clash of Civilizations and the Remaking of World Order",
          "x": -5.287090301513672,
          "y": 9.789369583129883
         },
         {
          "surname": "Dangarembga",
          "title": "Nervous Conditions",
          "x": -32.31224060058594,
          "y": -13.005135536193848
         },
         {
          "surname": "Rawls",
          "title": "Justice as Fairness",
          "x": -0.7621436715126038,
          "y": 18.374860763549805
         },
         {
          "surname": "Silverman",
          "title": "Doing Qualitative Research : A Practical Handbook",
          "x": 17.819740295410156,
          "y": -21.380390167236328
         },
         {
          "surname": "Kidder",
          "title": "The Soul of a New Machine",
          "x": -15.912379264831543,
          "y": 46.25350570678711
         },
         {
          "surname": "Corey",
          "title": "Theory and Practice of Counseling and Psychotherapy",
          "x": 12.787500381469727,
          "y": -11.30529499053955
         },
         {
          "surname": "Wade",
          "title": "Organic Chemistry",
          "x": 32.737892150878906,
          "y": -17.283214569091797
         },
         {
          "surname": "Kingdon",
          "title": "Agendas, Alternatives, and Public Policies",
          "x": 9.822897911071777,
          "y": -16.353994369506836
         },
         {
          "surname": "Read",
          "title": "North America",
          "x": -26.597150802612305,
          "y": 14.259177207946777
         },
         {
          "surname": "Patton",
          "title": "Qualitative Evaluation and Research Methods",
          "x": 17.7927188873291,
          "y": -19.34636116027832
         },
         {
          "surname": "Patton",
          "title": "Qualitative Research & Evaluation Methods",
          "x": 17.792367935180664,
          "y": -19.34986686706543
         },
         {
          "surname": "Korth",
          "title": "Database System Concepts",
          "x": 29.657360076904297,
          "y": -22.352235794067383
         },
         {
          "surname": "Shaw",
          "title": "Pygmalion",
          "x": -23.15226936340332,
          "y": -16.24485969543457
         },
         {
          "surname": "Johnson",
          "title": "Exploring Corporate Strategy",
          "x": 28.149763107299805,
          "y": -15.763303756713867
         },
         {
          "surname": "Dickens",
          "title": "David Copperfield",
          "x": -26.47074317932129,
          "y": -15.259034156799316
         },
         {
          "surname": "Sartre",
          "title": "Existentialism and Humanism",
          "x": 9.204659461975098,
          "y": 25.706079483032227
         },
         {
          "surname": "Shelley",
          "title": "Ozymandias",
          "x": -10.36666488647461,
          "y": -27.453794479370117
         },
         {
          "surname": "Patterson",
          "title": "Computer Organization and Design : The Hardware/Software Interface",
          "x": 31.18837547302246,
          "y": -20.906219482421875
         },
         {
          "surname": "Defoe",
          "title": "Moll Flanders",
          "x": -24.46329689025879,
          "y": -16.568267822265625
         },
         {
          "surname": "Maimon",
          "title": "The McGraw-Hill Handbook",
          "x": -25.120742797851562,
          "y": 18.579557418823242
         },
         {
          "surname": "Davis",
          "title": "The Return of Martin Guerre",
          "x": -7.302787780761719,
          "y": 7.910550117492676
         },
         {
          "surname": "Campbell",
          "title": "The Hero With a Thousand Faces",
          "x": -21.110567092895508,
          "y": 0.41736993193626404
         },
         {
          "surname": "Satrapi",
          "title": "Persepolis",
          "x": -32.55177307128906,
          "y": -9.91457748413086
         },
         {
          "surname": "Marcus aurelius",
          "title": "The Meditations",
          "x": 10.161046981811523,
          "y": 34.74544906616211
         },
         {
          "surname": "Surowiecki",
          "title": "The Wisdom of Crowds",
          "x": -16.234926223754883,
          "y": 45.31856918334961
         },
         {
          "surname": "Gramsci",
          "title": "Prison Notebooks",
          "x": 8.951350212097168,
          "y": 8.098100662231445
         },
         {
          "surname": "Berg",
          "title": "Biochemistry",
          "x": 29.783634185791016,
          "y": -15.520344734191895
         },
         {
          "surname": "Long",
          "title": "Hair, Hair",
          "x": -16.48819351196289,
          "y": -5.7892303466796875
         },
         {
          "surname": "James",
          "title": "The Portrait of a Lady",
          "x": -36.552330017089844,
          "y": -2.8879189491271973
         },
         {
          "surname": "Chiang",
          "title": "Fundamental Methods of Mathematical Economics",
          "x": 30.908884048461914,
          "y": -11.772411346435547
         },
         {
          "surname": "Mayhew",
          "title": "Congress : The Electoral Connection",
          "x": -19.984731674194336,
          "y": 13.83600902557373
         },
         {
          "surname": "Dumas",
          "title": "Monte Cristo",
          "x": -15.792244911193848,
          "y": 49.1804084777832
         },
         {
          "surname": "Morgan",
          "title": "Images of Organization",
          "x": 20.69356346130371,
          "y": -8.513347625732422
         },
         {
          "surname": "Mccullers",
          "title": "The Heart Is a Lonely Hunter,",
          "x": -16.53093910217285,
          "y": 50.055938720703125
         },
         {
          "surname": "Percy",
          "title": "The Moviegoer",
          "x": -16.74598503112793,
          "y": 49.2633171081543
         },
         {
          "surname": "Mitchell",
          "title": "Machine Learning",
          "x": 26.833818435668945,
          "y": -19.81067657470703
         },
         {
          "surname": "Carroll",
          "title": "Alice in Wonderland",
          "x": -26.03312873840332,
          "y": -15.684290885925293
         },
         {
          "surname": "Faigley",
          "title": "The Penguin Handbook",
          "x": 9.087889671325684,
          "y": -18.43417739868164
         },
         {
          "surname": "Cooper",
          "title": "The Last of the Mohicans",
          "x": -33.203826904296875,
          "y": 7.4552693367004395
         },
         {
          "surname": "Stravinsky",
          "title": "The Rite of Spring",
          "x": 4.356642723083496,
          "y": -2.8270246982574463
         },
         {
          "surname": "Keller",
          "title": "Statistics for Management and Economics",
          "x": 32.81224822998047,
          "y": -18.85392951965332
         },
         {
          "surname": "Gilman",
          "title": "Herland",
          "x": -27.44985580444336,
          "y": -2.4984498023986816
         },
         {
          "surname": "Jones",
          "title": "The Known World",
          "x": -17.169517517089844,
          "y": 47.4884147644043
         },
         {
          "surname": "Hegel",
          "title": "Phenomenology of Spirit",
          "x": 7.561704158782959,
          "y": 19.92531394958496
         },
         {
          "surname": "Thomas",
          "title": "Latin America",
          "x": 17.50441551208496,
          "y": -5.9094462394714355
         },
         {
          "surname": "Kurose",
          "title": "Computer Networking : A Top-Down Approach",
          "x": 28.570236206054688,
          "y": -20.742815017700195
         },
         {
          "surname": "Hebdige",
          "title": "Subculture, the Meaning of Style",
          "x": 13.180191040039062,
          "y": 0.21727479994297028
         },
         {
          "surname": "Toomer",
          "title": "Cane",
          "x": -34.781890869140625,
          "y": 2.393205165863037
         },
         {
          "surname": "Keats",
          "title": "Ode to a Nightingale",
          "x": -10.060015678405762,
          "y": -26.791019439697266
         },
         {
          "surname": "Hughes",
          "title": "The Negro Speaks of Rivers",
          "x": -30.86545753479004,
          "y": 15.477428436279297
         },
         {
          "surname": "Postman",
          "title": "Amusing Ourselves to Death",
          "x": -24.408367156982422,
          "y": -3.4414994716644287
         },
         {
          "surname": "Field",
          "title": "Reading and Writing",
          "x": -23.241710662841797,
          "y": -0.9857138991355896
         },
         {
          "surname": "Mozart",
          "title": "Don Giovanni",
          "x": 3.2609479427337646,
          "y": -4.316690444946289
         },
         {
          "surname": "Sipser",
          "title": "Introduction to the Theory of Computation",
          "x": 29.260591506958008,
          "y": -22.40483856201172
         },
         {
          "surname": "Erasmus",
          "title": "The Praise of Folly",
          "x": -9.701391220092773,
          "y": -9.455730438232422
         },
         {
          "surname": "Wooldridge",
          "title": "Introductory Econometrics : A Modern Approach",
          "x": 31.175168991088867,
          "y": -18.250350952148438
         },
         {
          "surname": "Tolkien",
          "title": "The Hobbit",
          "x": -30.730504989624023,
          "y": -6.213900089263916
         },
         {
          "surname": "Dumas",
          "title": "The Count of Monte-Cristo",
          "x": -15.749066352844238,
          "y": 49.18949508666992
         },
         {
          "surname": "Plato",
          "title": "The Apology of Socrates",
          "x": 11.695301055908203,
          "y": 32.9915885925293
         },
         {
          "surname": "Putnam",
          "title": "Diplomacy and Domestic Politics: The Logic of Two-Level Games",
          "x": -6.140792369842529,
          "y": 10.861773490905762
         },
         {
          "surname": "Horkheimer",
          "title": "Dialectic of Enlightenment",
          "x": 11.010201454162598,
          "y": 3.549468755722046
         },
         {
          "surname": "Stravinsky",
          "title": "The Rite O' Spring",
          "x": 4.387082099914551,
          "y": -2.881911516189575
         },
         {
          "surname": "Hersey",
          "title": "Hiroshima",
          "x": -28.11515235900879,
          "y": 3.0290067195892334
         },
         {
          "surname": "Ross",
          "title": "A First Course in Probability",
          "x": 31.821916580200195,
          "y": -18.917280197143555
         },
         {
          "surname": "Stravinsky",
          "title": "Rite",
          "x": 4.353944778442383,
          "y": -2.8470122814178467
         },
         {
          "surname": "Plath",
          "title": "The Bell Jar",
          "x": -32.040809631347656,
          "y": -1.255009412765503
         },
         {
          "surname": "Singer",
          "title": "Famine, Affluence, and Morality",
          "x": 8.530875205993652,
          "y": 27.844839096069336
         },
         {
          "surname": "Hecht",
          "title": "Optics",
          "x": 32.95110321044922,
          "y": -14.430315017700195
         },
         {
          "surname": "Zumdahl",
          "title": "Chemistry",
          "x": 20.30079460144043,
          "y": -12.313843727111816
         },
         {
          "surname": "Fielding",
          "title": "Tom Jones",
          "x": -24.947845458984375,
          "y": -15.623459815979004
         },
         {
          "surname": "Keegan",
          "title": "The First World War",
          "x": -15.621556282043457,
          "y": 45.54316711425781
         },
         {
          "surname": "Williams",
          "title": "Culture and Society, 1780-1950",
          "x": 9.181767463684082,
          "y": -0.2901462912559509
         },
         {
          "surname": "Bellow",
          "title": "Seize the Day",
          "x": -16.410612106323242,
          "y": 49.27338409423828
         },
         {
          "surname": "Barthes",
          "title": "Image, Music, Text",
          "x": 12.22825813293457,
          "y": -1.259342074394226
         },
         {
          "surname": "Plato",
          "title": "The Trial of Socrates",
          "x": 11.221409797668457,
          "y": 32.97990417480469
         },
         {
          "surname": "Ross",
          "title": "Fundamentals of Corporate Finance",
          "x": 32.58567810058594,
          "y": -17.57803726196289
         },
         {
          "surname": "Aeschylus",
          "title": "Eumenides",
          "x": 27.608213424682617,
          "y": 33.69461441040039
         },
         {
          "surname": "Rousseau",
          "title": "Confessions",
          "x": -20.182117462158203,
          "y": -16.346256256103516
         },
         {
          "surname": "Unesco",
          "title": "World Heritage 2008-09",
          "x": -24.521862030029297,
          "y": -2.4350368976593018
         },
         {
          "surname": "Trotsky",
          "title": "Lenin",
          "x": 4.449107646942139,
          "y": 11.21500301361084
         },
         {
          "surname": "Bourdieu",
          "title": "Distinction : A Social Critique of the Judgement of Taste",
          "x": 12.908707618713379,
          "y": 4.058950901031494
         },
         {
          "surname": "Tennyson",
          "title": "The Lady of Shalott",
          "x": -10.500924110412598,
          "y": -26.89385414123535
         },
         {
          "surname": "Dewey",
          "title": "Democracy and Education",
          "x": 9.02370548248291,
          "y": 21.039989471435547
         },
         {
          "surname": "Marlowe",
          "title": "Dr. Faustus",
          "x": -11.527422904968262,
          "y": -14.528360366821289
         },
         {
          "surname": "Cather",
          "title": "My Antonia",
          "x": -34.25143814086914,
          "y": 0.5753180980682373
         },
         {
          "surname": "Mcphee",
          "title": "Encounters With the Archdruid",
          "x": -17.99357795715332,
          "y": 46.4033203125
         },
         {
          "surname": "Lincoln",
          "title": "The Emancipation Proclamation",
          "x": -24.629505157470703,
          "y": 15.60555648803711
         },
         {
          "surname": "Jefferson",
          "title": "George Washington",
          "x": -23.428712844848633,
          "y": 16.077539443969727
         },
         {
          "surname": "Camus",
          "title": "The Plague",
          "x": -28.722030639648438,
          "y": -6.068423748016357
         },
         {
          "surname": "Eliot",
          "title": "Tradition and the Individual Talent",
          "x": -13.34451675415039,
          "y": -26.343448638916016
         },
         {
          "surname": "Chekhov",
          "title": "The Cherry Orchard",
          "x": -22.317209243774414,
          "y": -14.017281532287598
         },
         {
          "surname": "Shakespeare",
          "title": "Much Ado About Nothing",
          "x": -14.920801162719727,
          "y": -14.131393432617188
         },
         {
          "surname": "Byron",
          "title": "Don Juan",
          "x": -11.143736839294434,
          "y": -25.117860794067383
         },
         {
          "surname": "Griffiths",
          "title": "Introduction to Electrodynamics",
          "x": 33.615501403808594,
          "y": -15.062627792358398
         },
         {
          "surname": "Mclellan",
          "title": "Marx",
          "x": 5.484476089477539,
          "y": 10.690987586975098
         },
         {
          "surname": "Lessig",
          "title": "Code and Other Laws of Cyberspace",
          "x": 20.5852108001709,
          "y": -2.4090824127197266
         },
         {
          "surname": "Hegel",
          "title": "The Philosophy of History",
          "x": 1.6315754652023315,
          "y": 14.119221687316895
         },
         {
          "surname": "Hemingway",
          "title": "A Farewell to Arms",
          "x": -32.525997161865234,
          "y": -0.9278888702392578
         },
         {
          "surname": "Patterson",
          "title": "Computer Architecture : A Quantitative Approach",
          "x": 28.533721923828125,
          "y": -19.195758819580078
         },
         {
          "surname": "Shakespeare",
          "title": "Richard III",
          "x": -14.13058090209961,
          "y": -13.277192115783691
         },
         {
          "surname": "Dewey",
          "title": "Experience and Education",
          "x": -23.208803176879883,
          "y": -0.968161404132843
         },
         {
          "surname": "Plato",
          "title": "Timaeus",
          "x": 10.412603378295898,
          "y": 32.85480499267578
         },
         {
          "surname": "Beckett",
          "title": "Endgame",
          "x": -12.876298904418945,
          "y": -23.874746322631836
         },
         {
          "surname": "Behn",
          "title": "The Rover",
          "x": -22.349790573120117,
          "y": -18.024633407592773
         },
         {
          "surname": "Arendt",
          "title": "The Origins of Totalitarianism",
          "x": 2.1968624591827393,
          "y": 10.719765663146973
         },
         {
          "surname": "Power",
          "title": "Selected Writings, 1877-1930",
          "x": 12.03514289855957,
          "y": 4.6468000411987305
         },
         {
          "surname": "Heidegger",
          "title": "Hegel",
          "x": 8.241325378417969,
          "y": 24.825899124145508
         },
         {
          "surname": "Calvin",
          "title": "Institutes of the Christian Religion",
          "x": -4.67912483215332,
          "y": 16.785064697265625
         },
         {
          "surname": "Rabelais",
          "title": "Gargantua",
          "x": -10.4517822265625,
          "y": -9.343878746032715
         },
         {
          "surname": "Berger",
          "title": "The Developing Person",
          "x": 21.5166015625,
          "y": -11.611680030822754
         },
         {
          "surname": "Todaro",
          "title": "Economic Development",
          "x": 24.37774085998535,
          "y": -5.47523832321167
         },
         {
          "surname": "Nietzsche",
          "title": "On the Genealogy of Morals",
          "x": 7.596584320068359,
          "y": 19.854248046875
         },
         {
          "surname": "Austen",
          "title": "Mansfield Park",
          "x": -25.515178680419922,
          "y": -16.788721084594727
         },
         {
          "surname": "Marius",
          "title": "A Short Guide to Writing About History",
          "x": 9.677449226379395,
          "y": -13.27832317352295
         },
         {
          "surname": "Lenin",
          "title": "What Is to Be Done?",
          "x": 4.0360260009765625,
          "y": 11.762011528015137
         },
         {
          "surname": "Sedra",
          "title": "Microelectronic Circuits",
          "x": 30.478134155273438,
          "y": -17.81963348388672
         },
         {
          "surname": "Mcluhan",
          "title": "Understanding Media : The Extensions of Man",
          "x": 18.386369705200195,
          "y": -2.0224671363830566
         },
         {
          "surname": "Bandura",
          "title": "Social Learning Theory",
          "x": 14.462100982666016,
          "y": -4.843221187591553
         },
         {
          "surname": "Crystal",
          "title": "The English Language",
          "x": -25.809688568115234,
          "y": -13.097074508666992
         },
         {
          "surname": "Spinoza",
          "title": "Ethics",
          "x": 5.737913608551025,
          "y": 27.46910285949707
         },
         {
          "surname": "Weston",
          "title": "A Rulebook for Arguments",
          "x": 11.492965698242188,
          "y": 27.639249801635742
         },
         {
          "surname": "Grimm",
          "title": "Fairy Tales",
          "x": -25.5584716796875,
          "y": -9.632930755615234
         },
         {
          "surname": "Rousseau",
          "title": "On the Social Contract",
          "x": -3.2233150005340576,
          "y": 16.50518798828125
         },
         {
          "surname": "Eliot",
          "title": "The Mill on the Floss",
          "x": -26.80002212524414,
          "y": -16.09604835510254
         },
         {
          "surname": "Rosenhan",
          "title": "On Being Sane in Insane Places",
          "x": 9.97309684753418,
          "y": 9.000371932983398
         },
         {
          "surname": "Scott",
          "title": "Gender: A Useful Category of Historical Analysis",
          "x": 14.386009216308594,
          "y": 5.532001972198486
         },
         {
          "surname": "Crystal",
          "title": "The Cambridge Encyclopedia of Language",
          "x": -23.337718963623047,
          "y": -12.93359375
         },
         {
          "surname": "Faulkner",
          "title": "Absalom, Absalom!",
          "x": -36.07207107543945,
          "y": -2.5439915657043457
         },
         {
          "surname": "Skidmore",
          "title": "Modern Latin America",
          "x": 17.510517120361328,
          "y": -5.796196460723877
         },
         {
          "surname": "Ottman",
          "title": "Music for Sight Singing",
          "x": 14.118163108825684,
          "y": -11.73453140258789
         },
         {
          "surname": "Stevens",
          "title": "TCP/IP Illustrated",
          "x": 28.404794692993164,
          "y": -21.20241928100586
         },
         {
          "surname": "Carr",
          "title": "What Is History?",
          "x": 17.68950080871582,
          "y": -4.832270622253418
         },
         {
          "surname": "Renfrew",
          "title": "Archaeology",
          "x": 27.212989807128906,
          "y": 35.79560852050781
         },
         {
          "surname": "Kincaid",
          "title": "A Small Place",
          "x": -31.93061637878418,
          "y": -12.28866958618164
         },
         {
          "surname": "Bailyn",
          "title": "The Ideological Origins of the American Revolution",
          "x": -23.245529174804688,
          "y": 14.937013626098633
         },
         {
          "surname": "Durkheim",
          "title": "The Division of Labor in Society",
          "x": 7.888820171356201,
          "y": 8.638358116149902
         },
         {
          "surname": "Malthus",
          "title": "An Essay on the Principle of Population",
          "x": 4.037882328033447,
          "y": 13.322580337524414
         },
         {
          "surname": "Ware",
          "title": "Jimmy Corrigan : The Smartest Kid on Earth",
          "x": -16.462724685668945,
          "y": 46.31078338623047
         },
         {
          "surname": "Stevenson",
          "title": "The Strange Case of Dr. Jekyll and Mr. Hyde",
          "x": -24.399368286132812,
          "y": -21.438373565673828
         },
         {
          "surname": "Kouzes",
          "title": "The Leadership Challenge",
          "x": 15.40674114227295,
          "y": -14.050477027893066
         },
         {
          "surname": "Chaisson",
          "title": "Astronomy Today",
          "x": 32.84101867675781,
          "y": -17.039587020874023
         },
         {
          "surname": "Stoppard",
          "title": "Rosencrantz and Guildenstern Are Dead",
          "x": -17.676435470581055,
          "y": -13.66854476928711
         },
         {
          "surname": "Erdrich",
          "title": "Love Medicine",
          "x": -33.62004089355469,
          "y": 0.3378380537033081
         },
         {
          "surname": "Oppenheim",
          "title": "Questionnaire Design and Attitude Measurement",
          "x": 18.323768615722656,
          "y": -20.015169143676758
         },
         {
          "surname": "Kierkegaard",
          "title": "Fear and Trembling",
          "x": 8.547551155090332,
          "y": 23.22047996520996
         },
         {
          "surname": "Taylor",
          "title": "The Principles of Scientific Management",
          "x": 4.25075101852417,
          "y": 5.599056243896484
         },
         {
          "surname": "Mankiw",
          "title": "Principles of Macroeconomics",
          "x": 26.465011596679688,
          "y": -11.418896675109863
         },
         {
          "surname": "Kittel",
          "title": "Introduction to Solid State Physics",
          "x": 33.02927780151367,
          "y": -15.24205493927002
         },
         {
          "surname": "Thomas",
          "title": "Do Not Go Gentle Into That Good Night :",
          "x": -11.645196914672852,
          "y": -28.438175201416016
         },
         {
          "surname": "Burgess",
          "title": "A Clockwork Orange",
          "x": -31.135927200317383,
          "y": -7.390313148498535
         },
         {
          "surname": "Current",
          "title": "United States History",
          "x": 9.450772285461426,
          "y": -12.39802074432373
         },
         {
          "surname": "Wolf",
          "title": "Europe and the People Without History",
          "x": 12.531106948852539,
          "y": 6.18317174911499
         },
         {
          "surname": "Ibsen",
          "title": "Hedda Gabler",
          "x": -22.366300582885742,
          "y": -14.595084190368652
         },
         {
          "surname": "Moore",
          "title": "The Basic Practice of Statistics",
          "x": 18.76065444946289,
          "y": -12.904117584228516
         },
         {
          "surname": "Gibbon",
          "title": "Decline and Fall",
          "x": -10.699646949768066,
          "y": -6.844461917877197
         },
         {
          "surname": "Berlioz",
          "title": "Symphonie Fantastique",
          "x": 3.3637266159057617,
          "y": -3.111060857772827
         },
         {
          "surname": "Goethe",
          "title": "Werther,",
          "x": -21.058122634887695,
          "y": -15.451560974121094
         },
         {
          "surname": "Anaya",
          "title": "Bless Me, Ultima",
          "x": -30.59477996826172,
          "y": -0.9367969036102295
         },
         {
          "surname": "Silvestri",
          "title": "Saunders Q & a Review for NCLEX-RN",
          "x": 22.695045471191406,
          "y": -19.011669158935547
         },
         {
          "surname": "Shakespeare",
          "title": "The Taming of the Shrew,",
          "x": -14.341997146606445,
          "y": -14.230854988098145
         },
         {
          "surname": "Putnam",
          "title": "Making Democracy Work : Civic Traditions in Modern Italy",
          "x": -0.7525395154953003,
          "y": 10.350205421447754
         },
         {
          "surname": "Keynes",
          "title": "The General Theory of Employment",
          "x": 6.225377559661865,
          "y": 11.827374458312988
         },
         {
          "surname": "Hesiod",
          "title": "Theogony; And, Works and Days",
          "x": 28.189029693603516,
          "y": 34.4147834777832
         },
         {
          "surname": "Tolstoy",
          "title": "Anna Karenina",
          "x": -29.629426956176758,
          "y": -7.470986843109131
         },
         {
          "surname": "Rich",
          "title": "Compulsory Heterosexuality and Lesbian Existence",
          "x": 10.378336906433105,
          "y": 2.400139808654785
         },
         {
          "surname": "Aristophanes",
          "title": "The Frogs",
          "x": 26.603105545043945,
          "y": 33.51937484741211
         },
         {
          "surname": "Woolf",
          "title": "Orlando",
          "x": -28.988338470458984,
          "y": -13.79993724822998
         },
         {
          "surname": "Sargent",
          "title": "Macroeconomic Theory",
          "x": 27.277387619018555,
          "y": -5.568091869354248
         },
         {
          "surname": "Stephenson",
          "title": "Snow Crash",
          "x": -31.347257614135742,
          "y": -9.523346900939941
         },
         {
          "surname": "Brontë",
          "title": "Wuthering Heights",
          "x": -25.77303695678711,
          "y": -19.38465690612793
         },
         {
          "surname": "Hwang",
          "title": "M. Butterfly",
          "x": -36.80889129638672,
          "y": -0.5523532032966614
         },
         {
          "surname": "Hume",
          "title": "Dialogues Concerning Natural Religion",
          "x": 9.362391471862793,
          "y": 28.106529235839844
         },
         {
          "surname": "Anthony",
          "title": "Essential Reading",
          "x": 11.975278854370117,
          "y": 7.522457599639893
         },
         {
          "surname": "Hammersley",
          "title": "Ethnography : Principles in Practice",
          "x": 20.60722541809082,
          "y": -18.128459930419922
         },
         {
          "surname": "Blake",
          "title": "Songs of Innocence and of Experience",
          "x": -11.040136337280273,
          "y": -26.47038459777832
         },
         {
          "surname": "Austin",
          "title": "How to Do Things With Words",
          "x": 16.29741859436035,
          "y": -0.14865124225616455
         },
         {
          "surname": "Addams",
          "title": "Twenty Years at Hull-House",
          "x": -25.346832275390625,
          "y": 9.78409194946289
         },
         {
          "surname": "Stallings",
          "title": "Operating Systems : Internals and Design Principles",
          "x": 31.265193939208984,
          "y": -20.922182083129883
         },
         {
          "surname": "Nelson",
          "title": "Lehninger Principles of Biochemistry",
          "x": 31.631175994873047,
          "y": -13.636921882629395
         },
         {
          "surname": "Schelling",
          "title": "The Strategy of Conflict",
          "x": -8.11734390258789,
          "y": 10.104040145874023
         },
         {
          "surname": "Sterne",
          "title": "Tristram Shandy",
          "x": -26.01719093322754,
          "y": -16.32174301147461
         },
         {
          "surname": "World bank",
          "title": "Education",
          "x": 19.14886474609375,
          "y": -2.084881544113159
         },
         {
          "surname": "Schildt",
          "title": "C++ : The Complete Reference",
          "x": 27.37810516357422,
          "y": -21.9592227935791
         },
         {
          "surname": "Tacitus",
          "title": "Germania",
          "x": 1.5171300172805786,
          "y": 24.425148010253906
         },
         {
          "surname": "Spence",
          "title": "The Search for Modern China",
          "x": -3.4069085121154785,
          "y": 7.737692356109619
         },
         {
          "surname": "Groves",
          "title": "Academe",
          "x": -17.837005615234375,
          "y": 47.055599212646484
         },
         {
          "surname": "Hesse",
          "title": "Siddhartha",
          "x": -30.98785972595215,
          "y": -4.229075908660889
         },
         {
          "surname": "Singer",
          "title": "Animal Liberation",
          "x": 6.907118797302246,
          "y": 23.040376663208008
         },
         {
          "surname": "Twain",
          "title": "Tom Sawyer",
          "x": -34.90213394165039,
          "y": 1.044198989868164
         },
         {
          "surname": "Kershaw",
          "title": "Hitler",
          "x": 18.873323440551758,
          "y": -5.772305488586426
         },
         {
          "surname": "West",
          "title": "Race Matters",
          "x": -20.265304565429688,
          "y": 12.083264350891113
         },
         {
          "surname": "Garrett",
          "title": "Biochemistry",
          "x": 29.443878173828125,
          "y": -9.36236572265625
         },
         {
          "surname": "Bowles",
          "title": "The Sheltering Sky",
          "x": -16.573348999023438,
          "y": 48.585227966308594
         },
         {
          "surname": "Homer",
          "title": "Odyssey, Books 1-12",
          "x": 26.716337203979492,
          "y": 31.449575424194336
         },
         {
          "surname": "Rawls",
          "title": "Political Liberalism",
          "x": -1.6025927066802979,
          "y": 17.75423240661621
         },
         {
          "surname": "Salkind",
          "title": "Statistics for People Who (Think They) Hate Statistics",
          "x": 15.543556213378906,
          "y": -14.72292709350586
         },
         {
          "surname": "Momaday",
          "title": "The Way to Rainy Mountain",
          "x": -32.374088287353516,
          "y": 7.0589704513549805
         },
         {
          "surname": "Keck",
          "title": "Activists Beyond Borders : Advocacy Networks in International Politics",
          "x": -3.8022031784057617,
          "y": 10.092735290527344
         },
         {
          "surname": "Oppenheim",
          "title": "Questionnaire Design, Interviewing, and Attitude Measurement",
          "x": 18.222698211669922,
          "y": -20.248088836669922
         },
         {
          "surname": "Bede",
          "title": "Ecclesiastical History",
          "x": -10.013005256652832,
          "y": -12.995676040649414
         },
         {
          "surname": "Plato",
          "title": "Protagoras",
          "x": 10.53663444519043,
          "y": 32.260833740234375
         },
         {
          "surname": "Orwell",
          "title": "Nineteen Eighty-Four",
          "x": -29.627826690673828,
          "y": -7.787998676300049
         },
         {
          "surname": "Russell",
          "title": "The Problems of Philosophy",
          "x": 8.793087005615234,
          "y": 27.158477783203125
         },
         {
          "surname": "Lowry",
          "title": "The Giver",
          "x": -30.936832427978516,
          "y": -8.537429809570312
         },
         {
          "surname": "Rehnquist",
          "title": "The Supreme Court",
          "x": -19.970821380615234,
          "y": 13.858163833618164
         },
         {
          "surname": "Date",
          "title": "An Introduction to Database Systems",
          "x": 29.25815200805664,
          "y": -19.632797241210938
         },
         {
          "surname": "Landau",
          "title": "Mechanics",
          "x": 33.29663848876953,
          "y": -15.884251594543457
         },
         {
          "surname": "Poe",
          "title": "The Tell-Tale Heart",
          "x": -29.197431564331055,
          "y": 16.5968017578125
         },
         {
          "surname": "Levy",
          "title": "Small Island",
          "x": -16.150941848754883,
          "y": 46.85226058959961
         },
         {
          "surname": "Webster",
          "title": "The Duchess of Malfi",
          "x": -12.355058670043945,
          "y": -14.910224914550781
         },
         {
          "surname": "Stallings",
          "title": "Operating Systems",
          "x": 29.532127380371094,
          "y": -20.57651710510254
         },
         {
          "surname": "Schein",
          "title": "Organizational Culture and Leadership",
          "x": 6.910858154296875,
          "y": -12.739413261413574
         },
         {
          "surname": "Wells",
          "title": "The War of the Worlds",
          "x": -30.37199592590332,
          "y": -11.89898681640625
         },
         {
          "surname": "Plato",
          "title": "The Trial and Death of Socrates",
          "x": 11.363860130310059,
          "y": 33.19446563720703
         },
         {
          "surname": "Eliot",
          "title": "Virginia Woolf",
          "x": -25.881074905395508,
          "y": -19.774755477905273
         },
         {
          "surname": "Lynch",
          "title": "The Image of the City",
          "x": 15.08234691619873,
          "y": -7.038292407989502
         },
         {
          "surname": "Shakespeare",
          "title": "Richard II",
          "x": -13.690462112426758,
          "y": -13.582296371459961
         },
         {
          "surname": "Hobson",
          "title": "Imperialism",
          "x": 4.042253494262695,
          "y": 12.820550918579102
         },
         {
          "surname": "Freud",
          "title": "The Uncanny",
          "x": -22.699661254882812,
          "y": -22.81833839416504
         },
         {
          "surname": "Tarbuck",
          "title": "Earth Science",
          "x": 18.780609130859375,
          "y": -11.592248916625977
         },
         {
          "surname": "Cronon",
          "title": "Changes in the Land : Indians, Colonists, and the Ecology of New England",
          "x": -24.851219177246094,
          "y": 14.014921188354492
         },
         {
          "surname": "Silberschatz",
          "title": "Database System Concepts",
          "x": 30.512868881225586,
          "y": -21.69205093383789
         },
         {
          "surname": "Arendt",
          "title": "The Human Condition",
          "x": 6.181081295013428,
          "y": 21.485870361328125
         },
         {
          "surname": "Rich",
          "title": "Artificial Intelligence",
          "x": 27.514883041381836,
          "y": -20.18014907836914
         },
         {
          "surname": "Keynes",
          "title": "The General Theory of Employment, Interest and Money",
          "x": 6.157858371734619,
          "y": 11.86685848236084
         },
         {
          "surname": "Jackson",
          "title": "Crabgrass Frontier : The Suburbanization of the United States",
          "x": -23.556379318237305,
          "y": 8.72586727142334
         },
         {
          "surname": "Davis",
          "title": "Life in the Iron Mills",
          "x": -29.6972713470459,
          "y": 14.129509925842285
         },
         {
          "surname": "Handy",
          "title": "Understanding Organizations",
          "x": 17.24653434753418,
          "y": -9.672101020812988
         },
         {
          "surname": "Moliere",
          "title": "Tartuffe",
          "x": -13.789769172668457,
          "y": -11.03382396697998
         },
         {
          "surname": "Euripides",
          "title": "Trojan Women",
          "x": 27.276405334472656,
          "y": 32.80512237548828
         },
         {
          "surname": "Madigan",
          "title": "Brock Biology of Microorganisms",
          "x": 27.19887924194336,
          "y": -13.130614280700684
         },
         {
          "surname": "Federal reserve bank of minneapolis",
          "title": "Quarterly Review",
          "x": 23.442537307739258,
          "y": -5.694762706756592
         },
         {
          "surname": "Aeschylus",
          "title": "Prometheus",
          "x": 27.080432891845703,
          "y": 33.06281661987305
         },
         {
          "surname": "Sharp",
          "title": "The Management of a Student Research Project",
          "x": 17.211023330688477,
          "y": -18.411930084228516
         },
         {
          "surname": "Rushdie",
          "title": "The Satanic Verses",
          "x": -31.42393684387207,
          "y": -8.257917404174805
         },
         {
          "surname": "Sophocles",
          "title": "Oedipus at Colonus:",
          "x": 28.70049476623535,
          "y": 32.87847137451172
         },
         {
          "surname": "Grant",
          "title": "Contemporary Strategy Analysis",
          "x": 31.331594467163086,
          "y": -10.492595672607422
         },
         {
          "surname": "Great britain",
          "title": "Chapter 17",
          "x": -0.2784385681152344,
          "y": 11.723093032836914
         },
         {
          "surname": "Reading",
          "title": "Artificial Intelligence",
          "x": 33.95109176635742,
          "y": -10.11332893371582
         },
         {
          "surname": "Wallerstein",
          "title": "The Modern World-System",
          "x": 2.802018404006958,
          "y": 8.151825904846191
         },
         {
          "surname": "Locke",
          "title": "The New Negro",
          "x": -32.51032257080078,
          "y": 6.2682085037231445
         },
         {
          "surname": "Dickinson",
          "title": "Selected Poems",
          "x": -31.481096267700195,
          "y": 14.20344066619873
         },
         {
          "surname": "Goldstein",
          "title": "Classical Mechanics",
          "x": 33.234771728515625,
          "y": -15.487854957580566
         },
         {
          "surname": "Castiglione",
          "title": "The Book of the Courtier",
          "x": -9.281286239624023,
          "y": -9.463761329650879
         },
         {
          "surname": "Ishiguro",
          "title": "The Remains of the Day",
          "x": -29.266281127929688,
          "y": -14.616469383239746
         },
         {
          "surname": "Boyce",
          "title": "Elementary Differential Equations",
          "x": 31.37811851501465,
          "y": -13.640778541564941
         },
         {
          "surname": "Walpole",
          "title": "The Castle of Otranto,",
          "x": -23.352441787719727,
          "y": -21.664161682128906
         },
         {
          "surname": "Thomas",
          "title": "Summa Theologiae",
          "x": 7.521140098571777,
          "y": 29.292888641357422
         },
         {
          "surname": "Brigham",
          "title": "Fundamentals of Financial Management",
          "x": 32.15839385986328,
          "y": -16.931575775146484
         },
         {
          "surname": "Hemingway",
          "title": "Short Stories",
          "x": -36.067359924316406,
          "y": 1.461084008216858
         },
         {
          "surname": "Ellis",
          "title": "His Excellency : George Washington",
          "x": -17.544824600219727,
          "y": 46.31612014770508
         },
         {
          "surname": "Hardy",
          "title": "Jude the Obscure",
          "x": -28.13406753540039,
          "y": -14.542684555053711
         },
         {
          "surname": "Lewin",
          "title": "Genes",
          "x": 32.737640380859375,
          "y": -10.583248138427734
         },
         {
          "surname": "Browning",
          "title": "Aurora Leigh",
          "x": -12.032578468322754,
          "y": -25.298402786254883
         },
         {
          "surname": "Woolfolk",
          "title": "Educational Psychology",
          "x": 18.060211181640625,
          "y": -12.270977973937988
         },
         {
          "surname": "Ray",
          "title": "Development Economics",
          "x": 22.74818229675293,
          "y": -5.1908040046691895
         },
         {
          "surname": "Hesiod",
          "title": "Works and Days ; And Theogony",
          "x": 27.91898536682129,
          "y": 34.52531051635742
         },
         {
          "surname": "York",
          "title": "National Security",
          "x": -6.541781425476074,
          "y": 9.164258003234863
         },
         {
          "surname": "Moore",
          "title": "Watchmen",
          "x": -32.16170120239258,
          "y": -4.98567008972168
         },
         {
          "surname": "Aristotle",
          "title": "Ethics and Politics",
          "x": 7.57288932800293,
          "y": 29.242919921875
         },
         {
          "surname": "Rabelais",
          "title": "Pantagruel",
          "x": -10.352243423461914,
          "y": -9.290862083435059
         },
         {
          "surname": "Granovetter",
          "title": "The Strength of Weak Ties",
          "x": 2.845982551574707,
          "y": 9.489933013916016
         },
         {
          "surname": "Mozart",
          "title": "Piano Concerto : K. 491",
          "x": 3.5574049949645996,
          "y": -6.0421142578125
         },
         {
          "surname": "Kolb",
          "title": "Experiential Learning : Experience as the Source of Learning and Development",
          "x": 22.567237854003906,
          "y": -8.264304161071777
         },
         {
          "surname": "Popper",
          "title": "The Logic of Scientific Discovery",
          "x": 22.735565185546875,
          "y": -2.1674323081970215
         },
         {
          "surname": "Gilman",
          "title": "The Yellow Wall Paper",
          "x": -30.307174682617188,
          "y": 13.258251190185547
         },
         {
          "surname": "Azar",
          "title": "Understanding and Using English Grammar",
          "x": 7.607297420501709,
          "y": -20.443439483642578
         },
         {
          "surname": "Eisenstein",
          "title": "The Battleship Potemkin",
          "x": 12.745954513549805,
          "y": 1.7961769104003906
         },
         {
          "surname": "Barro",
          "title": "Economic Growth",
          "x": 21.41046714782715,
          "y": -4.189304828643799
         },
         {
          "surname": "Bizet",
          "title": "Carmen",
          "x": -22.218948364257812,
          "y": -20.850086212158203
         },
         {
          "surname": "Read",
          "title": "[Poetry Reading",
          "x": -13.697162628173828,
          "y": -21.29006576538086
         },
         {
          "surname": "Thackeray",
          "title": "Vanity Fair",
          "x": -25.754459381103516,
          "y": -16.079303741455078
         },
         {
          "surname": "Rosen",
          "title": "Public Finance",
          "x": 18.82919692993164,
          "y": -9.907170295715332
         },
         {
          "surname": "Allison",
          "title": "Conceptual Models and the Cuban Missile Crisis",
          "x": -8.23960018157959,
          "y": 10.653061866760254
         },
         {
          "surname": "Griffiths",
          "title": "Introduction to Quantum Mechanics",
          "x": 32.652320861816406,
          "y": -13.406448364257812
         },
         {
          "surname": "Connell",
          "title": "Masculinities",
          "x": 12.62292766571045,
          "y": 3.098510503768921
         },
         {
          "surname": "Ladefoged",
          "title": "A Course in Phonetics",
          "x": -23.18623924255371,
          "y": -20.045812606811523
         },
         {
          "surname": "Tan",
          "title": "Mother Tongue",
          "x": -24.33790397644043,
          "y": 17.558460235595703
         },
         {
          "surname": "Fielding",
          "title": "Joseph Andrews",
          "x": -22.61474609375,
          "y": -17.938615798950195
         },
         {
          "surname": "West",
          "title": "Doing Gender",
          "x": 10.366456031799316,
          "y": 7.491428852081299
         },
         {
          "surname": "Wallace",
          "title": "Consider the Lobster",
          "x": -15.983518600463867,
          "y": 45.12034225463867
         },
         {
          "surname": "Doyle",
          "title": "Liberalism and World Politics",
          "x": -6.6176605224609375,
          "y": 9.976964950561523
         },
         {
          "surname": "Hamilton",
          "title": "Time Series Analysis",
          "x": 30.481365203857422,
          "y": -9.8189115524292
         },
         {
          "surname": "Mclellan",
          "title": "Karl Marx",
          "x": 5.746240139007568,
          "y": 10.590900421142578
         },
         {
          "surname": "Chaucer",
          "title": "Troilus :",
          "x": -14.63786792755127,
          "y": -12.211085319519043
         },
         {
          "surname": "Jervis",
          "title": "Cooperation Under the Security Dilemma",
          "x": -8.162211418151855,
          "y": 11.016180992126465
         },
         {
          "surname": "Hawthorne",
          "title": "The Birthmark",
          "x": -29.355491638183594,
          "y": 17.780672073364258
         },
         {
          "surname": "Milton",
          "title": "Areopagitica,",
          "x": -9.987586975097656,
          "y": -11.535345077514648
         },
         {
          "surname": "Williams",
          "title": "Wallace Stevens",
          "x": -37.12388229370117,
          "y": -2.8560993671417236
         },
         {
          "surname": "Krasner",
          "title": "Sovereignty",
          "x": -7.082138538360596,
          "y": 10.873459815979004
         },
         {
          "surname": "Caputo",
          "title": "A Rumor of War",
          "x": -27.48518180847168,
          "y": 3.385471820831299
         },
         {
          "surname": "Coetzee",
          "title": "Disgrace",
          "x": -30.58525276184082,
          "y": -11.086492538452148
         },
         {
          "surname": "Ross",
          "title": "Introduction to Probability Models",
          "x": 26.85137367248535,
          "y": -17.226760864257812
         },
         {
          "surname": "Gilbert",
          "title": "Developmental Biology",
          "x": 16.12880516052246,
          "y": -8.36968994140625
         },
         {
          "surname": "Meggs",
          "title": "A History of Graphic Design",
          "x": 16.134075164794922,
          "y": -8.856032371520996
         },
         {
          "surname": "Burney",
          "title": "Evelina",
          "x": -24.747283935546875,
          "y": -18.039331436157227
         },
         {
          "surname": "Stewart",
          "title": "Calculus : Concepts and Contexts",
          "x": 24.592052459716797,
          "y": -13.708481788635254
         },
         {
          "surname": "Hemingway",
          "title": "In Our Time",
          "x": -36.296695709228516,
          "y": -2.2536845207214355
         },
         {
          "surname": "Martin",
          "title": "Twentieth Century",
          "x": -23.572816848754883,
          "y": -4.805297374725342
         },
         {
          "surname": "Descartes",
          "title": "Discourse on Method and Meditations on First Philosophy",
          "x": 9.562525749206543,
          "y": 27.93626594543457
         },
         {
          "surname": "Harvey",
          "title": "A Brief History of Neoliberalism",
          "x": 9.534207344055176,
          "y": 8.311935424804688
         },
         {
          "surname": "Mcmillan",
          "title": "Writing Papers in the Biological Sciences",
          "x": 35.66526794433594,
          "y": -17.673294067382812
         },
         {
          "surname": "Proakis",
          "title": "Digital Signal Processing",
          "x": 29.249120712280273,
          "y": -18.716434478759766
         },
         {
          "surname": "Mearsheimer",
          "title": "The False Promise of International Institutions",
          "x": -6.74086332321167,
          "y": 10.225543022155762
         },
         {
          "surname": "Russett",
          "title": "The Democratic Peace",
          "x": -8.425694465637207,
          "y": 10.578153610229492
         },
         {
          "surname": "Corey",
          "title": "Groups, Process and Practice",
          "x": 12.661005973815918,
          "y": -11.295541763305664
         },
         {
          "surname": "Bachelard",
          "title": "The Poetics of Space",
          "x": 12.904982566833496,
          "y": -6.893562316894531
         },
         {
          "surname": "Haddon",
          "title": "The Curious Incident of the Dog in the Night-Time",
          "x": -32.071739196777344,
          "y": -6.607998847961426
         },
         {
          "surname": "Smith",
          "title": "The Theory of Moral Sentiments",
          "x": 1.006169319152832,
          "y": 14.758332252502441
         },
         {
          "surname": "Hochschild",
          "title": "The Second Shift",
          "x": 9.287314414978027,
          "y": 5.764493465423584
         },
         {
          "surname": "Gaddis",
          "title": "Starting Out With C++ : From Control Structures Through Objects",
          "x": 23.036428451538086,
          "y": -22.312381744384766
         },
         {
          "surname": "Rosenwasser",
          "title": "Writing Analytically",
          "x": -24.260066986083984,
          "y": -11.432415008544922
         },
         {
          "surname": "Jarvis",
          "title": "Physical Examination & Health Assessment",
          "x": 14.185982704162598,
          "y": -11.363640785217285
         },
         {
          "surname": "Mearsheimer",
          "title": "The Tragedy of Great Power Politics",
          "x": -7.625421524047852,
          "y": 10.571446418762207
         },
         {
          "surname": "Walker",
          "title": "Halliday & Resnick Fundamentals of Physics",
          "x": 34.682212829589844,
          "y": -14.479903221130371
         },
         {
          "surname": "Porter",
          "title": "The Competitive Advantage of Nations",
          "x": 19.777658462524414,
          "y": -3.0593461990356445
         },
         {
          "surname": "Varian",
          "title": "Intermediate Microeconomics : A Modern Approach",
          "x": 24.096284866333008,
          "y": -5.681290149688721
         },
         {
          "surname": "Pope",
          "title": "An Essay on Criticism",
          "x": -11.18697452545166,
          "y": -21.944873809814453
         },
         {
          "surname": "Williams",
          "title": "Style : Ten Lessons in Clarity and Grace",
          "x": 9.440746307373047,
          "y": -17.283458709716797
         },
         {
          "surname": "Geertz",
          "title": "Deep Play: Notes on the Balinese Cockfight",
          "x": 13.081625938415527,
          "y": 5.1064581871032715
         },
         {
          "surname": "Campbell",
          "title": "The Power of Myth",
          "x": -21.124393463134766,
          "y": 0.46297842264175415
         },
         {
          "surname": "Kennedy",
          "title": "A Guide to Econometrics",
          "x": 22.813556671142578,
          "y": -8.450235366821289
         },
         {
          "surname": "Guyton",
          "title": "Textbook of Medical Physiology",
          "x": 20.441673278808594,
          "y": -12.058459281921387
         },
         {
          "surname": "Gramsci",
          "title": "From the 'Prison Notebooks'",
          "x": 8.860310554504395,
          "y": 8.773722648620605
         },
         {
          "surname": "Huntington",
          "title": "Political Order in Changing Societies,",
          "x": 1.958386778831482,
          "y": 9.350433349609375
         },
         {
          "surname": "Aeschylus",
          "title": "The Libation Bearers",
          "x": 28.430335998535156,
          "y": 33.7125129699707
         },
         {
          "surname": "Hillier",
          "title": "Introduction to Operations Research",
          "x": 29.283037185668945,
          "y": -13.08021354675293
         },
         {
          "surname": "Shakespeare",
          "title": "Measure for Measure,",
          "x": -14.224626541137695,
          "y": -14.709879875183105
         },
         {
          "surname": "Suetonius",
          "title": "The Caesars",
          "x": 24.192903518676758,
          "y": 31.442398071289062
         },
         {
          "surname": "Arnold",
          "title": "Culture and Anarchy",
          "x": -13.802886962890625,
          "y": -25.983732223510742
         },
         {
          "surname": "Esping-andersen",
          "title": "The Three Worlds of Welfare Capitalism",
          "x": 2.6145641803741455,
          "y": 7.658432483673096
         },
         {
          "surname": "Wood",
          "title": "The Radicalism of the American Revolution",
          "x": -24.2966251373291,
          "y": 14.956294059753418
         },
         {
          "surname": "Woodward",
          "title": "Florida State University",
          "x": 24.759754180908203,
          "y": -5.947534084320068
         },
         {
          "surname": "Coase",
          "title": "The Nature of the Firm",
          "x": 0.9155777096748352,
          "y": 9.16722583770752
         },
         {
          "surname": "Cleveland",
          "title": "A History of the Modern Middle East",
          "x": 17.48131561279297,
          "y": -4.656337738037109
         },
         {
          "surname": "Moore",
          "title": "Introduction to the Practice of Statistics",
          "x": 21.58153533935547,
          "y": -12.616579055786133
         },
         {
          "surname": "Shaara",
          "title": "The Killer Angels",
          "x": -28.18463706970215,
          "y": 3.080700159072876
         },
         {
          "surname": "Wharton",
          "title": "The Age of Innocence",
          "x": -34.95820999145508,
          "y": 0.6172882914543152
         },
         {
          "surname": "Sophocles",
          "title": "Electra",
          "x": 28.228191375732422,
          "y": 32.926513671875
         },
         {
          "surname": "Hill",
          "title": "International Business : Competing in the Global Marketplace",
          "x": 10.776827812194824,
          "y": -18.34309196472168
         },
         {
          "surname": "Kneale",
          "title": "English Passengers",
          "x": -16.016450881958008,
          "y": 47.05924987792969
         },
         {
          "surname": "Esping-andersen",
          "title": "The Three Worlds of Capitalism",
          "x": 2.619460105895996,
          "y": 7.661884784698486
         },
         {
          "surname": "Fromkin",
          "title": "An Introduction to Language",
          "x": -24.800580978393555,
          "y": -12.615133285522461
         },
         {
          "surname": "Collins",
          "title": "The Woman in White",
          "x": -28.607967376708984,
          "y": -16.501630783081055
         },
         {
          "surname": "Fussell",
          "title": "The Great War and Modern Memory",
          "x": 12.476516723632812,
          "y": -4.8209428787231445
         },
         {
          "surname": "Alberts",
          "title": "Essential Cell Biology",
          "x": 26.84379768371582,
          "y": -13.596288681030273
         },
         {
          "surname": "James",
          "title": "The Will to Believe :",
          "x": 10.003730773925781,
          "y": 25.33391571044922
         },
         {
          "surname": "Beauchamp",
          "title": "Principles of Biomedical Ethics",
          "x": 22.691465377807617,
          "y": -2.2372841835021973
         },
         {
          "surname": "Alexie",
          "title": "The Lone Ranger and Tonto Fistfight in Heaven",
          "x": -32.382320404052734,
          "y": 2.6101763248443604
         },
         {
          "surname": "Pound",
          "title": "In a Station of the Metro",
          "x": -30.347768783569336,
          "y": 17.979463577270508
         },
         {
          "surname": "Bowling",
          "title": "Research Methods in Health : Investigating Health and Health Services",
          "x": 21.524152755737305,
          "y": -19.712007522583008
         },
         {
          "surname": "Rousseau",
          "title": "Discourse on the Origin of Inequality",
          "x": -2.435406446456909,
          "y": 16.511669158935547
         },
         {
          "surname": "Larsen",
          "title": "Quicksand",
          "x": -33.95940017700195,
          "y": -0.9803624153137207
         },
         {
          "surname": "Yeats",
          "title": "Easter, 1916",
          "x": -12.192177772521973,
          "y": -26.23814582824707
         },
         {
          "surname": "Jackson",
          "title": "Classical Electrodynamics",
          "x": 32.03750228881836,
          "y": -14.812704086303711
         },
         {
          "surname": "Dante alighieri",
          "title": "Inferno",
          "x": -12.397132873535156,
          "y": -8.859635353088379
         },
         {
          "surname": "Black",
          "title": "Cambridge University Press, 1584-1984",
          "x": 17.496355056762695,
          "y": -5.050502777099609
         },
         {
          "surname": "Stone",
          "title": "Policy Paradox : The Art of Political Decision Making",
          "x": 8.745951652526855,
          "y": -16.10071563720703
         },
         {
          "surname": "Hegel",
          "title": "Philosophy of Right",
          "x": -1.6490541696548462,
          "y": 16.281047821044922
         },
         {
          "surname": "Conrad",
          "title": "Typhoon",
          "x": -16.546335220336914,
          "y": 47.47618865966797
         },
         {
          "surname": "Mendelsohn",
          "title": "The Lost : A Search for Six of Six Million",
          "x": -17.604291915893555,
          "y": 45.18574523925781
         },
         {
          "surname": "Mozart",
          "title": "Symphony No. 28",
          "x": 3.658874273300171,
          "y": -6.202451705932617
         },
         {
          "surname": "Baudrillard",
          "title": "Simulacra and Simulation",
          "x": 14.291441917419434,
          "y": 0.3366261422634125
         },
         {
          "surname": "Stoppard",
          "title": "Jumpers",
          "x": -16.696979522705078,
          "y": 46.99953079223633
         },
         {
          "surname": "Mahler",
          "title": "Symphony No. 8",
          "x": 3.8932526111602783,
          "y": -3.235520839691162
         },
         {
          "surname": "Campbell",
          "title": "Essential Biology",
          "x": 35.74126434326172,
          "y": -17.758359909057617
         },
         {
          "surname": "Turgenev",
          "title": "Fathers and Sons",
          "x": -28.428834915161133,
          "y": -6.819504737854004
         },
         {
          "surname": "Herr",
          "title": "Dispatches",
          "x": -35.499488830566406,
          "y": 2.1747217178344727
         },
         {
          "surname": "Boyce",
          "title": "Elementary Differential Equations and Boundary Value Problems",
          "x": 31.25675392150879,
          "y": -13.70307731628418
         },
         {
          "surname": "Aronson",
          "title": "Social Psychology",
          "x": 18.571414947509766,
          "y": -10.212302207946777
         },
         {
          "surname": "Kant",
          "title": "Critique of Judgment",
          "x": 9.949173927307129,
          "y": 20.03525161743164
         },
         {
          "surname": "Tolstoy",
          "title": "War and Peace",
          "x": -27.492395401000977,
          "y": -7.775082111358643
         },
         {
          "surname": "Eckel",
          "title": "Thinking in Java",
          "x": 27.78803825378418,
          "y": -22.610490798950195
         },
         {
          "surname": "Livy",
          "title": "The History of Rome",
          "x": 23.789525985717773,
          "y": 31.71728515625
         },
         {
          "surname": "Trotsky",
          "title": "Stalin",
          "x": 2.5765109062194824,
          "y": 12.651004791259766
         },
         {
          "surname": "Ching",
          "title": "Architecture : Form, Space & Order",
          "x": 30.194725036621094,
          "y": -8.844562530517578
         },
         {
          "surname": "Sartre",
          "title": "Merleau-Ponty",
          "x": 7.8910980224609375,
          "y": 26.26128578186035
         },
         {
          "surname": "Rudestam",
          "title": "Surviving Your Dissertation : A Comprehensive Guide to Content and Process",
          "x": 16.921316146850586,
          "y": -20.958473205566406
         },
         {
          "surname": "Jackson",
          "title": "Gods in Alabama",
          "x": -16.172706604003906,
          "y": 45.8663444519043
         },
         {
          "surname": "Allison",
          "title": "Essence of Decision; Explaining the Cuban Missile Crisis",
          "x": -7.528841495513916,
          "y": 9.221405982971191
         },
         {
          "surname": "Carlson",
          "title": "Physiology of Behavior",
          "x": 15.604466438293457,
          "y": -10.786168098449707
         },
         {
          "surname": "Yeats",
          "title": "The Lake Isle of Innisfree,",
          "x": -11.70301628112793,
          "y": -27.201574325561523
         },
         {
          "surname": "Becker",
          "title": "Writing for Social Scientists : How to Start and Finish Your Thesis, Book, or Article",
          "x": 9.896903038024902,
          "y": -14.154168128967285
         },
         {
          "surname": "Soto",
          "title": "The Mystery of Capital",
          "x": -1.2364484071731567,
          "y": 9.480916023254395
         },
         {
          "surname": "Creme",
          "title": "Writing at University : A Guide for Students",
          "x": 19.797466278076172,
          "y": -16.415790557861328
         },
         {
          "surname": "Gibbon",
          "title": "The Decline and Fall of the Roman Empire",
          "x": -10.699341773986816,
          "y": -6.822907447814941
         },
         {
          "surname": "Giddens",
          "title": "The Consequences of Modernity",
          "x": 10.696139335632324,
          "y": 6.880022048950195
         },
         {
          "surname": "Engels",
          "title": "The Condition of the Working Class in England",
          "x": 5.377966403961182,
          "y": 13.210084915161133
         },
         {
          "surname": "Sturken",
          "title": "Practices of Looking : An Introduction to Visual Culture",
          "x": 14.965352058410645,
          "y": -1.845801830291748
         },
         {
          "surname": "Hazzard",
          "title": "The Great Fire",
          "x": -16.949573516845703,
          "y": 46.65129852294922
         },
         {
          "surname": "Lenin",
          "title": "The Russian Revolution,",
          "x": 8.033860206604004,
          "y": 7.08802604675293
         },
         {
          "surname": "Henry",
          "title": "Civil War 2000",
          "x": -17.134624481201172,
          "y": -5.109437465667725
         },
         {
          "surname": "Gilroy",
          "title": "The Black Atlantic : Modernity and Double Consciousness",
          "x": 12.160187721252441,
          "y": 0.8938372135162354
         },
         {
          "surname": "Smith",
          "title": "White Teeth",
          "x": -30.87870979309082,
          "y": -10.708648681640625
         },
         {
          "surname": "Watson",
          "title": "Behaviorism,",
          "x": 9.586966514587402,
          "y": 18.72731590270996
         },
         {
          "surname": "Preece",
          "title": "Human-Computer Interaction",
          "x": 22.30025863647461,
          "y": -17.957332611083984
         },
         {
          "surname": "Fukuyama",
          "title": "The End of History and the Last Man",
          "x": -2.320952892303467,
          "y": 9.373465538024902
         },
         {
          "surname": "Lannon",
          "title": "Technical Communication",
          "x": 18.28876495361328,
          "y": -18.218137741088867
         },
         {
          "surname": "Dewey",
          "title": "William James",
          "x": 9.450285911560059,
          "y": 22.79037094116211
         },
         {
          "surname": "Smith",
          "title": "New Books",
          "x": 16.994930267333984,
          "y": -5.365474700927734
         },
         {
          "surname": "Poe",
          "title": "The Purloined Letter",
          "x": -29.095539093017578,
          "y": 15.417299270629883
         },
         {
          "surname": "Hooks",
          "title": "Transgress",
          "x": 12.996590614318848,
          "y": -6.233706474304199
         },
         {
          "surname": "Ayer",
          "title": "Language, Truth and Logic",
          "x": 8.215864181518555,
          "y": 26.306873321533203
         },
         {
          "surname": "Goldstein",
          "title": "International Relations",
          "x": -8.176315307617188,
          "y": 9.396926879882812
         },
         {
          "surname": "Davis",
          "title": "City of Quartz : Excavating the Future in Los Angeles",
          "x": 13.475179672241211,
          "y": 4.853647708892822
         },
         {
          "surname": "Petterson",
          "title": "In the Wake",
          "x": -16.918800354003906,
          "y": 45.555702209472656
         },
         {
          "surname": "Flanagan",
          "title": "Java in a Nutshell",
          "x": 22.187633514404297,
          "y": -18.3331241607666
         },
         {
          "surname": "Whitney",
          "title": "Understanding Nutrition",
          "x": 17.319589614868164,
          "y": -10.597320556640625
         },
         {
          "surname": "Brooks",
          "title": "We Real Cool",
          "x": -30.337711334228516,
          "y": 18.30855369567871
         },
         {
          "surname": "Lyotard",
          "title": "The Postmodern Condition : A Report on Knowledge",
          "x": 12.5283784866333,
          "y": 3.1867051124572754
         },
         {
          "surname": "Rudin",
          "title": "Principles of Mathematical Analysis",
          "x": 33.24887466430664,
          "y": -10.486000061035156
         },
         {
          "surname": "Chaplin",
          "title": "Modern Times",
          "x": 9.230080604553223,
          "y": -3.071734666824341
         },
         {
          "surname": "Lahiri",
          "title": "Interpreter of Maladies",
          "x": -35.775447845458984,
          "y": -3.6996355056762695
         },
         {
          "surname": "Sophocles",
          "title": "The Three Theban Plays",
          "x": 27.54353141784668,
          "y": 31.321922302246094
         },
         {
          "surname": "Comer",
          "title": "Computer Networks and Internets",
          "x": 28.514633178710938,
          "y": -20.481496810913086
         },
         {
          "surname": "Nietzsche",
          "title": "Thus Spoke Zarathustra",
          "x": 7.239596843719482,
          "y": 19.467866897583008
         },
         {
          "surname": "Dexter",
          "title": "Paris Trout",
          "x": -17.32735252380371,
          "y": 46.83224105834961
         },
         {
          "surname": "Howell",
          "title": "Statistical Methods for Psychology",
          "x": 31.152780532836914,
          "y": -9.141701698303223
         },
         {
          "surname": "Hoffman",
          "title": "Inside Terrorism",
          "x": -7.7146501541137695,
          "y": 10.103965759277344
         },
         {
          "surname": "Anderson",
          "title": "Winesburg, Ohio",
          "x": -34.804779052734375,
          "y": 2.2931177616119385
         },
         {
          "surname": "Smith",
          "title": "An Inquiry Into the Nature and Causes of the Wealth of Nations",
          "x": 2.4963271617889404,
          "y": 13.27242374420166
         },
         {
          "surname": "James",
          "title": "The Principles of Psychology,",
          "x": 10.813026428222656,
          "y": 21.676816940307617
         },
         {
          "surname": "Gilpin",
          "title": "The Political Economy of International Relations",
          "x": -4.940547943115234,
          "y": 9.313576698303223
         },
         {
          "surname": "Garrels",
          "title": "Naked in Baghdad",
          "x": -16.515806198120117,
          "y": 44.83870315551758
         },
         {
          "surname": "Mas-colell",
          "title": "Microeconomic Theory",
          "x": 32.2264289855957,
          "y": -15.360136985778809
         },
         {
          "surname": "Tirole",
          "title": "The Theory of Industrial Organization",
          "x": 22.85747528076172,
          "y": -4.781435012817383
         },
         {
          "surname": "Read",
          "title": "Mark Twain and I,",
          "x": -32.38896179199219,
          "y": 7.274566650390625
         },
         {
          "surname": "Rowson",
          "title": "Charlotte Temple",
          "x": -31.02463722229004,
          "y": 12.965590476989746
         },
         {
          "surname": "Rodrik",
          "title": "Has Globalization Gone Too Far?",
          "x": 0.9689160585403442,
          "y": 8.513739585876465
         },
         {
          "surname": "Cialdini",
          "title": "Influence : Science and Practice",
          "x": -8.622310638427734,
          "y": 6.2377848625183105
         },
         {
          "surname": "Keohane",
          "title": "Power and Interdependence",
          "x": -6.739287376403809,
          "y": 10.61301326751709
         },
         {
          "surname": "Mcphee",
          "title": "Looking for a Ship",
          "x": -17.314979553222656,
          "y": 45.883216857910156
         },
         {
          "surname": "Lukes",
          "title": "Power : A Radical View",
          "x": 1.3769400119781494,
          "y": 7.519675254821777
         },
         {
          "surname": "Kalat",
          "title": "Biological Psychology",
          "x": 15.747389793395996,
          "y": -8.046066284179688
         },
         {
          "surname": "Bates",
          "title": "A Guide to Physical Examination",
          "x": 16.862783432006836,
          "y": -9.06865119934082
         },
         {
          "surname": "Skoog",
          "title": "Principles of Instrumental Analysis",
          "x": 17.667869567871094,
          "y": -10.76270580291748
         },
         {
          "surname": "Allen",
          "title": "Without Feathers",
          "x": -17.976343154907227,
          "y": 45.91740417480469
         },
         {
          "surname": "Castro",
          "title": "HTML 4 for the World Wide Web",
          "x": 21.596406936645508,
          "y": -16.721620559692383
         },
         {
          "surname": "Chalmers",
          "title": "What Is This Thing Called Science?",
          "x": 23.015287399291992,
          "y": -3.404168128967285
         },
         {
          "surname": "Anderson",
          "title": "The Fall of Baghdad",
          "x": -17.153352737426758,
          "y": 44.900726318359375
         },
         {
          "surname": "Allende",
          "title": "The House of the Spirits",
          "x": -30.264650344848633,
          "y": -4.940343856811523
         },
         {
          "surname": "Aslam",
          "title": "Maps for Lost Lovers",
          "x": -16.587385177612305,
          "y": 45.907413482666016
         },
         {
          "surname": "Lay",
          "title": "Linear Algebra and Its Applications",
          "x": 26.31382942199707,
          "y": -21.855823516845703
         },
         {
          "surname": "Nagel",
          "title": "What Is It Like to Be a Bat?",
          "x": 9.549717903137207,
          "y": 27.052413940429688
         },
         {
          "surname": "Lightbown",
          "title": "How Languages Are Learned",
          "x": -27.25478172302246,
          "y": -17.29396629333496
         },
         {
          "surname": "Nielsen",
          "title": "Designing Web Usability",
          "x": 21.04253387451172,
          "y": -15.92451286315918
         },
         {
          "surname": "Holman",
          "title": "A Handbook to Literature",
          "x": -14.014639854431152,
          "y": -21.37761688232422
         },
         {
          "surname": "Burden",
          "title": "Numerical Analysis",
          "x": 31.244935989379883,
          "y": -9.124124526977539
         },
         {
          "surname": "Euripides",
          "title": "Alcestis",
          "x": 27.23285675048828,
          "y": 33.36199951171875
         },
         {
          "surname": "Dante alighieri",
          "title": "The Comedy",
          "x": -12.02469539642334,
          "y": -8.763870239257812
         },
         {
          "surname": "Calvino",
          "title": "Invisible Cities",
          "x": -31.4941349029541,
          "y": -10.844990730285645
         },
         {
          "surname": "Dante alighieri",
          "title": "The Divine Comedy",
          "x": -11.992386817932129,
          "y": -8.764619827270508
         },
         {
          "surname": "Barker",
          "title": "Regeneration",
          "x": -29.735153198242188,
          "y": -13.252676010131836
         },
         {
          "surname": "Eliot",
          "title": "Silas Marner,",
          "x": -25.208967208862305,
          "y": -17.47303581237793
         },
         {
          "surname": "Audesirk",
          "title": "Life on Earth",
          "x": 26.340816497802734,
          "y": -13.874970436096191
         },
         {
          "surname": "Pater",
          "title": "The Renaissance",
          "x": -12.789897918701172,
          "y": -25.918914794921875
         },
         {
          "surname": "Tversky",
          "title": "Judgment Under Uncertainty: Heuristics and Biases",
          "x": 11.527519226074219,
          "y": -16.690052032470703
         },
         {
          "surname": "Bevington",
          "title": "Shakespeare",
          "x": -17.763853073120117,
          "y": -12.995641708374023
         },
         {
          "surname": "Baum",
          "title": "The Wizard of Oz",
          "x": -26.268062591552734,
          "y": -9.477100372314453
         },
         {
          "surname": "Kripke",
          "title": "Naming and Necessity",
          "x": 8.688485145568848,
          "y": 24.99761199951172
         },
         {
          "surname": "Crane",
          "title": "Maggie, a Girl of the Streets",
          "x": -33.233367919921875,
          "y": 6.446415424346924
         },
         {
          "surname": "Takaki",
          "title": "A Different Mirror : A History of Multicultural America",
          "x": -18.348764419555664,
          "y": -4.941810131072998
         },
         {
          "surname": "Milton",
          "title": "Paradise Lost. Books 1-2",
          "x": -10.147138595581055,
          "y": -14.63546371459961
         },
         {
          "surname": "Cixous",
          "title": "The Laugh of the Medusa",
          "x": 9.104150772094727,
          "y": 0.418415904045105
         },
         {
          "surname": "Thomas",
          "title": "The American Revolution",
          "x": -23.235652923583984,
          "y": 15.471739768981934
         },
         {
          "surname": "Snow",
          "title": "The Two Cultures",
          "x": -24.140361785888672,
          "y": -4.637361526489258
         },
         {
          "surname": "Ostrom",
          "title": "Governing the Commons : The Evolution of Institutions for Collective Action",
          "x": 0.5605459809303284,
          "y": 7.917585372924805
         },
         {
          "surname": "Heti",
          "title": "Ticknor",
          "x": -16.903507232666016,
          "y": 45.1008415222168
         },
         {
          "surname": "Lewicki",
          "title": "Negotiation",
          "x": 11.418861389160156,
          "y": -18.152118682861328
         },
         {
          "surname": "Chandler",
          "title": "The Big Sleep",
          "x": -32.383575439453125,
          "y": -3.9537007808685303
         },
         {
          "surname": "Aesop",
          "title": "Fables",
          "x": 24.14849090576172,
          "y": 30.434309005737305
         },
         {
          "surname": "Faulkner",
          "title": "Light in August",
          "x": -33.733985900878906,
          "y": -0.035959579050540924
         },
         {
          "surname": "Mcgahan",
          "title": "The White Earth",
          "x": -17.819252014160156,
          "y": 45.472206115722656
         },
         {
          "surname": "Coleridge",
          "title": "Biographia Literaria,",
          "x": -11.936893463134766,
          "y": -26.776824951171875
         },
         {
          "surname": "Sedgwick",
          "title": "Epistemology of the Closet",
          "x": 10.56714916229248,
          "y": -0.07255657017230988
         },
         {
          "surname": "Durkheim",
          "title": "The Rules of Sociological Method",
          "x": 8.584775924682617,
          "y": 8.100164413452148
         },
         {
          "surname": "Blake",
          "title": "The Marriage of Heaven and Hell",
          "x": -11.633185386657715,
          "y": -26.181224822998047
         },
         {
          "surname": "Lewis",
          "title": "Mere Christianity",
          "x": -22.099714279174805,
          "y": -5.656391620635986
         },
         {
          "surname": "New york (state)",
          "title": "Laws",
          "x": -10.39930248260498,
          "y": -6.82580041885376
         },
         {
          "surname": "Locke",
          "title": "A Letter Concerning Toleration",
          "x": -4.265818119049072,
          "y": 16.420398712158203
         },
         {
          "surname": "Dexter",
          "title": "Brotherly Love",
          "x": -17.016624450683594,
          "y": 46.062583923339844
         },
         {
          "surname": "Weir",
          "title": "Thomas' Calculus",
          "x": 32.945701599121094,
          "y": -18.260902404785156
         },
         {
          "surname": "Weber",
          "title": "Politics as a Vocation",
          "x": -1.0744901895523071,
          "y": 11.252860069274902
         },
         {
          "surname": "Hawthorne",
          "title": "The House of the Seven Gables",
          "x": -33.71101379394531,
          "y": 7.067963600158691
         },
         {
          "surname": "Williams",
          "title": "Keywords : A Vocabulary of Culture and Society",
          "x": 14.708683967590332,
          "y": 5.270267009735107
         },
         {
          "surname": "Lovins",
          "title": "Natural Capitalism",
          "x": 13.361628532409668,
          "y": 5.946119785308838
         }
        ]
       },
       "encoding": {
        "text": {
         "field": "surname",
         "type": "nominal"
        },
        "tooltip": {
         "field": "title",
         "type": "nominal"
        },
        "x": {
         "field": "x",
         "type": "quantitative"
        },
        "y": {
         "field": "y",
         "type": "quantitative"
        }
       },
       "height": 700,
       "mark": "text",
       "selection": {
        "selector019": {
         "bind": "scales",
         "encodings": [
          "x",
          "y"
         ],
         "mark": {
          "fill": "#333",
          "fillOpacity": 0.125,
          "stroke": "white"
         },
         "on": "[mousedown, window:mouseup] > window:mousemove!",
         "resolve": "global",
         "translate": "[mousedown, window:mouseup] > window:mousemove!",
         "type": "interval",
         "zoom": "wheel!"
        }
       },
       "width": 1000
      },
      "image/png": "[encoded data removed]",
      "text/plain": [
       "<VegaLite 2 object>\n",
       "\n",
       "If you see this message, it means the renderer has not been properly enabled\n",
       "for the frontend that you are using. For more information, see\n",
       "https://altair-viz.github.io/user_guide/troubleshooting.html\n"
      ]
     },
     "execution_count": 150,
     "metadata": {},
     "output_type": "execute_result"
    }
   ],
   "source": [
    "chart = make_chart(embedding)\n",
    "chart.interactive()"
   ]
  },
  {
   "cell_type": "code",
   "execution_count": 172,
   "metadata": {},
   "outputs": [],
   "source": [
    "embedding = UMAP(metric='cosine', n_neighbors=30, min_dist=0.2).fit_transform(svd.components_.T)"
   ]
  },
  {
   "cell_type": "code",
   "execution_count": 173,
   "metadata": {},
   "outputs": [
    {
     "data": {
      "application/vnd.vegalite.v2+json": {
       "$schema": "https://vega.github.io/schema/vega-lite/v2.4.3.json",
       "config": {
        "view": {
         "height": 300,
         "width": 400
        }
       },
       "data": {
        "values": [
         {
          "surname": "Strunk",
          "title": "The Elements of Style",
          "x": 3.6510385564832655,
          "y": -2.373895378122597
         },
         {
          "surname": "Plato",
          "title": "Republic",
          "x": -1.4785360337619777,
          "y": 3.8607922868983597
         },
         {
          "surname": "Marx",
          "title": "The Communist Manifesto",
          "x": 2.4373316042480577,
          "y": 2.426200210654005
         },
         {
          "surname": "Campbell",
          "title": "Biology",
          "x": 7.164432695588419,
          "y": 0.05858131562258574
         },
         {
          "surname": "Shelley",
          "title": "Frankenstein",
          "x": -3.0530297635389245,
          "y": -1.109598833274482
         },
         {
          "surname": "Aristotle",
          "title": "Ethics",
          "x": -1.3694036598812989,
          "y": 3.45678027761486
         },
         {
          "surname": "Hobbes",
          "title": "Leviathan",
          "x": 0.49040060531833163,
          "y": 4.36797827769969
         },
         {
          "surname": "Machiavelli",
          "title": "The Prince",
          "x": -3.324597155141876,
          "y": 2.1458845383454066
         },
         {
          "surname": "Sophocles",
          "title": "Oedipus",
          "x": -5.226004419284631,
          "y": 4.167093451782076
         },
         {
          "surname": "Shakespeare",
          "title": "Hamlet",
          "x": -2.9581625953320025,
          "y": 0.9300397621271619
         },
         {
          "surname": "Homer",
          "title": "The Odyssey",
          "x": -4.917779397166506,
          "y": 3.7177028852881953
         },
         {
          "surname": "Said",
          "title": "Orientalism",
          "x": 1.885627472660257,
          "y": 0.8996626771063228
         },
         {
          "surname": "Turabian",
          "title": "A Manual for Writers of Term Papers, Theses, and Dissertations,",
          "x": 3.2038172138268193,
          "y": -1.6459584005666645
         },
         {
          "surname": "Homer",
          "title": "The Iliad,",
          "x": -4.927849358673317,
          "y": 3.8347079430453475
         },
         {
          "surname": "Conrad",
          "title": "Heart of Darkness",
          "x": -2.9531013892959885,
          "y": -1.1590897249360541
         },
         {
          "surname": "Chaucer",
          "title": "Canterbury Tales",
          "x": -3.8831994942490295,
          "y": 1.081727456032549
         },
         {
          "surname": "Sophocles",
          "title": "Antigone",
          "x": -5.215749570212063,
          "y": 4.121865131054174
         },
         {
          "surname": "King",
          "title": "Letter From the Birmingham Jail",
          "x": 3.9521327881341817,
          "y": -5.203428093380991
         },
         {
          "surname": "Mill",
          "title": "On Liberty",
          "x": 0.855755580307151,
          "y": 3.9257365976906127
         },
         {
          "surname": "Kuhn",
          "title": "The Structure of Scientific Revolutions",
          "x": 4.053156097909197,
          "y": 0.43220796893228947
         },
         {
          "surname": "Milton",
          "title": "Paradise Lost",
          "x": -3.997375862347422,
          "y": 0.9702840125300487
         },
         {
          "surname": "Mill",
          "title": "Utilitarianism",
          "x": -1.064340752411357,
          "y": 3.183924801291884
         },
         {
          "surname": "Huntington",
          "title": "The Clash of Civilizations?",
          "x": 3.7926221776752267,
          "y": 4.683652763812645
         },
         {
          "surname": "Plato",
          "title": "Apology",
          "x": -2.2254553337767944,
          "y": 4.104201296619661
         },
         {
          "surname": "Achebe",
          "title": "Things Fall Apart",
          "x": -0.35607216584432,
          "y": -1.4768735315564512
         },
         {
          "surname": "Foucault",
          "title": "Power",
          "x": 2.6977280108045014,
          "y": 1.1786829373630787
         },
         {
          "surname": "Darwin",
          "title": "Origin of Species",
          "x": 0.7218720583155366,
          "y": 1.4213083388694085
         },
         {
          "surname": "Augustine",
          "title": "Confessions",
          "x": -3.796463178327306,
          "y": 2.7568339888949605
         },
         {
          "surname": "Aristotle",
          "title": "The Politics",
          "x": -0.5853208029073593,
          "y": 3.817720433842718
         },
         {
          "surname": "Turabian",
          "title": "A Manual for Writers of Dissertations",
          "x": 3.134617888724795,
          "y": -1.6429038356536647
         },
         {
          "surname": "Thoreau",
          "title": "Walden",
          "x": 3.768195676159337,
          "y": -5.826202449937327
         },
         {
          "surname": "Tocqueville",
          "title": "Democracy in America",
          "x": 4.033428889301973,
          "y": -4.739829852043074
         },
         {
          "surname": "Deitel",
          "title": "C : How to Program",
          "x": 6.457728868401121,
          "y": -1.622308637534675
         },
         {
          "surname": "Gibaldi",
          "title": "MLA Handbook for Writers of Research Papers",
          "x": 0.36048763151256685,
          "y": 0.6533630869799962
         },
         {
          "surname": "Hacker",
          "title": "A Pocket Style Manual",
          "x": 3.4892863224790482,
          "y": -2.2076671855530456
         },
         {
          "surname": "Fitzgerald",
          "title": "The Great Gatsby",
          "x": 1.3519367806643867,
          "y": -3.7348406242753494
         },
         {
          "surname": "Smith",
          "title": "Wealth of Nations",
          "x": 2.147394753152019,
          "y": 3.3385627932527306
         },
         {
          "surname": "Plato",
          "title": "Dialogues",
          "x": -1.926742929211099,
          "y": 3.936765177252271
         },
         {
          "surname": "Aristotle",
          "title": "Nicomachean Ethics",
          "x": -1.388960423515033,
          "y": 3.462807518824403
         },
         {
          "surname": "Foucault",
          "title": "The History of Sexuality",
          "x": 2.0096322277409233,
          "y": 0.9381294861135598
         },
         {
          "surname": "Franklin",
          "title": "Autobiography",
          "x": 3.9655596658447854,
          "y": -5.7873542847884805
         },
         {
          "surname": "Aristotle",
          "title": "The Poetics",
          "x": -4.957719081232745,
          "y": 4.032175573253552
         },
         {
          "surname": "Morrison",
          "title": "Beloved",
          "x": 0.4749316416235188,
          "y": -3.365396693123332
         },
         {
          "surname": "Marx",
          "title": "Capital,",
          "x": 2.489631821830585,
          "y": 2.2480177533090573
         },
         {
          "surname": "Shakespeare",
          "title": "The Tempest",
          "x": -3.3189633974144894,
          "y": 0.9882386533166361
         },
         {
          "surname": "Cozby",
          "title": "Methods in Behavioral Research",
          "x": 3.5832240193459817,
          "y": -6.011661917559693
         },
         {
          "surname": "Twain",
          "title": "Huckleberry Finn",
          "x": 1.5178289816606436,
          "y": -4.247606403775456
         },
         {
          "surname": "Rousseau",
          "title": "The Social Contract",
          "x": 0.6169770086163426,
          "y": 4.221784297946481
         },
         {
          "surname": "Hacker",
          "title": "The Bedford Handbook",
          "x": 3.7943353467102026,
          "y": -5.024679329765647
         },
         {
          "surname": "Gilman",
          "title": "The Yellow Wallpaper",
          "x": 2.869643683521255,
          "y": -5.791296365689454
         },
         {
          "surname": "More",
          "title": "Utopia",
          "x": -3.6355459513902866,
          "y": 1.8557059120710508
         },
         {
          "surname": "Virgil",
          "title": "The Aeneid",
          "x": -4.776723334288902,
          "y": 3.6033104473770163
         },
         {
          "surname": "Jacobs",
          "title": "Incidents in the Life of a Slave Girl",
          "x": 3.1018908263267493,
          "y": -5.861609221947846
         },
         {
          "surname": "Chopin",
          "title": "The Awakening",
          "x": 1.2876190958292535,
          "y": -4.187431667153024
         },
         {
          "surname": "Hardin",
          "title": "The Tragedy of the Commons",
          "x": 3.9964156855315025,
          "y": -4.245966316113259
         },
         {
          "surname": "Jefferson",
          "title": "The Declaration of Independence",
          "x": 4.048162946539604,
          "y": -5.320080262542835
         },
         {
          "surname": "Voltaire",
          "title": "Candide",
          "x": -1.0790112675228203,
          "y": -0.7421004008073279
         },
         {
          "surname": "Thucydides",
          "title": "The Peloponnesian War",
          "x": -4.710145602174751,
          "y": 3.529189796739454
         },
         {
          "surname": "De tocqueville",
          "title": "Democracy in America",
          "x": 3.985656626281313,
          "y": -4.760697229473505
         },
         {
          "surname": "Rawls",
          "title": "A Theory of Justice",
          "x": 0.18786533980927636,
          "y": 3.6842624261269057
         },
         {
          "surname": "Shakespeare",
          "title": "Henry V",
          "x": -3.2534619735707047,
          "y": 1.1871700138107566
         },
         {
          "surname": "Sophocles",
          "title": "Oedipus the King",
          "x": -5.260467213612517,
          "y": 4.249145384113568
         },
         {
          "surname": "Sartre",
          "title": "Existentialism",
          "x": -1.0207639455038429,
          "y": 2.9468308536164742
         },
         {
          "surname": "Due",
          "title": "Project Evaluation",
          "x": 4.1040608737300905,
          "y": -2.0950288151771828
         },
         {
          "surname": "Ovid",
          "title": "Metamorphoses",
          "x": -4.9056947200020335,
          "y": 3.764974606337529
         },
         {
          "surname": "Berger",
          "title": "Ways of Seeing",
          "x": 2.2348084762886824,
          "y": 0.4017540692582234
         },
         {
          "surname": "Ellison",
          "title": "Invisible Man",
          "x": 1.243235045305248,
          "y": -3.788198017683528
         },
         {
          "surname": "Descartes",
          "title": "Meditations on First Philosophy",
          "x": -1.3286674938116012,
          "y": 3.360794381013681
         },
         {
          "surname": "Bush",
          "title": "The White House",
          "x": 3.554648270266477,
          "y": 3.7093231053886404
         },
         {
          "surname": "Austen",
          "title": "Pride & Prejudice",
          "x": -2.0750136566917496,
          "y": -1.121839009974325
         },
         {
          "surname": "Hurston",
          "title": "Their Eyes Were Watching God",
          "x": 1.0475831556913109,
          "y": -3.666809257109826
         },
         {
          "surname": "Euripides",
          "title": "Medea",
          "x": -5.2644881266910755,
          "y": 4.039259095220404
         },
         {
          "surname": "Marieb",
          "title": "Human Anatomy & Physiology",
          "x": 6.888789881580978,
          "y": -1.4768217994135353
         },
         {
          "surname": "Plato",
          "title": "Crito",
          "x": -2.105380357312898,
          "y": 4.140903690324072
         },
         {
          "surname": "Shakespeare",
          "title": "Macbeth",
          "x": -2.731754351391446,
          "y": 0.7751647517982397
         },
         {
          "surname": "Huxley",
          "title": "Brave New World",
          "x": 0.1491097812047695,
          "y": -2.4293591245008477
         },
         {
          "surname": "Shakespeare",
          "title": "Othello",
          "x": -3.1717987699803976,
          "y": 0.8972239443272522
         },
         {
          "surname": "Halliday",
          "title": "Physics",
          "x": 7.389450259561834,
          "y": 0.5476322239749949
         },
         {
          "surname": "Paine",
          "title": "Common Sense",
          "x": 3.9847949335986246,
          "y": -5.431303205305664
         },
         {
          "surname": "Confucius",
          "title": "The Analects",
          "x": -1.2147667471425838,
          "y": 3.8619585881298018
         },
         {
          "surname": "Walker",
          "title": "Physics",
          "x": 7.481703672779286,
          "y": 0.5584283064679205
         },
         {
          "surname": "Eliot",
          "title": "The Love Song of J. Alfred Prufrock",
          "x": -5.05431763597554,
          "y": -0.7187261940756948
         },
         {
          "surname": "Weber",
          "title": "The Protestant Ethic and the Spirit of Capitalism",
          "x": 2.634542581091235,
          "y": 2.362419989986461
         },
         {
          "surname": "Stewart",
          "title": "Calculus : Early Transcendentals",
          "x": 7.062284350662952,
          "y": 0.3519138263821725
         },
         {
          "surname": "Marieb",
          "title": "Human Anatomy",
          "x": 6.96840220200735,
          "y": -1.4588862716496298
         },
         {
          "surname": "Krugman",
          "title": "Economics",
          "x": 5.2699191670539385,
          "y": 0.24888722604521382
         },
         {
          "surname": "Woolf",
          "title": "Mrs. Dalloway",
          "x": -2.472598847650943,
          "y": -1.3663015391364242
         },
         {
          "surname": "Tanenbaum",
          "title": "Computer Networks",
          "x": 7.246260047803115,
          "y": -1.3778415053660302
         },
         {
          "surname": "Descartes",
          "title": "Discourse on Method",
          "x": -0.5509009747634134,
          "y": 3.47283500725507
         },
         {
          "surname": "Mills",
          "title": "The Sociological Imagination",
          "x": 2.6795683220830235,
          "y": 1.7411974817897582
         },
         {
          "surname": "Kafka",
          "title": "The Metamorphosis",
          "x": -1.599753618687005,
          "y": -1.3860203727785807
         },
         {
          "surname": "Locke",
          "title": "Second Treatise of Government",
          "x": 0.5720675342592656,
          "y": 4.3220024747774035
         },
         {
          "surname": "Kotler",
          "title": "Marketing Management",
          "x": 6.375576899289864,
          "y": -0.3396370493771814
         },
         {
          "surname": "Kant",
          "title": "The Metaphysics of Morals",
          "x": -1.2536741993666582,
          "y": 3.2804386488201067
         },
         {
          "surname": "Bell",
          "title": "Doing Your Research Project : A Guide for First-Time Researchers in Education and Social Science",
          "x": 4.963363359389556,
          "y": -2.1368172334554942
         },
         {
          "surname": "Carson",
          "title": "Silent Spring",
          "x": 2.8075410132290526,
          "y": -4.462451912168101
         },
         {
          "surname": "Hawthorne",
          "title": "The Scarlet Letter",
          "x": 2.120526076854707,
          "y": -4.931320722813929
         },
         {
          "surname": "Twain",
          "title": "Adventures of Huckleberry Finn",
          "x": 1.5030092637832477,
          "y": -4.286787638988472
         },
         {
          "surname": "Freire",
          "title": "Pedagogy of the Oppressed",
          "x": 2.5537436961631506,
          "y": 0.42217788865275996
         },
         {
          "surname": "Shakespeare",
          "title": "King Lear",
          "x": -3.3200684001228704,
          "y": 0.9808494189995549
         },
         {
          "surname": "Russell",
          "title": "Artificial Intelligence : A Modern Approach",
          "x": 7.439025081829516,
          "y": -1.087946431698443
         },
         {
          "surname": "Melville",
          "title": "Moby Dick,",
          "x": 2.0152468400687567,
          "y": -4.856704611921914
         },
         {
          "surname": "King",
          "title": "I Have a Dream",
          "x": 3.9790141645145383,
          "y": -5.235244270681977
         },
         {
          "surname": "Mankiw",
          "title": "Macroeconomics",
          "x": 5.36288677422965,
          "y": 0.05508374480762738
         },
         {
          "surname": "Ross",
          "title": "Corporate Finance",
          "x": 6.932019862939849,
          "y": -0.3132240233548957
         },
         {
          "surname": "Eliot",
          "title": "The Waste Land",
          "x": -3.1360621121325494,
          "y": -1.144360263260548
         },
         {
          "surname": "Woolf",
          "title": "To the Lighthouse",
          "x": -7.184686551863556,
          "y": -9.386704838636634
         },
         {
          "surname": "Plato",
          "title": "Euthyphro",
          "x": -1.8925011922037132,
          "y": 3.9029664144722815
         },
         {
          "surname": "Aristophanes",
          "title": "Lysistrata",
          "x": -5.134428064570095,
          "y": 4.036365176710479
         },
         {
          "surname": "Thoreau",
          "title": "Civil Disobedience",
          "x": 3.973889196605231,
          "y": -5.5458311861124425
         },
         {
          "surname": "Aristotle",
          "title": "Rhetoric",
          "x": -2.0256698753442444,
          "y": 3.885057449512017
         },
         {
          "surname": "Dickens",
          "title": "Great Expectations,",
          "x": -1.8526547677219893,
          "y": -1.2333766661758545
         },
         {
          "surname": "Sinclair",
          "title": "The Jungle",
          "x": 1.5423670409506172,
          "y": -3.8044288366731136
         },
         {
          "surname": "Martini",
          "title": "Fundamentals of Anatomy and Physiology",
          "x": 6.5967664694335575,
          "y": -1.025047416939536
         },
         {
          "surname": "Fanon",
          "title": "The Wretched of the Earth",
          "x": 2.542951853671123,
          "y": 1.8355855423334753
         },
         {
          "surname": "Halliday",
          "title": "Fundamentals of Physics",
          "x": 7.426002560518613,
          "y": 0.5804152641116629
         },
         {
          "surname": "Joyce",
          "title": "Ulysses,",
          "x": -1.1135135760675903,
          "y": -1.583978300791383
         },
         {
          "surname": "Swift",
          "title": "A Modest Proposal",
          "x": -4.380956476081938,
          "y": 0.15788474341534678
         },
         {
          "surname": "Mccloud",
          "title": "Understanding Comics",
          "x": -8.149682158271867,
          "y": -9.538065211804382
         },
         {
          "surname": "Stoker",
          "title": "Dracula",
          "x": -1.5613399707849516,
          "y": -1.4720164992141553
         },
         {
          "surname": "Hawthorne",
          "title": "Young Goodman Brown",
          "x": 3.8341338615343803,
          "y": -6.141167246229831
         },
         {
          "surname": "Plato",
          "title": "Symposium",
          "x": -2.4949441238358507,
          "y": 4.02474422396108
         },
         {
          "surname": "Melville",
          "title": "Bartleby",
          "x": 3.7615473474060837,
          "y": -6.039944420219816
         },
         {
          "surname": "Miller",
          "title": "Death of a Salesman",
          "x": 0.5937264383471406,
          "y": -4.0896497535996135
         },
         {
          "surname": "Gibson",
          "title": "Neuromancer",
          "x": 0.20445691133955024,
          "y": -1.923968108745217
         },
         {
          "surname": "Aeschylus",
          "title": "The Oresteia",
          "x": -5.512273227585159,
          "y": 4.124149757505127
         },
         {
          "surname": "Wiesel",
          "title": "Night",
          "x": 0.5433310139468683,
          "y": -2.0567288148155387
         },
         {
          "surname": "Beauvoir",
          "title": "The Second Sex",
          "x": 1.7853567481960986,
          "y": 2.6053144337117926
         },
         {
          "surname": "Sophocles",
          "title": "Oedipus Rex",
          "x": -5.270139948913524,
          "y": 4.156199906902225
         },
         {
          "surname": "Fisher",
          "title": "Getting to Yes",
          "x": 3.5705501788397793,
          "y": -2.273856633506041
         },
         {
          "surname": "Whitman",
          "title": "Leaves of Grass",
          "x": 3.028144113254935,
          "y": -5.826636532137208
         },
         {
          "surname": "Spiegelman",
          "title": "Maus",
          "x": 0.19925476873247927,
          "y": -1.6725609017498415
         },
         {
          "surname": "Stiglitz",
          "title": "Globalization and Its Discontents",
          "x": 3.520097912446948,
          "y": 2.848943483583279
         },
         {
          "surname": "Freud",
          "title": "Civilization and Its Discontents",
          "x": 2.0821599085656772,
          "y": 2.498521699791269
         },
         {
          "surname": "Foucault",
          "title": "Discipline and Punish : The Birth of the Prison",
          "x": 2.542665806538596,
          "y": 1.0529159307433225
         },
         {
          "surname": "Browning",
          "title": "My Last Duchess",
          "x": -5.199235560157665,
          "y": -0.7746393300782713
         },
         {
          "surname": "Shakespeare",
          "title": "Midsummer N. Dream",
          "x": -2.8323423127177856,
          "y": 0.7047943476137919
         },
         {
          "surname": "Brown",
          "title": "Psychology",
          "x": 3.037428155070187,
          "y": 0.1408060242356075
         },
         {
          "surname": "Shakespeare",
          "title": "Romeo and Juliet",
          "x": -2.6736627169635265,
          "y": 0.5860676673619305
         },
         {
          "surname": "Morrison",
          "title": "The Bluest Eye",
          "x": 0.9282103387897259,
          "y": -3.4639748484083657
         },
         {
          "surname": "Cisneros",
          "title": "The House on Mango Street",
          "x": 0.8728007368457992,
          "y": -3.2728778619949646
         },
         {
          "surname": "Anderson",
          "title": "Imagined Communities : Reflections on the Origin and Spread of Nationalism",
          "x": 2.9753560089838778,
          "y": 1.431905271067862
         },
         {
          "surname": "Bronte",
          "title": "Jane Eyre",
          "x": -1.3062146177715785,
          "y": -1.5749167902767496
         },
         {
          "surname": "Shakespeare",
          "title": "The Complete Works",
          "x": -2.793383504095149,
          "y": 0.7526587748668222
         },
         {
          "surname": "Wilde",
          "title": "The Importance of Being Earnest,",
          "x": -4.5505005776621,
          "y": -0.6999638239921503
         },
         {
          "surname": "French",
          "title": "Writing and Reading",
          "x": 4.375395706442881,
          "y": -1.3749054715043667
         },
         {
          "surname": "Emerson",
          "title": "Nature",
          "x": 3.8918927857218657,
          "y": -5.951771163531617
         },
         {
          "surname": "Euripides",
          "title": "The Bacchae",
          "x": -5.433491719864621,
          "y": 4.107656620413506
         },
         {
          "surname": "Bryman",
          "title": "Social Research Methods",
          "x": 5.305447322258483,
          "y": -1.7772146546151377
         },
         {
          "surname": "Brealey",
          "title": "Principles of Corporate Finance",
          "x": 6.201014560480044,
          "y": -0.13552794676659627
         },
         {
          "surname": "Fukuyama",
          "title": "The End of History?",
          "x": 3.292805476264004,
          "y": 3.779754141325314
         },
         {
          "surname": "Wordsworth",
          "title": "Lyrical Ballads 1805",
          "x": -5.084061896471224,
          "y": -1.0357277959217188
         },
         {
          "surname": "Bordwell",
          "title": "Film Art : An Introduction",
          "x": 2.787367640616137,
          "y": -0.6181612384883682
         },
         {
          "surname": "Aristotle",
          "title": "The Metaphysics",
          "x": -1.5710744193551063,
          "y": 3.7183686820533772
         },
         {
          "surname": "Wollstonecraft",
          "title": "A Vindication of the Rights of Woman",
          "x": -4.836254577697072,
          "y": -0.7327583587098033
         },
         {
          "surname": "Goffman",
          "title": "The Presentation of Self in Everyday Life",
          "x": 2.6152315723402437,
          "y": 1.5080310429581616
         },
         {
          "surname": "Faulkner",
          "title": "A Rose for Emily,",
          "x": 3.6078723771257053,
          "y": -6.2266184013860055
         },
         {
          "surname": "Friedan",
          "title": "The Feminine Mystique",
          "x": 2.5941731755952264,
          "y": -3.815338337946713
         },
         {
          "surname": "Marx",
          "title": "The German Ideology",
          "x": 2.39024618328708,
          "y": 2.488304624359369
         },
         {
          "surname": "Lucas",
          "title": "The Art of Public Speaking",
          "x": 4.05847304680712,
          "y": -0.8032476513798471
         },
         {
          "surname": "Steinbeck",
          "title": "The Grapes of Wrath",
          "x": 1.401616108607773,
          "y": -3.589395968635519
         },
         {
          "surname": "Yin",
          "title": "Case Study Research : Design and Methods",
          "x": 5.141635266267603,
          "y": -1.890569230616706
         },
         {
          "surname": "Moody",
          "title": "Coming of Age in Mississippi",
          "x": 2.0742656090726914,
          "y": -3.3640836810036814
         },
         {
          "surname": "Goethe",
          "title": "Faust",
          "x": -1.1848231779920368,
          "y": -0.6674439588768785
         },
         {
          "surname": "Paul",
          "title": "The New University",
          "x": 3.4554423525998286,
          "y": 0.22745476290514963
         },
         {
          "surname": "Emerson",
          "title": "Self Reliance",
          "x": 4.011059090471963,
          "y": -5.90567260975774
         },
         {
          "surname": "Alberts",
          "title": "Molecular Biology of the Cell",
          "x": 7.007558271254068,
          "y": 0.09494797031316769
         },
         {
          "surname": "Blake",
          "title": "Songs of Innocence",
          "x": -5.267796592485795,
          "y": -1.0023360171005569
         },
         {
          "surname": "Locke",
          "title": "An Essay Concerning Human Understanding",
          "x": -0.5462096042270087,
          "y": 3.600724895301475
         },
         {
          "surname": "Defoe",
          "title": "Robinson",
          "x": -1.8311487261340182,
          "y": -0.8287076083102245
         },
         {
          "surname": "Stokstad",
          "title": "Art History",
          "x": 4.123775370222871,
          "y": -1.0066719337599512
         },
         {
          "surname": "Joyce",
          "title": "A Portrait of the Artist as a Young Man,",
          "x": -1.2667881890540116,
          "y": -1.6071678561029403
         },
         {
          "surname": "Cormen",
          "title": "Introduction to Algorithms",
          "x": 7.400320402577745,
          "y": -1.263487351785084
         },
         {
          "surname": "Dickens",
          "title": "Hard Times",
          "x": -2.654120915396847,
          "y": -1.2483554529671281
         },
         {
          "surname": "Defoe",
          "title": "Robinson Crusoe",
          "x": -1.9242848996968505,
          "y": -0.926210396041049
         },
         {
          "surname": "Silko",
          "title": "Ceremony",
          "x": 0.564040551855323,
          "y": -3.9929103940411346
         },
         {
          "surname": "Atkins",
          "title": "Physical Chemistry",
          "x": 6.539076949798215,
          "y": -0.24257673496107343
         },
         {
          "surname": "Beckett",
          "title": "Waiting for Godot",
          "x": -2.0007270873288596,
          "y": -0.8620077024856233
         },
         {
          "surname": "Wollstonecraft",
          "title": "The Rights of Woman",
          "x": -4.817326182191779,
          "y": -0.6696597824825494
         },
         {
          "surname": "Chang",
          "title": "Chemistry",
          "x": 5.797948116863572,
          "y": 0.07070530975193477
         },
         {
          "surname": "Creswell",
          "title": "Research Design : Qualitative & Quantitative Approaches",
          "x": 4.832088763935014,
          "y": -1.9913168658943246
         },
         {
          "surname": "Barthes",
          "title": "Mythologies",
          "x": 1.9699410034379892,
          "y": 0.2983122718330605
         },
         {
          "surname": "Babbie",
          "title": "The Practice of Social Research",
          "x": 4.229074487656319,
          "y": -0.3686141776800025
         },
         {
          "surname": "Boccaccio",
          "title": "The Decameron",
          "x": -3.675894856027847,
          "y": 2.2135832690966755
         },
         {
          "surname": "Plato",
          "title": "Phaedo",
          "x": -2.0959616725130807,
          "y": 4.042480283861327
         },
         {
          "surname": "Burke",
          "title": "Reflections on the Revolution in France",
          "x": 1.6502364107875773,
          "y": 2.9261327559332515
         },
         {
          "surname": "Taylor",
          "title": "Economics",
          "x": 3.771456906285787,
          "y": 0.06181223004843999
         },
         {
          "surname": "Joyce",
          "title": "Dubliners",
          "x": -1.317483440715083,
          "y": -1.6359987242388625
         },
         {
          "surname": "Aeschylus",
          "title": "Agamemnon,",
          "x": -5.545031612686518,
          "y": 4.212272840948531
         },
         {
          "surname": "English",
          "title": "Contemporary Literature",
          "x": -2.163172817983061,
          "y": -0.9501090065189004
         },
         {
          "surname": "Heidegger",
          "title": "Nietzsche",
          "x": -0.36412171758351164,
          "y": 2.8346301849751407
         },
         {
          "surname": "Tindall",
          "title": "America : A Narrative History",
          "x": 2.958474770802624,
          "y": -2.8203832068442485
         },
         {
          "surname": "Mullins",
          "title": "Management and Organisational Behaviour",
          "x": 6.15755326556572,
          "y": 0.5592595085861449
         },
         {
          "surname": "Friedman",
          "title": "The Lexus and the Olive Tree",
          "x": 3.4771888007923524,
          "y": 3.6724448113433312
         },
         {
          "surname": "Nietzsche",
          "title": "The Genealogy of Morals",
          "x": 0.4641419196574457,
          "y": 2.6754179968936223
         },
         {
          "surname": "Norman",
          "title": "The Design of Everyday Things",
          "x": 5.3520097533750945,
          "y": -0.03032316327108671
         },
         {
          "surname": "Hacker",
          "title": "Rules for Writers",
          "x": 3.3994142666066507,
          "y": -2.4379519206574574
         },
         {
          "surname": "James",
          "title": "American History",
          "x": 2.9907698772493703,
          "y": -4.561658527982827
         },
         {
          "surname": "Barber",
          "title": "Jihad vs. McWorld",
          "x": 3.410739614351836,
          "y": 3.682613935305463
         },
         {
          "surname": "Flaubert",
          "title": "Madame Bovary",
          "x": -0.08341948209423743,
          "y": -2.261743109996671
         },
         {
          "surname": "Hesiod",
          "title": "Theogony",
          "x": -5.579672103434579,
          "y": 3.978838840012741
         },
         {
          "surname": "Plato",
          "title": "Phaedrus",
          "x": -2.1429092093863353,
          "y": 4.023665514405721
         },
         {
          "surname": "Salinger",
          "title": "The Catcher in the Rye",
          "x": 1.1699379532993264,
          "y": -3.179921616990355
         },
         {
          "surname": "Freud",
          "title": "The Interpretation of Dreams",
          "x": 0.9815422976980605,
          "y": 1.2404403863635205
         },
         {
          "surname": "Kreyszig",
          "title": "Advanced Engineering Mathematics",
          "x": 7.267829806290095,
          "y": -0.7943837269512088
         },
         {
          "surname": "Wilde",
          "title": "The Picture of Dorian Gray",
          "x": -1.6028475942519014,
          "y": -1.5947121089295828
         },
         {
          "surname": "Adorno",
          "title": "The Culture Industry",
          "x": 2.249465416134282,
          "y": 1.1257888619295284
         },
         {
          "surname": "Du bois",
          "title": "The Souls of Black Folk",
          "x": 2.5726402043272634,
          "y": -4.363541517565083
         },
         {
          "surname": "Remarque",
          "title": "All Quiet on the Western Front",
          "x": 0.7044803114202608,
          "y": -1.883690113065287
         },
         {
          "surname": "Cottrell",
          "title": "Critical Thinking Skills : Developing Effective Analysis and Argument",
          "x": 3.8468258549022325,
          "y": -2.166782498729681
         },
         {
          "surname": "Bodie",
          "title": "Investments",
          "x": 6.446945656365047,
          "y": -0.3869395563781858
         },
         {
          "surname": "Kant",
          "title": "Critique of Pure Reason",
          "x": -0.7896292151118728,
          "y": 3.2673742431729482
         },
         {
          "surname": "Hitler",
          "title": "Mein Kampf",
          "x": 2.1790889060203797,
          "y": 3.235362307767521
         },
         {
          "surname": "Walker",
          "title": "Everyday Use",
          "x": 3.520909567519988,
          "y": -6.216170170750159
         },
         {
          "surname": "Jackson",
          "title": "The Lottery",
          "x": 3.6013001966077347,
          "y": -6.184368354286719
         },
         {
          "surname": "Hansberry",
          "title": "A Raisin in the Sun",
          "x": 0.7994720884003851,
          "y": -4.081901467582537
         },
         {
          "surname": "Shakespeare",
          "title": "Twelfth Night",
          "x": -3.3148261704408064,
          "y": 0.8557023667354218
         },
         {
          "surname": "Elmasri",
          "title": "Fundamentals of Database Systems",
          "x": 7.382216389660554,
          "y": -1.2836572265559654
         },
         {
          "surname": "Plato",
          "title": "Gorgias",
          "x": -2.0751168237297413,
          "y": 4.04842512984012
         },
         {
          "surname": "Rampolla",
          "title": "A Pocket Guide to Writing in History",
          "x": 3.5412012803857262,
          "y": -2.289945302413833
         },
         {
          "surname": "James",
          "title": "The Turn of the Screw",
          "x": 0.01600697922716858,
          "y": -3.556889501637247
         },
         {
          "surname": "Williams",
          "title": "A Streetcar Named Desire",
          "x": 0.45789874195927777,
          "y": -4.053844954293578
         },
         {
          "surname": "Pope",
          "title": "The Rape of the Lock",
          "x": -4.436990438811368,
          "y": 0.04983826773250858
         },
         {
          "surname": "Robbins",
          "title": "Organizational Behavior",
          "x": 6.220874372713297,
          "y": -0.1978946502433785
         },
         {
          "surname": "Mcluhan",
          "title": "Understanding Media",
          "x": 3.00285482395422,
          "y": 0.2023668397098948
         },
         {
          "surname": "Herodotus",
          "title": "The Histories",
          "x": -5.1035353704641855,
          "y": 3.8082144338328274
         },
         {
          "surname": "Behn",
          "title": "Oroonoko",
          "x": -3.78442267262644,
          "y": 0.7406590351169278
         },
         {
          "surname": "Kieso",
          "title": "Intermediate Accounting",
          "x": 5.875180988985794,
          "y": -0.3905839250080485
         },
         {
          "surname": "Goleman",
          "title": "Emotional Intelligence",
          "x": 4.262540662694903,
          "y": 4.41933585877669
         },
         {
          "surname": "Marvell",
          "title": "To His Coy Mistress",
          "x": -4.443101341102293,
          "y": 0.03819887602752335
         },
         {
          "surname": "Herodotus",
          "title": "History",
          "x": -5.158910163593,
          "y": 3.7952444476914873
         },
         {
          "surname": "Polanyi",
          "title": "The Great Transformation",
          "x": 3.2249785700874494,
          "y": 2.726783437000034
         },
         {
          "surname": "Marx",
          "title": "Manifesto of the Communist Party,",
          "x": 2.443366486103038,
          "y": 2.453241847418484
         },
         {
          "surname": "Hume",
          "title": "An Enquiry Concerning Human Understanding",
          "x": -1.2784819620316197,
          "y": 3.365311504579265
         },
         {
          "surname": "Lincoln",
          "title": "The Gettysburg Address",
          "x": 4.001631779614972,
          "y": -5.331870153623041
         },
         {
          "surname": "Time",
          "title": "World War II",
          "x": 3.765497574364573,
          "y": 3.6831119474122507
         },
         {
          "surname": "Gellner",
          "title": "Nationalism",
          "x": 3.5397434154738154,
          "y": 3.0235962891085983
         },
         {
          "surname": "Tzu",
          "title": "The Art of War",
          "x": 4.272833635462625,
          "y": 4.772077530396668
         },
         {
          "surname": "Walker",
          "title": "The Color Purple",
          "x": 1.1567629299136124,
          "y": -3.2482229865662604
         },
         {
          "surname": "Austen",
          "title": "Emma",
          "x": -2.3483021520554233,
          "y": -1.135233380893044
         },
         {
          "surname": "Thucydides",
          "title": "History of the Peloponnesian War",
          "x": -4.70576314401987,
          "y": 3.5381493625892584
         },
         {
          "surname": "Landow",
          "title": "Hypertext 2.0",
          "x": 1.4990282640159447,
          "y": -0.9662383061552758
         },
         {
          "surname": "Hull",
          "title": "Options, Futures, and Other Derivatives",
          "x": 6.478731522195052,
          "y": 0.40254188374799926
         },
         {
          "surname": "Booth",
          "title": "The Craft of Research",
          "x": 3.2712499211451784,
          "y": -1.834590916638266
         },
         {
          "surname": "Giddens",
          "title": "Sociology",
          "x": 2.7121017376478633,
          "y": 1.6200848953672362
         },
         {
          "surname": "Drucker",
          "title": "Management",
          "x": 4.0495428404666285,
          "y": -0.382571036648716
         },
         {
          "surname": "Brown",
          "title": "Black and White",
          "x": -0.15765941634957706,
          "y": -0.9501566722548578
         },
         {
          "surname": "Rhys",
          "title": "Wide Sargasso Sea",
          "x": -0.8509011978100185,
          "y": -1.7738915123414185
         },
         {
          "surname": "Brown",
          "title": "Chemistry, the Central Science",
          "x": 6.781638794574642,
          "y": -0.5247255724807613
         },
         {
          "surname": "Melville",
          "title": "Bartleby, the Scrivener",
          "x": 3.8807042487085197,
          "y": -6.028740846273168
         },
         {
          "surname": "Kerouac",
          "title": "On the Road",
          "x": 1.1405812654450753,
          "y": -3.4686804239626805
         },
         {
          "surname": "Jefferson",
          "title": "Notes on the State of Virginia",
          "x": 4.009521923486691,
          "y": -5.54551186977237
         },
         {
          "surname": "Stevenson",
          "title": "Dr. Jekyll and Mr. Hyde",
          "x": -2.0924627264605893,
          "y": -1.483893316553667
         },
         {
          "surname": "Silberschatz",
          "title": "Operating System Concepts",
          "x": 7.256203622343785,
          "y": -1.1551433978307641
         },
         {
          "surname": "Manovich",
          "title": "The Language of New Media",
          "x": 2.5345432867775775,
          "y": -0.04448325306862807
         },
         {
          "surname": "Lee",
          "title": "To Kill a Mockingbird",
          "x": 1.0716029416514314,
          "y": -3.1169504265583123
         },
         {
          "surname": "Delillo",
          "title": "White Noise",
          "x": 0.3771235205895205,
          "y": -3.276595033238312
         },
         {
          "surname": "Jacobs",
          "title": "The Death and Life of Great American Cities",
          "x": 3.6231437361769263,
          "y": 0.31647402812960407
         },
         {
          "surname": "Shakespeare",
          "title": "The Merchant of Venice",
          "x": -3.0238810970326306,
          "y": 0.9072785962048844
         },
         {
          "surname": "Aristophanes",
          "title": "The Clouds",
          "x": -5.354167198109565,
          "y": 4.1321354658506655
         },
         {
          "surname": "Denscombe",
          "title": "The Good Research Guide : For Small-Scale Social Research Projects",
          "x": 5.059938078405743,
          "y": -2.044378892776198
         },
         {
          "surname": "Chaucer",
          "title": "The General Prologue",
          "x": -4.0568680951093015,
          "y": 1.0771457351170364
         },
         {
          "surname": "James",
          "title": "Pragmatism",
          "x": -0.360395591594382,
          "y": 2.7867619739673044
         },
         {
          "surname": "Plato",
          "title": "The Apology and Crito",
          "x": -2.221851615769885,
          "y": 4.118979059969751
         },
         {
          "surname": "Mill",
          "title": "The Subjection of Women",
          "x": 0.8111588529032265,
          "y": 1.6659430733576948
         },
         {
          "surname": "Ehrenreich",
          "title": "Nickel and Dimed : On (Not) Getting by in America",
          "x": 3.1065297052211096,
          "y": 2.4391829219556453
         },
         {
          "surname": "Cutnell",
          "title": "Physics",
          "x": 6.737859208977656,
          "y": 0.31276522295868714
         },
         {
          "surname": "Glaspell",
          "title": "Trifles",
          "x": 2.915445994994577,
          "y": -5.788232140867386
         },
         {
          "surname": "Marie",
          "title": "Lais",
          "x": -3.352123616029917,
          "y": 1.3711824059828719
         },
         {
          "surname": "Said",
          "title": "Culture and Imperialism",
          "x": 1.702617950222982,
          "y": 0.8538075263479221
         },
         {
          "surname": "Levi",
          "title": "Auschwitz",
          "x": 1.7595271974722728,
          "y": -0.08812413101549275
         },
         {
          "surname": "Orwell",
          "title": "Animal Farm",
          "x": 0.41708718981415,
          "y": -2.513154134869878
         },
         {
          "surname": "Williams",
          "title": "The Glass Menagerie",
          "x": 0.4181734825622591,
          "y": -3.9178941972569237
         },
         {
          "surname": "Camus",
          "title": "The Stranger",
          "x": 0.1287059501322036,
          "y": -2.434935728658874
         },
         {
          "surname": "Gandhi",
          "title": "Rajiv",
          "x": 0.15523045148273149,
          "y": 3.12329839051595
         },
         {
          "surname": "Held",
          "title": "Globalization",
          "x": 3.449854308635793,
          "y": 2.783546906365139
         },
         {
          "surname": "Rosen",
          "title": "Discrete Mathematics and Its Applications",
          "x": 7.22740138828974,
          "y": -1.3558228417478113
         },
         {
          "surname": "Tortora",
          "title": "Principles of Anatomy and Physiology",
          "x": 6.277342244828537,
          "y": 0.06038589832187162
         },
         {
          "surname": "Kernighan",
          "title": "The C Programming Language",
          "x": 6.7651803424650145,
          "y": -1.1561011897939952
         },
         {
          "surname": "Wright",
          "title": "Native Son",
          "x": 1.2513650927079696,
          "y": -3.427350472099227
         },
         {
          "surname": "Black",
          "title": "War and the World, 1450-2000",
          "x": 2.743865986073927,
          "y": -2.4292385728169275
         },
         {
          "surname": "Pynchon",
          "title": "The Crying of Lot 49",
          "x": 0.445574481116909,
          "y": -3.8368463765570473
         },
         {
          "surname": "Blanchard",
          "title": "Macroeconomics",
          "x": 5.753363544654846,
          "y": 0.09597460531739237
         },
         {
          "surname": "Miller",
          "title": "The Crucible",
          "x": 1.0897803848139624,
          "y": -4.054074109399021
         },
         {
          "surname": "Blake",
          "title": "Songs of Experience",
          "x": -5.201392061780277,
          "y": -0.9280449512167602
         },
         {
          "surname": "Hemingway",
          "title": "The Sun Also Rises",
          "x": 0.9919727339368384,
          "y": -3.5062039787121924
         },
         {
          "surname": "Spenser",
          "title": "The Faerie Queene, 1596",
          "x": -4.004919344931409,
          "y": 0.8950550589442371
         },
         {
          "surname": "Mcmurry",
          "title": "Organic Chemistry",
          "x": 6.189776706338492,
          "y": -0.5772289540591181
         },
         {
          "surname": "Hewitt",
          "title": "Conceptual Physics",
          "x": 6.042776066167277,
          "y": -0.45565381403443456
         },
         {
          "surname": "Bach",
          "title": "The Fugue",
          "x": 0.25922313193019153,
          "y": 0.9806441001201214
         },
         {
          "surname": "Thomas",
          "title": "Summa Theologica",
          "x": -1.0259784731518153,
          "y": 3.8081798721770364
         },
         {
          "surname": "Arnold",
          "title": "Dover Beach",
          "x": -5.26903651578829,
          "y": -0.6517398692166866
         },
         {
          "surname": "Kamien",
          "title": "Music : An Appreciation",
          "x": 0.3149271018195778,
          "y": 0.9923481442016826
         },
         {
          "surname": "Hamilton",
          "title": "The Federalist Papers",
          "x": 3.9929536953812317,
          "y": -4.615030500071144
         },
         {
          "surname": "Kotter",
          "title": "Leading Change",
          "x": 4.341667169296377,
          "y": 4.655252608390691
         },
         {
          "surname": "Axelrod",
          "title": "The Evolution of Cooperation",
          "x": 4.04450957413231,
          "y": 4.833664750130907
         },
         {
          "surname": "Durkheim",
          "title": "Suicide",
          "x": 2.711038568312825,
          "y": 2.110440682996983
         },
         {
          "surname": "Freud",
          "title": "The Unconscious",
          "x": 1.1858751017813522,
          "y": 1.1882703032309796
         },
         {
          "surname": "Pinker",
          "title": "The Language Instinct",
          "x": -1.2344959396352146,
          "y": -1.2875324908567396
         },
         {
          "surname": "Walker",
          "title": "Fundamentals of Physics",
          "x": 7.4086090509218,
          "y": 0.6127296031627076
         },
         {
          "surname": "Poe",
          "title": "Fall of the House of Usher",
          "x": 3.482714289048112,
          "y": -6.145921049398936
         },
         {
          "surname": "Kotler",
          "title": "Principles of Marketing",
          "x": 6.164182119120821,
          "y": 0.07910577254409182
         },
         {
          "surname": "Greene",
          "title": "Econometric Analysis",
          "x": 6.258303741386403,
          "y": -0.4059452386560402
         },
         {
          "surname": "Eliot",
          "title": "Ezra Pound",
          "x": 0.0926802462638043,
          "y": -3.54279568102973
         },
         {
          "surname": "Hesiod",
          "title": "Works & Days",
          "x": -5.6766577953102315,
          "y": 3.9107535676975673
         },
         {
          "surname": "Plato",
          "title": "Republic, Book X",
          "x": -1.5193941622752207,
          "y": 3.687151427773402
         },
         {
          "surname": "Pepys",
          "title": "Diary",
          "x": -3.682193161380448,
          "y": 0.9238616416339592
         },
         {
          "surname": "Larsen",
          "title": "Passing",
          "x": 0.6285607954377801,
          "y": -3.678112995240398
         },
         {
          "surname": "Bradford",
          "title": "Of Plymouth Plantation, 1620-1647",
          "x": 3.955836841207444,
          "y": -5.869620804530313
         },
         {
          "surname": "Hardt",
          "title": "Empire",
          "x": 2.9232138242898094,
          "y": 1.539654107259801
         },
         {
          "surname": "Blaxter",
          "title": "How to Research",
          "x": 4.985373320506225,
          "y": -2.1315135437694734
         },
         {
          "surname": "Darwin",
          "title": "The Descent of Man",
          "x": 0.7197625097212146,
          "y": 1.4752636670728303
         },
         {
          "surname": "Darwin",
          "title": "On the Origin of Species",
          "x": 0.7166733907192495,
          "y": 1.3799993055586044
         },
         {
          "surname": "Stallings",
          "title": "Data and Computer Communications",
          "x": 7.2072691965065685,
          "y": -1.2380967243299823
         },
         {
          "surname": "Morrison",
          "title": "Song of Solomon",
          "x": 0.48836141005891626,
          "y": -3.2811291890989707
         },
         {
          "surname": "Faulkner",
          "title": "The Sound and the Fury",
          "x": 0.4698535710773192,
          "y": -3.8382443812118434
         },
         {
          "surname": "Deitel",
          "title": "Java : How to Program",
          "x": 6.368398031500212,
          "y": -1.6981291988108205
         },
         {
          "surname": "Tanenbaum",
          "title": "Modern Operating Systems",
          "x": 7.3310911815009145,
          "y": -1.2668931875585923
         },
         {
          "surname": "Friedman",
          "title": "Capitalism and Freedom",
          "x": 2.7739460809780745,
          "y": 3.193258075868903
         },
         {
          "surname": "Melville",
          "title": "Billy Budd",
          "x": 2.8058419117536824,
          "y": -5.641886811415181
         },
         {
          "surname": "Clausewitz",
          "title": "On War",
          "x": 4.136108578317006,
          "y": 4.946178642188501
         },
         {
          "surname": "Coleridge",
          "title": "The Rime of the Ancient Mariner",
          "x": -5.0019972763730225,
          "y": -0.8549156729006958
         },
         {
          "surname": "Durkheim",
          "title": "The Elementary Forms of Religious Life",
          "x": 2.724906750201706,
          "y": 2.0609705206806623
         },
         {
          "surname": "Homer",
          "title": "Iliad Odyssey",
          "x": -5.020244222087012,
          "y": 3.8333226631864634
         },
         {
          "surname": "Aristotle",
          "title": "The Physics",
          "x": -1.7335549351865311,
          "y": 3.7769936489335865
         },
         {
          "surname": "Coleridge",
          "title": "The Ancient Mariner",
          "x": -5.053942208488057,
          "y": -0.9174830540860124
         },
         {
          "surname": "James",
          "title": "Daisy Miller",
          "x": 2.0372760891901387,
          "y": -4.847789683481471
         },
         {
          "surname": "Blake",
          "title": "Songs of Innocence and Experience",
          "x": -5.165636153115926,
          "y": -0.9606890101080959
         },
         {
          "surname": "Dawkins",
          "title": "The Selfish Gene",
          "x": 0.5121655103144817,
          "y": 2.732282059981676
         },
         {
          "surname": "Forster",
          "title": "A Passage to India",
          "x": -1.165779510223497,
          "y": -1.7187244870305065
         },
         {
          "surname": "Eliot",
          "title": "Middlemarch",
          "x": -1.9146790846453117,
          "y": -1.1614619362921834
         },
         {
          "surname": "Abrams",
          "title": "The Norton Anthology of English Literature",
          "x": -4.376944691353645,
          "y": -0.22302784971357245
         },
         {
          "surname": "England",
          "title": "The Sixteenth Century",
          "x": -3.5649553977413215,
          "y": 1.80014775424639
         },
         {
          "surname": "Turner",
          "title": "The Frontier in American History",
          "x": 3.707969659548446,
          "y": -5.452124897180549
         },
         {
          "surname": "Nabokov",
          "title": "Lolita",
          "x": 0.3355890574885319,
          "y": -2.7019796179060167
         },
         {
          "surname": "Engels",
          "title": "On Marx",
          "x": 2.3085022355881297,
          "y": 2.8394610444216397
         },
         {
          "surname": "Jameson",
          "title": "Postmodernism, Or, the Cultural Logic of Late Capitalism",
          "x": 2.0803103688031817,
          "y": 0.703130122564821
         },
         {
          "surname": "Plato",
          "title": "Five Dialogues",
          "x": -1.7034598926920377,
          "y": 3.745477897950996
         },
         {
          "surname": "Abrams",
          "title": "A Glossary of Literary Terms",
          "x": -4.28432056647145,
          "y": -0.5733380525936543
         },
         {
          "surname": "Morrison",
          "title": "Sula",
          "x": 0.46093881779211177,
          "y": -3.415722392898655
         },
         {
          "surname": "Lakoff",
          "title": "Metaphors We Live By",
          "x": 1.7078265623692326,
          "y": -0.9087021983746458
         },
         {
          "surname": "Gellner",
          "title": "Nations and Nationalism",
          "x": 3.509488328912675,
          "y": 3.01590501366696
         },
         {
          "surname": "Putnam",
          "title": "Bowling Alone : The Collapse and Revival of American Community",
          "x": 3.079847821818292,
          "y": 3.515953682498372
         },
         {
          "surname": "Sontag",
          "title": "On Photography",
          "x": 2.152775044722596,
          "y": -0.575039979322693
         },
         {
          "surname": "Krugman",
          "title": "International Economics : Theory and Policy",
          "x": 5.600844529734601,
          "y": 0.1282427531990806
         },
         {
          "surname": "Beethoven",
          "title": "Symphony No. 2",
          "x": 0.6019033302294075,
          "y": 1.201883968545695
         },
         {
          "surname": "Keats",
          "title": "Ode on a Grecian Urn :",
          "x": -5.227268084557748,
          "y": -0.6446835891320658
         },
         {
          "surname": "Faulkner",
          "title": "As I Lay Dying",
          "x": 0.6690873343236066,
          "y": -3.3341657089872663
         },
         {
          "surname": "Rousseau",
          "title": "A Discourse on Inequality",
          "x": 0.7788930858217863,
          "y": 4.126528711620986
         },
         {
          "surname": "Coase",
          "title": "The Problem of Social Cost",
          "x": 3.1619997657851973,
          "y": 3.2310662286299583
         },
         {
          "surname": "Doyle",
          "title": "Sherlock Holmes",
          "x": -0.8605467512490999,
          "y": -1.4699469072442855
         },
         {
          "surname": "Lunsford",
          "title": "The Everyday Writer",
          "x": -1.3307286510797804,
          "y": -1.2367461279192329
         },
         {
          "surname": "Field",
          "title": "Archaeology in the U.S.S.R",
          "x": -4.0557125290396225,
          "y": 2.6873326919595315
         },
         {
          "surname": "Stiglitz",
          "title": "Economics",
          "x": 4.346257816258251,
          "y": 0.28626213952083535
         },
         {
          "surname": "Creswell",
          "title": "Research Design : Qualitative, Quantitative, and Mixed Methods Approaches",
          "x": 4.8779535641092,
          "y": -2.129935963446724
         },
         {
          "surname": "Weiten",
          "title": "Psychology : Themes and Variations",
          "x": 4.257482293788075,
          "y": -1.2986136901374192
         },
         {
          "surname": "Mills",
          "title": "The Power Elite",
          "x": 2.9173022415469716,
          "y": 2.50142916865609
         },
         {
          "surname": "Waltz",
          "title": "Theory of International Politics",
          "x": 4.046625487953059,
          "y": 4.963542527281369
         },
         {
          "surname": "Wittgenstein",
          "title": "Philosophical Investigations",
          "x": -0.3412675052062039,
          "y": 2.89484215619294
         },
         {
          "surname": "Kant",
          "title": "Perpetual Peace",
          "x": 0.6184373407022081,
          "y": 4.281695737691953
         },
         {
          "surname": "Tolkien",
          "title": "The Lord of the Rings",
          "x": 0.15331354602211741,
          "y": -2.3411754381823284
         },
         {
          "surname": "Bellamy",
          "title": "Looking Backward, 2000-1887",
          "x": 2.335153902430948,
          "y": -4.271248145312206
         },
         {
          "surname": "Tufte",
          "title": "The Visual Display of Quantitative Information",
          "x": 3.960796944530213,
          "y": -1.941959225662299
         },
         {
          "surname": "Gujarati",
          "title": "Basic Econometrics",
          "x": 5.21410076760823,
          "y": -0.3048432522591647
         },
         {
          "surname": "Machiavelli",
          "title": "The Discourses",
          "x": 0.3192273125202306,
          "y": 4.448105043108122
         },
         {
          "surname": "Golding",
          "title": "Lord of the Flies",
          "x": 0.24026441519064046,
          "y": -2.5496160543025774
         },
         {
          "surname": "Wells",
          "title": "The Time Machine",
          "x": -0.415206014555631,
          "y": -1.74161261241725
         },
         {
          "surname": "Mankiw",
          "title": "Principles of Microeconomics",
          "x": 5.375887615992938,
          "y": 0.20380819441422346
         },
         {
          "surname": "Nietzsche",
          "title": "Beyond Good and Evil",
          "x": -0.24088703961382546,
          "y": 2.903364083847637
         },
         {
          "surname": "Dickens",
          "title": "A Christmas Carol",
          "x": -2.6935164324603593,
          "y": -1.2315556056978976
         },
         {
          "surname": "Butler",
          "title": "Gender Trouble : Feminism and the Subversion of Identity",
          "x": 2.1105618749622916,
          "y": 0.8986103729632382
         },
         {
          "surname": "Deitel",
          "title": "Java",
          "x": 6.38297297035536,
          "y": -1.726568631863707
         },
         {
          "surname": "Keegan",
          "title": "World War I",
          "x": -8.3242895756438,
          "y": -9.454648800392343
         },
         {
          "surname": "Melville",
          "title": "Benito Cereno",
          "x": 3.175467027447849,
          "y": -5.88698143183229
         },
         {
          "surname": "Paine",
          "title": "Rights of Man",
          "x": 0.8265667130126614,
          "y": 1.6935743124733216
         },
         {
          "surname": "Gould",
          "title": "The Mismeasure of Man",
          "x": 2.675676284181013,
          "y": 2.002367857219373
         },
         {
          "surname": "Gonzalez",
          "title": "Digital Image Processing",
          "x": 7.386383497415997,
          "y": -0.9436500726773956
         },
         {
          "surname": "Northouse",
          "title": "Leadership : Theory and Practice",
          "x": 4.400770443243926,
          "y": 4.696603560816236
         },
         {
          "surname": "Lehninger",
          "title": "Principles of Biochemistry",
          "x": 6.118739605435893,
          "y": 0.04631101990053425
         },
         {
          "surname": "Wharton",
          "title": "The House of Mirth",
          "x": 0.23936559003043623,
          "y": -3.6796944910379943
         },
         {
          "surname": "Dickens",
          "title": "Oliver Twist",
          "x": -1.1196931450193734,
          "y": -1.596756184659388
         },
         {
          "surname": "Myers",
          "title": "Social Psychology",
          "x": 4.132708127902047,
          "y": -0.8386777421647511
         },
         {
          "surname": "Collins",
          "title": "Good to Great",
          "x": 4.3403607815427785,
          "y": 4.746357571791242
         },
         {
          "surname": "Castells",
          "title": "The Rise of the Network Society",
          "x": 2.8205448917397105,
          "y": 1.5133519412087615
         },
         {
          "surname": "Shakespeare",
          "title": "Julius Caesar",
          "x": -2.994902055248592,
          "y": 1.048921685407105
         },
         {
          "surname": "Mankiw",
          "title": "Principles of Economics",
          "x": 5.600181498975197,
          "y": -0.02963111100514267
         },
         {
          "surname": "Schumpeter",
          "title": "Capitalism, Socialism, and Democracy",
          "x": 2.948234313734219,
          "y": 3.424614452009947
         },
         {
          "surname": "Wordsworth",
          "title": "The Prelude, 1798-1799",
          "x": -4.799884179126799,
          "y": -0.7650459779673215
         },
         {
          "surname": "Rachels",
          "title": "The Elements of Moral Philosophy",
          "x": -1.1580740263540716,
          "y": 3.1775892092006037
         },
         {
          "surname": "Serway",
          "title": "Physics for Scientists and Engineers",
          "x": 7.390700244863855,
          "y": 0.6178394424132972
         },
         {
          "surname": "Chaucer",
          "title": "The Canterbury Tales: Prologue",
          "x": -4.078487846521012,
          "y": 1.127124352431859
         },
         {
          "surname": "Case",
          "title": "Real Estate",
          "x": 3.6264777712180503,
          "y": -0.612632513269082
         },
         {
          "surname": "North",
          "title": "Institutions, Institutional Change and Economic Performance",
          "x": 3.354127086630424,
          "y": 2.7536482027100075
         },
         {
          "surname": "Pindyck",
          "title": "Microeconomics",
          "x": 6.213361810360376,
          "y": -0.030503495809350193
         },
         {
          "surname": "Irving",
          "title": "Rip Van Winkle",
          "x": 4.03049008272014,
          "y": -5.961313495903944
         },
         {
          "surname": "Coetzee",
          "title": "Waiting for the Barbarians",
          "x": -7.319912000979459,
          "y": -9.409382379964171
         },
         {
          "surname": "Negroponte",
          "title": "Being Digital",
          "x": 2.080489810748385,
          "y": 0.367508907083079
         },
         {
          "surname": "Malthus",
          "title": "On Population",
          "x": 1.9104090846259265,
          "y": 3.087902618005276
         },
         {
          "surname": "James",
          "title": "The Varieties of Religious Experience",
          "x": -0.09040551808361794,
          "y": 2.447226319457738
         },
         {
          "surname": "Tacitus",
          "title": "Annals",
          "x": -4.674388397256855,
          "y": 3.518919656191661
         },
         {
          "surname": "Fanon",
          "title": "Black Skin, White Masks",
          "x": 2.144399125561957,
          "y": 0.9227692544521618
         },
         {
          "surname": "Eagleton",
          "title": "Literary Theory : An Introduction",
          "x": -2.986531814724347,
          "y": -1.1095066395686755
         },
         {
          "surname": "Poe",
          "title": "The Raven,",
          "x": 3.6647820825122674,
          "y": -6.2927051378151555
         },
         {
          "surname": "Wordsworth",
          "title": "Preface to Lyrical Ballads",
          "x": -5.2931175072222105,
          "y": -0.7687157668357719
         },
         {
          "surname": "Nozick",
          "title": "Anarchy, State, and Utopia",
          "x": 0.5143974776487598,
          "y": 3.7511652231747528
         },
         {
          "surname": "Brontë",
          "title": "Jane Eyre",
          "x": -2.4650223932488333,
          "y": -1.2418616633720203
         },
         {
          "surname": "Fisher",
          "title": "Getting to Yes : Negotiating Agreement Without Giving In",
          "x": 3.3069228020068144,
          "y": -2.1613246299642843
         },
         {
          "surname": "Rossetti",
          "title": "Goblin Market",
          "x": -5.046843505586603,
          "y": -0.9240131809189558
         },
         {
          "surname": "Hart",
          "title": "Doing a Literature Review : Releasing the Social Science Research Imagination",
          "x": 4.886431272076335,
          "y": -1.8835991572555604
         },
         {
          "surname": "Turner",
          "title": "The Significance of the Frontier in American History",
          "x": 3.6838838699865346,
          "y": -5.446663447322985
         },
         {
          "surname": "Fowler",
          "title": "The Little, Brown Handbook",
          "x": 0.5627914763945823,
          "y": -2.467288165706399
         },
         {
          "surname": "Debord",
          "title": "Society of the Spectacle",
          "x": 2.404433323281808,
          "y": 1.0465543285000625
         },
         {
          "surname": "Horace",
          "title": "Odes",
          "x": -4.744531188109062,
          "y": 3.612512414056355
         },
         {
          "surname": "Sophocles",
          "title": "The Theban Plays",
          "x": -5.101532431934603,
          "y": 4.001552946276102
         },
         {
          "surname": "Ritzer",
          "title": "The McDonaldization of Society 5",
          "x": 2.684678039845997,
          "y": 1.8553660196544297
         },
         {
          "surname": "Austen",
          "title": "Northanger Abbey",
          "x": -2.3691784883128864,
          "y": -1.2703316379286649
         },
         {
          "surname": "Crane",
          "title": "The Open Boat",
          "x": 2.9509762020005663,
          "y": -5.769168675834672
         },
         {
          "surname": "Garrison",
          "title": "Managerial Accounting",
          "x": 5.970970794850635,
          "y": -0.2418985165333823
         },
         {
          "surname": "Nietzsche",
          "title": "The Birth of Tragedy",
          "x": 0.3728117739505097,
          "y": 2.10147320515036
         },
         {
          "surname": "Bentham",
          "title": "Utilitarianism",
          "x": -1.1140958376088936,
          "y": 3.2383365658635874
         },
         {
          "surname": "Thompson",
          "title": "The Making of the English Working Class",
          "x": 2.074513201769443,
          "y": 1.9815018989029218
         },
         {
          "surname": "Tufte",
          "title": "Envisioning Information",
          "x": 4.627282151536148,
          "y": -0.6855000149464385
         },
         {
          "surname": "Boethius",
          "title": "The Consolation of Philosophy",
          "x": -3.4925660118065975,
          "y": 2.5977034899879783
         },
         {
          "surname": "Ramakrishnan",
          "title": "Database Management Systems",
          "x": 7.392727324723961,
          "y": -1.419908605804944
         },
         {
          "surname": "Roy",
          "title": "The God of Small Things",
          "x": -0.5178506294600269,
          "y": -1.7155124268460824
         },
         {
          "surname": "Miner",
          "title": "Body Ritual Among the Nacirema",
          "x": 2.716418015726789,
          "y": 1.8145931781748865
         },
         {
          "surname": "Peterson",
          "title": "Computer Networks : A Systems Approach",
          "x": 7.519905791760013,
          "y": -1.1492367249302557
         },
         {
          "surname": "Emerson",
          "title": "The American Scholar",
          "x": 3.898414084304017,
          "y": -6.008438303065196
         },
         {
          "surname": "Harris",
          "title": "Quantitative Chemical Analysis",
          "x": 6.498300121856769,
          "y": 0.5181980124579262
         },
         {
          "surname": "Wilson",
          "title": "When Work Disappears",
          "x": 3.1412571822395443,
          "y": 2.6558608725505417
         },
         {
          "surname": "Alcott",
          "title": "Little Women",
          "x": 0.7317127319504265,
          "y": -3.939837647702846
         },
         {
          "surname": "Doctorow",
          "title": "Ragtime",
          "x": -7.159890750574004,
          "y": -9.31522222185101
         },
         {
          "surname": "Bhabha",
          "title": "The Location of Culture",
          "x": 1.8799129732667235,
          "y": 0.8090129161683731
         },
         {
          "surname": "Certeau",
          "title": "The Practice of Everyday Life",
          "x": 2.4737309959756497,
          "y": 0.970564107069995
         },
         {
          "surname": "Edwards",
          "title": "Sinners in the Hands of an Angry God",
          "x": 3.9239572051166416,
          "y": -5.951076447619049
         },
         {
          "surname": "Handel",
          "title": "The Messiah",
          "x": 0.1539214257647557,
          "y": 0.9651077471845859
         },
         {
          "surname": "Brock",
          "title": "Biology of Microorganisms",
          "x": 5.7415929711049625,
          "y": 0.09900309574757442
         },
         {
          "surname": "Milton",
          "title": "Paradise Lost : Book I",
          "x": -4.087707533063365,
          "y": 0.9917107418808575
         },
         {
          "surname": "Cohen",
          "title": "Research Methods in Education",
          "x": 5.021299273223832,
          "y": -2.0152316945395747
         },
         {
          "surname": "Rogers",
          "title": "Diffusion of Innovations",
          "x": 3.929251127317555,
          "y": -0.07286292716077682
         },
         {
          "surname": "Marlowe",
          "title": "Doctor Faustus",
          "x": -3.6911730351910434,
          "y": 0.9218996631018073
         },
         {
          "surname": "Horowitz",
          "title": "The Art of Electronics",
          "x": 6.64837271003257,
          "y": 0.020890000634137956
         },
         {
          "surname": "Paton",
          "title": "Cry, the Beloved Country",
          "x": -7.23136911134437,
          "y": -9.33876128320956
         },
         {
          "surname": "Merleau-ponty",
          "title": "Phenomenology of Perception",
          "x": 0.6353443702432164,
          "y": 2.027792245640992
         },
         {
          "surname": "Stryer",
          "title": "Biochemistry",
          "x": 5.710178572317047,
          "y": -0.2418003347478791
         },
         {
          "surname": "Coleridge",
          "title": "Kubla Khan",
          "x": -5.242927464244341,
          "y": -0.7956904774735652
         },
         {
          "surname": "Diamond",
          "title": "Guns, Germs, and Steel : The Fates of Human Societies",
          "x": 3.476592514776767,
          "y": 2.9193111833416947
         },
         {
          "surname": "Corrigan",
          "title": "A Short Guide to Writing About Film",
          "x": 0.024865820683972823,
          "y": -2.0247351868508447
         },
         {
          "surname": "Tan",
          "title": "The Joy Luck Club",
          "x": 1.1084774948045775,
          "y": -3.401070627766599
         },
         {
          "surname": "Poe",
          "title": "The Cask of Amontillado",
          "x": 3.6088715099239685,
          "y": -6.278456930713336
         },
         {
          "surname": "Dreiser",
          "title": "Sister Carrie",
          "x": 1.164503717118986,
          "y": -4.1615273377377
         },
         {
          "surname": "Benjamin",
          "title": "Illuminations",
          "x": 1.5327865503652411,
          "y": 0.9774032933422349
         },
         {
          "surname": "Hume",
          "title": "A Treatise of Human Nature",
          "x": -0.6920222653885659,
          "y": 3.463108099527134
         },
         {
          "surname": "Hayek",
          "title": "The Road to Serfdom,",
          "x": 2.5849695907562427,
          "y": 3.4164159842790465
         },
         {
          "surname": "Stevens",
          "title": "UNIX Network Programming",
          "x": 7.243786523109153,
          "y": -1.4414340170548183
         },
         {
          "surname": "Shakespeare",
          "title": "Henry IV,",
          "x": -3.255902491832075,
          "y": 1.1128540165917218
         },
         {
          "surname": "Stroustrup",
          "title": "The C++ Programming Language",
          "x": 6.347790166115788,
          "y": -1.6486943443912105
         },
         {
          "surname": "North",
          "title": "Institutional and Economic Change",
          "x": 3.37591087434189,
          "y": 2.803642734602131
         },
         {
          "surname": "Wollstonecraft",
          "title": "A Vindication of the Rights of Women",
          "x": 0.7001154143729859,
          "y": 1.5451837145871299
         },
         {
          "surname": "Young",
          "title": "Teacher Education",
          "x": -3.816109389826919,
          "y": 2.4289007191178653
         },
         {
          "surname": "Pope",
          "title": "An Essay on Man",
          "x": -4.595894081529492,
          "y": -0.25247724651808096
         },
         {
          "surname": "Marx",
          "title": "Selected Writings",
          "x": 2.389017139078469,
          "y": 2.789451925252002
         },
         {
          "surname": "Barnet",
          "title": "A Short Guide to Writing About Art",
          "x": 3.688042027193269,
          "y": -1.8814184957328688
         },
         {
          "surname": "Patton",
          "title": "Qualitative Evaluation Methods",
          "x": 4.923194720679172,
          "y": -1.6485297035289919
         },
         {
          "surname": "Tennyson",
          "title": "In Memoriam",
          "x": -4.754275276852118,
          "y": -0.7102219319953935
         },
         {
          "surname": "Angelou",
          "title": "I Know Why the Caged Bird Sings",
          "x": 1.4275807273177707,
          "y": -3.688087479960006
         },
         {
          "surname": "Descartes",
          "title": "Discourse on Method ; And, Meditations",
          "x": -1.249183566338806,
          "y": 3.3858796761815677
         },
         {
          "surname": "Dickens",
          "title": "A Tale of Two Cities",
          "x": -0.27359776569598865,
          "y": -2.205484573777053
         },
         {
          "surname": "Field",
          "title": "Discovering Statistics Using R",
          "x": 6.017701947125696,
          "y": -0.8356880762920914
         },
         {
          "surname": "Austen",
          "title": "Persuasion",
          "x": -2.3384134951979276,
          "y": -1.2218715841027399
         },
         {
          "surname": "Locke",
          "title": "Two Treatises of Government",
          "x": 0.5077910614249462,
          "y": 4.373026865094785
         },
         {
          "surname": "Grove",
          "title": "A Dictionary of Music and Musicians (A.D. 1450-1889)",
          "x": 3.138716464425062,
          "y": -1.3773901266472455
         },
         {
          "surname": "Austen",
          "title": "Sense and Sensibility",
          "x": -2.1838337540649513,
          "y": -1.1995432743743095
         },
         {
          "surname": "Williams",
          "title": "Style : Lessons in Clarity and Grace",
          "x": 3.566270947848587,
          "y": -2.312263840908153
         },
         {
          "surname": "Santrock",
          "title": "Life-Span Development",
          "x": 5.102753812001892,
          "y": -0.7339769543561896
         },
         {
          "surname": "Hearn",
          "title": "Computer Graphics",
          "x": 6.83602303347935,
          "y": -1.0120622838839972
         },
         {
          "surname": "Apuleius",
          "title": "The Golden Ass",
          "x": -4.740392606604489,
          "y": 3.468892824212768
         },
         {
          "surname": "Deleuze",
          "title": "Foucault",
          "x": 2.6038800065558982,
          "y": 0.2869490972616545
         },
         {
          "surname": "Montesquieu",
          "title": "The Spirit of the Laws",
          "x": 0.6738698000502998,
          "y": 4.300480693108767
         },
         {
          "surname": "Lindblom",
          "title": "The Science of \"Muddling Through\"",
          "x": 3.5645584867261406,
          "y": -2.3226693191145995
         },
         {
          "surname": "Baudrillard",
          "title": "Simulations",
          "x": 2.2102212476181027,
          "y": 0.8396280429262772
         },
         {
          "surname": "Bradbury",
          "title": "Fahrenheit 451",
          "x": 0.9322766409241874,
          "y": -3.030547802552406
         },
         {
          "surname": "Saussure",
          "title": "Course in General Linguistics",
          "x": 1.6883176216865412,
          "y": 0.8197334894669867
         },
         {
          "surname": "World bank",
          "title": "Health",
          "x": 2.885736817498561,
          "y": 3.2748596397239873
         },
         {
          "surname": "Kissinger",
          "title": "Diplomacy",
          "x": 4.269802422640822,
          "y": 4.834320469909921
         },
         {
          "surname": "Turing",
          "title": "Computing Machinery and Intelligence",
          "x": -1.132791008197187,
          "y": 3.090694186999614
         },
         {
          "surname": "Heidegger",
          "title": "Being and Time",
          "x": 0.04032199624148948,
          "y": 2.6476166664408205
         },
         {
          "surname": "Romer",
          "title": "Advanced Macroeconomics",
          "x": 6.2068927317724025,
          "y": 0.37793732325674784
         },
         {
          "surname": "Lehne",
          "title": "Pharmacology for Nursing Care",
          "x": 0.8823986950420809,
          "y": -2.301541757955409
         },
         {
          "surname": "Varian",
          "title": "Microeconomic Analysis",
          "x": 6.37995399533545,
          "y": 0.3330705248845635
         },
         {
          "surname": "Davis",
          "title": "Tools for Teaching",
          "x": 3.2349573290226994,
          "y": -1.646196916318857
         },
         {
          "surname": "Shakespeare",
          "title": "As You Like It",
          "x": -2.978780961855139,
          "y": 0.8429056261579554
         },
         {
          "surname": "Euripides",
          "title": "Hippolytus",
          "x": -5.553042574047557,
          "y": 4.153908491055103
         },
         {
          "surname": "Steinbeck",
          "title": "East of Eden",
          "x": -7.173734857988026,
          "y": -9.327009895768336
         },
         {
          "surname": "Voet",
          "title": "Biochemistry",
          "x": 5.703556490053055,
          "y": -0.040985919454039184
         },
         {
          "surname": "Turkle",
          "title": "Life on the Screen : Identity in the Age of the Internet",
          "x": 2.543318265952989,
          "y": 0.26291050274502825
         },
         {
          "surname": "Roth",
          "title": "American Pastoral",
          "x": -7.281197323089862,
          "y": -9.322295522264145
         },
         {
          "surname": "Liszt",
          "title": "F. Chopin,",
          "x": 0.30002405231653767,
          "y": 0.9900546761261088
         },
         {
          "surname": "Wiggins",
          "title": "Understanding by Design",
          "x": 4.3565097969996165,
          "y": 4.232487365222991
         },
         {
          "surname": "Dick",
          "title": "Do Androids Dream of Electric Sheep?",
          "x": -0.20919951581961196,
          "y": -1.7862184397434338
         },
         {
          "surname": "Hennessy",
          "title": "Computer Architecture : A Quantitative Approach",
          "x": 6.866941271508975,
          "y": -0.8330282397302117
         },
         {
          "surname": "Suzuki",
          "title": "Zen",
          "x": 1.1835218691075433,
          "y": -1.997747263480471
         },
         {
          "surname": "Kaplan",
          "title": "The Coming Anarchy",
          "x": 3.518486959289094,
          "y": 3.9328620351965387
         },
         {
          "surname": "Bowlby",
          "title": "Attachment",
          "x": 3.2690306528362485,
          "y": -0.27537624431880925
         },
         {
          "surname": "Crane",
          "title": "The Red Badge of Courage,",
          "x": 1.2135365500498043,
          "y": -4.248240679877126
         },
         {
          "surname": "Steinbeck",
          "title": "Of Mice and Men",
          "x": 1.2118471827969897,
          "y": -3.286745360538682
         },
         {
          "surname": "Dickens",
          "title": "Bleak House,",
          "x": -1.7126702427770633,
          "y": -1.2329768711060114
         },
         {
          "surname": "Huff",
          "title": "How to Lie With Statistics",
          "x": 4.097959029748522,
          "y": -1.906287967339002
         },
         {
          "surname": "Comer",
          "title": "Internetworking With TCP/IP",
          "x": 7.212052665447456,
          "y": -1.429435172409508
         },
         {
          "surname": "Malthus",
          "title": "An Essay on Population",
          "x": 1.9225183774821586,
          "y": 3.0393951664599097
         },
         {
          "surname": "Kushner",
          "title": "Angels in America",
          "x": 0.38041971348756204,
          "y": -3.966815480944171
         },
         {
          "surname": "Veblen",
          "title": "The Theory of the Leisure Class",
          "x": 2.942369741967157,
          "y": 2.782891986130696
         },
         {
          "surname": "Greenhalgh",
          "title": "How to Read a Paper : The Basics of Evidence-Based Medicine",
          "x": 5.77806654363431,
          "y": -1.405994357491525
         },
         {
          "surname": "Castiglione",
          "title": "The Courtier",
          "x": -3.467904074555183,
          "y": 2.0805709021867735
         },
         {
          "surname": "Huntington",
          "title": "The Clash of Civilizations and the Remaking of World Order",
          "x": 3.69092579741173,
          "y": 4.356215292505152
         },
         {
          "surname": "Dangarembga",
          "title": "Nervous Conditions",
          "x": -0.09711366181198497,
          "y": -1.498272164766772
         },
         {
          "surname": "Rawls",
          "title": "Justice as Fairness",
          "x": 0.347486463160771,
          "y": 3.589309607444197
         },
         {
          "surname": "Silverman",
          "title": "Doing Qualitative Research : A Practical Handbook",
          "x": 5.060165847964376,
          "y": -2.1453850882209204
         },
         {
          "surname": "Kidder",
          "title": "The Soul of a New Machine",
          "x": -8.2956951830468,
          "y": -9.61596257286842
         },
         {
          "surname": "Corey",
          "title": "Theory and Practice of Counseling and Psychotherapy",
          "x": 3.1474393107927026,
          "y": -1.1003700244713863
         },
         {
          "surname": "Wade",
          "title": "Organic Chemistry",
          "x": 7.342094169068823,
          "y": -0.24446288405928882
         },
         {
          "surname": "Kingdon",
          "title": "Agendas, Alternatives, and Public Policies",
          "x": 3.632489799705453,
          "y": -2.1739676841654902
         },
         {
          "surname": "Read",
          "title": "North America",
          "x": 3.6179151173679527,
          "y": -5.545456397640982
         },
         {
          "surname": "Patton",
          "title": "Qualitative Evaluation and Research Methods",
          "x": 5.001408161421863,
          "y": -1.684618055508443
         },
         {
          "surname": "Patton",
          "title": "Qualitative Research & Evaluation Methods",
          "x": 5.007725488068436,
          "y": -1.7295594206620757
         },
         {
          "surname": "Korth",
          "title": "Database System Concepts",
          "x": 7.235726300036996,
          "y": -1.4419489559648893
         },
         {
          "surname": "Shaw",
          "title": "Pygmalion",
          "x": -1.8325268213371333,
          "y": -0.8006127568363693
         },
         {
          "surname": "Johnson",
          "title": "Exploring Corporate Strategy",
          "x": 6.2885003078966255,
          "y": -0.25499323045821637
         },
         {
          "surname": "Dickens",
          "title": "David Copperfield",
          "x": -1.5602314398647268,
          "y": -1.2044625286089061
         },
         {
          "surname": "Sartre",
          "title": "Existentialism and Humanism",
          "x": -0.8481114941639959,
          "y": 3.019715464098164
         },
         {
          "surname": "Shelley",
          "title": "Ozymandias",
          "x": -5.339301802388375,
          "y": -0.6403116066173679
         },
         {
          "surname": "Patterson",
          "title": "Computer Organization and Design : The Hardware/Software Interface",
          "x": 7.4656418287665876,
          "y": -0.8782305744967455
         },
         {
          "surname": "Defoe",
          "title": "Moll Flanders",
          "x": -1.9985176582191098,
          "y": -0.7176204507080362
         },
         {
          "surname": "Maimon",
          "title": "The McGraw-Hill Handbook",
          "x": 3.863671186770234,
          "y": -5.770835660326836
         },
         {
          "surname": "Davis",
          "title": "The Return of Martin Guerre",
          "x": 4.144086532221887,
          "y": 4.531547367717502
         },
         {
          "surname": "Campbell",
          "title": "The Hero With a Thousand Faces",
          "x": 0.8269356602679451,
          "y": -1.682113134071366
         },
         {
          "surname": "Satrapi",
          "title": "Persepolis",
          "x": 0.29875087238801973,
          "y": -1.9529017474602912
         },
         {
          "surname": "Marcus aurelius",
          "title": "The Meditations",
          "x": -3.4666012014467094,
          "y": 3.1745781682052696
         },
         {
          "surname": "Surowiecki",
          "title": "The Wisdom of Crowds",
          "x": -8.632829875244733,
          "y": -9.620430726717217
         },
         {
          "surname": "Gramsci",
          "title": "Prison Notebooks",
          "x": 2.682395921991465,
          "y": 2.0136903143356295
         },
         {
          "surname": "Berg",
          "title": "Biochemistry",
          "x": 6.553314729327425,
          "y": -0.1838108957630756
         },
         {
          "surname": "Long",
          "title": "Hair, Hair",
          "x": -3.280787146255236,
          "y": 1.7877567468769442
         },
         {
          "surname": "James",
          "title": "The Portrait of a Lady",
          "x": 0.04641183609946798,
          "y": -3.629554245309328
         },
         {
          "surname": "Chiang",
          "title": "Fundamental Methods of Mathematical Economics",
          "x": 6.512685210108692,
          "y": 0.3958236221868144
         },
         {
          "surname": "Mayhew",
          "title": "Congress : The Electoral Connection",
          "x": 3.9860478050461507,
          "y": -4.341465008780909
         },
         {
          "surname": "Dumas",
          "title": "Monte Cristo",
          "x": -7.3006741811491125,
          "y": -9.37818899551499
         },
         {
          "surname": "Morgan",
          "title": "Images of Organization",
          "x": 4.620854542260026,
          "y": -0.35588511228535713
         },
         {
          "surname": "Mccullers",
          "title": "The Heart Is a Lonely Hunter,",
          "x": -7.178159570728561,
          "y": -9.35760319823144
         },
         {
          "surname": "Percy",
          "title": "The Moviegoer",
          "x": -7.311664317950326,
          "y": -9.390654205805848
         },
         {
          "surname": "Mitchell",
          "title": "Machine Learning",
          "x": 6.624050703825938,
          "y": -0.9988096280697428
         },
         {
          "surname": "Carroll",
          "title": "Alice in Wonderland",
          "x": -1.626157362009061,
          "y": -0.9506799719763676
         },
         {
          "surname": "Faigley",
          "title": "The Penguin Handbook",
          "x": 3.6347065979391497,
          "y": -2.3624664064937058
         },
         {
          "surname": "Cooper",
          "title": "The Last of the Mohicans",
          "x": 2.041986658188077,
          "y": -4.863530026321635
         },
         {
          "surname": "Stravinsky",
          "title": "The Rite of Spring",
          "x": 0.6461222128437281,
          "y": 1.2256021888388635
         },
         {
          "surname": "Keller",
          "title": "Statistics for Management and Economics",
          "x": 7.2285589688042196,
          "y": -0.3694431943069871
         },
         {
          "surname": "Gilman",
          "title": "Herland",
          "x": 0.5377417458535667,
          "y": -3.1989950155006057
         },
         {
          "surname": "Jones",
          "title": "The Known World",
          "x": -8.002767354308396,
          "y": -9.464963477025876
         },
         {
          "surname": "Hegel",
          "title": "Phenomenology of Spirit",
          "x": 0.4936379661019546,
          "y": 2.6976853287808495
         },
         {
          "surname": "Thomas",
          "title": "Latin America",
          "x": 3.3850397334429396,
          "y": -0.12764276002830025
         },
         {
          "surname": "Kurose",
          "title": "Computer Networking : A Top-Down Approach",
          "x": 7.077969017143795,
          "y": -1.1549784227714657
         },
         {
          "surname": "Hebdige",
          "title": "Subculture, the Meaning of Style",
          "x": 2.27526520313431,
          "y": 0.41469295727031064
         },
         {
          "surname": "Toomer",
          "title": "Cane",
          "x": 1.1704167722501622,
          "y": -4.302029682916126
         },
         {
          "surname": "Keats",
          "title": "Ode to a Nightingale",
          "x": -5.293296775498914,
          "y": -0.7017330492207254
         },
         {
          "surname": "Hughes",
          "title": "The Negro Speaks of Rivers",
          "x": 3.142816840325758,
          "y": -6.041417607353205
         },
         {
          "surname": "Postman",
          "title": "Amusing Ourselves to Death",
          "x": 1.371319526730388,
          "y": -1.6402035817494007
         },
         {
          "surname": "Field",
          "title": "Reading and Writing",
          "x": 0.9486569283561501,
          "y": -1.6301957421308506
         },
         {
          "surname": "Mozart",
          "title": "Don Giovanni",
          "x": 0.42698719400353824,
          "y": 1.1313947594458271
         },
         {
          "surname": "Sipser",
          "title": "Introduction to the Theory of Computation",
          "x": 7.262517342499056,
          "y": -1.4626690365622363
         },
         {
          "surname": "Erasmus",
          "title": "The Praise of Folly",
          "x": -3.468882740897289,
          "y": 2.0912460759516476
         },
         {
          "surname": "Wooldridge",
          "title": "Introductory Econometrics : A Modern Approach",
          "x": 7.052379902183579,
          "y": -0.42628683187430083
         },
         {
          "surname": "Tolkien",
          "title": "The Hobbit",
          "x": 0.24207812176214016,
          "y": -2.581458009488747
         },
         {
          "surname": "Dumas",
          "title": "The Count of Monte-Cristo",
          "x": -7.33920356035717,
          "y": -9.419528854799607
         },
         {
          "surname": "Plato",
          "title": "The Apology of Socrates",
          "x": -2.3462445641624443,
          "y": 4.165300170401769
         },
         {
          "surname": "Putnam",
          "title": "Diplomacy and Domestic Politics: The Logic of Two-Level Games",
          "x": 3.834133735126836,
          "y": 4.678850790008373
         },
         {
          "surname": "Horkheimer",
          "title": "Dialectic of Enlightenment",
          "x": 2.2939003004372744,
          "y": 1.118739468222968
         },
         {
          "surname": "Stravinsky",
          "title": "The Rite O' Spring",
          "x": 0.6358927443316824,
          "y": 1.2393942322488547
         },
         {
          "surname": "Hersey",
          "title": "Hiroshima",
          "x": 1.9371809809785143,
          "y": -3.187506810718646
         },
         {
          "surname": "Ross",
          "title": "A First Course in Probability",
          "x": 7.256884026616864,
          "y": -0.5286639784571528
         },
         {
          "surname": "Stravinsky",
          "title": "Rite",
          "x": 0.6000956891957031,
          "y": 1.2058184347168321
         },
         {
          "surname": "Plath",
          "title": "The Bell Jar",
          "x": 1.0494030220640806,
          "y": -3.3044086977554135
         },
         {
          "surname": "Singer",
          "title": "Famine, Affluence, and Morality",
          "x": -1.1818020117293546,
          "y": 3.309275155552334
         },
         {
          "surname": "Hecht",
          "title": "Optics",
          "x": 7.041091479969711,
          "y": 0.18336342076383705
         },
         {
          "surname": "Zumdahl",
          "title": "Chemistry",
          "x": 4.724423896826068,
          "y": -0.6038636789910682
         },
         {
          "surname": "Fielding",
          "title": "Tom Jones",
          "x": -1.756950267163079,
          "y": -0.9702200538541565
         },
         {
          "surname": "Keegan",
          "title": "The First World War",
          "x": -8.46674930814916,
          "y": -9.445676401780329
         },
         {
          "surname": "Williams",
          "title": "Culture and Society, 1780-1950",
          "x": 1.4668037592749215,
          "y": 0.9514032328053934
         },
         {
          "surname": "Bellow",
          "title": "Seize the Day",
          "x": -7.242763037131798,
          "y": -9.356425914387117
         },
         {
          "surname": "Barthes",
          "title": "Image, Music, Text",
          "x": 2.0840701431184177,
          "y": 0.32274034990753003
         },
         {
          "surname": "Plato",
          "title": "The Trial of Socrates",
          "x": -2.342267778823922,
          "y": 4.0625435338703575
         },
         {
          "surname": "Ross",
          "title": "Fundamentals of Corporate Finance",
          "x": 7.3021561137249025,
          "y": -0.20851406606186157
         },
         {
          "surname": "Aeschylus",
          "title": "Eumenides",
          "x": -5.58365605141467,
          "y": 4.139488412400913
         },
         {
          "surname": "Rousseau",
          "title": "Confessions",
          "x": -1.2475512184842188,
          "y": -0.5838555491570729
         },
         {
          "surname": "Unesco",
          "title": "World Heritage 2008-09",
          "x": 1.2920646714211346,
          "y": -2.188322177077083
         },
         {
          "surname": "Trotsky",
          "title": "Lenin",
          "x": 2.4076950583662637,
          "y": 2.729267866682835
         },
         {
          "surname": "Bourdieu",
          "title": "Distinction : A Social Critique of the Judgement of Taste",
          "x": 2.4918680593377336,
          "y": 1.0384838374021816
         },
         {
          "surname": "Tennyson",
          "title": "The Lady of Shalott",
          "x": -5.286463253017421,
          "y": -0.7763301902674095
         },
         {
          "surname": "Dewey",
          "title": "Democracy and Education",
          "x": 0.13151080232713194,
          "y": 2.611248787803226
         },
         {
          "surname": "Marlowe",
          "title": "Dr. Faustus",
          "x": -3.838253717097556,
          "y": 0.9051999052155486
         },
         {
          "surname": "Cather",
          "title": "My Antonia",
          "x": 0.9085665344432166,
          "y": -4.021595549940595
         },
         {
          "surname": "Mcphee",
          "title": "Encounters With the Archdruid",
          "x": -8.407038586453575,
          "y": -9.490618334726301
         },
         {
          "surname": "Lincoln",
          "title": "The Emancipation Proclamation",
          "x": 3.8765923786114382,
          "y": -5.153766892565236
         },
         {
          "surname": "Jefferson",
          "title": "George Washington",
          "x": 3.9202812136888023,
          "y": -5.052369165312292
         },
         {
          "surname": "Camus",
          "title": "The Plague",
          "x": 0.3225031575912518,
          "y": -2.3372629269106735
         },
         {
          "surname": "Eliot",
          "title": "Tradition and the Individual Talent",
          "x": -4.767657162606591,
          "y": -0.9368941873526535
         },
         {
          "surname": "Chekhov",
          "title": "The Cherry Orchard",
          "x": -0.6359891522767518,
          "y": -2.011660116128036
         },
         {
          "surname": "Shakespeare",
          "title": "Much Ado About Nothing",
          "x": -3.1047644210565375,
          "y": 0.8774478399643161
         },
         {
          "surname": "Byron",
          "title": "Don Juan",
          "x": -4.9179866891327535,
          "y": -0.7681789907559521
         },
         {
          "surname": "Griffiths",
          "title": "Introduction to Electrodynamics",
          "x": 7.187886621236593,
          "y": 0.253498641855054
         },
         {
          "surname": "Mclellan",
          "title": "Marx",
          "x": 2.424126040446858,
          "y": 2.7762202494520207
         },
         {
          "surname": "Lessig",
          "title": "Code and Other Laws of Cyberspace",
          "x": 4.1373864041995905,
          "y": 0.4571861952237014
         },
         {
          "surname": "Hegel",
          "title": "The Philosophy of History",
          "x": 1.9090219030428879,
          "y": 3.3212244485010225
         },
         {
          "surname": "Hemingway",
          "title": "A Farewell to Arms",
          "x": 0.9046989244381625,
          "y": -3.4613074770618524
         },
         {
          "surname": "Patterson",
          "title": "Computer Architecture : A Quantitative Approach",
          "x": 6.8698059489571905,
          "y": -0.5710800956143905
         },
         {
          "surname": "Shakespeare",
          "title": "Richard III",
          "x": -3.200925161754881,
          "y": 1.0101872817818993
         },
         {
          "surname": "Dewey",
          "title": "Experience and Education",
          "x": 1.1407601779656729,
          "y": -1.298558572085598
         },
         {
          "surname": "Plato",
          "title": "Timaeus",
          "x": -2.208956090765239,
          "y": 4.05032941993402
         },
         {
          "surname": "Beckett",
          "title": "Endgame",
          "x": -4.515724217985604,
          "y": -0.6619419505738309
         },
         {
          "surname": "Behn",
          "title": "The Rover",
          "x": -2.4087754856047883,
          "y": -0.7689907201712296
         },
         {
          "surname": "Arendt",
          "title": "The Origins of Totalitarianism",
          "x": 2.8268774714404046,
          "y": 3.1365522431684605
         },
         {
          "surname": "Power",
          "title": "Selected Writings, 1877-1930",
          "x": 2.764178042419981,
          "y": 1.09932883264789
         },
         {
          "surname": "Heidegger",
          "title": "Hegel",
          "x": -0.579274614939371,
          "y": 2.9544907365237436
         },
         {
          "surname": "Calvin",
          "title": "Institutes of the Christian Religion",
          "x": 0.49885326952077685,
          "y": 4.355779385422484
         },
         {
          "surname": "Rabelais",
          "title": "Gargantua",
          "x": -3.5246189575729536,
          "y": 2.0221392778038054
         },
         {
          "surname": "Berger",
          "title": "The Developing Person",
          "x": 5.224538899112667,
          "y": -0.34570997967132777
         },
         {
          "surname": "Todaro",
          "title": "Economic Development",
          "x": 4.338567242790341,
          "y": 0.5862219015821215
         },
         {
          "surname": "Nietzsche",
          "title": "On the Genealogy of Morals",
          "x": 0.4383822569199491,
          "y": 2.651743863792845
         },
         {
          "surname": "Austen",
          "title": "Mansfield Park",
          "x": -1.8142122968002223,
          "y": -0.9138452915193089
         },
         {
          "surname": "Marius",
          "title": "A Short Guide to Writing About History",
          "x": 3.286050770765422,
          "y": -1.7827394023421768
         },
         {
          "surname": "Lenin",
          "title": "What Is to Be Done?",
          "x": 2.1660444891273536,
          "y": 3.032693978663739
         },
         {
          "surname": "Sedra",
          "title": "Microelectronic Circuits",
          "x": 6.910985752930318,
          "y": -0.44473193319557364
         },
         {
          "surname": "Mcluhan",
          "title": "Understanding Media : The Extensions of Man",
          "x": 3.555404724374692,
          "y": 0.4533166562808106
         },
         {
          "surname": "Bandura",
          "title": "Social Learning Theory",
          "x": 2.851935049966232,
          "y": -0.3984806864229584
         },
         {
          "surname": "Crystal",
          "title": "The English Language",
          "x": -1.1656212429987127,
          "y": -1.3843177599266123
         },
         {
          "surname": "Spinoza",
          "title": "Ethics",
          "x": -0.6634324287462082,
          "y": 3.605859621514867
         },
         {
          "surname": "Weston",
          "title": "A Rulebook for Arguments",
          "x": -1.4641104212604032,
          "y": 3.314919621010912
         },
         {
          "surname": "Grimm",
          "title": "Fairy Tales",
          "x": -0.5644657945787104,
          "y": -1.3888839113922529
         },
         {
          "surname": "Rousseau",
          "title": "On the Social Contract",
          "x": 0.6158160265359459,
          "y": 4.225418029179395
         },
         {
          "surname": "Eliot",
          "title": "The Mill on the Floss",
          "x": -1.6102355709384666,
          "y": -1.1481886958016032
         },
         {
          "surname": "Rosenhan",
          "title": "On Being Sane in Insane Places",
          "x": 2.7032228000144647,
          "y": 1.892260703511491
         },
         {
          "surname": "Scott",
          "title": "Gender: A Useful Category of Historical Analysis",
          "x": 2.851801001775729,
          "y": 1.0447435714792817
         },
         {
          "surname": "Crystal",
          "title": "The Cambridge Encyclopedia of Language",
          "x": -1.6288867241200387,
          "y": -0.7963512267990167
         },
         {
          "surname": "Faulkner",
          "title": "Absalom, Absalom!",
          "x": 0.20817797376555272,
          "y": -3.62440314397573
         },
         {
          "surname": "Skidmore",
          "title": "Modern Latin America",
          "x": 3.4213910379419272,
          "y": -0.04258754794838349
         },
         {
          "surname": "Ottman",
          "title": "Music for Sight Singing",
          "x": 2.888124531520989,
          "y": -1.4520060578786596
         },
         {
          "surname": "Stevens",
          "title": "TCP/IP Illustrated",
          "x": 7.110637504908255,
          "y": -1.180135563431269
         },
         {
          "surname": "Carr",
          "title": "What Is History?",
          "x": 3.271730669895704,
          "y": 0.07706272718447815
         },
         {
          "surname": "Renfrew",
          "title": "Archaeology",
          "x": -5.23328801662297,
          "y": 3.8552429616734805
         },
         {
          "surname": "Kincaid",
          "title": "A Small Place",
          "x": 0.11358836900724341,
          "y": -1.5531593927327825
         },
         {
          "surname": "Bailyn",
          "title": "The Ideological Origins of the American Revolution",
          "x": 3.906472954398485,
          "y": -4.940032507337998
         },
         {
          "surname": "Durkheim",
          "title": "The Division of Labor in Society",
          "x": 2.6839693957293154,
          "y": 2.1717063814553095
         },
         {
          "surname": "Malthus",
          "title": "An Essay on the Principle of Population",
          "x": 1.8917125522299405,
          "y": 2.9596348874052234
         },
         {
          "surname": "Ware",
          "title": "Jimmy Corrigan : The Smartest Kid on Earth",
          "x": -8.290941721530316,
          "y": -9.667950591610069
         },
         {
          "surname": "Stevenson",
          "title": "The Strange Case of Dr. Jekyll and Mr. Hyde",
          "x": -2.82454288533445,
          "y": -1.204086718263886
         },
         {
          "surname": "Kouzes",
          "title": "The Leadership Challenge",
          "x": 3.938708926220395,
          "y": -1.1801851630968727
         },
         {
          "surname": "Chaisson",
          "title": "Astronomy Today",
          "x": 7.221409494814985,
          "y": -0.11778001939823268
         },
         {
          "surname": "Stoppard",
          "title": "Rosencrantz and Guildenstern Are Dead",
          "x": -2.4078130600230954,
          "y": 0.11366763637060183
         },
         {
          "surname": "Erdrich",
          "title": "Love Medicine",
          "x": 0.9190910731165155,
          "y": -3.7575229443428952
         },
         {
          "surname": "Oppenheim",
          "title": "Questionnaire Design and Attitude Measurement",
          "x": 5.114512631117608,
          "y": -1.7876532045040525
         },
         {
          "surname": "Kierkegaard",
          "title": "Fear and Trembling",
          "x": -0.2179205934747554,
          "y": 2.730299244632117
         },
         {
          "surname": "Taylor",
          "title": "The Principles of Scientific Management",
          "x": 2.7791326718135183,
          "y": 2.947812736632718
         },
         {
          "surname": "Mankiw",
          "title": "Principles of Macroeconomics",
          "x": 5.66375353298527,
          "y": -0.04234750354531868
         },
         {
          "surname": "Kittel",
          "title": "Introduction to Solid State Physics",
          "x": 7.077133796797333,
          "y": 0.14419676415667063
         },
         {
          "surname": "Thomas",
          "title": "Do Not Go Gentle Into That Good Night :",
          "x": -5.007864023398129,
          "y": -0.5589515772816902
         },
         {
          "surname": "Burgess",
          "title": "A Clockwork Orange",
          "x": 0.18417530360715123,
          "y": -2.3779464143648097
         },
         {
          "surname": "Current",
          "title": "United States History",
          "x": 3.1649426630400015,
          "y": -1.6797991552087752
         },
         {
          "surname": "Wolf",
          "title": "Europe and the People Without History",
          "x": 2.99158197316686,
          "y": 1.3888270506147522
         },
         {
          "surname": "Ibsen",
          "title": "Hedda Gabler",
          "x": -1.4181407676232411,
          "y": -1.04483743007289
         },
         {
          "surname": "Moore",
          "title": "The Basic Practice of Statistics",
          "x": 4.637849929128721,
          "y": -0.818804979681604
         },
         {
          "surname": "Gibbon",
          "title": "Decline and Fall",
          "x": -3.689509425539513,
          "y": 2.362045492836726
         },
         {
          "surname": "Berlioz",
          "title": "Symphonie Fantastique",
          "x": 0.6045419010032163,
          "y": 1.255513277427355
         },
         {
          "surname": "Goethe",
          "title": "Werther,",
          "x": -1.197744725785285,
          "y": -0.943967158902492
         },
         {
          "surname": "Anaya",
          "title": "Bless Me, Ultima",
          "x": 1.1563800408410991,
          "y": -3.2154464570765247
         },
         {
          "surname": "Silvestri",
          "title": "Saunders Q & a Review for NCLEX-RN",
          "x": 5.7951053786958715,
          "y": -1.1703142773552855
         },
         {
          "surname": "Shakespeare",
          "title": "The Taming of the Shrew,",
          "x": -3.2018579882526574,
          "y": 0.8411173732438862
         },
         {
          "surname": "Putnam",
          "title": "Making Democracy Work : Civic Traditions in Modern Italy",
          "x": 3.2019823186997622,
          "y": 3.6135428456338285
         },
         {
          "surname": "Keynes",
          "title": "The General Theory of Employment",
          "x": 2.1595632906625752,
          "y": 2.7380097909613976
         },
         {
          "surname": "Hesiod",
          "title": "Theogony; And, Works and Days",
          "x": -5.691963948013257,
          "y": 3.983755126733982
         },
         {
          "surname": "Tolstoy",
          "title": "Anna Karenina",
          "x": 0.018461818824793638,
          "y": -2.429284729782212
         },
         {
          "surname": "Rich",
          "title": "Compulsory Heterosexuality and Lesbian Existence",
          "x": 1.9699943951749244,
          "y": 0.8496963096500018
         },
         {
          "surname": "Aristophanes",
          "title": "The Frogs",
          "x": -5.365072170052844,
          "y": 4.240915096248158
         },
         {
          "surname": "Woolf",
          "title": "Orlando",
          "x": -0.9841499626889426,
          "y": -1.7247556856541912
         },
         {
          "surname": "Sargent",
          "title": "Macroeconomic Theory",
          "x": 4.4959717587474595,
          "y": -0.09067338380902487
         },
         {
          "surname": "Stephenson",
          "title": "Snow Crash",
          "x": 0.10745807644719217,
          "y": -1.9691227435364032
         },
         {
          "surname": "Brontë",
          "title": "Wuthering Heights",
          "x": -2.3549864462950296,
          "y": -1.2607335128369315
         },
         {
          "surname": "Hwang",
          "title": "M. Butterfly",
          "x": 0.5141879490052255,
          "y": -3.8284271948925555
         },
         {
          "surname": "Hume",
          "title": "Dialogues Concerning Natural Religion",
          "x": -1.291339327343406,
          "y": 3.3917746121642174
         },
         {
          "surname": "Anthony",
          "title": "Essential Reading",
          "x": 2.897418063761339,
          "y": 1.6879322874470646
         },
         {
          "surname": "Hammersley",
          "title": "Ethnography : Principles in Practice",
          "x": 5.343097189770112,
          "y": -1.1709233167807154
         },
         {
          "surname": "Blake",
          "title": "Songs of Innocence and of Experience",
          "x": -5.264162369098004,
          "y": -0.8762925461848939
         },
         {
          "surname": "Austin",
          "title": "How to Do Things With Words",
          "x": 2.5285776382221576,
          "y": 0.2928736851194944
         },
         {
          "surname": "Addams",
          "title": "Twenty Years at Hull-House",
          "x": 2.644296951421975,
          "y": -4.544314192678884
         },
         {
          "surname": "Stallings",
          "title": "Operating Systems : Internals and Design Principles",
          "x": 7.4080088497543635,
          "y": -0.9675973252317872
         },
         {
          "surname": "Nelson",
          "title": "Lehninger Principles of Biochemistry",
          "x": 6.74859946364241,
          "y": 0.29778912867142465
         },
         {
          "surname": "Schelling",
          "title": "The Strategy of Conflict",
          "x": 4.1074373619571,
          "y": 4.9579924974142
         },
         {
          "surname": "Sterne",
          "title": "Tristram Shandy",
          "x": -1.7053626410085159,
          "y": -1.0152749960062166
         },
         {
          "surname": "World bank",
          "title": "Education",
          "x": 3.7021596386043343,
          "y": 0.649803087325626
         },
         {
          "surname": "Schildt",
          "title": "C++ : The Complete Reference",
          "x": 7.044177191194832,
          "y": -1.2810659814508625
         },
         {
          "surname": "Tacitus",
          "title": "Germania",
          "x": -4.278221356210956,
          "y": 3.0723111872352504
         },
         {
          "surname": "Spence",
          "title": "The Search for Modern China",
          "x": 3.577158655629346,
          "y": 3.700565549499683
         },
         {
          "surname": "Groves",
          "title": "Academe",
          "x": -8.265744445196582,
          "y": -9.395442027751571
         },
         {
          "surname": "Hesse",
          "title": "Siddhartha",
          "x": 0.6000123694515042,
          "y": -2.6393608763021454
         },
         {
          "surname": "Singer",
          "title": "Animal Liberation",
          "x": -0.09769215044446364,
          "y": 3.017427789316815
         },
         {
          "surname": "Twain",
          "title": "Tom Sawyer",
          "x": 0.8884073384485544,
          "y": -3.997801164208042
         },
         {
          "surname": "Kershaw",
          "title": "Hitler",
          "x": 3.6382608290850578,
          "y": 0.12025481142265303
         },
         {
          "surname": "West",
          "title": "Race Matters",
          "x": 3.2274384284791546,
          "y": 3.1548995195726093
         },
         {
          "surname": "Garrett",
          "title": "Biochemistry",
          "x": 5.953766905406909,
          "y": 0.40598470640181733
         },
         {
          "surname": "Bowles",
          "title": "The Sheltering Sky",
          "x": -7.554846938881917,
          "y": -9.436915072968302
         },
         {
          "surname": "Homer",
          "title": "Odyssey, Books 1-12",
          "x": -5.000464780361257,
          "y": 3.8503721361986423
         },
         {
          "surname": "Rawls",
          "title": "Political Liberalism",
          "x": 0.560178062045721,
          "y": 3.9459149998375653
         },
         {
          "surname": "Salkind",
          "title": "Statistics for People Who (Think They) Hate Statistics",
          "x": 4.292335802036282,
          "y": -1.4754784909234344
         },
         {
          "surname": "Momaday",
          "title": "The Way to Rainy Mountain",
          "x": 2.0407397148493427,
          "y": -4.798854974705494
         },
         {
          "surname": "Keck",
          "title": "Activists Beyond Borders : Advocacy Networks in International Politics",
          "x": 3.54763672634378,
          "y": 3.994765616696489
         },
         {
          "surname": "Oppenheim",
          "title": "Questionnaire Design, Interviewing, and Attitude Measurement",
          "x": 5.157822005721079,
          "y": -1.915982853083846
         },
         {
          "surname": "Bede",
          "title": "Ecclesiastical History",
          "x": -3.970373035291159,
          "y": 1.3130134470474961
         },
         {
          "surname": "Plato",
          "title": "Protagoras",
          "x": -2.211185372219605,
          "y": 4.055113343409558
         },
         {
          "surname": "Orwell",
          "title": "Nineteen Eighty-Four",
          "x": 0.008467189259964121,
          "y": -2.2995398895468604
         },
         {
          "surname": "Russell",
          "title": "The Problems of Philosophy",
          "x": -1.1666888331846499,
          "y": 3.2668163426780636
         },
         {
          "surname": "Lowry",
          "title": "The Giver",
          "x": 0.15371226869200938,
          "y": -2.225747693820312
         },
         {
          "surname": "Rehnquist",
          "title": "The Supreme Court",
          "x": 3.9249544992640755,
          "y": -4.368562506899828
         },
         {
          "surname": "Date",
          "title": "An Introduction to Database Systems",
          "x": 6.999075890962929,
          "y": -0.7658292733530484
         },
         {
          "surname": "Landau",
          "title": "Mechanics",
          "x": 7.105829126138329,
          "y": 0.10810769409845754
         },
         {
          "surname": "Poe",
          "title": "The Tell-Tale Heart",
          "x": 3.6239089717777837,
          "y": -6.2519723535032545
         },
         {
          "surname": "Levy",
          "title": "Small Island",
          "x": -8.096409557884149,
          "y": -9.472030959504707
         },
         {
          "surname": "Webster",
          "title": "The Duchess of Malfi",
          "x": -3.7005868799929935,
          "y": 0.8227603585135989
         },
         {
          "surname": "Stallings",
          "title": "Operating Systems",
          "x": 7.179962359966509,
          "y": -1.0223691288366847
         },
         {
          "surname": "Schein",
          "title": "Organizational Culture and Leadership",
          "x": 4.257772203321096,
          "y": 4.239182597126121
         },
         {
          "surname": "Wells",
          "title": "The War of the Worlds",
          "x": -0.347803169004154,
          "y": -1.7903230475680838
         },
         {
          "surname": "Plato",
          "title": "The Trial and Death of Socrates",
          "x": -2.3656307074144878,
          "y": 4.1581637646342005
         },
         {
          "surname": "Eliot",
          "title": "Virginia Woolf",
          "x": -2.4206217739919693,
          "y": -1.2878099555970453
         },
         {
          "surname": "Lynch",
          "title": "The Image of the City",
          "x": 2.814654049563723,
          "y": -0.2759411162865934
         },
         {
          "surname": "Shakespeare",
          "title": "Richard II",
          "x": -3.3059252452457892,
          "y": 1.033985304495867
         },
         {
          "surname": "Hobson",
          "title": "Imperialism",
          "x": 1.979946506185121,
          "y": 3.0375130995482937
         },
         {
          "surname": "Freud",
          "title": "The Uncanny",
          "x": -3.0709982558590303,
          "y": -1.0736020285076227
         },
         {
          "surname": "Tarbuck",
          "title": "Earth Science",
          "x": 4.263769222752677,
          "y": -0.7811967013036524
         },
         {
          "surname": "Cronon",
          "title": "Changes in the Land : Indians, Colonists, and the Ecology of New England",
          "x": 3.5072934453390214,
          "y": -5.182447108181297
         },
         {
          "surname": "Silberschatz",
          "title": "Database System Concepts",
          "x": 7.460357691780284,
          "y": -1.1208400229886952
         },
         {
          "surname": "Arendt",
          "title": "The Human Condition",
          "x": 0.29576604423290265,
          "y": 3.0659214975266216
         },
         {
          "surname": "Rich",
          "title": "Artificial Intelligence",
          "x": 6.76690663860789,
          "y": -0.8812738942696262
         },
         {
          "surname": "Keynes",
          "title": "The General Theory of Employment, Interest and Money",
          "x": 2.1184864062971323,
          "y": 2.688473735900386
         },
         {
          "surname": "Jackson",
          "title": "Crabgrass Frontier : The Suburbanization of the United States",
          "x": 2.719662702207476,
          "y": -3.1691925457758865
         },
         {
          "surname": "Davis",
          "title": "Life in the Iron Mills",
          "x": 3.0646434700854464,
          "y": -5.857896311237114
         },
         {
          "surname": "Handy",
          "title": "Understanding Organizations",
          "x": 3.724415576583079,
          "y": -0.6758023786580212
         },
         {
          "surname": "Moliere",
          "title": "Tartuffe",
          "x": -3.302091938938612,
          "y": 1.0677409883387539
         },
         {
          "surname": "Euripides",
          "title": "Trojan Women",
          "x": -5.360410206706279,
          "y": 4.2083526944887435
         },
         {
          "surname": "Madigan",
          "title": "Brock Biology of Microorganisms",
          "x": 5.875377910462273,
          "y": -0.08604007749311018
         },
         {
          "surname": "Federal reserve bank of minneapolis",
          "title": "Quarterly Review",
          "x": 4.588138693634966,
          "y": 0.46561536959093497
         },
         {
          "surname": "Aeschylus",
          "title": "Prometheus",
          "x": -5.365554462917652,
          "y": 4.151651188712928
         },
         {
          "surname": "Sharp",
          "title": "The Management of a Student Research Project",
          "x": 4.923679212826857,
          "y": -1.5883643862301422
         },
         {
          "surname": "Rushdie",
          "title": "The Satanic Verses",
          "x": 0.13674961139084457,
          "y": -2.1589172106955665
         },
         {
          "surname": "Sophocles",
          "title": "Oedipus at Colonus:",
          "x": -5.468346849361419,
          "y": 4.149077414383448
         },
         {
          "surname": "Grant",
          "title": "Contemporary Strategy Analysis",
          "x": 6.299252828733948,
          "y": 0.46501968398797894
         },
         {
          "surname": "Great britain",
          "title": "Chapter 17",
          "x": 2.8294078883694938,
          "y": 3.540062432715883
         },
         {
          "surname": "Reading",
          "title": "Artificial Intelligence",
          "x": 6.326430563743353,
          "y": 0.27265008956350806
         },
         {
          "surname": "Wallerstein",
          "title": "The Modern World-System",
          "x": 3.3440347810057607,
          "y": 2.7598292407526626
         },
         {
          "surname": "Locke",
          "title": "The New Negro",
          "x": 2.024495239396619,
          "y": -4.699321207859646
         },
         {
          "surname": "Dickinson",
          "title": "Selected Poems",
          "x": 2.8297865246576963,
          "y": -5.772167572684329
         },
         {
          "surname": "Goldstein",
          "title": "Classical Mechanics",
          "x": 7.224948385425015,
          "y": 0.1384168967347253
         },
         {
          "surname": "Castiglione",
          "title": "The Book of the Courtier",
          "x": -3.445718483049957,
          "y": 2.0259104049033008
         },
         {
          "surname": "Ishiguro",
          "title": "The Remains of the Day",
          "x": -1.1405262735496433,
          "y": -1.7466799087758633
         },
         {
          "surname": "Boyce",
          "title": "Elementary Differential Equations",
          "x": 6.653456796794414,
          "y": 0.3046167927833947
         },
         {
          "surname": "Walpole",
          "title": "The Castle of Otranto,",
          "x": -2.9464506101564814,
          "y": -1.1158532059693709
         },
         {
          "surname": "Thomas",
          "title": "Summa Theologiae",
          "x": -1.1373149641338995,
          "y": 3.6599581911038843
         },
         {
          "surname": "Brigham",
          "title": "Fundamentals of Financial Management",
          "x": 7.244460438208961,
          "y": -0.11237128818183269
         },
         {
          "surname": "Hemingway",
          "title": "Short Stories",
          "x": 0.8234785370565728,
          "y": -4.098782825437076
         },
         {
          "surname": "Ellis",
          "title": "His Excellency : George Washington",
          "x": -8.406171463742155,
          "y": -9.444599996056828
         },
         {
          "surname": "Hardy",
          "title": "Jude the Obscure",
          "x": -1.1442360240543263,
          "y": -1.5979119045530459
         },
         {
          "surname": "Lewin",
          "title": "Genes",
          "x": 6.411387070274227,
          "y": 0.4903724159186002
         },
         {
          "surname": "Browning",
          "title": "Aurora Leigh",
          "x": -4.714907390493357,
          "y": -0.6659509324727775
         },
         {
          "surname": "Woolfolk",
          "title": "Educational Psychology",
          "x": 4.386898276463918,
          "y": -0.843756419533037
         },
         {
          "surname": "Ray",
          "title": "Development Economics",
          "x": 4.694787047226784,
          "y": 0.2958919208847592
         },
         {
          "surname": "Hesiod",
          "title": "Works and Days ; And Theogony",
          "x": -5.639250393491377,
          "y": 3.991264675863785
         },
         {
          "surname": "York",
          "title": "National Security",
          "x": 3.931155016993869,
          "y": 4.78084565666163
         },
         {
          "surname": "Moore",
          "title": "Watchmen",
          "x": 0.4514583635705004,
          "y": -2.792746534312777
         },
         {
          "surname": "Aristotle",
          "title": "Ethics and Politics",
          "x": -1.2016450685709377,
          "y": 3.6344982119151203
         },
         {
          "surname": "Rabelais",
          "title": "Pantagruel",
          "x": -3.5497535922606316,
          "y": 2.0551249044653104
         },
         {
          "surname": "Granovetter",
          "title": "The Strength of Weak Ties",
          "x": 3.043570763047205,
          "y": 2.9038843880902605
         },
         {
          "surname": "Mozart",
          "title": "Piano Concerto : K. 491",
          "x": 0.33571157834120846,
          "y": 0.9737220350484563
         },
         {
          "surname": "Kolb",
          "title": "Experiential Learning : Experience as the Source of Learning and Development",
          "x": 4.834685480030095,
          "y": -0.15091512512851357
         },
         {
          "surname": "Popper",
          "title": "The Logic of Scientific Discovery",
          "x": 0.3089234187201241,
          "y": 2.929278761694902
         },
         {
          "surname": "Gilman",
          "title": "The Yellow Wall Paper",
          "x": 2.9460312779044946,
          "y": -5.774928088898314
         },
         {
          "surname": "Azar",
          "title": "Understanding and Using English Grammar",
          "x": 0.974336451247741,
          "y": -2.188210069952372
         },
         {
          "surname": "Eisenstein",
          "title": "The Battleship Potemkin",
          "x": 2.157792381826761,
          "y": 0.8324356046184299
         },
         {
          "surname": "Barro",
          "title": "Economic Growth",
          "x": 4.054449794157174,
          "y": 1.0079387375472524
         },
         {
          "surname": "Bizet",
          "title": "Carmen",
          "x": -2.7328161747828044,
          "y": -1.0499330558142697
         },
         {
          "surname": "Read",
          "title": "[Poetry Reading",
          "x": -4.1476639894957055,
          "y": -0.20698415402738593
         },
         {
          "surname": "Thackeray",
          "title": "Vanity Fair",
          "x": -1.754820406711785,
          "y": -0.9817677654618573
         },
         {
          "surname": "Rosen",
          "title": "Public Finance",
          "x": 4.106181063611024,
          "y": -0.623899186557032
         },
         {
          "surname": "Allison",
          "title": "Conceptual Models and the Cuban Missile Crisis",
          "x": 4.119662408975959,
          "y": 5.007002742383439
         },
         {
          "surname": "Griffiths",
          "title": "Introduction to Quantum Mechanics",
          "x": 6.887720566334872,
          "y": 0.303101862461503
         },
         {
          "surname": "Connell",
          "title": "Masculinities",
          "x": 2.459591349595948,
          "y": 0.8964680430132278
         },
         {
          "surname": "Ladefoged",
          "title": "A Course in Phonetics",
          "x": -2.535180412189345,
          "y": -1.1146517730163321
         },
         {
          "surname": "Tan",
          "title": "Mother Tongue",
          "x": 3.9159101213532264,
          "y": -5.395878261808295
         },
         {
          "surname": "Fielding",
          "title": "Joseph Andrews",
          "x": -2.2480718709057954,
          "y": -0.8623190905245836
         },
         {
          "surname": "West",
          "title": "Doing Gender",
          "x": 2.6043702663036563,
          "y": 1.7041007984830954
         },
         {
          "surname": "Wallace",
          "title": "Consider the Lobster",
          "x": -8.551607651823605,
          "y": -9.532482590629852
         },
         {
          "surname": "Doyle",
          "title": "Liberalism and World Politics",
          "x": 3.945458273538104,
          "y": 4.7280214869307375
         },
         {
          "surname": "Hamilton",
          "title": "Time Series Analysis",
          "x": 6.11155705614138,
          "y": 0.5993618002131341
         },
         {
          "surname": "Mclellan",
          "title": "Karl Marx",
          "x": 2.3359155357737635,
          "y": 2.633053348163302
         },
         {
          "surname": "Chaucer",
          "title": "Troilus :",
          "x": -3.082115998090113,
          "y": 1.2437838340309728
         },
         {
          "surname": "Jervis",
          "title": "Cooperation Under the Security Dilemma",
          "x": 4.05825618095272,
          "y": 4.919005354980534
         },
         {
          "surname": "Hawthorne",
          "title": "The Birthmark",
          "x": 3.681463042236976,
          "y": -6.233254919149111
         },
         {
          "surname": "Milton",
          "title": "Areopagitica,",
          "x": -3.731518118248355,
          "y": 1.6174955681898049
         },
         {
          "surname": "Williams",
          "title": "Wallace Stevens",
          "x": 0.0521153257612607,
          "y": -3.6652594681822546
         },
         {
          "surname": "Krasner",
          "title": "Sovereignty",
          "x": 3.885248922747767,
          "y": 4.82661049339728
         },
         {
          "surname": "Caputo",
          "title": "A Rumor of War",
          "x": 2.428499297248951,
          "y": -2.9894879584743177
         },
         {
          "surname": "Coetzee",
          "title": "Disgrace",
          "x": -0.14227242773578336,
          "y": -1.8666862121282217
         },
         {
          "surname": "Ross",
          "title": "Introduction to Probability Models",
          "x": 6.46662449741966,
          "y": -0.4018860956574981
         },
         {
          "surname": "Gilbert",
          "title": "Developmental Biology",
          "x": 3.373626606764451,
          "y": -0.46235888836631606
         },
         {
          "surname": "Meggs",
          "title": "A History of Graphic Design",
          "x": 3.4012081243105694,
          "y": -0.5846405256447491
         },
         {
          "surname": "Burney",
          "title": "Evelina",
          "x": -2.201862326527749,
          "y": -1.0916776249499025
         },
         {
          "surname": "Stewart",
          "title": "Calculus : Concepts and Contexts",
          "x": 5.85810927799397,
          "y": -0.293426868985621
         },
         {
          "surname": "Hemingway",
          "title": "In Our Time",
          "x": 0.16886727139735197,
          "y": -3.6851217447070215
         },
         {
          "surname": "Martin",
          "title": "Twentieth Century",
          "x": 1.5143707882310546,
          "y": -1.1473013989378553
         },
         {
          "surname": "Descartes",
          "title": "Discourse on Method and Meditations on First Philosophy",
          "x": -1.241810059948105,
          "y": 3.260319753919014
         },
         {
          "surname": "Harvey",
          "title": "A Brief History of Neoliberalism",
          "x": 2.7062461261523314,
          "y": 1.9404864287304302
         },
         {
          "surname": "Mcmillan",
          "title": "Writing Papers in the Biological Sciences",
          "x": 7.182950177614582,
          "y": -0.008451276600834955
         },
         {
          "surname": "Proakis",
          "title": "Digital Signal Processing",
          "x": 6.906241266772053,
          "y": -0.3543492953702128
         },
         {
          "surname": "Mearsheimer",
          "title": "The False Promise of International Institutions",
          "x": 3.9405869047486988,
          "y": 4.772872422887031
         },
         {
          "surname": "Russett",
          "title": "The Democratic Peace",
          "x": 4.09838370630072,
          "y": 4.976967700139545
         },
         {
          "surname": "Corey",
          "title": "Groups, Process and Practice",
          "x": 3.021614725482259,
          "y": -1.097803325981702
         },
         {
          "surname": "Bachelard",
          "title": "The Poetics of Space",
          "x": 1.6512530411062267,
          "y": -0.9550346269762422
         },
         {
          "surname": "Haddon",
          "title": "The Curious Incident of the Dog in the Night-Time",
          "x": 0.29595056659498803,
          "y": -2.5144140356233398
         },
         {
          "surname": "Smith",
          "title": "The Theory of Moral Sentiments",
          "x": 1.5050727466937637,
          "y": 3.468808500008517
         },
         {
          "surname": "Hochschild",
          "title": "The Second Shift",
          "x": 2.7697485428441637,
          "y": 1.6721429906669265
         },
         {
          "surname": "Gaddis",
          "title": "Starting Out With C++ : From Control Structures Through Objects",
          "x": 6.415369057205844,
          "y": -1.6599297369375536
         },
         {
          "surname": "Rosenwasser",
          "title": "Writing Analytically",
          "x": -0.5505847572030669,
          "y": -1.5747043783763768
         },
         {
          "surname": "Jarvis",
          "title": "Physical Examination & Health Assessment",
          "x": 3.045092653984625,
          "y": -1.1063415528169875
         },
         {
          "surname": "Mearsheimer",
          "title": "The Tragedy of Great Power Politics",
          "x": 4.008491145820566,
          "y": 4.846630445277062
         },
         {
          "surname": "Walker",
          "title": "Halliday & Resnick Fundamentals of Physics",
          "x": 7.437515984629603,
          "y": 0.5463659822749131
         },
         {
          "surname": "Porter",
          "title": "The Competitive Advantage of Nations",
          "x": 3.980097090134363,
          "y": 0.3217868186262622
         },
         {
          "surname": "Varian",
          "title": "Intermediate Microeconomics : A Modern Approach",
          "x": 4.727403754384078,
          "y": 0.4171467727924981
         },
         {
          "surname": "Pope",
          "title": "An Essay on Criticism",
          "x": -4.715342729709459,
          "y": -0.27926859980485574
         },
         {
          "surname": "Williams",
          "title": "Style : Ten Lessons in Clarity and Grace",
          "x": 3.501908906776119,
          "y": -2.221004273980983
         },
         {
          "surname": "Geertz",
          "title": "Deep Play: Notes on the Balinese Cockfight",
          "x": 2.7983781315434135,
          "y": 1.0679741485573009
         },
         {
          "surname": "Campbell",
          "title": "The Power of Myth",
          "x": 0.045456176814189474,
          "y": -2.730033740092215
         },
         {
          "surname": "Kennedy",
          "title": "A Guide to Econometrics",
          "x": 5.080452191278197,
          "y": -0.09085466640209108
         },
         {
          "surname": "Guyton",
          "title": "Textbook of Medical Physiology",
          "x": 4.732634300505824,
          "y": -0.5602833096414436
         },
         {
          "surname": "Gramsci",
          "title": "From the 'Prison Notebooks'",
          "x": 2.61512604033794,
          "y": 2.04548960272649
         },
         {
          "surname": "Huntington",
          "title": "Political Order in Changing Societies,",
          "x": 3.216010232243153,
          "y": 3.024874692615784
         },
         {
          "surname": "Aeschylus",
          "title": "The Libation Bearers",
          "x": -5.567313311341389,
          "y": 4.175277780825017
         },
         {
          "surname": "Hillier",
          "title": "Introduction to Operations Research",
          "x": 6.295216458284539,
          "y": 0.13057408165918843
         },
         {
          "surname": "Shakespeare",
          "title": "Measure for Measure,",
          "x": -3.2060498496511087,
          "y": 0.8540841718413491
         },
         {
          "surname": "Suetonius",
          "title": "The Caesars",
          "x": -4.645181370997628,
          "y": 3.5193514790443414
         },
         {
          "surname": "Arnold",
          "title": "Culture and Anarchy",
          "x": -4.6106905368916005,
          "y": -0.8534693256690473
         },
         {
          "surname": "Esping-andersen",
          "title": "The Three Worlds of Welfare Capitalism",
          "x": 3.4173361589800573,
          "y": 2.7797167255593203
         },
         {
          "surname": "Wood",
          "title": "The Radicalism of the American Revolution",
          "x": 3.8214218874193966,
          "y": -5.145154054202351
         },
         {
          "surname": "Woodward",
          "title": "Florida State University",
          "x": 5.057799289093877,
          "y": 0.3026606875901799
         },
         {
          "surname": "Coase",
          "title": "The Nature of the Firm",
          "x": 3.339985906727525,
          "y": 3.164986729047183
         },
         {
          "surname": "Cleveland",
          "title": "A History of the Modern Middle East",
          "x": 3.3684089686968317,
          "y": 0.09960776250799948
         },
         {
          "surname": "Moore",
          "title": "Introduction to the Practice of Statistics",
          "x": 5.02132138359516,
          "y": -0.5146454611525363
         },
         {
          "surname": "Shaara",
          "title": "The Killer Angels",
          "x": 1.9886519002764977,
          "y": -3.321453528158207
         },
         {
          "surname": "Wharton",
          "title": "The Age of Innocence",
          "x": 0.8046807059171431,
          "y": -4.129352595794712
         },
         {
          "surname": "Sophocles",
          "title": "Electra",
          "x": -5.460682627930164,
          "y": 4.232689167405023
         },
         {
          "surname": "Hill",
          "title": "International Business : Competing in the Global Marketplace",
          "x": 3.901478912407501,
          "y": -2.203946258123415
         },
         {
          "surname": "Kneale",
          "title": "English Passengers",
          "x": -8.028993275837662,
          "y": -9.53210206810219
         },
         {
          "surname": "Esping-andersen",
          "title": "The Three Worlds of Capitalism",
          "x": 3.3577670350598443,
          "y": 2.8825384935815617
         },
         {
          "surname": "Fromkin",
          "title": "An Introduction to Language",
          "x": -1.221570850614359,
          "y": -1.3028221097091917
         },
         {
          "surname": "Collins",
          "title": "The Woman in White",
          "x": -1.462731793641307,
          "y": -1.5382087034867098
         },
         {
          "surname": "Fussell",
          "title": "The Great War and Modern Memory",
          "x": 1.9411069130300407,
          "y": -0.3612798774937555
         },
         {
          "surname": "Alberts",
          "title": "Essential Cell Biology",
          "x": 5.968234768934039,
          "y": -0.23292990813996
         },
         {
          "surname": "James",
          "title": "The Will to Believe :",
          "x": -0.7927571323109712,
          "y": 2.973826180039491
         },
         {
          "surname": "Beauchamp",
          "title": "Principles of Biomedical Ethics",
          "x": 2.805349604805216,
          "y": 0.12360523313142464
         },
         {
          "surname": "Alexie",
          "title": "The Lone Ranger and Tonto Fistfight in Heaven",
          "x": 1.4635321874374656,
          "y": -3.8802273098419207
         },
         {
          "surname": "Pound",
          "title": "In a Station of the Metro",
          "x": 3.512656295550451,
          "y": -6.264876390295108
         },
         {
          "surname": "Bowling",
          "title": "Research Methods in Health : Investigating Health and Health Services",
          "x": 5.867308251116673,
          "y": -1.4323876565015343
         },
         {
          "surname": "Rousseau",
          "title": "Discourse on the Origin of Inequality",
          "x": 0.750923896636942,
          "y": 4.124267545928745
         },
         {
          "surname": "Larsen",
          "title": "Quicksand",
          "x": 0.8073047308887883,
          "y": -3.589328451278581
         },
         {
          "surname": "Yeats",
          "title": "Easter, 1916",
          "x": -4.796284167967314,
          "y": -0.7332165633265036
         },
         {
          "surname": "Jackson",
          "title": "Classical Electrodynamics",
          "x": 6.82201428945433,
          "y": 0.0693156499421063
         },
         {
          "surname": "Dante alighieri",
          "title": "Inferno",
          "x": -3.871092415351893,
          "y": 2.4502776620074087
         },
         {
          "surname": "Black",
          "title": "Cambridge University Press, 1584-1984",
          "x": 3.329282244357987,
          "y": 0.008195252196830042
         },
         {
          "surname": "Stone",
          "title": "Policy Paradox : The Art of Political Decision Making",
          "x": 3.4803136113913324,
          "y": -2.2250156733745152
         },
         {
          "surname": "Hegel",
          "title": "Philosophy of Right",
          "x": 0.8858933806052003,
          "y": 3.9558011626783562
         },
         {
          "surname": "Conrad",
          "title": "Typhoon",
          "x": -8.009309770620026,
          "y": -9.464335120165691
         },
         {
          "surname": "Mendelsohn",
          "title": "The Lost : A Search for Six of Six Million",
          "x": -8.607853008454018,
          "y": -9.573029275478584
         },
         {
          "surname": "Mozart",
          "title": "Symphony No. 28",
          "x": 0.28008141169407974,
          "y": 0.9186842415616541
         },
         {
          "surname": "Baudrillard",
          "title": "Simulacra and Simulation",
          "x": 2.371108700257157,
          "y": 0.47517251833350277
         },
         {
          "surname": "Stoppard",
          "title": "Jumpers",
          "x": -8.104334776144436,
          "y": -9.534275672837243
         },
         {
          "surname": "Mahler",
          "title": "Symphony No. 8",
          "x": 0.5612512489862955,
          "y": 1.1390907827775556
         },
         {
          "surname": "Campbell",
          "title": "Essential Biology",
          "x": 7.15801731223058,
          "y": 0.055196991296634634
         },
         {
          "surname": "Turgenev",
          "title": "Fathers and Sons",
          "x": 0.05548304223759276,
          "y": -2.3579961564713776
         },
         {
          "surname": "Herr",
          "title": "Dispatches",
          "x": 1.0171229396762487,
          "y": -4.246868920131334
         },
         {
          "surname": "Boyce",
          "title": "Elementary Differential Equations and Boundary Value Problems",
          "x": 6.627394131642511,
          "y": 0.21555162136639708
         },
         {
          "surname": "Aronson",
          "title": "Social Psychology",
          "x": 4.12447018662189,
          "y": -0.6865865393347833
         },
         {
          "surname": "Kant",
          "title": "Critique of Judgment",
          "x": 0.22862191494441264,
          "y": 2.337344277580895
         },
         {
          "surname": "Tolstoy",
          "title": "War and Peace",
          "x": -0.18748382694802979,
          "y": -2.155849434704965
         },
         {
          "surname": "Eckel",
          "title": "Thinking in Java",
          "x": 6.976815972874479,
          "y": -1.4166376998300367
         },
         {
          "surname": "Livy",
          "title": "The History of Rome",
          "x": -4.569994892740613,
          "y": 3.426155709328186
         },
         {
          "surname": "Trotsky",
          "title": "Stalin",
          "x": 2.213019695469604,
          "y": 3.2852504499910626
         },
         {
          "surname": "Ching",
          "title": "Architecture : Form, Space & Order",
          "x": 5.980224260711455,
          "y": 0.5466305106932335
         },
         {
          "surname": "Sartre",
          "title": "Merleau-Ponty",
          "x": -0.7850824478561029,
          "y": 3.214687171282716
         },
         {
          "surname": "Rudestam",
          "title": "Surviving Your Dissertation : A Comprehensive Guide to Content and Process",
          "x": 4.869137949224354,
          "y": -1.9940975587179484
         },
         {
          "surname": "Jackson",
          "title": "Gods in Alabama",
          "x": -8.406263695378838,
          "y": -9.517253088464923
         },
         {
          "surname": "Allison",
          "title": "Essence of Decision; Explaining the Cuban Missile Crisis",
          "x": 4.218717445326916,
          "y": 4.824269916206033
         },
         {
          "surname": "Carlson",
          "title": "Physiology of Behavior",
          "x": 3.422797770793116,
          "y": -0.8471360765946776
         },
         {
          "surname": "Yeats",
          "title": "The Lake Isle of Innisfree,",
          "x": -5.2595629754505415,
          "y": -0.6977011134283223
         },
         {
          "surname": "Becker",
          "title": "Writing for Social Scientists : How to Start and Finish Your Thesis, Book, or Article",
          "x": 3.4760673783371736,
          "y": -1.8905914262848327
         },
         {
          "surname": "Soto",
          "title": "The Mystery of Capital",
          "x": 3.3249778946246575,
          "y": 3.441130729055362
         },
         {
          "surname": "Creme",
          "title": "Writing at University : A Guide for Students",
          "x": 4.967978051360362,
          "y": -1.0834876960895965
         },
         {
          "surname": "Gibbon",
          "title": "The Decline and Fall of the Roman Empire",
          "x": -3.498920716882519,
          "y": 2.182615493302122
         },
         {
          "surname": "Giddens",
          "title": "The Consequences of Modernity",
          "x": 2.755750105588171,
          "y": 1.62305813265305
         },
         {
          "surname": "Engels",
          "title": "The Condition of the Working Class in England",
          "x": 1.8729411793016528,
          "y": 2.467973809453788
         },
         {
          "surname": "Sturken",
          "title": "Practices of Looking : An Introduction to Visual Culture",
          "x": 2.644426258663143,
          "y": 0.043344113360670955
         },
         {
          "surname": "Hazzard",
          "title": "The Great Fire",
          "x": -8.177184448186036,
          "y": -9.438589893899433
         },
         {
          "surname": "Lenin",
          "title": "The Russian Revolution,",
          "x": 2.4000556646885203,
          "y": 2.1499767469036812
         },
         {
          "surname": "Henry",
          "title": "Civil War 2000",
          "x": 2.579601456751165,
          "y": -4.7211279112411475
         },
         {
          "surname": "Gilroy",
          "title": "The Black Atlantic : Modernity and Double Consciousness",
          "x": 2.1539073027787654,
          "y": 0.6429181497348029
         },
         {
          "surname": "Smith",
          "title": "White Teeth",
          "x": -0.08932787622493148,
          "y": -1.8018524009154715
         },
         {
          "surname": "Watson",
          "title": "Behaviorism,",
          "x": 0.6059022028548724,
          "y": 2.012024298593138
         },
         {
          "surname": "Preece",
          "title": "Human-Computer Interaction",
          "x": 5.658542919485004,
          "y": -0.9307796140367649
         },
         {
          "surname": "Fukuyama",
          "title": "The End of History and the Last Man",
          "x": 3.3993752394805727,
          "y": 3.6781916618490715
         },
         {
          "surname": "Lannon",
          "title": "Technical Communication",
          "x": 5.047557005725912,
          "y": -1.520172216893638
         },
         {
          "surname": "Dewey",
          "title": "William James",
          "x": -0.19444865684841475,
          "y": 2.7162336293889084
         },
         {
          "surname": "Smith",
          "title": "New Books",
          "x": 3.3916588912933685,
          "y": -0.08003741065939594
         },
         {
          "surname": "Poe",
          "title": "The Purloined Letter",
          "x": 3.5311978221034726,
          "y": -6.061000322137214
         },
         {
          "surname": "Hooks",
          "title": "Transgress",
          "x": 1.9368989017673628,
          "y": -0.76102956425918
         },
         {
          "surname": "Ayer",
          "title": "Language, Truth and Logic",
          "x": -0.8650969320381657,
          "y": 3.162662128364623
         },
         {
          "surname": "Goldstein",
          "title": "International Relations",
          "x": 4.199043113175473,
          "y": 4.90179632988459
         },
         {
          "surname": "Davis",
          "title": "City of Quartz : Excavating the Future in Los Angeles",
          "x": 2.7045839385658232,
          "y": 1.070554624305994
         },
         {
          "surname": "Petterson",
          "title": "In the Wake",
          "x": -8.501083892843766,
          "y": -9.618781914794308
         },
         {
          "surname": "Flanagan",
          "title": "Java in a Nutshell",
          "x": 5.870856297568231,
          "y": -1.213694702378176
         },
         {
          "surname": "Whitney",
          "title": "Understanding Nutrition",
          "x": 3.815063404432372,
          "y": -0.6905428721044382
         },
         {
          "surname": "Brooks",
          "title": "We Real Cool",
          "x": 3.518187809830801,
          "y": -6.202452438751261
         },
         {
          "surname": "Lyotard",
          "title": "The Postmodern Condition : A Report on Knowledge",
          "x": 2.4066514271662838,
          "y": 0.8570252152236941
         },
         {
          "surname": "Rudin",
          "title": "Principles of Mathematical Analysis",
          "x": 6.545564099342036,
          "y": 0.5641300444010017
         },
         {
          "surname": "Chaplin",
          "title": "Modern Times",
          "x": 1.1042442753237105,
          "y": 0.5209742956437629
         },
         {
          "surname": "Lahiri",
          "title": "Interpreter of Maladies",
          "x": 0.14287856327012247,
          "y": -3.3200788797027467
         },
         {
          "surname": "Sophocles",
          "title": "The Three Theban Plays",
          "x": -5.1292639639393025,
          "y": 3.9853636039379072
         },
         {
          "surname": "Comer",
          "title": "Computer Networks and Internets",
          "x": 7.139222324518809,
          "y": -1.0141334470987797
         },
         {
          "surname": "Nietzsche",
          "title": "Thus Spoke Zarathustra",
          "x": 0.6428936685250317,
          "y": 2.705128252923321
         },
         {
          "surname": "Dexter",
          "title": "Paris Trout",
          "x": -8.17109500234392,
          "y": -9.49979234693864
         },
         {
          "surname": "Howell",
          "title": "Statistical Methods for Psychology",
          "x": 6.026705617141069,
          "y": 0.4957365600385121
         },
         {
          "surname": "Hoffman",
          "title": "Inside Terrorism",
          "x": 4.0773127126833675,
          "y": 4.883418911489832
         },
         {
          "surname": "Anderson",
          "title": "Winesburg, Ohio",
          "x": 1.1164453453598737,
          "y": -4.248950938900808
         },
         {
          "surname": "Smith",
          "title": "An Inquiry Into the Nature and Causes of the Wealth of Nations",
          "x": 2.049053188218796,
          "y": 3.246789301838606
         },
         {
          "surname": "James",
          "title": "The Principles of Psychology,",
          "x": -0.0918834220186046,
          "y": 2.459975386491208
         },
         {
          "surname": "Gilpin",
          "title": "The Political Economy of International Relations",
          "x": 3.737375288635698,
          "y": 4.20158225508738
         },
         {
          "surname": "Garrels",
          "title": "Naked in Baghdad",
          "x": -8.59786101232568,
          "y": -9.602319098660258
         },
         {
          "surname": "Mas-colell",
          "title": "Microeconomic Theory",
          "x": 6.926341733033198,
          "y": 0.12408735850927795
         },
         {
          "surname": "Tirole",
          "title": "The Theory of Industrial Organization",
          "x": 4.7796845658292275,
          "y": 0.2251242511752124
         },
         {
          "surname": "Read",
          "title": "Mark Twain and I,",
          "x": 2.1062263181571503,
          "y": -4.829075764362427
         },
         {
          "surname": "Rowson",
          "title": "Charlotte Temple",
          "x": 2.7816764561811675,
          "y": -5.62005970400796
         },
         {
          "surname": "Rodrik",
          "title": "Has Globalization Gone Too Far?",
          "x": 3.475497077075104,
          "y": 3.0187437810950932
         },
         {
          "surname": "Cialdini",
          "title": "Influence : Science and Practice",
          "x": 4.224354091069258,
          "y": 4.473161946663039
         },
         {
          "surname": "Keohane",
          "title": "Power and Interdependence",
          "x": 3.978581816543935,
          "y": 4.724235193652374
         },
         {
          "surname": "Mcphee",
          "title": "Looking for a Ship",
          "x": -8.379898197922367,
          "y": -9.402219614315891
         },
         {
          "surname": "Lukes",
          "title": "Power : A Radical View",
          "x": 3.3478784581756122,
          "y": 2.8913255906023974
         },
         {
          "surname": "Kalat",
          "title": "Biological Psychology",
          "x": 3.1690486255323247,
          "y": -0.4522038991299121
         },
         {
          "surname": "Bates",
          "title": "A Guide to Physical Examination",
          "x": 3.4752416758437423,
          "y": -0.5868512649151059
         },
         {
          "surname": "Skoog",
          "title": "Principles of Instrumental Analysis",
          "x": 4.025995368018117,
          "y": -0.7915101335249449
         },
         {
          "surname": "Allen",
          "title": "Without Feathers",
          "x": -8.343136355307916,
          "y": -9.454456584762584
         },
         {
          "surname": "Castro",
          "title": "HTML 4 for the World Wide Web",
          "x": 5.275394465825119,
          "y": -0.9398926186031058
         },
         {
          "surname": "Chalmers",
          "title": "What Is This Thing Called Science?",
          "x": 4.678230735645231,
          "y": 0.2154037905034599
         },
         {
          "surname": "Anderson",
          "title": "The Fall of Baghdad",
          "x": -8.632639827118487,
          "y": -9.626628107451289
         },
         {
          "surname": "Allende",
          "title": "The House of the Spirits",
          "x": 0.5263072804063085,
          "y": -2.740350273926095
         },
         {
          "surname": "Aslam",
          "title": "Maps for Lost Lovers",
          "x": -8.354374729656135,
          "y": -9.524719766707832
         },
         {
          "surname": "Lay",
          "title": "Linear Algebra and Its Applications",
          "x": 6.871201154357138,
          "y": -0.9759684964263162
         },
         {
          "surname": "Nagel",
          "title": "What Is It Like to Be a Bat?",
          "x": -1.1340556816202558,
          "y": 3.1904442668321678
         },
         {
          "surname": "Lightbown",
          "title": "How Languages Are Learned",
          "x": -1.7826018475179402,
          "y": -1.0786702834707105
         },
         {
          "surname": "Nielsen",
          "title": "Designing Web Usability",
          "x": 5.184831642385344,
          "y": -0.695740938240502
         },
         {
          "surname": "Holman",
          "title": "A Handbook to Literature",
          "x": -4.106234675966003,
          "y": -0.37424656265461853
         },
         {
          "surname": "Burden",
          "title": "Numerical Analysis",
          "x": 6.115153243435079,
          "y": 0.547148097162624
         },
         {
          "surname": "Euripides",
          "title": "Alcestis",
          "x": -5.497261017554691,
          "y": 4.175090504285109
         },
         {
          "surname": "Dante alighieri",
          "title": "The Comedy",
          "x": -3.8217166417566713,
          "y": 2.409528587189228
         },
         {
          "surname": "Calvino",
          "title": "Invisible Cities",
          "x": 0.07566828534630879,
          "y": -1.7186495958851455
         },
         {
          "surname": "Dante alighieri",
          "title": "The Divine Comedy",
          "x": -3.7723976334013565,
          "y": 2.3199260651645086
         },
         {
          "surname": "Barker",
          "title": "Regeneration",
          "x": -0.7278503490599908,
          "y": -1.705502809115357
         },
         {
          "surname": "Eliot",
          "title": "Silas Marner,",
          "x": -2.0478807737027585,
          "y": -1.0614761239258983
         },
         {
          "surname": "Audesirk",
          "title": "Life on Earth",
          "x": 5.914019619564586,
          "y": -0.19249562483623445
         },
         {
          "surname": "Pater",
          "title": "The Renaissance",
          "x": -4.741740303737867,
          "y": -0.778319740951311
         },
         {
          "surname": "Tversky",
          "title": "Judgment Under Uncertainty: Heuristics and Biases",
          "x": 3.9594619713356485,
          "y": -1.9903375389993714
         },
         {
          "surname": "Bevington",
          "title": "Shakespeare",
          "x": -2.353055918489783,
          "y": 0.07021102142569005
         },
         {
          "surname": "Baum",
          "title": "The Wizard of Oz",
          "x": -0.4468893668725051,
          "y": -2.038535975616434
         },
         {
          "surname": "Kripke",
          "title": "Naming and Necessity",
          "x": -0.6675017917313363,
          "y": 2.9276779603738268
         },
         {
          "surname": "Crane",
          "title": "Maggie, a Girl of the Streets",
          "x": 1.8801904468502875,
          "y": -4.692975446470536
         },
         {
          "surname": "Takaki",
          "title": "A Different Mirror : A History of Multicultural America",
          "x": 0.08347008362554258,
          "y": -1.241007926367875
         },
         {
          "surname": "Milton",
          "title": "Paradise Lost. Books 1-2",
          "x": -4.070500774946218,
          "y": 1.010750653483789
         },
         {
          "surname": "Cixous",
          "title": "The Laugh of the Medusa",
          "x": 1.3375415745976797,
          "y": 1.0849769012511077
         },
         {
          "surname": "Thomas",
          "title": "The American Revolution",
          "x": 3.9504703553156384,
          "y": -4.956241888874459
         },
         {
          "surname": "Snow",
          "title": "The Two Cultures",
          "x": 1.4033804411344792,
          "y": -1.239805395613741
         },
         {
          "surname": "Ostrom",
          "title": "Governing the Commons : The Evolution of Institutions for Collective Action",
          "x": 3.534485461016888,
          "y": 3.0614921242366426
         },
         {
          "surname": "Heti",
          "title": "Ticknor",
          "x": -8.58100338185365,
          "y": -9.605591713775318
         },
         {
          "surname": "Lewicki",
          "title": "Negotiation",
          "x": 4.070902273183008,
          "y": -2.0422231786184217
         },
         {
          "surname": "Chandler",
          "title": "The Big Sleep",
          "x": 0.4630555160999206,
          "y": -2.881042823020332
         },
         {
          "surname": "Aesop",
          "title": "Fables",
          "x": -4.4045960452442765,
          "y": 3.186762481421822
         },
         {
          "surname": "Faulkner",
          "title": "Light in August",
          "x": 0.851969191720368,
          "y": -3.8444250369989663
         },
         {
          "surname": "Mcgahan",
          "title": "The White Earth",
          "x": -8.525766317787738,
          "y": -9.588823127547466
         },
         {
          "surname": "Coleridge",
          "title": "Biographia Literaria,",
          "x": -5.094896403556172,
          "y": -1.0138057202782194
         },
         {
          "surname": "Sedgwick",
          "title": "Epistemology of the Closet",
          "x": 1.5838742369315715,
          "y": 0.7509755803212936
         },
         {
          "surname": "Durkheim",
          "title": "The Rules of Sociological Method",
          "x": 2.680093143941279,
          "y": 2.0287214395745474
         },
         {
          "surname": "Blake",
          "title": "The Marriage of Heaven and Hell",
          "x": -5.046401295906653,
          "y": -0.9226339459429644
         },
         {
          "surname": "Lewis",
          "title": "Mere Christianity",
          "x": 1.1204748651315208,
          "y": -1.0495223995164908
         },
         {
          "surname": "New york (state)",
          "title": "Laws",
          "x": -3.604740466436278,
          "y": 2.10839506462133
         },
         {
          "surname": "Locke",
          "title": "A Letter Concerning Toleration",
          "x": 0.5834432630412314,
          "y": 4.307297014327785
         },
         {
          "surname": "Dexter",
          "title": "Brotherly Love",
          "x": -8.324190393998755,
          "y": -9.428753869040042
         },
         {
          "surname": "Weir",
          "title": "Thomas' Calculus",
          "x": 7.161568483946926,
          "y": -0.19258020573809773
         },
         {
          "surname": "Weber",
          "title": "Politics as a Vocation",
          "x": 3.0737938701736716,
          "y": 3.5629134816741423
         },
         {
          "surname": "Hawthorne",
          "title": "The House of the Seven Gables",
          "x": 1.9273932666412028,
          "y": -4.786844182666711
         },
         {
          "surname": "Williams",
          "title": "Keywords : A Vocabulary of Culture and Society",
          "x": 2.6196055440258728,
          "y": 0.9986804401769176
         },
         {
          "surname": "Lovins",
          "title": "Natural Capitalism",
          "x": 2.9521145894193057,
          "y": 1.2402645565694312
         }
        ]
       },
       "encoding": {
        "text": {
         "field": "surname",
         "type": "nominal"
        },
        "tooltip": {
         "field": "title",
         "type": "nominal"
        },
        "x": {
         "field": "x",
         "type": "quantitative"
        },
        "y": {
         "field": "y",
         "type": "quantitative"
        }
       },
       "height": 700,
       "mark": "text",
       "selection": {
        "selector031": {
         "bind": "scales",
         "encodings": [
          "x",
          "y"
         ],
         "mark": {
          "fill": "#333",
          "fillOpacity": 0.125,
          "stroke": "white"
         },
         "on": "[mousedown, window:mouseup] > window:mousemove!",
         "resolve": "global",
         "translate": "[mousedown, window:mouseup] > window:mousemove!",
         "type": "interval",
         "zoom": "wheel!"
        }
       },
       "width": 1000
      },
      "image/png": "[encoded data removed]",
      "text/plain": [
       "<VegaLite 2 object>\n",
       "\n",
       "If you see this message, it means the renderer has not been properly enabled\n",
       "for the frontend that you are using. For more information, see\n",
       "https://altair-viz.github.io/user_guide/troubleshooting.html\n"
      ]
     },
     "execution_count": 173,
     "metadata": {},
     "output_type": "execute_result"
    }
   ],
   "source": [
    "chart = make_chart(embedding)\n",
    "chart.interactive()"
   ]
  },
  {
   "cell_type": "code",
   "execution_count": null,
   "metadata": {},
   "outputs": [],
   "source": []
  }
 ],
 "metadata": {
  "kernelspec": {
   "display_name": "Python 3",
   "language": "python",
   "name": "python3"
  },
  "language_info": {
   "codemirror_mode": {
    "name": "ipython",
    "version": 3
   },
   "file_extension": ".py",
   "mimetype": "text/x-python",
   "name": "python",
   "nbconvert_exporter": "python",
   "pygments_lexer": "ipython3",
   "version": "3.6.5"
  }
 },
 "nbformat": 4,
 "nbformat_minor": 2
}
